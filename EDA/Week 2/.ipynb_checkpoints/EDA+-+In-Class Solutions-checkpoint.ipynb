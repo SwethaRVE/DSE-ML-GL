{
 "cells": [
  {
   "cell_type": "markdown",
   "metadata": {
    "id": "vDv5euLxBiCS"
   },
   "source": [
    "<table align=\"center\" width=100%>\n",
    "    <tr>\n",
    "        <td width=\"20%\">\n",
    "            <img src=\"GL-2.png\">\n",
    "        </td>\n",
    "        <td>\n",
    "            <div align=\"center\">\n",
    "                <font color=\"#21618C\" size=8px>\n",
    "                    <b> Inclass - Lab <br>(Week-2)\n",
    "                    </b>\n",
    "                </font>\n",
    "            </div>\n",
    "        </td>\n",
    "    </tr>\n",
    "</table>"
   ]
  },
  {
   "cell_type": "markdown",
   "metadata": {
    "id": "H3Xs_gqHBiCV"
   },
   "source": [
    "### About the data set (Detected Cases of Malaria)\n",
    "\n",
    "This dataset consists of data for countries with an active malaria outbreak.\n",
    "<br>\n",
    "\n",
    "Attribute Information:\n",
    "\n",
    "**Cases_Guinea**: Number of cases of malaria reported from Guinea\n",
    "\n",
    "**Cases_Liberia**: Number of cases of malaria reported from Liberia\n",
    "\n",
    "**Cases_SierraLeone**: Number of cases of malaria reported from Sierra Leone\n",
    "\n",
    "**Cases_Nigeria**: Number of cases of malaria reported from Nigeria\n",
    "\n",
    "**Cases_Senegal**: Number of cases of malaria reported from Senegal\n",
    "\n",
    "**Cases_UnitedStates**: Number of cases of malaria reported from the United States of America\n",
    "\n",
    "**Cases_Spain**: Number of cases of malaria reported from Spain\n",
    "\n",
    "**Cases_Mali**: Number of cases of malaria reported from Mali\n",
    "\n",
    "**Deaths_Guinea**: Number of deaths reported out of the detected cases of malaria from Guinea\n",
    "\n",
    "**Deaths_Liberia**: Number of deaths reported out of the detected cases of malaria from Liberia\n",
    "\n",
    "**Deaths_SierraLeone**: Number of deaths reported out of the detected cases of malaria from Sierra Leone\n",
    "\n",
    "**Deaths_Nigeria**: Number of deaths reported out of the detected cases of malaria from Nigeria\n",
    "\n",
    "**Deaths_Senegal**: Number of deaths reported out of the detected cases of malaria from Senegal\n",
    "\n",
    "**Deaths_UnitedStates**: Number of deaths reported out of the detected cases of malaria from the United States of America\n",
    "\n",
    "**Deaths_Spain**: Number of deaths reported out of the detected cases of malaria from Spain\n",
    "\n",
    "**Deaths_Mali**: Number of deaths reported out of the detected cases of malaria from Mali"
   ]
  },
  {
   "cell_type": "markdown",
   "metadata": {
    "id": "6P-j65XWBiCW"
   },
   "source": [
    "##  Table of Content\n",
    "\n",
    "1. **[Missing Values Detection](#msv)**\n",
    "2. **[Handling Missing Values](#hmsv)**\n",
    "3. **[Outlier Detection Techniques](#out)**\n",
    "4. **[Treatment of Outliers](#odt)**\n",
    "5. **[Feature Engineering](#fe)**\n",
    "6. **[Train-Test Split](#split)**"
   ]
  },
  {
   "cell_type": "markdown",
   "metadata": {
    "id": "YCeOFCNpBiCW"
   },
   "source": [
    "**Import the required libraries**"
   ]
  },
  {
   "cell_type": "code",
   "execution_count": null,
   "metadata": {
    "id": "WiQbf_RGBiCX"
   },
   "outputs": [],
   "source": [
    "# import pandas\n",
    "import pandas as pd\n",
    "\n",
    "# import numpy\n",
    "import numpy as np\n",
    "\n",
    "# import matplotlib.pyplot\n",
    "import matplotlib.pyplot as plt\n",
    "\n",
    "# import seaborn \n",
    "import seaborn as sns\n",
    "\n",
    "# to suppress the warnings\n",
    "import warnings\n",
    "warnings.filterwarnings('ignore')"
   ]
  },
  {
   "cell_type": "markdown",
   "metadata": {
    "id": "d23nQXCVBiCX"
   },
   "source": [
    "#### Load the malaria dataset and display the first five records (Use for section 1, 2)"
   ]
  },
  {
   "cell_type": "code",
   "execution_count": null,
   "metadata": {
    "id": "BWmNFP2VBiCY",
    "outputId": "05064de4-71d0-4146-85ad-ec927de1e0ad"
   },
   "outputs": [
    {
     "data": {
      "text/html": [
       "<div>\n",
       "<style scoped>\n",
       "    .dataframe tbody tr th:only-of-type {\n",
       "        vertical-align: middle;\n",
       "    }\n",
       "\n",
       "    .dataframe tbody tr th {\n",
       "        vertical-align: top;\n",
       "    }\n",
       "\n",
       "    .dataframe thead th {\n",
       "        text-align: right;\n",
       "    }\n",
       "</style>\n",
       "<table border=\"1\" class=\"dataframe\">\n",
       "  <thead>\n",
       "    <tr style=\"text-align: right;\">\n",
       "      <th></th>\n",
       "      <th>Cases_Guinea</th>\n",
       "      <th>Cases_Liberia</th>\n",
       "      <th>Cases_SierraLeone</th>\n",
       "      <th>Cases_Nigeria</th>\n",
       "      <th>Cases_Senegal</th>\n",
       "      <th>Cases_UnitedStates</th>\n",
       "      <th>Cases_Spain</th>\n",
       "      <th>Cases_Mali</th>\n",
       "      <th>Deaths_Guinea</th>\n",
       "      <th>Deaths_Liberia</th>\n",
       "      <th>Deaths_SierraLeone</th>\n",
       "      <th>Deaths_Nigeria</th>\n",
       "      <th>Deaths_Senegal</th>\n",
       "      <th>Deaths_UnitedStates</th>\n",
       "      <th>Deaths_Spain</th>\n",
       "      <th>Deaths_Mali</th>\n",
       "    </tr>\n",
       "  </thead>\n",
       "  <tbody>\n",
       "    <tr>\n",
       "      <th>0</th>\n",
       "      <td>2776.0</td>\n",
       "      <td>NaN</td>\n",
       "      <td>10030.0</td>\n",
       "      <td>NaN</td>\n",
       "      <td>NaN</td>\n",
       "      <td>NaN</td>\n",
       "      <td>NaN</td>\n",
       "      <td>NaN</td>\n",
       "      <td>1786.0</td>\n",
       "      <td>NaN</td>\n",
       "      <td>2977.0</td>\n",
       "      <td>NaN</td>\n",
       "      <td>NaN</td>\n",
       "      <td>NaN</td>\n",
       "      <td>NaN</td>\n",
       "      <td>NaN</td>\n",
       "    </tr>\n",
       "    <tr>\n",
       "      <th>1</th>\n",
       "      <td>2775.0</td>\n",
       "      <td>NaN</td>\n",
       "      <td>9780.0</td>\n",
       "      <td>NaN</td>\n",
       "      <td>NaN</td>\n",
       "      <td>NaN</td>\n",
       "      <td>NaN</td>\n",
       "      <td>NaN</td>\n",
       "      <td>1781.0</td>\n",
       "      <td>NaN</td>\n",
       "      <td>2943.0</td>\n",
       "      <td>NaN</td>\n",
       "      <td>NaN</td>\n",
       "      <td>NaN</td>\n",
       "      <td>NaN</td>\n",
       "      <td>NaN</td>\n",
       "    </tr>\n",
       "    <tr>\n",
       "      <th>2</th>\n",
       "      <td>2769.0</td>\n",
       "      <td>8166.0</td>\n",
       "      <td>9722.0</td>\n",
       "      <td>NaN</td>\n",
       "      <td>NaN</td>\n",
       "      <td>20.0</td>\n",
       "      <td>NaN</td>\n",
       "      <td>NaN</td>\n",
       "      <td>1767.0</td>\n",
       "      <td>3496.0</td>\n",
       "      <td>2915.0</td>\n",
       "      <td>NaN</td>\n",
       "      <td>NaN</td>\n",
       "      <td>3.0</td>\n",
       "      <td>NaN</td>\n",
       "      <td>NaN</td>\n",
       "    </tr>\n",
       "    <tr>\n",
       "      <th>3</th>\n",
       "      <td>NaN</td>\n",
       "      <td>8157.0</td>\n",
       "      <td>NaN</td>\n",
       "      <td>NaN</td>\n",
       "      <td>NaN</td>\n",
       "      <td>10.0</td>\n",
       "      <td>NaN</td>\n",
       "      <td>NaN</td>\n",
       "      <td>NaN</td>\n",
       "      <td>3496.0</td>\n",
       "      <td>NaN</td>\n",
       "      <td>NaN</td>\n",
       "      <td>NaN</td>\n",
       "      <td>8.0</td>\n",
       "      <td>NaN</td>\n",
       "      <td>NaN</td>\n",
       "    </tr>\n",
       "    <tr>\n",
       "      <th>4</th>\n",
       "      <td>NaN</td>\n",
       "      <td>NaN</td>\n",
       "      <td>NaN</td>\n",
       "      <td>NaN</td>\n",
       "      <td>NaN</td>\n",
       "      <td>NaN</td>\n",
       "      <td>NaN</td>\n",
       "      <td>NaN</td>\n",
       "      <td>NaN</td>\n",
       "      <td>NaN</td>\n",
       "      <td>NaN</td>\n",
       "      <td>NaN</td>\n",
       "      <td>NaN</td>\n",
       "      <td>NaN</td>\n",
       "      <td>NaN</td>\n",
       "      <td>NaN</td>\n",
       "    </tr>\n",
       "  </tbody>\n",
       "</table>\n",
       "</div>"
      ],
      "text/plain": [
       "   Cases_Guinea  Cases_Liberia  Cases_SierraLeone  Cases_Nigeria  \\\n",
       "0        2776.0            NaN            10030.0            NaN   \n",
       "1        2775.0            NaN             9780.0            NaN   \n",
       "2        2769.0         8166.0             9722.0            NaN   \n",
       "3           NaN         8157.0                NaN            NaN   \n",
       "4           NaN            NaN                NaN            NaN   \n",
       "\n",
       "   Cases_Senegal  Cases_UnitedStates  Cases_Spain  Cases_Mali  Deaths_Guinea  \\\n",
       "0            NaN                 NaN          NaN         NaN         1786.0   \n",
       "1            NaN                 NaN          NaN         NaN         1781.0   \n",
       "2            NaN                20.0          NaN         NaN         1767.0   \n",
       "3            NaN                10.0          NaN         NaN            NaN   \n",
       "4            NaN                 NaN          NaN         NaN            NaN   \n",
       "\n",
       "   Deaths_Liberia  Deaths_SierraLeone  Deaths_Nigeria  Deaths_Senegal  \\\n",
       "0             NaN              2977.0             NaN             NaN   \n",
       "1             NaN              2943.0             NaN             NaN   \n",
       "2          3496.0              2915.0             NaN             NaN   \n",
       "3          3496.0                 NaN             NaN             NaN   \n",
       "4             NaN                 NaN             NaN             NaN   \n",
       "\n",
       "   Deaths_UnitedStates  Deaths_Spain  Deaths_Mali  \n",
       "0                  NaN           NaN          NaN  \n",
       "1                  NaN           NaN          NaN  \n",
       "2                  3.0           NaN          NaN  \n",
       "3                  8.0           NaN          NaN  \n",
       "4                  NaN           NaN          NaN  "
      ]
     },
     "execution_count": 2,
     "metadata": {
      "tags": []
     },
     "output_type": "execute_result"
    }
   ],
   "source": [
    "# load the csv file\n",
    "df_malaria = pd.read_csv('malaria.csv')\n",
    "\n",
    "# display the first five observations\n",
    "df_malaria.head()"
   ]
  },
  {
   "cell_type": "markdown",
   "metadata": {
    "id": "vp7RDzW8BiCY"
   },
   "source": [
    "### Let's begin with some hands-on practice exercises"
   ]
  },
  {
   "cell_type": "markdown",
   "metadata": {
    "id": "uCyb2XBYBiCZ"
   },
   "source": [
    "<a id=\"msv\"> </a>\n",
    "## 1. Missing Values Detection"
   ]
  },
  {
   "cell_type": "markdown",
   "metadata": {
    "collapsed": true,
    "id": "HddBjvkgBiCZ"
   },
   "source": [
    "<table align=\"left\">\n",
    "    <tr>\n",
    "        <td width=\"6%\">\n",
    "            <img src=\"question_icon.png\">\n",
    "        </td>\n",
    "        <td>\n",
    "            <div align=\"left\", style=\"font-size:120%\">\n",
    "                <font color=\"#21618C\">\n",
    "                    <b>1. Are there any records where no data has been reported?</b>\n",
    "                </font>\n",
    "            </div>\n",
    "        </td>\n",
    "    </tr>\n",
    "</table>"
   ]
  },
  {
   "cell_type": "code",
   "execution_count": null,
   "metadata": {
    "id": "Fe1nkojTBiCZ",
    "outputId": "06329990-0965-4d31-f830-8f9652127ef9"
   },
   "outputs": [
    {
     "data": {
      "text/plain": [
       "[4, 21, 39, 99]"
      ]
     },
     "execution_count": 3,
     "metadata": {
      "tags": []
     },
     "output_type": "execute_result"
    }
   ],
   "source": [
    "# isna() returns the boolean output\n",
    "na_data = df_malaria.isna() \n",
    "\n",
    "# seperate the indicating values for each record \n",
    "# all() returns whether all elements are True over the given axis \n",
    "df = na_data.all(axis='columns') == True\n",
    "\n",
    "# obtain a list of all records where indicating value is true \n",
    "df.index[df == True].tolist()"
   ]
  },
  {
   "cell_type": "markdown",
   "metadata": {
    "id": "8RBXOSZHBiCa"
   },
   "source": [
    "We can use the final obtained list of indices to eliminate the empty records from the data. "
   ]
  },
  {
   "cell_type": "markdown",
   "metadata": {
    "collapsed": true,
    "id": "SyQF2Wi3BiCa"
   },
   "source": [
    "<table align=\"left\">\n",
    "    <tr>\n",
    "        <td width=\"6%\">\n",
    "            <img src=\"question_icon.png\">\n",
    "        </td>\n",
    "        <td>\n",
    "            <div align=\"left\", style=\"font-size:120%\">\n",
    "                <font color=\"#21618C\">\n",
    "                    <b>2. Find a list of all the columns which have more than 60% of their values missing</b>\n",
    "                </font>\n",
    "            </div>\n",
    "        </td>\n",
    "    </tr>\n",
    "</table>"
   ]
  },
  {
   "cell_type": "code",
   "execution_count": null,
   "metadata": {
    "id": "kK7zTygoBiCa",
    "outputId": "4d710c52-b5d9-47cf-8813-140211f0d9e8",
    "scrolled": false
   },
   "outputs": [
    {
     "data": {
      "text/plain": [
       "['Cases_Nigeria',\n",
       " 'Cases_Senegal',\n",
       " 'Cases_Spain',\n",
       " 'Cases_Mali',\n",
       " 'Deaths_Nigeria',\n",
       " 'Deaths_Senegal',\n",
       " 'Deaths_Spain',\n",
       " 'Deaths_Mali']"
      ]
     },
     "execution_count": 4,
     "metadata": {
      "tags": []
     },
     "output_type": "execute_result"
    }
   ],
   "source": [
    "# set the threshold value to filter the columns\n",
    "# shape[0] returns number of rows for a dataframe\n",
    "threshold = 0.6*df_malaria.shape[0]\n",
    "\n",
    "# isnull() returns the boolean output as to whether the value is 'null' or not\n",
    "# sum() returns the total number of missing values\n",
    "null_values = df_malaria.isnull().sum()\n",
    "\n",
    "# print the list of columns that exceed the threshold\n",
    "col_list = list(null_values.index[null_values > threshold])\n",
    "col_list"
   ]
  },
  {
   "cell_type": "markdown",
   "metadata": {
    "id": "ObVnjDFUBiCb"
   },
   "source": [
    "Since the isnull().sum() returns a pandas series we use index function to obtain a list of column names.\n",
    "All the columns that exceed the threshold should ideally be eliminated from the data unless the columns are mentioned to be of significant importance."
   ]
  },
  {
   "cell_type": "markdown",
   "metadata": {
    "collapsed": true,
    "id": "eibigcE-BiCb"
   },
   "source": [
    "<table align=\"left\">\n",
    "    <tr>\n",
    "        <td width=\"6%\">\n",
    "            <img src=\"question_icon.png\">\n",
    "        </td>\n",
    "        <td>\n",
    "            <div align=\"left\", style=\"font-size:120%\">\n",
    "                <font color=\"#21618C\">\n",
    "                    <b>3. In a scenario where one of the countries detected with malaria outbreak is to be recorded again for observations, which country should be considered first (consider only the first four countries)?</b>\n",
    "                </font>\n",
    "            </div>\n",
    "        </td>\n",
    "    </tr>\n",
    "</table>"
   ]
  },
  {
   "cell_type": "code",
   "execution_count": null,
   "metadata": {
    "id": "-tgxxxPYBiCb",
    "outputId": "051911b8-2e92-4404-aae2-6abb9167832f"
   },
   "outputs": [
    {
     "name": "stdout",
     "output_type": "stream",
     "text": [
      "Missing values for Guinea:69\n",
      "Missing values for Liberia:90\n",
      "Missing values for Sierra Leone:80\n",
      "Missing values for Nigeria:178\n"
     ]
    }
   ],
   "source": [
    "# combine the total records for the first four countries\n",
    "df_obg = df_malaria[['Cases_Guinea', 'Deaths_Guinea']]\n",
    "df_obl = df_malaria[['Cases_Liberia', 'Deaths_Liberia']]\n",
    "df_obsl = df_malaria[['Cases_SierraLeone', 'Deaths_SierraLeone']]\n",
    "df_obnig = df_malaria[['Cases_Nigeria', 'Deaths_Nigeria']]\n",
    "\n",
    "# print the total number of missing values \n",
    "print(\"Missing values for Guinea:\"+ str(df_obg.isnull().sum().sum()))\n",
    "print(\"Missing values for Liberia:\"+ str(df_obl.isnull().sum().sum()))\n",
    "print(\"Missing values for Sierra Leone:\"+ str(df_obsl.isnull().sum().sum()))\n",
    "print(\"Missing values for Nigeria:\"+ str(df_obnig.isnull().sum().sum()))"
   ]
  },
  {
   "cell_type": "markdown",
   "metadata": {
    "id": "7o8Px9OSBiCc"
   },
   "source": [
    "Assuming the otherwise cost of recording is same for all the countries, the country that should be considered first must be Nigeria, because it has highest number of missing records from the list of countries that have considerable amount of data available."
   ]
  },
  {
   "cell_type": "markdown",
   "metadata": {
    "collapsed": true,
    "id": "Pfq552MHBiCc"
   },
   "source": [
    "<table align=\"left\">\n",
    "    <tr>\n",
    "        <td width=\"6%\">\n",
    "            <img src=\"question_icon.png\">\n",
    "        </td>\n",
    "        <td>\n",
    "            <div align=\"left\", style=\"font-size:120%\">\n",
    "                <font color=\"#21618C\">\n",
    "                    <b>4. Visualize the missing values in the data</b>\n",
    "                </font>\n",
    "            </div>\n",
    "        </td>\n",
    "    </tr>\n",
    "</table>"
   ]
  },
  {
   "cell_type": "code",
   "execution_count": null,
   "metadata": {
    "id": "VdQV6HqrBiCc",
    "outputId": "8b86cc9e-f113-4a72-8070-55eefd95a831"
   },
   "outputs": [
    {
     "data": {
      "image/png": "[encoded data removed]",
      "text/plain": [
       "<Figure size 1080x576 with 1 Axes>"
      ]
     },
     "metadata": {
      "needs_background": "light",
      "tags": []
     },
     "output_type": "display_data"
    }
   ],
   "source": [
    "# set the figure size\n",
    "plt.figure(figsize = (15,8))\n",
    "\n",
    "# plot a heatmap of the missing values in the data\n",
    "# cbar: specify whether to display the color bar or not\n",
    "sns.heatmap(df_malaria.isnull(), cbar = False)\n",
    "\n",
    "# display the plot\n",
    "plt.show()"
   ]
  },
  {
   "cell_type": "markdown",
   "metadata": {
    "id": "TwkXHYlQBiCc"
   },
   "source": [
    "The above plot shows the missing data in each variable. The black color shows the non-null data."
   ]
  },
  {
   "cell_type": "markdown",
   "metadata": {
    "id": "V2079Q7LBiCd"
   },
   "source": [
    "<a id=\"hmsv\"> </a>\n",
    "## 2. Handling Missing Values"
   ]
  },
  {
   "cell_type": "markdown",
   "metadata": {
    "collapsed": true,
    "id": "ZIUpsTQEBiCd"
   },
   "source": [
    "<table align=\"left\">\n",
    "    <tr>\n",
    "        <td width=\"6%\">\n",
    "            <img src=\"question_icon.png\">\n",
    "        </td>\n",
    "        <td>\n",
    "            <div align=\"left\", style=\"font-size:120%\">\n",
    "                <font color=\"#21618C\">\n",
    "                    <b>5. Eliminate all the records where no more than two observations have been recorded</b>\n",
    "                </font>\n",
    "            </div>\n",
    "        </td>\n",
    "    </tr>\n",
    "</table>"
   ]
  },
  {
   "cell_type": "code",
   "execution_count": null,
   "metadata": {
    "id": "c6WVuRXmBiCd",
    "outputId": "dd8cbf72-effc-40d8-9553-31ee24ddff57"
   },
   "outputs": [
    {
     "name": "stdout",
     "output_type": "stream",
     "text": [
      "Shape of the data before elimination: (127, 16)\n",
      "Shape of the data after elimination: (110, 16)\n"
     ]
    }
   ],
   "source": [
    "# check the shape of the dataframe\n",
    "print(\"Shape of the data before elimination:\", df_malaria.shape)\n",
    "\n",
    "# use the dropna() to remove the rows \n",
    "df_malaria_updated = df_malaria.dropna(thresh = 3) \n",
    "\n",
    "# check the shape of the dataframe\n",
    "print(\"Shape of the data after elimination:\", df_malaria_updated.shape)"
   ]
  },
  {
   "cell_type": "markdown",
   "metadata": {
    "id": "vu1CDzj4BiCd"
   },
   "source": [
    "The threshold attribute is used to specify the number of least observations required to retain a record. "
   ]
  },
  {
   "cell_type": "markdown",
   "metadata": {
    "collapsed": true,
    "id": "mISZFfDqBiCd"
   },
   "source": [
    "<table align=\"left\">\n",
    "    <tr>\n",
    "        <td width=\"6%\">\n",
    "            <img src=\"question_icon.png\">\n",
    "        </td>\n",
    "        <td>\n",
    "            <div align=\"left\", style=\"font-size:120%\">\n",
    "                <font color=\"#21618C\">\n",
    "                    <b>6. Cast aside the unnecessary columns from the data\n",
    "</b>\n",
    "                </font>\n",
    "            </div>\n",
    "        </td>\n",
    "    </tr>\n",
    "</table>"
   ]
  },
  {
   "cell_type": "code",
   "execution_count": null,
   "metadata": {
    "id": "ft9J9wvqBiCe",
    "outputId": "9ae010dc-a971-4ede-8aa9-78114e892250",
    "scrolled": true
   },
   "outputs": [
    {
     "data": {
      "text/plain": [
       "Cases_Guinea           34\n",
       "Cases_Liberia          44\n",
       "Cases_SierraLeone      40\n",
       "Cases_UnitedStates     54\n",
       "Deaths_Guinea          35\n",
       "Deaths_Liberia         46\n",
       "Deaths_SierraLeone     40\n",
       "Deaths_UnitedStates    70\n",
       "dtype: int64"
      ]
     },
     "execution_count": 8,
     "metadata": {
      "tags": []
     },
     "output_type": "execute_result"
    }
   ],
   "source": [
    "# drop the columns with missing values more than 60%\n",
    "# use the list 'col_list' from Q2 to drop the columns\n",
    "df_malaria.drop(col_list, axis = 1, inplace = True)\n",
    "\n",
    "# check the retained columns with corresponding missing values\n",
    "df_malaria.isnull().sum()"
   ]
  },
  {
   "cell_type": "markdown",
   "metadata": {
    "id": "noeORw_bBiCe"
   },
   "source": [
    "Here 60% is assumed to be the threshold value (this value depends on the significance of column and may be decided by consulting the SME) for eliminating a column."
   ]
  },
  {
   "cell_type": "markdown",
   "metadata": {
    "collapsed": true,
    "id": "myNH40KqBiCe"
   },
   "source": [
    "<table align=\"left\">\n",
    "    <tr>\n",
    "        <td width=\"6%\">\n",
    "            <img src=\"question_icon.png\">\n",
    "        </td>\n",
    "        <td>\n",
    "            <div align=\"left\", style=\"font-size:120%\">\n",
    "                <font color=\"#21618C\">\n",
    "                    <b>7. How would you treat the missing values of the reported cases from Liberia?</b>\n",
    "                </font>\n",
    "            </div>\n",
    "        </td>\n",
    "    </tr>\n",
    "</table>"
   ]
  },
  {
   "cell_type": "code",
   "execution_count": null,
   "metadata": {
    "id": "gCJH3kUHBiCe",
    "outputId": "c632a4d4-81a6-4e53-dcae-b76ff7c0a60c"
   },
   "outputs": [
    {
     "name": "stdout",
     "output_type": "stream",
     "text": [
      "Null values before treatment: 44\n"
     ]
    },
    {
     "data": {
      "image/png": "[encoded data removed]",
      "text/plain": [
       "<Figure size 1080x576 with 1 Axes>"
      ]
     },
     "metadata": {
      "needs_background": "light",
      "tags": []
     },
     "output_type": "display_data"
    },
    {
     "name": "stdout",
     "output_type": "stream",
     "text": [
      "Null values after treatment: 0\n"
     ]
    }
   ],
   "source": [
    "# check the number of null values in the column 'Cases_Liberia'\n",
    "print(\"Null values before treatment:\", df_malaria['Cases_Liberia'].isnull().sum())\n",
    "\n",
    "# set the figure size\n",
    "plt.figure(figsize = (15,8))\n",
    "\n",
    "# plot the histogram\n",
    "plt.hist(x = df_malaria['Cases_Liberia'])\n",
    "\n",
    "# assign plot and axes labels\n",
    "# set text size using 'fontsize'\n",
    "plt.title('Histogram of Cases in Liberia', fontsize = 15)\n",
    "plt.xlabel('No. of cases', fontsize = 15)\n",
    "plt.ylabel('Frequency', fontsize = 15)\n",
    "\n",
    "# display the plot\n",
    "plt.show()\n",
    "\n",
    "# imputing with median value \n",
    "df_malaria['Cases_Liberia'] = df_malaria['Cases_Liberia'].fillna(df_malaria['Cases_Liberia'].median())\n",
    "\n",
    "# check the null values after imputation\n",
    "print(\"Null values after treatment:\", df_malaria['Cases_Liberia'].isnull().sum())"
   ]
  },
  {
   "cell_type": "markdown",
   "metadata": {
    "id": "BOGL5F5VBiCf"
   },
   "source": [
    "Since initially, the values in the column 'Cases_Liberia' are imbalanced we can use the median value of the column to impute the missing observations."
   ]
  },
  {
   "cell_type": "markdown",
   "metadata": {
    "collapsed": true,
    "id": "mbzKe9BXBiCf"
   },
   "source": [
    "<table align=\"left\">\n",
    "    <tr>\n",
    "        <td width=\"6%\">\n",
    "            <img src=\"question_icon.png\">\n",
    "        </td>\n",
    "        <td>\n",
    "            <div align=\"left\", style=\"font-size:120%\">\n",
    "                <font color=\"#21618C\">\n",
    "                    <b>8. How would you treat the missing values from the reported cases of malaria from the United States of America?</b>\n",
    "                </font>\n",
    "            </div>\n",
    "        </td>\n",
    "    </tr>\n",
    "</table>"
   ]
  },
  {
   "cell_type": "code",
   "execution_count": null,
   "metadata": {
    "id": "kh789Q8bBiCf",
    "outputId": "3ffa3b57-b12f-42f9-fe32-278a330cd2fe"
   },
   "outputs": [
    {
     "name": "stdout",
     "output_type": "stream",
     "text": [
      "null values before treatment: 54\n"
     ]
    },
    {
     "data": {
      "image/png": "[encoded data removed]",
      "text/plain": [
       "<Figure size 1080x576 with 1 Axes>"
      ]
     },
     "metadata": {
      "needs_background": "light",
      "tags": []
     },
     "output_type": "display_data"
    },
    {
     "name": "stdout",
     "output_type": "stream",
     "text": [
      "null values after treatment: 0\n"
     ]
    }
   ],
   "source": [
    "# check number of null values in column\n",
    "print(\"null values before treatment:\", df_malaria['Cases_UnitedStates'].isnull().sum())\n",
    "\n",
    "# set the figure size\n",
    "plt.figure(figsize = (15,8))\n",
    "\n",
    "# plot the histogram\n",
    "plt.hist(x = df_malaria['Cases_UnitedStates'])\n",
    "\n",
    "# assign plot and axes labels\n",
    "# set text size using 'fontsize'\n",
    "plt.title('Histogram of Cases in USA', fontsize = 15)\n",
    "plt.xlabel('No. of cases', fontsize = 15)\n",
    "plt.ylabel('Frequency', fontsize = 15)\n",
    "\n",
    "# display the plot\n",
    "plt.show()\n",
    "\n",
    "# Imputing with mean value \n",
    "df_malaria['Cases_UnitedStates'] = df_malaria['Cases_UnitedStates'].fillna(df_malaria['Cases_UnitedStates'].mean())\n",
    "\n",
    "# display the result\n",
    "print(\"null values after treatment:\",df_malaria['Cases_UnitedStates'].isnull().sum())"
   ]
  },
  {
   "cell_type": "markdown",
   "metadata": {
    "id": "i815izyQBiCg"
   },
   "source": [
    "Since initially, the values in the column 'Cases_UnitedStates' are balanced we can use the mean value of the column to impute the missing observations."
   ]
  },
  {
   "cell_type": "markdown",
   "metadata": {
    "collapsed": true,
    "id": "mEIkDtCcBiCg"
   },
   "source": [
    "<table align=\"left\">\n",
    "    <tr>\n",
    "        <td width=\"6%\">\n",
    "            <img src=\"question_icon.png\">\n",
    "        </td>\n",
    "        <td>\n",
    "            <div align=\"left\", style=\"font-size:120%\">\n",
    "                <font color=\"#21618C\">\n",
    "                    <b>9. How should the missing values from the observations recorded in 'Guinea' be dealt with?</b>\n",
    "                </font>\n",
    "            </div>\n",
    "        </td>\n",
    "    </tr>\n",
    "</table>"
   ]
  },
  {
   "cell_type": "code",
   "execution_count": null,
   "metadata": {
    "id": "Ol7vOU5ABiCg",
    "outputId": "c06c9b5a-bd93-47d3-bb02-696954e44d37"
   },
   "outputs": [
    {
     "name": "stdout",
     "output_type": "stream",
     "text": [
      "Null values:\n",
      " Cases_Guinea     34\n",
      "Deaths_Guinea    35\n",
      "dtype: int64\n"
     ]
    },
    {
     "data": {
      "image/png": "[encoded data removed]",
      "text/plain": [
       "<Figure size 1080x576 with 2 Axes>"
      ]
     },
     "metadata": {
      "needs_background": "light",
      "tags": []
     },
     "output_type": "display_data"
    }
   ],
   "source": [
    "# combine the recorded observations for mentioned country\n",
    "df_observations = df_malaria[['Cases_Guinea', 'Deaths_Guinea']]\n",
    "\n",
    "# missing values in the variables\n",
    "print('Null values:\\n', df_observations.isnull().sum())\n",
    "\n",
    "# plot histogram\n",
    "# 'sharey' shares the y-axis for all subplots\n",
    "df_observations.hist(figsize = (15,8), sharey = True)\n",
    "\n",
    "# display the plot\n",
    "plt.show()"
   ]
  },
  {
   "cell_type": "markdown",
   "metadata": {
    "id": "VUCd-m-TBiCg"
   },
   "source": [
    "Plots reveal that both the variables considered are skewed (imbalanced)."
   ]
  },
  {
   "cell_type": "code",
   "execution_count": null,
   "metadata": {
    "id": "oVo9RKMfBiCg",
    "outputId": "941eb566-f642-4a7a-cf0a-571ec9f77c3d"
   },
   "outputs": [
    {
     "name": "stdout",
     "output_type": "stream",
     "text": [
      "Null values after treatment: \n",
      " Cases_Guinea     0\n",
      "Deaths_Guinea    0\n",
      "dtype: int64\n"
     ]
    }
   ],
   "source": [
    "# imputing with median value \n",
    "for col in df_observations:\n",
    "    df_observations[col] = df_observations[col].fillna(df_observations[col].median())\n",
    "    \n",
    "# check the missing values    \n",
    "print(\"Null values after treatment: \\n\", df_observations.isnull().sum())"
   ]
  },
  {
   "cell_type": "markdown",
   "metadata": {
    "id": "m4MCgmjrBiCh"
   },
   "source": [
    "Since the data is imbalanced we have used the median as a strategy for imputation."
   ]
  },
  {
   "cell_type": "markdown",
   "metadata": {
    "id": "bzYCowVdBiCh"
   },
   "source": [
    "## For questions hereon, we shall consider the following dataset."
   ]
  },
  {
   "cell_type": "markdown",
   "metadata": {
    "id": "vdMOq_9iBiCh"
   },
   "source": [
    "### About the dataset (House Prices in Melbourne)\n",
    "\n",
    "The dataset contains different attributes that contribute to the price of the houses in Melbourne.  \n",
    "\n",
    "Attribute Information:\n",
    "\n",
    "**Rooms**: Number of rooms\n",
    "\n",
    "**Type**: h - house,cottage,villa, semi,terrace; u - unit, duplex; t - townhouse; dev site - development site; o res - other residential.\n",
    "\n",
    "**Price**: Price in dollars\n",
    "\n",
    "**Method**: S - property sold; SP - property sold prior; PI - property passed in; PN - sold prior not disclosed; SN - sold not disclosed; NB - no bid; VB - vendor bid; W - withdrawn before auction; SA - sold after auction; SS - sold after auction price not disclosed. N/A - price or highest bid not available.\n",
    "\n",
    "**Regionname**:  General Region (West, North West, North, Northeast,...)\n",
    "\n",
    "**Bathroom**: Number of Bathrooms\n",
    "\n",
    "**Car**: Number of car spots\n",
    "\n",
    "**Landsize**: Land Size of a house\n",
    "\n",
    "**Distance**: Distance from CBD (City Centre)\n",
    "\n",
    "**Bedroom**: Number of Bedrooms"
   ]
  },
  {
   "cell_type": "markdown",
   "metadata": {
    "id": "KnvDGjlPBiCh"
   },
   "source": [
    "#### Load the house dataset and display the first five records (Use for section 3 to 6)"
   ]
  },
  {
   "cell_type": "code",
   "execution_count": null,
   "metadata": {
    "id": "IaJ2zfgnBiCh",
    "outputId": "c43190be-99cf-442a-ab5c-c15a858b84d4"
   },
   "outputs": [
    {
     "data": {
      "text/html": [
       "<div>\n",
       "<style scoped>\n",
       "    .dataframe tbody tr th:only-of-type {\n",
       "        vertical-align: middle;\n",
       "    }\n",
       "\n",
       "    .dataframe tbody tr th {\n",
       "        vertical-align: top;\n",
       "    }\n",
       "\n",
       "    .dataframe thead th {\n",
       "        text-align: right;\n",
       "    }\n",
       "</style>\n",
       "<table border=\"1\" class=\"dataframe\">\n",
       "  <thead>\n",
       "    <tr style=\"text-align: right;\">\n",
       "      <th></th>\n",
       "      <th>Rooms</th>\n",
       "      <th>Type</th>\n",
       "      <th>Price</th>\n",
       "      <th>Method</th>\n",
       "      <th>Regionname</th>\n",
       "      <th>Bathroom</th>\n",
       "      <th>Car</th>\n",
       "      <th>Landsize</th>\n",
       "      <th>Distance</th>\n",
       "      <th>Bedroom</th>\n",
       "    </tr>\n",
       "  </thead>\n",
       "  <tbody>\n",
       "    <tr>\n",
       "      <th>0</th>\n",
       "      <td>3</td>\n",
       "      <td>h</td>\n",
       "      <td>1490000</td>\n",
       "      <td>S</td>\n",
       "      <td>Northern Metropolitan</td>\n",
       "      <td>1</td>\n",
       "      <td>1</td>\n",
       "      <td>126</td>\n",
       "      <td>25.2</td>\n",
       "      <td>2</td>\n",
       "    </tr>\n",
       "    <tr>\n",
       "      <th>1</th>\n",
       "      <td>3</td>\n",
       "      <td>h</td>\n",
       "      <td>1220000</td>\n",
       "      <td>S</td>\n",
       "      <td>Northern Metropolitan</td>\n",
       "      <td>1</td>\n",
       "      <td>1</td>\n",
       "      <td>202</td>\n",
       "      <td>21.8</td>\n",
       "      <td>2</td>\n",
       "    </tr>\n",
       "    <tr>\n",
       "      <th>2</th>\n",
       "      <td>3</td>\n",
       "      <td>h</td>\n",
       "      <td>1420000</td>\n",
       "      <td>S</td>\n",
       "      <td>Northern Metropolitan</td>\n",
       "      <td>1</td>\n",
       "      <td>0</td>\n",
       "      <td>156</td>\n",
       "      <td>21.7</td>\n",
       "      <td>2</td>\n",
       "    </tr>\n",
       "    <tr>\n",
       "      <th>3</th>\n",
       "      <td>3</td>\n",
       "      <td>h</td>\n",
       "      <td>1515000</td>\n",
       "      <td>S</td>\n",
       "      <td>Western Metropolitan</td>\n",
       "      <td>2</td>\n",
       "      <td>1</td>\n",
       "      <td>0</td>\n",
       "      <td>18.8</td>\n",
       "      <td>3</td>\n",
       "    </tr>\n",
       "    <tr>\n",
       "      <th>4</th>\n",
       "      <td>2</td>\n",
       "      <td>h</td>\n",
       "      <td>670000</td>\n",
       "      <td>S</td>\n",
       "      <td>Western Metropolitan</td>\n",
       "      <td>2</td>\n",
       "      <td>0</td>\n",
       "      <td>134</td>\n",
       "      <td>20.6</td>\n",
       "      <td>3</td>\n",
       "    </tr>\n",
       "  </tbody>\n",
       "</table>\n",
       "</div>"
      ],
      "text/plain": [
       "   Rooms Type    Price Method             Regionname  Bathroom  Car  Landsize  \\\n",
       "0      3    h  1490000      S  Northern Metropolitan         1    1       126   \n",
       "1      3    h  1220000      S  Northern Metropolitan         1    1       202   \n",
       "2      3    h  1420000      S  Northern Metropolitan         1    0       156   \n",
       "3      3    h  1515000      S   Western Metropolitan         2    1         0   \n",
       "4      2    h   670000      S   Western Metropolitan         2    0       134   \n",
       "\n",
       "   Distance  Bedroom  \n",
       "0      25.2        2  \n",
       "1      21.8        2  \n",
       "2      21.7        2  \n",
       "3      18.8        3  \n",
       "4      20.6        3  "
      ]
     },
     "execution_count": 13,
     "metadata": {
      "tags": []
     },
     "output_type": "execute_result"
    }
   ],
   "source": [
    "# load the csv file\n",
    "df_house = pd.read_csv('house.csv')\n",
    "\n",
    "# display the first five observations\n",
    "df_house.head()"
   ]
  },
  {
   "cell_type": "markdown",
   "metadata": {
    "id": "8n79mlj4BiCi"
   },
   "source": [
    "<a id=\"out\"> </a>\n",
    "## 3. Outlier Detection Techniques "
   ]
  },
  {
   "cell_type": "markdown",
   "metadata": {
    "collapsed": true,
    "id": "j3wle3uFBiCi"
   },
   "source": [
    "<table align=\"left\">\n",
    "    <tr>\n",
    "        <td width=\"6%\">\n",
    "            <img src=\"question_icon.png\">\n",
    "        </td>\n",
    "        <td>\n",
    "            <div align=\"left\", style=\"font-size:120%\">\n",
    "                <font color=\"#21618C\">\n",
    "                    <b>10. Is there a feature in the dataset which could be exempted from outlier treatment?\n",
    "</b>\n",
    "                </font>\n",
    "            </div>\n",
    "        </td>\n",
    "    </tr>\n",
    "</table>"
   ]
  },
  {
   "cell_type": "code",
   "execution_count": null,
   "metadata": {
    "id": "nAiYJSLpBiCi",
    "outputId": "cf06c292-8197-40a4-a697-0db8d34d9eff",
    "scrolled": false
   },
   "outputs": [
    {
     "data": {
      "image/png": "[encoded data removed]",
      "text/plain": [
       "<Figure size 1080x576 with 9 Axes>"
      ]
     },
     "metadata": {
      "needs_background": "light",
      "tags": []
     },
     "output_type": "display_data"
    }
   ],
   "source": [
    "# plot histogram of all numeric variables\n",
    "# set the number of bins to 20\n",
    "# set the figure size using 'figsize'\n",
    "df_house.hist(bins = 20, figsize = (15,8))\n",
    "\n",
    "# adjust the subplots\n",
    "plt.tight_layout()\n",
    "\n",
    "# display the plot\n",
    "plt.show()"
   ]
  },
  {
   "cell_type": "markdown",
   "metadata": {
    "id": "cOzQ2BANBiCi"
   },
   "source": [
    "Since the values of 'Landsize' are concentrated around limited range of values we may overlook the variable when considering outlier treatment."
   ]
  },
  {
   "cell_type": "markdown",
   "metadata": {
    "collapsed": true,
    "id": "QSbN0KzHBiCi"
   },
   "source": [
    "<table align=\"left\">\n",
    "    <tr>\n",
    "        <td width=\"6%\">\n",
    "            <img src=\"question_icon.png\">\n",
    "        </td>\n",
    "        <td>\n",
    "            <div align=\"left\", style=\"font-size:120%\">\n",
    "                <font color=\"#21618C\">\n",
    "                    <b>11. How do we check the outlier values for the feature representing the number of car spots?</b>\n",
    "                </font>\n",
    "            </div>\n",
    "        </td>\n",
    "    </tr>\n",
    "</table>"
   ]
  },
  {
   "cell_type": "code",
   "execution_count": null,
   "metadata": {
    "id": "BUvxoOEfBiCi",
    "outputId": "962cdbc0-1329-44d2-bec6-dfebb335f7e2"
   },
   "outputs": [
    {
     "data": {
      "image/png": "[encoded data removed]",
      "text/plain": [
       "<Figure size 1080x576 with 1 Axes>"
      ]
     },
     "metadata": {
      "needs_background": "light",
      "tags": []
     },
     "output_type": "display_data"
    }
   ],
   "source": [
    "# set the figure size\n",
    "plt.figure(figsize = (15,8))\n",
    "\n",
    "# plot the boxplot for 'Car' to visualize the outliers\n",
    "plt.boxplot(x = df_house['Car'])\n",
    "\n",
    "# assign plot and axes labels\n",
    "# set text size using 'fontsize'\n",
    "plt.title('Boxplot for Count of Car Spots', fontsize = 15)\n",
    "plt.ylabel('Number of Car Spots', fontsize = 15)\n",
    "\n",
    "# display the plot\n",
    "plt.show()"
   ]
  },
  {
   "cell_type": "markdown",
   "metadata": {
    "id": "AyrHJ9k-BiCj"
   },
   "source": [
    "Majority of the observations from records have count of car spots concentrated from 0 to 3. All the values outside the range will be considered as outliers."
   ]
  },
  {
   "cell_type": "markdown",
   "metadata": {
    "collapsed": true,
    "id": "QZJWUEGbBiCj"
   },
   "source": [
    "<table align=\"left\">\n",
    "    <tr>\n",
    "        <td width=\"6%\">\n",
    "            <img src=\"question_icon.png\">\n",
    "        </td>\n",
    "        <td>\n",
    "            <div align=\"left\", style=\"font-size:120%\">\n",
    "                <font color=\"#21618C\">\n",
    "                    <b>12. Compare the outliers present in the price of real estates by their type\n",
    "</b>\n",
    "                </font>\n",
    "            </div>\n",
    "        </td>\n",
    "    </tr>\n",
    "</table>"
   ]
  },
  {
   "cell_type": "code",
   "execution_count": null,
   "metadata": {
    "id": "UFexaiV8BiCj",
    "outputId": "f0051872-5ffe-4b00-bfc3-be4979137e01",
    "scrolled": false
   },
   "outputs": [
    {
     "data": {
      "image/png": "[encoded data removed]",
      "text/plain": [
       "<Figure size 1080x576 with 1 Axes>"
      ]
     },
     "metadata": {
      "needs_background": "light",
      "tags": []
     },
     "output_type": "display_data"
    }
   ],
   "source": [
    "# set the figure size\n",
    "plt.figure(figsize=(15,8))\n",
    "\n",
    "# plot a boxplot to compare the prices of different house types\n",
    "# 'palette' assigns colors to the plot\n",
    "sns.boxplot(x = df_house['Type'], y = df_house['Price'] , palette='pastel')\n",
    "\n",
    "# assign plot and axes labels\n",
    "# set text size using 'fontsize'\n",
    "plt.title('Comparison of Prices for Different Types', fontsize = 15)\n",
    "plt.xlabel('House Types', fontsize = 15)\n",
    "plt.ylabel('Price', fontsize = 15)\n",
    "\n",
    "# display the plot\n",
    "plt.show()"
   ]
  },
  {
   "cell_type": "markdown",
   "metadata": {
    "id": "7Jf5N1ZwBiCj"
   },
   "source": [
    "From the above plot, we can observe that cottages, villas have a huge range of price values because this type of real estate is usually subject to more customization and hence affects the price and has more outliers. "
   ]
  },
  {
   "cell_type": "markdown",
   "metadata": {
    "collapsed": true,
    "id": "y8pF5q2kBiCk"
   },
   "source": [
    "<table align=\"left\">\n",
    "    <tr>\n",
    "        <td width=\"6%\">\n",
    "            <img src=\"question_icon.png\">\n",
    "        </td>\n",
    "        <td>\n",
    "            <div align=\"left\", style=\"font-size:120%\">\n",
    "                <font color=\"#21618C\">\n",
    "                    <b>13. What would be the extreme values for the feature representing the number of rooms?\n",
    "</b>\n",
    "                </font>\n",
    "            </div>\n",
    "        </td>\n",
    "    </tr>\n",
    "</table>"
   ]
  },
  {
   "cell_type": "markdown",
   "metadata": {
    "id": "YbKn5xXmBiCk"
   },
   "source": [
    "Use the z-score method to find the extreme values in the variable 'Rooms'. Also, visualize the extreme points by plotting the histogram."
   ]
  },
  {
   "cell_type": "code",
   "execution_count": null,
   "metadata": {
    "id": "l8Kc3D94BiCk",
    "outputId": "2fba6752-23b1-4026-c1ff-3b7ac7e8f923",
    "scrolled": false
   },
   "outputs": [
    {
     "data": {
      "image/png": "[encoded data removed]",
      "text/plain": [
       "<Figure size 1080x576 with 1 Axes>"
      ]
     },
     "metadata": {
      "needs_background": "light",
      "tags": []
     },
     "output_type": "display_data"
    },
    {
     "name": "stdout",
     "output_type": "stream",
     "text": [
      "Outliers for 'Rooms' variable:\n",
      "[7, 7, 6, 6, 6, 7, 6, 6, 6, 6, 7, 6, 6, 6, 6, 6, 6, 6, 7, 6, 7, 6, 6, 7, 6, 8, 6, 6, 6, 6, 7, 6, 6, 6, 6, 6, 7, 6, 7, 6, 6, 6, 6, 6, 6, 6]\n"
     ]
    }
   ],
   "source": [
    "# set the figure size\n",
    "plt.figure(figsize = (15,8))\n",
    "\n",
    "# plot histogram of 'Rooms' to visualize the outliers \n",
    "plt.hist(x = df_house['Rooms'])\n",
    "\n",
    "# assign plot and axes labels\n",
    "# set text size using 'fontsize'\n",
    "plt.title('Histogram of Count of Rooms', fontsize = 15)\n",
    "plt.xlabel('No. of Rooms', fontsize = 15)\n",
    "plt.ylabel('Frequency', fontsize = 15)\n",
    "\n",
    "# display the plot\n",
    "plt.show()\n",
    "\n",
    "# detect outliers using z-score\n",
    "# define a funcion \n",
    "# create an empty list to store the outliers\n",
    "# set the threshold to 3 as per z-score metric\n",
    "# calculate mean and standard deviation\n",
    "# calculate z_score using for loop\n",
    "# append the observations to the list 'outliers'\n",
    "outliers=[]\n",
    "def detect_outlier(data):\n",
    "    threshold=3\n",
    "    mean = np.mean(data)\n",
    "    std =np.std(data)\n",
    "    \n",
    "    for y in data:\n",
    "        z_score= (y - mean)/std \n",
    "        if np.abs(z_score) > threshold:\n",
    "            outliers.append(y)\n",
    "    return outliers\n",
    "\n",
    "# call the function to detect outliers\n",
    "outlier_pt = detect_outlier(df_house.Rooms)\n",
    "print(\"Outliers for 'Rooms' variable:\\n\" + str(outlier_pt))"
   ]
  },
  {
   "cell_type": "markdown",
   "metadata": {
    "id": "GARE7nDoBiCk"
   },
   "source": [
    "Here, we can see that the 6 or 7 rooms are considered as extreme values."
   ]
  },
  {
   "cell_type": "markdown",
   "metadata": {
    "collapsed": true,
    "id": "bBc3oAIrBiCk"
   },
   "source": [
    "<table align=\"left\">\n",
    "    <tr>\n",
    "        <td width=\"6%\">\n",
    "            <img src=\"question_icon.png\">\n",
    "        </td>\n",
    "        <td>\n",
    "            <div align=\"left\", style=\"font-size:120%\">\n",
    "                <font color=\"#21618C\">\n",
    "                    <b>14. Suggest a method to find the outlier values for the feature representing the number of bathrooms\n",
    " </b>\n",
    "                </font>\n",
    "            </div>\n",
    "        </td>\n",
    "    </tr>\n",
    "</table>"
   ]
  },
  {
   "cell_type": "code",
   "execution_count": null,
   "metadata": {
    "id": "CsM8uT8uBiCl",
    "outputId": "572d604f-93cb-4168-b545-8149c566270d"
   },
   "outputs": [
    {
     "data": {
      "image/png": "[encoded data removed]",
      "text/plain": [
       "<Figure size 1080x576 with 1 Axes>"
      ]
     },
     "metadata": {
      "needs_background": "light",
      "tags": []
     },
     "output_type": "display_data"
    }
   ],
   "source": [
    "# set the figure size\n",
    "plt.figure(figsize = (15,8))\n",
    "\n",
    "# histogram of 'Bathroom' to visualize the outliers \n",
    "plt.hist(x = df_house['Bathroom'])\n",
    "\n",
    "# assign plot and axes labels\n",
    "# set text size using 'fontsize'\n",
    "plt.title('Histogram of Count of Bathrooms', fontsize = 15)\n",
    "plt.xlabel('No. of Bathrooms', fontsize = 15)\n",
    "plt.ylabel('Frequency', fontsize = 15)\n",
    "\n",
    "# display the plot\n",
    "plt.show()"
   ]
  },
  {
   "cell_type": "markdown",
   "metadata": {
    "id": "sPpBRiaCBiCl"
   },
   "source": [
    "From the plot we can see that the feature 'Bathroom' is skewed. Thus we can use the IQR method to determine the number of outliers."
   ]
  },
  {
   "cell_type": "markdown",
   "metadata": {
    "collapsed": true,
    "id": "ck2dEPdBBiCl"
   },
   "source": [
    "<table align=\"left\">\n",
    "    <tr>\n",
    "        <td width=\"6%\">\n",
    "            <img src=\"question_icon.png\">\n",
    "        </td>\n",
    "        <td>\n",
    "            <div align=\"left\", style=\"font-size:120%\">\n",
    "                <font color=\"#21618C\">\n",
    "                    <b>15. Extract the records corresponding to the extreme outliers present in the feature representing the number of bedrooms\n",
    "                    </b>\n",
    "                </font>\n",
    "            </div>\n",
    "        </td>\n",
    "    </tr>\n",
    "</table>"
   ]
  },
  {
   "cell_type": "code",
   "execution_count": null,
   "metadata": {
    "id": "UrfcztlmBiCl",
    "outputId": "45c2c97f-0aa0-4874-bbda-06b7e4091a76",
    "scrolled": false
   },
   "outputs": [
    {
     "data": {
      "image/png": "[encoded data removed]",
      "text/plain": [
       "<Figure size 1080x576 with 1 Axes>"
      ]
     },
     "metadata": {
      "needs_background": "light",
      "tags": []
     },
     "output_type": "display_data"
    }
   ],
   "source": [
    "# set the figure size\n",
    "plt.figure(figsize = (15,8))\n",
    "\n",
    "# histogram of 'Bedroom' to visualize the extreme outliers \n",
    "plt.boxplot(x = df_house['Bedroom'])\n",
    "\n",
    "# use 'annonate' to draw an arrow between points xy and xytext\n",
    "# 's' represents the text\n",
    "# we can change the facecolor and arrowstyle; this is only for representation purpose\n",
    "plt.annotate(s ='Extreme Point', xy=(1.02, 29.9), xytext=(1.1, 29.72), arrowprops=dict(facecolor='blue', arrowstyle = 'simple'))\n",
    "\n",
    "# assign plot and axes labels\n",
    "#set text size using 'fontsize'\n",
    "plt.title('Box Plot of Count of Bedrooms', fontsize = 15)\n",
    "plt.ylabel('No. of Bedrooms', fontsize = 15)\n",
    "\n",
    "# display the plot\n",
    "plt.show()"
   ]
  },
  {
   "cell_type": "markdown",
   "metadata": {
    "id": "8XoAHbrmBiCm"
   },
   "source": [
    "The plot shows the presence of an extreme outlier. Now, use IQR method to find the corresponding record in the data."
   ]
  },
  {
   "cell_type": "code",
   "execution_count": null,
   "metadata": {
    "id": "z2gq_TG8BiCm",
    "outputId": "518dd7ee-d9fa-4a8f-da9e-8322dffcb5a3"
   },
   "outputs": [
    {
     "data": {
      "text/html": [
       "<div>\n",
       "<style scoped>\n",
       "    .dataframe tbody tr th:only-of-type {\n",
       "        vertical-align: middle;\n",
       "    }\n",
       "\n",
       "    .dataframe tbody tr th {\n",
       "        vertical-align: top;\n",
       "    }\n",
       "\n",
       "    .dataframe thead th {\n",
       "        text-align: right;\n",
       "    }\n",
       "</style>\n",
       "<table border=\"1\" class=\"dataframe\">\n",
       "  <thead>\n",
       "    <tr style=\"text-align: right;\">\n",
       "      <th></th>\n",
       "      <th>Rooms</th>\n",
       "      <th>Type</th>\n",
       "      <th>Price</th>\n",
       "      <th>Method</th>\n",
       "      <th>Regionname</th>\n",
       "      <th>Bathroom</th>\n",
       "      <th>Car</th>\n",
       "      <th>Landsize</th>\n",
       "      <th>Distance</th>\n",
       "      <th>Bedroom</th>\n",
       "    </tr>\n",
       "  </thead>\n",
       "  <tbody>\n",
       "    <tr>\n",
       "      <th>1937</th>\n",
       "      <td>3</td>\n",
       "      <td>h</td>\n",
       "      <td>496000</td>\n",
       "      <td>S</td>\n",
       "      <td>Western Metropolitan</td>\n",
       "      <td>1</td>\n",
       "      <td>1</td>\n",
       "      <td>0</td>\n",
       "      <td>21.7</td>\n",
       "      <td>30</td>\n",
       "    </tr>\n",
       "  </tbody>\n",
       "</table>\n",
       "</div>"
      ],
      "text/plain": [
       "      Rooms Type   Price Method            Regionname  Bathroom  Car  \\\n",
       "1937      3    h  496000      S  Western Metropolitan         1    1   \n",
       "\n",
       "      Landsize  Distance  Bedroom  \n",
       "1937         0      21.7       30  "
      ]
     },
     "execution_count": 20,
     "metadata": {
      "tags": []
     },
     "output_type": "execute_result"
    }
   ],
   "source": [
    "# calculate the first quartile\n",
    "Q1 = df_house['Bedroom'].quantile(0.25)\n",
    "\n",
    "#calculate the third quartile\n",
    "Q3 = df_house['Bedroom'].quantile(0.75)\n",
    "\n",
    "# The Interquartile Range (IQR) is defined as difference between the third and first quartile\n",
    "# calculate IQR\n",
    "IQR = Q3 - Q1\n",
    "\n",
    "# extract the observation \n",
    "df_house[df_house['Bedroom'] > Q3 + 3*IQR]"
   ]
  },
  {
   "cell_type": "markdown",
   "metadata": {
    "id": "PgDXzaFQBiCm"
   },
   "source": [
    "Since we are interested in extracting the exterme point, we consider the observations beyond (Q3 + 3 * IQR)."
   ]
  },
  {
   "cell_type": "markdown",
   "metadata": {
    "id": "yKLxLnv_BiCm"
   },
   "source": [
    "<a id=\"odt\"> </a>\n",
    "## 4. Treatment of Outliers"
   ]
  },
  {
   "cell_type": "markdown",
   "metadata": {
    "collapsed": true,
    "id": "acER8WtUBiCm"
   },
   "source": [
    "<table align=\"left\">\n",
    "    <tr>\n",
    "        <td width=\"6%\">\n",
    "            <img src=\"question_icon.png\">\n",
    "        </td>\n",
    "        <td>\n",
    "            <div align=\"left\", style=\"font-size:120%\">\n",
    "                <font color=\"#21618C\">\n",
    "                    <b>16. What is the change in the average distance after handling the outliers using IQR method in the feature representing the distance?  \n",
    "</b>\n",
    "                </font>\n",
    "            </div>\n",
    "        </td>\n",
    "    </tr>\n",
    "</table>"
   ]
  },
  {
   "cell_type": "code",
   "execution_count": null,
   "metadata": {
    "id": "JWEpKwFqBiCm",
    "outputId": "1dd6ec8a-d7b6-437f-9ae6-6902c1096b10"
   },
   "outputs": [
    {
     "data": {
      "image/png": "[encoded data removed]",
      "text/plain": [
       "<Figure size 1080x576 with 1 Axes>"
      ]
     },
     "metadata": {
      "needs_background": "light",
      "tags": []
     },
     "output_type": "display_data"
    }
   ],
   "source": [
    "# set the figure size\n",
    "plt.figure(figsize = (15,8))\n",
    "\n",
    "# box plot to check the presence of outliers\n",
    "sns.boxplot(x = df_house['Distance'])\n",
    "\n",
    "# assign plot and axes labels\n",
    "# set text size using 'fontsize'\n",
    "plt.title('Box Plot of Distance', fontsize = 15)\n",
    "plt.xlabel('Distance', fontsize = 15)\n",
    "\n",
    "# display the plot \n",
    "plt.show()"
   ]
  },
  {
   "cell_type": "markdown",
   "metadata": {
    "id": "axc9-2qtBiCn"
   },
   "source": [
    "The boxplot shows the presence of outliers below and above the whiskers. Use the IQR method to remove the outliers."
   ]
  },
  {
   "cell_type": "code",
   "execution_count": null,
   "metadata": {
    "id": "OR-MKE0kBiCn",
    "outputId": "d6b84706-ff1e-4fc1-f042-a0ac06045859"
   },
   "outputs": [
    {
     "name": "stdout",
     "output_type": "stream",
     "text": [
      "Original Average distance: 19.32834662190515\n",
      "Updated Average distance: 19.311425554382247\n"
     ]
    }
   ],
   "source": [
    "# check the average distance before removing the outliers\n",
    "print('Original Average distance:', df_house['Distance'].mean())\n",
    "\n",
    "# calculate the first quartile\n",
    "Q1 = df_house['Distance'].quantile(0.25)\n",
    "\n",
    "#calculate the third quartile\n",
    "Q3 = df_house['Distance'].quantile(0.75)\n",
    "\n",
    "# The Interquartile Range (IQR) is defined as difference between the third and first quartile\n",
    "# calculate IQR\n",
    "IQR = Q3 - Q1\n",
    "\n",
    "# remove the outliers from the variable\n",
    "df_house_updated = df_house[~((df_house['Distance'] < (Q1 - 1.5 * IQR)) | (df_house['Distance'] > (Q3 + 1.5 * IQR)))]\n",
    "\n",
    "# check the average distance after removing the outliers\n",
    "print('Updated Average distance:', df_house_updated['Distance'].mean())"
   ]
  },
  {
   "cell_type": "markdown",
   "metadata": {
    "id": "sTKw3ueYBiCn"
   },
   "source": [
    "We can see that after eliminating the outlier values, there is no significant difference in the average distance."
   ]
  },
  {
   "cell_type": "markdown",
   "metadata": {
    "collapsed": true,
    "id": "p6ImbVNZBiCn"
   },
   "source": [
    "<table align=\"left\">\n",
    "    <tr>\n",
    "        <td width=\"6%\">\n",
    "            <img src=\"question_icon.png\">\n",
    "        </td>\n",
    "        <td>\n",
    "            <div align=\"left\", style=\"font-size:120%\">\n",
    "                <font color=\"#21618C\">\n",
    "                    <b>17. What should be the range (K*IQR) considered to eliminate the extreme outliers for the feature representing the house price? \n",
    "</b>\n",
    "                </font>\n",
    "            </div>\n",
    "        </td>\n",
    "    </tr>\n",
    "</table>"
   ]
  },
  {
   "cell_type": "code",
   "execution_count": null,
   "metadata": {
    "id": "jw6DD6tdBiCn",
    "outputId": "245fc671-2682-4361-8b8c-389739c869d0"
   },
   "outputs": [
    {
     "data": {
      "image/png": "[encoded data removed]",
      "text/plain": [
       "<Figure size 1080x576 with 1 Axes>"
      ]
     },
     "metadata": {
      "needs_background": "light",
      "tags": []
     },
     "output_type": "display_data"
    }
   ],
   "source": [
    "# set the figure size\n",
    "plt.figure(figsize = (15,8))\n",
    "\n",
    "# box  plot to check the presence of outliers\n",
    "sns.boxplot(x = df_house['Price'])\n",
    "\n",
    "# assign plot and axes labels\n",
    "# set text size using 'fontsize'\n",
    "plt.title('Box Plot of Price', fontsize = 15)\n",
    "plt.xlabel('Price', fontsize = 15)\n",
    "\n",
    "# display the plot \n",
    "plt.show()"
   ]
  },
  {
   "cell_type": "markdown",
   "metadata": {
    "id": "bSey1XUrBiCo"
   },
   "source": [
    "We can consider the house price greater than 5000000, as the extreme prices."
   ]
  },
  {
   "cell_type": "code",
   "execution_count": null,
   "metadata": {
    "id": "-rMcLBJLBiCo",
    "outputId": "3bed98fc-5162-4ae7-86a4-96b43b2016b7"
   },
   "outputs": [
    {
     "data": {
      "image/png": "[encoded data removed]",
      "text/plain": [
       "<Figure size 1080x576 with 2 Axes>"
      ]
     },
     "metadata": {
      "needs_background": "light",
      "tags": []
     },
     "output_type": "display_data"
    }
   ],
   "source": [
    "# set the figure size\n",
    "plt.figure(figsize = (15,8))\n",
    "\n",
    "# plot the boxplots with different whisker range\n",
    "# create the subplots of boxplot\n",
    "# 'whis' determines the reach of the whisker \n",
    "plt.subplot(1,2,1)\n",
    "plt.boxplot(x = df_house['Price'], whis = 5.0)\n",
    "plt.title('5.0*IQR', fontsize = 15)\n",
    "plt.ylabel('Prices', fontsize = 15)\n",
    "\n",
    "plt.subplot(1,2,2)\n",
    "plt.boxplot(x = df_house['Price'], whis = 6.5)\n",
    "plt.title('6.5*IQR', fontsize = 15)\n",
    "plt.ylabel('Prices', fontsize = 15)\n",
    "\n",
    "# adjust the subplots\n",
    "plt.tight_layout()\n",
    "\n",
    "# display the plot\n",
    "plt.show()"
   ]
  },
  {
   "cell_type": "markdown",
   "metadata": {
    "id": "BFqOHjDbBiCo"
   },
   "source": [
    "To consider only the extreme prices, we need to use range (6.5 times IQR)."
   ]
  },
  {
   "cell_type": "markdown",
   "metadata": {
    "id": "tK3YknCRBiCo"
   },
   "source": [
    "<a id=\"fe\"> </a>\n",
    "## 5. Feature Engineering"
   ]
  },
  {
   "cell_type": "markdown",
   "metadata": {
    "collapsed": true,
    "id": "0HMnNozwBiCo"
   },
   "source": [
    "<table align=\"left\">\n",
    "    <tr>\n",
    "        <td width=\"6%\">\n",
    "            <img src=\"question_icon.png\">\n",
    "        </td>\n",
    "        <td>\n",
    "            <div align=\"left\", style=\"font-size:120%\">\n",
    "                <font color=\"#21618C\">\n",
    "                    <b>18. Categorize the houses in three groups based on their distance from CBD and create a new feature containing the group labels\n",
    "</b>\n",
    "                </font>\n",
    "            </div>\n",
    "        </td>\n",
    "    </tr>\n",
    "</table>"
   ]
  },
  {
   "cell_type": "code",
   "execution_count": null,
   "metadata": {
    "id": "FDkD6T3MBiCo",
    "outputId": "751021b5-35bf-4a64-9f23-52ce8d926e22",
    "scrolled": true
   },
   "outputs": [
    {
     "data": {
      "text/plain": [
       "count    4766.000000\n",
       "mean       19.328347\n",
       "std         4.230650\n",
       "min         5.000000\n",
       "25%        16.500000\n",
       "50%        19.300000\n",
       "75%        22.200000\n",
       "max        33.100000\n",
       "Name: Distance, dtype: float64"
      ]
     },
     "execution_count": 25,
     "metadata": {
      "tags": []
     },
     "output_type": "execute_result"
    }
   ],
   "source": [
    "# check the summary statistics of distance\n",
    "df_house['Distance'].describe()"
   ]
  },
  {
   "cell_type": "markdown",
   "metadata": {
    "id": "zDiHaaJpBiCp"
   },
   "source": [
    "Here, the minimum distance is 5 units and maximum distance is approximately 33 units. Create a new feature containing the three different distance ranges."
   ]
  },
  {
   "cell_type": "code",
   "execution_count": null,
   "metadata": {
    "id": "c8ZJXO8WBiCp"
   },
   "outputs": [],
   "source": [
    "# assign a name to the column\n",
    "dist = df_house['Distance']\n",
    "\n",
    "# define a function to create new levels\n",
    "# use 'if' statement to pass the conditions\n",
    "def new_feat(dist):\n",
    "\n",
    "    if (dist >= 5.0) & (dist < 15.0):\n",
    "        return 'walking_distance'\n",
    "    if (dist >= 15.0) & (dist < 25.0):\n",
    "        return 'close_by'\n",
    "    if (dist > 25.0):\n",
    "        return 'far_away'\n",
    "    \n",
    "# apply the function to create a new column\n",
    "df_house['Distance_level']= df_house['Distance'].apply(new_feat)"
   ]
  },
  {
   "cell_type": "code",
   "execution_count": null,
   "metadata": {
    "id": "fiW7Zt92BiCp",
    "outputId": "1c3dc7c4-c478-4cc6-8a56-8a6153fa701b"
   },
   "outputs": [
    {
     "data": {
      "text/html": [
       "<div>\n",
       "<style scoped>\n",
       "    .dataframe tbody tr th:only-of-type {\n",
       "        vertical-align: middle;\n",
       "    }\n",
       "\n",
       "    .dataframe tbody tr th {\n",
       "        vertical-align: top;\n",
       "    }\n",
       "\n",
       "    .dataframe thead th {\n",
       "        text-align: right;\n",
       "    }\n",
       "</style>\n",
       "<table border=\"1\" class=\"dataframe\">\n",
       "  <thead>\n",
       "    <tr style=\"text-align: right;\">\n",
       "      <th></th>\n",
       "      <th>Rooms</th>\n",
       "      <th>Type</th>\n",
       "      <th>Price</th>\n",
       "      <th>Method</th>\n",
       "      <th>Regionname</th>\n",
       "      <th>Bathroom</th>\n",
       "      <th>Car</th>\n",
       "      <th>Landsize</th>\n",
       "      <th>Distance</th>\n",
       "      <th>Bedroom</th>\n",
       "      <th>Distance_level</th>\n",
       "    </tr>\n",
       "  </thead>\n",
       "  <tbody>\n",
       "    <tr>\n",
       "      <th>0</th>\n",
       "      <td>3</td>\n",
       "      <td>h</td>\n",
       "      <td>1490000</td>\n",
       "      <td>S</td>\n",
       "      <td>Northern Metropolitan</td>\n",
       "      <td>1</td>\n",
       "      <td>1</td>\n",
       "      <td>126</td>\n",
       "      <td>25.2</td>\n",
       "      <td>2</td>\n",
       "      <td>far_away</td>\n",
       "    </tr>\n",
       "    <tr>\n",
       "      <th>1</th>\n",
       "      <td>3</td>\n",
       "      <td>h</td>\n",
       "      <td>1220000</td>\n",
       "      <td>S</td>\n",
       "      <td>Northern Metropolitan</td>\n",
       "      <td>1</td>\n",
       "      <td>1</td>\n",
       "      <td>202</td>\n",
       "      <td>21.8</td>\n",
       "      <td>2</td>\n",
       "      <td>close_by</td>\n",
       "    </tr>\n",
       "    <tr>\n",
       "      <th>2</th>\n",
       "      <td>3</td>\n",
       "      <td>h</td>\n",
       "      <td>1420000</td>\n",
       "      <td>S</td>\n",
       "      <td>Northern Metropolitan</td>\n",
       "      <td>1</td>\n",
       "      <td>0</td>\n",
       "      <td>156</td>\n",
       "      <td>21.7</td>\n",
       "      <td>2</td>\n",
       "      <td>close_by</td>\n",
       "    </tr>\n",
       "    <tr>\n",
       "      <th>3</th>\n",
       "      <td>3</td>\n",
       "      <td>h</td>\n",
       "      <td>1515000</td>\n",
       "      <td>S</td>\n",
       "      <td>Western Metropolitan</td>\n",
       "      <td>2</td>\n",
       "      <td>1</td>\n",
       "      <td>0</td>\n",
       "      <td>18.8</td>\n",
       "      <td>3</td>\n",
       "      <td>close_by</td>\n",
       "    </tr>\n",
       "    <tr>\n",
       "      <th>4</th>\n",
       "      <td>2</td>\n",
       "      <td>h</td>\n",
       "      <td>670000</td>\n",
       "      <td>S</td>\n",
       "      <td>Western Metropolitan</td>\n",
       "      <td>2</td>\n",
       "      <td>0</td>\n",
       "      <td>134</td>\n",
       "      <td>20.6</td>\n",
       "      <td>3</td>\n",
       "      <td>close_by</td>\n",
       "    </tr>\n",
       "  </tbody>\n",
       "</table>\n",
       "</div>"
      ],
      "text/plain": [
       "   Rooms Type    Price Method             Regionname  Bathroom  Car  Landsize  \\\n",
       "0      3    h  1490000      S  Northern Metropolitan         1    1       126   \n",
       "1      3    h  1220000      S  Northern Metropolitan         1    1       202   \n",
       "2      3    h  1420000      S  Northern Metropolitan         1    0       156   \n",
       "3      3    h  1515000      S   Western Metropolitan         2    1         0   \n",
       "4      2    h   670000      S   Western Metropolitan         2    0       134   \n",
       "\n",
       "   Distance  Bedroom Distance_level  \n",
       "0      25.2        2       far_away  \n",
       "1      21.8        2       close_by  \n",
       "2      21.7        2       close_by  \n",
       "3      18.8        3       close_by  \n",
       "4      20.6        3       close_by  "
      ]
     },
     "execution_count": 27,
     "metadata": {
      "tags": []
     },
     "output_type": "execute_result"
    }
   ],
   "source": [
    "# display the first five observations\n",
    "df_house.head()"
   ]
  },
  {
   "cell_type": "markdown",
   "metadata": {
    "collapsed": true,
    "id": "mAUGyobJBiCp"
   },
   "source": [
    "<table align=\"left\">\n",
    "    <tr>\n",
    "        <td width=\"6%\">\n",
    "            <img src=\"question_icon.png\">\n",
    "        </td>\n",
    "        <td>\n",
    "            <div align=\"left\", style=\"font-size:120%\">\n",
    "                <font color=\"#21618C\">\n",
    "                    <b>19. Compare the house prices based on the different distance levels \n",
    "</b>\n",
    "                </font>\n",
    "            </div>\n",
    "        </td>\n",
    "    </tr>\n",
    "</table>"
   ]
  },
  {
   "cell_type": "code",
   "execution_count": null,
   "metadata": {
    "id": "qmqShRGUBiCp",
    "outputId": "8418f39c-9336-4a98-fcae-ddb23094ba3a"
   },
   "outputs": [
    {
     "data": {
      "image/png": "[encoded data removed]",
      "text/plain": [
       "<Figure size 1080x576 with 1 Axes>"
      ]
     },
     "metadata": {
      "needs_background": "light",
      "tags": []
     },
     "output_type": "display_data"
    }
   ],
   "source": [
    "# set the figure size\n",
    "plt.figure(figsize = (15,8))\n",
    "\n",
    "# plot a boxplot to compare the house prices\n",
    "# pass distance levels to the parameter, 'hue'\n",
    "sns.boxplot(x = df_house['Distance_level'], y = df_house['Price'])\n",
    "\n",
    "# assign plot and axes labels\n",
    "# set text size using 'fontsize'\n",
    "plt.title('Comparison of House Prices', fontsize = 15)\n",
    "plt.xlabel('Distance Level', fontsize = 15)\n",
    "plt.ylabel('Price', fontsize = 15)\n",
    "\n",
    "# display the plot\n",
    "plt.show()"
   ]
  },
  {
   "cell_type": "markdown",
   "metadata": {
    "id": "m_ot4oskBiCp"
   },
   "source": [
    "The distance of the house from CBD is not affecting the price. The houses that are in the distance range of 15-25 units from CBD have the highest number of outliers."
   ]
  },
  {
   "cell_type": "markdown",
   "metadata": {
    "id": "4k1MbXEABiCq"
   },
   "source": [
    "<a id=\"split\"> </a>\n",
    "## 6. Train-Test Split"
   ]
  },
  {
   "cell_type": "markdown",
   "metadata": {
    "collapsed": true,
    "id": "OM7dDEHlBiCq"
   },
   "source": [
    "<table align=\"left\">\n",
    "    <tr>\n",
    "        <td width=\"6%\">\n",
    "            <img src=\"question_icon.png\">\n",
    "        </td>\n",
    "        <td>\n",
    "            <div align=\"left\", style=\"font-size:120%\">\n",
    "                <font color=\"#21618C\">\n",
    "                    <b>20. Split the price of houses in the proportion 80:20 \n",
    "</b>\n",
    "                </font>\n",
    "            </div>\n",
    "        </td>\n",
    "    </tr>\n",
    "</table>"
   ]
  },
  {
   "cell_type": "code",
   "execution_count": null,
   "metadata": {
    "id": "YziiAc5xBiCq",
    "outputId": "7f2cccf1-bd62-4203-83cb-5171b5cdfc30"
   },
   "outputs": [
    {
     "name": "stdout",
     "output_type": "stream",
     "text": [
      "price_train (3812,)\n",
      "price_test (954,)\n"
     ]
    }
   ],
   "source": [
    "# split the variable into two subsets\n",
    "# import 'train_test_split' from sklearn\n",
    "from sklearn.model_selection import train_test_split\n",
    "\n",
    "# set the 'random_state' to generate the same data for every implementation of the code\n",
    "# 'test_size' returns the 20% of the data in one dataset and 80% in another\n",
    "price_train, price_test = train_test_split(df_house['Price'], test_size = 0.20, random_state = 0)\n",
    "\n",
    "# print the shape of train and test sets\n",
    "print(\"price_train\",price_train.shape)\n",
    "print(\"price_test\",price_test.shape)"
   ]
  },
  {
   "cell_type": "markdown",
   "metadata": {
    "id": "4RYAw8XTBiCq"
   },
   "source": [
    "The data representing the house prices is split into two sets."
   ]
  }
 ],
 "metadata": {
  "colab": {
   "collapsed_sections": [
    "V2079Q7LBiCd",
    "bzYCowVdBiCh",
    "vdMOq_9iBiCh",
    "KnvDGjlPBiCh",
    "8n79mlj4BiCi",
    "yKLxLnv_BiCm",
    "tK3YknCRBiCo",
    "4k1MbXEABiCq"
   ],
   "name": "Copy of EDA - In-Class Lab Exercise (Week-2) - Solutions.ipynb",
   "provenance": []
  },
  "kernelspec": {
   "display_name": "Python 3 (ipykernel)",
   "language": "python",
   "name": "python3"
  },
  "language_info": {
   "codemirror_mode": {
    "name": "ipython",
    "version": 3
   },
   "file_extension": ".py",
   "mimetype": "text/x-python",
   "name": "python",
   "nbconvert_exporter": "python",
   "pygments_lexer": "ipython3",
   "version": "3.9.13"
  }
 },
 "nbformat": 4,
 "nbformat_minor": 1
}
