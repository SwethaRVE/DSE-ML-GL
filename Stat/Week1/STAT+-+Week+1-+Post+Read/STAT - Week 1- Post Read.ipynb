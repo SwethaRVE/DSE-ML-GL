{
 "cells": [
  {
   "cell_type": "markdown",
   "metadata": {},
   "source": [
    "<table align=\"left\" width=100%>\n",
    "    <tr>\n",
    "        <td width=\"20%\">\n",
    "            <img src=\"GL-2.png\">\n",
    "            <img src=\"faculty.png\">\n",
    "        </td>\n",
    "        <td>\n",
    "            <div align=\"center\">\n",
    "                <font color=\"#21618C\" size=8px>\n",
    "                  <b> Post Read <br> (Week 1) </b>\n",
    "                </font>\n",
    "            </div>\n",
    "        </td>\n",
    "    </tr>\n",
    "</table>"
   ]
  },
  {
   "cell_type": "markdown",
   "metadata": {},
   "source": [
    "## Table of Content\n",
    "\n",
    "1. **[Import Libraries](#lib)**\n",
    "2. **[Probability Distributions](#dist)**\n",
    "     - 2.1 - **[Discrete Probability Distributions](#dis)**\n",
    "         - 2.1.1 - **[Discrete Uniform Distribution](#dis_uni)**\n",
    "         - 2.1.2 - **[Bernoulli Distribution](#bernoulli)**\n",
    "         - 2.1.3 - **[Binomial Distribution](#binomial)**\n",
    "         - 2.1.4 - **[Poisson Distribution](#poisson)**\n",
    "     - 2.2 - **[Continuous Probability Distributions](#cont)**\n",
    "         - 2.2.1 - **[Continuous Uniform Distribution](#cont_uni)**\n",
    "3. **[Sampling](#sample)**\n",
    "    - 3.1 - **[Stratified Sample](#strata)**\n",
    "    - 3.2 - **[Systematic Sample](#sys)**\n",
    "    - 3.3 - **[Cluster Sample](#cluster)**   \n"
   ]
  },
  {
   "cell_type": "markdown",
   "metadata": {},
   "source": [
    "<a id=\"lib\"></a>\n",
    "# 1. Import Libraries"
   ]
  },
  {
   "cell_type": "markdown",
   "metadata": {},
   "source": [
    "**Let us import the required libraries.**"
   ]
  },
  {
   "cell_type": "code",
   "execution_count": 1,
   "metadata": {},
   "outputs": [],
   "source": [
    "# import 'pandas' \n",
    "import pandas as pd \n",
    "\n",
    "# import 'numpy' \n",
    "import numpy as np\n",
    "\n",
    "# import subpackage of matplotlib\n",
    "import matplotlib.pyplot as plt\n",
    "from matplotlib import gridspec\n",
    "%matplotlib inline\n",
    "\n",
    "# import 'seaborn'\n",
    "import seaborn as sns\n",
    "\n",
    "# to suppress warnings \n",
    "from warnings import filterwarnings\n",
    "filterwarnings('ignore')\n",
    "\n",
    "# import 'factorial' from math library\n",
    "from math import factorial\n",
    "\n",
    "# import 'stats' package from scipy library\n",
    "from scipy import stats\n",
    "from scipy.stats import randint\n",
    "from scipy.stats import skewnorm\n",
    "\n",
    "# import 'random' to generate a random sample\n",
    "import random"
   ]
  },
  {
   "cell_type": "code",
   "execution_count": 2,
   "metadata": {},
   "outputs": [],
   "source": [
    "# set the plot size using 'rcParams'\n",
    "# once the plot size is set using 'rcParams', it sets the size of all the forthcoming plots in the file\n",
    "# pass width and height in inches to 'figure.figsize' \n",
    "plt.rcParams['figure.figsize'] = [15,8]"
   ]
  },
  {
   "cell_type": "markdown",
   "metadata": {},
   "source": [
    "<a id=\"App\"></a>\n",
    "# 2.Probability Distribution"
   ]
  },
  {
   "cell_type": "markdown",
   "metadata": {},
   "source": [
    "<a id=\"dis_uni\"></a>\n",
    "### 2.1.1 Discrete Uniform Distribution"
   ]
  },
  {
   "cell_type": "markdown",
   "metadata": {},
   "source": [
    "A discrete variable X taking values 1, 2, ..., n follows discrete uniform distribution if all the values taken by X are equally likely. The pmf of X is given by:\n",
    "\n",
    "<p style='text-indent:25em'> <strong> $ P(X = x) = \\frac{1}{n}$</strong>$\\hspace{2cm}$  x = 1, 2, ..., n </p>\n",
    "\n",
    "The distribution is symmetric, as the probability is equal for all values of X.  \n",
    "\n",
    "The mean and variance of the distribution is given as:<br>\n",
    "\n",
    "Mean = $\\frac{n+1}{2}$\n",
    "\n",
    "Variance = $\\frac{n^{2}-1}{12}$ "
   ]
  },
  {
   "cell_type": "markdown",
   "metadata": {},
   "source": [
    "### Example:\n",
    "\n",
    "#### 1. A factory has 6 machines numbered from 1 to 6. Let r.v. X be the machine number. What is the probability that a machine chosen at random is either 3 or 4?"
   ]
  },
  {
   "cell_type": "code",
   "execution_count": 3,
   "metadata": {
    "scrolled": true
   },
   "outputs": [
    {
     "name": "stdout",
     "output_type": "stream",
     "text": [
      "The probability of selecting a machine 3 or 4 is 0.3333333333333333\n"
     ]
    }
   ],
   "source": [
    "# probability of selecting any machine (1 to 6) is 1/6\n",
    "prob_machine = 1/6\n",
    "\n",
    "# to find: P(X = 3 or X = 4) = P(X = 3) + P(X = 4)\n",
    "# 'randint.pmf' returns the pmf of discrete uniform distribution\n",
    "# pass the value of X to the parameter, 'k'\n",
    "# as, X = {1,2,3,4,5,6} \n",
    "# pass the minimum value that a variable X takes to the parameter, 'low'\n",
    "# pass the (maximum+1) value that a variable X takes to the parameter, 'high'\n",
    "req_prob = randint.pmf(k = 3, low = 1, high = 7) + randint.pmf(k = 4, low = 1, high = 7)\n",
    "\n",
    "print('The probability of selecting a machine 3 or 4 is', req_prob)"
   ]
  },
  {
   "cell_type": "markdown",
   "metadata": {},
   "source": [
    "<a id=\"bernoulli\"></a>\n",
    "### 5.1.2 Bernoulli Distribution"
   ]
  },
  {
   "cell_type": "markdown",
   "metadata": {},
   "source": [
    "A discrete variable X taking only two values (say 0 and 1) follows a bernoulli distribution with parameter `p` if the pmf of X is given by:\n",
    "\n",
    "<p style='text-indent:25em'> <strong> $ P(X = x) = p^{x}q^{1-x}$</strong> $\\hspace{2cm}$  x = 0, 1 </p>\n",
    "\n",
    "`p` denotes the probability of success of an experiment and `q` denotes the probability of failure. (where, p + q = 1)\n",
    "\n",
    "The experiment associated with variable X is also known as the `Bernoulli trial`.\n",
    "\n",
    "The mean and variance of the distribution is given as:<br>\n",
    "\n",
    "Mean = $p$\n",
    "\n",
    "Variance = $q$ "
   ]
  },
  {
   "cell_type": "markdown",
   "metadata": {},
   "source": [
    "### Example:\n",
    "\n",
    "#### 1. If 7 out of 10 times a soccer player scores a goal for a direct free kick. What would be the probability that he scores a goal for the next free kick? "
   ]
  },
  {
   "cell_type": "code",
   "execution_count": 4,
   "metadata": {},
   "outputs": [
    {
     "name": "stdout",
     "output_type": "stream",
     "text": [
      "The probability that the player scores a goal for the next free kick is 0.7\n"
     ]
    }
   ],
   "source": [
    "# probability of success (scoring a goal)\n",
    "p = 0.7\n",
    "\n",
    "# calculate the probability that a player scores a goal \n",
    "# to find: P(X = 1)\n",
    "# pass the value of X to the parameter, 'k'\n",
    "# pass the probability of success to the parameter, 'p'\n",
    "req_prob = stats.bernoulli.pmf(k = 1, p = 0.7)\n",
    "\n",
    "print('The probability that the player scores a goal for the next free kick is', req_prob)"
   ]
  },
  {
   "cell_type": "markdown",
   "metadata": {},
   "source": [
    "<a id=\"binomial\"></a>\n",
    "### 5.1.3 Binomial Distribution"
   ]
  },
  {
   "cell_type": "markdown",
   "metadata": {},
   "source": [
    "A discrete variable X taking values 0, 1, 2,..., n follows a binomial distribution with parameters `n` and `p`, if the pmf of X is given by:\n",
    "\n",
    "<p style='text-indent:25em'> <strong> $ P(X = x) = {n \\choose x} p^{x}q^{n-x}$</strong> $\\hspace{2cm}$  x = 0, 1, ..., n </p>\n",
    "\n",
    "`p` denotes the probability of success of an experiment and `q` denotes the probability of failure. (where, p + q = 1)\n",
    "\n",
    "If `n` independent bernoulli trials (each with `p` as probability of success) are executed then the number of successes follows a binomial distribution.\n",
    "\n",
    "The mean and variance of the distribution is given as:<br>\n",
    "\n",
    "Mean = $np$\n",
    "\n",
    "Variance = $npq$ "
   ]
  },
  {
   "cell_type": "markdown",
   "metadata": {},
   "source": [
    "### Example:\n",
    "\n",
    "#### 1. Heaven Furnitures (HF) sells furniture like sofas, beds and tables. It is observed that 25% of their customers complain about the furniture purchased by them for many reasons. On Tuesday, 20 customers purchased furniture products from HF. \n",
    "\n",
    "#### a. Calculate the probability that exactly 3 customers will complain about the purchased products."
   ]
  },
  {
   "cell_type": "code",
   "execution_count": 5,
   "metadata": {},
   "outputs": [
    {
     "name": "stdout",
     "output_type": "stream",
     "text": [
      "The probability that exactly 3 customers will complain about the purchased products is 0.13\n"
     ]
    }
   ],
   "source": [
    "# use 'binom.pmf()' to calculate the pmf for binomial distribution \n",
    "# pass the required value of customers to the parameter, 'k' \n",
    "# pass number of total customers to the parameter, 'n'\n",
    "# here the success is the customer's complaint about the products with probability 0.25\n",
    "prob = stats.binom.pmf(k = 3, n = 20, p = 0.25)\n",
    "\n",
    "# use 'round()' to round-off the value to 2 digits\n",
    "prob = round(prob, 2)\n",
    "print('The probability that exactly 3 customers will complain about the purchased products is', prob)"
   ]
  },
  {
   "cell_type": "markdown",
   "metadata": {},
   "source": [
    "####  b. Calculate the probability that more than 3 customers will complain about the furniture purchased by them."
   ]
  },
  {
   "cell_type": "code",
   "execution_count": 6,
   "metadata": {},
   "outputs": [
    {
     "name": "stdout",
     "output_type": "stream",
     "text": [
      "The probability that more than 3 customers will complain about the furniture is 0.77\n"
     ]
    }
   ],
   "source": [
    "# use 'binom.sf()' to calculate the value of survival function (1 - cdf). i.e. P(X > x)\n",
    "# calculate the probability that more than 3 customers will complain\n",
    "# pass the required value of customers to the parameter, 'k' \n",
    "# pass number of total customers to the parameter, 'n'\n",
    "# here the success is the customer's complaint about the products with probability 0.25\n",
    "prob = stats.binom.sf(k = 3, n = 20, p = 0.25)\n",
    "\n",
    "# use 'round()' to round-off the value to 2 digits\n",
    "req_prob = round(prob, 2)\n",
    "print('The probability that more than 3 customers will complain about the furniture is', req_prob)"
   ]
  },
  {
   "cell_type": "markdown",
   "metadata": {},
   "source": [
    "#### 2. In a shooting academy, data was collected on the precision shooting of a student. From 15 shots fired 11 were on target. Consider the same student, what is the probability that out of 50 shots fired, exactly 35 will hit the target?"
   ]
  },
  {
   "cell_type": "code",
   "execution_count": 7,
   "metadata": {},
   "outputs": [
    {
     "name": "stdout",
     "output_type": "stream",
     "text": [
      "The probability that that out of 50 shots fired, exactly 35 will hit the target is 0.11\n"
     ]
    }
   ],
   "source": [
    "# use 'binom.pmf()' to calculate the pmf for binomial distribution \n",
    "# pass the required value of shots hit on the target to the parameter, 'k' \n",
    "# pass number of total shots fired to the parameter, 'n'\n",
    "# here the success is hitting the shots on the target with probability 11/15\n",
    "prob = stats.binom.pmf(k = 35, n = 50, p = 11/15)\n",
    "\n",
    "# use 'round()' to round-off the value to 2 digits\n",
    "prob = round(prob, 2)\n",
    "print('The probability that that out of 50 shots fired, exactly 35 will hit the target is', prob)"
   ]
  },
  {
   "cell_type": "markdown",
   "metadata": {},
   "source": [
    "<a id=\"poisson\"></a>\n",
    "### 5.1.4 Poisson Distribution"
   ]
  },
  {
   "cell_type": "markdown",
   "metadata": {},
   "source": [
    "A discrete variable X taking values 0, 1, 2,... follows a poisson distribution with parameter `m` (m > 0), if the pmf of X is given by:\n",
    "\n",
    "<p style='text-indent:25em'> <strong> $ P(X = x) = \\frac{e^{-m}m^{x}}{x!}$</strong> $\\hspace{2cm}$  x = 0, 1, 2,... </p>\n",
    "\n",
    "The mean and variance of the distribution is given as:<br>\n",
    "\n",
    "Mean = $m$ = Variance\n",
    "\n",
    "**Note:** Consider a variable X that follows a binomial distribution with parameters `n` and `p`. If n$\\rightarrow$$\\infty$ and p$\\rightarrow$0 then X follows a poison distribution with parameter `m = np`."
   ]
  },
  {
   "cell_type": "markdown",
   "metadata": {},
   "source": [
    "### Example:\n",
    "\n",
    "**1. The number of pizzas sold per day by a food zone \"Fapinos\" follows a poisson distribution at a rate of 67 pizzas per day. Calculate the probability that the number of pizza sales exceeds 70 in a day.**"
   ]
  },
  {
   "cell_type": "code",
   "execution_count": 8,
   "metadata": {
    "scrolled": true
   },
   "outputs": [
    {
     "name": "stdout",
     "output_type": "stream",
     "text": [
      "The probability that the number of pizza sales exceeds 70 in a day is 0.33\n"
     ]
    }
   ],
   "source": [
    "# use 'poisson.sf()' to calculate the value of survival function (1 - cdf). i.e. P(X > x)\n",
    "# calculate the probability that more than 70 pizzas will be sold \n",
    "# pass the required value of pizzas to the parameter, 'k' \n",
    "# pass the average number of pizzas to the parameter, 'mu'\n",
    "prob = stats.poisson.sf(k = 70, mu = 67)\n",
    "\n",
    "# use 'round()' to round-off the value to 2 digits\n",
    "req_prob = round(prob, 2)\n",
    "print('The probability that the number of pizza sales exceeds 70 in a day is', req_prob)"
   ]
  },
  {
   "cell_type": "markdown",
   "metadata": {},
   "source": [
    "#### 2. The number of calls received at a telephone exchange in a day follows poisson distribution. The probability that the exchange receives 5 calls is three times that of the exchange receiving 10 calls. Obtain the average calls that the telephone exchange receives in a day."
   ]
  },
  {
   "cell_type": "code",
   "execution_count": 9,
   "metadata": {},
   "outputs": [
    {
     "name": "stdout",
     "output_type": "stream",
     "text": [
      "Average calls that the telephone exchange receives in a day 6\n"
     ]
    }
   ],
   "source": [
    "# given: P(X = 5) = 3*P(X = 10)\n",
    "# to find: m = average number of calls\n",
    "# solving the above equation we get\n",
    "m_raised_5 = factorial(10) / (3* factorial(5))\n",
    "\n",
    "# value of 'm'\n",
    "m = m_raised_5**(1/5)\n",
    "\n",
    "# as the number of calls is an integer, convert the value of 'm' using int() \n",
    "print('Average calls that the telephone exchange receives in a day', int(m))"
   ]
  },
  {
   "cell_type": "markdown",
   "metadata": {},
   "source": [
    "<a id=\"cont\"></a>\n",
    "## 5.2 Continuous Probability Distributions"
   ]
  },
  {
   "cell_type": "markdown",
   "metadata": {},
   "source": [
    "It is the probability distribution related to the continuous random variable. The area under `probability density function (pdf)` gives the probability that a variable lies in a specific range. The value of pdf at a specific point is always 0.\n",
    "\n",
    "Probability that X lies between [a,b] is given by:\n",
    "\n",
    "<p style='text-indent:25em'> <strong> $P(a \\leq X \\leq b) = \\int_{a}^{b} f(x) dx$</strong> </p> \n",
    "\n",
    "Area under the curve is 1. i.e. $\\int_{-\\infty}^{\\infty} f(x) dx = 1$"
   ]
  },
  {
   "cell_type": "markdown",
   "metadata": {},
   "source": [
    "For a continuous random variable X the `cumulative distribution function (cdf)` is denoted by F(x) and defined as:\n",
    "\n",
    "<p style='text-indent:25em'> <strong> $ F(x) = \\int_{-\\infty}^{x} f(u) du$</strong> </p>\n",
    "\n",
    "The cdf of a random variable returns the probability that the variable takes all the values less than or equal to the specific value."
   ]
  },
  {
   "cell_type": "markdown",
   "metadata": {},
   "source": [
    "<a id=\"cont_uni\"></a>\n",
    "### 5.2.1 Continuous Uniform Distribution"
   ]
  },
  {
   "cell_type": "markdown",
   "metadata": {},
   "source": [
    "A continuous variable X taking values in a range [a,b] follows continuous uniform distribution if all the values in the range of variable X are equally likely. The pdf of X is given by:\n",
    "\n",
    "<p style='text-indent:25em'> <strong> $f(x) = \\frac{1}{b-a}$</strong> $\\hspace{2cm}$ $a \\leq x \\leq b$ </p>\n",
    "\n",
    "The mean and variance of the distribution is given as:<br>\n",
    "\n",
    "Mean = $\\frac{a + b}{2}$\n",
    "\n",
    "Variance = $\\frac{(b-a)^{2}}{12}$ "
   ]
  },
  {
   "cell_type": "markdown",
   "metadata": {},
   "source": [
    "### Example:\n",
    "\n",
    "#### 1. A gas supplying company has a pipe of 200 kms from the its supplying centre to the city. What is the probability that the pipe leaks in the middle 100 kms. (Assume that the chance of pipe leakage is equal on the entire route)"
   ]
  },
  {
   "cell_type": "code",
   "execution_count": 10,
   "metadata": {},
   "outputs": [
    {
     "name": "stdout",
     "output_type": "stream",
     "text": [
      "The probability that the pipe leaks in the middle 100 kms is 0.5\n"
     ]
    }
   ],
   "source": [
    "# distance between gas supplying centre and city is 200 kms\n",
    "# to find: P(50<= X <= 150)\n",
    "# X follows uniform distribution over the interval [0,200]\n",
    "\n",
    "# use 'uniform.cdf()' to calculate the cdf for continuous uniform distribution \n",
    "# pass the required value of X to the parameter, 'x'\n",
    "# pass the start point of the interval to the parameter, 'loc' \n",
    "# pass the end point of the interval to the parameter, 'scale'\n",
    "prob_150 = stats.uniform.cdf(x = 150, loc = 0, scale = 200)\n",
    "prob_50 = stats.uniform.cdf(x = 50, loc = 0, scale = 200)\n",
    "\n",
    "# calculate the required probability\n",
    "req_prob = prob_150 - prob_50\n",
    "\n",
    "# use 'round()' to round-off the value to 2 digits\n",
    "req_prob = round(req_prob, 2)\n",
    "print('The probability that the pipe leaks in the middle 100 kms is', req_prob)"
   ]
  },
  {
   "cell_type": "code",
   "execution_count": null,
   "metadata": {},
   "outputs": [],
   "source": []
  },
  {
   "cell_type": "markdown",
   "metadata": {},
   "source": [
    "<a id=\"Sam\"></a>\n",
    "# 3.Sampling"
   ]
  },
  {
   "cell_type": "markdown",
   "metadata": {},
   "source": [
    "<a id=\"strata\"></a>\n",
    "## 3.1 Stratified Sample"
   ]
  },
  {
   "cell_type": "markdown",
   "metadata": {},
   "source": [
    "We can use the stratified sampling method to draw a sample from the heterogeneous dataset. The dataset is divided into the homogeneous strata and then a sample is drawn from each stratum. The final sample contains elements from each stratum."
   ]
  },
  {
   "cell_type": "markdown",
   "metadata": {},
   "source": [
    "### Example:\n",
    "\n",
    "#### 1. Consider the annual income (in dollars) of 15 employees in a company. The socio-economic status of the employee depends on the annual income.\n",
    "\n",
    "<table>\n",
    "<tr>\n",
    "    <th>Status</th>\n",
    "    <td>Low</td>\n",
    "    <td>High</td>\n",
    "    <td>Below Poverty</td>\n",
    "    <td>Middle</td>\n",
    "    <td>Low</td>\n",
    "    <td>High</td>\n",
    "    <td>Middle</td>\n",
    "    <td>Low</td>\n",
    "    <td>Middle</td>\n",
    "    <td>High</td>\n",
    "    <td>Middle</td>\n",
    "    <td>Below Poverty</td>\n",
    "    <td>Low</td>\n",
    "    <td>Below Poverty</td>\n",
    "    <td>High</td>\n",
    "   </tr>\n",
    "<tr>\n",
    "    <th>Income</th>\n",
    "    <td>4850</td>\n",
    "    <td>9270</td>\n",
    "    <td>2520</td>\n",
    "    <td>6020</td>\n",
    "    <td>5790</td>\n",
    "    <td>10400</td>\n",
    "    <td>7140</td>\n",
    "    <td>3100</td>\n",
    "    <td>6850</td>\n",
    "    <td>9740</td>\n",
    "    <td>6540</td>\n",
    "    <td>1230</td>\n",
    "    <td>4400</td>\n",
    "    <td>2210</td>\n",
    "    <td>9880</td>\n",
    "    </tr>\n",
    "</table>\n",
    "\n",
    "\n",
    "Draw the stratified sample such that each category will occur twice."
   ]
  },
  {
   "cell_type": "code",
   "execution_count": 11,
   "metadata": {
    "scrolled": true
   },
   "outputs": [
    {
     "data": {
      "text/html": [
       "<div>\n",
       "<style scoped>\n",
       "    .dataframe tbody tr th:only-of-type {\n",
       "        vertical-align: middle;\n",
       "    }\n",
       "\n",
       "    .dataframe tbody tr th {\n",
       "        vertical-align: top;\n",
       "    }\n",
       "\n",
       "    .dataframe thead th {\n",
       "        text-align: right;\n",
       "    }\n",
       "</style>\n",
       "<table border=\"1\" class=\"dataframe\">\n",
       "  <thead>\n",
       "    <tr style=\"text-align: right;\">\n",
       "      <th></th>\n",
       "      <th>Status</th>\n",
       "      <th>Income</th>\n",
       "    </tr>\n",
       "  </thead>\n",
       "  <tbody>\n",
       "    <tr>\n",
       "      <th>2</th>\n",
       "      <td>Below Poverty</td>\n",
       "      <td>2520</td>\n",
       "    </tr>\n",
       "    <tr>\n",
       "      <th>13</th>\n",
       "      <td>Below Poverty</td>\n",
       "      <td>2210</td>\n",
       "    </tr>\n",
       "    <tr>\n",
       "      <th>14</th>\n",
       "      <td>High</td>\n",
       "      <td>9880</td>\n",
       "    </tr>\n",
       "    <tr>\n",
       "      <th>9</th>\n",
       "      <td>High</td>\n",
       "      <td>9740</td>\n",
       "    </tr>\n",
       "    <tr>\n",
       "      <th>12</th>\n",
       "      <td>Low</td>\n",
       "      <td>4400</td>\n",
       "    </tr>\n",
       "    <tr>\n",
       "      <th>7</th>\n",
       "      <td>Low</td>\n",
       "      <td>3100</td>\n",
       "    </tr>\n",
       "    <tr>\n",
       "      <th>10</th>\n",
       "      <td>Middle</td>\n",
       "      <td>6540</td>\n",
       "    </tr>\n",
       "    <tr>\n",
       "      <th>8</th>\n",
       "      <td>Middle</td>\n",
       "      <td>6850</td>\n",
       "    </tr>\n",
       "  </tbody>\n",
       "</table>\n",
       "</div>"
      ],
      "text/plain": [
       "           Status  Income\n",
       "2   Below Poverty    2520\n",
       "13  Below Poverty    2210\n",
       "14           High    9880\n",
       "9            High    9740\n",
       "12            Low    4400\n",
       "7             Low    3100\n",
       "10         Middle    6540\n",
       "8          Middle    6850"
      ]
     },
     "execution_count": 11,
     "metadata": {},
     "output_type": "execute_result"
    }
   ],
   "source": [
    "# create a dataframe of given data\n",
    "df_inc = pd.DataFrame(dict(Status = ['Low', 'High', 'Below Poverty', 'Middle', 'Low', 'High','Middle', 'Low', 'Middle', \n",
    "                                      'High', 'Middle', 'Below Poverty', 'Low', 'Below Poverty', 'High'],\n",
    "                      Income = [4850, 9270, 2520, 6020, 5790, 10400, 7140, 3100, 6850, 9740, 6540, 1230, 4400, 2210, 9880]))\n",
    "\n",
    "# use 'groupby()' to create the homogeneous strata for each socio-economic status\n",
    "# 'group_keys = False' will not add the group keys in the index for each group\n",
    "# choose sample of two observations using 'sample'\n",
    "# set 'random_state' to obtain the same sample every time you run the code \n",
    "# use 'apply()' to apply the lambda function for each socio-economic status\n",
    "df_inc.groupby('Status', group_keys = False).apply(lambda x: x.sample(2, random_state = 1))"
   ]
  },
  {
   "cell_type": "markdown",
   "metadata": {},
   "source": [
    "<a id=\"sys\"></a>\n",
    "## 3.2 Systematic Sample"
   ]
  },
  {
   "cell_type": "markdown",
   "metadata": {},
   "source": [
    "This technique can be used to draw a sample in a systematic manner. For the population with size `N` if we want to take a sample of size `n`, then arrange the population (rows-wise) in `k` columns such that, N = nk. Then select a column randomly as the required sample."
   ]
  },
  {
   "cell_type": "markdown",
   "metadata": {},
   "source": [
    "### Example:\n",
    "\n",
    "#### 1. Consider the data for the number of ice-creams sold per day. Draw a systematic sample of size 6 starting from the 3rd element.\n",
    "\n",
    "data = [21, 93, 62, 76, 73, 20, 56, 95, 41, 36, 38, 13, 80, 88, 34, 18, 40, 11, \n",
    "        25, 29, 61, 23, 82, 10, 92, 69, 60, 87, 14, 91, 94, 49, 57, 83, 96, 55, \n",
    "        79, 52, 59, 39, 58, 17, 19, 98, 15, 54, 48, 46, 72, 45, 65, 28, 37, 30, \n",
    "        68, 75, 16, 33, 31, 99, 22, 51, 27, 67, 85, 47, 44, 77, 64, 97, 84, 42, \n",
    "        90, 70, 74, 89, 32, 26, 24, 12, 81, 53, 50, 35, 71, 63, 43, 86, 78, 66]"
   ]
  },
  {
   "cell_type": "code",
   "execution_count": 12,
   "metadata": {
    "scrolled": true
   },
   "outputs": [
    {
     "name": "stdout",
     "output_type": "stream",
     "text": [
      "62\n",
      "11\n",
      "57\n",
      "46\n",
      "27\n",
      "26\n"
     ]
    }
   ],
   "source": [
    "# given data\n",
    "data = np.array([21, 93, 62, 76, 73, 20, 56, 95, 41, 36, 38, 13, 80, 88, 34, 18, 40, 11, 25, 29, 61, 23, 82, 10, 92, 69, 60,\n",
    "                  87, 14, 91, 94, 49, 57, 83, 96, 55, 79, 52, 59, 39, 58, 17, 19, 98, 15, 54, 48, 46, 72, 45, 65, 28, 37, 30, \n",
    "                  68, 75, 16, 33, 31, 99, 22, 51, 27, 67, 85, 47, 44, 77, 64, 97, 84, 42, 90, 70, 74, 89, 32, 26, 24, 12, 81, \n",
    "                  53, 50, 35, 71, 63, 43, 86, 78, 66])\n",
    "\n",
    "# total number of elements \n",
    "N = len(data)\n",
    "\n",
    "# required number of samples\n",
    "n = 6\n",
    "\n",
    "# i.e. k = 15\n",
    "# arrange the data in 6 rows and 15 columns using 'reshape()'\n",
    "data = data.reshape(6,15)\n",
    "\n",
    "# use for loop to select each sample point\n",
    "for i in range(6):\n",
    "    \n",
    "    # select a sample point\n",
    "    # pass the second index as '2' to get the sales in the 3rd column of the reshaped data\n",
    "    sample_pt = data[i][2]\n",
    "    \n",
    "    # print a sample point\n",
    "    print(sample_pt)"
   ]
  },
  {
   "cell_type": "markdown",
   "metadata": {},
   "source": [
    "<a id=\"cluster\"></a>\n",
    "## 3.3 Cluster Sample"
   ]
  },
  {
   "cell_type": "markdown",
   "metadata": {},
   "source": [
    "Cluster sampling can be used when the population is a collection of small groups/clusters. This technique selects a complete cluster randomly as a single sampling unit."
   ]
  },
  {
   "cell_type": "markdown",
   "metadata": {},
   "source": [
    "### Example:\n",
    "\n",
    "#### 1. A pandemic had a severe impact on 17 states in a country. A health organization aims to study the situation in the impacted states. Consider each state as a cluster and use cluster sampling to select 5 states.\n",
    "\n",
    "    states = ['Arizona', 'Iowa', 'Ohio', 'Nevada', 'Texas', 'Alabama', ' Mississippi', 'Utah', 'Indiana', 'Florida', \n",
    "              'New York', 'Nebraska', 'California', 'Colorado', 'Montana', 'Oregon', 'Washington']"
   ]
  },
  {
   "cell_type": "code",
   "execution_count": 13,
   "metadata": {
    "scrolled": true
   },
   "outputs": [
    {
     "data": {
      "text/plain": [
       "['California', 'Arizona', 'Iowa', 'Oregon', 'Alabama']"
      ]
     },
     "execution_count": 13,
     "metadata": {},
     "output_type": "execute_result"
    }
   ],
   "source": [
    "# given states \n",
    "states = ['Arizona', 'Iowa', 'Ohio', 'Nevada', 'Texas', 'Alabama', ' Mississippi', 'Utah', 'Indiana', 'Florida', 'New York', \n",
    "          'Nebraska', 'California', 'Colorado', 'Montana', 'Oregon', 'Washington']\n",
    "\n",
    "# select 5 states using 'sample()'\n",
    "# pass the data to the parameter, 'population'\n",
    "# pass the required sample size to the parameter, 'k' \n",
    "cluster_samp = random.sample(population = states, k = 5)\n",
    "\n",
    "# selected states \n",
    "cluster_samp"
   ]
  },
  {
   "cell_type": "code",
   "execution_count": null,
   "metadata": {},
   "outputs": [],
   "source": []
  }
 ],
 "metadata": {
  "kernelspec": {
   "display_name": "Python 3 (ipykernel)",
   "language": "python",
   "name": "python3"
  },
  "language_info": {
   "codemirror_mode": {
    "name": "ipython",
    "version": 3
   },
   "file_extension": ".py",
   "mimetype": "text/x-python",
   "name": "python",
   "nbconvert_exporter": "python",
   "pygments_lexer": "ipython3",
   "version": "3.9.7"
  }
 },
 "nbformat": 4,
 "nbformat_minor": 2
}
