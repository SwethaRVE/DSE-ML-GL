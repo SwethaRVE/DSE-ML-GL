{
 "cells": [
  {
   "cell_type": "markdown",
   "metadata": {},
   "source": [
    "<table align=\"center\" width=100%>\n",
    "    <tr>\n",
    "        <td width=\"15%\">\n",
    "            <img src=\"homework.png\">\n",
    "        </td>\n",
    "        <td>\n",
    "            <div align=\"center\">\n",
    "                <font color=\"#21618C\" size=8px>\n",
    "                    <b> Take-Home <br>(Week 1)\n",
    "                    </b>\n",
    "                </font>\n",
    "            </div>\n",
    "        </td>\n",
    "    </tr>\n",
    "</table>"
   ]
  },
  {
   "cell_type": "markdown",
   "metadata": {},
   "source": [
    "## Table of Content\n",
    "\n",
    "1. **[Sampling](#sample)**\n",
    "2. **[Descriptive Statistics](#descr)**\n",
    "3. **[Probability and Bayes Theorem](#prob)**"
   ]
  },
  {
   "cell_type": "markdown",
   "metadata": {},
   "source": [
    "**Import the required libraries**"
   ]
  },
  {
   "cell_type": "code",
   "execution_count": 29,
   "metadata": {},
   "outputs": [],
   "source": [
    "# import 'numpy' \n",
    "import numpy as np\n",
    "\n",
    "# import 'pandas' \n",
    "import pandas as pd\n",
    "\n",
    "# import matplotlib and seaborn for visualizations \n",
    "import matplotlib.pyplot as plt\n",
    "import seaborn as sns \n",
    "\n",
    "# to suppress warnings \n",
    "from warnings import filterwarnings\n",
    "filterwarnings('ignore')\n",
    "\n",
    "# import 'factorial' from math library\n",
    "from math import factorial\n",
    "\n",
    "# import 'stats' package from scipy library\n",
    "from scipy import stats\n",
    "\n",
    "# import 'random' to generate a random sample\n",
    "import random"
   ]
  },
  {
   "cell_type": "markdown",
   "metadata": {},
   "source": [
    "### Let's begin with some hands-on practice exercises"
   ]
  },
  {
   "cell_type": "markdown",
   "metadata": {},
   "source": [
    "<table align=\"left\">\n",
    "    <tr>\n",
    "        <td width=\"6%\">\n",
    "            <img src=\"question_icon.png\">\n",
    "        </td>\n",
    "        <td>\n",
    "            <div align=\"left\", style=\"font-size:120%\">\n",
    "                <font color=\"#21618C\">\n",
    "                    <b>1. A wrist-watch company wants to perform a quality check before launching their next-generation k22-digital watch. The production team has delivered 30 watches with number tags as 1,2,...30 on each watch for the quality check. Pick 5 watches randomly to check the quality. </b>\n",
    "                </font>\n",
    "            </div>\n",
    "        </td>\n",
    "    </tr>\n",
    "</table>"
   ]
  },
  {
   "cell_type": "code",
   "execution_count": 49,
   "metadata": {},
   "outputs": [
    {
     "name": "stdout",
     "output_type": "stream",
     "text": [
      "Sample without replacement: [30, 23, 10, 2, 16]\n"
     ]
    }
   ],
   "source": [
    "# we select 5 watches without replacement from a population of 30 watches  \n",
    "# 30 watches with number tags as 1,2,...,30\n",
    "data = np.arange(1,31,1)\n",
    "\n",
    "# pass the list of number tags on watches to the parameter, 'population'\n",
    "# pass the required sample size to the parameter, 'k' \n",
    "sample_wor = random.sample(population = list(data), k = 5)\n",
    "\n",
    "# print the sample\n",
    "print('Sample without replacement:', sample_wor)\n",
    "\n",
    "# Note: we can set 'random.seed()' to get the same output for each time the code runs"
   ]
  },
  {
   "cell_type": "markdown",
   "metadata": {
    "colab_type": "text",
    "id": "77vuf1DVf98O"
   },
   "source": [
    "<table align=\"left\">\n",
    "    <tr>\n",
    "        <td width=\"6%\">\n",
    "            <img src=\"question_icon.png\">\n",
    "        </td>\n",
    "        <td>\n",
    "            <div align=\"left\", style=\"font-size:120%\">\n",
    "                <font color=\"#21618C\">\n",
    "                    <b>2. The rainfall (in mm) in the city is recorded for 10 days. Find the rainfall value under which 60% of the rainfall would lie.</b>\n",
    "                </font>\n",
    "            </div>\n",
    "        </td>\n",
    "    </tr>\n",
    "</table>"
   ]
  },
  {
   "cell_type": "markdown",
   "metadata": {},
   "source": [
    "Given data:\n",
    "\n",
    "        rainfall (in mm) = [86, 74, 90, 108, 65, 84, 75, 92, 102, 93]"
   ]
  },
  {
   "cell_type": "code",
   "execution_count": 50,
   "metadata": {},
   "outputs": [
    {
     "name": "stdout",
     "output_type": "stream",
     "text": [
      "60% of the rainfall for 10 days would lie below 90.8mm\n"
     ]
    }
   ],
   "source": [
    "# given data of rainfall\n",
    "rainfall = pd.Series([86, 74, 90, 108, 65, 84, 75, 92, 102, 93])\n",
    "\n",
    "# compute 60th percentile using quantile()\n",
    "rain_60 = rainfall.quantile(0.60)\n",
    "\n",
    "print('60% of the rainfall for 10 days would lie below' + ' ' + str(round(rain_60,1)) + 'mm')"
   ]
  },
  {
   "cell_type": "markdown",
   "metadata": {
    "colab_type": "text",
    "id": "V7QJT8W9f98T"
   },
   "source": [
    "<table align=\"left\">\n",
    "    <tr>\n",
    "        <td width=\"6%\">\n",
    "            <img src=\"question_icon.png\">\n",
    "        </td>\n",
    "        <td>\n",
    "            <div align=\"left\", style=\"font-size:120%\">\n",
    "                <font color=\"#21618C\">\n",
    "                    <b>3. John is studying Mechanical Engineering while Jack is studying Fine Arts The performance of John and Jack in the monthly exams is given below. Compare their performances and identify the more consistent student. </b>\n",
    "                </font>\n",
    "            </div>\n",
    "        </td>\n",
    "    </tr>\n",
    "</table>"
   ]
  },
  {
   "cell_type": "markdown",
   "metadata": {},
   "source": [
    "Given data:\n",
    "\n",
    "        John = [42, 38, 47, 35, 39, 46]\n",
    "        Jack = [32, 36, 46, 49, 28, 30]"
   ]
  },
  {
   "cell_type": "code",
   "execution_count": 51,
   "metadata": {},
   "outputs": [
    {
     "name": "stdout",
     "output_type": "stream",
     "text": [
      "C.V. for John: 10.44\n",
      "C.V. for Jack: 21.63\n"
     ]
    }
   ],
   "source": [
    "# marks of John and Jack for 6 months\n",
    "John = [42, 38, 47, 35, 39, 46]\n",
    "Jack = [32, 36, 46, 49, 28, 30]\n",
    "\n",
    "# average marks of John \n",
    "john_avg = np.mean(John)\n",
    "\n",
    "# standard deviation for John\n",
    "john_std = np.std(John)\n",
    "\n",
    "# average marks of Jack \n",
    "jack_avg = np.mean(Jack)\n",
    "\n",
    "# standard deviation for Jack\n",
    "jack_std = np.std(Jack)\n",
    "\n",
    "# calculate coefficient of variation for both the students\n",
    "john_cv = (john_std/ john_avg)*100\n",
    "jack_cv = (jack_std/ jack_avg)*100\n",
    "\n",
    "# print the cv \n",
    "print('C.V. for John:', round(john_cv,3))\n",
    "print('C.V. for Jack:', round(jack_cv,3))"
   ]
  },
  {
   "cell_type": "markdown",
   "metadata": {},
   "source": [
    "John is more consistent as the CVar of his scores is less than Jack's"
   ]
  },
  {
   "cell_type": "markdown",
   "metadata": {
    "colab_type": "text",
    "id": "9qnEEhR4f98X"
   },
   "source": [
    "<table align=\"left\">\n",
    "    <tr>\n",
    "        <td width=\"6%\">\n",
    "            <img src=\"question_icon.png\">\n",
    "        </td>\n",
    "        <td>\n",
    "            <div align=\"left\", style=\"font-size:120%\">\n",
    "                <font color=\"#21618C\">\n",
    "                    <b>4. The amount of Calcium, Potassium and Iron in the chocolate cookies of 5 different brands is collected. Find out which mineral can be neglected while comparing the different cookie brands?</b>\n",
    "                </font>\n",
    "            </div>\n",
    "        </td>\n",
    "    </tr>\n",
    "</table>"
   ]
  },
  {
   "cell_type": "markdown",
   "metadata": {},
   "source": [
    "Given data:\n",
    "\n",
    "        Calcium (in mg) = [132, 138.56, 147.2, 145.6, 139]\n",
    "        Potassium (in mg) = [122.2, 116, 106.6, 119.52, 128]\n",
    "        Iron (in mg) = [2.96, 3.02, 3.01, 2.99, 2.93]"
   ]
  },
  {
   "cell_type": "code",
   "execution_count": 52,
   "metadata": {},
   "outputs": [
    {
     "name": "stdout",
     "output_type": "stream",
     "text": [
      "Standard deviation of Calcium 5.461861953583225\n",
      "Standard deviation of Potassium 7.111032555121656\n",
      "Standard deviation of Iron 0.03310589071449363\n"
     ]
    }
   ],
   "source": [
    "# given data\n",
    "Cal = [132, 138.56, 147.2, 145.6, 139]\n",
    "Pot = [122.2, 116, 106.6, 119.52, 128]\n",
    "Iron = [2.96, 3.02, 3.01, 2.99, 2.93]\n",
    "\n",
    "# calculate the standard deviation of all the three minerals\n",
    "print('Standard deviation of Calcium', np.std(Cal))\n",
    "print('Standard deviation of Potassium', np.std(Pot))\n",
    "print('Standard deviation of Iron', np.std(Iron))"
   ]
  },
  {
   "cell_type": "markdown",
   "metadata": {},
   "source": [
    "The above output shows that the standard deviation of `Iron` is near zero. This implies that the amount of iron in the cookies of all the brands is almost equal. Thus we can neglect the amount of iron while comparing the different cookie brands."
   ]
  },
  {
   "cell_type": "markdown",
   "metadata": {},
   "source": [
    "<table align=\"left\">\n",
    "    <tr>\n",
    "        <td width=\"6%\">\n",
    "            <img src=\"question_icon.png\">\n",
    "        </td>\n",
    "        <td>\n",
    "            <div align=\"left\", style=\"font-size:120%\">\n",
    "                <font color=\"#21618C\">\n",
    "                    <b>5. You have given two car's company cars mileage details, Find the company that is more relaible, while comparing the mileage.\n",
    "            </div>\n",
    "        </td>\n",
    "    </tr>\n",
    "</table>"
   ]
  },
  {
   "cell_type": "markdown",
   "metadata": {},
   "source": [
    "Given data:\n",
    "\n",
    "        Motor_Company1 = [20,30,23,25,26,27,33,27,21,22]\n",
    "        Motor_Company2 = [22,40,10,34,11,41,9,12,19,29]\n",
    "      "
   ]
  },
  {
   "cell_type": "code",
   "execution_count": 53,
   "metadata": {},
   "outputs": [],
   "source": [
    "Motor_Company1 = [20,30,23,25,26,27,33,27,21,22]\n",
    "Motor_Company2 = [22,40,10,34,11,41,9,12,19,29]"
   ]
  },
  {
   "cell_type": "code",
   "execution_count": 54,
   "metadata": {},
   "outputs": [
    {
     "name": "stdout",
     "output_type": "stream",
     "text": [
      "Motor company 1 standard deviation:  3.8781438859330635\n",
      "Motor company 2 standard deviation:  11.9\n"
     ]
    }
   ],
   "source": [
    "# calculate standard deviation for company 1\n",
    "std_company_1 = np.std(Motor_Company1)\n",
    "print('Motor company 1 standard deviation: ',std_company_1)\n",
    "# calculate standard deviation for company 2\n",
    "std_company_2 = np.std(Motor_Company2)\n",
    "print('Motor company 2 standard deviation: ',std_company_2)"
   ]
  },
  {
   "cell_type": "code",
   "execution_count": 55,
   "metadata": {},
   "outputs": [
    {
     "name": "stdout",
     "output_type": "stream",
     "text": [
      "The relaible Motor company is: Company 1\n"
     ]
    }
   ],
   "source": [
    "if std_company_1>std_company_2:\n",
    "    print('The relaible Motor company is: '+'Company 2')\n",
    "else:\n",
    "    print('The relaible Motor company is: '+'Company 1')"
   ]
  },
  {
   "cell_type": "markdown",
   "metadata": {},
   "source": [
    "**Observation**\n",
    "We can see that Motor_Company_1 is more consistant than Motor_Company_2 as it has lower standard deviation of mileage, Therefore we can say that based on the data given that Motor Company 1 appears to be more relaible."
   ]
  },
  {
   "cell_type": "markdown",
   "metadata": {},
   "source": [
    "<table align=\"left\">\n",
    "    <tr>\n",
    "        <td width=\"6%\">\n",
    "            <img src=\"question_icon.png\">\n",
    "        </td>\n",
    "        <td>\n",
    "            <div align=\"left\", style=\"font-size:120%\">\n",
    "                <font color=\"#21618C\">\n",
    "                    <b>6. Use the below data and find five point summary of the data.\n",
    "</b>\n",
    "                </font>\n",
    "            </div>\n",
    "        </td>\n",
    "    </tr>\n",
    "</table>"
   ]
  },
  {
   "cell_type": "markdown",
   "metadata": {},
   "source": [
    "rainfall = [132, 138.56, 147.2, 145.6, 139,86, 74, 90, 108, 65, 84, 75, 92, 102, 93,140,133.2,145.4,146.2,122.2, 116, 106.6, 119.52, 128.1,122.2, 116, 106.6, 119.52, 128,1]"
   ]
  },
  {
   "cell_type": "code",
   "execution_count": 56,
   "metadata": {},
   "outputs": [
    {
     "data": {
      "text/plain": [
       "count     30.000000\n",
       "mean     110.730000\n",
       "std       31.493512\n",
       "min        1.000000\n",
       "25%       92.250000\n",
       "50%      117.760000\n",
       "75%      132.900000\n",
       "max      147.200000\n",
       "dtype: float64"
      ]
     },
     "execution_count": 56,
     "metadata": {},
     "output_type": "execute_result"
    }
   ],
   "source": [
    "rainfall = pd.Series([132, 138.56, 147.2, 145.6, 139,86, 74, 90, 108, 65, 84, 75, 92, 102, 93,140,133.2,145.4,146.2,122.2, 116, 106.6, 119.52, 128.1,122.2, 116, 106.6, 119.52, 128,1])\n",
    "rainfall.describe()"
   ]
  },
  {
   "cell_type": "markdown",
   "metadata": {},
   "source": [
    "The Five Number Summary is as follows: \n",
    "[1.00, 92.25, 117.76, 132.90,  147.20]"
   ]
  },
  {
   "cell_type": "markdown",
   "metadata": {
    "colab_type": "text",
    "id": "6YXVLVi9f98b"
   },
   "source": [
    "<table align=\"left\">\n",
    "    <tr>\n",
    "        <td width=\"6%\">\n",
    "            <img src=\"question_icon.png\">\n",
    "        </td>\n",
    "        <td>\n",
    "            <div align=\"left\", style=\"font-size:120%\">\n",
    "                <font color=\"#21618C\">\n",
    "                    <b>7. A box contains 5 coins of Rs. 1, 3 coins of Rs. 2 and 6 coins of Rs. 5. We want to select three coins such that only the coins of an odd value are selected. Find the probability of selecting 3 such coins.</b>\n",
    "                </font>\n",
    "            </div>\n",
    "        </td>\n",
    "    </tr>\n",
    "</table>"
   ]
  },
  {
   "cell_type": "code",
   "execution_count": 57,
   "metadata": {
    "id": "qBlJcQbadLgs",
    "outputId": "fb0cf2fb-30b4-455d-c0b8-bec3b1052cda"
   },
   "outputs": [
    {
     "name": "stdout",
     "output_type": "stream",
     "text": [
      "The probability that three coins are selected with an odd price: 0.4532967032967033\n"
     ]
    }
   ],
   "source": [
    "# X be the event of selecting 3 coins of an odd price\n",
    "# here the prices are 1, 2 and 5; thus we select only the coins of Rs. 1 and 5\n",
    "# to find: P(X)\n",
    "\n",
    "# total coins\n",
    "n_coins = 5 + 3 + 6\n",
    "\n",
    "# define a function to calculate combinations \n",
    "def combination(n, r):\n",
    "    result = factorial(n) / (factorial(r) * factorial(n-r))\n",
    "    return result\n",
    "\n",
    "# total number of ways of selecting three coins\n",
    "total_ways = combination(n_coins, 3)\n",
    "\n",
    "# select 3 coins from total 11 coins of odd price\n",
    "num_X = combination(11, 3)\n",
    "\n",
    "# required probability\n",
    "prob =  num_X / total_ways\n",
    "\n",
    "print('The probability that three coins are selected with an odd price:', prob)"
   ]
  },
  {
   "cell_type": "markdown",
   "metadata": {
    "colab_type": "text",
    "id": "YIaQZc58f98p"
   },
   "source": [
    "<table align=\"left\">\n",
    "    <tr>\n",
    "        <td width=\"6%\">\n",
    "            <img src=\"question_icon.png\">\n",
    "        </td>\n",
    "        <td>\n",
    "            <div align=\"left\", style=\"font-size:120%\">\n",
    "                <font color=\"#21618C\">\n",
    "                    <b>8. A magician wants you to select three cards from a pack of 52 cards without replacement. Find the probability that one card is a queen?</b>\n",
    "                </font>\n",
    "            </div>\n",
    "        </td>\n",
    "    </tr>\n",
    "</table>"
   ]
  },
  {
   "cell_type": "code",
   "execution_count": 58,
   "metadata": {
    "id": "6iAxYHJIdLgt",
    "outputId": "de744060-0b73-4651-9235-ba6d95e23b95"
   },
   "outputs": [
    {
     "name": "stdout",
     "output_type": "stream",
     "text": [
      "The probability of occurrence of a queen among selected cards is: 0.2041628959276018\n"
     ]
    }
   ],
   "source": [
    "# define a function to calculate combinations \n",
    "def combination(n, r):\n",
    "    result = factorial(n) / (factorial(r) * factorial(n-r))\n",
    "    return result\n",
    "\n",
    "# total cards \n",
    "n = 52\n",
    "\n",
    "# total number of ways of selecting three cards without replacement\n",
    "total_ways = combination(n, 3)\n",
    "\n",
    "# let A: occurrence of a queen among selected cards \n",
    "# to find: P(A)\n",
    "# there are total 4 queens in a deck\n",
    "num_A = combination(4, 1)* combination(48, 2)\n",
    "\n",
    "# required probability\n",
    "prob =  num_A / total_ways\n",
    "\n",
    "print('The probability of occurrence of a queen among selected cards is:', prob)"
   ]
  },
  {
   "cell_type": "markdown",
   "metadata": {},
   "source": [
    "<table align=\"left\">\n",
    "    <tr>\n",
    "        <td width=\"6%\">\n",
    "            <img src=\"question_icon.png\">\n",
    "        </td>\n",
    "        <td>\n",
    "            <div align=\"left\", style=\"font-size:120%\">\n",
    "                <font color=\"#21618C\">\n",
    "                    <b>9. The same magician wants another person to select three cards from a pack of 52 cards without replacement. Find the probability that at least one card is a queen?</b>\n",
    "                </font>\n",
    "            </div>\n",
    "        </td>\n",
    "    </tr>\n",
    "</table>"
   ]
  },
  {
   "cell_type": "code",
   "execution_count": 48,
   "metadata": {},
   "outputs": [
    {
     "name": "stdout",
     "output_type": "stream",
     "text": [
      "The probability of occurrence of at least one queen among selected cards is: 0.217\n"
     ]
    }
   ],
   "source": [
    "# define a function to calculate combinations \n",
    "def combination(n, r):\n",
    "    result = factorial(n) / (factorial(r) * factorial(n-r))\n",
    "    return result\n",
    "\n",
    "# total cards \n",
    "n = 52\n",
    "\n",
    "# total number of ways of selecting three cards without replacement\n",
    "total_ways = combination(n, 3)\n",
    "\n",
    "# let A: occurrence of at least one queen among selected cards \n",
    "# to find: P(A) use the complement rule P(not A)=1-P(A)\n",
    "# there are total 4 queens in a deck\n",
    "num_not_A = combination(48, 3)\n",
    "\n",
    "# required probability\n",
    "prob_at_least_one_queen =  1- num_not_A / total_ways\n",
    "\n",
    "print('The probability of occurrence of at least one queen among selected cards is:', round(prob_at_least_one_queen,3))"
   ]
  },
  {
   "cell_type": "markdown",
   "metadata": {},
   "source": [
    "<table align=\"left\">\n",
    "    <tr>\n",
    "        <td width=\"6%\">\n",
    "            <img src=\"question_icon.png\">\n",
    "        </td>\n",
    "        <td>\n",
    "            <div align=\"left\", style=\"font-size:120%\">\n",
    "                <font color=\"#21618C\">\n",
    "                    <b>10.The probability of parking in a no parking zone is 0.2. The probability of a day being crowded is 0.36. The probability of the day being crowded and parking in the no parking zone is 0.28. What is the probability that a person will park in the no parking zone given in crowded day.\n",
    "            </div>\n",
    "        </td>\n",
    "    </tr>\n",
    "</table>"
   ]
  },
  {
   "cell_type": "code",
   "execution_count": 3,
   "metadata": {},
   "outputs": [
    {
     "name": "stdout",
     "output_type": "stream",
     "text": [
      "The probability of the person will park in the no parking zone given the day is crowded : 0.778\n"
     ]
    }
   ],
   "source": [
    "# probability of no parking\n",
    "no_parking = 0.2\n",
    "# probability of crowded\n",
    "crowded = 0.36\n",
    "# probability of crowded and no parking zone\n",
    "crowded_no_parking = 0.28\n",
    "# conditional probability:\n",
    "conditional_prob=(crowded_no_parking)/ crowded\n",
    "print('The probability of the person will park in the no parking zone given the day is crowded :',round(conditional_prob,3))"
   ]
  },
  {
   "cell_type": "markdown",
   "metadata": {},
   "source": [
    "<table align=\"left\">\n",
    "    <tr>\n",
    "        <td width=\"6%\">\n",
    "            <img src=\"question_icon.png\">\n",
    "        </td>\n",
    "        <td>\n",
    "            <div align=\"left\", style=\"font-size:120%\">\n",
    "                <font color=\"#21618C\">\n",
    "                    <b>11. A bulb manufacture company has two machines to produce bulbs, Machine A and Machine B. Machine A produces 80% of the bulbs and Machine B produces 20% of the bulbs. Machine A gives 10% defective bulb and Machine B gives 12% defective bulbs. What is the probability that a bulb selected at random which is defective is from Machine B.\n",
    "            </div>\n",
    "        </td>\n",
    "    </tr>\n",
    "</table>"
   ]
  },
  {
   "cell_type": "code",
   "execution_count": 4,
   "metadata": {},
   "outputs": [
    {
     "name": "stdout",
     "output_type": "stream",
     "text": [
      "The required probability is  0.231\n"
     ]
    }
   ],
   "source": [
    "# Probability of machine A\n",
    "Machine_A = .80\n",
    "# probability of machine B\n",
    "Machine_B = .20\n",
    "# The probability of bubls defective from Machine A\n",
    "Defective_given_Machine_A = .10\n",
    "# The probability of bubls defective from Machine B\n",
    "Defective_given_Machine_B = .12\n",
    "# Bayes theorem\n",
    "# P(Machine_B/Defective) = (P(Defective/Machine_b)*p(Machine_B)/p(Defective)\n",
    "defective_machine_B = (Defective_given_Machine_B * Machine_B)/((Defective_given_Machine_A*Machine_A) + (Defective_given_Machine_B*Machine_B))\n",
    "# The probability of Machine_B defective is\n",
    "print(\"The required probability is \", round(defective_machine_B,3))     \n"
   ]
  }
 ],
 "metadata": {
  "kernelspec": {
   "display_name": "Python 3 (ipykernel)",
   "language": "python",
   "name": "python3"
  },
  "language_info": {
   "codemirror_mode": {
    "name": "ipython",
    "version": 3
   },
   "file_extension": ".py",
   "mimetype": "text/x-python",
   "name": "python",
   "nbconvert_exporter": "python",
   "pygments_lexer": "ipython3",
   "version": "3.9.7"
  }
 },
 "nbformat": 4,
 "nbformat_minor": 2
}
