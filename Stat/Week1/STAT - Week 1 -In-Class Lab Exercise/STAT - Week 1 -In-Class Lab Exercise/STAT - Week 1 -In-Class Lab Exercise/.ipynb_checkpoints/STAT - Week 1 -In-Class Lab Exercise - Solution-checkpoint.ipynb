{
 "cells": [
  {
   "cell_type": "markdown",
   "metadata": {
    "colab_type": "text",
    "id": "0yzl3MKzf98L"
   },
   "source": [
    "<table align=\"center\" width=100%>\n",
    "    <tr>\n",
    "        <td width=\"10%\">\n",
    "            <img src=\"GL-2.png\">\n",
    "            <img src=\"in_class.png\">\n",
    "        </td>\n",
    "        <td>\n",
    "            <div align=\"center\">\n",
    "                <font color=\"#21618C\" size=8px>\n",
    "                    <b> Inclass-Lab  <br>(Week 1)\n",
    "                    </b>\n",
    "                </font>\n",
    "            </div>\n",
    "        </td>\n",
    "    </tr>\n",
    "</table>"
   ]
  },
  {
   "cell_type": "markdown",
   "metadata": {},
   "source": [
    "## Table of Content\n",
    "\n",
    "1. **[Sampling](#sample)**\n",
    "2. **[Descriptive Statistics](#descr)**\n",
    "3. **[Probability and Bayes Theorem](#prob)**"
   ]
  },
  {
   "cell_type": "markdown",
   "metadata": {},
   "source": [
    "**Import the required libraries**"
   ]
  },
  {
   "cell_type": "code",
   "execution_count": 1,
   "metadata": {},
   "outputs": [],
   "source": [
    "# import 'pandas'\n",
    "import pandas as pd\n",
    "\n",
    "# import 'numpy' \n",
    "import numpy as np\n",
    "\n",
    "# import 'matplotlib.pyplot'\n",
    "import matplotlib.pyplot as plt\n",
    "\n",
    "# to suppress warnings \n",
    "from warnings import filterwarnings\n",
    "filterwarnings('ignore')\n",
    "\n",
    "# import 'factorial' from math library\n",
    "from math import factorial\n",
    "\n",
    "# import 'stats' package from scipy library\n",
    "from scipy import stats\n",
    "from scipy.stats import randint\n",
    "\n",
    "# import 'random' to generate a random sample\n",
    "import random\n",
    "import seaborn as sns"
   ]
  },
  {
   "cell_type": "markdown",
   "metadata": {
    "colab_type": "text",
    "id": "psOYFu6zf98N"
   },
   "source": [
    "### Let's begin with some hands-on practice exercises"
   ]
  },
  {
   "cell_type": "markdown",
   "metadata": {
    "colab_type": "text",
    "id": "GhwNCvTmf99O"
   },
   "source": [
    "<a id=\"sample\"></a>\n",
    "## 1. Sampling"
   ]
  },
  {
   "cell_type": "markdown",
   "metadata": {
    "colab_type": "text",
    "id": "EE_L86gBf99t"
   },
   "source": [
    "<table align=\"left\">\n",
    "    <tr>\n",
    "        <td width=\"6%\">\n",
    "            <img src=\"question_icon.png\">\n",
    "        </td>\n",
    "        <td>\n",
    "            <div align=\"left\", style=\"font-size:120%\">\n",
    "                <font color=\"#21618C\">\n",
    "                    <b>1. A farmer has planted 98 tomato plants last year. He has numbered each plant with numbers 1,2,...98. Now he wants to study the growth of the plants. Help the farmer to select 12 plants randomly as a sample for the study using an appropriate sampling technique.</b>\n",
    "                </font>\n",
    "            </div>\n",
    "        </td>\n",
    "    </tr>\n",
    "</table>"
   ]
  },
  {
   "cell_type": "code",
   "execution_count": 2,
   "metadata": {},
   "outputs": [
    {
     "name": "stdout",
     "output_type": "stream",
     "text": [
      "Sample plants (without replacement): [28, 52, 84, 31, 47, 85, 18, 46, 27, 41, 50, 26]\n"
     ]
    }
   ],
   "source": [
    "# select 12 plants without replacement from a population of 98 plants  \n",
    "# 98 plants with number tags as 1,2,...,98\n",
    "data = np.arange(1,99,1)\n",
    "\n",
    "# pass the list of number on the plants to the parameter, 'population'\n",
    "# pass the required sample size to the parameter, 'k' \n",
    "sample_wor = random.sample(population = list(data), k = 12)\n",
    "\n",
    "# print the sample\n",
    "print('Sample plants (without replacement):', sample_wor)\n",
    "\n",
    "# Note: we can set 'random.seed()' to get the same output for each time the code runs"
   ]
  },
  {
   "cell_type": "markdown",
   "metadata": {
    "colab_type": "text",
    "id": "-qD5ZQ7Bf99v"
   },
   "source": [
    "<table align=\"left\">\n",
    "    <tr>\n",
    "        <td width=\"6%\">\n",
    "            <img src=\"question_icon.png\">\n",
    "        </td>\n",
    "        <td>\n",
    "            <div align=\"left\", style=\"font-size:120%\">\n",
    "                <font color=\"#21618C\">\n",
    "                    <b>2. Ron found gold, silver and copper coin on his way home. He asked 10 people to choose a coin randomly. He then created a list of coins chosen by each individual. Find one of the possible sample for this experiment using an appropriate sampling technique. </b>\n",
    "                </font>\n",
    "            </div>\n",
    "        </td>\n",
    "    </tr>\n",
    "</table>"
   ]
  },
  {
   "cell_type": "code",
   "execution_count": 3,
   "metadata": {},
   "outputs": [
    {
     "name": "stdout",
     "output_type": "stream",
     "text": [
      "One of the possible sample : ['Silver', 'Gold', 'Copper', 'Silver', 'Copper', 'Copper', 'Gold', 'Silver', 'Gold', 'Silver']\n"
     ]
    }
   ],
   "source": [
    "# the population consists of three coins\n",
    "pop = ['Gold', 'Silver', 'Copper']\n",
    "\n",
    "# draw a sample of size 10 from the population\n",
    "# pass the data to the parameter, 'population'\n",
    "# pass the required sample size to the parameter, 'k' \n",
    "sample_wr = random.choices(population = pop, k = 10)\n",
    "\n",
    "# print the sample\n",
    "print('One of the possible sample :', sample_wr)"
   ]
  },
  {
   "cell_type": "markdown",
   "metadata": {
    "colab_type": "text",
    "id": "r4J-iIEhf98N"
   },
   "source": [
    "<a id = \"descr\"> </a>\n",
    "## 2. Descriptive Statistics "
   ]
  },
  {
   "cell_type": "markdown",
   "metadata": {
    "colab_type": "text",
    "id": "9qnEEhR4f98X"
   },
   "source": [
    "<table align=\"left\">\n",
    "    <tr>\n",
    "        <td width=\"6%\">\n",
    "            <img src=\"question_icon.png\">\n",
    "        </td>\n",
    "        <td>\n",
    "            <div align=\"left\", style=\"font-size:120%\">\n",
    "                <font color=\"#21618C\">\n",
    "                    <b>3. An ice-cream manufacturer wants to study the sales of ice-creams to decide the production policies of the company. He collects the data for the numver of ice-creams sold in a month from all the 30 franchise. Find the mean and median sales of all the franchises .</b>\n",
    "                </font>\n",
    "            </div>\n",
    "        </td>\n",
    "    </tr>\n",
    "</table>"
   ]
  },
  {
   "cell_type": "markdown",
   "metadata": {},
   "source": [
    "Given Data \n",
    "\n",
    "sales = [21, 93, 62, 76, 73, 20, 56, 95, 41, 36, 38, 13, 80, 88, 34, 18, 40, 11, 25, 29, 61, 23, 82, 10, 92, 69, 60, 87, 14, 91]"
   ]
  },
  {
   "cell_type": "code",
   "execution_count": 4,
   "metadata": {},
   "outputs": [
    {
     "name": "stdout",
     "output_type": "stream",
     "text": [
      "Mean: 51.3\n",
      "Median: 48.5\n"
     ]
    }
   ],
   "source": [
    "# given data\n",
    "sale = [21, 93, 62, 76, 73, 20, 56, 95, 41, 36, 38, 13, 80, 88, 34, 18, 40, 11, 25, 29, 61, 23, 82, 10, 92, 69, 60, 87, 14, 91]\n",
    "\n",
    "# calculate mean sale\n",
    "mean_sale = np.mean(sale)\n",
    "print('Mean:', round(mean_sale,1))\n",
    "\n",
    "# calculate median sale\n",
    "med_sale = np.median(sale)\n",
    "print('Median:', med_sale)"
   ]
  },
  {
   "cell_type": "markdown",
   "metadata": {
    "colab_type": "text",
    "id": "9qnEEhR4f98X"
   },
   "source": [
    "<table align=\"left\">\n",
    "    <tr>\n",
    "        <td width=\"6%\">\n",
    "            <img src=\"question_icon.png\">\n",
    "        </td>\n",
    "        <td>\n",
    "            <div align=\"left\", style=\"font-size:120%\">\n",
    "                <font color=\"#21618C\">\n",
    "                    <b>4. Use the data given in the previous question to calculate the standard deviation of ice-cream sales.Also find the range in which the middle 50% of the sales would lie.</b>\n",
    "                </font>\n",
    "            </div>\n",
    "        </td>\n",
    "    </tr>\n",
    "</table>"
   ]
  },
  {
   "cell_type": "markdown",
   "metadata": {},
   "source": [
    "Given Data \n",
    "\n",
    "sales = [21, 93, 62, 76, 73, 20, 56, 95, 41, 36, 38, 13, 80, 88, 34, 18, 40, 11, 25, 29, 61, 23, 82, 10, 92, 69, 60, 87, 14, 91]"
   ]
  },
  {
   "cell_type": "code",
   "execution_count": 5,
   "metadata": {},
   "outputs": [
    {
     "name": "stdout",
     "output_type": "stream",
     "text": [
      "Standard Deviation: 28.9\n",
      "Range of the middle 50% of the sale: 55.5\n"
     ]
    }
   ],
   "source": [
    "# given sale\n",
    "sale = [21, 93, 62, 76, 73, 20, 56, 95, 41, 36, 38, 13, 80, 88, 34, 18, 40, 11, 25, 29, 61, 23, 82, 10, 92, 69, 60, 87, 14, 91]\n",
    "# calculate standard deviation\n",
    "std_sale = np.std(sale)\n",
    "print('Standard Deviation:', round(std_sale,1))\n",
    "\n",
    "# calculate the IQR to obtain the range of middle 50% of the sale\n",
    "\n",
    "# 1st quartile\n",
    "# pass the sale values to the parameter, 'a'\n",
    "# pass the required quantile value to the parameter, 'q'\n",
    "Q1_sale = np.quantile(a = sale, q = 0.25)\n",
    "\n",
    "# 3rd quartile\n",
    "# pass the sale values to the parameter, 'a'\n",
    "# pass the required quantile value to the parameter, 'q'\n",
    "Q3_sale = np.quantile(a = sale, q = 0.75)\n",
    "\n",
    "# calculate IQR\n",
    "IQR = Q3_sale - Q1_sale\n",
    "\n",
    "print('Range of the middle 50% of the sale:', IQR)"
   ]
  },
  {
   "cell_type": "markdown",
   "metadata": {
    "colab_type": "text",
    "id": "6YXVLVi9f98b"
   },
   "source": [
    "<table align=\"left\">\n",
    "    <tr>\n",
    "        <td width=\"6%\">\n",
    "            <img src=\"question_icon.png\">\n",
    "        </td>\n",
    "        <td>\n",
    "            <div align=\"left\", style=\"font-size:120%\">\n",
    "                <font color=\"#21618C\">\n",
    "                    <b>5. Again using the data of the previous question calculate the measure of skewness and kurtosis of ice-cream sales </b>\n",
    "                </font>\n",
    "            </div>\n",
    "        </td>\n",
    "    </tr>\n",
    "</table>"
   ]
  },
  {
   "cell_type": "markdown",
   "metadata": {},
   "source": [
    "Given Data \n",
    "\n",
    "sales = [21, 93, 62, 76, 73, 20, 56, 95, 41, 36, 38, 13, 80, 88, 34, 18, 40, 11, 25, 29, 61, 23, 82, 10, 92, 69, 60, 87, 14, 91]"
   ]
  },
  {
   "cell_type": "code",
   "execution_count": 6,
   "metadata": {},
   "outputs": [
    {
     "name": "stdout",
     "output_type": "stream",
     "text": [
      "Skewness of Sale: 0.08916446718602886\n",
      "Kurtosis of Sale: -1.4821565080588839\n"
     ]
    }
   ],
   "source": [
    "# calculate the value of skewness to identify the type\n",
    "sale = [21, 93, 62, 76, 73, 20, 56, 95, 41, 36, 38, 13, 80, 88, 34, 18, 40, 11, 25, 29, 61, 23, 82, 10, 92, 69, 60, 87, 14, 91]\n",
    "sale_kurt = stats.skew(sale)\n",
    "print('Skewness of Sale:', sale_kurt)\n",
    "\n",
    "# calculate the value of kurtosis to identify the type\n",
    "sale_kurt = stats.kurtosis(sale)\n",
    "print('Kurtosis of Sale:', sale_kurt)"
   ]
  },
  {
   "cell_type": "markdown",
   "metadata": {
    "colab_type": "text",
    "id": "9qnEEhR4f98X"
   },
   "source": [
    "<table align=\"left\">\n",
    "    <tr>\n",
    "        <td width=\"6%\">\n",
    "            <img src=\"question_icon.png\">\n",
    "        </td>\n",
    "        <td>\n",
    "            <div align=\"left\", style=\"font-size:120%\">\n",
    "                <font color=\"#21618C\">\n",
    "                    <b>6. An ice-cream manufacturer wants to study the sales of ice-creams to decide the production policies of the company. He collects the data for the number of ice-creams sold in a month from all the 30 franchise. Additionally he also has data for the average work hours of each franchise last month. Is there a relationship between the sales and working hours. Comment on the nature of relationship .</b>\n",
    "                </font>\n",
    "            </div>\n",
    "        </td>\n",
    "    </tr>\n",
    "</table>"
   ]
  },
  {
   "cell_type": "markdown",
   "metadata": {},
   "source": [
    "Given Data \n",
    "\n",
    "sales = [21, 93, 62, 76, 73, 20, 56, 95, 41, 36, 38, 13, 80, 88, 34, 18, 40, 11, 25, 29, 61, 23, 82, 10, 92, 69, 60, 87, 14, 91]\n",
    "\n",
    "hours=[7, 9.5, 8, 8.5, 9, 6.5, 7, 10.5, 9, 7.5, 8, 6, 10, 8.5, 6, 6.5, 7, 5, 6.5, 6.5, 7.5, 6.5, 8, 8.5, 9.5, 10,7.5, 8.5, 6.5, 10.5] "
   ]
  },
  {
   "cell_type": "code",
   "execution_count": 7,
   "metadata": {},
   "outputs": [
    {
     "name": "stdout",
     "output_type": "stream",
     "text": [
      "Correlation coefficient: 0.804\n"
     ]
    }
   ],
   "source": [
    "# given data\n",
    "sale = pd.Series([21, 93, 62, 76, 73, 20, 56, 95, 41, 36, 38, 13, 80, 88, 34, 18, 40, 11, 25, 29, 61, 23, 82, 10, 92, 69, 60, 87, 14, 91])\n",
    "working_hrs = pd.Series([7, 9.5, 8, 8.5, 9, 6.5, 7, 10.5, 9, 7.5, 8, 6, 10, 8.5, 6, 6.5, 7, 5, 6.5, 6.5, 7.5, 6.5, 8, 8.5, 9.5, 10,7.5, 8.5, 6.5, 10.5])\n",
    "\n",
    "# calculate the correlation coefficient to find the relationship between working hours and sales of a store\n",
    "corr_coeff = working_hrs.corr(sale)\n",
    "\n",
    "print('Correlation coefficient:', round(corr_coeff,3))"
   ]
  },
  {
   "cell_type": "markdown",
   "metadata": {},
   "source": [
    "There appears to be a strong positive correlation between sales and working hours"
   ]
  },
  {
   "cell_type": "markdown",
   "metadata": {
    "colab_type": "text",
    "id": "r4J-iIEhf98N"
   },
   "source": [
    "<a id = \"prob\"> </a>\n",
    "## 3. Probability"
   ]
  },
  {
   "cell_type": "markdown",
   "metadata": {
    "colab_type": "text",
    "id": "V7QJT8W9f98T"
   },
   "source": [
    "<table align=\"left\">\n",
    "    <tr>\n",
    "        <td width=\"6%\">\n",
    "            <img src=\"question_icon.png\">\n",
    "        </td>\n",
    "        <td>\n",
    "            <div align=\"left\", style=\"font-size:120%\">\n",
    "                <font color=\"#21618C\">\n",
    "                    <b>7. If the letters of the word MATHEMATICS are arranged in random, what is the probability that the two M's come together.</b>\n",
    "                </font>\n",
    "            </div>\n",
    "        </td>\n",
    "    </tr>\n",
    "</table>"
   ]
  },
  {
   "cell_type": "code",
   "execution_count": 8,
   "metadata": {},
   "outputs": [],
   "source": [
    "# set the frequency of each letter in the given word\n",
    "length_of_word = len(\"MATHEMATICS\")\n",
    "No_of_M = 2\n",
    "No_of_A = 2\n",
    "No_of_T = 2\n",
    "No_of_H = 1\n",
    "No_of_E = 1\n",
    "No_of_I = 1\n",
    "No_of_C = 1\n",
    "No_of_S = 1"
   ]
  },
  {
   "cell_type": "code",
   "execution_count": 9,
   "metadata": {},
   "outputs": [],
   "source": [
    "# number of words when all A's are together\n",
    "no_words_with_2M = factorial(10) / (factorial(No_of_A)*factorial(No_of_T)*factorial(No_of_H)*factorial(No_of_E)*factorial(No_of_I)*factorial(No_of_C)*factorial(No_of_S))\n",
    "\n",
    "# total number of words using the letters of the word \"AABRAAKAADAABRAA\"\n",
    "total_words = factorial(length_of_word) /(factorial(No_of_M)*factorial(No_of_A)*factorial(No_of_T)*factorial(No_of_H)*factorial(No_of_E)*factorial(No_of_I)*factorial(No_of_C)*factorial(No_of_S))\n"
   ]
  },
  {
   "cell_type": "code",
   "execution_count": 10,
   "metadata": {},
   "outputs": [
    {
     "name": "stdout",
     "output_type": "stream",
     "text": [
      "The probability that 2 M's come consecutively in the word is 0.182\n"
     ]
    }
   ],
   "source": [
    " #the required probability is\n",
    "req_prob = (no_words_with_2M/total_words)\n",
    "print(\"The probability that 2 M's come consecutively in the word is\", round(req_prob,3))"
   ]
  },
  {
   "cell_type": "markdown",
   "metadata": {
    "colab_type": "text",
    "id": "V7QJT8W9f98T"
   },
   "source": [
    "<table align=\"left\">\n",
    "    <tr>\n",
    "        <td width=\"6%\">\n",
    "            <img src=\"question_icon.png\">\n",
    "        </td>\n",
    "        <td>\n",
    "            <div align=\"left\", style=\"font-size:120%\">\n",
    "                <font color=\"#21618C\">\n",
    "                    <b>8. If the letters of the word MATHEMATICS are arranged in random, what is the probability that the all the vowels come together.</b>\n",
    "                </font>\n",
    "            </div>\n",
    "        </td>\n",
    "    </tr>\n",
    "</table>"
   ]
  },
  {
   "cell_type": "code",
   "execution_count": 11,
   "metadata": {},
   "outputs": [
    {
     "name": "stdout",
     "output_type": "stream",
     "text": [
      "0.024242424242424242\n"
     ]
    }
   ],
   "source": [
    "Number_of_vowels = 4\n",
    "Total_letters = 11\n",
    "Number_of_ways_4_vowel_can_be_together  = (factorial(8)*factorial(4))/(factorial(2)*factorial(2)*factorial(2))\n",
    "total_words = factorial(length_of_word) /(factorial(No_of_M)*factorial(No_of_A)*factorial(No_of_T)*factorial(No_of_H)*factorial(No_of_E)*factorial(No_of_I)*factorial(No_of_C)*factorial(No_of_S))\n",
    "#Prob_vowel_coming_together  = Number of ways Vowel come together/total number of ways\n",
    "req_prob = Number_of_ways_4_vowel_can_be_together/total_words\n",
    "print(req_prob)"
   ]
  },
  {
   "cell_type": "markdown",
   "metadata": {
    "colab_type": "text",
    "id": "V7QJT8W9f98T"
   },
   "source": [
    "<table align=\"left\">\n",
    "    <tr>\n",
    "        <td width=\"6%\">\n",
    "            <img src=\"question_icon.png\">\n",
    "        </td>\n",
    "        <td>\n",
    "            <div align=\"left\", style=\"font-size:120%\">\n",
    "                <font color=\"#21618C\">\n",
    "                    <b>9. The odds that it will rain tomorrow is 15:10. What is the probability that it will not rain tomorrow. </b>\n",
    "                </font>\n",
    "            </div>\n",
    "        </td>\n",
    "    </tr>\n",
    "</table>"
   ]
  },
  {
   "cell_type": "code",
   "execution_count": 12,
   "metadata": {},
   "outputs": [
    {
     "name": "stdout",
     "output_type": "stream",
     "text": [
      "The  probability that it will not rain tomorrow 0.4\n"
     ]
    }
   ],
   "source": [
    "# here odds are 15:10 \n",
    "a = 15\n",
    "b = 10\n",
    "\n",
    "# to find: P(A') = 1 - P(A)\n",
    "req_prob = 1 - (a/(a+b))\n",
    "\n",
    "print('The  probability that it will not rain tomorrow', req_prob)"
   ]
  },
  {
   "cell_type": "markdown",
   "metadata": {
    "colab_type": "text",
    "id": "V7QJT8W9f98T"
   },
   "source": [
    "<table align=\"left\">\n",
    "    <tr>\n",
    "        <td width=\"6%\">\n",
    "            <img src=\"question_icon.png\">\n",
    "        </td>\n",
    "        <td>\n",
    "            <div align=\"left\", style=\"font-size:120%\">\n",
    "                <font color=\"#21618C\">\n",
    "                    <b>10. In a company there are 95 employees. Out of these 70 employees received an incentive whereas 25 did not. In the previous year 40 employees had undergone a special training. Thirty of the employee who had attended the training  received the incentive. What is the probability that a person who received an incentive had done the training.</b>\n",
    "                </font>\n",
    "            </div>\n",
    "        </td>\n",
    "    </tr>\n",
    "</table>"
   ]
  },
  {
   "cell_type": "markdown",
   "metadata": {},
   "source": [
    "### Example:\n",
    "<table align=\"center\" width=350>\n",
    "    <tr>\n",
    "        <td width=\"20%\">\n",
    "            <img src=\"matrix.png\">\n",
    "        </td>\n",
    "    </tr>\n",
    "</table>"
   ]
  },
  {
   "cell_type": "code",
   "execution_count": 13,
   "metadata": {},
   "outputs": [
    {
     "name": "stdout",
     "output_type": "stream",
     "text": [
      "The probability that a person who received an incentive had done the training  0.43\n"
     ]
    }
   ],
   "source": [
    "# probability of emp. received incentives\n",
    "prob_I = 70/95\n",
    "\n",
    "# probability of emp. got training \n",
    "prob_T = 40/95\n",
    "\n",
    "# probability of emp. got incentives given she did traininig \n",
    "prob_IgT = 30/40\n",
    "\n",
    "#  probability that an employee chosen has done training given that she received incentive \n",
    "# using Bayes' theorem\n",
    "Prob_TgI = (prob_IgT * prob_T) / prob_I\n",
    "\n",
    "# use 'round()' to round-off the value to 2 digits\n",
    "req_prob = round(Prob_TgI, 2)\n",
    "\n",
    "print('The probability that a person who received an incentive had done the training ', req_prob)"
   ]
  },
  {
   "cell_type": "code",
   "execution_count": null,
   "metadata": {},
   "outputs": [],
   "source": []
  }
 ],
 "metadata": {
  "colab": {
   "name": "ITP - In-Class Lab Exercise (Day1) - Solutions [V1.0 030120].ipynb",
   "provenance": []
  },
  "kernelspec": {
   "display_name": "Python 3 (ipykernel)",
   "language": "python",
   "name": "python3"
  },
  "language_info": {
   "codemirror_mode": {
    "name": "ipython",
    "version": 3
   },
   "file_extension": ".py",
   "mimetype": "text/x-python",
   "name": "python",
   "nbconvert_exporter": "python",
   "pygments_lexer": "ipython3",
   "version": "3.9.7"
  }
 },
 "nbformat": 4,
 "nbformat_minor": 1
}
