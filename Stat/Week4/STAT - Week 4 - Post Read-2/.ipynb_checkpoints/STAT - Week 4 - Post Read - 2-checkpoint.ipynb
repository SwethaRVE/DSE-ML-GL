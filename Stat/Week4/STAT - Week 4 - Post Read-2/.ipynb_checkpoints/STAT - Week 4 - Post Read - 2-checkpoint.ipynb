{
 "cells": [
  {
   "cell_type": "markdown",
   "metadata": {},
   "source": [
    "<table align=\"left\" width=100%>\n",
    "    <tr>\n",
    "        <td width=\"20%\">\n",
    "            <img src=\"GL-2.png\">\n",
    "            <img src=\"faculty.png\">\n",
    "        </td>\n",
    "        <td>\n",
    "            <div align=\"center\">\n",
    "                <font color=\"#21618C\" size=8px>\n",
    "                  <b> Post Read - 2 <br> (Week 4) </b>\n",
    "                </font>\n",
    "            </div>\n",
    "        </td>\n",
    "    </tr>\n",
    "</table>"
   ]
  },
  {
   "cell_type": "markdown",
   "metadata": {},
   "source": [
    "## Table of Content\n",
    "\n",
    "1. **[Import Libraries](#lib)**\n",
    "2. **[Equivalent Non-parametric Test of ANOVA - Kruskal Wallis](#non-para)**\n",
    "3. **[Two-way ANOVA](#2way)**"
   ]
  },
  {
   "cell_type": "markdown",
   "metadata": {},
   "source": [
    "<a id=\"lib\"></a>\n",
    "# 1. Import Libraries"
   ]
  },
  {
   "cell_type": "markdown",
   "metadata": {},
   "source": [
    "**Let us import the required libraries.**"
   ]
  },
  {
   "cell_type": "code",
   "execution_count": 1,
   "metadata": {},
   "outputs": [],
   "source": [
    "# import 'pandas' \n",
    "import pandas as pd \n",
    "\n",
    "# import 'numpy' \n",
    "import numpy as np\n",
    "\n",
    "# import subpackage of matplotlib\n",
    "import matplotlib.pyplot as plt\n",
    "\n",
    "# import 'seaborn'\n",
    "import seaborn as sns\n",
    "\n",
    "# to suppress warnings \n",
    "from warnings import filterwarnings\n",
    "filterwarnings('ignore')\n",
    "\n",
    "# import statsmodels\n",
    "import statsmodels.api as sm\n",
    "from statsmodels.formula.api import ols\n",
    "from statsmodels.stats.anova import anova_lm\n",
    "\n",
    "# import 'stats' package from scipy library\n",
    "from scipy import stats\n",
    "\n",
    "# import the functions to perform Chi-square tests\n",
    "from scipy.stats import chi2_contingency\n",
    "from scipy.stats import chi2\n",
    "from scipy.stats import chisquare\n",
    "\n",
    "# function to perform post-hoc test\n",
    "import statsmodels.stats.multicomp as mc\n",
    "\n",
    "# import function to perform post-hoc\n",
    "# install scikit_posthocs using \"!pip install scikit_posthocs\" \n",
    "import scikit_posthocs"
   ]
  },
  {
   "cell_type": "code",
   "execution_count": 2,
   "metadata": {},
   "outputs": [],
   "source": [
    "# set the plot size using 'rcParams'\n",
    "# once the plot size is set using 'rcParams', it sets the size of all the forthcoming plots in the file\n",
    "# pass width and height in inches to 'figure.figsize' \n",
    "plt.rcParams['figure.figsize'] = [15,8]"
   ]
  },
  {
   "cell_type": "markdown",
   "metadata": {},
   "source": [
    "<a id=\"non-para\"></a>\n",
    "# 2. Equivalent Non-parametric Test of ANOVA - Kruskal Wallis"
   ]
  },
  {
   "cell_type": "markdown",
   "metadata": {},
   "source": [
    "If one of the assumptions of one-way ANOVA is not satisfied, then we can perform the `Kruskal-Wallis H test` which is a non-parametric equivalent test for one-way ANOVA.\n",
    "\n",
    "The null and alternative hypothesis is given as:\n",
    "<p style='text-indent:20em'> <strong> $H_{0}$: The averages of all treatments are the same. </strong></p>\n",
    "<p style='text-indent:20em'> <strong> $H_{1}$: At least one treatment has a different average. </strong></p>\n",
    "\n",
    "Consider there are `t` treatments each with $n_{i}$ (i = 1,2,...,t) observations  and `n` be the number of total observations. The test statistic is given as:\n",
    "<p style='text-indent:28em'> <strong> $H = \\frac{12}{n(n+1)} \\sum_{i}{\\frac{R_{i}^{2}}{n_{i}} - 3(n+1)} $</strong></p>\n",
    "\n",
    "Where $R_{i}$ sum of the ranks of observations in the $i^{th}$ treatment.\n",
    "\n",
    "Under $H_{0}$, the test statistic follows Chi-square distribution with ($t-1$) degrees of freedom."
   ]
  },
  {
   "cell_type": "markdown",
   "metadata": {},
   "source": [
    "### Example:\n",
    "\n",
    "#### 1. A gym trainer wants to provide an energy bar to all his customers to increase muscle strength. Three different companies approached the gym trainer with their high-quality energy bars. The trainer collects an amount of calcium (in g) in the energy bar from three companies and he wants to study whether all the bars have an equal amount of calcium on average. Test at 5% level of significance.\n",
    "\n",
    "given data:\n",
    "           \n",
    "           alpha_bar = [24.4, 20.7, 56.9, 19.5]\n",
    "           beta_bar = [53.2, 54.7, 20.5, 15.8, 56.6]\n",
    "           gamma_bar = [54, 31, 22.8, 24.7]"
   ]
  },
  {
   "cell_type": "markdown",
   "metadata": {},
   "source": [
    "The null and alternative hypothesis is:\n",
    "\n",
    "H<sub>0</sub>: The average amount of calcium in all the energy bars is same<br>\n",
    "H<sub>1</sub>: At least one energy bar has a different average amount of calcium "
   ]
  },
  {
   "cell_type": "code",
   "execution_count": 55,
   "metadata": {},
   "outputs": [
    {
     "data": {
      "text/plain": [
       "[24.4, 20.7, 56.9, 19.5, 53.2, 54.7, 20.5, 15.8, 56.6, 54, 31, 22.8, 24.7]"
      ]
     },
     "execution_count": 55,
     "metadata": {},
     "output_type": "execute_result"
    }
   ],
   "source": [
    "# given data\n",
    "# amount of calcium in alpha_bar\n",
    "alpha_bar = [24.4, 20.7, 56.9, 19.5]\n",
    "\n",
    "# amount of calcium in beta_bar\n",
    "beta_bar = [53.2, 54.7, 20.5, 15.8, 56.6]\n",
    "\n",
    "# amount of calcium in gamma_bar\n",
    "gamma_bar = [54, 31, 22.8, 24.7]\n",
    "\n",
    "# create an empty list to include the amount of calcium for all energy bars\n",
    "cal_amt = []\n",
    "\n",
    "# use 'extend()' to add the data in the list\n",
    "cal_amt.extend(alpha_bar)\n",
    "cal_amt.extend(beta_bar)\n",
    "cal_amt.extend(gamma_bar)\n",
    "\n",
    "# print the data\n",
    "cal_amt"
   ]
  },
  {
   "cell_type": "markdown",
   "metadata": {},
   "source": [
    "Let us check the normality of the amount of calcium in the energy bars."
   ]
  },
  {
   "cell_type": "code",
   "execution_count": 56,
   "metadata": {},
   "outputs": [
    {
     "name": "stdout",
     "output_type": "stream",
     "text": [
      "p-value: 0.0048474338836967945\n"
     ]
    }
   ],
   "source": [
    "# perform Shapiro-Wilk test to test the normality\n",
    "# shapiro() returns a tuple having the values of test statistics and the corresponding p-value\n",
    "# pass the calcium in each of the energy bar\n",
    "stat, p_value = stats.shapiro(cal_amt)\n",
    "\n",
    "# print the p-value\n",
    "print('p-value:', p_value)"
   ]
  },
  {
   "cell_type": "markdown",
   "metadata": {},
   "source": [
    "From the above result, we can see that the p-value is less than 0.05, thus we can say that the calcium amount in the energy bars is not normally distributed. This does not satisfy the assumption of normality for ANOVA.\n",
    "\n",
    "Thus we can not apply one-way ANOVA to test the equality of the amount of calcium. Let us use the non-parametric equivalent `Kruskal-Wallis H test`."
   ]
  },
  {
   "cell_type": "markdown",
   "metadata": {},
   "source": [
    "For ⍺ = 0.05 and degrees of freedom (=3 - 1) = 2, calculate the critical value."
   ]
  },
  {
   "cell_type": "code",
   "execution_count": 57,
   "metadata": {},
   "outputs": [
    {
     "name": "stdout",
     "output_type": "stream",
     "text": [
      "Critical value for chi-square test: 5.9915\n"
     ]
    }
   ],
   "source": [
    "# calculate the χ2-value for 95% of confidence level\n",
    "# use 'stats.chi2.isf()' to find the χ2-value corresponding to the upper tail probability 'q'\n",
    "# pass the value of 'alpha' to the parameter 'q', here alpha = 0.05\n",
    "# pass the degrees of freedom to the parameter 'df' \n",
    "# use 'round()' to round-off the value to 4 digits\n",
    "chi2_val = np.abs(round(stats.chi2.isf(q = 0.05, df = 2), 4))\n",
    "\n",
    "print('Critical value for chi-square test:', chi2_val)"
   ]
  },
  {
   "cell_type": "markdown",
   "metadata": {},
   "source": [
    "i.e. if the chi-square value is greater than 5.9915 then we reject the null hypothesis."
   ]
  },
  {
   "cell_type": "code",
   "execution_count": 58,
   "metadata": {},
   "outputs": [
    {
     "name": "stdout",
     "output_type": "stream",
     "text": [
      "Test statistic: 0.22747252747252844\n",
      "p-value: 0.8924933076960211\n"
     ]
    }
   ],
   "source": [
    "# perform kruskal-wallis H test\n",
    "test_stat, p_val = stats.kruskal(alpha_bar, beta_bar, gamma_bar)\n",
    "\n",
    "# print the test statistic and corresponding p-value\n",
    "print('Test statistic:', test_stat)\n",
    "print('p-value:', p_val)"
   ]
  },
  {
   "cell_type": "markdown",
   "metadata": {},
   "source": [
    "The above output shows that the test statistic value is less than 5.9915, the p-value is greater than 0.05. Thus we fail to reject (i.e. accept) the null hypothesis and conclude that the average amount of calcium in all the energy bars is the same."
   ]
  },
  {
   "cell_type": "markdown",
   "metadata": {},
   "source": [
    "Let us plot the acceptance and rejection region for a test with 95% confidence."
   ]
  },
  {
   "cell_type": "code",
   "execution_count": 59,
   "metadata": {
    "scrolled": false
   },
   "outputs": [
    {
     "data": {
      "image/png": "[encoded data removed]",
      "text/plain": [
       "<Figure size 1080x576 with 1 Axes>"
      ]
     },
     "metadata": {
      "needs_background": "light"
     },
     "output_type": "display_data"
    }
   ],
   "source": [
    "# consider a random variable 'X' that follows a chi-square distribution \n",
    "# pass the degrees of freedom to the parameter 'df' \n",
    "# pass the required number of observations to the parameter, 'size'\n",
    "# set 'random_state' to obtain the same observations every time you run the code \n",
    "X = stats.chi2.rvs(df = 2, size = 1000000, random_state = 10)\n",
    "\n",
    "# pass the data to the parameter, 'a'\n",
    "# 'hist=False' does not return the histogram \n",
    "# 'cumulative=False' in 'kde_kws' does not return the cumulative kernel density estimator\n",
    "ax = sns.distplot(a = X, hist = False, kde_kws = dict(cumulative=False))\n",
    "\n",
    "# set the limit for y-axis\n",
    "plt.ylim(0, 0.45)\n",
    "\n",
    "# set the left side limit for x-axis\n",
    "plt.xlim(0)\n",
    "\n",
    "# use 'stats.chi2.isf()' to calculate the critical value for alpha = 0.05\n",
    "# pass the value of 'alpha' to the parameter 'q'\n",
    "# pass the degrees of freedom to the parameter 'df' \n",
    "chi2 = stats.chi2.isf(q = 0.05, df = 2)\n",
    "\n",
    "# plot a vertical line at χ2-value\n",
    "x, y = [chi2, chi2], [0, 0.12]\n",
    "plt.plot(x, y, color = 'black')\n",
    "\n",
    "# plot a vertical line at χ2 test value\n",
    "x, y = [test_stat, test_stat], [0, 0.015]\n",
    "plt.plot(x, y, color = 'black')\n",
    "\n",
    "# add the color to the right of the χ2-value\n",
    "# get the data for x and y axes\n",
    "l1 = ax.lines[0]\n",
    "x1 = l1.get_xydata()[:,0]\n",
    "y1 = l1.get_xydata()[:,1]\n",
    "\n",
    "# fill the color for the region where x-values are greater than the critical χ2-value\n",
    "# pass the condition to shade the required region\n",
    "# pass the required color to the parameter, 'color'\n",
    "ax.fill_between(x1[x1 >= chi2], y1[x1 >= chi2], color = 'lightblue')\n",
    "\n",
    "# use 'annonate' function to draw an arrow between points xy and xytext\n",
    "# 's' is a argument to write text\n",
    "# we can change the facecolor and arrowstyle; this is only for representation purpose\n",
    "plt.annotate(s = 'α = 0.05\\n(Rejection Region for H0)', xy = (7, 0.008), xytext = (7.5, 0.036), \n",
    "             arrowprops = dict(facecolor = 'black', arrowstyle = 'simple'))\n",
    "\n",
    "plt.annotate(s = 'χ2_crit = '+ str(round(chi2,2)), xy = (chi2, 0.06), xytext = (chi2+1, 0.08), \n",
    "             arrowprops = dict(facecolor = 'black', arrowstyle = 'simple'))\n",
    "\n",
    "# use below code to print the values in the graph\n",
    "# 'x' and 'y' gives position of the text\n",
    "# 's' is the text \n",
    "plt.text(x = 0.2, y = 0.06, s = 'Acceptance Region \\n for H0 (1 - α)')\n",
    "\n",
    "# assign the x-axis labels\n",
    "# pass the position of labels to the parameter, 'ticks'\n",
    "# pass the required labels to the parameter, 'labels'\n",
    "plt.xticks(ticks = [4, 8, 12, 16, 20, 24, 28, round(test_stat,2)], \n",
    "           labels = [4, 8, 12, 16, 20, 24, 28, 'χ2_test = '+str(round(test_stat,2))])\n",
    "\n",
    "# set plot and axes labels\n",
    "# set text size using 'fontsize'\n",
    "plt.xlabel('χ2', fontsize = 15)\n",
    "plt.ylabel('Probability', fontsize = 15)\n",
    "plt.title('Test Region', fontsize = 15)\n",
    "\n",
    "# display the plot\n",
    "plt.show()"
   ]
  },
  {
   "cell_type": "markdown",
   "metadata": {},
   "source": [
    "The above plot shows that the test statistic value is in the acceptance region, which implies that we fail to reject $H_{0}$."
   ]
  },
  {
   "cell_type": "markdown",
   "metadata": {},
   "source": [
    "#### 2. Ryan is a production manager at an industry manufacturing alloy seals. They have 3 machines - A, B and C. Ryan want to study whether all the machines have equal efficiency. There no information about the tensile strength of the population. Can it be said that the machines produce the sample tensile strength? Test at 5% level of significance.\n",
    "\n",
    "<img src='KW_test.png'>"
   ]
  },
  {
   "cell_type": "markdown",
   "metadata": {},
   "source": [
    "The null and alternative hypothesis is:\n",
    "\n",
    "H<sub>0</sub>: The average tensile strength due to all the machines is the same<br>\n",
    "H<sub>1</sub>: The average tensile strength due to at least one machine is different"
   ]
  },
  {
   "cell_type": "code",
   "execution_count": 60,
   "metadata": {},
   "outputs": [
    {
     "name": "stdout",
     "output_type": "stream",
     "text": [
      "[72.5, 84.8, 76.6, 34.7, 33.2, 23.4, 35.7, 33.7, 34.5, 24.5, 34.6]\n"
     ]
    }
   ],
   "source": [
    "# given data\n",
    "# tensile strength due to machine A\n",
    "machine_A = [72.5, 84.8, 76.6, 34.7]\n",
    "\n",
    "# tensile strength due to machine B\n",
    "machine_B = [33.2, 23.4, 35.7, 33.7, 34.5]\n",
    "\n",
    "# tensile strength due to machine C\n",
    "machine_C = [24.5, 34.6]\n",
    "\n",
    "# create an empty list to include tensile strength due to all the machines\n",
    "strength_machine = []\n",
    "\n",
    "# use 'extend()' to add the data in the list\n",
    "strength_machine.extend(machine_A)\n",
    "strength_machine.extend(machine_B)\n",
    "strength_machine.extend(machine_C)\n",
    "\n",
    "# print the data\n",
    "print(strength_machine)"
   ]
  },
  {
   "cell_type": "markdown",
   "metadata": {},
   "source": [
    "Let us check the normality of the tensile strength due to all the machines."
   ]
  },
  {
   "cell_type": "code",
   "execution_count": 61,
   "metadata": {},
   "outputs": [
    {
     "name": "stdout",
     "output_type": "stream",
     "text": [
      "p-value: 0.0024516438134014606\n"
     ]
    }
   ],
   "source": [
    "# perform Shapiro-Wilk test to test the normality\n",
    "# shapiro() returns a tuple having the values of test statistics and the corresponding p-value\n",
    "# pass the tensile strength due to all machines \n",
    "stat, p_value = stats.shapiro(strength_machine)\n",
    "\n",
    "# print the p-value\n",
    "print('p-value:', p_value)"
   ]
  },
  {
   "cell_type": "markdown",
   "metadata": {},
   "source": [
    "From the above result, we can see that the p-value is less than 0.05, thus we can say that the tensile strength is not normally distributed. This does not satisfy the assumption of normality for ANOVA.\n",
    "\n",
    "Thus we can not apply one-way ANOVA to test the equality of tensile strength. Let us use the non-parametric equivalent `Kruskal-Wallis H test`."
   ]
  },
  {
   "cell_type": "markdown",
   "metadata": {},
   "source": [
    "For ⍺ = 0.05 and degrees of freedom (= 3 - 1) = 2, calculate the critical value."
   ]
  },
  {
   "cell_type": "code",
   "execution_count": 62,
   "metadata": {},
   "outputs": [
    {
     "name": "stdout",
     "output_type": "stream",
     "text": [
      "Critical value for chi-square test: 5.9915\n"
     ]
    }
   ],
   "source": [
    "# calculate the χ2-value for 95% of confidence level\n",
    "# use 'stats.chi2.isf()' to find the χ2-value corresponding to the upper tail probability 'q'\n",
    "# pass the value of 'alpha' to the parameter 'q', here alpha = 0.05\n",
    "# pass the degrees of freedom to the parameter 'df' \n",
    "# use 'round()' to round-off the value to 4 digits\n",
    "chi2_val = np.abs(round(stats.chi2.isf(q = 0.05, df = 2), 4))\n",
    "\n",
    "print('Critical value for chi-square test:', chi2_val)"
   ]
  },
  {
   "cell_type": "markdown",
   "metadata": {},
   "source": [
    "i.e. if the chi-square value is greater than 5.9915 then we reject the null hypothesis."
   ]
  },
  {
   "cell_type": "code",
   "execution_count": 63,
   "metadata": {},
   "outputs": [
    {
     "name": "stdout",
     "output_type": "stream",
     "text": [
      "Test statistic: 6.040909090909089\n",
      "p-value: 0.04877904103071468\n"
     ]
    }
   ],
   "source": [
    "# perform kruskal-wallis H test\n",
    "test_stat, p_val = stats.kruskal(machine_A, machine_B, machine_C)\n",
    "\n",
    "# print the test statistic and corresponding p-value\n",
    "print('Test statistic:', test_stat)\n",
    "print('p-value:', p_val)"
   ]
  },
  {
   "cell_type": "markdown",
   "metadata": {},
   "source": [
    "The above output shows that the test statistic is greater than 5.9915, the p-value is less than 0.05. Thus we reject the null hypothesis and conclude that the average tensile strength due to at least one machine is different."
   ]
  },
  {
   "cell_type": "markdown",
   "metadata": {},
   "source": [
    "If Kruskal-Wallis H test rejects the null hypothesis; we conclude that at least one treatment has a different mean. The test does not distinguish a treatment with the different average value. The post-hoc test is used to identify such treatment(s). Thus we use the `conover test` as a post-hoc test."
   ]
  },
  {
   "cell_type": "code",
   "execution_count": 64,
   "metadata": {},
   "outputs": [],
   "source": [
    "# given data\n",
    "# tensile strength due to machine A\n",
    "machine_A = [72.5, 84.8, 76.6, 34.7]\n",
    "\n",
    "# tensile strength due to machine B\n",
    "machine_B = [33.2, 23.4, 35.7, 33.7, 34.5]\n",
    "\n",
    "# tensile strength due to machine C\n",
    "machine_C = [24.5, 34.6]"
   ]
  },
  {
   "cell_type": "code",
   "execution_count": 65,
   "metadata": {},
   "outputs": [],
   "source": [
    "# create a dataframe using a dictionary from given data\n",
    "df_machine = pd.DataFrame(data = {'machine': ['machine_A', 'machine_A', 'machine_A', 'machine_A', 'machine_B', 'machine_B', \n",
    "                                              'machine_B', 'machine_B', 'machine_B', 'machine_C', 'machine_C'], \n",
    "                                  'strength': [72.5, 84.8, 76.6, 34.7, 33.2, 23.4, 35.7, 33.7, 34.5, 24.5, 34.6]})"
   ]
  },
  {
   "cell_type": "code",
   "execution_count": 66,
   "metadata": {
    "scrolled": true
   },
   "outputs": [
    {
     "data": {
      "text/html": [
       "<div>\n",
       "<style scoped>\n",
       "    .dataframe tbody tr th:only-of-type {\n",
       "        vertical-align: middle;\n",
       "    }\n",
       "\n",
       "    .dataframe tbody tr th {\n",
       "        vertical-align: top;\n",
       "    }\n",
       "\n",
       "    .dataframe thead th {\n",
       "        text-align: right;\n",
       "    }\n",
       "</style>\n",
       "<table border=\"1\" class=\"dataframe\">\n",
       "  <thead>\n",
       "    <tr style=\"text-align: right;\">\n",
       "      <th></th>\n",
       "      <th>machine_A</th>\n",
       "      <th>machine_B</th>\n",
       "      <th>machine_C</th>\n",
       "    </tr>\n",
       "  </thead>\n",
       "  <tbody>\n",
       "    <tr>\n",
       "      <th>machine_A</th>\n",
       "      <td>1.000000</td>\n",
       "      <td>0.012120</td>\n",
       "      <td>0.031704</td>\n",
       "    </tr>\n",
       "    <tr>\n",
       "      <th>machine_B</th>\n",
       "      <td>0.012120</td>\n",
       "      <td>1.000000</td>\n",
       "      <td>0.920917</td>\n",
       "    </tr>\n",
       "    <tr>\n",
       "      <th>machine_C</th>\n",
       "      <td>0.031704</td>\n",
       "      <td>0.920917</td>\n",
       "      <td>1.000000</td>\n",
       "    </tr>\n",
       "  </tbody>\n",
       "</table>\n",
       "</div>"
      ],
      "text/plain": [
       "           machine_A  machine_B  machine_C\n",
       "machine_A   1.000000   0.012120   0.031704\n",
       "machine_B   0.012120   1.000000   0.920917\n",
       "machine_C   0.031704   0.920917   1.000000"
      ]
     },
     "execution_count": 66,
     "metadata": {},
     "output_type": "execute_result"
    }
   ],
   "source": [
    "# perform the conover test\n",
    "# pass the dataframe to the parameter, 'a'\n",
    "# pass the column with numeric data to the parameter, 'val_col'\n",
    "# pass the column with categoric data to the parameter, 'group_col'\n",
    "scikit_posthocs.posthoc_conover(a = df_machine, val_col = 'strength', group_col = 'machine')"
   ]
  },
  {
   "cell_type": "markdown",
   "metadata": {},
   "source": [
    "For α = 0.05, the p-value for pairs (A, B) and (A, C) is less than 0.05. Thus we can conclude that there is a difference in the in the strengths between pairs of machines (A,B) and (A,C)."
   ]
  },
  {
   "cell_type": "markdown",
   "metadata": {},
   "source": [
    "<a id=\"2way\"></a>\n",
    "# 3. Two-way ANOVA"
   ]
  },
  {
   "cell_type": "markdown",
   "metadata": {},
   "source": [
    "The two-way ANOVA can be used to test the effect due to the two nominal variables on a numeric variable. The levels of one nominal variable is considered as `treatments` and levels of another variable is considered as `blocks`. The hypothesis can be given in terms of both the treatments and blocks. \n",
    "\n",
    "One of the null and alternative hypothesis is given as:\n",
    "<p style='text-indent:20em'> <strong> $H_{01}$: The averages of all treatments are the same. </strong></p>\n",
    "<p style='text-indent:20em'> <strong> $H_{11}$: At least one treatment has a different average. </strong></p>\n",
    "\n",
    "Another null and alternative hypothesis is given as:\n",
    "<p style='text-indent:20em'> <strong> $H_{02}$: The averages of all blocks are the same. </strong></p>\n",
    "<p style='text-indent:20em'> <strong> $H_{12}$: At least one block has a different average. </strong></p>\n",
    "\n",
    "Consider there are `t` treatments, `b` blocks and `N` is the number of total observations. \n",
    "\n",
    "The test statistic for `treatments` is given as:\n",
    "<p style='text-indent:28em'> <strong> $F_{Tr} = \\frac{MTrSS}{MESS} $</strong></p>\n",
    "\n",
    "Where,<br>\n",
    "MTrSS = $\\frac{TrSS}{df_{Tr}}$<br>\n",
    "\n",
    "TrSS = $\\sum_{i}^{t}b{(\\bar{x}_{i.} - \\bar{x}_{..})}^{2}$<br> $b$ is the number of observations in $i_{th}$ treatment. <br>$\\bar{x}_{i.}$ is the mean over $i^{th}$ treatment <br> $\\bar{x}_{..}$ is the grand mean (i.e. mean of all the observations). <br>\n",
    "\n",
    "$df_{Tr}$ is the degrees of freedom for treatments (= $t-1$)\n",
    "\n",
    "MESS = $\\frac{ESS}{df_{e}}$<br>\n",
    "\n",
    "ESS = $\\sum_{i}^{t}\\sum_{j}^{b}{(x_{ij} - \\bar{x}_{i.} - \\bar{x}_{.j} + \\bar{x}_{..})}^{2}$\n",
    "\n",
    "$df_{e}$ is the degrees of freedom for error (= $(t-1)(b-1)$)\n",
    "\n",
    "Under $H_{0}$, the test statistic ($F_{Tr}$) follows F-distribution with ($t-1, (t-1)(b-1)$) degrees of freedom.\n",
    "\n",
    "\n",
    "The test statistic for `blocks` is given as:\n",
    "<p style='text-indent:28em'> <strong> $F_{B} = \\frac{MBSS}{MESS} $</strong></p>\n",
    "\n",
    "Where,<br>\n",
    "MBSS = $\\frac{BSS}{df_{B}}$<br>\n",
    "\n",
    "BSS = $\\sum_{j}^{b}t(\\bar{x}_{.j} - \\bar{x}..)$<br>  $t$ is the number of observations in $j_{th}$ block.  $\\bar{x}_{.j}$ is the mean over $j^{th}$ block <br> $\\bar{x}_{..}$ is the grand mean (i.e. mean of all the observations). <br>\n",
    "\n",
    "$df_{B}$ is the degrees of freedom for blocks (= $b-1$)\n",
    "\n",
    "MESS = $\\frac{ESS}{df_{e}}$<br>\n",
    "\n",
    "ESS = $\\sum_{i}^{t}\\sum_{j}^{b}{(x_{ij} - \\bar{x}_{i.} - \\bar{x_{.j}} + \\bar{x}_{..})}^{2}$\n",
    "\n",
    "$df_{e}$ is the degrees of freedom for error (= $(t-1)(b-1)$)\n",
    "\n",
    "Under $H_{0}$, the test statistic ($F_{B}$) follows F-distribution with ($b-1, (t-1)(b-1)$) degrees of freedom."
   ]
  },
  {
   "cell_type": "markdown",
   "metadata": {},
   "source": [
    "### Example:\n",
    "\n",
    "#### 1. Check if there is any effect of level of education and completion of test preparation course on the total marks. Perform two-way ANOVA with 5% level of significance."
   ]
  },
  {
   "cell_type": "markdown",
   "metadata": {},
   "source": [
    "Use the performance dataset of students available in the CSV file `students_data.csv`."
   ]
  },
  {
   "cell_type": "code",
   "execution_count": 67,
   "metadata": {
    "scrolled": false
   },
   "outputs": [
    {
     "data": {
      "text/html": [
       "<div>\n",
       "<style scoped>\n",
       "    .dataframe tbody tr th:only-of-type {\n",
       "        vertical-align: middle;\n",
       "    }\n",
       "\n",
       "    .dataframe tbody tr th {\n",
       "        vertical-align: top;\n",
       "    }\n",
       "\n",
       "    .dataframe thead th {\n",
       "        text-align: right;\n",
       "    }\n",
       "</style>\n",
       "<table border=\"1\" class=\"dataframe\">\n",
       "  <thead>\n",
       "    <tr style=\"text-align: right;\">\n",
       "      <th></th>\n",
       "      <th>gender</th>\n",
       "      <th>ethnicity</th>\n",
       "      <th>education</th>\n",
       "      <th>lunch</th>\n",
       "      <th>test_prep_course</th>\n",
       "      <th>math_score</th>\n",
       "      <th>reading_score</th>\n",
       "      <th>writing_score</th>\n",
       "      <th>total_score</th>\n",
       "      <th>training_institute</th>\n",
       "    </tr>\n",
       "  </thead>\n",
       "  <tbody>\n",
       "    <tr>\n",
       "      <th>0</th>\n",
       "      <td>female</td>\n",
       "      <td>group B</td>\n",
       "      <td>bachelor's degree</td>\n",
       "      <td>standard</td>\n",
       "      <td>none</td>\n",
       "      <td>89</td>\n",
       "      <td>55</td>\n",
       "      <td>56</td>\n",
       "      <td>200</td>\n",
       "      <td>Nature Learning</td>\n",
       "    </tr>\n",
       "    <tr>\n",
       "      <th>1</th>\n",
       "      <td>female</td>\n",
       "      <td>group C</td>\n",
       "      <td>college</td>\n",
       "      <td>standard</td>\n",
       "      <td>completed</td>\n",
       "      <td>55</td>\n",
       "      <td>63</td>\n",
       "      <td>72</td>\n",
       "      <td>190</td>\n",
       "      <td>Nature Learning</td>\n",
       "    </tr>\n",
       "  </tbody>\n",
       "</table>\n",
       "</div>"
      ],
      "text/plain": [
       "   gender ethnicity          education     lunch test_prep_course  math_score  \\\n",
       "0  female   group B  bachelor's degree  standard             none          89   \n",
       "1  female   group C            college  standard        completed          55   \n",
       "\n",
       "   reading_score  writing_score  total_score training_institute  \n",
       "0             55             56          200    Nature Learning  \n",
       "1             63             72          190    Nature Learning  "
      ]
     },
     "execution_count": 67,
     "metadata": {},
     "output_type": "execute_result"
    }
   ],
   "source": [
    "# read the students performance data \n",
    "df_student = pd.read_csv('students_data.csv')\n",
    "\n",
    "# display the first two observations\n",
    "df_student.head(2)"
   ]
  },
  {
   "cell_type": "markdown",
   "metadata": {},
   "source": [
    "The null and alternative hypothesis for the level of education is:\n",
    "\n",
    "H<sub>0</sub>: The average score for all the education levels is the same<br>\n",
    "H<sub>1</sub>: At least one education level has a different average score\n",
    "\n",
    "The null and alternative hypothesis for completion of test preparation course is:\n",
    "\n",
    "H<sub>0</sub>: The average score for all the course preparation levels is the same<br>\n",
    "H<sub>1</sub>: At least one course preparation level has a different average score"
   ]
  },
  {
   "cell_type": "markdown",
   "metadata": {},
   "source": [
    "Let us check the normality of the total marks of students from all the treatments and blocks."
   ]
  },
  {
   "cell_type": "code",
   "execution_count": 68,
   "metadata": {},
   "outputs": [
    {
     "name": "stdout",
     "output_type": "stream",
     "text": [
      "p-value: 0.7420849204063416\n"
     ]
    }
   ],
   "source": [
    "# perform Shapiro-Wilk test to test the normality\n",
    "# shapiro() returns a tuple having the values of test statistics and the corresponding p-value\n",
    "# pass the total marks of students \n",
    "stat, p_value = stats.shapiro(df_student['total_score'])\n",
    "\n",
    "# print the p-value\n",
    "print('p-value:', p_value)"
   ]
  },
  {
   "cell_type": "markdown",
   "metadata": {},
   "source": [
    "From the above result, we can see that the p-value is greater than 0.05, thus we can say that the total marks of students from all the treatments and blocks are normally distributed. Thus the assumption of normality is satisfied."
   ]
  },
  {
   "cell_type": "code",
   "execution_count": 69,
   "metadata": {},
   "outputs": [
    {
     "name": "stdout",
     "output_type": "stream",
     "text": [
      "t: 6\n",
      "b: 2\n",
      "N: 1000\n"
     ]
    }
   ],
   "source": [
    "# obtain number of unique education levels (treatments)\n",
    "t = df_student['education'].nunique()\n",
    "print('t:', t)\n",
    "\n",
    "# obtain number of unique test preparation course levels (blocks)\n",
    "b = df_student['test_prep_course'].nunique()\n",
    "print('b:', b)\n",
    "\n",
    "# calculate the number of students in each education level\n",
    "# consider the total number of students in all education levels\n",
    "N = df_student['education'].value_counts().sum()\n",
    "print('N:', N)"
   ]
  },
  {
   "cell_type": "markdown",
   "metadata": {},
   "source": [
    "For ⍺ = 0.05 and degrees of freedom for treatment $df_{Tr}$ (= t-1, (t-1)(b-1)) = (5, 5), calculate the critical value."
   ]
  },
  {
   "cell_type": "code",
   "execution_count": 70,
   "metadata": {},
   "outputs": [
    {
     "name": "stdout",
     "output_type": "stream",
     "text": [
      "Critical value for F-test: 5.0503\n"
     ]
    }
   ],
   "source": [
    "# calculate the F-value for 95% of confidence level\n",
    "# use 'stats.f.isf()' to find the F-value corresponding to the upper tail probability 'q'\n",
    "# pass the value of 'alpha' to the parameter 'q', here alpha = 0.05\n",
    "# pass the degrees of freedom (= 5) to the parameter 'dfn' \n",
    "# pass the degrees of freedom (= 5) to the parameter 'dfd' \n",
    "# use 'round()' to round-off the value to 4 digits\n",
    "f = np.abs(round(stats.f.isf(q = 0.05, dfn = 5, dfd = 5), 4))\n",
    "\n",
    "print('Critical value for F-test:', f)"
   ]
  },
  {
   "cell_type": "markdown",
   "metadata": {},
   "source": [
    "i.e. if the test statistic value for treatment (i.e. education) is greater than 5.0503 then we reject the null hypothesis for treatments."
   ]
  },
  {
   "cell_type": "markdown",
   "metadata": {},
   "source": [
    "For ⍺ = 0.05 and degrees of freedom for block $df_{B}$ (= b-1, (t-1)(b-1)) = (1, 5), calculate the critical value."
   ]
  },
  {
   "cell_type": "code",
   "execution_count": 71,
   "metadata": {},
   "outputs": [
    {
     "name": "stdout",
     "output_type": "stream",
     "text": [
      "Critical value for F-test: 6.6079\n"
     ]
    }
   ],
   "source": [
    "# calculate the F-value for 95% of confidence level\n",
    "# use 'stats.f.isf()' to find the F-value corresponding to the upper tail probability 'q'\n",
    "# pass the value of 'alpha' to the parameter 'q', here alpha = 0.05\n",
    "# pass the degrees of freedom (= 1) to the parameter 'dfn' \n",
    "# pass the degrees of freedom (= 5) to the parameter 'dfd' \n",
    "# use 'round()' to round-off the value to 4 digits\n",
    "f = np.abs(round(stats.f.isf(q = 0.05, dfn = 1, dfd = 5), 4))\n",
    "\n",
    "print('Critical value for F-test:', f)"
   ]
  },
  {
   "cell_type": "markdown",
   "metadata": {},
   "source": [
    "i.e. if the test statistic value for block (i.e. test_prep_course) is greater than 6.6079 then we reject the null hypothesis for blocks."
   ]
  },
  {
   "cell_type": "code",
   "execution_count": 72,
   "metadata": {
    "scrolled": false
   },
   "outputs": [
    {
     "data": {
      "text/html": [
       "<div>\n",
       "<style scoped>\n",
       "    .dataframe tbody tr th:only-of-type {\n",
       "        vertical-align: middle;\n",
       "    }\n",
       "\n",
       "    .dataframe tbody tr th {\n",
       "        vertical-align: top;\n",
       "    }\n",
       "\n",
       "    .dataframe thead th {\n",
       "        text-align: right;\n",
       "    }\n",
       "</style>\n",
       "<table border=\"1\" class=\"dataframe\">\n",
       "  <thead>\n",
       "    <tr style=\"text-align: right;\">\n",
       "      <th></th>\n",
       "      <th>sum_sq</th>\n",
       "      <th>df</th>\n",
       "      <th>F</th>\n",
       "      <th>PR(&gt;F)</th>\n",
       "    </tr>\n",
       "  </thead>\n",
       "  <tbody>\n",
       "    <tr>\n",
       "      <th>Q(\"education\")</th>\n",
       "      <td>2409.132920</td>\n",
       "      <td>5.0</td>\n",
       "      <td>0.895306</td>\n",
       "      <td>0.483476</td>\n",
       "    </tr>\n",
       "    <tr>\n",
       "      <th>Q(\"test_prep_course\")</th>\n",
       "      <td>862.925299</td>\n",
       "      <td>1.0</td>\n",
       "      <td>1.603444</td>\n",
       "      <td>0.205713</td>\n",
       "    </tr>\n",
       "    <tr>\n",
       "      <th>Residual</th>\n",
       "      <td>534402.603903</td>\n",
       "      <td>993.0</td>\n",
       "      <td>NaN</td>\n",
       "      <td>NaN</td>\n",
       "    </tr>\n",
       "  </tbody>\n",
       "</table>\n",
       "</div>"
      ],
      "text/plain": [
       "                              sum_sq     df         F    PR(>F)\n",
       "Q(\"education\")           2409.132920    5.0  0.895306  0.483476\n",
       "Q(\"test_prep_course\")     862.925299    1.0  1.603444  0.205713\n",
       "Residual               534402.603903  993.0       NaN       NaN"
      ]
     },
     "execution_count": 72,
     "metadata": {},
     "output_type": "execute_result"
    }
   ],
   "source": [
    "# perform two-way ANOVA\n",
    "\n",
    "# fit an ols model on the dataframe 'df_student' \n",
    "# use 'Q()' to quote the variable name \n",
    "# use 'fit()' to fit the linear model\n",
    "test = ols('total_score ~ Q(\"education\") + Q(\"test_prep_course\")', df_student).fit()\n",
    "\n",
    "# create table for 2-way ANOVA test\n",
    "# pass the linear model 'test'\n",
    "# 'typ = 2' performs two-way ANOVA\n",
    "anova_2 = anova_lm(test, typ = 2)\n",
    "\n",
    "# print the table\n",
    "anova_2"
   ]
  },
  {
   "cell_type": "markdown",
   "metadata": {},
   "source": [
    "The above output shows that the test statistic for treatments (i.e. education) is less than 5.0503 and the p-value is greater than 0.05. Thus we fail to reject (i.e. accept) the null hypothesis for treatments and conclude that the average score for all the education levels (i.e. treatments) is the same.\n",
    "\n",
    "The test statistic for blocks (i.e. test_prep_course) is less than 6.6079 and the p-value is greater than 0.05. Thus we fail to reject (i.e. accept) the null hypothesis for blocks and conclude that the average score for all the preparation course levels (i.e. blocks) is the same."
   ]
  },
  {
   "cell_type": "markdown",
   "metadata": {},
   "source": [
    "Let us plot the acceptance and rejection region for a test with 95% confidence."
   ]
  },
  {
   "cell_type": "code",
   "execution_count": 73,
   "metadata": {
    "scrolled": false
   },
   "outputs": [
    {
     "data": {
      "image/png": "[encoded data removed]",
      "text/plain": [
       "<Figure size 1080x576 with 1 Axes>"
      ]
     },
     "metadata": {
      "needs_background": "light"
     },
     "output_type": "display_data"
    },
    {
     "data": {
      "image/png": "[encoded data removed]",
      "text/plain": [
       "<Figure size 1080x576 with 1 Axes>"
      ]
     },
     "metadata": {
      "needs_background": "light"
     },
     "output_type": "display_data"
    }
   ],
   "source": [
    "# plot the F-distribution for treatments\n",
    "\n",
    "plt.subplot(2,1,1)\n",
    "\n",
    "# consider a random variable 'X' that follows a F distribution \n",
    "# pass the degrees of freedom (= 5) to the parameter 'dfn' \n",
    "# pass the degrees of freedom (= 5) to the parameter 'dfd' \n",
    "# pass the required number of observations to the parameter, 'size'\n",
    "# set 'random_state' to obtain the same observations every time you run the code \n",
    "X = stats.f.rvs(dfn = 5, dfd = 5, size = 1000, random_state = 12)\n",
    "\n",
    "# pass the data to the parameter, 'a'\n",
    "# 'hist=False' does not return the histogram \n",
    "# 'cumulative=False' in 'kde_kws' does not return the cumulative kernel density estimator\n",
    "ax = sns.distplot(a = X, hist = False, kde_kws = dict(cumulative=False))\n",
    "\n",
    "# set the limit for y-axis\n",
    "plt.ylim(0)\n",
    "plt.xlim(right = 16)\n",
    "\n",
    "# use 'stats.f.isf()' to calculate the critical value for alpha = 0.05\n",
    "# pass the value of 'alpha' to the parameter 'q'\n",
    "# pass the degrees of freedom (= 5) to the parameter 'dfn' \n",
    "# pass the degrees of freedom (= 5) to the parameter 'dfd' \n",
    "f = stats.f.isf(q = 0.05, dfn = 5, dfd = 5)\n",
    "\n",
    "# plot a vertical line at f-value\n",
    "x, y = [f, f], [0, 0.2]\n",
    "plt.plot(x, y, color = 'black')\n",
    "\n",
    "# plot a vertical line at f test value for 'education'\n",
    "x, y = [0.8953, 0.8953], [0, 0.05]\n",
    "plt.plot(x, y, color = 'black')\n",
    "\n",
    "# add the color to the right of the f-value\n",
    "# get the data for x and y axes\n",
    "l1 = ax.lines[0]\n",
    "x1 = l1.get_xydata()[:,0]\n",
    "y1 = l1.get_xydata()[:,1]\n",
    "\n",
    "# fill the color for the region where x-values are greater than the critical f-value\n",
    "# pass the condition to shade the required region\n",
    "# pass the required color to the parameter, 'color'\n",
    "ax.fill_between(x1[x1 >= f], y1[x1 >= f], color = 'lightblue')\n",
    "\n",
    "# use 'annonate' function to draw an arrow between points xy and xytext\n",
    "# 's' is a argument to write text\n",
    "# we can change the facecolor and arrowstyle; this is only for representation purpose\n",
    "plt.annotate(s = 'α = 0.05\\n(Rejection Region for H0)', xy = (6, 0.006), xytext = (6.7, 0.05), \n",
    "             arrowprops = dict(facecolor = 'black', arrowstyle = 'simple'))\n",
    "\n",
    "plt.annotate(s = 'f_crit = '+ str(round(f,2)), xy = (f, 0.16), xytext = (f+1.5, 0.2), \n",
    "             arrowprops = dict(facecolor = 'black', arrowstyle = 'simple'))\n",
    "\n",
    "plt.annotate(s = 'Acceptance \\n Region \\n for H0 (1 - α)', xy = (0.5, 0.3), xytext = (3.5, 0.3), \n",
    "             arrowprops = dict(facecolor = 'black', arrowstyle = 'simple'))\n",
    "\n",
    "# assign the x-axis labels\n",
    "# pass the position of labels to the parameter, 'ticks'\n",
    "# pass the required labels to the parameter, 'labels'\n",
    "plt.xticks(ticks = [4, 8, 12, 16, round(0.8953,2)], \n",
    "           labels = [4, 8, 12, 16, 'f_test = '+str(round(0.8953,2))])\n",
    "\n",
    "# set plot and axes labels\n",
    "# set text size using 'fontsize'\n",
    "plt.xlabel('F', fontsize = 15)\n",
    "plt.ylabel('Probability', fontsize = 15)\n",
    "plt.title('Test Region for Treatments (Education)', fontsize = 15)\n",
    "\n",
    "# display the plot\n",
    "plt.show()\n",
    "\n",
    "\n",
    "# plot the F-distribution for blocks\n",
    "plt.subplot(2,1,2)\n",
    "\n",
    "# consider a random variable 'X' that follows a F distribution \n",
    "# pass the degrees of freedom (= 1) to the parameter 'dfn' \n",
    "# pass the degrees of freedom (= 5) to the parameter 'dfd' \n",
    "# pass the required number of observations to the parameter, 'size'\n",
    "# set 'random_state' to obtain the same observations every time you run the code \n",
    "X = stats.f.rvs(dfn = 1, dfd = 5, size = 2000, random_state = 5)\n",
    "\n",
    "# pass the data to the parameter, 'a'\n",
    "# 'hist=False' does not return the histogram \n",
    "# 'cumulative=False' in 'kde_kws' does not return the cumulative kernel density estimator\n",
    "ax = sns.distplot(a = X, hist = False, kde_kws = dict(cumulative=False))\n",
    "\n",
    "# set the limit for y-axis\n",
    "plt.ylim(0)\n",
    "\n",
    "plt.xlim(right = 16)\n",
    "\n",
    "# use 'stats.f.isf()' to calculate the critical value for alpha = 0.05\n",
    "# pass the value of 'alpha' to the parameter 'q'\n",
    "# pass the degrees of freedom (= 1) to the parameter 'dfn' \n",
    "# pass the degrees of freedom (= 5) to the parameter 'dfd' \n",
    "f = stats.f.isf(q = 0.05, dfn = 1, dfd = 5)\n",
    "\n",
    "# plot a vertical line at f-value\n",
    "x, y = [f, f], [0, 0.25]\n",
    "plt.plot(x, y, color = 'black')\n",
    "\n",
    "# plot a vertical line at f test value for 'test_prep_course'\n",
    "x, y = [1.6034, 1.6034], [0, 0.1]\n",
    "plt.plot(x, y, color = 'black')\n",
    "\n",
    "# add the color to the right of the f-value\n",
    "# get the data for x and y axes\n",
    "l1 = ax.lines[0]\n",
    "x1 = l1.get_xydata()[:,0]\n",
    "y1 = l1.get_xydata()[:,1]\n",
    "\n",
    "# fill the color for the region where x-values are greater than the critical f-value\n",
    "# pass the condition to shade the required region\n",
    "# pass the required color to the parameter, 'color'\n",
    "ax.fill_between(x1[x1 >= f], y1[x1 >= f], color = 'lightblue')\n",
    "\n",
    "# use 'annonate' function to draw an arrow between points xy and xytext\n",
    "# 's' is a argument to write text\n",
    "# we can change the facecolor and arrowstyle; this is only for representation purpose\n",
    "plt.annotate(s = 'α = 0.05\\n(Rejection Region for H0)', xy = (7, 0.006), xytext = (7.7, 0.05), \n",
    "             arrowprops = dict(facecolor = 'black', arrowstyle = 'simple'))\n",
    "\n",
    "plt.annotate(s = 'f_crit = '+ str(round(f,2)), xy = (f, 0.16), xytext = (f+1.5, 0.2), \n",
    "             arrowprops = dict(facecolor = 'black', arrowstyle = 'simple'))\n",
    "\n",
    "plt.annotate(s = 'Acceptance \\n Region \\n for H0 (1 - α)', xy = (0.4, 0.3), xytext = (3, 0.3), \n",
    "            arrowprops = dict(facecolor = 'black', arrowstyle = 'simple'))\n",
    "\n",
    "# assign the x-axis labels\n",
    "# pass the position of labels to the parameter, 'ticks'\n",
    "# pass the required labels to the parameter, 'labels'\n",
    "plt.xticks(ticks = [4, 8, 12, 16, round(1.6034,2)], \n",
    "          labels = [4, 8, 12, 16, 'f_test = '+str(round(1.6034,2))])\n",
    "\n",
    "# set plot and axes labels\n",
    "# set text size using 'fontsize'\n",
    "plt.xlabel('F', fontsize = 15)\n",
    "plt.ylabel('Probability', fontsize = 15)\n",
    "plt.title('Test Region for Blocks (Test Preparation Course)', fontsize = 15)\n",
    "\n",
    "# display the plot\n",
    "plt.show()"
   ]
  },
  {
   "cell_type": "markdown",
   "metadata": {},
   "source": [
    "The above plot shows that for both the distributions the test statistic values are in the acceptance region, which implies that we fail to reject (i.e. accept) $H_{0}$."
   ]
  },
  {
   "cell_type": "markdown",
   "metadata": {},
   "source": [
    "#### 2. The business is thriving, and Ryan finds it crucial that the production should progress without any breaks. He decides to have three shifts - Morning, Afternoon and Night shift. Ryan collects data of tensile strength from all the 4 machines and the 3 shifts as given. Test at 5% level of significance.\n",
    "\n",
    "<img src='2_ANOVA.png'>"
   ]
  },
  {
   "cell_type": "markdown",
   "metadata": {},
   "source": [
    "The null and alternative hypothesis for machines is:\n",
    "\n",
    "H<sub>0</sub>: The average tensile strength due to all the machines is the same<br>\n",
    "H<sub>1</sub>: The average tensile strength is different for at least one machine \n",
    "\n",
    "The null and alternative hypothesis for shifts is:\n",
    "\n",
    "H<sub>0</sub>: The average tensile strength due to all the shifts is the same<br>\n",
    "H<sub>1</sub>: The average tensile strength is different for at least one shift "
   ]
  },
  {
   "cell_type": "code",
   "execution_count": 74,
   "metadata": {},
   "outputs": [
    {
     "data": {
      "text/html": [
       "<div>\n",
       "<style scoped>\n",
       "    .dataframe tbody tr th:only-of-type {\n",
       "        vertical-align: middle;\n",
       "    }\n",
       "\n",
       "    .dataframe tbody tr th {\n",
       "        vertical-align: top;\n",
       "    }\n",
       "\n",
       "    .dataframe thead th {\n",
       "        text-align: right;\n",
       "    }\n",
       "</style>\n",
       "<table border=\"1\" class=\"dataframe\">\n",
       "  <thead>\n",
       "    <tr style=\"text-align: right;\">\n",
       "      <th></th>\n",
       "      <th>Machine</th>\n",
       "      <th>Shift</th>\n",
       "      <th>Tensile_Strength</th>\n",
       "    </tr>\n",
       "  </thead>\n",
       "  <tbody>\n",
       "    <tr>\n",
       "      <th>0</th>\n",
       "      <td>A</td>\n",
       "      <td>MS</td>\n",
       "      <td>68.7</td>\n",
       "    </tr>\n",
       "    <tr>\n",
       "      <th>1</th>\n",
       "      <td>A</td>\n",
       "      <td>AS</td>\n",
       "      <td>75.4</td>\n",
       "    </tr>\n",
       "    <tr>\n",
       "      <th>2</th>\n",
       "      <td>A</td>\n",
       "      <td>NS</td>\n",
       "      <td>80.9</td>\n",
       "    </tr>\n",
       "    <tr>\n",
       "      <th>3</th>\n",
       "      <td>B</td>\n",
       "      <td>MS</td>\n",
       "      <td>78.7</td>\n",
       "    </tr>\n",
       "    <tr>\n",
       "      <th>4</th>\n",
       "      <td>B</td>\n",
       "      <td>AS</td>\n",
       "      <td>75.4</td>\n",
       "    </tr>\n",
       "  </tbody>\n",
       "</table>\n",
       "</div>"
      ],
      "text/plain": [
       "  Machine Shift  Tensile_Strength\n",
       "0       A    MS              68.7\n",
       "1       A    AS              75.4\n",
       "2       A    NS              80.9\n",
       "3       B    MS              78.7\n",
       "4       B    AS              75.4"
      ]
     },
     "execution_count": 74,
     "metadata": {},
     "output_type": "execute_result"
    }
   ],
   "source": [
    "# read the excel file containing data\n",
    "df_machine_shift = pd.read_excel('2_way_ANOVA.xlsx')\n",
    "\n",
    "# print the first five observations\n",
    "df_machine_shift.head()"
   ]
  },
  {
   "cell_type": "markdown",
   "metadata": {},
   "source": [
    "Let us check the normality of the tensile strength due to all machines and shifts."
   ]
  },
  {
   "cell_type": "code",
   "execution_count": 75,
   "metadata": {},
   "outputs": [
    {
     "name": "stdout",
     "output_type": "stream",
     "text": [
      "p-value: 0.059956591576337814\n"
     ]
    }
   ],
   "source": [
    "# perform Shapiro-Wilk test to test the normality\n",
    "# shapiro() returns a tuple having the values of test statistics and the corresponding p-value\n",
    "# pass the total marks of students \n",
    "stat, p_value = stats.shapiro(df_machine_shift['Tensile_Strength'])\n",
    "\n",
    "# print the p-value\n",
    "print('p-value:', p_value)"
   ]
  },
  {
   "cell_type": "markdown",
   "metadata": {},
   "source": [
    "From the above result, we can see that the p-value is greater than 0.05, thus we can say that the tensile strength due to all the machines and shifts is normally distributed. Thus the assumption of normality is satisfied."
   ]
  },
  {
   "cell_type": "code",
   "execution_count": 76,
   "metadata": {},
   "outputs": [
    {
     "name": "stdout",
     "output_type": "stream",
     "text": [
      "t: 4\n",
      "b: 3\n",
      "N: 12\n"
     ]
    }
   ],
   "source": [
    "# number of machines (treatments)\n",
    "t = df_machine_shift['Machine'].nunique()\n",
    "print('t:', t)\n",
    "\n",
    "# number of shifts (blocks)\n",
    "b = df_machine_shift['Shift'].nunique()\n",
    "print('b:', b)\n",
    "\n",
    "# total number of observations\n",
    "N = len(df_machine_shift)\n",
    "print('N:', N)"
   ]
  },
  {
   "cell_type": "markdown",
   "metadata": {},
   "source": [
    "For ⍺ = 0.05 and degrees of freedom for treatment $df_{Tr}$ (= t-1, (t-1)(b-1)) = (3, 6), calculate the critical value."
   ]
  },
  {
   "cell_type": "code",
   "execution_count": 77,
   "metadata": {
    "scrolled": true
   },
   "outputs": [
    {
     "name": "stdout",
     "output_type": "stream",
     "text": [
      "Critical value for F-test: 4.7571\n"
     ]
    }
   ],
   "source": [
    "# calculate the F-value for 95% of confidence level\n",
    "# use 'stats.f.isf()' to find the F-value corresponding to the upper tail probability 'q'\n",
    "# pass the value of 'alpha' to the parameter 'q', here alpha = 0.05\n",
    "# pass the degrees of freedom (= 3) to the parameter 'dfn' \n",
    "# pass the degrees of freedom (= 6) to the parameter 'dfd' \n",
    "# use 'round()' to round-off the value to 4 digits\n",
    "f = np.abs(round(stats.f.isf(q = 0.05, dfn = 3, dfd = 6), 4))\n",
    "\n",
    "print('Critical value for F-test:', f)"
   ]
  },
  {
   "cell_type": "markdown",
   "metadata": {},
   "source": [
    "i.e. if the test statistic value for treatment (i.e. machine) is greater than 4.7571 then we reject the null hypothesis for treatments."
   ]
  },
  {
   "cell_type": "markdown",
   "metadata": {},
   "source": [
    "For ⍺ = 0.05 and degrees of freedom for block $df_{B}$ (= b-1, (t-1)(b-1)) = (2, 6), calculate the critical value."
   ]
  },
  {
   "cell_type": "code",
   "execution_count": 78,
   "metadata": {},
   "outputs": [
    {
     "name": "stdout",
     "output_type": "stream",
     "text": [
      "Critical value for F-test: 5.1433\n"
     ]
    }
   ],
   "source": [
    "# calculate the F-value for 95% of confidence level\n",
    "# use 'stats.f.isf()' to find the F-value corresponding to the upper tail probability 'q'\n",
    "# pass the value of 'alpha' to the parameter 'q', here alpha = 0.05\n",
    "# pass the degrees of freedom (= 2) to the parameter 'dfn' \n",
    "# pass the degrees of freedom (= 6) to the parameter 'dfd' \n",
    "# use 'round()' to round-off the value to 4 digits\n",
    "f = np.abs(round(stats.f.isf(q = 0.05, dfn = 2, dfd = 6), 4))\n",
    "\n",
    "print('Critical value for F-test:', f)"
   ]
  },
  {
   "cell_type": "markdown",
   "metadata": {},
   "source": [
    "i.e. if the test statistic value for the block (i.e. shift) is greater than 5.1433 then we reject the null hypothesis for blocks."
   ]
  },
  {
   "cell_type": "code",
   "execution_count": 79,
   "metadata": {
    "scrolled": true
   },
   "outputs": [
    {
     "data": {
      "text/html": [
       "<div>\n",
       "<style scoped>\n",
       "    .dataframe tbody tr th:only-of-type {\n",
       "        vertical-align: middle;\n",
       "    }\n",
       "\n",
       "    .dataframe tbody tr th {\n",
       "        vertical-align: top;\n",
       "    }\n",
       "\n",
       "    .dataframe thead th {\n",
       "        text-align: right;\n",
       "    }\n",
       "</style>\n",
       "<table border=\"1\" class=\"dataframe\">\n",
       "  <thead>\n",
       "    <tr style=\"text-align: right;\">\n",
       "      <th></th>\n",
       "      <th>sum_sq</th>\n",
       "      <th>df</th>\n",
       "      <th>F</th>\n",
       "      <th>PR(&gt;F)</th>\n",
       "    </tr>\n",
       "  </thead>\n",
       "  <tbody>\n",
       "    <tr>\n",
       "      <th>Q(\"Machine\")</th>\n",
       "      <td>1414.646667</td>\n",
       "      <td>3.0</td>\n",
       "      <td>60.052922</td>\n",
       "      <td>0.000072</td>\n",
       "    </tr>\n",
       "    <tr>\n",
       "      <th>Q(\"Shift\")</th>\n",
       "      <td>49.806667</td>\n",
       "      <td>2.0</td>\n",
       "      <td>3.171501</td>\n",
       "      <td>0.114866</td>\n",
       "    </tr>\n",
       "    <tr>\n",
       "      <th>Residual</th>\n",
       "      <td>47.113333</td>\n",
       "      <td>6.0</td>\n",
       "      <td>NaN</td>\n",
       "      <td>NaN</td>\n",
       "    </tr>\n",
       "  </tbody>\n",
       "</table>\n",
       "</div>"
      ],
      "text/plain": [
       "                   sum_sq   df          F    PR(>F)\n",
       "Q(\"Machine\")  1414.646667  3.0  60.052922  0.000072\n",
       "Q(\"Shift\")      49.806667  2.0   3.171501  0.114866\n",
       "Residual        47.113333  6.0        NaN       NaN"
      ]
     },
     "execution_count": 79,
     "metadata": {},
     "output_type": "execute_result"
    }
   ],
   "source": [
    "# perform two-way ANOVA\n",
    "\n",
    "# fit an ols model on the dataframe \n",
    "# use 'Q()' to quote the variable name \n",
    "# use 'fit()' to fit the linear model\n",
    "test = ols('Tensile_Strength ~ Q(\"Machine\") + Q(\"Shift\")', df_machine_shift).fit()\n",
    "\n",
    "# create table for 2-way ANOVA test\n",
    "# pass the linear model 'test'\n",
    "# 'typ = 2' performs two-way ANOVA\n",
    "anova_2 = anova_lm(test, typ = 2)\n",
    "\n",
    "# print the table\n",
    "anova_2"
   ]
  },
  {
   "cell_type": "markdown",
   "metadata": {},
   "source": [
    "The above output shows that the test statistic for treatments (i.e. machines) is greater than 4.7571 and the p-value is less than 0.05. Thus we reject the null hypothesis for treatments and conclude that the average tensile strength due to at least one machine is different.\n",
    "\n",
    "The test statistic for blocks (i.e. shift) is less than 5.1433 and the p-value is greater than 0.05. Thus we fail to reject (i.e. accept) the null hypothesis for blocks and conclude that the average tensile strength due to all the shifts is the same."
   ]
  }
 ],
 "metadata": {
  "kernelspec": {
   "display_name": "Python 3 (ipykernel)",
   "language": "python",
   "name": "python3"
  },
  "language_info": {
   "codemirror_mode": {
    "name": "ipython",
    "version": 3
   },
   "file_extension": ".py",
   "mimetype": "text/x-python",
   "name": "python",
   "nbconvert_exporter": "python",
   "pygments_lexer": "ipython3",
   "version": "3.9.7"
  }
 },
 "nbformat": 4,
 "nbformat_minor": 2
}
