{
 "cells": [
  {
   "cell_type": "markdown",
   "metadata": {
    "id": "GK0NW_2EjULQ"
   },
   "source": [
    "<table align=\"left\" width=100%>\n",
    "    <tr>\n",
    "        <td width=\"20%\">\n",
    "            <img src=\"GL-2.png\">\n",
    "            <img src=\"faculty.png\">\n",
    "        </td>\n",
    "        <td>\n",
    "            <div align=\"center\">\n",
    "                <font color=\"#21618C\" size=8px>\n",
    "                  <b> Post Read <br> (Week 4) </b>\n",
    "                </font>\n",
    "            </div>\n",
    "        </td>\n",
    "    </tr>\n",
    "</table>"
   ]
  },
  {
   "cell_type": "markdown",
   "metadata": {
    "id": "zvAE5vE3jULR"
   },
   "source": [
    "## Table of Content\n",
    "\n",
    "1. **[Import Libraries](#lib)**\n",
    "\n",
    "2. **[Z Proportion Test](#prop)**\n",
    "    - 2.1 - **[One Sample Test](#1_p)**\n",
    "    - 2.2 - **[Two Sample Test](#2_p)**\n",
    "3. **[Non-parametric Tests](#non_para)**\n",
    "    - 3.1 - **[Wilcoxon Signed Rank Test](#1samp)**\n",
    "    - 3.2 - **[Wilcoxon Rank Sum ](#w_rank)**\n",
    "    - 3.3 - **[Mann-Whitney U Test](#m_w)**"
   ]
  },
  {
   "cell_type": "markdown",
   "metadata": {
    "id": "PfsUFjVbjULS"
   },
   "source": [
    "<a id=\"lib\"></a>\n",
    "# 1. Import Libraries"
   ]
  },
  {
   "cell_type": "markdown",
   "metadata": {
    "id": "soadpiTzjULT"
   },
   "source": [
    "**Let us import the required libraries.**"
   ]
  },
  {
   "cell_type": "code",
   "execution_count": null,
   "metadata": {
    "id": "6FixCmEsjULU"
   },
   "outputs": [],
   "source": [
    "# import 'pandas' \n",
    "import pandas as pd \n",
    "\n",
    "# import 'numpy' \n",
    "import numpy as np\n",
    "\n",
    "# import subpackage of matplotlib\n",
    "import matplotlib.pyplot as plt\n",
    "\n",
    "# import 'seaborn'\n",
    "import seaborn as sns\n",
    "\n",
    "# to suppress warnings \n",
    "from warnings import filterwarnings\n",
    "filterwarnings('ignore')\n",
    "\n",
    "# import statsmodels\n",
    "import statsmodels.api as sm\n",
    "\n",
    "# import 'stats' package from scipy library\n",
    "from scipy import stats\n",
    "\n",
    "# import statistics to perform statistical computations\n",
    "import statistics\n",
    "\n",
    "# to test the normality \n",
    "from scipy.stats import shapiro\n",
    "\n",
    "# import a library to perform Z-test\n",
    "from statsmodels.stats import weightstats as stests"
   ]
  },
  {
   "cell_type": "code",
   "execution_count": null,
   "metadata": {
    "id": "0xOunnbOjULY"
   },
   "outputs": [],
   "source": [
    "# set the plot size using 'rcParams'\n",
    "# once the plot size is set using 'rcParams', it sets the size of all the forthcoming plots in the file\n",
    "# pass width and height in inches to 'figure.figsize' \n",
    "plt.rcParams['figure.figsize'] = [15,8]"
   ]
  },
  {
   "cell_type": "markdown",
   "metadata": {
    "id": "Qnofe5hBjUOf"
   },
   "source": [
    "<a id=\"prop\"></a>\n",
    "# 2. Z Proportion Test"
   ]
  },
  {
   "cell_type": "markdown",
   "metadata": {
    "id": "z95224vGjUOf"
   },
   "source": [
    "<a id=\"1_p\"></a>\n",
    "## 2.1 One Sample Test"
   ]
  },
  {
   "cell_type": "markdown",
   "metadata": {
    "id": "4xvgUcCtjUOf"
   },
   "source": [
    "Perform one sample Z test for the population proportion. We compare the population proportion ($P$) with a specific value ($P_{0}$).\n",
    "\n",
    "The null and alternative hypothesis is given as:\n",
    "\n",
    "<p style='text-indent:25em'> <strong> $H_{0}: P = P_{0}$ or $P \\geq P_{0}$ or $P \\leq P_{0}$</strong></p>\n",
    "<p style='text-indent:25em'> <strong> $H_{1}: P \\neq P_{0}$ or $P < P_{0}$ or $P > P_{0}$</strong></p>"
   ]
  },
  {
   "cell_type": "markdown",
   "metadata": {
    "id": "CjLNMxSqjUOg"
   },
   "source": [
    "The test statistic for proportion Z-test is given as:\n",
    "<p style='text-indent:25em'> <strong> $Z = \\frac{p -  P_{0}}{\\sqrt{\\frac{P_{0}(1-P_{0})}{n}}}$</strong></p>\n",
    "\n",
    "Where, <br>\n",
    "$p$: Sample proportion<br>\n",
    "$n$: Sample size\n",
    "\n",
    "Under $H_{0}$, the test statistic follows a standard normal distribution."
   ]
  },
  {
   "cell_type": "markdown",
   "metadata": {
    "id": "BAsQHKx6jUOg"
   },
   "source": [
    "### Example:\n",
    "\n",
    "#### 1. In previous years, people believed that at most 80% of male students score more than 50 marks out of 100 in Mathematics. Perform a test to check whether this percentage is more than 80. Consider the level of significance as 0.05.\n",
    "\n",
    "Consider the sample of math scores of male students available in the CSV file `StudentsPerformance.csv`."
   ]
  },
  {
   "cell_type": "code",
   "execution_count": null,
   "metadata": {
    "id": "3V8VlG2rjUOg",
    "outputId": "42875b64-4bc4-425c-c1d3-922799c71e15",
    "scrolled": false
   },
   "outputs": [
    {
     "data": {
      "text/html": [
       "<div>\n",
       "<style scoped>\n",
       "    .dataframe tbody tr th:only-of-type {\n",
       "        vertical-align: middle;\n",
       "    }\n",
       "\n",
       "    .dataframe tbody tr th {\n",
       "        vertical-align: top;\n",
       "    }\n",
       "\n",
       "    .dataframe thead th {\n",
       "        text-align: right;\n",
       "    }\n",
       "</style>\n",
       "<table border=\"1\" class=\"dataframe\">\n",
       "  <thead>\n",
       "    <tr style=\"text-align: right;\">\n",
       "      <th></th>\n",
       "      <th>gender</th>\n",
       "      <th>race/ethnicity</th>\n",
       "      <th>lunch</th>\n",
       "      <th>test preparation course</th>\n",
       "      <th>math score</th>\n",
       "      <th>reading score</th>\n",
       "      <th>writing score</th>\n",
       "      <th>total score</th>\n",
       "      <th>training institute</th>\n",
       "    </tr>\n",
       "  </thead>\n",
       "  <tbody>\n",
       "    <tr>\n",
       "      <th>0</th>\n",
       "      <td>female</td>\n",
       "      <td>group B</td>\n",
       "      <td>standard</td>\n",
       "      <td>none</td>\n",
       "      <td>89</td>\n",
       "      <td>55</td>\n",
       "      <td>56</td>\n",
       "      <td>200</td>\n",
       "      <td>Nature Learning</td>\n",
       "    </tr>\n",
       "    <tr>\n",
       "      <th>1</th>\n",
       "      <td>female</td>\n",
       "      <td>group C</td>\n",
       "      <td>standard</td>\n",
       "      <td>completed</td>\n",
       "      <td>55</td>\n",
       "      <td>63</td>\n",
       "      <td>72</td>\n",
       "      <td>190</td>\n",
       "      <td>Nature Learning</td>\n",
       "    </tr>\n",
       "  </tbody>\n",
       "</table>\n",
       "</div>"
      ],
      "text/plain": [
       "   gender race/ethnicity     lunch test preparation course  math score  \\\n",
       "0  female        group B  standard                    none          89   \n",
       "1  female        group C  standard               completed          55   \n",
       "\n",
       "   reading score  writing score  total score training institute  \n",
       "0             55             56          200    Nature Learning  \n",
       "1             63             72          190    Nature Learning  "
      ]
     },
     "execution_count": 64,
     "metadata": {
      "tags": []
     },
     "output_type": "execute_result"
    }
   ],
   "source": [
    "# read the students performance data \n",
    "df_student = pd.read_csv('StudentsPerformance.csv')\n",
    "\n",
    "# display the first two observations\n",
    "df_student.head(2)"
   ]
  },
  {
   "cell_type": "code",
   "execution_count": null,
   "metadata": {
    "id": "K6y774zhjUOi"
   },
   "outputs": [],
   "source": [
    "# total number of male students \n",
    "total_male = len(df_student[(df_student['gender'] == 'male')])\n",
    "\n",
    "# consider the males with math score greater than 50\n",
    "male_marks_gt_50 = df_student[(df_student['gender'] == 'male') & (df_student['math score'] > 50)]\n",
    "\n",
    "# obtain the number of male students with math score greater than 50 \n",
    "num_male_marks_gt_50 = len(male_marks_gt_50)\n",
    "\n",
    "# calculate sample proportion\n",
    "p_samp = num_male_marks_gt_50/total_male"
   ]
  },
  {
   "cell_type": "markdown",
   "metadata": {
    "id": "ei4itiubjUOk"
   },
   "source": [
    "The null and alternative hypothesis is:\n",
    "\n",
    "H<sub>0</sub>: $P \\leq 0.8$<br>\n",
    "H<sub>1</sub>: $P > 0.8$ "
   ]
  },
  {
   "cell_type": "markdown",
   "metadata": {
    "id": "oHzItaihjUOk"
   },
   "source": [
    "Here ⍺ = 0.05, for a one-tailed test calculate the critical z-value."
   ]
  },
  {
   "cell_type": "code",
   "execution_count": null,
   "metadata": {
    "id": "1vgty3VHjUOk",
    "outputId": "7e37333b-eb38-451e-d878-df8e0df13fe7"
   },
   "outputs": [
    {
     "name": "stdout",
     "output_type": "stream",
     "text": [
      "Critical value for one-tailed Z-test: 1.64\n"
     ]
    }
   ],
   "source": [
    "# calculate the z-value for 95% of confidence level\n",
    "# use 'stats.norm.isf()' to find the z-value corresponding to the upper tail probability 'q'\n",
    "# pass the value of 'alpha' to the parameter 'q', here alpha = 0.05\n",
    "# use 'round()' to round-off the value to 2 digits\n",
    "z_val = np.abs(round(stats.norm.isf(q = 0.05), 2))\n",
    "\n",
    "print('Critical value for one-tailed Z-test:', z_val)"
   ]
  },
  {
   "cell_type": "markdown",
   "metadata": {
    "id": "YF4uol3ijUOm"
   },
   "source": [
    "i.e. if z is greater than 1.64 then we reject the null hypothesis."
   ]
  },
  {
   "cell_type": "code",
   "execution_count": null,
   "metadata": {
    "id": "rcQpC7YYjUOm",
    "outputId": "9aaa003e-7689-4c66-9b2e-04b2291d333a"
   },
   "outputs": [
    {
     "name": "stdout",
     "output_type": "stream",
     "text": [
      "Test statistic: 4.163394160018601\n"
     ]
    }
   ],
   "source": [
    "# hypothesized proportion\n",
    "hypo_p = 0.8 \n",
    "\n",
    "# calculate test statistic value for 1 sample proportion test\n",
    "z_prop = (p_samp - hypo_p) / np.sqrt((hypo_p * (1 - hypo_p)) / total_male)\n",
    "\n",
    "print('Test statistic:', z_prop)"
   ]
  },
  {
   "cell_type": "code",
   "execution_count": null,
   "metadata": {
    "id": "uUNOalqzjUOn",
    "outputId": "c225acf3-3f5f-4925-acbe-892993f18aed"
   },
   "outputs": [
    {
     "name": "stdout",
     "output_type": "stream",
     "text": [
      "p-value: 1.5677570141208797e-05\n"
     ]
    }
   ],
   "source": [
    "# calculate the corresponding p-value for the test statistic\n",
    "# use 'sf()' to calculate P(Z > z_prop)\n",
    "p_value = stats.norm.sf(z_prop)\n",
    "\n",
    "print('p-value:', p_value)"
   ]
  },
  {
   "cell_type": "code",
   "execution_count": null,
   "metadata": {
    "id": "AwCeRI2hjUOp",
    "outputId": "e79ef7ff-566d-465f-b4fc-07382e21566a",
    "scrolled": true
   },
   "outputs": [
    {
     "name": "stdout",
     "output_type": "stream",
     "text": [
      "95% confidence interval for population proportion is (0.8463611028151683, 0.9051916922158876)\n"
     ]
    }
   ],
   "source": [
    "# calculate the 95% confidence interval\n",
    "# pass the sample proportion to the parameter, 'loc'\n",
    "# pass the scaling factor (((p_samp*(1-p_samp))/n)^0.5) to the parameter, 'scale'\n",
    "interval = stats.norm.interval(0.95, loc = p_samp, scale = np.sqrt((p_samp*(1-p_samp))/total_male))\n",
    "\n",
    "print('95% confidence interval for population proportion is', interval)"
   ]
  },
  {
   "cell_type": "markdown",
   "metadata": {
    "id": "1SfzeqHZjUOr"
   },
   "source": [
    "Here the z-score is greater than 1.64, the p-value is less than 0.05, also the confidence interval does not contain the value in the null hypothesis (i.e. 0.8). Thus, we reject the null hypothesis and we have enough evidence to conclude that the percentage of male students scoring more than 50 marks in Mathematics is more than 80%."
   ]
  },
  {
   "cell_type": "markdown",
   "metadata": {
    "id": "_SrO7kYijUOr"
   },
   "source": [
    "Let us plot the acceptance and rejection region for a right-tailed test with 95% confidence."
   ]
  },
  {
   "cell_type": "code",
   "execution_count": null,
   "metadata": {
    "id": "ZQcOl2TVjUOr",
    "outputId": "f29c1a03-0fc1-4bc0-b0ad-d14d4016aac2",
    "scrolled": false
   },
   "outputs": [
    {
     "data": {
      "image/png": "[encoded data removed]",
      "text/plain": [
       "<Figure size 1080x576 with 1 Axes>"
      ]
     },
     "metadata": {
      "needs_background": "light",
      "tags": []
     },
     "output_type": "display_data"
    }
   ],
   "source": [
    "# consider a random variable 'X' that follows a standard normal distribution \n",
    "# pass the required number of observations to the parameter, 'size'\n",
    "# set 'random_state' to obtain the same observations every time you run the code \n",
    "X = stats.norm.rvs(size = 2000000, random_state = 5)\n",
    "\n",
    "# plot the distribution of X\n",
    "# pass the data to the parameter, 'a'\n",
    "# 'hist=False' does not return the histogram \n",
    "# 'cumulative=False' in 'kde_kws' does not return the cumulative kernel density estimator\n",
    "ax = sns.distplot(a = X, hist = False, kde_kws = dict(cumulative=False))\n",
    "\n",
    "# set the limit for y-axis\n",
    "plt.ylim(0, 0.42)\n",
    "\n",
    "# use 'stats.norm.isf()' to calculate the critical z-value for alpha = 0.05\n",
    "# pass the value of 'alpha' to the parameter 'q'\n",
    "z = stats.norm.isf(q = 0.05)\n",
    "\n",
    "# plot a vertical line at z-value\n",
    "x, y = [z, z], [0, 0.3]\n",
    "plt.plot(x, y, color = 'black')\n",
    "\n",
    "# plot a vertical line at z-proportion value\n",
    "x, y = [z_prop, z_prop], [0, 0.013]\n",
    "plt.plot(x, y, color = 'black')\n",
    "\n",
    "# add the color to the right of the z-value\n",
    "# get the data for x and y axes\n",
    "l1 = ax.lines[0]\n",
    "x1 = l1.get_xydata()[:,0]\n",
    "y1 = l1.get_xydata()[:,1]\n",
    "\n",
    "# fill the color for the region where x-values are greater than the critical z-value\n",
    "# pass the condition to shade the required region\n",
    "# pass the required color to the parameter, 'color'\n",
    "ax.fill_between(x1[x1 >= z], y1[x1 >= z], color = 'lightblue')\n",
    "\n",
    "# use 'annonate' function to draw an arrow between points xy and xytext\n",
    "# 's' is a argument to write text\n",
    "# we can change the facecolor and arrowstyle; this is only for representation purpose\n",
    "plt.annotate(s = 'Mean (μ)', xy = (0, 0), xytext = (-0.3, 0.04), arrowprops = dict(facecolor = 'black', arrowstyle = 'simple'))\n",
    "\n",
    "plt.annotate(s = 'α = 0.05\\n(Rejection Region for H0)', xy = (2, 0.025), xytext = (2, 0.075), \n",
    "             arrowprops = dict(facecolor = 'black', arrowstyle = 'simple'))\n",
    "\n",
    "plt.annotate(s = 'z_crit = '+ str(round(z,2)), xy = (z, 0), xytext = (z-1, 0.04), \n",
    "             arrowprops = dict(facecolor = 'black', arrowstyle = 'simple'))\n",
    "\n",
    "# use below code to print the values in the graph\n",
    "# 'x' and 'y' gives position of the text\n",
    "# 's' is the text \n",
    "plt.text(x = -1.1, y = 0.2, s = 'Acceptance Region for H0 (1 - α)')\n",
    "\n",
    "# assign the x-axis labels\n",
    "# pass the position of labels to the parameter, 'ticks'\n",
    "# pass the required labels to the parameter, 'labels'\n",
    "plt.xticks(ticks = [-4, -2, 0, 2, round(z_prop,2)], \n",
    "           labels = [-4, -2, 0, 2, 'z_test = '+str(round(z_prop,2))])\n",
    "\n",
    "# set plot and axes labels\n",
    "# set text size using 'fontsize'\n",
    "plt.xlabel('Z', fontsize = 15)\n",
    "plt.ylabel('Probability', fontsize = 15)\n",
    "plt.title('Right-Tailed Test', fontsize = 15)\n",
    "\n",
    "# display the plot\n",
    "plt.show()"
   ]
  },
  {
   "cell_type": "markdown",
   "metadata": {
    "id": "s-ZF2vRCjUOt"
   },
   "source": [
    "The above plot shows that the test statistic value is in the rejection region, which implies we reject $H_{0}$ and conclude the percentage of male students scoring more than 50 marks in Mathematics is more than 80%."
   ]
  },
  {
   "cell_type": "markdown",
   "metadata": {
    "id": "CjjxOuZ6jUOt"
   },
   "source": [
    "#### 2. From a sample of 361 business owners had gone into bankruptcy due to recession. On taking a survey, it was found that 105 of them had not consulted any professional for managing their finance before opening the business. Test the null hypothesis that at most 25% of all businesses had not consulted before opening the business. Test the claim using p-value technique. Use α = 0.05."
   ]
  },
  {
   "cell_type": "markdown",
   "metadata": {
    "id": "NNZVOfFHjUOt"
   },
   "source": [
    "The null and alternative hypothesis is:\n",
    "\n",
    "H<sub>0</sub>: $P \\leq 0.25$<br>\n",
    "H<sub>1</sub>: $P > 0.25$ "
   ]
  },
  {
   "cell_type": "code",
   "execution_count": null,
   "metadata": {
    "id": "-RMWTcS7jUOu",
    "outputId": "1a8d7282-3500-48fe-9681-2945db9847ab"
   },
   "outputs": [
    {
     "name": "stdout",
     "output_type": "stream",
     "text": [
      "Test statistic: 1.7928245201151534\n"
     ]
    }
   ],
   "source": [
    "# sample size\n",
    "n = 361\n",
    "\n",
    "# number of business owners that did not consult before\n",
    "x = 105\n",
    "\n",
    "# sample proportion\n",
    "p_samp = x / n\n",
    "\n",
    "# hypothesized proportion\n",
    "hypo_p = 0.25\n",
    "\n",
    "# calculate test statistic value for 1 sample proportion test\n",
    "z_prop = (p_samp - hypo_p) / np.sqrt((hypo_p * (1 - hypo_p)) / n)\n",
    "\n",
    "print('Test statistic:', z_prop)"
   ]
  },
  {
   "cell_type": "code",
   "execution_count": null,
   "metadata": {
    "id": "zfNDaLq3jUOv",
    "outputId": "1839939a-46b1-417c-9f73-fb9155b95f0f"
   },
   "outputs": [
    {
     "name": "stdout",
     "output_type": "stream",
     "text": [
      "p-value: 0.03650049373124949\n"
     ]
    }
   ],
   "source": [
    "# calculate the corresponding p-value for the test statistic\n",
    "# use 'sf()' to calculate P(Z > z_prop)\n",
    "p_value = stats.norm.sf(z_prop)\n",
    "\n",
    "print('p-value:', p_value)"
   ]
  },
  {
   "cell_type": "markdown",
   "metadata": {
    "id": "KnZOkCxKjUOx"
   },
   "source": [
    "Here the p-value is less than 0.05. Thus, we reject the null hypothesis and conclude that at least 25% of all businesses had not consulted before starting the business."
   ]
  },
  {
   "cell_type": "markdown",
   "metadata": {
    "id": "da2MCj6mjUOx"
   },
   "source": [
    "<a id=\"2_p\"></a>\n",
    "## 2.2 Two Sample Test"
   ]
  },
  {
   "cell_type": "markdown",
   "metadata": {
    "id": "q88y4I7AjUOz"
   },
   "source": [
    "Perform two sample Z test for the population proportion. We check the equality of population proportions $P_{1}$ and $P_{2}$.\n",
    "\n",
    "The null and alternative hypothesis is given as:\n",
    "\n",
    "<p style='text-indent:25em'> <strong> $H_{0}: P_{1} - P_{2} = P_{0}$ or $P_{1} - P_{2} \\geq P_{0}$ or $P_{1} - P_{2} \\leq P_{0}$</strong></p>\n",
    "<p style='text-indent:25em'> <strong> $H_{1}: P_{1} - P_{2} \\neq P_{0}$ or $P_{1} - P_{2} < P_{0}$ or $P_{1} - P_{2} > P_{0}$</strong></p>"
   ]
  },
  {
   "cell_type": "markdown",
   "metadata": {
    "id": "5FLa5YnSjUOz"
   },
   "source": [
    "The test statistic for two sample proportion Z-test is given as:\n",
    "<p style='text-indent:25em'> <strong> $Z = \\frac{(p_{1} -  p_{2}) - P_{0}}{\\sqrt{\\bar{P}(1-\\bar{P})(\\frac{1}{n_{1}} + \\frac{1}{n_{2}})}}$   $\\hspace{2 cm} \\bar{P} = \\frac{n_{1}p_{1} + n_{2}p_{2}}{n_{1} + n_{2}}$ </strong></p>\n",
    "\n",
    "Where, <br>\n",
    "$p_{1}, p_{2}$: Samples proportions<br>\n",
    "$P_{0}$: Hypothesized proportion<br>\n",
    "$\\bar{P}$: Proportion of pooled sample<br>\n",
    "$n_{1}, n_{2}$: Samples sizes"
   ]
  },
  {
   "cell_type": "markdown",
   "metadata": {
    "id": "_Nnef7g_jUO0"
   },
   "source": [
    "### Example:\n",
    "\n",
    "#### 1. A team of nutritionists believes that each institute provides 'standard' lunch to an equal proportion of students. A sample of students from institutes <i>Nature Learning</i> and <i>Speak Global Learning</i> is given. Consider the null hypothesis as equality of proportion with 0.1 level of significance.\n",
    "\n",
    "Consider the sample data available in the CSV file `StudentsPerformance.csv`."
   ]
  },
  {
   "cell_type": "code",
   "execution_count": null,
   "metadata": {
    "id": "9D6_FJWsjUO0",
    "outputId": "2ff2cc81-91db-4cee-c5cf-28587e38f078",
    "scrolled": false
   },
   "outputs": [
    {
     "data": {
      "text/html": [
       "<div>\n",
       "<style scoped>\n",
       "    .dataframe tbody tr th:only-of-type {\n",
       "        vertical-align: middle;\n",
       "    }\n",
       "\n",
       "    .dataframe tbody tr th {\n",
       "        vertical-align: top;\n",
       "    }\n",
       "\n",
       "    .dataframe thead th {\n",
       "        text-align: right;\n",
       "    }\n",
       "</style>\n",
       "<table border=\"1\" class=\"dataframe\">\n",
       "  <thead>\n",
       "    <tr style=\"text-align: right;\">\n",
       "      <th></th>\n",
       "      <th>gender</th>\n",
       "      <th>race/ethnicity</th>\n",
       "      <th>lunch</th>\n",
       "      <th>test preparation course</th>\n",
       "      <th>math score</th>\n",
       "      <th>reading score</th>\n",
       "      <th>writing score</th>\n",
       "      <th>total score</th>\n",
       "      <th>training institute</th>\n",
       "    </tr>\n",
       "  </thead>\n",
       "  <tbody>\n",
       "    <tr>\n",
       "      <th>0</th>\n",
       "      <td>female</td>\n",
       "      <td>group B</td>\n",
       "      <td>standard</td>\n",
       "      <td>none</td>\n",
       "      <td>89</td>\n",
       "      <td>55</td>\n",
       "      <td>56</td>\n",
       "      <td>200</td>\n",
       "      <td>Nature Learning</td>\n",
       "    </tr>\n",
       "    <tr>\n",
       "      <th>1</th>\n",
       "      <td>female</td>\n",
       "      <td>group C</td>\n",
       "      <td>standard</td>\n",
       "      <td>completed</td>\n",
       "      <td>55</td>\n",
       "      <td>63</td>\n",
       "      <td>72</td>\n",
       "      <td>190</td>\n",
       "      <td>Nature Learning</td>\n",
       "    </tr>\n",
       "  </tbody>\n",
       "</table>\n",
       "</div>"
      ],
      "text/plain": [
       "   gender race/ethnicity     lunch test preparation course  math score  \\\n",
       "0  female        group B  standard                    none          89   \n",
       "1  female        group C  standard               completed          55   \n",
       "\n",
       "   reading score  writing score  total score training institute  \n",
       "0             55             56          200    Nature Learning  \n",
       "1             63             72          190    Nature Learning  "
      ]
     },
     "execution_count": 73,
     "metadata": {
      "tags": []
     },
     "output_type": "execute_result"
    }
   ],
   "source": [
    "# read the students performance data \n",
    "df_student = pd.read_csv('StudentsPerformance.csv')\n",
    "\n",
    "# display the first two observations\n",
    "df_student.head(2)"
   ]
  },
  {
   "cell_type": "code",
   "execution_count": null,
   "metadata": {
    "id": "FvfqlmoqjUO2",
    "outputId": "2faf6302-3112-4d79-8982-9e1ee80e2fc7"
   },
   "outputs": [
    {
     "data": {
      "text/plain": [
       "array(['Nature Learning', 'Speak Global Learning'], dtype=object)"
      ]
     },
     "execution_count": 74,
     "metadata": {
      "tags": []
     },
     "output_type": "execute_result"
    }
   ],
   "source": [
    "# get the training institutes in the dataframe\n",
    "df_student['training institute'].unique()"
   ]
  },
  {
   "cell_type": "markdown",
   "metadata": {
    "id": "3Tj79EJDjUO4"
   },
   "source": [
    "The dataset contains the information about the students from two different institutes."
   ]
  },
  {
   "cell_type": "code",
   "execution_count": null,
   "metadata": {
    "id": "Hm3_Ku6ijUO5"
   },
   "outputs": [],
   "source": [
    "# consider the students from Nature Learning institute\n",
    "df_nl = df_student[df_student['training institute'] == 'Nature Learning']\n",
    "\n",
    "# number of students from first institute\n",
    "n_1 = len(df_nl)\n",
    "\n",
    "# number of the students with standard lunch\n",
    "lunch_std_1 = len(df_nl[df_nl['lunch'] == 'standard'])\n",
    "\n",
    "# consider the students from Speak Global Learning institute\n",
    "df_sg = df_student[df_student['training institute'] == 'Speak Global Learning']\n",
    "\n",
    "# number of students from second institute\n",
    "n_2 = len(df_sg)\n",
    "\n",
    "# number of the students with standard lunch\n",
    "lunch_std_2 = len(df_sg[df_sg['lunch'] == 'standard'])"
   ]
  },
  {
   "cell_type": "markdown",
   "metadata": {
    "id": "T12h9nLsjUO7"
   },
   "source": [
    "The null and alternative hypothesis is:\n",
    "\n",
    "H<sub>0</sub>: $P_{1} - P_{2} = 0$<br>\n",
    "H<sub>1</sub>: $P_{1} - P_{2} \\neq 0$ "
   ]
  },
  {
   "cell_type": "markdown",
   "metadata": {
    "id": "Fo9aVaSIjUO8"
   },
   "source": [
    "Here ⍺ = 0.1, for a two-tailed test calculate the critical z-value."
   ]
  },
  {
   "cell_type": "code",
   "execution_count": null,
   "metadata": {
    "id": "tyY1yBJujUO8",
    "outputId": "9e0dfaf7-81bb-47b2-d1aa-e61277abbe9f"
   },
   "outputs": [
    {
     "name": "stdout",
     "output_type": "stream",
     "text": [
      "Critical value for two-tailed Z-test: 1.64\n"
     ]
    }
   ],
   "source": [
    "# calculate the z-value for 90% of confidence level\n",
    "# use 'stats.norm.isf()' to find the z-value corresponding to the upper tail probability 'q'\n",
    "# pass the value of 'alpha/2' for a two-tailed test to the parameter 'q', here alpha = 0.1\n",
    "# use 'round()' to round-off the value to 2 digits\n",
    "z_val = np.abs(round(stats.norm.isf(q = 0.1/2), 2))\n",
    "\n",
    "print('Critical value for two-tailed Z-test:', z_val)"
   ]
  },
  {
   "cell_type": "markdown",
   "metadata": {
    "id": "9qGuNNnHjUO-"
   },
   "source": [
    "i.e. if z is less than -1.64 or greater than 1.64 then we reject the null hypothesis."
   ]
  },
  {
   "cell_type": "code",
   "execution_count": null,
   "metadata": {
    "id": "xdkAfYsMjUO-",
    "outputId": "c133aedd-adf3-4118-877e-c3cb507f269a"
   },
   "outputs": [
    {
     "name": "stdout",
     "output_type": "stream",
     "text": [
      "Test statistic: 0.7935300106078008\n",
      "p-value: 0.4274690915859791\n"
     ]
    }
   ],
   "source": [
    "# calculate test statistic value for two sample proportion test\n",
    "# pass the number of students with standard lunch for both the institutes to the parameter, 'count'\n",
    "# pass the size of both the samples to the parameter, 'nobs'\n",
    "z_prop, p_val = sm.stats.proportions_ztest(count = np.array([lunch_std_1, lunch_std_2]), \n",
    "                                             nobs = np.array([n_1, n_2]))\n",
    "\n",
    "# print the value of test statstic and the corresponding p-value\n",
    "print('Test statistic:', z_prop)\n",
    "print('p-value:', p_val)"
   ]
  },
  {
   "cell_type": "code",
   "execution_count": null,
   "metadata": {
    "id": "Qn0dHfK_jUPA",
    "outputId": "ecd12a88-98dd-4b1d-89df-f50df69ac533",
    "scrolled": true
   },
   "outputs": [
    {
     "name": "stdout",
     "output_type": "stream",
     "text": [
      "90% confidence interval for population proportion is (0.8463611028151683, 0.9051916922158876)\n"
     ]
    }
   ],
   "source": [
    "# proportion of first sameple\n",
    "p_1 = lunch_std_1/ n_1\n",
    "\n",
    "# proportion of first sameple\n",
    "p_2 = lunch_std_2/ n_2\n",
    "\n",
    "# proportion of pooled sample\n",
    "p_bar = (n_1*p_1 + n_2*p_2) / (n_1 + n_2)\n",
    "\n",
    "# calculate the 90% confidence interval\n",
    "# pass the difference in sample proportions to the parameter, 'loc'\n",
    "# pass the scaling factor np.sqrt(p_bar(1-p_bar)(1/n_1 + 1/n_2)) to the parameter, 'scale'\n",
    "a,b = stats.norm.interval(0.9, loc = p_1 - p_2, scale = np.sqrt(p_bar*(1-p_bar)*(1/n_1 + 1/n_2)))\n",
    "\n",
    "print('90% confidence interval for population proportion is', interval)"
   ]
  },
  {
   "cell_type": "markdown",
   "metadata": {
    "id": "5q4npAsWjUPB"
   },
   "source": [
    "Here the z-score is less than 1.64, the p-value is greater than 0.1, also the confidence interval contains the value in the null hypothesis (i.e. 0). Thus, we fail to reject (i.e. accept) the null hypothesis and we do not have enough evidence to conclude that the proportion of students with standard lunch is different."
   ]
  },
  {
   "cell_type": "markdown",
   "metadata": {
    "id": "UOchtr9yjUPC"
   },
   "source": [
    "Let us plot the acceptance and rejection region for a two-tailed test with 90% confidence."
   ]
  },
  {
   "cell_type": "code",
   "execution_count": null,
   "metadata": {
    "id": "dUP9JNGIjUPC",
    "outputId": "fbff257f-941e-4c27-a249-7faec5949fcb",
    "scrolled": false
   },
   "outputs": [
    {
     "data": {
      "image/png": "[encoded data removed]",
      "text/plain": [
       "<Figure size 1080x576 with 1 Axes>"
      ]
     },
     "metadata": {
      "needs_background": "light",
      "tags": []
     },
     "output_type": "display_data"
    }
   ],
   "source": [
    "# consider a random variable 'X' that follows a standard normal distribution \n",
    "# pass the required number of observations to the parameter, 'size'\n",
    "# set 'random_state' to obtain the same observations every time you run the code \n",
    "X = stats.norm.rvs(size = 2000000, random_state = 10)\n",
    "\n",
    "# plot the distribution of X\n",
    "# pass the data to the parameter, 'a'\n",
    "# 'hist=False' does not return the histogram \n",
    "# 'cumulative=False' in 'kde_kws' does not return the cumulative kernel density estimator\n",
    "ax = sns.distplot(a = X, hist = False, kde_kws = dict(cumulative=False))\n",
    "\n",
    "# set the limit for y-axis\n",
    "plt.ylim(0, 0.42)\n",
    "\n",
    "# use 'stats.norm.isf()' to calculate the critical z-value for alpha = 0.1\n",
    "# pass the value of 'alpha/2' to the parameter 'q' for a two-tailed test\n",
    "z = stats.norm.isf(q = 0.1/2)\n",
    "\n",
    "# plot a vertical line at z-value\n",
    "x, y = [z, z], [0, 0.3]\n",
    "plt.plot(x, y, color = 'black')\n",
    "\n",
    "# plot a vertical line at -(z-value)\n",
    "x, y = [-z, -z], [0, 0.3]\n",
    "plt.plot(x, y, color = 'black')\n",
    "\n",
    "# plot a vertical line at z-test value\n",
    "x, y = [z_prop, z_prop], [0, 0.013]\n",
    "plt.plot(x, y, color = 'black')\n",
    "\n",
    "# add the color to the right of the z-value and left of -(z-value)\n",
    "# get the data for x and y axes\n",
    "l1 = ax.lines[0]\n",
    "x1 = l1.get_xydata()[:,0]\n",
    "y1 = l1.get_xydata()[:,1]\n",
    "\n",
    "# fill the color for the region where x-values are greater than the critical z-value\n",
    "# pass the condition to shade the required region\n",
    "# pass the required color to the parameter, 'color'\n",
    "ax.fill_between(x1[x1 >= z], y1[x1 >= z], color = 'lightblue')\n",
    "\n",
    "# fill the color for the region where x-values are less than -(z-value)\n",
    "# pass the condition to shade the required region\n",
    "# pass the required color to the parameter, 'color'\n",
    "ax.fill_between(x1[x1 <= -z], y1[x1 <= -z], color = 'lightblue')\n",
    "\n",
    "# use 'annonate' function to draw an arrow between points xy and xytext\n",
    "# 's' is a argument to write text\n",
    "# we can change the facecolor and arrowstyle; this is only for representation purpose\n",
    "plt.annotate(s = 'Mean (μ)', xy = (0, 0), xytext = (-0.32, 0.04), arrowprops = dict(facecolor = 'black', arrowstyle = 'simple'))\n",
    "\n",
    "plt.annotate(s = 'α/2 = 0.05\\n(Rejection Region for H0)', xy = (2, 0.005), xytext = (2.2, 0.055), \n",
    "             arrowprops = dict(facecolor = 'black', arrowstyle = 'simple'))\n",
    "\n",
    "plt.annotate(s = 'α/2 = 0.05\\n(Rejection Region for H0)', xy = (-2, 0.005), xytext = (-4, 0.055), \n",
    "             arrowprops = dict(facecolor = 'black', arrowstyle = 'simple'))\n",
    "\n",
    "plt.annotate(s = 'z_crit = '+ str(round(z,2)), xy = (z, 0.05), xytext = (z-1.2, 0.07), \n",
    "             arrowprops = dict(facecolor = 'black', arrowstyle = 'simple'))\n",
    "\n",
    "plt.annotate(s = 'z_crit = '+ str(round(-z,2)), xy = (-z, 0.05), xytext = (-z+0.3, 0.07), \n",
    "             arrowprops = dict(facecolor = 'black', arrowstyle = 'simple'))\n",
    "\n",
    "# use below code to print the values in the graph\n",
    "# 'x' and 'y' gives position of the text\n",
    "# 's' is the text \n",
    "plt.text(x = -1.15, y = 0.18, s = 'Acceptance Region for H0 (1 - α)')\n",
    "\n",
    "# assign the x-axis labels\n",
    "# pass the position of labels to the parameter, 'ticks'\n",
    "# pass the required labels to the parameter, 'labels'\n",
    "plt.xticks(ticks = [-6, -4, -2, 0, 2, 4, 6, round(z_prop,2)], \n",
    "           labels = [-6, -4, -2, 0, 2, 4, 6, 'z_test = '+str(round(z_prop,2))])\n",
    "\n",
    "# set plot and axes labels\n",
    "# set text size using 'fontsize'\n",
    "plt.xlabel('Z', fontsize = 15)\n",
    "plt.ylabel('Probability', fontsize = 15)\n",
    "plt.title('Two-Tailed Test', fontsize = 15)\n",
    "\n",
    "# display the plot\n",
    "plt.show()"
   ]
  },
  {
   "cell_type": "markdown",
   "metadata": {
    "id": "CJyUKdlNjUPD"
   },
   "source": [
    "The above plot shows that the test statistic value is in the acceptance region, that implies we fail to reject (i.e. accept) $H_{0}$."
   ]
  },
  {
   "cell_type": "markdown",
   "metadata": {
    "id": "122B7SORjUPD"
   },
   "source": [
    "#### 2. Steve owns a kiosk where he sells two magazines - A and B in a month. He buys 100 copies of magazine A out of which 78 were sold and 70 copies of magazine B out of which 65 were sold. Is there enough evidence to say that magazine is B is more popular? Test the claim using p-value technique with α = 0.05."
   ]
  },
  {
   "cell_type": "markdown",
   "metadata": {
    "id": "IPTLfax0jUPE"
   },
   "source": [
    "The null and alternative hypothesis is:\n",
    "\n",
    "H<sub>0</sub>: $P_{1} \\geq P_{2}$<br>\n",
    "H<sub>1</sub>: $P_{1} < P_{2}$ "
   ]
  },
  {
   "cell_type": "code",
   "execution_count": null,
   "metadata": {
    "id": "4cPCS0nsjUPE",
    "outputId": "7250c9c6-e7fd-4dc8-aa1e-f09380b4ce50"
   },
   "outputs": [
    {
     "name": "stdout",
     "output_type": "stream",
     "text": [
      "Test statistic: -2.60830803458311\n",
      "p-value: 0.004549551600547303\n"
     ]
    }
   ],
   "source": [
    "# copies of magazine A \n",
    "num_A = 100\n",
    "\n",
    "# copies of magazine B\n",
    "num_B = 70\n",
    "\n",
    "# number of copies sold for magazine A  \n",
    "x_A = 78\n",
    "\n",
    "# number of copies sold for magazine B \n",
    "x_B = 65\n",
    "\n",
    "# calculate test statistic value for two sample proportion test\n",
    "# pass the copies sold for both the magazines to the parameter, 'count'\n",
    "# pass the size of both the samples to the parameter, 'nobs'\n",
    "# pass the one-tailed condition to the parameter, 'alternative'\n",
    "z_prop, p_val = sm.stats.proportions_ztest(count = np.array([x_A, x_B]), \n",
    "                                             nobs = np.array([num_A, num_B]),  \n",
    "                                             alternative = 'smaller')\n",
    "\n",
    "# print the value of test statistic and the corresponding p-value\n",
    "print('Test statistic:', z_prop)\n",
    "print('p-value:', p_val)"
   ]
  },
  {
   "cell_type": "markdown",
   "metadata": {
    "id": "lHziyVGXjUPF"
   },
   "source": [
    "Here the p-value is less than 0.05. Thus, we reject the null hypothesis and conclude that there is enough evidence to say that magazine B is more popular."
   ]
  },
  {
   "cell_type": "markdown",
   "metadata": {
    "id": "qkhttJMXjUPG"
   },
   "source": [
    "<a id=\"non_para\"></a>\n",
    "# 3. Non-parametric Tests"
   ]
  },
  {
   "cell_type": "markdown",
   "metadata": {
    "id": "YA9IO5pHjUPG"
   },
   "source": [
    "Parametric tests are the test in which the distribution of the sample is known. The non-parametric tests can be used when the assumptions of parametric tests are not satisfied.\n",
    "\n",
    "`Non-parametric tests` do not require any assumptions about the distribution of the population from which the sample is taken. These tests can be applied to the ordinal/ nominal data. A non-parametric test can be performed on the data containing outliers. The observations in the sample are assumed to be independent for a non-parametric test."
   ]
  },
  {
   "cell_type": "markdown",
   "metadata": {
    "id": "1BiM3FVxjUPG"
   },
   "source": [
    "<a id=\"1samp\"></a>\n",
    "## 3.1 Wilcoxon Signed Rank Test"
   ]
  },
  {
   "cell_type": "markdown",
   "metadata": {
    "id": "xh8fXVp_jUPG"
   },
   "source": [
    "### 1. One-sample Test\n",
    "\n",
    "Wilcoxon signed rank test is used to compare the median (M) of a sample to a specific value ($M_{0}$). This test is a non-parametric alternative to the one-sample t-test which is used to compare the mean of population with a specific value.\n",
    "\n",
    "The null and alternative hypothesis is given as:\n",
    "\n",
    "<p style='text-indent:25em'> <strong> $H_{0}: M = M_{0}$ or $M \\geq M_{0}$ or $M \\leq M_{0}$</strong></p>\n",
    "<p style='text-indent:25em'> <strong> $H_{1}: M \\neq M_{0}$ or $M < M_{0}$ or $M > M_{0}$</strong></p>\n",
    "\n",
    "To perform the test, arrange the sample into ascending order and calculate the difference between the sample point and $M_{0}$. Rank the absolute value of differences using the integers starting from 1 giving the average of ranks to the tied difference. "
   ]
  },
  {
   "cell_type": "markdown",
   "metadata": {
    "id": "nTtj4Q1qjUPH"
   },
   "source": [
    "In python, use the `wilcoxon()` from scipy library to perform the test. \n",
    "\n",
    "For a one-sided test, the test statistic is given as:\n",
    "<p style='text-indent:25em'> <strong> $T^{+} = $ Sum of positive signed ranks</strong></p>\n",
    "\n",
    "For a two-sided test, the test statistic is given as:\n",
    "<p style='text-indent:25em'> <strong> $T = min(T^{+}, T^{-})$</strong></p>\n",
    "\n",
    "Where<br>\n",
    "$T^{+} = $ Sum of positive signed ranks<br>\n",
    "$T^{-} = $ Sum of negative signed ranks"
   ]
  },
  {
   "cell_type": "markdown",
   "metadata": {
    "id": "QY5MpVOmjUPH"
   },
   "source": [
    "### Example:"
   ]
  },
  {
   "cell_type": "markdown",
   "metadata": {
    "id": "wrnUXcAzjUPH"
   },
   "source": [
    "#### 1. A company manufactures auto ancillaries. One of them is steel rods with median diameter 10cm. A sample of 10 rods randomly selected from the production process gives the following results. Test the hypothesis that the median of the population has reduced. Use α = 0.05\n",
    "\n",
    "given data:\n",
    "\n",
    "    diameter = [9.1, 10.1, 9.9, 9.9, 10, 9.8, 9.7, 9.8, 9.9, 8.6]"
   ]
  },
  {
   "cell_type": "markdown",
   "metadata": {
    "id": "Vgd6QlGajUPH"
   },
   "source": [
    "The null and alternative hypothesis is:\n",
    "\n",
    "H<sub>0</sub>: $M \\geq 10$<br>\n",
    "H<sub>1</sub>: $M < 10$ "
   ]
  },
  {
   "cell_type": "code",
   "execution_count": null,
   "metadata": {
    "id": "ZfC8PyMujUPH",
    "outputId": "5bda08c4-0357-45ab-a8de-b6083fda888f"
   },
   "outputs": [
    {
     "name": "stdout",
     "output_type": "stream",
     "text": [
      "Test statistic: 2.5\n",
      "p-value: 0.008364861494636245\n"
     ]
    }
   ],
   "source": [
    "# given diameters\n",
    "diameter = np.array([9.1, 10.1, 9.9, 9.9, 10, 9.8, 9.7, 9.8, 9.9, 8.6])\n",
    "\n",
    "# hypothesized median\n",
    "M_0 = 10\n",
    "\n",
    "# calculate the difference between diameter and M_0\n",
    "diff = diameter - M_0\n",
    "\n",
    "# perform wilcoxon signed rank test\n",
    "# pass the differnces to the parameter, 'x'\n",
    "# pass the one-tailed condition to the parameter, 'alternative'\n",
    "test_stat, p_value = stats.wilcoxon(x = diff, alternative = 'less')\n",
    "\n",
    "# print the test statistic and corresponding p-value\n",
    "print('Test statistic:', test_stat)\n",
    "print('p-value:', p_value)"
   ]
  },
  {
   "cell_type": "markdown",
   "metadata": {
    "id": "ttDhiSOjjUPJ"
   },
   "source": [
    "Here the p-value is less than 0.05, thus we reject the null hypothesis and conclude that the median of population has reduced."
   ]
  },
  {
   "cell_type": "markdown",
   "metadata": {
    "id": "HYRNWf7VjUPJ"
   },
   "source": [
    "#### 2. The Sweet Life company that produces hand sanitizers states that the in sanitizers the median percentage of alcohol is 0.82. A sample of 6 bottles is selected to test the claim that the median percentage of alcohol is not 0.82. Use  α = 0.1\n",
    "\n",
    "Given data:\n",
    "\n",
    "        alc_per = [0.32, 0.43, 0.38, 0.35, 0.85, 0.79]"
   ]
  },
  {
   "cell_type": "markdown",
   "metadata": {
    "id": "UXxYTHoUjUPJ"
   },
   "source": [
    "The null and alternative hypothesis is:\n",
    "\n",
    "H<sub>0</sub>: $M = 0.82$<br>\n",
    "H<sub>1</sub>: $M \\neq 0.82$ "
   ]
  },
  {
   "cell_type": "code",
   "execution_count": null,
   "metadata": {
    "id": "7WytA9myjUPJ",
    "outputId": "c38e02c9-484d-42ed-85b4-04c87275b2ad"
   },
   "outputs": [
    {
     "name": "stdout",
     "output_type": "stream",
     "text": [
      "Test statistic: 1.0\n",
      "p-value: 0.0625\n"
     ]
    }
   ],
   "source": [
    "# given alcohol percentage\n",
    "alc_per = np.array([0.32, 0.43, 0.38, 0.35, 0.83, 0.79])\n",
    "\n",
    "# hypothesized median\n",
    "M_0 = 0.82\n",
    "\n",
    "# calculate the difference between sample percentages and M_0\n",
    "diff = alc_per - M_0\n",
    "\n",
    "# perform wilcoxon signed rank test\n",
    "# pass the differnces to the parameter, 'x'\n",
    "# pass the two-tailed condition to the parameter, 'alternative'\n",
    "test_stat, p_value = stats.wilcoxon(x = diff, alternative = 'two-sided')\n",
    "\n",
    "# print the test statistic and corresponding p-value\n",
    "print('Test statistic:', test_stat)\n",
    "print('p-value:', p_value)"
   ]
  },
  {
   "cell_type": "markdown",
   "metadata": {
    "id": "pfsPNfsfjUPL"
   },
   "source": [
    "Here the p-value is less than 0.1, thus we reject the null hypothesis and conclude that the median percentage of alcohol in hand sanitizers produced by Sweet Life comapny is not 0.82."
   ]
  },
  {
   "cell_type": "markdown",
   "metadata": {
    "id": "Ey_a-kB-jUPL"
   },
   "source": [
    "### 2. Two-sample Paired Test\n",
    "\n",
    "Wilcoxon signed rank test can be used to compare medians of paired data. This test is a non-parametric alternative to the paired t-test. Let us consider variables X and Y. The median of the difference between the two paired samples is denoted by $M_{d}$. Where the difference between two samples is given as, $d_{i} = x_{i} - y_{i}$\n",
    "\n",
    "The null and alternative hypothesis is given as:\n",
    "<p style='text-indent:25em'> <strong> $H_{0}: M_{d} = M_{0}$ or $M_{d} \\geq M_{0}$ or $M_{d} \\leq M_{0}$</strong></p>\n",
    "<p style='text-indent:25em'> <strong> $H_{1}: M_{d} \\neq M_{0}$ or $M_{d} < M_{0}$ or $M_{d} > M_{0}$</strong></p>\n",
    "\n",
    "To perform the test, arrange the sample into ascending order and calculate the difference between the two paired samples. Rank the absolute value of differences using the integers starting from 1 giving the average of ranks to the tied difference."
   ]
  },
  {
   "cell_type": "markdown",
   "metadata": {
    "id": "K5QQkf6xjUPL"
   },
   "source": [
    "In python, use the `wilcoxon()` from scipy library to perform the test. \n",
    "\n",
    "For a one-sided test, the test statistic is given as:\n",
    "<p style='text-indent:25em'> <strong> $T^{+} = $ Sum of positive signed ranks</strong></p>\n",
    "\n",
    "For a two-sided test, the test statistic is given as:\n",
    "<p style='text-indent:25em'> <strong> $T = min(T^{+}, T^{-})$</strong></p>\n",
    "\n",
    "Where<br>\n",
    "$T^{+} = $ Sum of positive signed ranks<br>\n",
    "$T^{-} = $ Sum of negative signed ranks"
   ]
  },
  {
   "cell_type": "markdown",
   "metadata": {
    "id": "xvyaJKzLjUPM"
   },
   "source": [
    "### Example:"
   ]
  },
  {
   "cell_type": "markdown",
   "metadata": {
    "id": "E4ftdVoNjUPM"
   },
   "source": [
    "#### 1. The weights (in kg) of five hens before and after a special diet of millets was given. Test the hypothesis that the new millet diet has increased the weight of the hens at a 5% level of significance.\n",
    "\n",
    "        before_wt = [2.7, 1.1, 1.4, 0.9, 0.9] \n",
    "        after_wt = [1.3, 1.4, 1.1, 1.3, 1.9] "
   ]
  },
  {
   "cell_type": "markdown",
   "metadata": {
    "id": "xE7-iiuzjUPO"
   },
   "source": [
    "The null and alternative hypothesis is:\n",
    "\n",
    "H<sub>0</sub>: $M_{d} \\geq 0$<br>\n",
    "H<sub>1</sub>: $M_{d} < 0$ "
   ]
  },
  {
   "cell_type": "code",
   "execution_count": null,
   "metadata": {
    "id": "bEjm7qOWjUPP",
    "outputId": "d4ca7104-d18b-411e-9459-e7317504e4c2",
    "scrolled": true
   },
   "outputs": [
    {
     "name": "stdout",
     "output_type": "stream",
     "text": [
      "Test statistic: 6.5\n",
      "p-value: 0.40625\n"
     ]
    }
   ],
   "source": [
    "# given weights\n",
    "before_wt = [2.7, 1.1, 1.4, 0.9, 0.9]\n",
    "after_wt = [1.3, 1.4, 1.1, 1.3, 1.9]\n",
    "\n",
    "# perform wilcoxon signed rank test for paired data\n",
    "# pass the before and after weights to the parameter, 'x' and 'y' respectively\n",
    "# pass the one-tailed condition to the parameter, 'alternative'\n",
    "test_stat, p_value = stats.wilcoxon(x = before_wt, y = after_wt, alternative = 'less')\n",
    "\n",
    "# print the test statistic and corresponding p-value\n",
    "print('Test statistic:', test_stat)\n",
    "print('p-value:', p_value)"
   ]
  },
  {
   "cell_type": "markdown",
   "metadata": {
    "id": "OPqm4ni6jUPT"
   },
   "source": [
    "Here the p-value is more than 0.05, thus we fail to reject (i.e. accept) the null hypothesis and conclude that there is not enough evidence to say that the new millets diet has increased the weight."
   ]
  },
  {
   "cell_type": "markdown",
   "metadata": {
    "id": "9v2Lx60rjUPT"
   },
   "source": [
    "<a id=\"w_rank\"></a>\n",
    "## 3.2 Wilcoxon Rank Sum Test\n",
    "\n",
    "This test is used to compare the medians of unpaired data. \n",
    "\n",
    "Consider a sample of size $n_{1}$ from a variable `X` with median $m_{1}$ and another sample of size $n_{2}$ from variable `Y` with median $m_{2}$. Let, $M = m_{1} - m_{2}$\n",
    "\n",
    "The null and alternative hypothesis is given as:\n",
    "<p style='text-indent:25em'> <strong> $H_{0}: M = 0$ or $M \\geq 0$ or $M \\leq 0$</strong></p>\n",
    "<p style='text-indent:25em'> <strong> $H_{1}: M \\neq 0$ or $M < 0$ or $M > 0$</strong></p>\n",
    "\n",
    "\n",
    "The test statistic is given as:\n",
    "<p style='text-indent:25em'> <strong> $T = $ Sum of ranks assigned to X</strong></p>\n",
    "\n",
    "If the sample sizes ($n_{1}, n_{2}$) are large ($\\geq 15$) then the distribution of $T^{*}$ follows a standard normal distribution  and $T^{*} = \\frac{T - \\frac{n_{1}(N+1)}{2}}{\\sqrt{\\frac{n_{1}n_{2}(N+1)}{12}}}$ "
   ]
  },
  {
   "cell_type": "markdown",
   "metadata": {
    "id": "d4VtSVivjUPT"
   },
   "source": [
    "### Examples:\n",
    "\n",
    "#### 1. The lengths of time in minutes spent in the operating room by 9 patients undergoing the same operating method. 4 patients are from hospital A and 5 are from hospital B. Based on given data can we conclude that for the sample operative method, patients in hospital B tend to be longer than the patients in hospital A. Use level of significance as 0.05\n",
    "Given data:\n",
    "\n",
    "    A = [32, 31, 33, 46]\n",
    "    B = [49, 20, 58, 55, 52]"
   ]
  },
  {
   "cell_type": "markdown",
   "metadata": {
    "id": "u8dt1_w7jUPT"
   },
   "source": [
    "The null and alternative hypothesis is:\n",
    "\n",
    "H<sub>0</sub>: $M \\geq 0$ <br>\n",
    "H<sub>1</sub>: $M < 0$"
   ]
  },
  {
   "cell_type": "markdown",
   "metadata": {
    "id": "9K89vysejUPT"
   },
   "source": [
    "The `ranksums()` in scipy library calculates the test statistic using the normal approximation. Thus, for $\\alpha$ = 0.05, calculate z-value for one sided test. "
   ]
  },
  {
   "cell_type": "code",
   "execution_count": null,
   "metadata": {
    "id": "j7CyhLpWjUPU",
    "outputId": "bb0c9a4d-1176-4bf3-8061-37adb2bd30d8"
   },
   "outputs": [
    {
     "name": "stdout",
     "output_type": "stream",
     "text": [
      "Critical value for one-tailed Z-test: 1.64\n"
     ]
    }
   ],
   "source": [
    "# calculate the z-value for 95% of confidence level\n",
    "# use 'stats.norm.isf()' to find the z-value corresponding to the upper tail probability 'q'\n",
    "# pass the value of 'alpha' to the parameter 'q', here alpha = 0.05\n",
    "# use 'round()' to round-off the value to 2 digits\n",
    "z_val = np.abs(round(stats.norm.isf(q = 0.05), 2))\n",
    "\n",
    "print('Critical value for one-tailed Z-test:', z_val)"
   ]
  },
  {
   "cell_type": "markdown",
   "metadata": {
    "id": "T-62C7X3jUPV"
   },
   "source": [
    "i.e. if the value of test statistic is greater than 1.64 then we reject the null hypothesis."
   ]
  },
  {
   "cell_type": "code",
   "execution_count": null,
   "metadata": {
    "id": "f5Z1KFb2jUPV"
   },
   "outputs": [],
   "source": [
    "# given data\n",
    "A = [32, 31, 33, 46]\n",
    "B = [49, 20, 58, 55, 52]\n",
    "\n",
    "# compute test statistic and corresponding p-value for two-tailed test\n",
    "test_stat, p_value = stats.ranksums(A, B)"
   ]
  },
  {
   "cell_type": "markdown",
   "metadata": {
    "id": "6br9KABZjUPX"
   },
   "source": [
    "In our example, the hypothesis test is one-tailed. Thus, we divide the two-tailed probability by 2 to obtain the one-tailed probability."
   ]
  },
  {
   "cell_type": "code",
   "execution_count": null,
   "metadata": {
    "id": "3_Q2gzBMjUPX",
    "outputId": "8abe793d-b929-432b-ddaf-a326127a9fbb"
   },
   "outputs": [
    {
     "name": "stdout",
     "output_type": "stream",
     "text": [
      "Test Statistic: -1.4696938456699067\n",
      "p-value: 0.0708223451475684\n"
     ]
    }
   ],
   "source": [
    "# divide the p-value by 2\n",
    "req_p_val = p_value/2\n",
    "\n",
    "# print the test statistic value and corresponding p-value\n",
    "print('Test Statistic:', test_stat)\n",
    "print('p-value:', req_p_val)"
   ]
  },
  {
   "cell_type": "markdown",
   "metadata": {
    "id": "MmlV7qHGjUPZ"
   },
   "source": [
    "Here the test statistic is less than -1.64, also the p-value is greater than 0.05. Thus we fail to reject (i.e. accept) the null hypothesis and we can not conclude that the patients in hospital B tend to be longer than the patients in hospital A"
   ]
  },
  {
   "cell_type": "markdown",
   "metadata": {
    "id": "zCTEmlB8jUPZ"
   },
   "source": [
    "<a id=\"m_w\"></a>\n",
    "## 3.3 Mann-Whitney U Test"
   ]
  },
  {
   "cell_type": "markdown",
   "metadata": {
    "id": "KRW6uYpTjUPa"
   },
   "source": [
    "It is a non-parametric test that compares the distributions of independent populations. This test can be used as a non-parametric alternative for the unpaired t-test. \n",
    "Consider a sample of size $n_{1}$ from a random variable X and another sample of size $n_{2}$ from a random variable Y.\n",
    "\n",
    "The null and alternative hypothesis is given as:\n",
    "<p style='text-indent:25em'> <strong> $H_{0}: F_{X} = F_{Y}$ or $F_{X} \\geq F_{Y}$ or $F_{X} \\leq F_{Y}$</strong></p>\n",
    "<p style='text-indent:25em'> <strong> $H_{1}: F_{X} \\neq F_{Y}$ or $F_{X} < F_{Y}$ or $F_{X} > F_{Y}$</strong></p>\n",
    "\n",
    "Here, $F_{X}, F_{Y}$ are distributions of X and Y. Thus, the two-sided null hypothesis is that the samples are drawn from two identical distributions.\n",
    "\n",
    "We can perform this test using both the direct and indirect method. The test statistic for the indirect method is given as: $min(U_{1}, U_{2})$\n",
    "\n",
    "Where,<br>\n",
    "<p style='text-indent:25em'> <strong> $U_{1} = n_{1}n_{2} + \\frac{n_{1}(n_{1}+1)}{2} - R_{1}$</strong></p>\n",
    "<p style='text-indent:25em'> <strong> $U_{2} = n_{1}n_{2} + \\frac{n_{2}(n_{2}+1)}{2} - R_{2}$</strong></p>\n",
    "\n",
    "$R_{1}$: Sum of the ranks for the X<br>\n",
    "$R_{2}$: Sum of the ranks for the Y<br>\n",
    "$n_{1}$: Sample size of X<br>\n",
    "$n_{2}$: Sample size of Y"
   ]
  },
  {
   "cell_type": "markdown",
   "metadata": {
    "id": "I4yrPJwkjUPa"
   },
   "source": [
    "### Examples:\n",
    "\n",
    "#### 1. Two companies EyeCare and VisionFirst produces timolol eye drops. The sample of 5 bottles from both companies is selceted and the content of timolol maleate in milligram is recorded. Perform Mann-Whitney U test to test whether the amount of timolol maleate is different for both the companies. Use level of significance as 0.05.\n",
    "\n",
    "Given data:\n",
    "\n",
    "        eyecare = [6.18, 6.45, 6.21, 8.68, 8.45]\n",
    "        visionfirst = [5.8, 7.8, 6.2, 5.9, 6.2]"
   ]
  },
  {
   "cell_type": "markdown",
   "metadata": {
    "id": "cfnd_iYwjUPa"
   },
   "source": [
    "Let $F_{X}$ be the distribution of timolol maleate in the eyedrops of EyeCare company and $F_{Y}$ be the distribution of timolol maleate in the eyedrops of VisionFirst company.\n",
    "\n",
    "Where,<br>\n",
    "\n",
    "The null and alternative hypothesis is:\n",
    "\n",
    "H<sub>0</sub>: $F_{X} = F_{Y}$ <br>\n",
    "H<sub>1</sub>: $F_{X} \\neq F_{Y}$"
   ]
  },
  {
   "cell_type": "markdown",
   "metadata": {
    "id": "N9XtmYLvjUPa"
   },
   "source": [
    "Let us check the normality of the timolol maleate in the eyedrops of EyeCare company."
   ]
  },
  {
   "cell_type": "code",
   "execution_count": null,
   "metadata": {
    "id": "F-TbHM_LjUPa",
    "outputId": "ebaddb57-3f97-47ee-c8b1-4a8853600ef4"
   },
   "outputs": [
    {
     "name": "stdout",
     "output_type": "stream",
     "text": [
      "P-Value: 0.04114510864019394\n"
     ]
    }
   ],
   "source": [
    "# given data\n",
    "eyecare = [6.18, 6.45, 6.21, 8.68, 8.45]\n",
    "\n",
    "# perform Shapiro-Wilk test to test the normality\n",
    "# shapiro() returns a tuple having the values of test statistics and the corresponding p-value\n",
    "# pass the timolol maleate in the eyedrops of EyeCare company to perform the test\n",
    "stat, p_value = shapiro(eyecare)\n",
    "\n",
    "# print the corresponding p-value \n",
    "print('P-Value:', p_value)"
   ]
  },
  {
   "cell_type": "markdown",
   "metadata": {
    "id": "rCBHl199jUPc"
   },
   "source": [
    "From the above result, we can see that the p-value is less than 0.05, thus we can say that the  timolol maleate in the eyedrops of EyeCare company is not normally distributed."
   ]
  },
  {
   "cell_type": "markdown",
   "metadata": {
    "id": "pzVYYe4LjUPc"
   },
   "source": [
    "Let us check the normality of the timolol maleate in the eyedrops of VisionFirst company."
   ]
  },
  {
   "cell_type": "code",
   "execution_count": null,
   "metadata": {
    "id": "4x9_InmjjUPc",
    "outputId": "a099dfd5-047a-44ba-c883-f8c5f74bbb73"
   },
   "outputs": [
    {
     "name": "stdout",
     "output_type": "stream",
     "text": [
      "P-Value: 0.025034615769982338\n"
     ]
    }
   ],
   "source": [
    "# given data\n",
    "visionfirst = [5.8, 7.8, 6.2, 5.9, 6.2]\n",
    "\n",
    "# perform Shapiro-Wilk test to test the normality\n",
    "# shapiro() returns a tuple having the values of test statistics and the corresponding p-value\n",
    "# pass the  timolol maleate in the eyedrops of VisionFirst company to perform the test\n",
    "stat, p_value = shapiro(visionfirst)\n",
    "\n",
    "# print the corresponding p-value \n",
    "print('P-Value:', p_value)"
   ]
  },
  {
   "cell_type": "markdown",
   "metadata": {
    "id": "7DBuMlV0jUPd"
   },
   "source": [
    "From the above result, we can see that the p-value is less than 0.05, thus we can say that the timolol maleate in the eyedrops of VisionFirst company is not normally distributed."
   ]
  },
  {
   "cell_type": "code",
   "execution_count": null,
   "metadata": {
    "id": "9NTFujv8jUPe",
    "outputId": "db017838-91b9-4819-9a06-91a67ab3e029"
   },
   "outputs": [
    {
     "name": "stdout",
     "output_type": "stream",
     "text": [
      "Test statistic: 20.0\n",
      "p-value: 0.14245669739409866\n"
     ]
    }
   ],
   "source": [
    "# compute test statistic and corresponding p-value for two-tailed test\n",
    "test_stat, p_value = stats.mannwhitneyu(eyecare, visionfirst, alternative = 'two-sided')\n",
    "\n",
    "# print the test statistic and corresponding p-value\n",
    "print('Test statistic:', test_stat)\n",
    "print('p-value:', p_value)"
   ]
  },
  {
   "cell_type": "markdown",
   "metadata": {
    "id": "O2s-OkU4jUPf"
   },
   "source": [
    "Here the p-value is greater than 0.05. Thus we fail to reject (i.e. accept) the null hypothesis and we can conclude that the amount of timolol maleate is same for both the companies."
   ]
  },
  {
   "cell_type": "markdown",
   "metadata": {
    "id": "5BdBvgURjUPf"
   },
   "source": [
    "#### 2. The lengths of time in minutes spent in the operating room by 9 patients undergoing the same operating method. 4 patients are from hospital A and 5 are from hospital B. Based on given data can we conclude that for the sample operative method, patients in hospital B tend to be longer than the patients in hospital A. Use level of significance as 0.05.\n",
    "Given data:\n",
    "\n",
    "    A = [32, 31, 33, 46]\n",
    "    B = [49, 20, 58, 55, 52]"
   ]
  },
  {
   "cell_type": "markdown",
   "metadata": {
    "id": "JdG-_d5MjUPg"
   },
   "source": [
    "Let $F_{X}$ be the distribution of time spent by patient in hospital A in operating room and $F_{Y}$ be the distribution of time spent by patient in hospital B in operating room.\n",
    "\n",
    "The null and alternative hypothesis is:\n",
    "\n",
    "H<sub>0</sub>: $F_{X} \\geq F_{Y}$ <br>\n",
    "H<sub>1</sub>: $F_{X} < F_{Y}$"
   ]
  },
  {
   "cell_type": "markdown",
   "metadata": {
    "id": "rWwnJ7bBjUPg"
   },
   "source": [
    "Let us check the normality of the time spent by the patients in the hospital A."
   ]
  },
  {
   "cell_type": "code",
   "execution_count": null,
   "metadata": {
    "id": "2vwrXUlEjUPg",
    "outputId": "4028f7a8-3899-41d3-c84d-9ae356c00ff2"
   },
   "outputs": [
    {
     "name": "stdout",
     "output_type": "stream",
     "text": [
      "P-Value: 0.0286051444709301\n"
     ]
    }
   ],
   "source": [
    "# given data\n",
    "A = [32, 31, 33, 46]\n",
    "\n",
    "# perform Shapiro-Wilk test to test the normality\n",
    "# shapiro() returns a tuple having the values of test statistics and the corresponding p-value\n",
    "# pass the time spent by the patients in the hospital A to perform the test\n",
    "stat, p_value = shapiro(A)\n",
    "\n",
    "# print the corresponding p-value \n",
    "print('P-Value:', p_value)"
   ]
  },
  {
   "cell_type": "markdown",
   "metadata": {
    "id": "HRHZnsUfjUPh"
   },
   "source": [
    "From the above result, we can see that the p-value is less than 0.05, thus we can say that the time spent by patients in hospital A are not normally distributed."
   ]
  },
  {
   "cell_type": "markdown",
   "metadata": {
    "id": "Up0VUjqnjUPj"
   },
   "source": [
    "Let us check the normality of the time spent by the patients in the hospital B."
   ]
  },
  {
   "cell_type": "code",
   "execution_count": null,
   "metadata": {
    "id": "rJjspWdrjUPk",
    "outputId": "5f86f5e5-fc5e-4b00-b1fb-3e970a151c24"
   },
   "outputs": [
    {
     "name": "stdout",
     "output_type": "stream",
     "text": [
      "P-Value: 0.03407324105501175\n"
     ]
    }
   ],
   "source": [
    "# given data\n",
    "B = [49, 20, 58, 55, 52]\n",
    "\n",
    "# perform Shapiro-Wilk test to test the normality\n",
    "# shapiro() returns a tuple having the values of test statistics and the corresponding p-value\n",
    "# pass the time spent by the patients in the hospital B to perform the test\n",
    "stat, p_value = shapiro(B)\n",
    "\n",
    "# print the corresponding p-value \n",
    "print('P-Value:', p_value)"
   ]
  },
  {
   "cell_type": "markdown",
   "metadata": {
    "id": "jc5XCMaljUPl"
   },
   "source": [
    "From the above result, we can see that the p-value is less than 0.05, thus we can say that the time spent by patients in hospital B are not normally distributed."
   ]
  },
  {
   "cell_type": "code",
   "execution_count": null,
   "metadata": {
    "id": "lPeCdOOFjUPl",
    "outputId": "55c4e0cc-fd01-4904-98ce-af860b2d93b2"
   },
   "outputs": [
    {
     "name": "stdout",
     "output_type": "stream",
     "text": [
      "Test statistic: 4.0\n",
      "p-value: 0.08895479749349122\n"
     ]
    }
   ],
   "source": [
    "# compute test statistic and corresponding p-value for one-tailed test\n",
    "test_stat, p_value = stats.mannwhitneyu(A, B, alternative = 'less')\n",
    "\n",
    "# print the test statistic and corresponding p-value\n",
    "print('Test statistic:', test_stat)\n",
    "print('p-value:', p_value)"
   ]
  },
  {
   "cell_type": "markdown",
   "metadata": {
    "id": "PehtuR70jUPm"
   },
   "source": [
    "Here the p-value is greater than 0.05. Thus we fail to reject (i.e. accept) the null hypothesis and we can not conclude that the patients in hospital B tend to be longer than the patients in hospital A."
   ]
  }
 ],
 "metadata": {
  "colab": {
   "name": "STAT - Faculty Notebook (Day 3) [v2.0 - 301020].ipynb",
   "provenance": []
  },
  "kernelspec": {
   "display_name": "Python 3 (ipykernel)",
   "language": "python",
   "name": "python3"
  },
  "language_info": {
   "codemirror_mode": {
    "name": "ipython",
    "version": 3
   },
   "file_extension": ".py",
   "mimetype": "text/x-python",
   "name": "python",
   "nbconvert_exporter": "python",
   "pygments_lexer": "ipython3",
   "version": "3.9.7"
  }
 },
 "nbformat": 4,
 "nbformat_minor": 1
}
