{
 "cells": [
  {
   "cell_type": "markdown",
   "id": "463f6622",
   "metadata": {},
   "source": [
    "<table align=\"left\" width=100%>\n",
    "    <tr>\n",
    "        <td width=\"20%\">\n",
    "            <img src=\"GL-2.png\">\n",
    "        </td>\n",
    "        <td>\n",
    "            <div align=\"center\">\n",
    "                <font color=\"#21618C\" size=8px>\n",
    "                  <b> Inclass Exercise <br>(Week - 4)</b>\n",
    "                </font>\n",
    "            </div>\n",
    "        </td>\n",
    "    </tr>\n",
    "</table>"
   ]
  },
  {
   "cell_type": "markdown",
   "id": "39124268",
   "metadata": {},
   "source": [
    "## Table of Content\n",
    "\n",
    "1. **[Import Libraries](#lib)**\n",
    "2. **[Large Sample Test](#z)**\n",
    "    - 2.1 - **[Two Sample Z Test](#2z)**\n",
    "3. **[Small Sample Test](#t)**\n",
    "    - 3.1 - **[Two Sample t Test (Unpaired)](#2t)**\n",
    "    - 3.2 - **[Paired t Test](#paired)**\n",
    "4. **[Chi-Square Test](#chisq)**\n",
    "5. **[One-way ANOVA](#1way)**"
   ]
  },
  {
   "cell_type": "markdown",
   "id": "d9dde668",
   "metadata": {},
   "source": [
    "<a id = \"lib\"> </a>\n",
    "## 1. Import Libraries"
   ]
  },
  {
   "cell_type": "code",
   "execution_count": null,
   "id": "000e679c",
   "metadata": {},
   "outputs": [],
   "source": [
    "# !pip install scikit_posthocs"
   ]
  },
  {
   "cell_type": "code",
   "execution_count": 1,
   "id": "25a3a77a",
   "metadata": {},
   "outputs": [],
   "source": [
    "# import 'pandas' \n",
    "import pandas as pd \n",
    "\n",
    "# import 'numpy' \n",
    "import numpy as np\n",
    "\n",
    "# import subpackage of matplotlib\n",
    "import matplotlib.pyplot as plt\n",
    "\n",
    "# import 'seaborn'\n",
    "import seaborn as sns\n",
    "\n",
    "# to suppress warnings \n",
    "from warnings import filterwarnings\n",
    "filterwarnings('ignore')\n",
    "\n",
    "# import statsmodels\n",
    "import statsmodels.api as sm\n",
    "\n",
    "# import 'stats' package from scipy library\n",
    "from scipy import stats\n",
    "\n",
    "# import statistics to perform statistical computations\n",
    "import statistics\n",
    "\n",
    "# to test the normality \n",
    "from scipy.stats import shapiro\n",
    "\n",
    "# import a library to perform Z-test\n",
    "from statsmodels.stats import weightstats as stests\n",
    "\n",
    "# import statsmodels\n",
    "import statsmodels.api as sm\n",
    "from statsmodels.formula.api import ols\n",
    "from statsmodels.stats.anova import anova_lm\n",
    "\n",
    "# import the functions to perform Chi-square tests\n",
    "from scipy.stats import chi2_contingency\n",
    "from scipy.stats import chi2\n",
    "from scipy.stats import chisquare\n",
    "\n",
    "# function to perform post-hoc test\n",
    "import statsmodels.stats.multicomp as mc\n",
    "\n",
    "# import function to perform post-hoc\n",
    "# install scikit_posthocs using \"!pip install scikit_posthocs\" \n",
    "import scikit_posthocs"
   ]
  },
  {
   "cell_type": "markdown",
   "id": "a4b48d45",
   "metadata": {},
   "source": [
    "<a id = \"z\"> </a>\n",
    "## 2. Large Sample Test"
   ]
  },
  {
   "cell_type": "markdown",
   "id": "eeb9166e",
   "metadata": {},
   "source": [
    "<a id = \"2z\"> </a>\n",
    "## 2.1 Large Two Sample Test"
   ]
  },
  {
   "cell_type": "markdown",
   "id": "a478ca7d",
   "metadata": {},
   "source": [
    "<table align=\"left\">\n",
    "    <tr>\n",
    "        <td width=\"6%\">\n",
    "            <img src=\"question_icon.png\">\n",
    "        </td>\n",
    "        <td>\n",
    "            <div align=\"left\", style=\"font-size:120%\">\n",
    "                <font color=\"#21618C\">\n",
    "                    <b>1. The technician wants to test whether the price of a phablet is not the same as the price of tablet. For the study, the technician collects the data of 50 gadgets of each type. Check whether the data satisfies the conditions to use the two sample Z-test. (Use 5% level of significance)</b>\n",
    "                </font>\n",
    "            </div>\n",
    "        </td>\n",
    "    </tr>\n",
    "</table>"
   ]
  },
  {
   "cell_type": "markdown",
   "id": "c8de0dae",
   "metadata": {},
   "source": [
    "Consider the dataset given in the CSV file `electronic.csv`. "
   ]
  },
  {
   "cell_type": "markdown",
   "id": "576bf967",
   "metadata": {},
   "source": [
    "To use the two sample Z-test, both the samples should be drawn from a normal population and the population variances should be equal. Let us use the `Shapiro-Wilk` test to check the normality of the data and use `Levene's` test to test the equality of variances."
   ]
  },
  {
   "cell_type": "code",
   "execution_count": 2,
   "id": "b54496a3",
   "metadata": {},
   "outputs": [
    {
     "data": {
      "text/html": [
       "<div>\n",
       "<style scoped>\n",
       "    .dataframe tbody tr th:only-of-type {\n",
       "        vertical-align: middle;\n",
       "    }\n",
       "\n",
       "    .dataframe tbody tr th {\n",
       "        vertical-align: top;\n",
       "    }\n",
       "\n",
       "    .dataframe thead th {\n",
       "        text-align: right;\n",
       "    }\n",
       "</style>\n",
       "<table border=\"1\" class=\"dataframe\">\n",
       "  <thead>\n",
       "    <tr style=\"text-align: right;\">\n",
       "      <th></th>\n",
       "      <th>Screensize (inch)</th>\n",
       "      <th>Price ($)</th>\n",
       "      <th>Weight (g)</th>\n",
       "      <th>Type</th>\n",
       "    </tr>\n",
       "  </thead>\n",
       "  <tbody>\n",
       "    <tr>\n",
       "      <th>0</th>\n",
       "      <td>6.5</td>\n",
       "      <td>245</td>\n",
       "      <td>252</td>\n",
       "      <td>Phablet</td>\n",
       "    </tr>\n",
       "    <tr>\n",
       "      <th>1</th>\n",
       "      <td>6.3</td>\n",
       "      <td>210</td>\n",
       "      <td>252</td>\n",
       "      <td>Phablet</td>\n",
       "    </tr>\n",
       "  </tbody>\n",
       "</table>\n",
       "</div>"
      ],
      "text/plain": [
       "   Screensize (inch)  Price ($)  Weight (g)     Type\n",
       "0                6.5        245         252  Phablet\n",
       "1                6.3        210         252  Phablet"
      ]
     },
     "execution_count": 2,
     "metadata": {},
     "output_type": "execute_result"
    }
   ],
   "source": [
    "# read the data \n",
    "df_elec = pd.read_csv('electronic.csv')\n",
    "\n",
    "# display the first two observations\n",
    "df_elec.head(2)"
   ]
  },
  {
   "cell_type": "code",
   "execution_count": 3,
   "id": "2bcf127f",
   "metadata": {},
   "outputs": [],
   "source": [
    "# consider the price of phablet and tablet\n",
    "phab_price = df_elec[df_elec['Type'] == 'Phablet']['Price ($)']\n",
    "tab_price = df_elec[df_elec['Type'] == 'Tablet']['Price ($)']"
   ]
  },
  {
   "cell_type": "markdown",
   "id": "9cfe55ee",
   "metadata": {},
   "source": [
    "Let us check the normality of price."
   ]
  },
  {
   "cell_type": "code",
   "execution_count": 4,
   "id": "bd90054b",
   "metadata": {},
   "outputs": [
    {
     "name": "stdout",
     "output_type": "stream",
     "text": [
      "P-Value: 0.205\n"
     ]
    }
   ],
   "source": [
    "# perform Shapiro-Wilk test for Phablet Price\n",
    "# shapiro() returns a tuple having the values of test statistics and the corresponding p-value\n",
    "stat, p_value = shapiro(phab_price)\n",
    "\n",
    "# print the p-value \n",
    "# use round function to round off 3 digits\n",
    "p_value = round(p_value,3)\n",
    "print('P-Value:', p_value)"
   ]
  },
  {
   "cell_type": "code",
   "execution_count": 5,
   "id": "0f0e3f80",
   "metadata": {},
   "outputs": [
    {
     "name": "stdout",
     "output_type": "stream",
     "text": [
      "P-Value: 0.338\n"
     ]
    }
   ],
   "source": [
    "# perform Shapiro-Wilk test for Tablet Price\n",
    "# shapiro() returns a tuple having the values of test statistics and the corresponding p-value\n",
    "stat, p_value = shapiro(tab_price)\n",
    "\n",
    "# use round function to round off 3 digits\n",
    "p_value = round(p_value,3)\n",
    "# print the p-value \n",
    "print('P-Value:', p_value)"
   ]
  },
  {
   "cell_type": "markdown",
   "id": "2fb1c235",
   "metadata": {},
   "source": [
    "From the above result, we can see that the p-value is greater than 0.05, thus we can say that the price of gadgets is normally distributed."
   ]
  },
  {
   "cell_type": "markdown",
   "id": "5c3afd12",
   "metadata": {},
   "source": [
    "Let us check the equality of variances."
   ]
  },
  {
   "cell_type": "code",
   "execution_count": 6,
   "id": "3647028c",
   "metadata": {},
   "outputs": [
    {
     "name": "stdout",
     "output_type": "stream",
     "text": [
      "P-Value: 0.417\n"
     ]
    }
   ],
   "source": [
    "# perform Levene's test\n",
    "# levene() returns a tuple having the values of test statistics and the corresponding p-value\n",
    "# pass the price of both gadgets\n",
    "stat, p_value = stats.levene(phab_price, tab_price)\n",
    "\n",
    "# use round function to round off 3 digits\n",
    "p_value = round(p_value,3)\n",
    "\n",
    "# print the p-value \n",
    "print('P-Value:', p_value)"
   ]
  },
  {
   "cell_type": "markdown",
   "id": "59ac0f10",
   "metadata": {},
   "source": [
    "From the above result, we can see that the p-value is greater than 0.05, thus we can say that the population variances are equal.\n",
    "\n",
    "Thus we can perform two sample Z-test on the sample data."
   ]
  },
  {
   "cell_type": "markdown",
   "id": "ff5b771c",
   "metadata": {},
   "source": [
    "<table align=\"left\">\n",
    "    <tr>\n",
    "        <td width=\"6%\">\n",
    "            <img src=\"question_icon.png\">\n",
    "        </td>\n",
    "        <td>\n",
    "            <div align=\"left\", style=\"font-size:120%\">\n",
    "                <font color=\"#21618C\">\n",
    "                    <b>2. The technician claims that the price of phablet is not the same as the price of tablet. For the study, the technician collects the data of 50 gadgets of each type. Test the technician's claim using the 95% confidence interval.</b>\n",
    "                </font>\n",
    "            </div>\n",
    "        </td>\n",
    "    </tr>\n",
    "</table>"
   ]
  },
  {
   "cell_type": "markdown",
   "id": "4522d9dd",
   "metadata": {},
   "source": [
    "Consider the dataset given in the CSV file `electronic.csv`. "
   ]
  },
  {
   "cell_type": "code",
   "execution_count": 16,
   "id": "fd7cd7a8",
   "metadata": {},
   "outputs": [
    {
     "data": {
      "text/html": [
       "<div>\n",
       "<style scoped>\n",
       "    .dataframe tbody tr th:only-of-type {\n",
       "        vertical-align: middle;\n",
       "    }\n",
       "\n",
       "    .dataframe tbody tr th {\n",
       "        vertical-align: top;\n",
       "    }\n",
       "\n",
       "    .dataframe thead th {\n",
       "        text-align: right;\n",
       "    }\n",
       "</style>\n",
       "<table border=\"1\" class=\"dataframe\">\n",
       "  <thead>\n",
       "    <tr style=\"text-align: right;\">\n",
       "      <th></th>\n",
       "      <th>Screensize (inch)</th>\n",
       "      <th>Price ($)</th>\n",
       "      <th>Weight (g)</th>\n",
       "      <th>Type</th>\n",
       "    </tr>\n",
       "  </thead>\n",
       "  <tbody>\n",
       "    <tr>\n",
       "      <th>0</th>\n",
       "      <td>6.5</td>\n",
       "      <td>245</td>\n",
       "      <td>252</td>\n",
       "      <td>Phablet</td>\n",
       "    </tr>\n",
       "    <tr>\n",
       "      <th>1</th>\n",
       "      <td>6.3</td>\n",
       "      <td>210</td>\n",
       "      <td>252</td>\n",
       "      <td>Phablet</td>\n",
       "    </tr>\n",
       "  </tbody>\n",
       "</table>\n",
       "</div>"
      ],
      "text/plain": [
       "   Screensize (inch)  Price ($)  Weight (g)     Type\n",
       "0                6.5        245         252  Phablet\n",
       "1                6.3        210         252  Phablet"
      ]
     },
     "execution_count": 16,
     "metadata": {},
     "output_type": "execute_result"
    }
   ],
   "source": [
    "# read the data \n",
    "df_elec = pd.read_csv('electronic.csv')\n",
    "\n",
    "# display the first two observations\n",
    "df_elec.head(2)"
   ]
  },
  {
   "cell_type": "markdown",
   "id": "f5679699",
   "metadata": {},
   "source": [
    "The previous output shows that the given dataset satisfies the assumptions of the two sample Z-test."
   ]
  },
  {
   "cell_type": "markdown",
   "id": "e211a419",
   "metadata": {},
   "source": [
    "Let $\\mu_{1}$ be the average price of phablet and $\\mu_{2}$ be the average price of tablet.\n",
    " \n",
    "The null and alternative hypothesis is:\n",
    "\n",
    "H<sub>0</sub>: $\\mu_{1} - \\mu_{2} = 0$ <br>\n",
    "H<sub>1</sub>: $\\mu_{1} - \\mu_{2} \\neq 0$ "
   ]
  },
  {
   "cell_type": "code",
   "execution_count": 17,
   "id": "44070dc0",
   "metadata": {},
   "outputs": [],
   "source": [
    "# consider price of phablet\n",
    "phab_price = df_elec[df_elec['Type'] == 'Phablet']['Price ($)']\n",
    "\n",
    "# number of phablets\n",
    "n_1 = len(phab_price)\n",
    "\n",
    "# mean price \n",
    "phab_mean = np.mean(phab_price)\n",
    "\n",
    "# standard deviation of price \n",
    "phab_std = statistics.stdev(phab_price)\n",
    "\n",
    "# consider price of tablet\n",
    "tab_price = df_elec[df_elec['Type'] == 'Tablet']['Price ($)']\n",
    "\n",
    "# number of tablets\n",
    "n_2 = len(tab_price)\n",
    "\n",
    "# mean price \n",
    "tab_mean = np.mean(tab_price)\n",
    "\n",
    "# standard deviation of price \n",
    "tab_std = statistics.stdev(tab_price)"
   ]
  },
  {
   "cell_type": "code",
   "execution_count": 23,
   "id": "1679392e",
   "metadata": {},
   "outputs": [
    {
     "name": "stdout",
     "output_type": "stream",
     "text": [
      "95% of confidence interval: [35.783, 54.937]\n"
     ]
    }
   ],
   "source": [
    "# calculate the 95% confidence interval for the population mean\n",
    "# pass the difference between the sample means to the parameter, 'loc'\n",
    "# pass the scaling factor np.sqrt((nl_std^2 / n1 + (sgl_std^2 / n2)) to the parameter, 'scale'\n",
    "# Use round funtion to round off the digits\n",
    "print('95% of confidence interval:',[round(i,3) for i in stats.norm.interval(0.95, loc = phab_mean - tab_mean, \n",
    "                                                scale = np.sqrt(((phab_std**2) / n_1) + ((tab_std**2) / n_2)))])"
   ]
  },
  {
   "cell_type": "markdown",
   "id": "1d6210f6",
   "metadata": {},
   "source": [
    "Here the confidence interval do not contain the value in the null hypothesis (i.e. 0), thus we reject the null hypothesis and conclude that the price of phablet is not the same as the price of tablet. "
   ]
  },
  {
   "cell_type": "markdown",
   "id": "01e8b817",
   "metadata": {},
   "source": [
    "<a id=\"t\"></a>\n",
    "## 3. Small Sample Test"
   ]
  },
  {
   "cell_type": "markdown",
   "id": "33407d17",
   "metadata": {},
   "source": [
    "<a id=\"2t\"></a>\n",
    "## 3.1. Two sample T test Unpaired"
   ]
  },
  {
   "cell_type": "markdown",
   "id": "f64bec9d",
   "metadata": {},
   "source": [
    "<table align=\"left\">\n",
    "    <tr>\n",
    "        <td width=\"6%\">\n",
    "            <img src=\"question_icon.png\">\n",
    "        </td>\n",
    "        <td>\n",
    "            <div align=\"left\", style=\"font-size:120%\">\n",
    "                <font color=\"#21618C\">\n",
    "                    <b>3. The newspaper agency wants to test whether Harry takes less time to deliver the newspapers than his colleague Ron. The manager has collected time (in minutes) taken by Harry and Ron for 7 days. Is the given dataset unpaired? If yes, check whether the manager at newspaper agency can use the two sample t-test for unpaired data with 99% confidence.  </b>\n",
    "                </font>\n",
    "            </div>\n",
    "        </td>\n",
    "    </tr>\n",
    "</table>"
   ]
  },
  {
   "cell_type": "markdown",
   "id": "c3a87c18",
   "metadata": {},
   "source": [
    "Use the data given below:\n",
    "        \n",
    "    harry = [18.5, 17.4, 19.2, 16, 15.8, 13.4, 19.5]\n",
    "    ron = [19.7, 18.6, 21.3, 17.5, 23.8, 20.7, 21]"
   ]
  },
  {
   "cell_type": "markdown",
   "id": "c4ae391e",
   "metadata": {},
   "source": [
    "The given data is the time taken by Harry and Ron to deliver the newspapers. As the time taken by them is not dependent on each other. This data is unpaired. Now to use the two sample t-test let us check the normality of the samples and equality of population variances for both the samples."
   ]
  },
  {
   "cell_type": "code",
   "execution_count": 24,
   "id": "7c589c4e",
   "metadata": {},
   "outputs": [],
   "source": [
    "# given data\n",
    "harry = [18.5, 17.4, 19.2, 16, 15.8, 13.4, 19.5]\n",
    "ron = [19.7, 18.6, 21.3, 17.5, 23.8, 20.7, 21]\n",
    "\n",
    "# time taken by Harry and Ron\n",
    "time = [18.5, 17.4, 19.2, 16, 15.8, 13.4, 19.5, 19.7, 18.6, 21.3, 17.5, 23.8, 20.7, 21]"
   ]
  },
  {
   "cell_type": "markdown",
   "id": "259e6d64",
   "metadata": {},
   "source": [
    "Let us check the normality of the time taken by Harry and Ron."
   ]
  },
  {
   "cell_type": "code",
   "execution_count": 26,
   "id": "1b0eee8d",
   "metadata": {},
   "outputs": [
    {
     "name": "stdout",
     "output_type": "stream",
     "text": [
      "P-Value: 0.997\n"
     ]
    }
   ],
   "source": [
    "# perform Shapiro-Wilk test to test the normality\n",
    "# shapiro() returns a tuple having the values of test statistics and the corresponding p-value\n",
    "stat, p_value = shapiro(harry)\n",
    "\n",
    "# use round function to round off the values\n",
    "p_value = round(p_value,3)\n",
    "\n",
    "# print the p-value \n",
    "print('P-Value:', p_value)"
   ]
  },
  {
   "cell_type": "markdown",
   "id": "749be438",
   "metadata": {},
   "source": [
    "The p-value is greater than 0.01, thus we can say that the time taken Harry and Ron is normally distributed."
   ]
  },
  {
   "cell_type": "markdown",
   "id": "6489f1ac",
   "metadata": {},
   "source": [
    "Lets check shapiro test for individual data."
   ]
  },
  {
   "cell_type": "code",
   "execution_count": 29,
   "id": "8624c5c7",
   "metadata": {},
   "outputs": [
    {
     "name": "stdout",
     "output_type": "stream",
     "text": [
      "P-Value: 0.575\n"
     ]
    }
   ],
   "source": [
    "# perform Shapiro-Wilk test to test the normality\n",
    "# shapiro() returns a tuple having the values of test statistics and the corresponding p-value\n",
    "stat, p_value = shapiro(harry)\n",
    "\n",
    "# use round function to round off the values\n",
    "p_value = round(p_value,3)\n",
    "\n",
    "# print the p-value \n",
    "print('P-Value:', p_value)"
   ]
  },
  {
   "cell_type": "code",
   "execution_count": 30,
   "id": "e793961e",
   "metadata": {},
   "outputs": [
    {
     "name": "stdout",
     "output_type": "stream",
     "text": [
      "P-Value: 0.918\n"
     ]
    }
   ],
   "source": [
    "# perform Shapiro-Wilk test to test the normality\n",
    "# shapiro() returns a tuple having the values of test statistics and the corresponding p-value\n",
    "stat, p_value = shapiro(ron)\n",
    "\n",
    "# use round function to round off the values\n",
    "p_value = round(p_value,3)\n",
    "\n",
    "# print the p-value \n",
    "print('P-Value:', p_value)"
   ]
  },
  {
   "cell_type": "markdown",
   "id": "428abab1",
   "metadata": {},
   "source": [
    "The p-value is greater than 0.01 for both shapiro tests, Thus we can say that the time taken Harry and Ron is normally distributed."
   ]
  },
  {
   "cell_type": "markdown",
   "id": "07f26638",
   "metadata": {},
   "source": [
    "Let us check the equality of variances."
   ]
  },
  {
   "cell_type": "code",
   "execution_count": 28,
   "id": "ca40cbc7",
   "metadata": {},
   "outputs": [
    {
     "name": "stdout",
     "output_type": "stream",
     "text": [
      "P-Value: 0.727\n"
     ]
    }
   ],
   "source": [
    "# perform Levene's test\n",
    "# levene() returns a tuple having the values of test statistics and the corresponding p-value\n",
    "stat, p_value = stats.levene(harry, ron)\n",
    "\n",
    "# use round function to round off the values\n",
    "p_value = round(p_value,3)\n",
    "\n",
    "# print the p-value \n",
    "print('P-Value:', p_value)"
   ]
  },
  {
   "cell_type": "markdown",
   "id": "0813493e",
   "metadata": {},
   "source": [
    "From the above result, we can see that the p-value is greater than 0.01, thus we can say that the population variances are equal.\n",
    "\n",
    "The above results show that the given data satisfies both the assumptions for two sample t-test. Thus the manager at newspaper agency can use the two sample t-test for unpaired data."
   ]
  },
  {
   "cell_type": "markdown",
   "id": "6a30b497",
   "metadata": {},
   "source": [
    "<table align=\"left\">\n",
    "    <tr>\n",
    "        <td width=\"6%\">\n",
    "            <img src=\"question_icon.png\">\n",
    "        </td>\n",
    "        <td>\n",
    "            <div align=\"left\", style=\"font-size:120%\">\n",
    "                <font color=\"#21618C\">\n",
    "                    <b>4. The newspaper agency wants to test whether Harry takes less time to deliver the newspapers than his colleague Ron. The manager has collected time (in minutes) taken by Harry and Ron for 7 days. Use the given data and test the hypothesis for population mean time using a critical value method and p-value criteria with 90% confidence.</b>\n",
    "                </font>\n",
    "            </div>\n",
    "        </td>\n",
    "    </tr>\n",
    "</table>"
   ]
  },
  {
   "cell_type": "markdown",
   "id": "a2ad5de9",
   "metadata": {},
   "source": [
    "Use the data given below:\n",
    "        \n",
    "    harry = [18.5, 17.4, 19.2, 16, 15.8, 13.4, 19.5]\n",
    "    ron = [19.7, 18.6, 21.3, 17.5, 23.8, 20.7, 21]"
   ]
  },
  {
   "cell_type": "markdown",
   "id": "410f1a27",
   "metadata": {},
   "source": [
    "Let $\\mu_{1}$ be the average time taken by Harry and $\\mu_{2}$ be the average time taken by Ron.\n",
    " \n",
    "The null and alternative hypothesis is:\n",
    "\n",
    "H<sub>0</sub>: $\\mu_{1} - \\mu_{2} \\geq 0$ <br>\n",
    "H<sub>1</sub>: $\\mu_{1} - \\mu_{2} < 0$ "
   ]
  },
  {
   "cell_type": "code",
   "execution_count": 7,
   "id": "65311ad2",
   "metadata": {},
   "outputs": [
    {
     "name": "stdout",
     "output_type": "stream",
     "text": [
      "Degrees of freedom: 12\n"
     ]
    }
   ],
   "source": [
    "# given data\n",
    "harry = [18.5, 17.4, 19.2, 16, 15.8, 13.4, 19.5]\n",
    "ron = [19.7, 18.6, 21.3, 17.5, 23.8, 20.7, 21]\n",
    "\n",
    "# size of first sample\n",
    "n_1 = len(harry)\n",
    "\n",
    "# size of second sample\n",
    "n_2 = len(ron)\n",
    "\n",
    "# degrees of freedom for 2 sample t-test\n",
    "print('Degrees of freedom:', n_1 + n_2 - 2)"
   ]
  },
  {
   "cell_type": "markdown",
   "id": "6ca309f4",
   "metadata": {},
   "source": [
    "Here ⍺ = 0.1 and degrees of freedom = 12, for a one-tailed test let us calculate the critical t-value."
   ]
  },
  {
   "cell_type": "code",
   "execution_count": 16,
   "id": "f0ea5cf6",
   "metadata": {},
   "outputs": [
    {
     "name": "stdout",
     "output_type": "stream",
     "text": [
      "Critical value for one-tailed t-test: 1.36\n"
     ]
    }
   ],
   "source": [
    "# calculate the t-value for 90% of confidence level\n",
    "# use 'stats.t.isf()' to find the t-value corresponding to the upper tail probability 'q'\n",
    "# pass the value of 'alpha' to the parameter 'q', here alpha = 0.1\n",
    "# pass the degrees of freedom to the parameter, 'df' \n",
    "# use 'round()' to round-off the value to 2 digits\n",
    "t_val = np.abs(round(stats.t.isf(q = 0.1, df = 12), 2))\n",
    "\n",
    "print('Critical value for one-tailed t-test:', t_val)"
   ]
  },
  {
   "cell_type": "markdown",
   "id": "30010b19",
   "metadata": {},
   "source": [
    "i.e. if t is less than -1.36 then we reject the null hypothesis."
   ]
  },
  {
   "cell_type": "code",
   "execution_count": 21,
   "id": "78c1674e",
   "metadata": {},
   "outputs": [],
   "source": [
    "# use 'ttest_ind()' to calculate the test statistic\n",
    "# pass the sample data to the parameter, 'a' and 'b'\n",
    "t_stat, p_val = stats.ttest_ind(a = harry, b = ron)"
   ]
  },
  {
   "cell_type": "markdown",
   "id": "9af7de48",
   "metadata": {},
   "source": [
    "In our example, the hypothesis test is one-tailed. Thus, we divide the two-tailed probability by 2 to obtain the one-tailed probability."
   ]
  },
  {
   "cell_type": "code",
   "execution_count": 22,
   "id": "e91862a1",
   "metadata": {},
   "outputs": [
    {
     "name": "stdout",
     "output_type": "stream",
     "text": [
      "Test Statistic: -2.879\n",
      "p-value: 0.007\n"
     ]
    }
   ],
   "source": [
    "# divide the p-value by 2\n",
    "req_p_val = p_val/2\n",
    "\n",
    "# use round function tp round-off 3 digits\n",
    "t_stat = round(t_stat,3)\n",
    "\n",
    "# use round function to round-off 3 digits\n",
    "req_p_val = round(req_p_val,3)\n",
    "\n",
    "# print the test statistic value and corresponding p-value\n",
    "print('Test Statistic:', t_stat)\n",
    "print('p-value:', req_p_val)"
   ]
  },
  {
   "cell_type": "markdown",
   "id": "ac94198d",
   "metadata": {},
   "source": [
    "The above output shows that the test statistic value is less than -1.36 also, the p-value is less than 0.1. Thus we reject the null hypothesis and conclude that Harry takes less time to deliver the newspapers than Ron."
   ]
  },
  {
   "cell_type": "markdown",
   "id": "42857f4b",
   "metadata": {},
   "source": [
    "# Or use below method:"
   ]
  },
  {
   "cell_type": "code",
   "execution_count": 25,
   "id": "4edba1f0",
   "metadata": {},
   "outputs": [
    {
     "name": "stdout",
     "output_type": "stream",
     "text": [
      "{'statistics_value': -2.879, 'P value': 0.007}\n"
     ]
    }
   ],
   "source": [
    "results = ['statistics_value','P value']\n",
    "# use round funtion to round-off the values\n",
    "print({results[i]:round(j,3) for i,j in enumerate(stats.ttest_ind(a = harry, b = ron,alternative='less'),start=0)})"
   ]
  },
  {
   "cell_type": "markdown",
   "id": "9ff1915d",
   "metadata": {},
   "source": [
    "<table align=\"left\">\n",
    "    <tr>\n",
    "        <td width=\"6%\">\n",
    "            <img src=\"question_icon.png\">\n",
    "        </td>\n",
    "        <td>\n",
    "            <div align=\"left\", style=\"font-size:120%\">\n",
    "                <font color=\"#21618C\">\n",
    "                    <b>5. Research suggests that the fat content (in g) in the rice-bran oil of Nutura products is less than that of Markgen products. To test this claim we have recorded the fat content in 6 packs of 100 g oil from both the companies. Consider a 1% level of significance.</b>\n",
    "                </font>\n",
    "            </div>\n",
    "        </td>\n",
    "    </tr>\n",
    "</table>"
   ]
  },
  {
   "cell_type": "markdown",
   "id": "4e97f42e",
   "metadata": {},
   "source": [
    "Given data:\n",
    "\n",
    "        Nutura_fat = [99.5, 98, 98.6, 98.2, 96.8, 98.4]\n",
    "        Markgen_fat = [ 98.7, 91.8, 92.6, 97.5, 93, 96.1]"
   ]
  },
  {
   "cell_type": "markdown",
   "id": "cd1b9349",
   "metadata": {},
   "source": [
    "The null and alternative hypothesis is:\n",
    "\n",
    "H0 = m1 - m2 >= 0\n",
    "\n",
    "H1 = m1 - m2 <0"
   ]
  },
  {
   "cell_type": "markdown",
   "id": "d4fe67a0",
   "metadata": {},
   "source": [
    "Let us check the normality of the data."
   ]
  },
  {
   "cell_type": "code",
   "execution_count": 26,
   "id": "0910bed2",
   "metadata": {},
   "outputs": [
    {
     "name": "stdout",
     "output_type": "stream",
     "text": [
      "Test statistic: 0.848\n",
      "P-Value: 0.035\n"
     ]
    }
   ],
   "source": [
    "# given data\n",
    "Nutura_fat = [99.5, 92, 98.6, 98.2, 96.8, 98.4]\n",
    "Markgen_fat = [ 98.7, 91.8, 92.6, 97.5, 93, 96.1]\n",
    "\n",
    "fat = [99.5, 92, 98.6, 98.2, 96.8, 98.4, 98.7, 91.8, 92.6, 97.5, 93, 96.1]\n",
    "\n",
    "# perform Shapiro-Wilk test to test the normality\n",
    "# shapiro() returns a tuple having the values of test statistics and the corresponding p-value\n",
    "# pass the fat content in both products to perform the test\n",
    "stat, p_value = shapiro(fat)\n",
    "\n",
    "# round funtion to round off 3 digits\n",
    "stat = round(stat,3)\n",
    "p_value = round(p_value,3)\n",
    "\n",
    "# print the test statistic and corresponding p-value \n",
    "print('Test statistic:', stat)\n",
    "print('P-Value:', p_value)"
   ]
  },
  {
   "cell_type": "markdown",
   "id": "64b98630",
   "metadata": {},
   "source": [
    "From the above result, we can see that the p-value is greater than 0.01, thus we can say that the data is  normally distributed."
   ]
  },
  {
   "cell_type": "code",
   "execution_count": 27,
   "id": "b4a9ada2",
   "metadata": {},
   "outputs": [
    {
     "name": "stdout",
     "output_type": "stream",
     "text": [
      "p-value: 0.908\n"
     ]
    }
   ],
   "source": [
    "# compute test statistic and corresponding p-value for one-tailed test\n",
    "test_stat, p_value = stats.ttest_ind(Nutura_fat, Markgen_fat, alternative = 'less')\n",
    "\n",
    "# round funtion to round off 3 digits\n",
    "p_value = round(p_value,3)\n",
    "\n",
    "# print the p-value\n",
    "print('p-value:', p_value)"
   ]
  },
  {
   "cell_type": "markdown",
   "id": "cc40bbe3",
   "metadata": {},
   "source": [
    "Here the p-value is greater than 0.01. Thus we fail to reject (i.e. accept) the null hypothesis and we can not conclude that the fat content (in g) in the rice-bran oil of Nutura products is less than that of Markgen products."
   ]
  },
  {
   "cell_type": "markdown",
   "id": "f7839e8a",
   "metadata": {},
   "source": [
    "<a id='paired'></a>\n",
    "## 3.2.Two sample paired T-test"
   ]
  },
  {
   "cell_type": "markdown",
   "id": "0b4d1b68",
   "metadata": {},
   "source": [
    "<table align=\"left\">\n",
    "    <tr>\n",
    "        <td width=\"6%\">\n",
    "            <img src=\"question_icon.png\">\n",
    "        </td>\n",
    "        <td>\n",
    "            <div align=\"left\", style=\"font-size:120%\">\n",
    "                <font color=\"#21618C\">\n",
    "                        <b>6. The pharmaceutical company had organized a program to introduce its new drug to lower the sugar level. They recorded the fasting sugar (in mg/dl) of 25 diabetic people. Those people undergo a medication of the new drug for 10 days and again took a fasting sugar level test. The company claim that the sugar level decreases due to its new drug. Test the claim using p-value technique with 95% confidence.</b>\n",
    "                </font>\n",
    "            </div>\n",
    "        </td>\n",
    "    </tr>\n",
    "</table>"
   ]
  },
  {
   "cell_type": "markdown",
   "id": "c962e295",
   "metadata": {},
   "source": [
    "Use the data given in the file `sugar_level.xlsx`"
   ]
  },
  {
   "cell_type": "code",
   "execution_count": 28,
   "id": "7061fffd",
   "metadata": {},
   "outputs": [
    {
     "data": {
      "text/html": [
       "<div>\n",
       "<style scoped>\n",
       "    .dataframe tbody tr th:only-of-type {\n",
       "        vertical-align: middle;\n",
       "    }\n",
       "\n",
       "    .dataframe tbody tr th {\n",
       "        vertical-align: top;\n",
       "    }\n",
       "\n",
       "    .dataframe thead th {\n",
       "        text-align: right;\n",
       "    }\n",
       "</style>\n",
       "<table border=\"1\" class=\"dataframe\">\n",
       "  <thead>\n",
       "    <tr style=\"text-align: right;\">\n",
       "      <th></th>\n",
       "      <th>sugar_before</th>\n",
       "      <th>sugar_after</th>\n",
       "    </tr>\n",
       "  </thead>\n",
       "  <tbody>\n",
       "    <tr>\n",
       "      <th>0</th>\n",
       "      <td>135</td>\n",
       "      <td>132</td>\n",
       "    </tr>\n",
       "    <tr>\n",
       "      <th>1</th>\n",
       "      <td>132</td>\n",
       "      <td>136</td>\n",
       "    </tr>\n",
       "    <tr>\n",
       "      <th>2</th>\n",
       "      <td>142</td>\n",
       "      <td>139</td>\n",
       "    </tr>\n",
       "  </tbody>\n",
       "</table>\n",
       "</div>"
      ],
      "text/plain": [
       "   sugar_before  sugar_after\n",
       "0           135          132\n",
       "1           132          136\n",
       "2           142          139"
      ]
     },
     "execution_count": 28,
     "metadata": {},
     "output_type": "execute_result"
    }
   ],
   "source": [
    "# given data\n",
    "df_sugar = pd.read_excel('sugar_level.xlsx')\n",
    "\n",
    "# print the first 3 observations\n",
    "df_sugar.head(3)"
   ]
  },
  {
   "cell_type": "markdown",
   "id": "a61ad880",
   "metadata": {},
   "source": [
    "Let us check the normality of the sugar level before the medication."
   ]
  },
  {
   "cell_type": "code",
   "execution_count": 12,
   "id": "b66e6d2d",
   "metadata": {},
   "outputs": [
    {
     "name": "stdout",
     "output_type": "stream",
     "text": [
      "P-Value: 0.08\n"
     ]
    }
   ],
   "source": [
    "# perform Shapiro-Wilk test to test the normality\n",
    "# shapiro() returns a tuple having the values of test statistics and the corresponding p-value\n",
    "stat, p_value = shapiro(df_sugar['sugar_before'])\n",
    "\n",
    "# use round function to round off the values\n",
    "p_value = round(p_value,3)\n",
    "\n",
    "# print the p-value \n",
    "print('P-Value:', p_value)"
   ]
  },
  {
   "cell_type": "markdown",
   "id": "1d52eef5",
   "metadata": {},
   "source": [
    "From the above result, we can see that the p-value is greater than 0.05, thus the sugar level before the medication is normally distributed."
   ]
  },
  {
   "cell_type": "markdown",
   "id": "accb5902",
   "metadata": {},
   "source": [
    "Let us check the normality of the sugar level after the medication."
   ]
  },
  {
   "cell_type": "code",
   "execution_count": 29,
   "id": "21d5f441",
   "metadata": {},
   "outputs": [
    {
     "name": "stdout",
     "output_type": "stream",
     "text": [
      "P-Value: 0.057\n"
     ]
    }
   ],
   "source": [
    "# perform Shapiro-Wilk test to test the normality\n",
    "# shapiro() returns a tuple having the values of test statistics and the corresponding p-value\n",
    "stat, p_value = shapiro(df_sugar['sugar_after'])\n",
    "\n",
    "\n",
    "# use round function to round off the values\n",
    "p_value = round(p_value,3)\n",
    "\n",
    "# print the p-value \n",
    "print('P-Value:', p_value)"
   ]
  },
  {
   "cell_type": "code",
   "execution_count": 30,
   "id": "8059fafa",
   "metadata": {},
   "outputs": [
    {
     "name": "stdout",
     "output_type": "stream",
     "text": [
      "P-Value: 0.917\n"
     ]
    }
   ],
   "source": [
    "# perform Levene's test\n",
    "# levene() returns a tuple having the values of test statistics and the corresponding p-value\n",
    "stat, p_value = stats.levene(df_sugar['sugar_before'], df_sugar['sugar_after'])\n",
    "\n",
    "# use round function to round off the values\n",
    "p_value = round(p_value,3)\n",
    "\n",
    "# print the p-value \n",
    "print('P-Value:', p_value)"
   ]
  },
  {
   "cell_type": "markdown",
   "id": "8c036223",
   "metadata": {},
   "source": [
    "From the above result, we can see that the p-values from shapiro and levene tests are greater than 0.05, thus the sugar level after the medication is normally distributed."
   ]
  },
  {
   "cell_type": "markdown",
   "id": "97071fca",
   "metadata": {},
   "source": [
    "The null and alternative hypothesis is:\n",
    "\n",
    "H<sub>0</sub>: The new drug was not effective in reducing the fasting sugar level ($\\mu_{d} \\geq 0$)<br>\n",
    "H<sub>1</sub>: The new drug was effective in reducing the fasting sugar level ($\\mu_{d} < 0$)"
   ]
  },
  {
   "cell_type": "code",
   "execution_count": 32,
   "id": "5851e040",
   "metadata": {},
   "outputs": [
    {
     "name": "stdout",
     "output_type": "stream",
     "text": [
      "p-value: 2.108941394582287e-05\n"
     ]
    }
   ],
   "source": [
    "# use 'ttest_rel()' to calculate the t-statistic and corresponding p-value for paired samples\n",
    "# pass the after and before stress levels to the function\n",
    "t_stat, p_val = stats.ttest_rel(df_sugar['sugar_after'], df_sugar['sugar_before'])\n",
    "\n",
    "# print the p-value \n",
    "print(\"p-value:\", p_val)"
   ]
  },
  {
   "cell_type": "markdown",
   "id": "b67e1389",
   "metadata": {},
   "source": [
    "We can see that the p-value is less than 0.05. Thus, we reject the null hypothesis and conclude that the new drug was effective in reducing the fasting sugar level."
   ]
  },
  {
   "cell_type": "markdown",
   "id": "eeded0e9",
   "metadata": {},
   "source": [
    "<table align=\"left\">\n",
    "    <tr>\n",
    "        <td width=\"6%\">\n",
    "            <img src=\"question_icon.png\">\n",
    "        </td>\n",
    "        <td>\n",
    "            <div align=\"left\", style=\"font-size:120%\">\n",
    "                <font color=\"#21618C\">\n",
    "                    <b>7. The gym trainer claims that the new aerobic exercise has reduced the weight of the customers. The weight in the last month before the aerobic exercise and weight in this month after the aerobic exercise is recorded for 6 people. Test the trainer's claim with 99% confidence.  </b>\n",
    "                </font>\n",
    "            </div>\n",
    "        </td>\n",
    "    </tr>\n",
    "</table>"
   ]
  },
  {
   "cell_type": "markdown",
   "id": "a9c66bf5",
   "metadata": {},
   "source": [
    "Given data:\n",
    "\n",
    "        wt_before = [85, 74, 63.5, 69.4, 71.6, 65]\n",
    "        wt_after = [82, 71, 64, 65.2, 67.8, 64.7]"
   ]
  },
  {
   "cell_type": "markdown",
   "id": "fe5aab4e",
   "metadata": {},
   "source": [
    "The null and alternative hypothesis is:\n",
    "\n",
    "H<sub>0</sub>: $M_{d} \\leq 0$<br>\n",
    "H<sub>1</sub>: $M_{d} > 0$ "
   ]
  },
  {
   "cell_type": "markdown",
   "id": "6969ad87",
   "metadata": {},
   "source": [
    "Let us check the normality of the data."
   ]
  },
  {
   "cell_type": "code",
   "execution_count": 35,
   "id": "2ffe5d9d",
   "metadata": {},
   "outputs": [
    {
     "name": "stdout",
     "output_type": "stream",
     "text": [
      "Test statistic: 0.915\n",
      "P-Value for Weights Before: 0.47\n"
     ]
    }
   ],
   "source": [
    "# given weights\n",
    "wt_before = [85, 74, 63.5, 69.4, 71.6, 65]\n",
    "wt_after = [82, 71, 64, 65.2, 67.8, 64.7]\n",
    "\n",
    "# perform Shapiro-Wilk test to test the normality\n",
    "# shapiro() returns a tuple having the values of test statistics and the corresponding p-value\n",
    "# pass the weight before to perform the test\n",
    "stat, p_value = shapiro(wt_before)\n",
    "\n",
    "# use round function to round off the values\n",
    "stat = round(stat,3)\n",
    "p_value = round(p_value,3)\n",
    "\n",
    "# print the test statistic and corresponding p-value \n",
    "print('Test statistic:', stat)\n",
    "print('P-Value for Weights Before:', p_value)"
   ]
  },
  {
   "cell_type": "code",
   "execution_count": 36,
   "id": "d1a39756",
   "metadata": {},
   "outputs": [
    {
     "name": "stdout",
     "output_type": "stream",
     "text": [
      "Test statistic: 0.793\n",
      "P-Value for Weights Before: 0.051\n"
     ]
    }
   ],
   "source": [
    "# perform Shapiro-Wilk test to test the normality\n",
    "# shapiro() returns a tuple having the values of test statistics and the corresponding p-value\n",
    "# pass the weight after to perform the test\n",
    "stat, p_value = shapiro(wt_after)\n",
    "\n",
    "# use round function to round off the values\n",
    "stat = round(stat,3)\n",
    "p_value = round(p_value,3)\n",
    "\n",
    "# print the test statistic and corresponding p-value \n",
    "print('Test statistic:', stat)\n",
    "print('P-Value for Weights Before:', p_value)"
   ]
  },
  {
   "cell_type": "markdown",
   "id": "834eca05",
   "metadata": {},
   "source": [
    "From the above result, we can see that the both p-values are greater than 0.01, thus we can say that the data is normally distributed."
   ]
  },
  {
   "cell_type": "code",
   "execution_count": 43,
   "id": "19432a29",
   "metadata": {},
   "outputs": [
    {
     "name": "stdout",
     "output_type": "stream",
     "text": [
      "p-value: 0.017\n"
     ]
    }
   ],
   "source": [
    "# pass the one-tailed condition to the parameter, 'alternative'\n",
    "test_stat, p_value = stats.ttest_rel(wt_before,wt_after, alternative = 'greater')\n",
    "\n",
    "# use round function to round off the values\n",
    "p_value = round(p_value,3)\n",
    "\n",
    "# print the p-value\n",
    "print('p-value:', p_value)"
   ]
  },
  {
   "cell_type": "markdown",
   "id": "5b8a1c96",
   "metadata": {},
   "source": [
    "Here the p-value is greater than 0.01, thus we do not reject the null hypothesis and conclude that there is no evidence to conclude that the new aerobic exercise has reduced the weight."
   ]
  },
  {
   "cell_type": "markdown",
   "id": "d22d14e4",
   "metadata": {},
   "source": [
    "<a id = \"chisq\"> </a>\n",
    "## 4. Chi-Square Test"
   ]
  },
  {
   "cell_type": "markdown",
   "id": "7404fee7",
   "metadata": {},
   "source": [
    "Use the data available in the CSV file `Employee_Attrition.csv`."
   ]
  },
  {
   "cell_type": "code",
   "execution_count": 51,
   "id": "3f3f4d61",
   "metadata": {},
   "outputs": [
    {
     "data": {
      "text/html": [
       "<div>\n",
       "<style scoped>\n",
       "    .dataframe tbody tr th:only-of-type {\n",
       "        vertical-align: middle;\n",
       "    }\n",
       "\n",
       "    .dataframe tbody tr th {\n",
       "        vertical-align: top;\n",
       "    }\n",
       "\n",
       "    .dataframe thead th {\n",
       "        text-align: right;\n",
       "    }\n",
       "</style>\n",
       "<table border=\"1\" class=\"dataframe\">\n",
       "  <thead>\n",
       "    <tr style=\"text-align: right;\">\n",
       "      <th></th>\n",
       "      <th>Age</th>\n",
       "      <th>Attrition</th>\n",
       "      <th>BusinessTravel</th>\n",
       "      <th>DailyRate</th>\n",
       "      <th>Department</th>\n",
       "      <th>DistanceFromHome</th>\n",
       "      <th>Education</th>\n",
       "      <th>EducationField</th>\n",
       "      <th>EmployeeCount</th>\n",
       "      <th>EmployeeNumber</th>\n",
       "      <th>...</th>\n",
       "      <th>RelationshipSatisfaction</th>\n",
       "      <th>StandardHours</th>\n",
       "      <th>StockOptionLevel</th>\n",
       "      <th>TotalWorkingYears</th>\n",
       "      <th>TrainingTimesLastYear</th>\n",
       "      <th>WorkLifeBalance</th>\n",
       "      <th>YearsAtCompany</th>\n",
       "      <th>YearsInCurrentRole</th>\n",
       "      <th>YearsSinceLastPromotion</th>\n",
       "      <th>YearsWithCurrManager</th>\n",
       "    </tr>\n",
       "  </thead>\n",
       "  <tbody>\n",
       "    <tr>\n",
       "      <th>0</th>\n",
       "      <td>41</td>\n",
       "      <td>Yes</td>\n",
       "      <td>Travel_Rarely</td>\n",
       "      <td>1102</td>\n",
       "      <td>Sales</td>\n",
       "      <td>1</td>\n",
       "      <td>2</td>\n",
       "      <td>Life Sciences</td>\n",
       "      <td>1</td>\n",
       "      <td>1</td>\n",
       "      <td>...</td>\n",
       "      <td>1</td>\n",
       "      <td>80</td>\n",
       "      <td>0</td>\n",
       "      <td>8</td>\n",
       "      <td>0</td>\n",
       "      <td>1</td>\n",
       "      <td>6</td>\n",
       "      <td>4</td>\n",
       "      <td>0</td>\n",
       "      <td>5</td>\n",
       "    </tr>\n",
       "    <tr>\n",
       "      <th>1</th>\n",
       "      <td>49</td>\n",
       "      <td>No</td>\n",
       "      <td>Travel_Frequently</td>\n",
       "      <td>279</td>\n",
       "      <td>Research &amp; Development</td>\n",
       "      <td>8</td>\n",
       "      <td>1</td>\n",
       "      <td>Life Sciences</td>\n",
       "      <td>1</td>\n",
       "      <td>2</td>\n",
       "      <td>...</td>\n",
       "      <td>4</td>\n",
       "      <td>80</td>\n",
       "      <td>1</td>\n",
       "      <td>10</td>\n",
       "      <td>3</td>\n",
       "      <td>3</td>\n",
       "      <td>10</td>\n",
       "      <td>7</td>\n",
       "      <td>1</td>\n",
       "      <td>7</td>\n",
       "    </tr>\n",
       "  </tbody>\n",
       "</table>\n",
       "<p>2 rows × 35 columns</p>\n",
       "</div>"
      ],
      "text/plain": [
       "   Age Attrition     BusinessTravel  DailyRate              Department  \\\n",
       "0   41       Yes      Travel_Rarely       1102                   Sales   \n",
       "1   49        No  Travel_Frequently        279  Research & Development   \n",
       "\n",
       "   DistanceFromHome  Education EducationField  EmployeeCount  EmployeeNumber  \\\n",
       "0                 1          2  Life Sciences              1               1   \n",
       "1                 8          1  Life Sciences              1               2   \n",
       "\n",
       "   ...  RelationshipSatisfaction StandardHours  StockOptionLevel  \\\n",
       "0  ...                         1            80                 0   \n",
       "1  ...                         4            80                 1   \n",
       "\n",
       "   TotalWorkingYears  TrainingTimesLastYear WorkLifeBalance  YearsAtCompany  \\\n",
       "0                  8                      0               1               6   \n",
       "1                 10                      3               3              10   \n",
       "\n",
       "  YearsInCurrentRole  YearsSinceLastPromotion  YearsWithCurrManager  \n",
       "0                  4                        0                     5  \n",
       "1                  7                        1                     7  \n",
       "\n",
       "[2 rows x 35 columns]"
      ]
     },
     "execution_count": 51,
     "metadata": {},
     "output_type": "execute_result"
    }
   ],
   "source": [
    "# read the sample data \n",
    "df_emp = pd.read_csv('Employee_Attrition.csv')\n",
    "\n",
    "# display the first two observations\n",
    "df_emp.head(2)"
   ]
  },
  {
   "cell_type": "markdown",
   "id": "8e05716a",
   "metadata": {},
   "source": [
    "<table align=\"left\">\n",
    "    <tr>\n",
    "        <td width=\"6%\">\n",
    "            <img src=\"question_icon.png\">\n",
    "        </td>\n",
    "        <td>\n",
    "            <div align=\"left\", style=\"font-size:120%\">\n",
    "                <font color=\"#21618C\">\n",
    "                    <b>8. A company in Los Angeles has three functional departments - Research and Development, Sales, and Human Resources. The company claims that the percentage of employees in these 3 departments is 55%, 35% and 10% respectively. Check the company's claim using p-value criteria. Consider a 5% level of significance.</b>\n",
    "                </font>\n",
    "            </div>\n",
    "        </td>\n",
    "    </tr>\n",
    "</table>"
   ]
  },
  {
   "cell_type": "markdown",
   "id": "4494c3bc",
   "metadata": {},
   "source": [
    "The null and alternative hypothesis is:\n",
    "\n",
    "H<sub>0</sub>: There is no significant difference between the observed and expected values. <br>\n",
    "H<sub>1</sub>: There is a significant difference between the observed and expected values."
   ]
  },
  {
   "cell_type": "code",
   "execution_count": 52,
   "id": "ea270c14",
   "metadata": {},
   "outputs": [
    {
     "data": {
      "text/plain": [
       "Research & Development    961\n",
       "Sales                     446\n",
       "Human Resources            63\n",
       "Name: Department, dtype: int64"
      ]
     },
     "execution_count": 52,
     "metadata": {},
     "output_type": "execute_result"
    }
   ],
   "source": [
    "# observed values\n",
    "df_emp['Department'].value_counts()"
   ]
  },
  {
   "cell_type": "code",
   "execution_count": 53,
   "id": "cdf722d8",
   "metadata": {},
   "outputs": [
    {
     "name": "stdout",
     "output_type": "stream",
     "text": [
      "p-value: 2.642446152388858e-19\n"
     ]
    }
   ],
   "source": [
    "# given observed values\n",
    "observed_value = [961, 446, 63]\n",
    "\n",
    "# expected percentage \n",
    "exp_count = [0.55, 0.35, 0.10]\n",
    "\n",
    "# calculate the expected values for each category\n",
    "expected_value = np.array(exp_count) * len(df_emp)\n",
    "\n",
    "# round-off the values to integers\n",
    "expected_value = round(pd.Series(expected_value))\n",
    "\n",
    "# use the 'chisquare()' to perform the goodness of fit test\n",
    "# the function returns the test statistic value and corresponding p-value\n",
    "# pass the observed values to the parameter, 'f_obs'\n",
    "# pass the expected values to the parameter, 'f_exp'\n",
    "stat, p_value = chisquare(f_obs = observed_value, f_exp = expected_value)\n",
    "\n",
    "print('p-value:', p_value)"
   ]
  },
  {
   "cell_type": "markdown",
   "id": "6b89b3b2",
   "metadata": {},
   "source": [
    "The above output shows that the p-value is less than 0.05. Thus, we reject the null hypothesis and conclude that the company's claim is not correct. i.e. the distribution of employees in a company is not as per the company's claim."
   ]
  },
  {
   "cell_type": "markdown",
   "id": "599d0403",
   "metadata": {},
   "source": [
    "<table align=\"left\">\n",
    "    <tr>\n",
    "        <td width=\"6%\">\n",
    "            <img src=\"question_icon.png\">\n",
    "        </td>\n",
    "        <td>\n",
    "            <div align=\"left\", style=\"font-size:120%\">\n",
    "                <font color=\"#21618C\">\n",
    "                    <b>9. The employees in an IT firm undergo an online assessment survey. The survey reveals that 20% of employees are least satisfied, 18% are fairly satisfied, 30% are moderately satisfied and 32% are highly satisfied with their job. Use a critical value method to test the survey result with 90% confidence.</b>\n",
    "                </font>\n",
    "            </div>\n",
    "        </td>\n",
    "    </tr>\n",
    "</table>"
   ]
  },
  {
   "cell_type": "markdown",
   "id": "47c99781",
   "metadata": {},
   "source": [
    "The null and alternative hypothesis is:\n",
    "\n",
    "H<sub>0</sub>: There is no significant difference between the observed and expected values. <br>\n",
    "H<sub>1</sub>: There is a significant difference between the observed and expected values."
   ]
  },
  {
   "cell_type": "markdown",
   "id": "334e8e02",
   "metadata": {},
   "source": [
    "1 : Least satisfied\n",
    "2 : Fairly satisfied\n",
    "3 : Moderately satisfied\n",
    "4 : Highly satisfied"
   ]
  },
  {
   "cell_type": "code",
   "execution_count": 54,
   "id": "7383a290",
   "metadata": {},
   "outputs": [
    {
     "data": {
      "text/plain": [
       "4    459\n",
       "3    442\n",
       "1    289\n",
       "2    280\n",
       "Name: JobSatisfaction, dtype: int64"
      ]
     },
     "execution_count": 54,
     "metadata": {},
     "output_type": "execute_result"
    }
   ],
   "source": [
    "# observed values\n",
    "df_emp['JobSatisfaction'].value_counts()"
   ]
  },
  {
   "cell_type": "markdown",
   "id": "240a5d67",
   "metadata": {},
   "source": [
    "As the job satisfaction level is categorical; change the data type of the variable to `object`."
   ]
  },
  {
   "cell_type": "code",
   "execution_count": 55,
   "id": "3ad5d053",
   "metadata": {},
   "outputs": [],
   "source": [
    "df_emp['JobSatisfaction'] = df_emp['JobSatisfaction'].astype('object')"
   ]
  },
  {
   "cell_type": "markdown",
   "id": "1c1352af",
   "metadata": {},
   "source": [
    "For ⍺ = 0.1 and degrees of freedom (= 4-1) = 3, calculate the critical value."
   ]
  },
  {
   "cell_type": "code",
   "execution_count": 56,
   "id": "3497b239",
   "metadata": {},
   "outputs": [
    {
     "name": "stdout",
     "output_type": "stream",
     "text": [
      "Critical value for chi-square test: 6.2514\n"
     ]
    }
   ],
   "source": [
    "# calculate the χ2-value for 90% of confidence level\n",
    "# use 'stats.chi2.isf()' to find the χ2-value corresponding to the upper tail probability 'q'\n",
    "# pass the value of 'alpha' to the parameter 'q', here alpha = 0.1\n",
    "# pass the degrees of freedom to the parameter 'df' \n",
    "# use 'round()' to round-off the value to 4 digits\n",
    "chi2_val = np.abs(round(stats.chi2.isf(q = 0.1, df = 3), 4))\n",
    "\n",
    "print('Critical value for chi-square test:', chi2_val)"
   ]
  },
  {
   "cell_type": "markdown",
   "id": "a3ef1910",
   "metadata": {},
   "source": [
    "i.e. if the chi-square value is greater than 6.2514 then we reject the null hypothesis."
   ]
  },
  {
   "cell_type": "code",
   "execution_count": 57,
   "id": "d1ce9d08",
   "metadata": {},
   "outputs": [
    {
     "name": "stdout",
     "output_type": "stream",
     "text": [
      "Test statistic: 1.194\n"
     ]
    }
   ],
   "source": [
    "# observed values\n",
    "observed_value = [289, 280, 442, 459]\n",
    "\n",
    "# expected percentage \n",
    "exp_count = [0.2, 0.18, 0.3, 0.32]\n",
    "\n",
    "# calculate the expected values for each category\n",
    "expected_value = np.array(exp_count) * len(df_emp)\n",
    "\n",
    "# round-off the values to integers\n",
    "expected_value = round(pd.Series(expected_value))\n",
    "\n",
    "# use the 'chisquare()' to perform the goodness of fit test\n",
    "# the function returns the test statistic value and corresponding p-value\n",
    "# pass the observed values to the parameter, 'f_obs'\n",
    "# pass the expected values to the parameter, 'f_exp'\n",
    "stat, p_value = chisquare(f_obs = observed_value, f_exp = expected_value)\n",
    "\n",
    "\n",
    "# use round function to round off the values\n",
    "stat = round(stat,3)\n",
    "\n",
    "print('Test statistic:', stat)"
   ]
  },
  {
   "cell_type": "markdown",
   "id": "e56c51bc",
   "metadata": {},
   "source": [
    "The above output shows that the test statistic is less than 6.2514. Thus, we fail to reject (i.e. accept) the null hypothesis and conclude that there is no difference in the sample percentage and the percentage revealed by the survey."
   ]
  },
  {
   "cell_type": "markdown",
   "id": "bc11a22f",
   "metadata": {},
   "source": [
    "<table align=\"left\">\n",
    "    <tr>\n",
    "        <td width=\"6%\">\n",
    "            <img src=\"question_icon.png\">\n",
    "        </td>\n",
    "        <td>\n",
    "            <div align=\"left\", style=\"font-size:120%\">\n",
    "                <font color=\"#21618C\">\n",
    "                    <b>10. Check whether travelling for work depends upon the job role of an employee. Use p-value criteria to test the dependence with 99% confidence.</b>\n",
    "                </font>\n",
    "            </div>\n",
    "        </td>\n",
    "    </tr>\n",
    "</table>"
   ]
  },
  {
   "cell_type": "markdown",
   "id": "9fb4e45a",
   "metadata": {},
   "source": [
    "The null and alternative hypothesis is:\n",
    "\n",
    "H<sub>0</sub>: Business travel and job role are independent<br>\n",
    "H<sub>1</sub>: Business travel and job role are not independent"
   ]
  },
  {
   "cell_type": "code",
   "execution_count": 58,
   "id": "392a77a6",
   "metadata": {},
   "outputs": [
    {
     "data": {
      "text/plain": [
       "array([[ 15,   4,  28,  12,  13,   6,  28,  39,   5],\n",
       "       [ 26,  10,  51,  13,  29,  12,  54,  59,  23],\n",
       "       [ 90,  38, 180,  77, 103,  62, 210, 228,  55]], dtype=int64)"
      ]
     },
     "execution_count": 58,
     "metadata": {},
     "output_type": "execute_result"
    }
   ],
   "source": [
    "# use 'crosstab()' to create a table for each type of business travel and job role \n",
    "table = pd.crosstab(df_emp['BusinessTravel'], df_emp['JobRole'])\n",
    "\n",
    "# observed values  \n",
    "observed_value = table.values\n",
    "observed_value"
   ]
  },
  {
   "cell_type": "code",
   "execution_count": 59,
   "id": "3828b1d8",
   "metadata": {},
   "outputs": [
    {
     "name": "stdout",
     "output_type": "stream",
     "text": [
      "p-value: 0.745\n"
     ]
    }
   ],
   "source": [
    "# use the 'chi2_contingency()' to check the independence of variables\n",
    "# the function returns the test statistic value, corresponding p-value, degrees of freedom of the test and expected values\n",
    "# pass the observed values to the parameter, 'observed'\n",
    "# 'correction = False' will not apply the Yates' correction\n",
    "test_stat, p, dof, expected_value = chi2_contingency(observed = observed_value, correction = False)\n",
    "\n",
    "# use round function to round off the values\n",
    "p = round(p,3)\n",
    "\n",
    "print(\"p-value:\", p)"
   ]
  },
  {
   "cell_type": "markdown",
   "id": "c9640495",
   "metadata": {},
   "source": [
    "The above output shows that the p-value is greater than 0.01, thus we fail to reject (i.e. accept) the null hypothesis and conclude that the business travel is not dependent on the job role."
   ]
  },
  {
   "cell_type": "markdown",
   "id": "5b36f36a",
   "metadata": {},
   "source": [
    "<table align=\"left\">\n",
    "    <tr>\n",
    "        <td width=\"6%\">\n",
    "            <img src=\"question_icon.png\">\n",
    "        </td>\n",
    "        <td>\n",
    "            <div align=\"left\", style=\"font-size:120%\">\n",
    "                <font color=\"#21618C\">\n",
    "                    <b>11. Is there any relationship between the attrition of an employee and his/her marital status? Use the critical value technique to test the relationship with 95% confidence. </b>\n",
    "                </font>\n",
    "            </div>\n",
    "        </td>\n",
    "    </tr>\n",
    "</table>"
   ]
  },
  {
   "cell_type": "markdown",
   "id": "d9d16396",
   "metadata": {},
   "source": [
    "The null and alternative hypothesis is:\n",
    "\n",
    "H<sub>0</sub>: Attrition and marital status are independent<br>\n",
    "H<sub>1</sub>: Attrition and marital status are not independent"
   ]
  },
  {
   "cell_type": "code",
   "execution_count": 63,
   "id": "21dd2326",
   "metadata": {},
   "outputs": [
    {
     "data": {
      "text/plain": [
       "array([[294, 589, 350],\n",
       "       [ 33,  84, 120]], dtype=int64)"
      ]
     },
     "execution_count": 63,
     "metadata": {},
     "output_type": "execute_result"
    }
   ],
   "source": [
    "# use 'crosstab()' to create a table for each attrition level and marital status \n",
    "table = pd.crosstab(df_emp['Attrition'], df_emp['MaritalStatus'])\n",
    "\n",
    "# observed values  \n",
    "observed_value = table.values\n",
    "observed_value"
   ]
  },
  {
   "cell_type": "markdown",
   "id": "da88d6d0",
   "metadata": {},
   "source": [
    "For ⍺ = 0.05 and degrees of freedom (= 1x2) = 2, calculate the critical value."
   ]
  },
  {
   "cell_type": "code",
   "execution_count": 64,
   "id": "91e3f8e1",
   "metadata": {},
   "outputs": [
    {
     "name": "stdout",
     "output_type": "stream",
     "text": [
      "Critical value for chi-square test: 5.9915\n"
     ]
    }
   ],
   "source": [
    "# calculate the χ2-value for 95% of confidence level\n",
    "# use 'stats.chi2.isf()' to find the χ2-value corresponding to the upper tail probability 'q'\n",
    "# pass the value of 'alpha' to the parameter 'q', here alpha = 0.05\n",
    "# pass the degrees of freedom to the parameter 'df' \n",
    "# use 'round()' to round-off the value to 4 digits\n",
    "chi2_val = np.abs(round(stats.chi2.isf(q = 0.05, df = 2), 4))\n",
    "\n",
    "print('Critical value for chi-square test:', chi2_val)"
   ]
  },
  {
   "cell_type": "markdown",
   "id": "7ae16cac",
   "metadata": {},
   "source": [
    "i.e. if the chi-square value is greater than 5.9915 then we reject the null hypothesis."
   ]
  },
  {
   "cell_type": "code",
   "execution_count": 65,
   "id": "29e62f5f",
   "metadata": {},
   "outputs": [
    {
     "name": "stdout",
     "output_type": "stream",
     "text": [
      "Test statistic: 46.164\n"
     ]
    }
   ],
   "source": [
    "# use the 'chi2_contingency()' to check the independence of variables\n",
    "# the function returns the test statistic value, corresponding p-value, degrees of freedom of the test and expected values\n",
    "# pass the observed values to the parameter, 'observed'\n",
    "# 'correction = False' will not apply the Yates' correction\n",
    "test_stat, p, dof, expected_value = chi2_contingency(observed = observed_value, correction = False)\n",
    "\n",
    "\n",
    "# use round function to round off the values\n",
    "test_stat = round(test_stat,3)\n",
    "\n",
    "print(\"Test statistic:\", test_stat)"
   ]
  },
  {
   "cell_type": "markdown",
   "id": "2fdab71e",
   "metadata": {},
   "source": [
    "The above output shows that the test statistic is greater than 5.9915, thus we reject the null hypothesis and conclude that attrition and marital status are dependent."
   ]
  },
  {
   "cell_type": "markdown",
   "id": "2d9480f9",
   "metadata": {},
   "source": [
    "<a id = \"1way\"> </a>\n",
    "## 6. One-way ANOVA"
   ]
  },
  {
   "cell_type": "markdown",
   "id": "7e1680fe",
   "metadata": {},
   "source": [
    "Use the data available in the CSV file `sales_emp.csv`."
   ]
  },
  {
   "cell_type": "code",
   "execution_count": 66,
   "id": "c57a8b8f",
   "metadata": {},
   "outputs": [
    {
     "data": {
      "text/html": [
       "<div>\n",
       "<style scoped>\n",
       "    .dataframe tbody tr th:only-of-type {\n",
       "        vertical-align: middle;\n",
       "    }\n",
       "\n",
       "    .dataframe tbody tr th {\n",
       "        vertical-align: top;\n",
       "    }\n",
       "\n",
       "    .dataframe thead th {\n",
       "        text-align: right;\n",
       "    }\n",
       "</style>\n",
       "<table border=\"1\" class=\"dataframe\">\n",
       "  <thead>\n",
       "    <tr style=\"text-align: right;\">\n",
       "      <th></th>\n",
       "      <th>Age</th>\n",
       "      <th>BusinessTravel</th>\n",
       "      <th>DailyRate</th>\n",
       "      <th>DistanceFromHome</th>\n",
       "      <th>Education</th>\n",
       "      <th>EducationField</th>\n",
       "      <th>EmployeeCount</th>\n",
       "      <th>EmployeeNumber</th>\n",
       "      <th>EnvironmentSatisfaction</th>\n",
       "      <th>HourlyRate</th>\n",
       "      <th>...</th>\n",
       "      <th>RelationshipSatisfaction</th>\n",
       "      <th>StandardHours</th>\n",
       "      <th>StockOptionLevel</th>\n",
       "      <th>TotalWorkingYears</th>\n",
       "      <th>TrainingTimesLastYear</th>\n",
       "      <th>WorkLifeBalance</th>\n",
       "      <th>YearsAtCompany</th>\n",
       "      <th>YearsInCurrentRole</th>\n",
       "      <th>YearsSinceLastPromotion</th>\n",
       "      <th>YearsWithCurrManager</th>\n",
       "    </tr>\n",
       "  </thead>\n",
       "  <tbody>\n",
       "    <tr>\n",
       "      <th>0</th>\n",
       "      <td>36</td>\n",
       "      <td>Travel_Rarely</td>\n",
       "      <td>1218</td>\n",
       "      <td>9</td>\n",
       "      <td>4</td>\n",
       "      <td>Life Sciences</td>\n",
       "      <td>1</td>\n",
       "      <td>27</td>\n",
       "      <td>3</td>\n",
       "      <td>82</td>\n",
       "      <td>...</td>\n",
       "      <td>2</td>\n",
       "      <td>80</td>\n",
       "      <td>0</td>\n",
       "      <td>10</td>\n",
       "      <td>4</td>\n",
       "      <td>3</td>\n",
       "      <td>5</td>\n",
       "      <td>3</td>\n",
       "      <td>0</td>\n",
       "      <td>3</td>\n",
       "    </tr>\n",
       "    <tr>\n",
       "      <th>1</th>\n",
       "      <td>39</td>\n",
       "      <td>Travel_Rarely</td>\n",
       "      <td>895</td>\n",
       "      <td>5</td>\n",
       "      <td>3</td>\n",
       "      <td>Technical Degree</td>\n",
       "      <td>1</td>\n",
       "      <td>42</td>\n",
       "      <td>4</td>\n",
       "      <td>56</td>\n",
       "      <td>...</td>\n",
       "      <td>3</td>\n",
       "      <td>80</td>\n",
       "      <td>1</td>\n",
       "      <td>19</td>\n",
       "      <td>6</td>\n",
       "      <td>4</td>\n",
       "      <td>1</td>\n",
       "      <td>0</td>\n",
       "      <td>0</td>\n",
       "      <td>0</td>\n",
       "    </tr>\n",
       "  </tbody>\n",
       "</table>\n",
       "<p>2 rows × 31 columns</p>\n",
       "</div>"
      ],
      "text/plain": [
       "   Age BusinessTravel  DailyRate  DistanceFromHome  Education  \\\n",
       "0   36  Travel_Rarely       1218                 9          4   \n",
       "1   39  Travel_Rarely        895                 5          3   \n",
       "\n",
       "     EducationField  EmployeeCount  EmployeeNumber  EnvironmentSatisfaction  \\\n",
       "0     Life Sciences              1              27                        3   \n",
       "1  Technical Degree              1              42                        4   \n",
       "\n",
       "   HourlyRate  ...  RelationshipSatisfaction  StandardHours  StockOptionLevel  \\\n",
       "0          82  ...                         2             80                 0   \n",
       "1          56  ...                         3             80                 1   \n",
       "\n",
       "  TotalWorkingYears  TrainingTimesLastYear  WorkLifeBalance  YearsAtCompany  \\\n",
       "0                10                      4                3               5   \n",
       "1                19                      6                4               1   \n",
       "\n",
       "  YearsInCurrentRole YearsSinceLastPromotion  YearsWithCurrManager  \n",
       "0                  3                       0                     3  \n",
       "1                  0                       0                     0  \n",
       "\n",
       "[2 rows x 31 columns]"
      ]
     },
     "execution_count": 66,
     "metadata": {},
     "output_type": "execute_result"
    }
   ],
   "source": [
    "# read the sample data \n",
    "df_emp = pd.read_csv('sales_emp.csv')\n",
    "\n",
    "# display the first two observations\n",
    "df_emp.head(2)"
   ]
  },
  {
   "cell_type": "markdown",
   "id": "ddf9f6a7",
   "metadata": {},
   "source": [
    " <table align=\"left\">\n",
    "    <tr>\n",
    "        <td width=\"6%\">\n",
    "            <img src=\"question_icon.png\">\n",
    "        </td>\n",
    "        <td>\n",
    "            <div align=\"left\", style=\"font-size:120%\">\n",
    "                <font color=\"#21618C\">\n",
    "                    <b>12. Use the sales employees' dataset to test whether the average monthly income of sales executives with different education background is equal or not. Use a critical value method with 99% confidence.</b>\n",
    "                </font>\n",
    "            </div>\n",
    "        </td>\n",
    "    </tr>\n",
    "</table>"
   ]
  },
  {
   "cell_type": "markdown",
   "id": "69697d94",
   "metadata": {},
   "source": [
    "The null and alternative hypothesis is:\n",
    "\n",
    "H<sub>0</sub>: The average monthly income for all the education fields is the same<br>\n",
    "H<sub>1</sub>: The average monthly income due to at least one education field is different"
   ]
  },
  {
   "cell_type": "code",
   "execution_count": 67,
   "id": "b15616eb",
   "metadata": {},
   "outputs": [
    {
     "data": {
      "text/plain": [
       "5"
      ]
     },
     "execution_count": 67,
     "metadata": {},
     "output_type": "execute_result"
    }
   ],
   "source": [
    "# number of education fields in the data\n",
    "df_emp['EducationField'].nunique()"
   ]
  },
  {
   "cell_type": "code",
   "execution_count": 68,
   "id": "f613a0f0",
   "metadata": {},
   "outputs": [
    {
     "data": {
      "text/plain": [
       "54"
      ]
     },
     "execution_count": 68,
     "metadata": {},
     "output_type": "execute_result"
    }
   ],
   "source": [
    "# total sample observations\n",
    "len(df_emp)"
   ]
  },
  {
   "cell_type": "markdown",
   "id": "c6501f55",
   "metadata": {},
   "source": [
    "Here t (=number of education fields) = 5, N (=total observations) = 54 \n",
    "\n",
    "For ⍺ = 0.05 and degrees of freedom = (t-1, N-t) = (4, 49), calculate the critical value."
   ]
  },
  {
   "cell_type": "code",
   "execution_count": 69,
   "id": "7b4a892c",
   "metadata": {},
   "outputs": [
    {
     "name": "stdout",
     "output_type": "stream",
     "text": [
      "Critical value for F-test: 3.7283\n"
     ]
    }
   ],
   "source": [
    "# calculate the F-value for 95% of confidence level\n",
    "# use 'stats.f.isf()' to find the F-value corresponding to the upper tail probability 'q'\n",
    "# pass the value of 'alpha' to the parameter 'q', here alpha = 0.01\n",
    "# pass the degrees of freedom (= 4) to the parameter 'dfn' \n",
    "# pass the degrees of freedom (= 49) to the parameter 'dfd' \n",
    "# use 'round()' to round-off the value to 4 digits\n",
    "f = np.abs(round(stats.f.isf(q = 0.01, dfn = 4, dfd = 49), 4))\n",
    "\n",
    "print('Critical value for F-test:', f)"
   ]
  },
  {
   "cell_type": "markdown",
   "id": "fa67502e",
   "metadata": {},
   "source": [
    "i.e. if the test statistic value is greater than 3.7283 then we reject the null hypothesis."
   ]
  },
  {
   "cell_type": "code",
   "execution_count": 70,
   "id": "3230d2bc",
   "metadata": {},
   "outputs": [
    {
     "name": "stdout",
     "output_type": "stream",
     "text": [
      "Test statistic: 0.955\n"
     ]
    }
   ],
   "source": [
    "# perform one-way ANOVA\n",
    "# pass the given data\n",
    "test_stat, p_val = stats.f_oneway(df_emp[df_emp['EducationField'] == 'Life Sciences']['MonthlyIncome'],\n",
    "                                  df_emp[df_emp['EducationField'] == 'Technical Degree']['MonthlyIncome'],\n",
    "                                  df_emp[df_emp['EducationField'] == 'Marketing']['MonthlyIncome'],\n",
    "                                  df_emp[df_emp['EducationField'] == 'Medical']['MonthlyIncome'],\n",
    "                                  df_emp[df_emp['EducationField'] == 'Other']['MonthlyIncome'])\n",
    "\n",
    "# use round function to round off the values\n",
    "test_stat = round(test_stat,3)\n",
    "\n",
    "# print the test statistic\n",
    "print('Test statistic:', test_stat)"
   ]
  },
  {
   "cell_type": "markdown",
   "id": "bd68e621",
   "metadata": {},
   "source": [
    "The above output shows that the test statistic is less than 3.7283. Thus we fail to reject (i.e. accept) the null hypothesis and conclude that the average monthly income for all the education fields is the same."
   ]
  },
  {
   "cell_type": "markdown",
   "id": "661307d3",
   "metadata": {},
   "source": [
    "<table align=\"left\">\n",
    "    <tr>\n",
    "        <td width=\"6%\">\n",
    "            <img src=\"question_icon.png\">\n",
    "        </td>\n",
    "        <td>\n",
    "            <div align=\"left\", style=\"font-size:120%\">\n",
    "                <font color=\"#21618C\">\n",
    "                    <b>13. Can we use the given data of sales executives to check the equality of the average daily rate for different types of business travellers? Use a p-value technique to test at a 1% level of significance.</b>\n",
    "                </font>\n",
    "            </div>\n",
    "        </td>\n",
    "    </tr>\n",
    "</table>"
   ]
  },
  {
   "cell_type": "markdown",
   "id": "f96d43a8",
   "metadata": {},
   "source": [
    "In the given dataset, the `BusinessTravel` is a categorical variable and `DailyRate` is a numeric variable. To use the one-way ANOVA test for the equality of average daily rate for all types of business travelling; the sample data should be drawn from normally distributed population. Also the population variances for all the groups should be equal."
   ]
  },
  {
   "cell_type": "markdown",
   "id": "76e9667b",
   "metadata": {},
   "source": [
    "Let us check the normality of the daily rate."
   ]
  },
  {
   "cell_type": "code",
   "execution_count": 71,
   "id": "44f14145",
   "metadata": {},
   "outputs": [
    {
     "name": "stdout",
     "output_type": "stream",
     "text": [
      "p-value: 0.04\n"
     ]
    }
   ],
   "source": [
    "# perform Shapiro-Wilk test to test the normality\n",
    "# shapiro() returns a tuple having the values of test statistics and the corresponding p-value\n",
    "stat, p_value = stats.shapiro(df_emp['DailyRate'])\n",
    "\n",
    "# use round function to round off the values\n",
    "p_value = round(p_value,3)\n",
    "\n",
    "# print the p-value\n",
    "print('p-value:', p_value)"
   ]
  },
  {
   "cell_type": "markdown",
   "id": "ec4a493c",
   "metadata": {},
   "source": [
    "From the above result, we can see that the p-value is greater than 0.01, thus we can say that the daily rate is normally distributed. Thus the assumption of normality is satisfied."
   ]
  },
  {
   "cell_type": "markdown",
   "id": "8386bc31",
   "metadata": {},
   "source": [
    "Let us check the equality of variances."
   ]
  },
  {
   "cell_type": "code",
   "execution_count": 72,
   "id": "5575a7a6",
   "metadata": {},
   "outputs": [
    {
     "data": {
      "text/plain": [
       "array(['Travel_Rarely', 'Non-Travel', 'Travel_Frequently'], dtype=object)"
      ]
     },
     "execution_count": 72,
     "metadata": {},
     "output_type": "execute_result"
    }
   ],
   "source": [
    "# types of business travel in the data\n",
    "df_emp['BusinessTravel'].unique()"
   ]
  },
  {
   "cell_type": "code",
   "execution_count": 73,
   "id": "2da9ac96",
   "metadata": {},
   "outputs": [
    {
     "name": "stdout",
     "output_type": "stream",
     "text": [
      "P-Value: 0.231\n"
     ]
    }
   ],
   "source": [
    "# perform Levene's test for the equality of variances \n",
    "# levene() returns a tuple having the values of test statistics and the corresponding p-value\n",
    "# pass the number of defective belts from each group\n",
    "stat, p_value = stats.levene(df_emp[df_emp['BusinessTravel'] == 'Travel_Rarely']['DailyRate'],\n",
    "                             df_emp[df_emp['BusinessTravel'] == 'Travel_Frequently']['DailyRate'],\n",
    "                             df_emp[df_emp['BusinessTravel'] == 'Non-Travel']['DailyRate'])\n",
    "\n",
    "# use round function to round off the values\n",
    "p_value = round(p_value,3)\n",
    "\n",
    "\n",
    "# print the p-value \n",
    "print('P-Value:', p_value)"
   ]
  },
  {
   "cell_type": "markdown",
   "id": "2a86e10f",
   "metadata": {},
   "source": [
    "From the above result, we can see that the p-value is greater than 0.01, thus we can say that the population variances are equal for all the groups.\n",
    "\n",
    "Thus we can use the one-way ANOVA test to check the equality of the average daily rate for all the types of business travelling."
   ]
  },
  {
   "cell_type": "markdown",
   "id": "649ee91e",
   "metadata": {},
   "source": [
    "<table align=\"left\">\n",
    "    <tr>\n",
    "        <td width=\"6%\">\n",
    "            <img src=\"question_icon.png\">\n",
    "        </td>\n",
    "        <td>\n",
    "            <div align=\"left\", style=\"font-size:120%\">\n",
    "                <font color=\"#21618C\">\n",
    "                    <b>14. Use the parametric test to check the equality of the average daily rate for all the types of business travelling. Use a p-value technique to test the data with 99% confidence.</b>\n",
    "                </font>\n",
    "            </div>\n",
    "        </td>\n",
    "    </tr>\n",
    "</table>"
   ]
  },
  {
   "cell_type": "markdown",
   "id": "2a0682b6",
   "metadata": {},
   "source": [
    "The null and alternative hypothesis is:\n",
    "\n",
    "H<sub>0</sub>: The average daily rate for all the business travels is the same<br>\n",
    "H<sub>1</sub>: The average daily rate for at least one type of business travel is different"
   ]
  },
  {
   "cell_type": "code",
   "execution_count": 77,
   "id": "95cdc999",
   "metadata": {},
   "outputs": [
    {
     "name": "stdout",
     "output_type": "stream",
     "text": [
      "p-value: 4.527131533131016e-06\n"
     ]
    }
   ],
   "source": [
    "# perform one-way ANOVA\n",
    "# pass the given data\n",
    "test_stat, p_val = stats.f_oneway(df_emp[df_emp['BusinessTravel'] == 'Travel_Rarely']['DailyRate'],\n",
    "                                  df_emp[df_emp['BusinessTravel'] == 'Travel_Frequently']['DailyRate'],\n",
    "                                  df_emp[df_emp['BusinessTravel'] == 'Non-Travel']['DailyRate'])\n",
    "\n",
    "# print the p-value\n",
    "print('p-value:', p_val)"
   ]
  },
  {
   "cell_type": "markdown",
   "id": "10f82c23",
   "metadata": {},
   "source": [
    "The above output shows that the p-value is less than 0.01. Thus we reject the null hypothesis and conclude that the average daily rate for at least one type of business travel is different."
   ]
  },
  {
   "cell_type": "markdown",
   "id": "07b8dfb9",
   "metadata": {},
   "source": [
    "<table align=\"left\">\n",
    "    <tr>\n",
    "        <td width=\"6%\">\n",
    "            <img src=\"question_icon.png\">\n",
    "        </td>\n",
    "        <td>\n",
    "            <div align=\"left\", style=\"font-size:120%\">\n",
    "                <font color=\"#21618C\">\n",
    "                    <b>15. Find the types of business travel for which the average daily rate is different. Use a 1% level of significance.</b>\n",
    "                </font>\n",
    "            </div>\n",
    "        </td>\n",
    "    </tr>\n",
    "</table>"
   ]
  },
  {
   "cell_type": "markdown",
   "id": "d07265cc",
   "metadata": {},
   "source": [
    "The previous output shows that the one-way ANOVA rejects the null hypothesis. This implies that there is at least one of the types of business travel for which the daily rate of an employee is different."
   ]
  },
  {
   "cell_type": "code",
   "execution_count": 85,
   "id": "5d10139f",
   "metadata": {},
   "outputs": [
    {
     "data": {
      "text/plain": [
       "Travel_Rarely        18\n",
       "Non-Travel           18\n",
       "Travel_Frequently    18\n",
       "Name: BusinessTravel, dtype: int64"
      ]
     },
     "execution_count": 85,
     "metadata": {},
     "output_type": "execute_result"
    }
   ],
   "source": [
    "# number of employees for each type of business travel \n",
    "df_emp['BusinessTravel'].value_counts()"
   ]
  },
  {
   "cell_type": "markdown",
   "id": "87c278de",
   "metadata": {},
   "source": [
    "The count of employees for each type of business travel is equal. Thus we use the Tukey hsd test for post-hoc analysis. "
   ]
  },
  {
   "cell_type": "code",
   "execution_count": 86,
   "id": "a1af4e14",
   "metadata": {},
   "outputs": [
    {
     "data": {
      "text/html": [
       "<table class=\"simpletable\">\n",
       "<caption>Multiple Comparison of Means - Tukey HSD, FWER=0.01</caption>\n",
       "<tr>\n",
       "       <th>group1</th>            <th>group2</th>       <th>meandiff</th>   <th>p-adj</th>   <th>lower</th>     <th>upper</th>  <th>reject</th>\n",
       "</tr>\n",
       "<tr>\n",
       "     <td>Non-Travel</td>     <td>Travel_Frequently</td> <td>639.7778</td>   <td>0.001</td> <td>289.6312</td>  <td>989.9243</td>  <td>True</td> \n",
       "</tr>\n",
       "<tr>\n",
       "     <td>Non-Travel</td>       <td>Travel_Rarely</td>   <td>242.6667</td>  <td>0.0972</td> <td>-107.4799</td> <td>592.8132</td>  <td>False</td>\n",
       "</tr>\n",
       "<tr>\n",
       "  <td>Travel_Frequently</td>   <td>Travel_Rarely</td>   <td>-397.1111</td> <td>0.0031</td> <td>-747.2577</td> <td>-46.9646</td>  <td>True</td> \n",
       "</tr>\n",
       "</table>"
      ],
      "text/plain": [
       "<class 'statsmodels.iolib.table.SimpleTable'>"
      ]
     },
     "execution_count": 86,
     "metadata": {},
     "output_type": "execute_result"
    }
   ],
   "source": [
    "# perform tukey's range test to compare the mean daily rate for pair of business travels\n",
    "# pass the daily rate to the parameter, 'data'\n",
    "# pass the type of business travel to the parameter, 'groups'\n",
    "comp = mc.MultiComparison(data = df_emp['DailyRate'], groups = df_emp['BusinessTravel'])\n",
    "\n",
    "# tukey's range test\n",
    "# pass the alpha value as 0.01 to get the 99% confidence interval \n",
    "post_hoc = comp.tukeyhsd(alpha = 0.01)\n",
    "\n",
    "# print the summary table\n",
    "post_hoc.summary()"
   ]
  },
  {
   "cell_type": "markdown",
   "id": "7a6e72fa",
   "metadata": {},
   "source": [
    "The `reject=False` for pair (Non-Travel, Travel_Rarely) denotes that we fail to reject the null hypothesis; and conclude that the average daily rate for employees who do not travel and employees who travel rarely is same.\n",
    "\n",
    "The `reject=True` for the pairs (Non-Travel, Travel_Frequently), (Travel_Frequently, Travel_Rarely) denotes that we reject the null hypothesis; and conclude that the average daily rate is not the same."
   ]
  },
  {
   "cell_type": "code",
   "execution_count": null,
   "id": "21c30fd8",
   "metadata": {},
   "outputs": [],
   "source": []
  }
 ],
 "metadata": {
  "kernelspec": {
   "display_name": "Python 3 (ipykernel)",
   "language": "python",
   "name": "python3"
  },
  "language_info": {
   "codemirror_mode": {
    "name": "ipython",
    "version": 3
   },
   "file_extension": ".py",
   "mimetype": "text/x-python",
   "name": "python",
   "nbconvert_exporter": "python",
   "pygments_lexer": "ipython3",
   "version": "3.9.7"
  }
 },
 "nbformat": 4,
 "nbformat_minor": 5
}
