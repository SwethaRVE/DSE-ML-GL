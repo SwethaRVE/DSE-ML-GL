{
 "cells": [
  {
   "cell_type": "markdown",
   "metadata": {
    "id": "0yzl3MKzf98L"
   },
   "source": [
    "<table align=\"center\" width=100%>\n",
    "    <tr>\n",
    "        <td width=\"10%\">\n",
    "            <img src=\"GL-2.png\">\n",
    "            <img src=\"in_class.png\">\n",
    "        </td>\n",
    "        <td>\n",
    "            <div align=\"center\">\n",
    "                <font color=\"#21618C\" size=8px>\n",
    "                    <b> Inclass-Lab  <br>(Week 2)\n",
    "                    </b>\n",
    "                </font>\n",
    "            </div>\n",
    "        </td>\n",
    "    </tr>\n",
    "</table>"
   ]
  },
  {
   "cell_type": "markdown",
   "metadata": {
    "id": "m6MXXUUKbEIe"
   },
   "source": [
    "## Table of Content\n",
    "\n",
    "1. **[Binomial Distributions](#BDist)**\n",
    "2. **[Normal Distribution](#NDist)**\n",
    "3. **[Central Limit Theorem](#CLT)**"
   ]
  },
  {
   "cell_type": "markdown",
   "metadata": {
    "id": "llGBynkqbEIe"
   },
   "source": [
    "**Import the required libraries**"
   ]
  },
  {
   "cell_type": "code",
   "execution_count": 1,
   "metadata": {
    "id": "VemSAi3RbEIf"
   },
   "outputs": [
    {
     "name": "stdout",
     "output_type": "stream",
     "text": [
      "All libraries have been imported\n"
     ]
    }
   ],
   "source": [
    "# import 'pandas'\n",
    "import pandas as pd\n",
    "\n",
    "# import 'numpy' \n",
    "import numpy as np\n",
    "\n",
    "# import 'matplotlib.pyplot'\n",
    "import matplotlib.pyplot as plt\n",
    "\n",
    "# to suppress warnings \n",
    "from warnings import filterwarnings\n",
    "filterwarnings('ignore')\n",
    "\n",
    "# import 'factorial' from math library\n",
    "from math import factorial\n",
    "\n",
    "# import 'stats' package from scipy library\n",
    "from scipy import stats\n",
    "from scipy.stats import randint\n",
    "\n",
    "# import 'random' to generate a random sample\n",
    "import random\n",
    "import seaborn as sns\n",
    "\n",
    "print(\"All libraries have been imported\")"
   ]
  },
  {
   "cell_type": "markdown",
   "metadata": {
    "id": "psOYFu6zf98N"
   },
   "source": [
    "### Let's begin with some hands-on practice exercises"
   ]
  },
  {
   "cell_type": "markdown",
   "metadata": {},
   "source": [
    "<a id='BDist'></a>\n",
    "## 1. Binomial Distributions"
   ]
  },
  {
   "cell_type": "markdown",
   "metadata": {},
   "source": [
    "<table align=\"left\">\n",
    "    <tr>\n",
    "        <td width=\"6%\">\n",
    "            <img src=\"question_icon.png\">\n",
    "        </td>\n",
    "        <td>\n",
    "            <div align=\"left\", style=\"font-size:120%\">\n",
    "                <font color=\"#21618C\">\n",
    "                    <b>1. A Survey conducted in Bangalore reports that 70% people prefer non-veg for dinner while 30% people prefer veg for dinner. A random sample of 40 people are selected in Bangalore. Find the probability that exactly 10 people prefer veg for dinner </b>\n",
    "                </font>\n",
    "            </div>\n",
    "        </td>\n",
    "    </tr>\n",
    "</table>"
   ]
  },
  {
   "cell_type": "code",
   "execution_count": 2,
   "metadata": {},
   "outputs": [
    {
     "name": "stdout",
     "output_type": "stream",
     "text": [
      "The probability that exactly 10 people prefer veg for dinner is  0.113\n"
     ]
    }
   ],
   "source": [
    "# use 'binom.pmf()' to calculate the pmf for binomial distribution\n",
    "# pass the required value of customers to the parameter, 'k' \n",
    "# pass number of total customers to the parameter, 'n'\n",
    "# here the success is the customer's complaint about the products with probability 0.32\n",
    "prob = stats.binom.pmf(k = 10,n = 40,p = 0.30)\n",
    "# use 'round()' to round-off the value to 3 digits\n",
    "prob = round(prob, 3)\n",
    "print('The probability that exactly 10 people prefer veg for dinner is ', prob)"
   ]
  },
  {
   "cell_type": "markdown",
   "metadata": {},
   "source": [
    "<table align=\"left\">\n",
    "    <tr>\n",
    "        <td width=\"6%\">\n",
    "            <img src=\"question_icon.png\">\n",
    "        </td>\n",
    "        <td>\n",
    "            <div align=\"left\", style=\"font-size:120%\">\n",
    "                <font color=\"#21618C\">\n",
    "                    <b>2.Probability of choosing a red bike is 46%.  If 28 people are randomly selected, find the probability that less then 12 are choosing red bikes.</b>\n",
    "                </font>\n",
    "            </div>\n",
    "        </td>\n",
    "    </tr>\n",
    "</table>"
   ]
  },
  {
   "cell_type": "code",
   "execution_count": 3,
   "metadata": {},
   "outputs": [
    {
     "name": "stdout",
     "output_type": "stream",
     "text": [
      "The probability that less then 12 people choose red bikes is  0.445\n"
     ]
    }
   ],
   "source": [
    "# use 'binom.cdf()' to calculate the cdf for binomial distribution\n",
    "# pass the required value of customers to the parameter, 'k' \n",
    "# pass number of total customers to the parameter, 'n'\n",
    "# here the success is the customer's complaint about the products with probability 0.32\n",
    "prob = stats.binom.cdf(k = 12,n = 28,p = 0.46)\n",
    "# use 'round()' to round-off the value to 3 digits\n",
    "prob = round(prob, 3)\n",
    "print('The probability that less then 12 people choose red bikes is ', prob)"
   ]
  },
  {
   "cell_type": "markdown",
   "metadata": {},
   "source": [
    "<table align=\"left\">\n",
    "    <tr>\n",
    "        <td width=\"6%\">\n",
    "            <img src=\"question_icon.png\">\n",
    "        </td>\n",
    "        <td>\n",
    "            <div align=\"left\", style=\"font-size:120%\">\n",
    "                <font color=\"#21618C\">\n",
    "                    <b>3.A LED bulb manufacturing company regularly conducts quality checks at specified periods on the products it manufactures. Historically, the failure rate for LED light bulbs that the company manufactures is 5%. Suppose a random sample of 10 LED light bulbs is selected.</b>\n",
    "                </font>\n",
    "            </div>\n",
    "        </td>\n",
    "    </tr>\n",
    "</table>"
   ]
  },
  {
   "cell_type": "markdown",
   "metadata": {},
   "source": [
    "<table align=\"left\">\n",
    "    <tr>\n",
    "        <td>\n",
    "            <div align=\"left\", style=\"font-size:120%\">\n",
    "                <font color=\"#21618C\">\n",
    "                                    <b>a) What is the probability that none of one of the LED bulbs are defective?</b>\n",
    "                </font>\n",
    "            </div>\n",
    "        </td>\n",
    "    </tr>\n",
    "</table>"
   ]
  },
  {
   "cell_type": "code",
   "execution_count": 4,
   "metadata": {},
   "outputs": [
    {
     "name": "stdout",
     "output_type": "stream",
     "text": [
      "The probability that none of one of the LED bulbs are defective is  0.599\n"
     ]
    }
   ],
   "source": [
    "# use 'binom.pmf()' to calculate the pmf for binomial distribution\n",
    "# pass the required value of bulbs to the parameter, 'k' \n",
    "# pass number of total bulbs to the parameter, 'n'\n",
    "# here probability of led light bulbs failure is 5%.\n",
    "# note here we use P(X=k)=binom.pmf(k)\n",
    "prob = stats.binom.pmf(k = 0,n = 10,p = 0.05)\n",
    "# use 'round()' to round-off the value to 3 digits\n",
    "prob = round(prob, 3)\n",
    "print('The probability that none of one of the LED bulbs are defective is ', prob)"
   ]
  },
  {
   "cell_type": "markdown",
   "metadata": {},
   "source": [
    "<table align=\"left\">\n",
    "    <tr>\n",
    "        <td>\n",
    "            <div align=\"left\", style=\"font-size:120%\">\n",
    "                <font color=\"#21618C\">\n",
    "                                    <b>b) What is the probability that exactly one of the LED bulbs is defective??</b>\n",
    "                </font>\n",
    "            </div>\n",
    "        </td>\n",
    "    </tr>\n",
    "</table>"
   ]
  },
  {
   "cell_type": "code",
   "execution_count": 5,
   "metadata": {},
   "outputs": [
    {
     "name": "stdout",
     "output_type": "stream",
     "text": [
      "The probability that exactly one of the LED bubls is defective is  0.315\n"
     ]
    }
   ],
   "source": [
    "# use 'binom.pmf()' to calculate the pmf for binomial distribution\n",
    "# pass the required value of bulbs to the parameter, 'k' \n",
    "# pass number of total bulbs to the parameter, 'n'\n",
    "# here probability of led light bulbs failure p, is 5%.\n",
    "# note here we use P(X=k)=binom.pmf(k)\n",
    "prob = stats.binom.pmf(k = 1,n = 10,p = 0.05)\n",
    "# use 'round()' to round-off the value to 3 digits\n",
    "prob = round(prob, 3)\n",
    "print('The probability that exactly one of the LED bubls is defective is ', prob)"
   ]
  },
  {
   "cell_type": "markdown",
   "metadata": {},
   "source": [
    "<table align=\"left\">\n",
    "    <tr>\n",
    "        <td>\n",
    "            <div align=\"left\", style=\"font-size:120%\">\n",
    "                <font color=\"#21618C\">\n",
    "                                    <b>c) What is the probability that two or fewer of the LED bulbs are defective?</b>\n",
    "                </font>\n",
    "            </div>\n",
    "        </td>\n",
    "    </tr>\n",
    "</table>"
   ]
  },
  {
   "cell_type": "code",
   "execution_count": 6,
   "metadata": {},
   "outputs": [
    {
     "name": "stdout",
     "output_type": "stream",
     "text": [
      "The probability that two or fewer of the LED bulbs are defective is  0.988\n"
     ]
    }
   ],
   "source": [
    "# use 'binom.cdf()' to calculate the cdf for binomial distribution\n",
    "# pass the required value of bulbs to the parameter, 'k' \n",
    "# pass number of total bulbs to the parameter, 'n'\n",
    "# here probability of led light bulbs failure p is 5%.\n",
    "# note that P(X<=k) =binom.cdf(k)\n",
    "prob = stats.binom.cdf(k = 2,n = 10,p = 0.05)\n",
    "# use 'round()' to round-off the value to 3 digits\n",
    "prob = round(prob, 3)\n",
    "print('The probability that two or fewer of the LED bulbs are defective is ', prob)"
   ]
  },
  {
   "cell_type": "markdown",
   "metadata": {},
   "source": [
    "<table align=\"left\">\n",
    "    <tr>\n",
    "        <td>\n",
    "            <div align=\"left\", style=\"font-size:120%\">\n",
    "                <font color=\"#21618C\">\n",
    "                                    <b>d) What is the probability that three or more of the LED bulbs are defective?</b>\n",
    "                </font>\n",
    "            </div>\n",
    "        </td>\n",
    "    </tr>\n",
    "</table>"
   ]
  },
  {
   "cell_type": "code",
   "execution_count": 7,
   "metadata": {},
   "outputs": [
    {
     "name": "stdout",
     "output_type": "stream",
     "text": [
      "The probability that three or more of the LED bulbs are defective is  0.012\n"
     ]
    }
   ],
   "source": [
    "# use 'binom.sf()' to calculate the sf for binomial distribution\n",
    "# pass the required value of bulbs to the parameter, 'k' \n",
    "# pass number of total bulbs to the parameter, 'n'\n",
    "# here probability of led light bulbs failure, p is 5%.\n",
    "# Note P(X>=k) = binom.sf(k-1)\n",
    "prob = stats.binom.sf(k = 2,n = 10,p = 0.05)\n",
    "# use 'round()' to round-off the value to 3 digits\n",
    "prob = round(prob, 3)\n",
    "print('The probability that three or more of the LED bulbs are defective is ', prob)"
   ]
  },
  {
   "cell_type": "markdown",
   "metadata": {},
   "source": [
    "<table align=\"left\">\n",
    "    <tr>\n",
    "        <td>\n",
    "            <div align=\"left\", style=\"font-size:120%\">\n",
    "                <font color=\"#21618C\">\n",
    "                                    <b>e) What is the probability that between 3 to 7 LED bulbs (both inclusive) are defective?</b>\n",
    "                </font>\n",
    "            </div>\n",
    "        </td>\n",
    "    </tr>\n",
    "</table>"
   ]
  },
  {
   "cell_type": "code",
   "execution_count": 8,
   "metadata": {},
   "outputs": [
    {
     "name": "stdout",
     "output_type": "stream",
     "text": [
      "The probability that three or more of the LED bulbs are defective is  0.012\n"
     ]
    }
   ],
   "source": [
    "# use 'binom.cdf(k1)-binom.cdf(k2-1)\n",
    "# pass the required value of bulbs to the parameter, 'k' \n",
    "# pass number of total bulbs to the parameter, 'n'\n",
    "# here probability of led light bulbs failure, p is 5%.\n",
    "prob = stats.binom.cdf(k = 7,n = 10,p = 0.05)- stats.binom.cdf(k = 2,n = 10,p = 0.05)\n",
    "# use 'round()' to round-off the value to 3 digits\n",
    "prob = round(prob, 3)\n",
    "print('The probability that three or more of the LED bulbs are defective is ', prob)"
   ]
  },
  {
   "cell_type": "markdown",
   "metadata": {
    "id": "OL9cj_rRf983"
   },
   "source": [
    "<a id= \"NDist\"></a>\n",
    "## 2. Normal Distributions"
   ]
  },
  {
   "cell_type": "markdown",
   "metadata": {
    "id": "3uPwVwgAf99s"
   },
   "source": [
    "<table align=\"left\">\n",
    "    <tr>\n",
    "        <td width=\"6%\">\n",
    "            <img src=\"question_icon.png\">\n",
    "        </td>\n",
    "        <td>\n",
    "            <div align=\"left\", style=\"font-size:120%\">\n",
    "                <font color=\"#21618C\">\n",
    "                    <b>4.The average weight of a population of patients is 80 kg with a standard deviation of 20 kg. The dietitian has offered a meal plan for 30 randomly selected patients. After two months of starting the diet, she has collected the data of weights for all the patients. What is the probability that the an individual patient's weight is between 70 to 90 kg?  </b>\n",
    "                </font>\n",
    "            </div>\n",
    "        </td>\n",
    "    </tr>\n",
    "</table>"
   ]
  },
  {
   "cell_type": "markdown",
   "metadata": {
    "id": "SKMdkMHXdLg0"
   },
   "source": [
    "Consider a continuous random variable X representing the weight of a person. Here X follows a normal distribution with mean 80 and standard deviation as 20."
   ]
  },
  {
   "cell_type": "code",
   "execution_count": 62,
   "metadata": {
    "executionInfo": {
     "elapsed": 3195,
     "status": "aborted",
     "timestamp": 1616408600064,
     "user": {
      "displayName": "Mallikarjuna Doddamane",
      "photoUrl": "https://lh3.googleusercontent.com/a-/AOh14GjOdnL6KUzzQMPHfk6as2xRMsOSbJoBMF9oJSaK=s64",
      "userId": "11697854241316775674"
     },
     "user_tz": -330
    },
    "id": "K16J6RgZdLg0",
    "outputId": "daa05a01-0161-4fb4-fe3b-98d8f10bddbd"
   },
   "outputs": [
    {
     "name": "stdout",
     "output_type": "stream",
     "text": [
      "The probability that the weight of a person is between 70 to 90 kg is 0.383\n"
     ]
    }
   ],
   "source": [
    "# average weight\n",
    "avg = 80\n",
    "\n",
    "# standard deviation \n",
    "std = 20\n",
    "\n",
    "# standardize the variable with x = 70\n",
    "z_70 = (70 - avg) / std\n",
    "\n",
    "# 'cdf()' returns the P(Z <= z)\n",
    "p_70 = stats.norm.cdf(z_70)\n",
    "\n",
    "# standardize the variable with x = 90\n",
    "z_90 = (90 - avg) / std\n",
    "\n",
    "# 'cdf()' returns the P(Z <= z) \n",
    "p_90 = stats.norm.cdf(z_90)\n",
    "\n",
    "# calculate the difference between 'p_90' and 'p_70' to find the required probability\n",
    "prob = p_90 - p_70\n",
    "\n",
    "# use 'round()' to round-off the value to 3 digits\n",
    "prob = round(prob, 3)\n",
    "\n",
    "print('The probability that the weight of a person is between 70 to 90 kg is', prob)"
   ]
  },
  {
   "cell_type": "markdown",
   "metadata": {
    "id": "DHBCiFzObEIi"
   },
   "source": [
    "<table align=\"left\">\n",
    "    <tr>\n",
    "        <td width=\"6%\">\n",
    "            <img src=\"question_icon.png\">\n",
    "        </td>\n",
    "        <td>\n",
    "            <div align=\"left\", style=\"font-size:120%\">\n",
    "                <font color=\"#21618C\">\n",
    "                                    <b>5. The mean salaries of Data Scientists working in Chennai, India is calculated to be 7,00,000 INR with a standard deviation of 90,000 INR. The random variable salary of Data Scientists follows a normal distribution.</b>\n",
    "                </font>\n",
    "            </div>\n",
    "        </td>\n",
    "    </tr>\n",
    "</table>"
   ]
  },
  {
   "cell_type": "markdown",
   "metadata": {
    "id": "FiiyznwSbEIi"
   },
   "source": [
    "<table align=\"left\">\n",
    "    <tr>\n",
    "        <td>\n",
    "            <div align=\"left\", style=\"font-size:120%\">\n",
    "                <font color=\"#21618C\">\n",
    "                                    <b>a) What is the probability that a Data Scientist in Chennai has a salary more than 10,00,000 INR?</b>\n",
    "                </font>\n",
    "            </div>\n",
    "        </td>\n",
    "    </tr>\n",
    "</table>"
   ]
  },
  {
   "cell_type": "code",
   "execution_count": 63,
   "metadata": {
    "id": "d2AxXZUBbEIj"
   },
   "outputs": [],
   "source": [
    "mu    =  700000\n",
    "sigma =  90000\n",
    "z=(1000000-mu) / sigma "
   ]
  },
  {
   "cell_type": "code",
   "execution_count": 64,
   "metadata": {
    "id": "hycTroRKbEIj",
    "outputId": "25bf38d3-4fd6-4492-bb3d-e5bca56e99e3"
   },
   "outputs": [
    {
     "name": "stdout",
     "output_type": "stream",
     "text": [
      " a) Probability that a Data Scientist in Chennai has a salary more than 10,00,000 is 0.0004\n"
     ]
    }
   ],
   "source": [
    "P = 1 - stats.norm.cdf(z)\n",
    "print(' a) Probability that a Data Scientist in Chennai has a salary more than 10,00,000 is %1.4f' % P)"
   ]
  },
  {
   "cell_type": "markdown",
   "metadata": {
    "id": "jhsxf-wobEIj"
   },
   "source": [
    "<table align=\"left\">\n",
    "    <tr>\n",
    "        <td>\n",
    "            <div align=\"left\", style=\"font-size:120%\">\n",
    "                <font color=\"#21618C\">\n",
    "                                    <b>b) What is the probability that a Data Scientist in Chennai has a salary between 6,00,000 & 9,00,000 INR?</b>\n",
    "                </font>\n",
    "            </div>\n",
    "        </td>\n",
    "    </tr>\n",
    "</table>"
   ]
  },
  {
   "cell_type": "code",
   "execution_count": 65,
   "metadata": {
    "id": "oi9lPIxxbEIk"
   },
   "outputs": [],
   "source": [
    "z1= (600000-mu) / sigma\n",
    "z2= (900000-mu) / sigma"
   ]
  },
  {
   "cell_type": "code",
   "execution_count": 66,
   "metadata": {
    "id": "1h2kNR8nbEIk",
    "outputId": "715f3912-bef6-4ca0-e4e0-3b0ea38d9f42"
   },
   "outputs": [
    {
     "name": "stdout",
     "output_type": "stream",
     "text": [
      " b) probability that a Data Scientist in Chennai has a salary between 6,00,000 & 9,00,000 INR is 0.8536\n"
     ]
    }
   ],
   "source": [
    "P = stats.norm.cdf(z2) - stats.norm.cdf(z1)\n",
    "print(' b) probability that a Data Scientist in Chennai has a salary between 6,00,000 & 9,00,000 INR is %1.4f' % P)"
   ]
  },
  {
   "cell_type": "markdown",
   "metadata": {
    "id": "elKOfWzHbEIk"
   },
   "source": [
    "<table align=\"left\">\n",
    "    <tr>\n",
    "        <td>\n",
    "            <div align=\"left\", style=\"font-size:120%\">\n",
    "                <font color=\"#21618C\">\n",
    "                                    <b>c) What is the probability that a Data Scientist in Chennai has a salary less than 4,00,000 INR?</b>\n",
    "                </font>\n",
    "            </div>\n",
    "        </td>\n",
    "    </tr>\n",
    "</table>"
   ]
  },
  {
   "cell_type": "code",
   "execution_count": 67,
   "metadata": {
    "id": "1yVQLEzWbEIl"
   },
   "outputs": [],
   "source": [
    "z = (400000-mu) / sigma "
   ]
  },
  {
   "cell_type": "code",
   "execution_count": 68,
   "metadata": {
    "id": "3ow8MkqPbEIl",
    "outputId": "c1c89a56-83bd-4806-99fe-119056bbe501"
   },
   "outputs": [
    {
     "name": "stdout",
     "output_type": "stream",
     "text": [
      " c) Probability that a Data Scientist in Chennai has a salary less than 4,00,000 INR is 0.0004\n"
     ]
    }
   ],
   "source": [
    "P = stats.norm.cdf(z)\n",
    "print(' c) Probability that a Data Scientist in Chennai has a salary less than 4,00,000 INR is %1.4f' % P)"
   ]
  },
  {
   "cell_type": "markdown",
   "metadata": {},
   "source": [
    "<table align=\"left\">\n",
    "    <tr>\n",
    "        <td width=\"6%\">\n",
    "            <img src=\"question_icon.png\">\n",
    "        </td>\n",
    "        <td>\n",
    "            <div align=\"left\", style=\"font-size:120%\">\n",
    "                <font color=\"#21618C\">\n",
    "                                    <b>6. The average meat consumption in a city is 119 pounds. Assume that the standard deviation is 15 pounds and the distribution is approximately normal.Find the probability that a person selected at random consumes more than 126 pounds per year</b>\n",
    "                </font>\n",
    "            </div>\n",
    "        </td>\n",
    "    </tr>\n",
    "</table>"
   ]
  },
  {
   "cell_type": "code",
   "execution_count": 69,
   "metadata": {},
   "outputs": [
    {
     "name": "stdout",
     "output_type": "stream",
     "text": [
      "The probability that a randomly selected person consumes more than 136 pounds is 0.32\n"
     ]
    }
   ],
   "source": [
    "# average consumption\n",
    "avg = 119\n",
    "\n",
    "# standard deviation \n",
    "std = 15\n",
    "\n",
    "# standardize the variable with x = 136\n",
    "z_126 = (126 - avg) / std\n",
    "\n",
    "# 'cdf()' returns the P(Z <= z) \n",
    "p_126 = stats.norm.cdf(z_126)\n",
    "\n",
    "# calculate the complement to find the required probability\n",
    "prob = 1-p_126\n",
    "\n",
    "# use 'round()' to round-off the value to 3 digits\n",
    "prob = round(prob, 3)\n",
    "\n",
    "print('The probability that a randomly selected person consumes more than 136 pounds is', prob)"
   ]
  },
  {
   "cell_type": "markdown",
   "metadata": {
    "id": "GhwNCvTmf99O"
   },
   "source": [
    "<a id=\"CLT\"></a>\n",
    "## 3. Central Limit Theorem"
   ]
  },
  {
   "cell_type": "markdown",
   "metadata": {
    "id": "IPC8xMntbEIm"
   },
   "source": [
    "<table align=\"left\">\n",
    "    <tr>\n",
    "        <td width=\"6%\">\n",
    "            <img src=\"question_icon.png\">\n",
    "        </td>\n",
    "        <td>\n",
    "            <div align=\"left\", style=\"font-size:120%\">\n",
    "                <font color=\"#21618C\">\n",
    "                    <b>7. Perform Central Limit Theorem on Left Skewed data with sample size 150 and number of samples as 75.</b>\n",
    "                </font>\n",
    "            </div>\n",
    "        </td>\n",
    "    </tr>\n",
    "</table>"
   ]
  },
  {
   "cell_type": "code",
   "execution_count": 70,
   "metadata": {
    "id": "9vJ64rr7bEIm",
    "outputId": "54b4f476-e372-4067-fa0e-307fc9ce38f8"
   },
   "outputs": [
    {
     "data": {
      "text/plain": [
       "<AxesSubplot:ylabel='Density'>"
      ]
     },
     "execution_count": 70,
     "metadata": {},
     "output_type": "execute_result"
    },
    {
     "data": {
      "image/png": "[encoded data removed]",
      "text/plain": [
       "<Figure size 432x288 with 1 Axes>"
      ]
     },
     "metadata": {
      "needs_background": "light"
     },
     "output_type": "display_data"
    }
   ],
   "source": [
    "pop=stats.skewnorm.rvs(a=-20,size=100000,random_state=0)\n",
    "sns.distplot(pop)"
   ]
  },
  {
   "cell_type": "code",
   "execution_count": 71,
   "metadata": {
    "id": "gyMLKUx3bEIm",
    "outputId": "1c8736d3-74af-4b48-9649-1320a7bfea54",
    "scrolled": false
   },
   "outputs": [
    {
     "name": "stdout",
     "output_type": "stream",
     "text": [
      "0.0651843564959349\n"
     ]
    },
    {
     "data": {
      "image/png": "[encoded data removed]",
      "text/plain": [
       "<Figure size 432x288 with 1 Axes>"
      ]
     },
     "metadata": {
      "needs_background": "light"
     },
     "output_type": "display_data"
    }
   ],
   "source": [
    "sample_size =150 # sample size\n",
    "no_of_sample = 75 # no of sample\n",
    "sample_mean_list=[]   # sampling means\n",
    "for i in range(no_of_sample):\n",
    "    sample  = np.random.choice(pop,size= sample_size,replace=False) # taking sample from pop\n",
    "    sample_mean = np.mean(sample) # finding sample mean\n",
    "    sample_mean_list.append(sample_mean) # appending sample mean\n",
    "print(pd.Series(sample_mean_list).skew())\n",
    "sns.distplot(sample_mean_list) # distribution of sample means - sampling distribution\n",
    "plt.show()\n",
    "# When sample size is increased, data becomes more normal."
   ]
  },
  {
   "cell_type": "markdown",
   "metadata": {},
   "source": [
    "<table align=\"left\">\n",
    "    <tr>\n",
    "        <td width=\"6%\">\n",
    "            <img src=\"question_icon.png\">\n",
    "        </td>\n",
    "        <td>\n",
    "            <div align=\"left\", style=\"font-size:120%\">\n",
    "                <font color=\"#21618C\">\n",
    "                                    <b>8. The average meat consumption in a city is 119 pounds per year. Assume that the standard deviation is 15 pounds and the distribution is approximately normal. If a sample of 20 individuals are selected find the probability that the mean of the sample will be less than 126 pounds per year</b>\n",
    "                </font>\n",
    "            </div>\n",
    "        </td>\n",
    "    </tr>\n",
    "</table>"
   ]
  },
  {
   "cell_type": "code",
   "execution_count": 73,
   "metadata": {},
   "outputs": [
    {
     "name": "stdout",
     "output_type": "stream",
     "text": [
      "The probability that the mean of the sample will be less than 126 pounds is 0.982\n"
     ]
    }
   ],
   "source": [
    "# average consumption\n",
    "avg = 119\n",
    "\n",
    "# standard deviation \n",
    "std = 15\n",
    "\n",
    "# sample size \n",
    "n=20\n",
    "\n",
    "# standardize the variable using Central Limit Theorem Formula \n",
    "z_126 = (126 - avg) / (std/np.sqrt(n))\n",
    "\n",
    "# 'cdf()' returns the P(Z <= z)\n",
    "p_126 = stats.norm.cdf(z_126)\n",
    "\n",
    "# use 'round()' to round-off the value to 3 digits\n",
    "prob = round(p_126, 3)\n",
    "\n",
    "print('The probability that the mean of the sample will be less than 126 pounds is', prob)"
   ]
  },
  {
   "cell_type": "markdown",
   "metadata": {},
   "source": [
    "<table align=\"left\">\n",
    "    <tr>\n",
    "        <td width=\"6%\">\n",
    "            <img src=\"question_icon.png\">\n",
    "        </td>\n",
    "        <td>\n",
    "            <div align=\"left\", style=\"font-size:120%\">\n",
    "                <font color=\"#21618C\">\n",
    "                                    <b>9. The average age of a two wheeler is 84 months. Assume that the standard deviation is 14 months. If a random sample of 36 two wheelers is selected, find the probability that the mean of their age is between 76 and 90 months.\n",
    "                </font>\n",
    "            </div>\n",
    "        </td>\n",
    "    </tr>\n",
    "</table>"
   ]
  },
  {
   "cell_type": "code",
   "execution_count": 76,
   "metadata": {},
   "outputs": [
    {
     "name": "stdout",
     "output_type": "stream",
     "text": [
      "The probability that the age of the two wheeler is between 76 to 90 months is 0.995\n"
     ]
    }
   ],
   "source": [
    "# average age\n",
    "avg = 84\n",
    "\n",
    "# standard deviation \n",
    "std = 14\n",
    "\n",
    "# sample size \n",
    "n=36\n",
    "\n",
    "# standardize the variable with x = 76 using CLT\n",
    "z_76 = (76 - avg) / (std/np.sqrt(n))\n",
    "\n",
    "# 'cdf()' returns the P(Z <= z) i.e P(Z <= 76)\n",
    "p_76 = stats.norm.cdf(z_76)\n",
    "\n",
    "# standardize the variable with x = 90 using CLT\n",
    "z_90 = (90 - avg) / (std/np.sqrt(n))\n",
    "\n",
    "# 'cdf()' returns the P(Z <= z) i.e P(Z <= 90)\n",
    "p_90 = stats.norm.cdf(z_90)\n",
    "\n",
    "# calculate the difference between 'p_90' and 'p_76' to find the required probability\n",
    "prob = p_90 - p_76\n",
    "\n",
    "# use 'round()' to round-off the value to 3 digits\n",
    "prob = round(prob, 3)\n",
    "\n",
    "print('The probability that the age of the two wheeler is between 76 to 90 months is', prob)"
   ]
  },
  {
   "cell_type": "markdown",
   "metadata": {},
   "source": [
    "<table align=\"left\">\n",
    "    <tr>\n",
    "        <td width=\"6%\">\n",
    "            <img src=\"question_icon.png\">\n",
    "        </td>\n",
    "        <td>\n",
    "            <div align=\"left\", style=\"font-size:120%\">\n",
    "                <font color=\"#21618C\">\n",
    "                    <b>10. The average weight of a population of a community of patients is 80 kg with a standard deviation of 20 kg. If 30 patients are randomly selected What is the probability that the average weight of this sample is more than 85 kg? </b>\n",
    "                </font>\n",
    "            </div>\n",
    "        </td>\n",
    "    </tr>\n",
    "</table>"
   ]
  },
  {
   "cell_type": "code",
   "execution_count": 77,
   "metadata": {},
   "outputs": [
    {
     "name": "stdout",
     "output_type": "stream",
     "text": [
      "The probability that the mean weight the sample is more than 85 kg is 0.085\n"
     ]
    }
   ],
   "source": [
    "# As the sample size is 30 we can use the CLT Formula \n",
    "# average weight\n",
    "avg = 80\n",
    "\n",
    "# standard deviation \n",
    "std = 20\n",
    "\n",
    "# sample size \n",
    "n=30\n",
    "\n",
    "# standardize the variable with x_bar = 90 using CLT formula\n",
    "z_85 = (85 - avg) / (std/np.sqrt(n))\n",
    "\n",
    "# 'sf()' returns the P(Z > z) \n",
    "p_85 = stats.norm.sf(z_85)\n",
    "\n",
    "# use 'round()' to round-off the value to 3 digits\n",
    "prob = round(p_85, 3)\n",
    "\n",
    "print('The probability that the mean weight the sample is more than 85 kg is', prob)"
   ]
  },
  {
   "cell_type": "code",
   "execution_count": null,
   "metadata": {},
   "outputs": [],
   "source": []
  }
 ],
 "metadata": {
  "colab": {
   "name": "STAT - Week 1 - In-Class Lab Exercise  - Solution.ipynb",
   "provenance": []
  },
  "kernelspec": {
   "display_name": "Python 3 (ipykernel)",
   "language": "python",
   "name": "python3"
  },
  "language_info": {
   "codemirror_mode": {
    "name": "ipython",
    "version": 3
   },
   "file_extension": ".py",
   "mimetype": "text/x-python",
   "name": "python",
   "nbconvert_exporter": "python",
   "pygments_lexer": "ipython3",
   "version": "3.9.7"
  }
 },
 "nbformat": 4,
 "nbformat_minor": 1
}
