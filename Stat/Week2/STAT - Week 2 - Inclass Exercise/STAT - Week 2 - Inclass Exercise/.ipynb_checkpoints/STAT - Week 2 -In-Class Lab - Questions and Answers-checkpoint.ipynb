{
 "cells": [
  {
   "cell_type": "markdown",
   "metadata": {
    "colab_type": "text",
    "id": "0yzl3MKzf98L"
   },
   "source": [
    "<table align=\"center\" width=100%>\n",
    "    <tr>\n",
    "        <td width=\"20%\">\n",
    "            <img src=\"GL-2.png\">\n",
    "        </td>\n",
    "        <td>\n",
    "            <div align=\"center\">\n",
    "                <font color=\"#21618C\" size=8px>\n",
    "                    <b> Inclass-Lab  <br>(Week 2)\n",
    "                    </b>\n",
    "                </font>\n",
    "            </div>\n",
    "        </td>\n",
    "    </tr>\n",
    "</table>"
   ]
  },
  {
   "cell_type": "markdown",
   "metadata": {},
   "source": [
    "## Table of Content\n",
    "\n",
    "1. **[Binomial Distributions](#BDist)**\n",
    "2. **[Normal Distribution](#NDist)**\n",
    "3. **[Central Limit Theorem](#CLT)**"
   ]
  },
  {
   "cell_type": "markdown",
   "metadata": {},
   "source": [
    "**Import the required libraries**"
   ]
  },
  {
   "cell_type": "code",
   "execution_count": 2,
   "metadata": {},
   "outputs": [],
   "source": [
    "import pandas as pd\n",
    "import numpy as np\n",
    "import matplotlib as plt\n",
    "import seaborn as sns\n",
    "from scipy import stats\n",
    "from math import factorial\n",
    "from warnings import filterwarnings\n",
    "filterwarnings('ignore')\n",
    "import random\n",
    "from scipy.stats import randint"
   ]
  },
  {
   "cell_type": "markdown",
   "metadata": {
    "colab_type": "text",
    "id": "psOYFu6zf98N"
   },
   "source": [
    "### Let's begin with some hands-on practice exercises"
   ]
  },
  {
   "cell_type": "markdown",
   "metadata": {},
   "source": [
    "<a id= \"BDist\"></a>\n",
    "## 1. Binomial Distributions"
   ]
  },
  {
   "cell_type": "markdown",
   "metadata": {},
   "source": [
    "<table align=\"left\">\n",
    "    <tr>\n",
    "        <td width=\"6%\">\n",
    "            <img src=\"question_icon.png\">\n",
    "        </td>\n",
    "        <td>\n",
    "            <div align=\"left\", style=\"font-size:120%\">\n",
    "                <font color=\"#21618C\">\n",
    "                    <b>1. A Survey conducted in Bangalore reports that 70% people prefer non-veg for dinner while 30% people prefer veg for dinner. A random sample of 40 people are selected in Bangalore. Find the probability that exactly 10 people prefer veg for dinner </b>\n",
    "                </font>\n",
    "            </div>\n",
    "        </td>\n",
    "    </tr>\n",
    "</table>"
   ]
  },
  {
   "cell_type": "code",
   "execution_count": 7,
   "metadata": {},
   "outputs": [
    {
     "name": "stdout",
     "output_type": "stream",
     "text": [
      "0.1128\n"
     ]
    }
   ],
   "source": [
    "n = 40\n",
    "p = 0.3\n",
    "k = 10\n",
    "\n",
    "prob = stats.binom.pmf( p = p , n = n ,k = k)\n",
    "\n",
    "print(round(prob,4))"
   ]
  },
  {
   "cell_type": "markdown",
   "metadata": {},
   "source": [
    "<table align=\"left\">\n",
    "    <tr>\n",
    "        <td width=\"6%\">\n",
    "            <img src=\"question_icon.png\">\n",
    "        </td>\n",
    "        <td>\n",
    "            <div align=\"left\", style=\"font-size:120%\">\n",
    "                <font color=\"#21618C\">\n",
    "                    <b>2.Probability of choosing a red bike is 46%.  If 28 people are randomly selected, find the probability that less then 12 are choosing red bikes.</b>\n",
    "                </font>\n",
    "            </div>\n",
    "        </td>\n",
    "    </tr>\n",
    "</table>"
   ]
  },
  {
   "cell_type": "code",
   "execution_count": 8,
   "metadata": {},
   "outputs": [
    {
     "name": "stdout",
     "output_type": "stream",
     "text": [
      "The probability that less then 12 are choosing red bikes is :  0.445\n"
     ]
    }
   ],
   "source": [
    "n = 28\n",
    "p = 0.46\n",
    "k = 12\n",
    "\n",
    "prob = stats.binom.cdf(p = p , n = n ,k = k)\n",
    "\n",
    "print('The probability that less then 12 are choosing red bikes is : ' , round(prob,3))"
   ]
  },
  {
   "cell_type": "code",
   "execution_count": null,
   "metadata": {},
   "outputs": [],
   "source": []
  },
  {
   "cell_type": "markdown",
   "metadata": {},
   "source": [
    "<table align=\"left\">\n",
    "    <tr>\n",
    "        <td width=\"6%\">\n",
    "            <img src=\"question_icon.png\">\n",
    "        </td>\n",
    "        <td>\n",
    "            <div align=\"left\", style=\"font-size:120%\">\n",
    "                <font color=\"#21618C\">\n",
    "                    <b>3.A LED bulb manufacturing company regularly conducts quality checks at specified periods on the products it manufactures. Historically, the failure rate for LED light bulbs that the company manufactures is 5%. Suppose a random sample of 10 LED light bulbs is selected.</b>\n",
    "                </font>\n",
    "            </div>\n",
    "        </td>\n",
    "    </tr>\n",
    "</table>"
   ]
  },
  {
   "cell_type": "markdown",
   "metadata": {},
   "source": [
    "<table align=\"left\">\n",
    "    <tr>\n",
    "        <td>\n",
    "            <div align=\"left\", style=\"font-size:120%\">\n",
    "                <font color=\"#21618C\">\n",
    "                                    <b>a) What is the probability that none of one of the LED bulbs are defective?</b>\n",
    "                </font>\n",
    "            </div>\n",
    "        </td>\n",
    "    </tr>\n",
    "</table>"
   ]
  },
  {
   "cell_type": "code",
   "execution_count": 11,
   "metadata": {},
   "outputs": [
    {
     "name": "stdout",
     "output_type": "stream",
     "text": [
      "nan\n"
     ]
    }
   ],
   "source": [
    "P = stats.binom.cdf(10, 0.95, 0)\n",
    "print(P)"
   ]
  },
  {
   "cell_type": "code",
   "execution_count": 12,
   "metadata": {},
   "outputs": [
    {
     "name": "stdout",
     "output_type": "stream",
     "text": [
      "The probability that none of one of the LED bulbs are defective is : 0.599\n"
     ]
    }
   ],
   "source": [
    "n = 10\n",
    "p = 0.05\n",
    "k = 0\n",
    "\n",
    "prob = stats.binom.pmf(p = p , n = n ,k = k)\n",
    "\n",
    "print('The probability that none of one of the LED bulbs are defective is :' , round(prob,3))"
   ]
  },
  {
   "cell_type": "markdown",
   "metadata": {},
   "source": [
    "<table align=\"left\">\n",
    "    <tr>\n",
    "        <td>\n",
    "            <div align=\"left\", style=\"font-size:120%\">\n",
    "                <font color=\"#21618C\">\n",
    "                                    <b>b) What is the probability that exactly one of the LED bulbs is defective??</b>\n",
    "                </font>\n",
    "            </div>\n",
    "        </td>\n",
    "    </tr>\n",
    "</table>"
   ]
  },
  {
   "cell_type": "code",
   "execution_count": 14,
   "metadata": {},
   "outputs": [
    {
     "name": "stdout",
     "output_type": "stream",
     "text": [
      "The probability that exactly one of the LED bulbs is defective is :  0\n"
     ]
    }
   ],
   "source": [
    "n = 10\n",
    "p = 0.05\n",
    "k = 1\n",
    "\n",
    "prb = stats.binom.pmf(p = p , n = n ,k = k)\n",
    "\n",
    "print('The probability that exactly one of the LED bulbs is defective is : ' ,round(prb),)"
   ]
  },
  {
   "cell_type": "markdown",
   "metadata": {},
   "source": [
    "<table align=\"left\">\n",
    "    <tr>\n",
    "        <td>\n",
    "            <div align=\"left\", style=\"font-size:120%\">\n",
    "                <font color=\"#21618C\">\n",
    "                                    <b>c) What is the probability that two or fewer of the LED bulbs are defective?</b>\n",
    "                </font>\n",
    "            </div>\n",
    "        </td>\n",
    "    </tr>\n",
    "</table>"
   ]
  },
  {
   "cell_type": "code",
   "execution_count": 15,
   "metadata": {},
   "outputs": [],
   "source": [
    "n = 10\n",
    "p = 0.05\n",
    "k = 2\n"
   ]
  },
  {
   "cell_type": "markdown",
   "metadata": {},
   "source": [
    "<table align=\"left\">\n",
    "    <tr>\n",
    "        <td>\n",
    "            <div align=\"left\", style=\"font-size:120%\">\n",
    "                <font color=\"#21618C\">\n",
    "                                    <b>d) What is the probability that three or more of the LED bulbs are defective?</b>\n",
    "                </font>\n",
    "            </div>\n",
    "        </td>\n",
    "    </tr>\n",
    "</table>"
   ]
  },
  {
   "cell_type": "code",
   "execution_count": 16,
   "metadata": {},
   "outputs": [
    {
     "name": "stdout",
     "output_type": "stream",
     "text": [
      "0.012\n"
     ]
    }
   ],
   "source": [
    "n = 10\n",
    "p = 0.05\n",
    "k = 2\n",
    "\n",
    "prob = stats.binom.sf(p = p , n = n ,k = k)\n",
    "print(round(prob,3))"
   ]
  },
  {
   "cell_type": "markdown",
   "metadata": {},
   "source": [
    "<table align=\"left\">\n",
    "    <tr>\n",
    "        <td>\n",
    "            <div align=\"left\", style=\"font-size:120%\">\n",
    "                <font color=\"#21618C\">\n",
    "                                    <b>e) What is the probability that between 3 to 7 LED bulbs (both inclusive) are defective?</b>\n",
    "                </font>\n",
    "            </div>\n",
    "        </td>\n",
    "    </tr>\n",
    "</table>"
   ]
  },
  {
   "cell_type": "code",
   "execution_count": 21,
   "metadata": {},
   "outputs": [
    {
     "name": "stdout",
     "output_type": "stream",
     "text": [
      "The probability that between 3 to 7 LED bulbs (both inclusive) are defective is :  0.012\n"
     ]
    }
   ],
   "source": [
    "prb1 = stats.binom.cdf(n = 10, p = 0.05, k=7) \n",
    "prb2 = stats.binom.cdf(n=10, p=0.05,k=2)\n",
    "\n",
    "prob = prb1 - prb2\n",
    "print('The probability that between 3 to 7 LED bulbs (both inclusive) are defective is : ',round(prob,3))"
   ]
  },
  {
   "cell_type": "markdown",
   "metadata": {
    "colab_type": "text",
    "id": "OL9cj_rRf983"
   },
   "source": [
    "<a id= \"NDist\"></a>\n",
    "## 2. Normal Distributions"
   ]
  },
  {
   "cell_type": "markdown",
   "metadata": {
    "colab_type": "text",
    "id": "3uPwVwgAf99s"
   },
   "source": [
    "<table align=\"left\">\n",
    "    <tr>\n",
    "        <td width=\"6%\">\n",
    "            <img src=\"question_icon.png\">\n",
    "        </td>\n",
    "        <td>\n",
    "            <div align=\"left\", style=\"font-size:120%\">\n",
    "                <font color=\"#21618C\">\n",
    "                    <b>4. .The average weight of a population of patients is 80 kg with a standard deviation of 20 kg. The dietitian has offered a meal plan for 30 randomly selected patients. After two months of starting the diet, she has collected the data of weights for all the patients. What is the probability that the an individual patient's weight is between 70 to 90 kg? </b>\n",
    "                </font>\n",
    "            </div>\n",
    "        </td>\n",
    "    </tr>\n",
    "</table>"
   ]
  },
  {
   "cell_type": "code",
   "execution_count": 25,
   "metadata": {},
   "outputs": [
    {
     "name": "stdout",
     "output_type": "stream",
     "text": [
      "0.383\n"
     ]
    }
   ],
   "source": [
    "z1 = (90 - 80) / 20\n",
    "z2 = (70 - 80) / 20\n",
    "prob = stats.norm.cdf(z1) - stats.norm.cdf(z2)\n",
    "\n",
    "print(round(prob , 3))"
   ]
  },
  {
   "cell_type": "markdown",
   "metadata": {},
   "source": [
    "<table align=\"left\">\n",
    "    <tr>\n",
    "        <td width=\"6%\">\n",
    "            <img src=\"question_icon.png\">\n",
    "        </td>\n",
    "        <td>\n",
    "            <div align=\"left\", style=\"font-size:120%\">\n",
    "                <font color=\"#21618C\">\n",
    "                                    <b>5. The mean salaries of Data Scientists working in Chennai, India is calculated to be 7,00,000 INR with a standard deviation of 90,000 INR. The random variable salary of Data Scientists follows a normal distribution.</b>\n",
    "                </font>\n",
    "            </div>\n",
    "        </td>\n",
    "    </tr>\n",
    "</table>"
   ]
  },
  {
   "cell_type": "markdown",
   "metadata": {},
   "source": [
    "<table align=\"left\">\n",
    "    <tr>\n",
    "        <td>\n",
    "            <div align=\"left\", style=\"font-size:120%\">\n",
    "                <font color=\"#21618C\">\n",
    "                                    <b>a) What is the probability that a Data Scientist in Chennai has a salary more than 10,00,000 INR?</b>\n",
    "                </font>\n",
    "            </div>\n",
    "        </td>\n",
    "    </tr>\n",
    "</table>"
   ]
  },
  {
   "cell_type": "code",
   "execution_count": 29,
   "metadata": {},
   "outputs": [
    {
     "name": "stdout",
     "output_type": "stream",
     "text": [
      "0.0004\n"
     ]
    }
   ],
   "source": [
    "z = (10 - 7) / 0.9\n",
    "\n",
    "prb = 1 - stats.norm.cdf(z)\n",
    "\n",
    "print(round(prb , 4))"
   ]
  },
  {
   "cell_type": "markdown",
   "metadata": {},
   "source": [
    "<table align=\"left\">\n",
    "    <tr>\n",
    "        <td>\n",
    "            <div align=\"left\", style=\"font-size:120%\">\n",
    "                <font color=\"#21618C\">\n",
    "                                    <b>b) What is the probability that a Data Scientist in Chennai has a salary between 6,00,000 & 9,00,000 INR?</b>\n",
    "                </font>\n",
    "            </div>\n",
    "        </td>\n",
    "    </tr>\n",
    "</table>"
   ]
  },
  {
   "cell_type": "code",
   "execution_count": 28,
   "metadata": {},
   "outputs": [
    {
     "name": "stdout",
     "output_type": "stream",
     "text": [
      "0.854\n"
     ]
    }
   ],
   "source": [
    "z1 = (9 - 7) / 0.9\n",
    "z2 = (6 - 7) / 0.9\n",
    "\n",
    "prob = stats.norm.cdf(z1) - stats.norm.cdf(z2)\n",
    "\n",
    "print(round(prob , 3))"
   ]
  },
  {
   "cell_type": "markdown",
   "metadata": {},
   "source": [
    "<table align=\"left\">\n",
    "    <tr>\n",
    "        <td>\n",
    "            <div align=\"left\", style=\"font-size:120%\">\n",
    "                <font color=\"#21618C\">\n",
    "                                    <b>c) What is the probability that a Data Scientist in Chennai has a salary less than 4,00,000 INR?</b>\n",
    "                </font>\n",
    "            </div>\n",
    "        </td>\n",
    "    </tr>\n",
    "</table>"
   ]
  },
  {
   "cell_type": "code",
   "execution_count": 30,
   "metadata": {},
   "outputs": [
    {
     "name": "stdout",
     "output_type": "stream",
     "text": [
      "0.0004290603331968372\n"
     ]
    }
   ],
   "source": [
    "z = (4 - 7) / 0.9\n",
    "\n",
    "prb = stats.norm.cdf(z)\n",
    "\n",
    "print(prb)"
   ]
  },
  {
   "cell_type": "markdown",
   "metadata": {},
   "source": [
    "<table align=\"left\">\n",
    "    <tr>\n",
    "        <td width=\"6%\">\n",
    "            <img src=\"question_icon.png\">\n",
    "        </td>\n",
    "        <td>\n",
    "            <div align=\"left\", style=\"font-size:120%\">\n",
    "                <font color=\"#21618C\">\n",
    "                                    <b>6. The average meat consumption in a city is 119 pounds per year. Assume that the standard deviation is 15 pounds and the distribution is approximately normal.Find the probability that a person selected at random consumes more than 126 pounds per year</b>\n",
    "                </font>\n",
    "            </div>\n",
    "        </td>\n",
    "    </tr>\n",
    "</table>"
   ]
  },
  {
   "cell_type": "code",
   "execution_count": 31,
   "metadata": {},
   "outputs": [
    {
     "name": "stdout",
     "output_type": "stream",
     "text": [
      "0.32036919090127036\n"
     ]
    }
   ],
   "source": [
    "z = (126 - 119) / 15\n",
    "\n",
    "prb = 1 - stats.norm.cdf(z)\n",
    "\n",
    "print(prb)"
   ]
  },
  {
   "cell_type": "markdown",
   "metadata": {
    "colab_type": "text",
    "id": "GhwNCvTmf99O"
   },
   "source": [
    "<a id=\"CLT\"></a>\n",
    "## 3. Central Limit Theorem"
   ]
  },
  {
   "cell_type": "markdown",
   "metadata": {},
   "source": [
    "<table align=\"left\">\n",
    "    <tr>\n",
    "        <td width=\"6%\">\n",
    "            <img src=\"question_icon.png\">\n",
    "        </td>\n",
    "        <td>\n",
    "            <div align=\"left\", style=\"font-size:120%\">\n",
    "                <font color=\"#21618C\">\n",
    "                    <b>7. Perform Central Limit Theorem on Left Skewed data with sample size 150 and number of samples as 75.</b>\n",
    "                </font>\n",
    "            </div>\n",
    "        </td>\n",
    "    </tr>\n",
    "</table>"
   ]
  },
  {
   "cell_type": "code",
   "execution_count": 20,
   "metadata": {},
   "outputs": [
    {
     "name": "stdout",
     "output_type": "stream",
     "text": [
      "0.5051246980186047\n"
     ]
    },
    {
     "data": {
      "image/png": "[encoded data removed]",
      "text/plain": [
       "<Figure size 640x480 with 1 Axes>"
      ]
     },
     "metadata": {},
     "output_type": "display_data"
    },
    {
     "data": {
      "text/plain": [
       "<AxesSubplot:ylabel='Density'>"
      ]
     },
     "execution_count": 20,
     "metadata": {},
     "output_type": "execute_result"
    },
    {
     "data": {
      "image/png": "[encoded data removed]",
      "text/plain": [
       "<Figure size 640x480 with 1 Axes>"
      ]
     },
     "metadata": {},
     "output_type": "display_data"
    }
   ],
   "source": [
    "sample_size =150 # sample size\n",
    "\n",
    "no_of_sample = 75 # no of sample\n",
    "\n",
    "sample_mean_list=[]   # sampling means\n",
    "pop=stats.skewnorm.rvs(a=-20,size=100000,random_state=0)\n",
    "for i in range(no_of_sample):\n",
    "    sample  = np.random.choice(pop,size= sample_size,replace=False) # taking sample from pop\n",
    "    sample_mean = np.mean(sample) # finding sample mean\n",
    "    sample_mean_list.append(sample_mean) # appending sample mean\n",
    "print(pd.Series(sample_mean_list).skew())\n",
    "\n",
    "sns.distplot(sample_mean_list) # distribution of sample means - sampling distribution\n",
    "plt.show()\n",
    "# When sample size is increased, data becomes more normal.\n",
    "\n",
    "sns.distplot(pop)"
   ]
  },
  {
   "cell_type": "code",
   "execution_count": 19,
   "metadata": {},
   "outputs": [
    {
     "data": {
      "image/png": "[encoded data removed]",
      "text/plain": [
       "<Figure size 640x480 with 1 Axes>"
      ]
     },
     "metadata": {},
     "output_type": "display_data"
    },
    {
     "data": {
      "image/png": "[encoded data removed]",
      "text/plain": [
       "<Figure size 640x480 with 1 Axes>"
      ]
     },
     "metadata": {},
     "output_type": "display_data"
    },
    {
     "data": {
      "image/png": "[encoded data removed]",
      "text/plain": [
       "<Figure size 640x480 with 1 Axes>"
      ]
     },
     "metadata": {},
     "output_type": "display_data"
    },
    {
     "data": {
      "image/png": "[encoded data removed]",
      "text/plain": [
       "<Figure size 640x480 with 1 Axes>"
      ]
     },
     "metadata": {},
     "output_type": "display_data"
    }
   ],
   "source": [
    "np.random.seed(0)\n",
    "\n",
    "sample_sizes = [5, 50, 500,5000]\n",
    "for sample_size in sample_sizes:\n",
    "    sample = np.random.randn(sample_size)\n",
    "    mean = np.mean(sample)\n",
    "    std = np.std(sample)\n",
    "    \n",
    "    plt.hist(sample, bins=20, label=f\"Sample size: {sample_size}\")\n",
    "    plt.axvline(mean, color='red', linestyle='dashed', linewidth=1)\n",
    "    plt.legend()\n",
    "    plt.show()"
   ]
  },
  {
   "cell_type": "markdown",
   "metadata": {},
   "source": [
    "<table align=\"left\">\n",
    "    <tr>\n",
    "        <td width=\"6%\">\n",
    "            <img src=\"question_icon.png\">\n",
    "        </td>\n",
    "        <td>\n",
    "            <div align=\"left\", style=\"font-size:120%\">\n",
    "                <font color=\"#21618C\">\n",
    "                                    <b>8. The average meat consumption in a city is 119 pounds per year. Assume that the standard deviation is 15 pounds and the distribution is approximately normal. If a sample of 20 individuals are selected find the probability that the mean of the sample will be less than 126 pounds per year.</b>\n",
    "                </font>\n",
    "            </div>\n",
    "        </td>\n",
    "    </tr>\n",
    "</table>"
   ]
  },
  {
   "cell_type": "code",
   "execution_count": 14,
   "metadata": {},
   "outputs": [
    {
     "data": {
      "text/plain": [
       "0.9815557871464751"
      ]
     },
     "execution_count": 14,
     "metadata": {},
     "output_type": "execute_result"
    }
   ],
   "source": [
    "mean = 119\n",
    "std = 15\n",
    "n = 20\n",
    "z = (126-mean)/(std/np.sqrt(n))\n",
    "stats.norm.cdf(z)"
   ]
  },
  {
   "cell_type": "markdown",
   "metadata": {},
   "source": [
    "<table align=\"left\">\n",
    "    <tr>\n",
    "        <td width=\"6%\">\n",
    "            <img src=\"question_icon.png\">\n",
    "        </td>\n",
    "        <td>\n",
    "            <div align=\"left\", style=\"font-size:120%\">\n",
    "                <font color=\"#21618C\">\n",
    "                                    <b>9. The average age of a two wheeler is 84 months. Assume that the standard deviation is 14 months. If a random sample of 36 two wheelers is selected, find the probability that the mean of theirge is between 76 to 90 months.\n",
    "                </font>\n",
    "            </div>\n",
    "        </td>\n",
    "    </tr>\n",
    "</table>"
   ]
  },
  {
   "cell_type": "code",
   "execution_count": 7,
   "metadata": {},
   "outputs": [
    {
     "data": {
      "text/plain": [
       "0.9946326213024866"
      ]
     },
     "execution_count": 7,
     "metadata": {},
     "output_type": "execute_result"
    }
   ],
   "source": [
    "mean = 84 \n",
    "std = 14\n",
    "n = 36\n",
    "\n",
    "z1 = (76-mean)/(std/np.sqrt(n))\n",
    "z2 = (90-mean)/(std/np.sqrt(n))\n",
    "\n",
    "stats.norm.cdf(z2) - stats.norm.cdf(z1)"
   ]
  },
  {
   "cell_type": "markdown",
   "metadata": {},
   "source": [
    "<table align=\"left\">\n",
    "    <tr>\n",
    "        <td width=\"6%\">\n",
    "            <img src=\"question_icon.png\">\n",
    "        </td>\n",
    "        <td>\n",
    "            <div align=\"left\", style=\"font-size:120%\">\n",
    "                <font color=\"#21618C\">\n",
    "                                    <b>10. The average weight of a population of a community of patients is 80 kg with a standard deviation of 20 kg. If 30 patients are randomly selected What is the probability that the average weight of this sample is more than 85 kg? \n",
    "                </font>\n",
    "            </div>\n",
    "        </td>\n",
    "    </tr>\n",
    "</table>"
   ]
  },
  {
   "cell_type": "code",
   "execution_count": 9,
   "metadata": {},
   "outputs": [
    {
     "data": {
      "text/plain": [
       "0.08545176011539879"
      ]
     },
     "execution_count": 9,
     "metadata": {},
     "output_type": "execute_result"
    }
   ],
   "source": [
    "mean = 80\n",
    "std = 20\n",
    "n =30\n",
    "z = (85-mean)/(std/np.sqrt(n))\n",
    "\n",
    "1-stats.norm.cdf(z)"
   ]
  },
  {
   "cell_type": "code",
   "execution_count": null,
   "metadata": {},
   "outputs": [],
   "source": []
  },
  {
   "cell_type": "code",
   "execution_count": null,
   "metadata": {},
   "outputs": [],
   "source": []
  }
 ],
 "metadata": {
  "colab": {
   "name": "ITP - In-Class Lab Exercise (Day1) - Solutions [V1.0 030120].ipynb",
   "provenance": []
  },
  "kernelspec": {
   "display_name": "Python 3 (ipykernel)",
   "language": "python",
   "name": "python3"
  },
  "language_info": {
   "codemirror_mode": {
    "name": "ipython",
    "version": 3
   },
   "file_extension": ".py",
   "mimetype": "text/x-python",
   "name": "python",
   "nbconvert_exporter": "python",
   "pygments_lexer": "ipython3",
   "version": "3.9.13"
  }
 },
 "nbformat": 4,
 "nbformat_minor": 1
}
