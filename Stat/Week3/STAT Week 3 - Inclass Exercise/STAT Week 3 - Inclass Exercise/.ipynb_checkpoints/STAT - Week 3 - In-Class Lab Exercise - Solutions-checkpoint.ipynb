{
 "cells": [
  {
   "cell_type": "markdown",
   "id": "d5eba492",
   "metadata": {},
   "source": [
    "<table align=\"center\" width=100%>\n",
    "    <tr>\n",
    "        <td width=\"10%\">\n",
    "            <img src=\"GL-2.png\">\n",
    "            <img src=\"in_class.png\">\n",
    "        </td>\n",
    "        <td>\n",
    "            <div align=\"center\">\n",
    "                <font color=\"#21618C\" size=8px>\n",
    "                    <b> Inclass-Lab  <br>(Week 3)\n",
    "                    </b>\n",
    "                </font>\n",
    "            </div>\n",
    "        </td>\n",
    "    </tr>\n",
    "</table>"
   ]
  },
  {
   "cell_type": "markdown",
   "id": "d9b3d31b",
   "metadata": {},
   "source": [
    "## Table of Content\n",
    "\n",
    "1. **[Import Libraries](#lib)**\n",
    "2. **[Parameter Estimation](#est)**\n",
    "3. **[Test of Hypothesis](#TOH)**\n"
   ]
  },
  {
   "cell_type": "markdown",
   "id": "55abb66e",
   "metadata": {},
   "source": [
    "<a id= \"lib\"></a>\n",
    "## 1. Import the required libraries"
   ]
  },
  {
   "cell_type": "code",
   "execution_count": 1,
   "id": "124e890f",
   "metadata": {},
   "outputs": [
    {
     "name": "stdout",
     "output_type": "stream",
     "text": [
      "All libraries have been imported\n"
     ]
    }
   ],
   "source": [
    "# Import required Libraries here\n",
    "# import pandas\n",
    "import pandas as pd\n",
    "\n",
    "# import 'numpy' \n",
    "import numpy as np\n",
    "\n",
    "# import subpackage of matplotlib\n",
    "import matplotlib.pyplot as plt\n",
    "\n",
    "# import 'seaborn'\n",
    "import seaborn as sns\n",
    "\n",
    "# to suppress warnings \n",
    "from warnings import filterwarnings\n",
    "filterwarnings('ignore')\n",
    "\n",
    "# import statistics to perform statistical computation  \n",
    "import statistics\n",
    "\n",
    "# import 'stats' package from scipy library\n",
    "from scipy import stats\n",
    "\n",
    "# import a library to perform Z-test\n",
    "from statsmodels.stats import weightstats as stests\n",
    "\n",
    "# to test the normality \n",
    "from scipy.stats import shapiro\n",
    "\n",
    "# import the function to calculate the power of test\n",
    "from statsmodels.stats import power\n",
    "\n",
    "print(\"All libraries have been imported\")"
   ]
  },
  {
   "cell_type": "markdown",
   "id": "22260e74",
   "metadata": {},
   "source": [
    "### Let's begin with some hands-on practice exercises"
   ]
  },
  {
   "cell_type": "markdown",
   "id": "11515a31",
   "metadata": {},
   "source": [
    "<a id = \"est\"> </a>\n",
    "## 2. Parameter Estimation"
   ]
  },
  {
   "cell_type": "markdown",
   "id": "6f69d566",
   "metadata": {},
   "source": [
    "<table align=\"left\">\n",
    "    <tr>\n",
    "        <td width=\"6%\">\n",
    "            <img src=\"question_icon.png\">\n",
    "        </td>\n",
    "        <td>\n",
    "            <div align=\"left\", style=\"font-size:120%\">\n",
    "                <font color=\"#21618C\">\n",
    "                    <b>1. The quality controller at the automobile company needs to know the average length of a steel rod produced in the company. He managed to collect the length (in cm) of 15 rods produced in the last week. Find the point estimate for the average length of the steel rod using sample data. </b>\n",
    "                </font>\n",
    "            </div>\n",
    "        </td>\n",
    "    </tr>\n",
    "</table>"
   ]
  },
  {
   "cell_type": "markdown",
   "id": "4f32b231",
   "metadata": {},
   "source": [
    "Given data:\n",
    "\n",
    "        len_rod (cm) = [25.2, 26.3, 28, 21.9, 23.4, 24, 27.2, 23, 29.2, 28.7, 23.1, 23.5, 26.4, 22.8, 24.7]"
   ]
  },
  {
   "cell_type": "code",
   "execution_count": 2,
   "id": "dd777325",
   "metadata": {},
   "outputs": [
    {
     "name": "stdout",
     "output_type": "stream",
     "text": [
      "The point estimate for the average length of the steel rod is 25.16 cm\n"
     ]
    }
   ],
   "source": [
    "# given sample data\n",
    "len_rod = [25.2, 26.3, 28, 21.9, 23.4, 24, 27.2, 23, 29.2, 28.7, 23.1, 23.5, 26.4, 22.8, 24.7]\n",
    "\n",
    "# the point estimate for the population mean is equal to 'sample mean'\n",
    "# calculate the sample mean\n",
    "samp_mean = np.mean(len_rod)\n",
    "# use 'round()' to round-off the value to 2 digits\n",
    "samp_mean = round(samp_mean,2)\n",
    "print('The point estimate for the average length of the steel rod is', samp_mean, 'cm')"
   ]
  },
  {
   "cell_type": "markdown",
   "id": "231d494b",
   "metadata": {},
   "source": [
    "<table align=\"left\">\n",
    "    <tr>\n",
    "        <td width=\"6%\">\n",
    "            <img src=\"question_icon.png\">\n",
    "        </td>\n",
    "        <td>\n",
    "            <div align=\"left\", style=\"font-size:120%\">\n",
    "                <font color=\"#21618C\">\n",
    "                    <b>2. The meteorological department collected a sample of data for 20 summer days and wants to find the point estimate using below sample data.</b>\n",
    "                </font>\n",
    "            </div>\n",
    "        </td>\n",
    "    </tr>\n",
    "</table>"
   ]
  },
  {
   "cell_type": "markdown",
   "id": "541de70d",
   "metadata": {},
   "source": [
    "Use the data given below:\n",
    "        \n",
    "            temp (in F) = [51, 68, 83, 93, 89, 58, 79, 54, 60, 77, 87, 57, 63, 85, 92, 74, 67, 88, 91, 82]"
   ]
  },
  {
   "cell_type": "code",
   "execution_count": 3,
   "id": "fda9c53a",
   "metadata": {},
   "outputs": [
    {
     "name": "stdout",
     "output_type": "stream",
     "text": [
      "The point estimate for the sample of 20 summary days is 74.9 cm\n"
     ]
    }
   ],
   "source": [
    "# given sample data\n",
    "temp = [51, 68, 83, 93, 89, 58, 79, 54, 60, 77, 87, 57, 63, 85, 92, 74, 67, 88, 91, 82]\n",
    "\n",
    "# the point estimate for the population mean is equal to 'sample mean'\n",
    "# calculate the sample mean\n",
    "samp_mean = np.mean(temp)\n",
    "# use 'round()' to round-off the value to 2 digits\n",
    "samp_mean = round(samp_mean,2)\n",
    "    print('The point estimate for the sample of 20 summer days is', samp_mean, 'cm')\n"
   ]
  },
  {
   "cell_type": "markdown",
   "id": "58ef8dbe",
   "metadata": {},
   "source": [
    "<table align=\"left\">\n",
    "    <tr>\n",
    "        <td width=\"6%\">\n",
    "            <img src=\"question_icon.png\">\n",
    "        </td>\n",
    "        <td>\n",
    "            <div align=\"left\", style=\"font-size:120%\">\n",
    "                <font color=\"#21618C\">\n",
    "                    <b>3. The production manager at tea emporium wants to estimate the weight of a green tea bag. The previous study shows that the standard deviation of weight is 2.3 g. The manager collects 65 tea bags for the study. How much margin of error the manager should consider to estimate the weight with 99%  confidence. </b>\n",
    "                </font>\n",
    "            </div>\n",
    "        </td>\n",
    "    </tr>\n",
    "</table>"
   ]
  },
  {
   "cell_type": "code",
   "execution_count": 4,
   "id": "4e57704d",
   "metadata": {},
   "outputs": [
    {
     "name": "stdout",
     "output_type": "stream",
     "text": [
      "Margin of error to estimate the weight of green tea bag: 0.73\n"
     ]
    }
   ],
   "source": [
    "# sample size\n",
    "n = 65\n",
    "\n",
    "# population standard deviaion \n",
    "std = 2.3\n",
    "\n",
    "# given alpha\n",
    "alpha = 0.01\n",
    "\n",
    "# calculate z_alpha_by_2 with alpha = 0.01\n",
    "# use 'stats.norm.isf()' to find the Z-value corresponding to the upper tail probability 'q'\n",
    "# pass the value of 'alpha/2' to the parameter 'q'\n",
    "# use 'round()' to round-off the value to 4 digits\n",
    "z_alpha_by_2 = np.abs(round(stats.norm.isf(q = 0.01/2), 4))\n",
    "\n",
    "# calculate margin of error\n",
    "error = (z_alpha_by_2*std)/ np.sqrt(n)\n",
    "# use 'round()' to round-off the value to 3 digits\n",
    "error = round(error,2)\n",
    "print('Margin of error to estimate the weight of green tea bag:', error)"
   ]
  },
  {
   "cell_type": "markdown",
   "id": "80c29418",
   "metadata": {},
   "source": [
    "<table align=\"left\">\n",
    "    <tr>\n",
    "        <td width=\"6%\">\n",
    "            <img src=\"question_icon.png\">\n",
    "        </td>\n",
    "        <td>\n",
    "            <div align=\"left\", style=\"font-size:120%\">\n",
    "                <font color=\"#21618C\">\n",
    "                    <b>4. The bank manager has received several fraud complaints from past a few weeks. The report from accountant states that the standard deviation in frauds is 16. The manager is ready to consider the margin of error as 5. To estimate the average number of frauds with 90% confidence how many transactions should the manager consider?</b>\n",
    "                </font>\n",
    "            </div>\n",
    "        </td>\n",
    "    </tr>\n",
    "</table>"
   ]
  },
  {
   "cell_type": "code",
   "execution_count": 5,
   "id": "7c4c742a",
   "metadata": {},
   "outputs": [
    {
     "name": "stdout",
     "output_type": "stream",
     "text": [
      "Required number of transactions for the fraud detection study: 28\n"
     ]
    }
   ],
   "source": [
    "# calculate sample size using a given margin of error\n",
    "\n",
    "# population standard deviation\n",
    "sigma = 16\n",
    "\n",
    "# required margin of error\n",
    "ME = 5\n",
    "\n",
    "# calculate z-value with alpha = 0.1\n",
    "# use 'stats.norm.isf()' to find the Z-value corresponding to the upper tail probability 'q'\n",
    "# pass the value of 'alpha/2' to the parameter 'q'\n",
    "# use 'round()' to round-off the value to 4 digits\n",
    "z_alpha_by_2 = np.abs(round(stats.norm.isf(q = 0.1/2), 4))\n",
    "\n",
    "# calculate sample size (n) \n",
    "n = ((z_alpha_by_2)**2)*(sigma**2)/(ME**2)\n",
    "\n",
    "# round-off the value of 'n' to get the integer value\n",
    "print('Required number of transactions for the fraud detection study:', round(n))"
   ]
  },
  {
   "cell_type": "markdown",
   "id": "a19b1736",
   "metadata": {},
   "source": [
    "<table align=\"left\">\n",
    "    <tr>\n",
    "        <td width=\"6%\">\n",
    "            <img src=\"question_icon.png\">\n",
    "        </td>\n",
    "        <td>\n",
    "            <div align=\"left\", style=\"font-size:120%\">\n",
    "                <font color=\"#21618C\">\n",
    "                    <b>5. A pediatrician wants to check the amount of sugar in the 100g pack of baby food produced by KidsGrow company. The medical journal states that a standard deviation of sugar in 100g pack is 8g. The pediatrician collects 37 packets of baby food and found that the average sugar is 24g. Find the 90% confidence interval for the population mean.</b>\n",
    "                </font>\n",
    "            </div>\n",
    "        </td>\n",
    "    </tr>\n",
    "</table>"
   ]
  },
  {
   "cell_type": "code",
   "execution_count": 6,
   "id": "d04e818d",
   "metadata": {},
   "outputs": [
    {
     "name": "stdout",
     "output_type": "stream",
     "text": [
      "The 90% confidence interval of population mean is: (21.837, 26.163)\n"
     ]
    }
   ],
   "source": [
    "# number of observations in sample\n",
    "n = 37\n",
    "\n",
    "# given sample mean\n",
    "samp_mean = 24 \n",
    "\n",
    "# given population standard deviation\n",
    "std_pop = 8\n",
    "\n",
    "# calculate the 90% confidence interval\n",
    "# pass the sample mean to the parameter, 'loc'\n",
    "# pass the scaling factor (std_pop / n^(1/2)) to the parameter, 'scale'\n",
    "interval = stats.norm.interval(0.90, loc = samp_mean, scale = std_pop / np.sqrt(n))\n",
    "\n",
    "# use 'round()' to round-off the value to  digits\n",
    "interval = round(interval[0],3),round(interval[1],3)\n",
    "\n",
    "# print the 90% confidence interval\n",
    "print('The 90% confidence interval of population mean is:', interval)"
   ]
  },
  {
   "cell_type": "markdown",
   "id": "0b094654",
   "metadata": {},
   "source": [
    "<table align=\"left\">\n",
    "    <tr>\n",
    "        <td width=\"6%\">\n",
    "            <img src=\"question_icon.png\">\n",
    "        </td>\n",
    "        <td>\n",
    "            <div align=\"left\", style=\"font-size:120%\">\n",
    "                <font color=\"#21618C\">\n",
    "                    <b>6. The NY university has opened the post of Astrophysics professor. The total number of applications was 36. To check the authenticity of the applicants a sample of 10 applications was collected, out of which 3 applicants were found to be fraud. Construct the 95% confidence interval for the true proportion of frauds in the population.</b>\n",
    "                </font>\n",
    "            </div>\n",
    "        </td>\n",
    "    </tr>\n",
    "</table>"
   ]
  },
  {
   "cell_type": "code",
   "execution_count": 8,
   "id": "fca0fa29",
   "metadata": {},
   "outputs": [
    {
     "name": "stdout",
     "output_type": "stream",
     "text": [
      "95% confidence interval for population proportion is [0.016 0.584]\n"
     ]
    }
   ],
   "source": [
    "# total number of applications \n",
    "N = 36\n",
    "\n",
    "# number of applications in a sample\n",
    "n = 10\n",
    "\n",
    "# number of fraud applicants in a sample\n",
    "x = 3\n",
    "\n",
    "# sample proportion fraud applicants\n",
    "p_samp = x/n\n",
    "\n",
    "# calculate the 95% confidence interval\n",
    "# pass the sample proportion to the parameter, 'loc'\n",
    "# pass the scaling factor ((p_samp*(1-p_samp))/n))^0.5) to the parameter, 'scale'\n",
    "interval = stats.norm.interval(0.95, loc = p_samp, scale = np.sqrt((p_samp*(1-p_samp))/n))\n",
    "\n",
    "# use 'round()' to round-off the value to 3 digits\n",
    "#interval = round(interval[0],3),round(interval[1],3)\n",
    "\n",
    "# print the 95% confidence interval\n",
    "print('95% confidence interval for population proportion is', np.round(interval,3))"
   ]
  },
  {
   "cell_type": "markdown",
   "id": "be6926a0",
   "metadata": {},
   "source": [
    "<a id= \"TOH\"></a>\n",
    "## 3. Test of Hypothesis"
   ]
  },
  {
   "cell_type": "markdown",
   "id": "5efe42b4",
   "metadata": {},
   "source": [
    "<table align=\"left\">\n",
    "    <tr>\n",
    "        <td width=\"6%\">\n",
    "            <img src=\"question_icon.png\">\n",
    "        </td>\n",
    "        <td>\n",
    "            <div align=\"left\", style=\"font-size:120%\">\n",
    "                <font color=\"#21618C\">\n",
    "                    <b>7. The temperature (in degree Celsius) at Manhattan is recorded for 45 winter days. A student from the Geography department wants to test the claim proposed by the weather department. Check whether the given data satisfies the condition of normality with 99% confidence?</b>\n",
    "                </font>\n",
    "            </div>\n",
    "        </td>\n",
    "    </tr>\n",
    "</table>"
   ]
  },
  {
   "cell_type": "markdown",
   "id": "72e31acd",
   "metadata": {},
   "source": [
    "Use the data given below:\n",
    "        \n",
    "    temp_winter =  [2.51, 2.6, 1.8, 2.61, 3.9, 1.7, 1.9, 3.1, 1.58, 2.85, 2.9, 1.25, 1.3, 2.4, 3.22, 2.56, 1.32, 1.2, 1.26, \n",
    "                    3.2, 2.7, 3.5, 2.8, 1.5, 3.8, 1.84, 3.31, 1.24, 1.75, 1.41, 1.57, 1.4, 1.49, 2.26, 2.5, 2.52, 3.42, 1.36, \n",
    "                    2.35, 2.47, 2.28, 2.22, 2.66, 3.43, 1.98]"
   ]
  },
  {
   "cell_type": "markdown",
   "id": "956c657d",
   "metadata": {},
   "source": [
    "The null and alternative hypothesis are:\n",
    "    \n",
    "    **H0 says data is normally distributed\n",
    "    **H1 says data is not normally distributed.**"
   ]
  },
  {
   "cell_type": "code",
   "execution_count": 38,
   "id": "4672eefa",
   "metadata": {},
   "outputs": [
    {
     "name": "stdout",
     "output_type": "stream",
     "text": [
      "P-Value: 0.034\n"
     ]
    }
   ],
   "source": [
    "# given temprature\n",
    "temp_winter = [2.51, 2.6, 1.8, 2.61, 3.9, 1.7, 1.9, 3.1, 1.58, 2.85, 2.9, 1.25, 1.3, 2.4, 3.22, 2.56, 1.32, 1.2, 1.26, 3.2,\n",
    "              2.7, 3.5, 2.8, 1.5, 3.8, 1.84, 3.31, 1.24, 1.75, 1.41, 1.57, 1.4, 1.49, 2.26, 2.5, 2.52, 3.42, 1.36, 2.35, \n",
    "              2.47, 2.28, 2.22, 2.66, 3.43, 1.98]\n",
    "\n",
    "# perform Shapiro-Wilk test to test the normality\n",
    "# shapiro() returns a tuple having the values of test statistics and the corresponding p-value\n",
    "# pass the sample data to perform the test\n",
    "stat, p_value = shapiro(temp_winter)\n",
    "\n",
    "# use 'round()' to round-off the value to 3 digits\n",
    "p_value = round(p_value,3)\n",
    "\n",
    "# print the p-value \n",
    "print('P-Value:', p_value)"
   ]
  },
  {
   "cell_type": "markdown",
   "id": "2250356a",
   "metadata": {},
   "source": [
    "From the above result, we can see that the p-value is greater than 0.01, and the decision is not to reject the null hypothesis. Thus we can say that the data is normally distributed."
   ]
  },
  {
   "cell_type": "markdown",
   "id": "ad9de1f7",
   "metadata": {},
   "source": [
    "<a id= \"OSTZ\"></a>\n",
    "### One sample Z Test"
   ]
  },
  {
   "cell_type": "markdown",
   "id": "d2857bb2",
   "metadata": {},
   "source": [
    "<table align=\"left\">\n",
    "    <tr>\n",
    "        <td width=\"6%\">\n",
    "            <img src=\"question_icon.png\">\n",
    "        </td>\n",
    "        <td>\n",
    "            <div align=\"left\", style=\"font-size:120%\">\n",
    "                <font color=\"#21618C\">\n",
    "                    <b>8. Use the temperature data given in the previous question. The weather department claims that the average temperature in Manhattan is less than 2.8 degree celsius in winter. Test the department's claim using a critical value method with 99% confidence.</b>\n",
    "                </font>\n",
    "            </div>\n",
    "        </td>\n",
    "    </tr>\n",
    "</table>"
   ]
  },
  {
   "cell_type": "markdown",
   "id": "44eed4f4",
   "metadata": {},
   "source": [
    "Use the data given below:\n",
    "        \n",
    "    temp_winter =  [2.51, 2.6, 1.8, 2.61, 3.9, 1.7, 1.9, 3.1, 1.58, 2.85, 2.9, 1.25, 1.3, 2.4, 3.22, 2.56, 1.32, 1.2, 1.26, \n",
    "                    3.2, 2.7, 3.5, 2.8, 1.5, 3.8, 1.84, 3.31, 1.24, 1.75, 1.41, 1.57, 1.4, 1.49, 2.26, 2.5, 2.52, 3.42, 1.36, \n",
    "                    2.35, 2.47, 2.28, 2.22, 2.66, 3.43, 1.98]"
   ]
  },
  {
   "cell_type": "markdown",
   "id": "fd384700",
   "metadata": {},
   "source": [
    "The null and alternative hypothesis is:\n",
    "\n",
    "H<sub>0</sub>: $\\mu \\geq 2.8 $<br>\n",
    "H<sub>1</sub>: $\\mu < 2.8 $"
   ]
  },
  {
   "cell_type": "markdown",
   "id": "2c14d9fc",
   "metadata": {},
   "source": [
    "Here ⍺ = 0.01, for a one-tailed test calculate the critical z-value.\n",
    "Left tail test"
   ]
  },
  {
   "cell_type": "code",
   "execution_count": 39,
   "id": "243d44de",
   "metadata": {},
   "outputs": [
    {
     "name": "stdout",
     "output_type": "stream",
     "text": [
      "Critical value for one-tailed Z-test: 2.326\n"
     ]
    }
   ],
   "source": [
    "# calculate the z-value for 99% of confidence level\n",
    "# use 'stats.norm.isf()' to find the z-value corresponding to the upper tail probability 'q'\n",
    "# pass the value of 'alpha' to the parameter 'q', here alpha = 0.01\n",
    "# use 'round()' to round-off the value to 4 digits\n",
    "z_val = np.abs(round(stats.norm.isf(q = 0.01), 4))\n",
    "\n",
    "# use 'round()' to round-off the value to 4 digits\n",
    "z_val = round(z_val,3)\n",
    "print('Critical value for one-tailed Z-test:', z_val)"
   ]
  },
  {
   "cell_type": "markdown",
   "id": "2d88c4bc",
   "metadata": {},
   "source": [
    "i.e. if z is less than -2.3263 then we reject the null hypothesis."
   ]
  },
  {
   "cell_type": "code",
   "execution_count": 40,
   "id": "22bcfff2",
   "metadata": {},
   "outputs": [
    {
     "name": "stdout",
     "output_type": "stream",
     "text": [
      "z_score: -4.44\n"
     ]
    }
   ],
   "source": [
    "# given temperature\n",
    "temp_winter = [2.51, 2.6, 1.8, 2.61, 3.9, 1.7, 1.9, 3.1, 1.58, 2.85, 2.9, 1.25, 1.3, 2.4, 3.22, 2.56, 1.32, 1.2, 1.26, 3.2,\n",
    "              2.7, 3.5, 2.8, 1.5, 3.8, 1.84, 3.31, 1.24, 1.75, 1.41, 1.57, 1.4, 1.49, 2.26, 2.5, 2.52, 3.42, 1.36, 2.35, \n",
    "              2.47, 2.28, 2.22, 2.66, 3.43, 1.98]\n",
    "\n",
    "# 'ztest()' returns the test statistic and corresponding p-value\n",
    "# pass the sample data to the parameter, 'x1'\n",
    "# pass the value in null hypothesis to the parameter, 'value'\n",
    "# pass the one-tailed condition to the parameter, 'alternative'\n",
    "z_score, pval = stests.ztest(x1 = temp_winter, value = 2.8, alternative = 'smaller')\n",
    "\n",
    "# use 'round()' to round-off the value to 4 digits\n",
    "z_score = round(z_score,3)\n",
    "\n",
    "# print the z-score \n",
    "print(\"z_score:\", z_score)"
   ]
  },
  {
   "cell_type": "markdown",
   "id": "ac7c8158",
   "metadata": {},
   "source": [
    "Since the test value is less than the critical value decision is to reject the null hypothesis. So there is enough evidence to conclude that average temperature in Manhattan is less than 2.8 degree celcius in winter."
   ]
  },
  {
   "cell_type": "markdown",
   "id": "ef5a5689",
   "metadata": {},
   "source": [
    "<table align=\"left\">\n",
    "    <tr>\n",
    "        <td width=\"6%\">\n",
    "            <img src=\"question_icon.png\">\n",
    "        </td>\n",
    "        <td>\n",
    "            <div align=\"left\", style=\"font-size:120%\">\n",
    "                <font color=\"#21618C\">\n",
    "                    <b>9. The bank manager claims that the complaints regarding fraud transactions are less than 12 per month with a standard deviation of 3 frauds. To test the claim the sample data for 3 years is collected. The average number of frauds per month in sample data is 10. Use the critical value method to test the claim with 95% confidence.</b>\n",
    "                </font>\n",
    "            </div>\n",
    "        </td>\n",
    "    </tr>\n",
    "</table>"
   ]
  },
  {
   "cell_type": "markdown",
   "id": "d9c8eed2",
   "metadata": {},
   "source": [
    "The null and alternative hypothesis is:\n",
    "\n",
    "H<sub>0</sub>: $\\mu \\geq 12 $<br>\n",
    "H<sub>1</sub>: $\\mu < 12 $\n",
    "\n",
    "Here ⍺ = 0.05, for a one-tailed test calculate the critical z-value."
   ]
  },
  {
   "cell_type": "code",
   "execution_count": 41,
   "id": "4a878ca0",
   "metadata": {},
   "outputs": [
    {
     "name": "stdout",
     "output_type": "stream",
     "text": [
      "Critical value for one-tailed Z-test: 1.645\n"
     ]
    }
   ],
   "source": [
    "# calculate the z-value for 95% of confidence level\n",
    "# use 'stats.norm.isf()' to find the z-value corresponding to the upper tail probability 'q'\n",
    "# pass the value of 'alpha' to the parameter 'q', here alpha = 0.05\n",
    "# use 'round()' to round-off the value to 2 digits\n",
    "z_val = np.abs(round(stats.norm.isf(q = 0.05), 3))\n",
    "\n",
    "print('Critical value for one-tailed Z-test:', z_val)"
   ]
  },
  {
   "cell_type": "markdown",
   "id": "3ac2c6bc",
   "metadata": {},
   "source": [
    "i.e. if z is less than -1.645 then we reject the null hypothesis."
   ]
  },
  {
   "cell_type": "code",
   "execution_count": 42,
   "id": "ada3325d",
   "metadata": {},
   "outputs": [
    {
     "name": "stdout",
     "output_type": "stream",
     "text": [
      "Z-score: -4.0\n"
     ]
    }
   ],
   "source": [
    "# define a function to calculate the Z-test statistic \n",
    "# pass the population mean, population standard deviation, sample size and sample mean as the function input\n",
    "def z_test(pop_mean, pop_std, n, samp_mean):\n",
    "   \n",
    "    # calculate the test statistic\n",
    "    z_score = (samp_mean - pop_mean) / (pop_std / np.sqrt(n))\n",
    "\n",
    "    # return the z-test value\n",
    "    return z_score\n",
    "\n",
    "# given data\n",
    "# sample data for 3 years is considered. i.e. for 36 months\n",
    "n = 36\n",
    "pop_mean = 12\n",
    "pop_std = 3\n",
    "samp_mean = 10\n",
    "\n",
    "# calculate the test statistic using the function 'z_test'\n",
    "z_score = z_test(pop_mean, pop_std, n, samp_mean)\n",
    "print(\"Z-score:\", z_score)"
   ]
  },
  {
   "cell_type": "markdown",
   "id": "816868d0",
   "metadata": {},
   "source": [
    "The test value is less than the critical value and hence we reject the null hypothesis. So we conclude that there is enough evidence to claim that the number of frauds per month is less than 12. "
   ]
  },
  {
   "cell_type": "markdown",
   "id": "8c231a4e",
   "metadata": {},
   "source": [
    "<table align=\"left\">\n",
    "    <tr>\n",
    "        <td width=\"6%\">\n",
    "            <img src=\"question_icon.png\">\n",
    "        </td>\n",
    "        <td>\n",
    "            <div align=\"left\", style=\"font-size:120%\">\n",
    "                <font color=\"#21618C\">\n",
    "                    <b>10. The internet provider claims that their router gives a speed of 25 Mbps with a standard deviation of 4.8 Mbps. The computer engineer wants to check whether the speed is different than what the provider claims. For this study, the engineer collects the speed of 40 routers and found that the average speed is 23.2 Mbps for those 40 routers. Test the claim of engineer with 95% confidence.</b>\n",
    "                </font> \n",
    "            </div>\n",
    "        </td>\n",
    "    </tr>\n",
    "</table>"
   ]
  },
  {
   "cell_type": "markdown",
   "id": "3a6799fb",
   "metadata": {},
   "source": [
    "The null and alternative hypothesis is:\n",
    "\n",
    "H<sub>0</sub>: $\\mu = 25 $<br>\n",
    "H<sub>1</sub>: $\\mu \\neq 25 $"
   ]
  },
  {
   "cell_type": "code",
   "execution_count": 43,
   "id": "cb944893",
   "metadata": {},
   "outputs": [
    {
     "name": "stdout",
     "output_type": "stream",
     "text": [
      "Critical value for two-tailed Z-test: 1.96\n"
     ]
    }
   ],
   "source": [
    "# calculate the z-value for 95% of confidence level\n",
    "# use 'stats.norm.isf()' to find the z-value corresponding to the upper tail probability 'q'\n",
    "# pass the value of 'alpha/2' to the parameter 'q', here alpha = 0.05\n",
    "# use 'round()' to round-off the value to 2 digits\n",
    "z_val = np.abs(round(stats.norm.isf(q = 0.05/2), 2))\n",
    "\n",
    "print('Critical value for two-tailed Z-test:', z_val)"
   ]
  },
  {
   "cell_type": "markdown",
   "id": "11e03350",
   "metadata": {},
   "source": [
    "If the Z statistics test value is less than -1.96 or greater than +1.96 we will reject the null hypothesis"
   ]
  },
  {
   "cell_type": "code",
   "execution_count": 44,
   "id": "0c5437c4",
   "metadata": {},
   "outputs": [
    {
     "name": "stdout",
     "output_type": "stream",
     "text": [
      "Z-score: -2.372\n"
     ]
    }
   ],
   "source": [
    "# define a function to calculate the Z-test statistic \n",
    "# pass the population mean, population standard deviation, sample size and sample mean as the function input\n",
    "def z_test(pop_mean, pop_std, n, samp_mean):\n",
    "   \n",
    "    # calculate the test statistic\n",
    "    z_score = (samp_mean - pop_mean) / (pop_std / np.sqrt(n))\n",
    "\n",
    "    # return the z-test value\n",
    "    return z_score\n",
    "\n",
    "# given data\n",
    "n = 40\n",
    "pop_mean = 25\n",
    "pop_std = 4.8\n",
    "samp_mean = 23.2\n",
    "\n",
    "# calculate the test statistic using the function 'z_test'\n",
    "z_score = z_test(pop_mean, pop_std, n, samp_mean)\n",
    "\n",
    "# use 'round()' to round-off the value to 3 digits \n",
    "z_score = round(z_score,3)\n",
    "print(\"Z-score:\", z_score)"
   ]
  },
  {
   "cell_type": "markdown",
   "id": "51a9051b",
   "metadata": {},
   "source": [
    "As the test value of -2.372 is less than the critical value of -1.96 we reject the null hypothesis and conclude that the average speed is different from 25"
   ]
  },
  {
   "cell_type": "markdown",
   "id": "49451aa0",
   "metadata": {},
   "source": [
    "<table align=\"left\">\n",
    "    <tr>\n",
    "        <td width=\"6%\">\n",
    "            <img src=\"question_icon.png\">\n",
    "        </td>\n",
    "        <td>\n",
    "            <div align=\"left\", style=\"font-size:120%\">\n",
    "                <font color=\"#21618C\">\n",
    "                    <b>11. The health magazine in New York states that every person in NY drinks more than 1.8 L water every day with a standard deviation of 0.5 L. To test this claim the physician collects the data of 45 people and found that the average water intake for these people is 1.93 L. Use the p-value technique to test the claim with 99% confidence.</b>\n",
    "                </font>\n",
    "            </div>\n",
    "        </td>\n",
    "    </tr>\n",
    "</table>"
   ]
  },
  {
   "cell_type": "markdown",
   "id": "1f82ab5e",
   "metadata": {},
   "source": [
    "The null and alternative hypothesis is:\n",
    "\n",
    "H<sub>0</sub>: $\\mu \\leq 1.8 $<br>\n",
    "H<sub>1</sub>: $\\mu > 1.8 $"
   ]
  },
  {
   "cell_type": "code",
   "execution_count": 45,
   "id": "38fd5cee",
   "metadata": {},
   "outputs": [
    {
     "name": "stdout",
     "output_type": "stream",
     "text": [
      "Z-score: 1.744\n"
     ]
    }
   ],
   "source": [
    "# define a function to calculate the Z-test statistic \n",
    "# pass the population mean, population standard deviation, sample size and sample mean as the function input\n",
    "def z_test(pop_mean, pop_std, n, samp_mean):\n",
    "   \n",
    "    # calculate the test statistic\n",
    "    z_score = (samp_mean - pop_mean) / (pop_std / np.sqrt(n))\n",
    "\n",
    "    # return the z-test value\n",
    "    return z_score\n",
    "\n",
    "# given data\n",
    "n = 45\n",
    "pop_mean = 1.8\n",
    "pop_std = 0.5\n",
    "samp_mean = 1.93\n",
    "\n",
    "# calculate the test statistic using the function 'z_test'\n",
    "z_score = z_test(pop_mean, pop_std, n, samp_mean)\n",
    "\n",
    "# use 'round()' to round-off the value to 3 digits \n",
    "z_score = round(z_score,3)\n",
    "print(\"Z-score:\", z_score)"
   ]
  },
  {
   "cell_type": "code",
   "execution_count": 46,
   "id": "7486a130",
   "metadata": {},
   "outputs": [
    {
     "name": "stdout",
     "output_type": "stream",
     "text": [
      "p-value: 0.041\n"
     ]
    }
   ],
   "source": [
    "# calculate the corresponding p-value for the test statistic\n",
    "# use 'sf()' to calculate P(Z > z_score)\n",
    "p_value = stats.norm.sf(z_score)\n",
    "\n",
    "# use 'round()' to round-off the value to 3 digits \n",
    "p_value = round(p_value,3)\n",
    "\n",
    "print('p-value:', p_value)"
   ]
  },
  {
   "cell_type": "markdown",
   "id": "53056d06",
   "metadata": {},
   "source": [
    "Here the p-value is greater than 0.01, thus we fail to reject the null hypothesis and infer that there is not enough evidence to conclude that the average water intake of an individual is more than 1.8 L."
   ]
  },
  {
   "cell_type": "markdown",
   "id": "168ec59e",
   "metadata": {},
   "source": [
    "<a id= \"OSTT\"></a>\n",
    "### One sample t Test"
   ]
  },
  {
   "cell_type": "markdown",
   "id": "1c3f5ea5",
   "metadata": {},
   "source": [
    "<table align=\"left\">\n",
    "    <tr>\n",
    "        <td width=\"6%\">\n",
    "            <img src=\"question_icon.png\">\n",
    "        </td>\n",
    "        <td>\n",
    "            <div align=\"left\", style=\"font-size:120%\">\n",
    "                <font color=\"#21618C\">\n",
    "                    <b>12. The quality assurance department has collected 15 packets of potato chips. The department wants to test the average weight of the packets. Check whether they can use the one sample t-test for the population mean with 95% confidence.</b>\n",
    "                </font>\n",
    "            </div>\n",
    "        </td>\n",
    "    </tr>\n",
    "</table>"
   ]
  },
  {
   "cell_type": "markdown",
   "id": "89f8e34a",
   "metadata": {},
   "source": [
    "Use the data given below:\n",
    "        \n",
    "    pack_wt = [26.8, 29.6, 27.8, 31.2, 30.9, 27.1, 28, 28.6, 29.4, 29.3, 31.5, 32.4, 29.7, 28.1, 31.9]"
   ]
  },
  {
   "cell_type": "markdown",
   "id": "df076099",
   "metadata": {},
   "source": [
    "To use the one sample t-test, the sample size should be less than 30. Also, the sample data should be drawn from a normal population. \n",
    "\n",
    "Here the sample size is less than 30. Now let us use the `Shapiro-Wilk` test to check the normality of the data."
   ]
  },
  {
   "cell_type": "code",
   "execution_count": 47,
   "id": "ba564264",
   "metadata": {},
   "outputs": [
    {
     "name": "stdout",
     "output_type": "stream",
     "text": [
      "P-Value: 0.587\n"
     ]
    }
   ],
   "source": [
    "# given sample data\n",
    "pack_wt = [26.8, 29.6, 27.8, 31.2, 30.9, 27.1, 28, 28.6, 29.4, 29.3, 31.5, 32.4, 29.7, 28.1, 31.9]\n",
    "\n",
    "# perform Shapiro-Wilk test to test the normality\n",
    "# shapiro() returns a tuple having the values of test statistics and the corresponding p-value\n",
    "stat, p_value = shapiro(pack_wt)\n",
    "\n",
    "\n",
    "# use 'round()' to round-off the value to 3 digits \n",
    "p_value = round(p_value,3)\n",
    "# print the test statistic and corresponding p-value \n",
    "print('P-Value:', p_value)"
   ]
  },
  {
   "cell_type": "markdown",
   "id": "9e90d446",
   "metadata": {},
   "source": [
    "From the above result, we can see that the p-value is greater than 0.05, thus we can say that the data is normally distributed. Also the sample size is less than 30.\n",
    "\n",
    "The  quality assurance department can use the one sample t-test for population mean."
   ]
  },
  {
   "cell_type": "markdown",
   "id": "3a6a4816",
   "metadata": {},
   "source": [
    "<table align=\"left\">\n",
    "    <tr>\n",
    "        <td width=\"6%\">\n",
    "            <img src=\"question_icon.png\">\n",
    "        </td>\n",
    "        <td>\n",
    "            <div align=\"left\", style=\"font-size:120%\">\n",
    "                <font color=\"#21618C\">\n",
    "                    <b>13. Use the weight of the potato chips packets given in the previous question and test whether the average weight of packet is more than 30 g. using p-value method. (Use 10% level of significance)</b>\n",
    "                </font>\n",
    "            </div>\n",
    "        </td>\n",
    "    </tr>\n",
    "</table>"
   ]
  },
  {
   "cell_type": "markdown",
   "id": "0825aba9",
   "metadata": {},
   "source": [
    "Use the data given below:\n",
    "        \n",
    "    pack_wt = [26.8, 29.6, 27.8, 31.2, 30.9, 27.1, 28, 28.6, 29.4, 29.3, 31.5, 32.4, 29.7, 28.1, 31.9]"
   ]
  },
  {
   "cell_type": "markdown",
   "id": "43c84a25",
   "metadata": {},
   "source": [
    "The null and alternative hypothesis is:\n",
    "\n",
    "H<sub>0</sub>: $\\mu \\leq 30$<br>\n",
    "H<sub>1</sub>: $\\mu > 30$"
   ]
  },
  {
   "cell_type": "code",
   "execution_count": 58,
   "id": "9cb4f65a",
   "metadata": {},
   "outputs": [],
   "source": [
    "# given sample data\n",
    "pack_wt = [26.8, 29.6, 27.8, 31.2, 30.9, 27.1, 28, 28.6, 29.4, 29.3, 31.5, 32.4, 29.7, 28.1, 31.9]\n",
    "\n",
    "# use 'ttest_1samp()' to calculate the test statistic and corresponding p-value for two-tailed test\n",
    "# pass the sample data to the parameter, 'a'\n",
    "# pass the average value in the null hypothesis to the parameter, 'popmean'\n",
    "t_stat, p_val = stats.ttest_1samp(a = pack_wt, popmean = 30)"
   ]
  },
  {
   "cell_type": "markdown",
   "id": "282f12f7",
   "metadata": {},
   "source": [
    "In our example, the hypothesis test is one-tailed. Thus, we divide the two-tailed probability by 2 to obtain the one-tailed probability."
   ]
  },
  {
   "cell_type": "code",
   "execution_count": 59,
   "id": "d671f6eb",
   "metadata": {},
   "outputs": [
    {
     "name": "stdout",
     "output_type": "stream",
     "text": [
      "Test Statistic: -1.12\n",
      "p-value: 0.14\n"
     ]
    }
   ],
   "source": [
    "# divide the p-value by 2\n",
    "req_p_val = p_val/2\n",
    "\n",
    "# print the test statistic value and corresponding p-value\n",
    "\n",
    "# use 'round()' to round-off the value to 3 digits \n",
    "print('Test Statistic:', round(t_stat,2))\n",
    "\n",
    "# use 'round()' to round-off the value to 3 digits \n",
    "print('p-value:',round(req_p_val,2))"
   ]
  },
  {
   "cell_type": "markdown",
   "id": "ace946b7",
   "metadata": {},
   "source": [
    "The above result shows that the p-value is is greater than 0.1, that implies we fail to reject (i.e. accept) $H_{0}$. Thus the there is not enough evidence to claim that average weight of chips packet is more than 30 g.\n",
    "\n",
    "**Please note that when null hypothesis is not rejected it cannot be accepted as True.There is merely not enough evidence to say that it is false. This may seem confusing but the situation is analogous to the court of law, where the verdict is either guilty or not guilty based on the evidence. If the a person is judged not guilty then it does not mean the person is proved innocent but merely that there is not enough evidence to reach the guilty verdict.** "
   ]
  },
  {
   "cell_type": "markdown",
   "id": "58bb43fe",
   "metadata": {},
   "source": [
    "<table align=\"left\">\n",
    "    <tr>\n",
    "        <td width=\"6%\">\n",
    "            <img src=\"question_icon.png\">\n",
    "        </td>\n",
    "        <td>\n",
    "            <div align=\"left\", style=\"font-size:120%\">\n",
    "                <font color=\"#21618C\">\n",
    "                    <b> 14. The orthopaedic surgeon states that a T-score for females older than 30 years is less than -1.2 which indicates the low bone density. To test the claim a sample of 10 women was selected and the average T-score was found to be -1.34 with a standard deviation of 0.8. Test the surgeon's claim  with 95% confidence. (Assume the normality of the T-score). </b>\n",
    "                </font>\n",
    "            </div>\n",
    "        </td>\n",
    "    </tr>\n",
    "</table>"
   ]
  },
  {
   "cell_type": "markdown",
   "id": "83cfdad7",
   "metadata": {},
   "source": [
    "The null and alternative hypothesis is:\n",
    "\n",
    "H<sub>0</sub>: $\\mu \\geq -1.2$<br>\n",
    "H<sub>1</sub>: $\\mu < -1.2$"
   ]
  },
  {
   "cell_type": "markdown",
   "id": "ad1be42c",
   "metadata": {},
   "source": [
    "Here ⍺ = 0.05 and degrees of freedom = 9, for a one-tailed test let us calculate the critical t-value."
   ]
  },
  {
   "cell_type": "code",
   "execution_count": 64,
   "id": "7fa0d8ad",
   "metadata": {},
   "outputs": [
    {
     "name": "stdout",
     "output_type": "stream",
     "text": [
      "Critical value for one-tailed t-test: 1.83\n"
     ]
    }
   ],
   "source": [
    "# calculate the t-value for 95% of confidence level\n",
    "# use 'stats.t.isf()' to find the t-value corresponding to the upper tail probability 'q'\n",
    "# pass the value of 'alpha' to the parameter 'q', here alpha = 0.05\n",
    "# pass the degrees of freedom to the parameter, 'df' \n",
    "# use 'round()' to round-off the value to 2 digits\n",
    "t_val = round(stats.t.isf(q = 0.05, df = 9), 2)\n",
    "\n",
    "print('Critical value for one-tailed t-test:', t_val)"
   ]
  },
  {
   "cell_type": "markdown",
   "id": "0c4cb90f",
   "metadata": {},
   "source": [
    "i.e. if t is less than -1.83 then we reject the null hypothesis."
   ]
  },
  {
   "cell_type": "code",
   "execution_count": 63,
   "id": "ed505b8b",
   "metadata": {},
   "outputs": [
    {
     "name": "stdout",
     "output_type": "stream",
     "text": [
      "test_stat: -0.553\n"
     ]
    }
   ],
   "source": [
    "# define a function to calculate the t-test statistic \n",
    "# pass the population mean, sample standard deviation, sample size and sample mean as the function input\n",
    "def t_test(pop_mean, samp_std, n, samp_mean):\n",
    "   \n",
    "    # calculate the test statistic\n",
    "    t_score = (samp_mean - pop_mean) / (samp_std / np.sqrt(n))\n",
    "\n",
    "    # return the t-test value\n",
    "    return t_score\n",
    "\n",
    "# given data\n",
    "n = 10\n",
    "pop_mean = -1.2\n",
    "samp_mean = -1.34\n",
    "samp_std = 0.8\n",
    "\n",
    "# calculate the test statistic using the function 't_test'\n",
    "test_stat = t_test(pop_mean, samp_std, n, samp_mean)\n",
    "\n",
    "# use 'round()' to round-off the value to 3 digits \n",
    "test_stat = round(test_stat,3)\n",
    "print(\"test_stat:\", test_stat)"
   ]
  },
  {
   "cell_type": "markdown",
   "id": "919e5ce7",
   "metadata": {},
   "source": [
    "We can see that the test statistic value is greater than -1.83. Thus, we fail to reject the null hypothesis and conclude that there is not enough evidence to conclude that T-score for females older than 30 is less than -1.2."
   ]
  },
  {
   "cell_type": "code",
   "execution_count": null,
   "id": "338ae5ba",
   "metadata": {},
   "outputs": [],
   "source": []
  }
 ],
 "metadata": {
  "kernelspec": {
   "display_name": "Python 3 (ipykernel)",
   "language": "python",
   "name": "python3"
  },
  "language_info": {
   "codemirror_mode": {
    "name": "ipython",
    "version": 3
   },
   "file_extension": ".py",
   "mimetype": "text/x-python",
   "name": "python",
   "nbconvert_exporter": "python",
   "pygments_lexer": "ipython3",
   "version": "3.9.7"
  }
 },
 "nbformat": 4,
 "nbformat_minor": 5
}
