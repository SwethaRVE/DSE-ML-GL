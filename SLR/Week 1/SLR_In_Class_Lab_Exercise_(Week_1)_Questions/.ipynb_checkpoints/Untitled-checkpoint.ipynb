{
 "cells": [
  {
   "cell_type": "code",
   "execution_count": null,
   "id": "8064aa9b",
   "metadata": {},
   "outputs": [],
   "source": [
    "# type your code here\n",
    "#used to perform dataframe related operations\n",
    "import pandas as pd\n",
    "#user to perform any mathematical operations\n",
    "import numpy as np\n",
    "#visualization \n",
    "import seaborn as sns\n",
    "import matplotlib.pyplot as plt\n",
    "#for scaling\n",
    "from sklearn.preprocessing import MinMaxScaler,StandardScaler,RobustScaler #use std scaler only when the data is normal\n",
    "#for transformation\n",
    "from sklearn.preprocessing import PowerTransformer\n",
    "#warnings\n",
    "from warnings import filterwarnings\n",
    "filterwarnings('ignore')\n",
    "\n",
    "from sklearn.model_selection import train_test_split\n",
    "\n",
    "#for performing linear regression\n",
    "from statsmodels.api import OLS #in ols you need to add a constant to get an intercept by default it doesnt give intercept\n",
    "from sklearn.linear_model import LinearRegression #you need to use argument to fit an intercept by default it gives intercept\n",
    "#in OLS you can extract the summary using .summary() \n",
    "# this enables you to test for most of the assumptions in a single glance\n",
    "\n",
    "#for testing performance of model\n",
    "from sklearn.metrics import mean_absolute_error\n",
    "from sklearn.metrics import mean_squared_error\n",
    "\n",
    "#for multicollinearity treatment\n",
    "from statsmodels.stats.outliers_influence import variance_inflation_factor\n",
    "\n",
    "#for testing normality of residuals\n",
    "from statsmodels.graphics.gofplots import qqplot"
   ]
  }
 ],
 "metadata": {
  "kernelspec": {
   "display_name": "Python 3 (ipykernel)",
   "language": "python",
   "name": "python3"
  },
  "language_info": {
   "codemirror_mode": {
    "name": "ipython",
    "version": 3
   },
   "file_extension": ".py",
   "mimetype": "text/x-python",
   "name": "python",
   "nbconvert_exporter": "python",
   "pygments_lexer": "ipython3",
   "version": "3.9.13"
  }
 },
 "nbformat": 4,
 "nbformat_minor": 5
}
