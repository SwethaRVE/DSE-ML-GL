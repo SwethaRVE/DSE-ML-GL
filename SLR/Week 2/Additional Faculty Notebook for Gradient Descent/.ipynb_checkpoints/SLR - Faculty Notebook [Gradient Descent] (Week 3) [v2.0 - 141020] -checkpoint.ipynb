{
 "cells": [
  {
   "attachments": {},
   "cell_type": "markdown",
   "metadata": {},
   "source": [
    "<table align=\"left\" width=100%>\n",
    "    <tr>\n",
    "        <td width=\"20%\">\n",
    "            <img src=\"faculty.png\">\n",
    "        </td>\n",
    "        <td>\n",
    "            <div align=\"center\">\n",
    "                <font color=\"#21618C\" size=8px>\n",
    "                  <b> Faculty Notebook <br> (Week 3) </b>\n",
    "                </font>\n",
    "            </div>\n",
    "        </td>\n",
    "        <td width=\"25%\">\n",
    "            <img src=\"GL-2.png\">\n",
    "        </td>\n",
    "    </tr>\n",
    "</table>"
   ]
  },
  {
   "cell_type": "markdown",
   "metadata": {},
   "source": [
    "## Problem Statement\n",
    "\n",
    "Indian Premier League (IPL) is a league for Twenty20 (T20) cricket championships started in India. The auction price of the player depends on his performance in test matches or one-day internationals. The primary skill of the player also contributes to the auction price. We use different regression techniques to predict the auction price of the player."
   ]
  },
  {
   "cell_type": "markdown",
   "metadata": {},
   "source": [
    "## About the dataset (IPL Auction data)\n",
    "\n",
    "**PLAYER NAME**: Name of the player<br>\n",
    "**AGE**: The age of the player is classified into three categories. Category 1 means the player is less than 25 years old. Category 2 means the player is between 25 and 35 years and Category 3 means the player has aged more than 35.<br>\n",
    "**COUNTRY**: Country of the player<br>\n",
    "**PLAYING ROLE**: Player's primary skill<br>\n",
    "**T-RUNS**: Total runs scored in the test matches<br>\n",
    "**T-WKTS**: Total wickets taken in the test matches<br>\n",
    "**ODI-RUNS-S**: Runs scored in One Day Internationals<br>\n",
    "**ODI-SR-B**: Batting strike rate in One Day Internationals<br>\n",
    "**ODI-WKTS**: Wickets taken in One Day Internationals<br>\n",
    "**ODI-SR-BL**: Bowling strike rate in One Day Internationals<br>\n",
    "**CAPTAINCY EXP**: Captained a team or not<br>\n",
    "**RUNS-S**: Number of runs scored by a player<br>\n",
    "**HS**: Highest score by a batsman in IPL<br>\n",
    "**AVE**: Average runs scored by a batsman in IPL<br>\n",
    "**SR-B**: Batting strike rate (ratio of the number of runs scored to the number of basses faced) in IPL.<br>\n",
    "**SIXERS**: Number of six runs scored by a player in IPL.<br>\n",
    "**RUNS-C**: Number of runs conceded by a player<br>\n",
    "**WKTS**: Number of wickets were taken by a player in IPL.<br>\n",
    "**AVE-BL**: Bowling average (number of runs conceded / number of wickets taken) in IPL.<br>\n",
    "**ECON**: Economy rate of a bowler in IPL (number of runs conceded by the bowler per over).<br>\n",
    "**SR-BL**: Bowling strike rate (ratio of the number of balls bowled to the number of wickets taken) in IPL.<br>\n",
    "**SOLD PRICE**: Auction price of the player<br>"
   ]
  },
  {
   "cell_type": "markdown",
   "metadata": {},
   "source": [
    "## Table of Content\n",
    "\n",
    "1. **[Import Libraries](#lib)**\n",
    "2. **[Data Preparation](#prep)**\n",
    "    - 2.1 - **[Read the Data](#read)**\n",
    "    - 2.2 - **[Check the Data Type](#dtype)**\n",
    "    - 2.3 - **[Remove Insignificant Variables](#drop)**\n",
    "    - 2.4 - **[Missing Value Treatment](#null)**\n",
    "    - 2.5 - **[Dummy Encode the Categorical Variables](#dummy)**\n",
    "    - 2.6 - **[Scale the Data](#scale)**\n",
    "    - 2.7 - **[Train-Test Split](#split)**\n",
    "3. **[Multiple Linear Regression (sklearn)](#linreg)**\n",
    "4. **[Gradient Descent](#GD)**"
   ]
  },
  {
   "cell_type": "markdown",
   "metadata": {},
   "source": [
    "<a id=\"lib\"></a>\n",
    "# 1. Import Libraries"
   ]
  },
  {
   "cell_type": "markdown",
   "metadata": {},
   "source": [
    "**Let us import the required libraries.**"
   ]
  },
  {
   "cell_type": "code",
   "execution_count": 1,
   "metadata": {},
   "outputs": [],
   "source": [
    "# import 'Pandas' \n",
    "import pandas as pd \n",
    "\n",
    "# import 'Numpy' \n",
    "import numpy as np\n",
    "\n",
    "# import subpackage of Matplotlib\n",
    "import matplotlib.pyplot as plt\n",
    "\n",
    "# import 'Seaborn' \n",
    "import seaborn as sns\n",
    "\n",
    "# to suppress warnings \n",
    "from warnings import filterwarnings\n",
    "filterwarnings('ignore')\n",
    "\n",
    "# display all columns of the dataframe\n",
    "pd.options.display.max_columns = None\n",
    "\n",
    "# display all rows of the dataframe\n",
    "pd.options.display.max_rows = None\n",
    " \n",
    "# to display the float values upto 6 decimal places     \n",
    "pd.options.display.float_format = '{:.6f}'.format\n",
    "\n",
    "# import train-test split \n",
    "from sklearn.model_selection import train_test_split\n",
    "\n",
    "# import various functions from statsmodels\n",
    "import statsmodels\n",
    "import statsmodels.api as sm\n",
    "import statsmodels.stats.api as sms\n",
    "from statsmodels.graphics.gofplots import qqplot\n",
    "from statsmodels.stats.outliers_influence import variance_inflation_factor\n",
    "\n",
    "# import 'stats'\n",
    "from scipy import stats\n",
    "\n",
    "# 'metrics' from sklearn is used for evaluating the model performance\n",
    "from sklearn.metrics import mean_squared_error\n",
    "\n",
    "# import functions to perform feature selection\n",
    "from mlxtend.feature_selection import SequentialFeatureSelector as sfs\n",
    "from sklearn.feature_selection import RFE\n",
    "\n",
    "# import function to perform linear regression\n",
    "from sklearn.linear_model import LinearRegression\n",
    "\n",
    "# import functions to perform cross validation\n",
    "from sklearn.model_selection import LeaveOneOut\n",
    "from sklearn.model_selection import cross_val_score\n",
    "from sklearn.model_selection import KFold\n",
    "\n",
    "# import StandardScaler to perform scaling\n",
    "from sklearn.preprocessing import StandardScaler \n",
    "\n",
    "# import SGDRegressor from sklearn to perform linear regression with stochastic gradient descent\n",
    "from sklearn.linear_model import SGDRegressor\n",
    "\n",
    "# import function for ridge regression\n",
    "from sklearn.linear_model import Ridge\n",
    "\n",
    "# import function for lasso regression\n",
    "from sklearn.linear_model import Lasso\n",
    "\n",
    "# import function for elastic net regression\n",
    "from sklearn.linear_model import ElasticNet\n",
    "\n",
    "# import function to perform GridSearchCV\n",
    "from sklearn.model_selection import GridSearchCV"
   ]
  },
  {
   "cell_type": "code",
   "execution_count": 2,
   "metadata": {},
   "outputs": [],
   "source": [
    "# set the plot size using 'rcParams'\n",
    "# once the plot size is set using 'rcParams', it sets the size of all the forthcoming plots in the file\n",
    "# pass width and height in inches to 'figure.figsize' \n",
    "plt.rcParams['figure.figsize'] = [15,8]"
   ]
  },
  {
   "cell_type": "markdown",
   "metadata": {},
   "source": [
    "<a id=\"prep\"></a>\n",
    "# 2. Data Preparation"
   ]
  },
  {
   "cell_type": "markdown",
   "metadata": {},
   "source": [
    "<a id=\"read\"></a>\n",
    "## 2.1 Read the Data"
   ]
  },
  {
   "cell_type": "markdown",
   "metadata": {},
   "source": [
    "#### Read the dataset and print the first five observations."
   ]
  },
  {
   "cell_type": "code",
   "execution_count": 3,
   "metadata": {
    "scrolled": false
   },
   "outputs": [
    {
     "data": {
      "text/html": [
       "<div>\n",
       "<style scoped>\n",
       "    .dataframe tbody tr th:only-of-type {\n",
       "        vertical-align: middle;\n",
       "    }\n",
       "\n",
       "    .dataframe tbody tr th {\n",
       "        vertical-align: top;\n",
       "    }\n",
       "\n",
       "    .dataframe thead th {\n",
       "        text-align: right;\n",
       "    }\n",
       "</style>\n",
       "<table border=\"1\" class=\"dataframe\">\n",
       "  <thead>\n",
       "    <tr style=\"text-align: right;\">\n",
       "      <th></th>\n",
       "      <th>PLAYER NAME</th>\n",
       "      <th>AGE</th>\n",
       "      <th>COUNTRY</th>\n",
       "      <th>PLAYING ROLE</th>\n",
       "      <th>T-RUNS</th>\n",
       "      <th>T-WKTS</th>\n",
       "      <th>ODI-RUNS-S</th>\n",
       "      <th>ODI-SR-B</th>\n",
       "      <th>ODI-WKTS</th>\n",
       "      <th>ODI-SR-BL</th>\n",
       "      <th>CAPTAINCY EXP</th>\n",
       "      <th>RUNS-S</th>\n",
       "      <th>HS</th>\n",
       "      <th>AVE</th>\n",
       "      <th>SR-B</th>\n",
       "      <th>SIXERS</th>\n",
       "      <th>RUNS-C</th>\n",
       "      <th>WKTS</th>\n",
       "      <th>AVE-BL</th>\n",
       "      <th>ECON</th>\n",
       "      <th>SR-BL</th>\n",
       "      <th>SOLD PRICE</th>\n",
       "    </tr>\n",
       "  </thead>\n",
       "  <tbody>\n",
       "    <tr>\n",
       "      <th>0</th>\n",
       "      <td>Abdulla</td>\n",
       "      <td>2</td>\n",
       "      <td>South Africa</td>\n",
       "      <td>Allrounder</td>\n",
       "      <td>0</td>\n",
       "      <td>0</td>\n",
       "      <td>0</td>\n",
       "      <td>0.000000</td>\n",
       "      <td>0</td>\n",
       "      <td>0.000000</td>\n",
       "      <td>0</td>\n",
       "      <td>0</td>\n",
       "      <td>0</td>\n",
       "      <td>0.000000</td>\n",
       "      <td>0.000000</td>\n",
       "      <td>0</td>\n",
       "      <td>307</td>\n",
       "      <td>15</td>\n",
       "      <td>20.470000</td>\n",
       "      <td>9.900000</td>\n",
       "      <td>13.930000</td>\n",
       "      <td>50000</td>\n",
       "    </tr>\n",
       "    <tr>\n",
       "      <th>1</th>\n",
       "      <td>Abdur Razzak</td>\n",
       "      <td>2</td>\n",
       "      <td>Bangladesh</td>\n",
       "      <td>Bowler</td>\n",
       "      <td>266</td>\n",
       "      <td>18</td>\n",
       "      <td>657</td>\n",
       "      <td>71.410000</td>\n",
       "      <td>185</td>\n",
       "      <td>37.600000</td>\n",
       "      <td>0</td>\n",
       "      <td>0</td>\n",
       "      <td>0</td>\n",
       "      <td>0.000000</td>\n",
       "      <td>0.000000</td>\n",
       "      <td>0</td>\n",
       "      <td>29</td>\n",
       "      <td>0</td>\n",
       "      <td>0.000000</td>\n",
       "      <td>17.500000</td>\n",
       "      <td>0.000000</td>\n",
       "      <td>50000</td>\n",
       "    </tr>\n",
       "    <tr>\n",
       "      <th>2</th>\n",
       "      <td>Agarkar</td>\n",
       "      <td>2</td>\n",
       "      <td>India</td>\n",
       "      <td>Bowler</td>\n",
       "      <td>669</td>\n",
       "      <td>58</td>\n",
       "      <td>1269</td>\n",
       "      <td>80.620000</td>\n",
       "      <td>288</td>\n",
       "      <td>32.900000</td>\n",
       "      <td>0</td>\n",
       "      <td>167</td>\n",
       "      <td>39</td>\n",
       "      <td>18.560000</td>\n",
       "      <td>121.010000</td>\n",
       "      <td>5</td>\n",
       "      <td>1059</td>\n",
       "      <td>29</td>\n",
       "      <td>36.520000</td>\n",
       "      <td>8.810000</td>\n",
       "      <td>24.900000</td>\n",
       "      <td>350000</td>\n",
       "    </tr>\n",
       "    <tr>\n",
       "      <th>3</th>\n",
       "      <td>Ashwin</td>\n",
       "      <td>1</td>\n",
       "      <td>India</td>\n",
       "      <td>Bowler</td>\n",
       "      <td>308</td>\n",
       "      <td>31</td>\n",
       "      <td>241</td>\n",
       "      <td>84.560000</td>\n",
       "      <td>51</td>\n",
       "      <td>36.800000</td>\n",
       "      <td>0</td>\n",
       "      <td>58</td>\n",
       "      <td>11</td>\n",
       "      <td>5.800000</td>\n",
       "      <td>76.320000</td>\n",
       "      <td>0</td>\n",
       "      <td>1125</td>\n",
       "      <td>49</td>\n",
       "      <td>22.960000</td>\n",
       "      <td>8.230000</td>\n",
       "      <td>22.140000</td>\n",
       "      <td>850000</td>\n",
       "    </tr>\n",
       "    <tr>\n",
       "      <th>4</th>\n",
       "      <td>Badrinath</td>\n",
       "      <td>2</td>\n",
       "      <td>India</td>\n",
       "      <td>Batsman</td>\n",
       "      <td>109</td>\n",
       "      <td>0</td>\n",
       "      <td>79</td>\n",
       "      <td>45.930000</td>\n",
       "      <td>0</td>\n",
       "      <td>0.000000</td>\n",
       "      <td>0</td>\n",
       "      <td>1317</td>\n",
       "      <td>71</td>\n",
       "      <td>32.930000</td>\n",
       "      <td>120.710000</td>\n",
       "      <td>28</td>\n",
       "      <td>0</td>\n",
       "      <td>0</td>\n",
       "      <td>0.000000</td>\n",
       "      <td>1.000000</td>\n",
       "      <td>0.000000</td>\n",
       "      <td>800000</td>\n",
       "    </tr>\n",
       "  </tbody>\n",
       "</table>\n",
       "</div>"
      ],
      "text/plain": [
       "    PLAYER NAME  AGE       COUNTRY PLAYING ROLE  T-RUNS  T-WKTS  ODI-RUNS-S  \\\n",
       "0       Abdulla    2  South Africa   Allrounder       0       0           0   \n",
       "1  Abdur Razzak    2    Bangladesh       Bowler     266      18         657   \n",
       "2       Agarkar    2         India       Bowler     669      58        1269   \n",
       "3        Ashwin    1         India       Bowler     308      31         241   \n",
       "4     Badrinath    2         India      Batsman     109       0          79   \n",
       "\n",
       "   ODI-SR-B  ODI-WKTS  ODI-SR-BL  CAPTAINCY EXP  RUNS-S  HS       AVE  \\\n",
       "0  0.000000         0   0.000000              0       0   0  0.000000   \n",
       "1 71.410000       185  37.600000              0       0   0  0.000000   \n",
       "2 80.620000       288  32.900000              0     167  39 18.560000   \n",
       "3 84.560000        51  36.800000              0      58  11  5.800000   \n",
       "4 45.930000         0   0.000000              0    1317  71 32.930000   \n",
       "\n",
       "        SR-B  SIXERS  RUNS-C  WKTS    AVE-BL      ECON     SR-BL  SOLD PRICE  \n",
       "0   0.000000       0     307    15 20.470000  9.900000 13.930000       50000  \n",
       "1   0.000000       0      29     0  0.000000 17.500000  0.000000       50000  \n",
       "2 121.010000       5    1059    29 36.520000  8.810000 24.900000      350000  \n",
       "3  76.320000       0    1125    49 22.960000  8.230000 22.140000      850000  \n",
       "4 120.710000      28       0     0  0.000000  1.000000  0.000000      800000  "
      ]
     },
     "execution_count": 3,
     "metadata": {},
     "output_type": "execute_result"
    }
   ],
   "source": [
    "# load the csv file\n",
    "# store the data in 'df_ipl'\n",
    "df_ipl = pd.read_csv('ipl_player_auction.csv')\n",
    "\n",
    "# display first five observations using head()\n",
    "df_ipl.head()"
   ]
  },
  {
   "cell_type": "markdown",
   "metadata": {},
   "source": [
    "**Let us now see the number of variables and observations in the data.**"
   ]
  },
  {
   "cell_type": "code",
   "execution_count": 4,
   "metadata": {},
   "outputs": [
    {
     "data": {
      "text/plain": [
       "(130, 22)"
      ]
     },
     "execution_count": 4,
     "metadata": {},
     "output_type": "execute_result"
    }
   ],
   "source": [
    "# use 'shape' to check the dimension of data\n",
    "df_ipl.shape"
   ]
  },
  {
   "cell_type": "markdown",
   "metadata": {},
   "source": [
    "**Interpretation:** The data has 130 observations and 22 variables."
   ]
  },
  {
   "cell_type": "markdown",
   "metadata": {},
   "source": [
    "<a id=\"dtype\"></a>\n",
    "## 2.2 Check the Data Type"
   ]
  },
  {
   "cell_type": "markdown",
   "metadata": {},
   "source": [
    "**Check the data type of each variable. If the data type is not as per the data definition, change the data type.**"
   ]
  },
  {
   "cell_type": "code",
   "execution_count": 5,
   "metadata": {
    "scrolled": false
   },
   "outputs": [
    {
     "data": {
      "text/plain": [
       "PLAYER NAME       object\n",
       "AGE                int64\n",
       "COUNTRY           object\n",
       "PLAYING ROLE      object\n",
       "T-RUNS             int64\n",
       "T-WKTS             int64\n",
       "ODI-RUNS-S         int64\n",
       "ODI-SR-B         float64\n",
       "ODI-WKTS           int64\n",
       "ODI-SR-BL        float64\n",
       "CAPTAINCY EXP      int64\n",
       "RUNS-S             int64\n",
       "HS                 int64\n",
       "AVE              float64\n",
       "SR-B             float64\n",
       "SIXERS             int64\n",
       "RUNS-C             int64\n",
       "WKTS               int64\n",
       "AVE-BL           float64\n",
       "ECON             float64\n",
       "SR-BL            float64\n",
       "SOLD PRICE         int64\n",
       "dtype: object"
      ]
     },
     "execution_count": 5,
     "metadata": {},
     "output_type": "execute_result"
    }
   ],
   "source": [
    "# use 'dtypes' to check the data type of a variable\n",
    "df_ipl.dtypes"
   ]
  },
  {
   "cell_type": "markdown",
   "metadata": {},
   "source": [
    "**Interpretation:** The variables `PLAYER NAME`, `COUNTRY` and `PLAYING ROLE` are categorical. All the remaining variables are numerical. \n",
    "\n",
    "From the above output, we see that the data type of `AGE` and `CAPTAINCY EXP` are 'int64'.\n",
    "\n",
    "But according to the data definition, `AGE` and `CAPTAINCY EXP` are categorical variables, which are wrongly interpreted as 'int64', so we will convert these variables data type to 'object'."
   ]
  },
  {
   "cell_type": "markdown",
   "metadata": {},
   "source": [
    "#### Change the data type as per the data definition."
   ]
  },
  {
   "cell_type": "code",
   "execution_count": 6,
   "metadata": {},
   "outputs": [],
   "source": [
    "# convert numerical variables to categorical (object) \n",
    "# use astype() to change the data type\n",
    "\n",
    "# change the data type of 'AGE' \n",
    "df_ipl['AGE'] = df_ipl['AGE'].astype('object')\n",
    "\n",
    "# change the data type of 'CAPTAINCY EXP'\n",
    "df_ipl['CAPTAINCY EXP'] = df_ipl['CAPTAINCY EXP'].astype('object')"
   ]
  },
  {
   "cell_type": "markdown",
   "metadata": {},
   "source": [
    "#### Recheck the data type after the conversion. "
   ]
  },
  {
   "cell_type": "code",
   "execution_count": 7,
   "metadata": {},
   "outputs": [
    {
     "data": {
      "text/plain": [
       "PLAYER NAME       object\n",
       "AGE               object\n",
       "COUNTRY           object\n",
       "PLAYING ROLE      object\n",
       "T-RUNS             int64\n",
       "T-WKTS             int64\n",
       "ODI-RUNS-S         int64\n",
       "ODI-SR-B         float64\n",
       "ODI-WKTS           int64\n",
       "ODI-SR-BL        float64\n",
       "CAPTAINCY EXP     object\n",
       "RUNS-S             int64\n",
       "HS                 int64\n",
       "AVE              float64\n",
       "SR-B             float64\n",
       "SIXERS             int64\n",
       "RUNS-C             int64\n",
       "WKTS               int64\n",
       "AVE-BL           float64\n",
       "ECON             float64\n",
       "SR-BL            float64\n",
       "SOLD PRICE         int64\n",
       "dtype: object"
      ]
     },
     "execution_count": 7,
     "metadata": {},
     "output_type": "execute_result"
    }
   ],
   "source": [
    "# recheck the data types using 'dtypes'\n",
    "df_ipl.dtypes"
   ]
  },
  {
   "cell_type": "markdown",
   "metadata": {},
   "source": [
    "**Interpretation:** Now, all the variables have the correct data type."
   ]
  },
  {
   "cell_type": "markdown",
   "metadata": {},
   "source": [
    "<a id=\"drop\"></a>\n",
    "## 2.3 Remove Insignificant Variables"
   ]
  },
  {
   "cell_type": "markdown",
   "metadata": {},
   "source": [
    "The column `PLAYER NAME` contains the name of the player, which is redundant for further analysis. Thus, we drop the column."
   ]
  },
  {
   "cell_type": "code",
   "execution_count": 8,
   "metadata": {},
   "outputs": [],
   "source": [
    "# drop the column 'PLAYER NAME' using drop()\n",
    "# 'axis = 1' drops the specified column\n",
    "df_ipl = df_ipl.drop('PLAYER NAME', axis = 1)"
   ]
  },
  {
   "cell_type": "markdown",
   "metadata": {},
   "source": [
    "<a id=\"null\"></a>\n",
    "## 2.4 Missing Value Treatment"
   ]
  },
  {
   "cell_type": "markdown",
   "metadata": {},
   "source": [
    "First run a check for the presence of missing values and their percentage for each column. Then choose the right approach to treat them."
   ]
  },
  {
   "cell_type": "code",
   "execution_count": 9,
   "metadata": {},
   "outputs": [
    {
     "data": {
      "text/html": [
       "<div>\n",
       "<style scoped>\n",
       "    .dataframe tbody tr th:only-of-type {\n",
       "        vertical-align: middle;\n",
       "    }\n",
       "\n",
       "    .dataframe tbody tr th {\n",
       "        vertical-align: top;\n",
       "    }\n",
       "\n",
       "    .dataframe thead th {\n",
       "        text-align: right;\n",
       "    }\n",
       "</style>\n",
       "<table border=\"1\" class=\"dataframe\">\n",
       "  <thead>\n",
       "    <tr style=\"text-align: right;\">\n",
       "      <th></th>\n",
       "      <th>Total</th>\n",
       "      <th>Percentage of Missing Values</th>\n",
       "    </tr>\n",
       "  </thead>\n",
       "  <tbody>\n",
       "    <tr>\n",
       "      <th>SOLD PRICE</th>\n",
       "      <td>0</td>\n",
       "      <td>0.000000</td>\n",
       "    </tr>\n",
       "    <tr>\n",
       "      <th>CAPTAINCY EXP</th>\n",
       "      <td>0</td>\n",
       "      <td>0.000000</td>\n",
       "    </tr>\n",
       "    <tr>\n",
       "      <th>COUNTRY</th>\n",
       "      <td>0</td>\n",
       "      <td>0.000000</td>\n",
       "    </tr>\n",
       "    <tr>\n",
       "      <th>PLAYING ROLE</th>\n",
       "      <td>0</td>\n",
       "      <td>0.000000</td>\n",
       "    </tr>\n",
       "    <tr>\n",
       "      <th>T-RUNS</th>\n",
       "      <td>0</td>\n",
       "      <td>0.000000</td>\n",
       "    </tr>\n",
       "    <tr>\n",
       "      <th>T-WKTS</th>\n",
       "      <td>0</td>\n",
       "      <td>0.000000</td>\n",
       "    </tr>\n",
       "    <tr>\n",
       "      <th>ODI-RUNS-S</th>\n",
       "      <td>0</td>\n",
       "      <td>0.000000</td>\n",
       "    </tr>\n",
       "    <tr>\n",
       "      <th>ODI-SR-B</th>\n",
       "      <td>0</td>\n",
       "      <td>0.000000</td>\n",
       "    </tr>\n",
       "    <tr>\n",
       "      <th>ODI-WKTS</th>\n",
       "      <td>0</td>\n",
       "      <td>0.000000</td>\n",
       "    </tr>\n",
       "    <tr>\n",
       "      <th>ODI-SR-BL</th>\n",
       "      <td>0</td>\n",
       "      <td>0.000000</td>\n",
       "    </tr>\n",
       "    <tr>\n",
       "      <th>RUNS-S</th>\n",
       "      <td>0</td>\n",
       "      <td>0.000000</td>\n",
       "    </tr>\n",
       "    <tr>\n",
       "      <th>SR-BL</th>\n",
       "      <td>0</td>\n",
       "      <td>0.000000</td>\n",
       "    </tr>\n",
       "    <tr>\n",
       "      <th>HS</th>\n",
       "      <td>0</td>\n",
       "      <td>0.000000</td>\n",
       "    </tr>\n",
       "    <tr>\n",
       "      <th>AVE</th>\n",
       "      <td>0</td>\n",
       "      <td>0.000000</td>\n",
       "    </tr>\n",
       "    <tr>\n",
       "      <th>SR-B</th>\n",
       "      <td>0</td>\n",
       "      <td>0.000000</td>\n",
       "    </tr>\n",
       "    <tr>\n",
       "      <th>SIXERS</th>\n",
       "      <td>0</td>\n",
       "      <td>0.000000</td>\n",
       "    </tr>\n",
       "    <tr>\n",
       "      <th>RUNS-C</th>\n",
       "      <td>0</td>\n",
       "      <td>0.000000</td>\n",
       "    </tr>\n",
       "    <tr>\n",
       "      <th>WKTS</th>\n",
       "      <td>0</td>\n",
       "      <td>0.000000</td>\n",
       "    </tr>\n",
       "    <tr>\n",
       "      <th>AVE-BL</th>\n",
       "      <td>0</td>\n",
       "      <td>0.000000</td>\n",
       "    </tr>\n",
       "    <tr>\n",
       "      <th>ECON</th>\n",
       "      <td>0</td>\n",
       "      <td>0.000000</td>\n",
       "    </tr>\n",
       "    <tr>\n",
       "      <th>AGE</th>\n",
       "      <td>0</td>\n",
       "      <td>0.000000</td>\n",
       "    </tr>\n",
       "  </tbody>\n",
       "</table>\n",
       "</div>"
      ],
      "text/plain": [
       "               Total  Percentage of Missing Values\n",
       "SOLD PRICE         0                      0.000000\n",
       "CAPTAINCY EXP      0                      0.000000\n",
       "COUNTRY            0                      0.000000\n",
       "PLAYING ROLE       0                      0.000000\n",
       "T-RUNS             0                      0.000000\n",
       "T-WKTS             0                      0.000000\n",
       "ODI-RUNS-S         0                      0.000000\n",
       "ODI-SR-B           0                      0.000000\n",
       "ODI-WKTS           0                      0.000000\n",
       "ODI-SR-BL          0                      0.000000\n",
       "RUNS-S             0                      0.000000\n",
       "SR-BL              0                      0.000000\n",
       "HS                 0                      0.000000\n",
       "AVE                0                      0.000000\n",
       "SR-B               0                      0.000000\n",
       "SIXERS             0                      0.000000\n",
       "RUNS-C             0                      0.000000\n",
       "WKTS               0                      0.000000\n",
       "AVE-BL             0                      0.000000\n",
       "ECON               0                      0.000000\n",
       "AGE                0                      0.000000"
      ]
     },
     "execution_count": 9,
     "metadata": {},
     "output_type": "execute_result"
    }
   ],
   "source": [
    "# sort the variables on the basis of total null values in the variable\n",
    "# 'isnull().sum()' returns the number of missing values in each variable\n",
    "# 'ascending = False' sorts values in the descending order\n",
    "# the variable with highest number of missing values will appear first\n",
    "Total = df_ipl.isnull().sum().sort_values(ascending=False)          \n",
    "\n",
    "# calculate percentage of missing values\n",
    "# 'ascending = False' sorts values in the descending order\n",
    "# the variable with highest percentage of missing values will appear first\n",
    "Percent = (df_ipl.isnull().sum()*100/df_ipl.isnull().count()).sort_values(ascending=False)   \n",
    "\n",
    "# concat the 'Total' and 'Percent' columns using 'concat' function\n",
    "# pass a list of column names in parameter 'keys' \n",
    "# 'axis = 1' concats along the columns\n",
    "missing_data = pd.concat([Total, Percent], axis=1, keys=['Total', 'Percentage of Missing Values'])    \n",
    "missing_data"
   ]
  },
  {
   "cell_type": "markdown",
   "metadata": {},
   "source": [
    "**Interpretation:** The above output shows that there are no missing values in the data."
   ]
  },
  {
   "cell_type": "markdown",
   "metadata": {},
   "source": [
    "<a id=\"dummy\"></a>\n",
    "## 2.5 Dummy Encode the Categorical Variables"
   ]
  },
  {
   "cell_type": "markdown",
   "metadata": {},
   "source": [
    "#### Split the dependent and independent variables."
   ]
  },
  {
   "cell_type": "code",
   "execution_count": 10,
   "metadata": {},
   "outputs": [],
   "source": [
    "# store the target variable 'SOLD PRICE' in a dataframe 'df_target'\n",
    "df_target = df_ipl['SOLD PRICE']\n",
    "\n",
    "# store all the independent variables in a dataframe 'df_feature' \n",
    "# drop the column 'SOLD PRICE' using drop()\n",
    "# 'axis = 1' drops the specified column\n",
    "df_feature = df_ipl.drop('SOLD PRICE', axis = 1)"
   ]
  },
  {
   "cell_type": "markdown",
   "metadata": {},
   "source": [
    "#### Filter numerical and categorical variables."
   ]
  },
  {
   "cell_type": "code",
   "execution_count": 11,
   "metadata": {},
   "outputs": [
    {
     "data": {
      "text/plain": [
       "Index(['T-RUNS', 'T-WKTS', 'ODI-RUNS-S', 'ODI-SR-B', 'ODI-WKTS', 'ODI-SR-BL',\n",
       "       'RUNS-S', 'HS', 'AVE', 'SR-B', 'SIXERS', 'RUNS-C', 'WKTS', 'AVE-BL',\n",
       "       'ECON', 'SR-BL'],\n",
       "      dtype='object')"
      ]
     },
     "execution_count": 11,
     "metadata": {},
     "output_type": "execute_result"
    }
   ],
   "source": [
    "# filter the numerical features in the dataset\n",
    "# 'select_dtypes' is used to select the variables with given data type\n",
    "# 'include=[np.number]' will include all the numerical variables\n",
    "df_num = df_feature.select_dtypes(include=[np.number])\n",
    "\n",
    "# display numerical features\n",
    "df_num.columns"
   ]
  },
  {
   "cell_type": "code",
   "execution_count": 12,
   "metadata": {},
   "outputs": [
    {
     "data": {
      "text/plain": [
       "Index(['AGE', 'COUNTRY', 'PLAYING ROLE', 'CAPTAINCY EXP'], dtype='object')"
      ]
     },
     "execution_count": 12,
     "metadata": {},
     "output_type": "execute_result"
    }
   ],
   "source": [
    "# filter the categorical features in the dataset\n",
    "# 'select_dtypes' is used to select the variables with given data type\n",
    "# 'include=[np.object]' will include all the categorical variables\n",
    "df_cat = df_feature.select_dtypes(include=[np.object])\n",
    "\n",
    "# display categorical features\n",
    "df_cat.columns"
   ]
  },
  {
   "cell_type": "markdown",
   "metadata": {},
   "source": [
    "The regression method fails in presence of categorical variables. To overcome this we use (n-1) dummy encoding. \n",
    "\n",
    "**Encode the each categorical variable and create (n-1) dummy variables for n categories of the variable.**"
   ]
  },
  {
   "cell_type": "code",
   "execution_count": 13,
   "metadata": {},
   "outputs": [],
   "source": [
    "# use 'get_dummies' from pandas to create dummy variables\n",
    "# use 'drop_first' to create (n-1) dummy variables for 'medincome'\n",
    "dummy_var = pd.get_dummies(data = df_cat, drop_first=True)"
   ]
  },
  {
   "cell_type": "markdown",
   "metadata": {},
   "source": [
    "#### Concatenate numerical and dummy encoded categorical variables."
   ]
  },
  {
   "cell_type": "code",
   "execution_count": 14,
   "metadata": {},
   "outputs": [
    {
     "data": {
      "text/html": [
       "<div>\n",
       "<style scoped>\n",
       "    .dataframe tbody tr th:only-of-type {\n",
       "        vertical-align: middle;\n",
       "    }\n",
       "\n",
       "    .dataframe tbody tr th {\n",
       "        vertical-align: top;\n",
       "    }\n",
       "\n",
       "    .dataframe thead th {\n",
       "        text-align: right;\n",
       "    }\n",
       "</style>\n",
       "<table border=\"1\" class=\"dataframe\">\n",
       "  <thead>\n",
       "    <tr style=\"text-align: right;\">\n",
       "      <th></th>\n",
       "      <th>T-RUNS</th>\n",
       "      <th>T-WKTS</th>\n",
       "      <th>ODI-RUNS-S</th>\n",
       "      <th>ODI-SR-B</th>\n",
       "      <th>ODI-WKTS</th>\n",
       "      <th>ODI-SR-BL</th>\n",
       "      <th>RUNS-S</th>\n",
       "      <th>HS</th>\n",
       "      <th>AVE</th>\n",
       "      <th>SR-B</th>\n",
       "      <th>SIXERS</th>\n",
       "      <th>RUNS-C</th>\n",
       "      <th>WKTS</th>\n",
       "      <th>AVE-BL</th>\n",
       "      <th>ECON</th>\n",
       "      <th>SR-BL</th>\n",
       "      <th>AGE_2</th>\n",
       "      <th>AGE_3</th>\n",
       "      <th>COUNTRY_Bangladesh</th>\n",
       "      <th>COUNTRY_England</th>\n",
       "      <th>COUNTRY_India</th>\n",
       "      <th>COUNTRY_New Zealand</th>\n",
       "      <th>COUNTRY_Pakistan</th>\n",
       "      <th>COUNTRY_South Africa</th>\n",
       "      <th>COUNTRY_Sri Lanka</th>\n",
       "      <th>COUNTRY_West Indies</th>\n",
       "      <th>COUNTRY_Zimbabwe</th>\n",
       "      <th>PLAYING ROLE_Batsman</th>\n",
       "      <th>PLAYING ROLE_Bowler</th>\n",
       "      <th>PLAYING ROLE_W. Keeper</th>\n",
       "      <th>CAPTAINCY EXP_1</th>\n",
       "    </tr>\n",
       "  </thead>\n",
       "  <tbody>\n",
       "    <tr>\n",
       "      <th>0</th>\n",
       "      <td>0</td>\n",
       "      <td>0</td>\n",
       "      <td>0</td>\n",
       "      <td>0.000000</td>\n",
       "      <td>0</td>\n",
       "      <td>0.000000</td>\n",
       "      <td>0</td>\n",
       "      <td>0</td>\n",
       "      <td>0.000000</td>\n",
       "      <td>0.000000</td>\n",
       "      <td>0</td>\n",
       "      <td>307</td>\n",
       "      <td>15</td>\n",
       "      <td>20.470000</td>\n",
       "      <td>9.900000</td>\n",
       "      <td>13.930000</td>\n",
       "      <td>1</td>\n",
       "      <td>0</td>\n",
       "      <td>0</td>\n",
       "      <td>0</td>\n",
       "      <td>0</td>\n",
       "      <td>0</td>\n",
       "      <td>0</td>\n",
       "      <td>1</td>\n",
       "      <td>0</td>\n",
       "      <td>0</td>\n",
       "      <td>0</td>\n",
       "      <td>0</td>\n",
       "      <td>0</td>\n",
       "      <td>0</td>\n",
       "      <td>0</td>\n",
       "    </tr>\n",
       "    <tr>\n",
       "      <th>1</th>\n",
       "      <td>266</td>\n",
       "      <td>18</td>\n",
       "      <td>657</td>\n",
       "      <td>71.410000</td>\n",
       "      <td>185</td>\n",
       "      <td>37.600000</td>\n",
       "      <td>0</td>\n",
       "      <td>0</td>\n",
       "      <td>0.000000</td>\n",
       "      <td>0.000000</td>\n",
       "      <td>0</td>\n",
       "      <td>29</td>\n",
       "      <td>0</td>\n",
       "      <td>0.000000</td>\n",
       "      <td>17.500000</td>\n",
       "      <td>0.000000</td>\n",
       "      <td>1</td>\n",
       "      <td>0</td>\n",
       "      <td>1</td>\n",
       "      <td>0</td>\n",
       "      <td>0</td>\n",
       "      <td>0</td>\n",
       "      <td>0</td>\n",
       "      <td>0</td>\n",
       "      <td>0</td>\n",
       "      <td>0</td>\n",
       "      <td>0</td>\n",
       "      <td>0</td>\n",
       "      <td>1</td>\n",
       "      <td>0</td>\n",
       "      <td>0</td>\n",
       "    </tr>\n",
       "    <tr>\n",
       "      <th>2</th>\n",
       "      <td>669</td>\n",
       "      <td>58</td>\n",
       "      <td>1269</td>\n",
       "      <td>80.620000</td>\n",
       "      <td>288</td>\n",
       "      <td>32.900000</td>\n",
       "      <td>167</td>\n",
       "      <td>39</td>\n",
       "      <td>18.560000</td>\n",
       "      <td>121.010000</td>\n",
       "      <td>5</td>\n",
       "      <td>1059</td>\n",
       "      <td>29</td>\n",
       "      <td>36.520000</td>\n",
       "      <td>8.810000</td>\n",
       "      <td>24.900000</td>\n",
       "      <td>1</td>\n",
       "      <td>0</td>\n",
       "      <td>0</td>\n",
       "      <td>0</td>\n",
       "      <td>1</td>\n",
       "      <td>0</td>\n",
       "      <td>0</td>\n",
       "      <td>0</td>\n",
       "      <td>0</td>\n",
       "      <td>0</td>\n",
       "      <td>0</td>\n",
       "      <td>0</td>\n",
       "      <td>1</td>\n",
       "      <td>0</td>\n",
       "      <td>0</td>\n",
       "    </tr>\n",
       "    <tr>\n",
       "      <th>3</th>\n",
       "      <td>308</td>\n",
       "      <td>31</td>\n",
       "      <td>241</td>\n",
       "      <td>84.560000</td>\n",
       "      <td>51</td>\n",
       "      <td>36.800000</td>\n",
       "      <td>58</td>\n",
       "      <td>11</td>\n",
       "      <td>5.800000</td>\n",
       "      <td>76.320000</td>\n",
       "      <td>0</td>\n",
       "      <td>1125</td>\n",
       "      <td>49</td>\n",
       "      <td>22.960000</td>\n",
       "      <td>8.230000</td>\n",
       "      <td>22.140000</td>\n",
       "      <td>0</td>\n",
       "      <td>0</td>\n",
       "      <td>0</td>\n",
       "      <td>0</td>\n",
       "      <td>1</td>\n",
       "      <td>0</td>\n",
       "      <td>0</td>\n",
       "      <td>0</td>\n",
       "      <td>0</td>\n",
       "      <td>0</td>\n",
       "      <td>0</td>\n",
       "      <td>0</td>\n",
       "      <td>1</td>\n",
       "      <td>0</td>\n",
       "      <td>0</td>\n",
       "    </tr>\n",
       "    <tr>\n",
       "      <th>4</th>\n",
       "      <td>109</td>\n",
       "      <td>0</td>\n",
       "      <td>79</td>\n",
       "      <td>45.930000</td>\n",
       "      <td>0</td>\n",
       "      <td>0.000000</td>\n",
       "      <td>1317</td>\n",
       "      <td>71</td>\n",
       "      <td>32.930000</td>\n",
       "      <td>120.710000</td>\n",
       "      <td>28</td>\n",
       "      <td>0</td>\n",
       "      <td>0</td>\n",
       "      <td>0.000000</td>\n",
       "      <td>1.000000</td>\n",
       "      <td>0.000000</td>\n",
       "      <td>1</td>\n",
       "      <td>0</td>\n",
       "      <td>0</td>\n",
       "      <td>0</td>\n",
       "      <td>1</td>\n",
       "      <td>0</td>\n",
       "      <td>0</td>\n",
       "      <td>0</td>\n",
       "      <td>0</td>\n",
       "      <td>0</td>\n",
       "      <td>0</td>\n",
       "      <td>1</td>\n",
       "      <td>0</td>\n",
       "      <td>0</td>\n",
       "      <td>0</td>\n",
       "    </tr>\n",
       "  </tbody>\n",
       "</table>\n",
       "</div>"
      ],
      "text/plain": [
       "   T-RUNS  T-WKTS  ODI-RUNS-S  ODI-SR-B  ODI-WKTS  ODI-SR-BL  RUNS-S  HS  \\\n",
       "0       0       0           0  0.000000         0   0.000000       0   0   \n",
       "1     266      18         657 71.410000       185  37.600000       0   0   \n",
       "2     669      58        1269 80.620000       288  32.900000     167  39   \n",
       "3     308      31         241 84.560000        51  36.800000      58  11   \n",
       "4     109       0          79 45.930000         0   0.000000    1317  71   \n",
       "\n",
       "        AVE       SR-B  SIXERS  RUNS-C  WKTS    AVE-BL      ECON     SR-BL  \\\n",
       "0  0.000000   0.000000       0     307    15 20.470000  9.900000 13.930000   \n",
       "1  0.000000   0.000000       0      29     0  0.000000 17.500000  0.000000   \n",
       "2 18.560000 121.010000       5    1059    29 36.520000  8.810000 24.900000   \n",
       "3  5.800000  76.320000       0    1125    49 22.960000  8.230000 22.140000   \n",
       "4 32.930000 120.710000      28       0     0  0.000000  1.000000  0.000000   \n",
       "\n",
       "   AGE_2  AGE_3  COUNTRY_Bangladesh  COUNTRY_England  COUNTRY_India  \\\n",
       "0      1      0                   0                0              0   \n",
       "1      1      0                   1                0              0   \n",
       "2      1      0                   0                0              1   \n",
       "3      0      0                   0                0              1   \n",
       "4      1      0                   0                0              1   \n",
       "\n",
       "   COUNTRY_New Zealand  COUNTRY_Pakistan  COUNTRY_South Africa  \\\n",
       "0                    0                 0                     1   \n",
       "1                    0                 0                     0   \n",
       "2                    0                 0                     0   \n",
       "3                    0                 0                     0   \n",
       "4                    0                 0                     0   \n",
       "\n",
       "   COUNTRY_Sri Lanka  COUNTRY_West Indies  COUNTRY_Zimbabwe  \\\n",
       "0                  0                    0                 0   \n",
       "1                  0                    0                 0   \n",
       "2                  0                    0                 0   \n",
       "3                  0                    0                 0   \n",
       "4                  0                    0                 0   \n",
       "\n",
       "   PLAYING ROLE_Batsman  PLAYING ROLE_Bowler  PLAYING ROLE_W. Keeper  \\\n",
       "0                     0                    0                       0   \n",
       "1                     0                    1                       0   \n",
       "2                     0                    1                       0   \n",
       "3                     0                    1                       0   \n",
       "4                     1                    0                       0   \n",
       "\n",
       "   CAPTAINCY EXP_1  \n",
       "0                0  \n",
       "1                0  \n",
       "2                0  \n",
       "3                0  \n",
       "4                0  "
      ]
     },
     "execution_count": 14,
     "metadata": {},
     "output_type": "execute_result"
    }
   ],
   "source": [
    "# concat the dummy variables with numeric features to create a dataframe of all independent variables\n",
    "# 'axis=1' concats the dataframes along columns \n",
    "df_ipl_dummy = pd.concat([df_num, dummy_var], axis=1)\n",
    "\n",
    "# display first five observations\n",
    "df_ipl_dummy.head()"
   ]
  },
  {
   "cell_type": "markdown",
   "metadata": {},
   "source": [
    "**Interpretation:** We can see that the dummy variables are added to the data. '1' in the column 'AGE_2' represents that the age of the corresponding player is between 25 to 35 years. Also, the '0' in both the columns 'AGE_2' and 'AGE_3' indicates that the age of the corresponding player is less than 25."
   ]
  },
  {
   "cell_type": "markdown",
   "metadata": {},
   "source": [
    "<a id=\"scale\"></a>\n",
    "## 2.6 Scale the Data "
   ]
  },
  {
   "cell_type": "markdown",
   "metadata": {},
   "source": [
    "We scale the variables to get all the variables in the same range. With this, we can avoid a problem in which some features come to dominate solely because they tend to have larger values than others."
   ]
  },
  {
   "cell_type": "code",
   "execution_count": 15,
   "metadata": {},
   "outputs": [],
   "source": [
    "# initialize the standard scalar\n",
    "X_scaler = StandardScaler()\n",
    "\n",
    "# standardize all the columns of the dataframe 'df_ipl_dummy'\n",
    "X = X_scaler.fit_transform(df_ipl_dummy)\n",
    "\n",
    "# standardize the target variable explicitly and store it in a new variable 'y'\n",
    "y = (df_target - df_target.mean()) / df_target.std()"
   ]
  },
  {
   "cell_type": "markdown",
   "metadata": {},
   "source": [
    "<a id=\"split\"></a>\n",
    "## 2.7 Train-Test Split"
   ]
  },
  {
   "cell_type": "markdown",
   "metadata": {},
   "source": [
    "Before applying variour regression techniques to predict the auction price of the player, let us split the dataset in train and test set."
   ]
  },
  {
   "cell_type": "code",
   "execution_count": 16,
   "metadata": {},
   "outputs": [
    {
     "name": "stdout",
     "output_type": "stream",
     "text": [
      "X_train (104, 31)\n",
      "y_train (104,)\n",
      "X_test (26, 31)\n",
      "y_test (26,)\n"
     ]
    }
   ],
   "source": [
    "# split data into train subset and test subset\n",
    "# set 'random_state' to generate the same dataset each time you run the code \n",
    "# 'test_size' returns the proportion of data to be included in the testing set\n",
    "X_train, X_test, y_train, y_test = train_test_split(X, y, random_state=10, test_size = 0.2)\n",
    "\n",
    "# check the dimensions of the train & test subset using 'shape'\n",
    "# print dimension of train set\n",
    "print('X_train', X_train.shape)\n",
    "print('y_train', y_train.shape)\n",
    "\n",
    "# print dimension of test set\n",
    "print('X_test', X_test.shape)\n",
    "print('y_test', y_test.shape)"
   ]
  },
  {
   "cell_type": "code",
   "execution_count": 17,
   "metadata": {},
   "outputs": [],
   "source": [
    "X = X_train.copy()\n",
    "Y = y_train.copy()"
   ]
  },
  {
   "cell_type": "markdown",
   "metadata": {},
   "source": [
    "<a id=\"GD\"></a>\n",
    "# 4. Gradient Descent"
   ]
  },
  {
   "cell_type": "markdown",
   "metadata": {},
   "source": [
    "## Step 1: Random Initialization of the Bias (intercept) and Weights (feature weight)"
   ]
  },
  {
   "cell_type": "code",
   "execution_count": 18,
   "metadata": {},
   "outputs": [],
   "source": [
    "import random\n",
    "\n",
    "# dim: number of features in the dataset\n",
    "def initialize_bw(dim):\n",
    "\n",
    "    # set the seed to 42\n",
    "    np.random.seed(seed = 42)\n",
    "    random.seed(42)\n",
    "    \n",
    "    # initialize the bias\n",
    "    b = random.random()\n",
    "    \n",
    "    # initialize the weights\n",
    "    w = np.random.rand(dim)\n",
    "    \n",
    "    return b, w"
   ]
  },
  {
   "cell_type": "code",
   "execution_count": 19,
   "metadata": {},
   "outputs": [
    {
     "name": "stdout",
     "output_type": "stream",
     "text": [
      "Bias:  0.6394267984578837\n",
      "Weights:  [0.37454012 0.95071431 0.73199394 0.59865848 0.15601864 0.15599452\n",
      " 0.05808361 0.86617615 0.60111501 0.70807258 0.02058449 0.96990985\n",
      " 0.83244264 0.21233911 0.18182497 0.18340451 0.30424224 0.52475643\n",
      " 0.43194502 0.29122914 0.61185289 0.13949386 0.29214465 0.36636184\n",
      " 0.45606998 0.78517596 0.19967378 0.51423444 0.59241457 0.04645041\n",
      " 0.60754485]\n"
     ]
    }
   ],
   "source": [
    "# assign random values to the bias and weights\n",
    "b, w = initialize_bw(X.shape[1])\n",
    "# print the bias\n",
    "print('Bias: ', b)\n",
    "# print the weights\n",
    "print('Weights: ', w)"
   ]
  },
  {
   "cell_type": "markdown",
   "metadata": {},
   "source": [
    "## Step 2: Predict Y values using the Bias and Weights"
   ]
  },
  {
   "cell_type": "code",
   "execution_count": 20,
   "metadata": {},
   "outputs": [],
   "source": [
    "# b: bias\n",
    "# w: weights\n",
    "# X: input dataframe\n",
    "# np.matmul(): used for matrix multiplication of weights with the input variable values\n",
    "\n",
    "def predict_y(b, w, X):\n",
    "    return b + np.matmul(X, w)"
   ]
  },
  {
   "cell_type": "code",
   "execution_count": 21,
   "metadata": {},
   "outputs": [
    {
     "data": {
      "text/plain": [
       "array([ 1.92934149, -0.37519159,  2.86929439,  0.34355276, -0.89294789,\n",
       "        1.09346817, -1.66909986, -0.44609471,  4.69711482,  0.7519122 ])"
      ]
     },
     "execution_count": 21,
     "metadata": {},
     "output_type": "execute_result"
    }
   ],
   "source": [
    "# Predict Y values using the Bias and Weights\n",
    "y_pred = predict_y(b, w, X)\n",
    "\n",
    "# show first 10 values of y_pred\n",
    "y_pred[:10]"
   ]
  },
  {
   "cell_type": "markdown",
   "metadata": {},
   "source": [
    "## Step 3: Calculate the cost using the cost function"
   ]
  },
  {
   "cell_type": "code",
   "execution_count": 22,
   "metadata": {},
   "outputs": [],
   "source": [
    "# Y: actual target values\n",
    "# y_pred: predicted values\n",
    "def get_cost(Y, y_pred):\n",
    "    return mean_squared_error(Y, y_pred)"
   ]
  },
  {
   "cell_type": "code",
   "execution_count": 23,
   "metadata": {},
   "outputs": [
    {
     "data": {
      "text/plain": [
       "11.182633191773744"
      ]
     },
     "execution_count": 23,
     "metadata": {},
     "output_type": "execute_result"
    }
   ],
   "source": [
    "get_cost(Y, y_pred)"
   ]
  },
  {
   "cell_type": "markdown",
   "metadata": {},
   "source": [
    "## Step 4: Update the Bias And the Weights"
   ]
  },
  {
   "cell_type": "code",
   "execution_count": 24,
   "metadata": {},
   "outputs": [],
   "source": [
    "# X: input dataframe\n",
    "# Y: actual output \n",
    "# y_pred: predicted output\n",
    "# b_prev: value of bias before updation\n",
    "# w_prev: value of weights before updation\n",
    "# learning_rate (or 'alpha'): learning parameter that decides the magnitude of the update to be done to the bias annd weights\n",
    "def update_bw(X, Y, y_pred, b_prev, w_prev, learning_rate):\n",
    "    # gradient of bias\n",
    "    db = (np.sum(y_pred - Y) * 2) / len(Y)\n",
    "    \n",
    "    # gradient of weight\n",
    "    dw = (np.dot((y_pred - Y), X) * 2) / len(Y)\n",
    "    \n",
    "    # update the bias\n",
    "    b_new = b_prev - learning_rate * db\n",
    "    \n",
    "    # update the weights\n",
    "    w_new = w_prev - learning_rate * dw\n",
    "    \n",
    "    return (b_new, w_new)"
   ]
  },
  {
   "cell_type": "code",
   "execution_count": 25,
   "metadata": {},
   "outputs": [
    {
     "name": "stdout",
     "output_type": "stream",
     "text": [
      "After initialization:-  b:  0.6394267984578837 \n",
      "Weights:  [0.37454012 0.95071431 0.73199394 0.59865848 0.15601864 0.15599452\n",
      " 0.05808361 0.86617615 0.60111501 0.70807258 0.02058449 0.96990985\n",
      " 0.83244264 0.21233911 0.18182497 0.18340451 0.30424224 0.52475643\n",
      " 0.43194502 0.29122914 0.61185289 0.13949386 0.29214465 0.36636184\n",
      " 0.45606998 0.78517596 0.19967378 0.51423444 0.59241457 0.04645041\n",
      " 0.60754485]\n",
      "\n",
      "After Update:-  b:  0.6302464943223747 \n",
      "Weights:  [0.34009815 0.92437076 0.6986034  0.56006671 0.12870889 0.1377909\n",
      " 0.03167861 0.84319911 0.58354148 0.68356125 0.00203213 0.94091266\n",
      " 0.80499162 0.20729428 0.1754305  0.1750836  0.31176935 0.50639249\n",
      " 0.4327533  0.29197438 0.616129   0.13804513 0.29937113 0.3607685\n",
      " 0.4414241  0.78203968 0.20235083 0.50830569 0.59096874 0.04982211\n",
      " 0.57931236]\n"
     ]
    }
   ],
   "source": [
    "# print the values of bias and weights obtained after initialization\n",
    "print('After initialization:-  b: ',b, '\\nWeights: ', w)\n",
    "\n",
    "# print the values of bias and weights obtained after updating the bias and weights\n",
    "b, w = update_bw(X, Y, y_pred, b, w, 0.01)\n",
    "print('\\nAfter Update:-  b: ',b, '\\nWeights: ', w)"
   ]
  },
  {
   "cell_type": "markdown",
   "metadata": {},
   "source": [
    "# Write a function to find the optimal value of Bias and Weights"
   ]
  },
  {
   "cell_type": "code",
   "execution_count": 26,
   "metadata": {},
   "outputs": [],
   "source": [
    "# X: input dataframe\n",
    "# Y: actual output \n",
    "# learning_rate (or 'alpha'): learning parameter that decides the magnitude of the update to be done to the bias annd weights\n",
    "# num_iterations: number of iterations\n",
    "def GradientDescent(X, Y, alpha = 0.01, num_iterations = 100):\n",
    "    # initialize the bias and weights\n",
    "    b, w = initialize_bw(X.shape[1])\n",
    "    \n",
    "    # create a dataframe that stores the iterations and the cost\n",
    "    df_iter_cost = pd.DataFrame(columns=['Iterations', 'Cost'])\n",
    "    \n",
    "    # iterate \n",
    "    for each_iter in range(num_iterations):\n",
    "        # predict the value of y\n",
    "        y_pred = predict_y(b, w, X)\n",
    "        \n",
    "        # calculate the cost\n",
    "        cost = get_cost(Y, y_pred)\n",
    "        \n",
    "        # save the previous bias and weights\n",
    "        b_prev = b\n",
    "        w_prev = w\n",
    "        \n",
    "        # update the bias and weights\n",
    "        b, w = update_bw(X, Y, y_pred, b_prev, w_prev, alpha)\n",
    "        \n",
    "        df_iter_cost.loc[each_iter] = [each_iter, cost]\n",
    "        \n",
    "    # print the final bias and weights\n",
    "    #print(\"Final bias and weights:- \\n\", b, '\\n\\n', w)\n",
    "\n",
    "    return(df_iter_cost, b, w)"
   ]
  },
  {
   "cell_type": "code",
   "execution_count": 27,
   "metadata": {},
   "outputs": [],
   "source": [
    "# running gradient descent with the learning rate 0.001\n",
    "df_iter_cost_1, b, w = GradientDescent(X, Y, alpha=0.001, num_iterations=200)"
   ]
  },
  {
   "cell_type": "code",
   "execution_count": 28,
   "metadata": {},
   "outputs": [],
   "source": [
    "# running gradient descent with the learning rate 0.1\n",
    "df_iter_cost_2, b, w = GradientDescent(X, Y, alpha=0.1, num_iterations=200)"
   ]
  },
  {
   "cell_type": "code",
   "execution_count": 29,
   "metadata": {},
   "outputs": [
    {
     "data": {
      "text/plain": [
       "Text(0, 0.5, 'Cost')"
      ]
     },
     "execution_count": 29,
     "metadata": {},
     "output_type": "execute_result"
    },
    {
     "data": {
      "image/png": "[encoded data removed]",
      "text/plain": [
       "<Figure size 1080x576 with 1 Axes>"
      ]
     },
     "metadata": {
      "needs_background": "light"
     },
     "output_type": "display_data"
    }
   ],
   "source": [
    "plt.plot(df_iter_cost_1['Iterations'], df_iter_cost_1['Cost'], label = \"alpha: 0.001\")\n",
    "plt.plot(df_iter_cost_2['Iterations'], df_iter_cost_2['Cost'], label = \"alpha: 0.1\")\n",
    "# place a legend on the axes\n",
    "plt.legend()\n",
    "# set the label for the x-axis\n",
    "plt.xlabel('Nunber of Iterations')\n",
    "# set the label for the y-axis\n",
    "plt.ylabel('Cost')"
   ]
  },
  {
   "cell_type": "markdown",
   "metadata": {},
   "source": [
    "**Interpretation:** The above plot shows that the learning is faster for alpha value is 0.01 as compared to 0.001. \n",
    "For the smaller values of the learning rate, the learning could be slower whereas higher learning rate leads to skipping the minimum of cost function. Thus, it is crucial to find the optimal value for the learning rate"
   ]
  },
  {
   "cell_type": "raw",
   "metadata": {},
   "source": [
    "# printing the dataset\n",
    "df_iter_cost_1"
   ]
  },
  {
   "cell_type": "markdown",
   "metadata": {},
   "source": [
    "# Find the optimal value for learning rate"
   ]
  },
  {
   "cell_type": "code",
   "execution_count": 30,
   "metadata": {},
   "outputs": [],
   "source": [
    "# lrate: pass a list of learning rates\n",
    "# validation_set: input dataframe\n",
    "# target_validation_set: output (target) dataframe\n",
    "def get_optimal_lrate(lrate, X, Y):\n",
    "\n",
    "    # creating the dataframe containing the learning rate and the MSE\n",
    "    opt_lrate = pd.DataFrame(columns=['Learning Rate', 'MSE'])\n",
    "    \n",
    "    # iterating the for loop till the length of the list 'lrate'\n",
    "    for rate in range(len(lrate)):\n",
    "        # getting the dataframe and the final bias and weights\n",
    "        df_iter_cost, b, w = GradientDescent(X, Y, alpha = lrate[rate], num_iterations = 200)\n",
    "\n",
    "        # predicting on train set\n",
    "        ypred = predict_y(b, w, X)\n",
    "\n",
    "        # get the mse value\n",
    "        mse = get_cost(Y, ypred)\n",
    "        \n",
    "        # append the result in the dataframe\n",
    "        opt_lrate.loc[rate] = [lrate[rate], mse]\n",
    "        \n",
    "        plt.plot(df_iter_cost['Iterations'], df_iter_cost['Cost'], label = \"alpha: {}\".format(str(lrate[rate])))\n",
    "        # place a legend on the axes\n",
    "        plt.legend()\n",
    "        # set the label for the x-axis\n",
    "        plt.xlabel('Nunber of Iterations')\n",
    "        # set the label for the y-axis\n",
    "        plt.ylabel('Cost')\n",
    "    \n",
    "    return(opt_lrate)"
   ]
  },
  {
   "cell_type": "code",
   "execution_count": 31,
   "metadata": {},
   "outputs": [
    {
     "data": {
      "text/html": [
       "<div>\n",
       "<style scoped>\n",
       "    .dataframe tbody tr th:only-of-type {\n",
       "        vertical-align: middle;\n",
       "    }\n",
       "\n",
       "    .dataframe tbody tr th {\n",
       "        vertical-align: top;\n",
       "    }\n",
       "\n",
       "    .dataframe thead th {\n",
       "        text-align: right;\n",
       "    }\n",
       "</style>\n",
       "<table border=\"1\" class=\"dataframe\">\n",
       "  <thead>\n",
       "    <tr style=\"text-align: right;\">\n",
       "      <th></th>\n",
       "      <th>Learning Rate</th>\n",
       "      <th>MSE</th>\n",
       "    </tr>\n",
       "  </thead>\n",
       "  <tbody>\n",
       "    <tr>\n",
       "      <th>0</th>\n",
       "      <td>0.000010</td>\n",
       "      <td>10.956991</td>\n",
       "    </tr>\n",
       "    <tr>\n",
       "      <th>1</th>\n",
       "      <td>0.000100</td>\n",
       "      <td>9.169214</td>\n",
       "    </tr>\n",
       "    <tr>\n",
       "      <th>2</th>\n",
       "      <td>0.001000</td>\n",
       "      <td>2.533659</td>\n",
       "    </tr>\n",
       "    <tr>\n",
       "      <th>3</th>\n",
       "      <td>0.010000</td>\n",
       "      <td>0.642693</td>\n",
       "    </tr>\n",
       "    <tr>\n",
       "      <th>4</th>\n",
       "      <td>0.100000</td>\n",
       "      <td>0.440619</td>\n",
       "    </tr>\n",
       "    <tr>\n",
       "      <th>5</th>\n",
       "      <td>0.015000</td>\n",
       "      <td>0.561273</td>\n",
       "    </tr>\n",
       "    <tr>\n",
       "      <th>6</th>\n",
       "      <td>0.001500</td>\n",
       "      <td>1.729941</td>\n",
       "    </tr>\n",
       "    <tr>\n",
       "      <th>7</th>\n",
       "      <td>0.000150</td>\n",
       "      <td>8.339205</td>\n",
       "    </tr>\n",
       "  </tbody>\n",
       "</table>\n",
       "</div>"
      ],
      "text/plain": [
       "   Learning Rate       MSE\n",
       "0       0.000010 10.956991\n",
       "1       0.000100  9.169214\n",
       "2       0.001000  2.533659\n",
       "3       0.010000  0.642693\n",
       "4       0.100000  0.440619\n",
       "5       0.015000  0.561273\n",
       "6       0.001500  1.729941\n",
       "7       0.000150  8.339205"
      ]
     },
     "execution_count": 31,
     "metadata": {},
     "output_type": "execute_result"
    },
    {
     "data": {
      "image/png": "[encoded data removed]",
      "text/plain": [
       "<Figure size 1080x576 with 1 Axes>"
      ]
     },
     "metadata": {
      "needs_background": "light"
     },
     "output_type": "display_data"
    }
   ],
   "source": [
    "# lrate: list containing different values for learning rate\n",
    "lrate = [0.00001,0.0001,0.001,0.01,0.1, 0.015, 0.0015, 0.00015]\n",
    "\n",
    "# X: train set\n",
    "# Y: target set for train set\n",
    "get_optimal_lrate(lrate, X, Y)"
   ]
  },
  {
   "cell_type": "markdown",
   "metadata": {},
   "source": [
    "# Mini-Batch Gradient Descent"
   ]
  },
  {
   "cell_type": "code",
   "execution_count": 32,
   "metadata": {},
   "outputs": [],
   "source": [
    "# standardize all the columns of the dataframe 'df_ipl_dummy'\n",
    "X = df_ipl_dummy.apply(lambda rec: (rec - rec.mean()) / rec.std())\n",
    "\n",
    "# standardize the target variable explicitly and store it in a new variable 'y'\n",
    "y = (df_target - df_target.mean()) / df_target.std()"
   ]
  },
  {
   "cell_type": "code",
   "execution_count": 33,
   "metadata": {},
   "outputs": [
    {
     "name": "stdout",
     "output_type": "stream",
     "text": [
      "X_train (104, 31)\n",
      "y_train (104,)\n",
      "X_test (26, 31)\n",
      "y_test (26,)\n"
     ]
    }
   ],
   "source": [
    "# split data into train subset and test subset\n",
    "# set 'random_state' to generate the same dataset each time you run the code \n",
    "# 'test_size' returns the proportion of data to be included in the testing set\n",
    "X_train, X_test, y_train, y_test = train_test_split(X, y, random_state=10, test_size = 0.2)\n",
    "\n",
    "# check the dimensions of the train & test subset using 'shape'\n",
    "# print dimension of train set\n",
    "print('X_train', X_train.shape)\n",
    "print('y_train', y_train.shape)\n",
    "\n",
    "# print dimension of test set\n",
    "print('X_test', X_test.shape)\n",
    "print('y_test', y_test.shape)"
   ]
  },
  {
   "cell_type": "code",
   "execution_count": 34,
   "metadata": {},
   "outputs": [],
   "source": [
    "X = X_train.copy()\n",
    "Y = pd.DataFrame(y_train.copy())"
   ]
  },
  {
   "cell_type": "code",
   "execution_count": 35,
   "metadata": {},
   "outputs": [],
   "source": [
    "def create_mini_batches(X, y, batch_size): \n",
    "    mini_batches = [] \n",
    "    data = pd.concat([X,y], axis = 1) \n",
    "    data = data.sample(frac=1).reset_index(drop=True)\n",
    "    n_minibatches = data.shape[0] // batch_size \n",
    "    i = 0\n",
    "  \n",
    "    for i in range(n_minibatches + 1): \n",
    "        mini_batch = data.iloc[i * batch_size:(i + 1) * batch_size, :] \n",
    "        X_mini = mini_batch.iloc[:, :-1] \n",
    "        Y_mini = mini_batch.iloc[:, -1]\n",
    "        mini_batches.append((X_mini, Y_mini)) \n",
    "    \n",
    "    return mini_batches "
   ]
  },
  {
   "cell_type": "code",
   "execution_count": 36,
   "metadata": {},
   "outputs": [],
   "source": [
    "# X: input dataframe\n",
    "# Y: actual output \n",
    "# learning_rate (or 'alpha'): learning parameter that decides the magnitude of the update to be done to the bias annd weights\n",
    "# num_iterations: number of iterations\n",
    "def MiniBatchGradientDescent(X, Y, alpha = 0.01, num_iterations = 100, batch_size = 10):\n",
    "    # initialize the bias and weights\n",
    "    b, w = initialize_bw(X.shape[1])\n",
    "    error = []\n",
    "    \n",
    "    # create a dataframe that stores the iterations and the cost\n",
    "    # df_iter_cost = pd.DataFrame(columns=['Iterations', 'Cost'])\n",
    "    \n",
    "    # iterate \n",
    "    for each_iter in range(num_iterations):\n",
    "        mini_batches = create_mini_batches(X, Y, batch_size) \n",
    "        for mini_batch in mini_batches: \n",
    "            X_mini, y_mini = mini_batch \n",
    "            \n",
    "            # predict the value of y\n",
    "            y_pred = predict_y(b, w, np.array(X_mini))\n",
    "\n",
    "            # calculate the cost\n",
    "            cost = get_cost(y_mini, y_pred)\n",
    "\n",
    "            # save the previous bias and weights\n",
    "            b_prev = b\n",
    "            w_prev = w\n",
    "\n",
    "            # update the bias and weights\n",
    "            b, w = update_bw(X_mini, y_mini, y_pred, b_prev, w_prev, alpha)\n",
    "            \n",
    "            error.append(cost)\n",
    "\n",
    "        #df_iter_cost.loc[each_iter] = [each_iter, cost]\n",
    "        \n",
    "    return(error, b, w)"
   ]
  },
  {
   "cell_type": "code",
   "execution_count": 37,
   "metadata": {},
   "outputs": [],
   "source": [
    "# lrate: pass a list of learning rates\n",
    "# validation_set: input dataframe\n",
    "# target_validation_set: output (target) dataframe\n",
    "def get_optimal_lrate(lrate, train_set, target_set):\n",
    "\n",
    "    # creating the dataframe containing the learning rate and the MSE\n",
    "    opt_lrate = pd.DataFrame(columns=['Learning Rate', 'MSE'])\n",
    "    \n",
    "    # iterating the for loop till the length of the list 'lrate'\n",
    "    for rate in range(len(lrate)):\n",
    "        # getting the dataframe and the final bias and weights\n",
    "        df_iter_cost, b, w = MiniBatchGradientDescent(train_set, target_set, alpha = lrate[rate], num_iterations = 3, batch_size = 10)\n",
    "\n",
    "        # predicting on train set\n",
    "        ypred_1 = predict_y(b, w, np.array(train_set))\n",
    "\n",
    "        # get the mse value\n",
    "        mse = get_cost(target_set, ypred_1)\n",
    "        \n",
    "        # append the result in the dataframe\n",
    "        opt_lrate.loc[rate] = [lrate[rate], mse]\n",
    "    \n",
    "    return(opt_lrate)"
   ]
  },
  {
   "cell_type": "code",
   "execution_count": 38,
   "metadata": {},
   "outputs": [
    {
     "data": {
      "text/html": [
       "<div>\n",
       "<style scoped>\n",
       "    .dataframe tbody tr th:only-of-type {\n",
       "        vertical-align: middle;\n",
       "    }\n",
       "\n",
       "    .dataframe tbody tr th {\n",
       "        vertical-align: top;\n",
       "    }\n",
       "\n",
       "    .dataframe thead th {\n",
       "        text-align: right;\n",
       "    }\n",
       "</style>\n",
       "<table border=\"1\" class=\"dataframe\">\n",
       "  <thead>\n",
       "    <tr style=\"text-align: right;\">\n",
       "      <th></th>\n",
       "      <th>Learning Rate</th>\n",
       "      <th>MSE</th>\n",
       "    </tr>\n",
       "  </thead>\n",
       "  <tbody>\n",
       "    <tr>\n",
       "      <th>0</th>\n",
       "      <td>0.000010</td>\n",
       "      <td>11.054962</td>\n",
       "    </tr>\n",
       "    <tr>\n",
       "      <th>1</th>\n",
       "      <td>0.000100</td>\n",
       "      <td>10.712550</td>\n",
       "    </tr>\n",
       "    <tr>\n",
       "      <th>2</th>\n",
       "      <td>0.001000</td>\n",
       "      <td>7.936492</td>\n",
       "    </tr>\n",
       "    <tr>\n",
       "      <th>3</th>\n",
       "      <td>0.010000</td>\n",
       "      <td>1.560209</td>\n",
       "    </tr>\n",
       "    <tr>\n",
       "      <th>4</th>\n",
       "      <td>0.100000</td>\n",
       "      <td>3.099840</td>\n",
       "    </tr>\n",
       "    <tr>\n",
       "      <th>5</th>\n",
       "      <td>0.015000</td>\n",
       "      <td>1.193283</td>\n",
       "    </tr>\n",
       "    <tr>\n",
       "      <th>6</th>\n",
       "      <td>0.001500</td>\n",
       "      <td>6.796256</td>\n",
       "    </tr>\n",
       "    <tr>\n",
       "      <th>7</th>\n",
       "      <td>0.000150</td>\n",
       "      <td>10.528144</td>\n",
       "    </tr>\n",
       "  </tbody>\n",
       "</table>\n",
       "</div>"
      ],
      "text/plain": [
       "   Learning Rate       MSE\n",
       "0       0.000010 11.054962\n",
       "1       0.000100 10.712550\n",
       "2       0.001000  7.936492\n",
       "3       0.010000  1.560209\n",
       "4       0.100000  3.099840\n",
       "5       0.015000  1.193283\n",
       "6       0.001500  6.796256\n",
       "7       0.000150 10.528144"
      ]
     },
     "execution_count": 38,
     "metadata": {},
     "output_type": "execute_result"
    }
   ],
   "source": [
    "lrate = [0.00001,0.0001,0.001,0.01,0.1, 0.015, 0.0015, 0.00015]\n",
    "get_optimal_lrate(lrate, X, Y)"
   ]
  },
  {
   "cell_type": "code",
   "execution_count": 39,
   "metadata": {},
   "outputs": [
    {
     "data": {
      "text/plain": [
       "0.007078625975428993"
      ]
     },
     "execution_count": 39,
     "metadata": {},
     "output_type": "execute_result"
    }
   ],
   "source": [
    "error, b, w = MiniBatchGradientDescent(X, Y, alpha = 0.015, num_iterations = 200, batch_size = 10)\n",
    "# printing minimum error\n",
    "min(error)"
   ]
  }
 ],
 "metadata": {
  "kernelspec": {
   "display_name": "Python 3 (ipykernel)",
   "language": "python",
   "name": "python3"
  },
  "language_info": {
   "codemirror_mode": {
    "name": "ipython",
    "version": 3
   },
   "file_extension": ".py",
   "mimetype": "text/x-python",
   "name": "python",
   "nbconvert_exporter": "python",
   "pygments_lexer": "ipython3",
   "version": "3.9.12"
  }
 },
 "nbformat": 4,
 "nbformat_minor": 2
}
