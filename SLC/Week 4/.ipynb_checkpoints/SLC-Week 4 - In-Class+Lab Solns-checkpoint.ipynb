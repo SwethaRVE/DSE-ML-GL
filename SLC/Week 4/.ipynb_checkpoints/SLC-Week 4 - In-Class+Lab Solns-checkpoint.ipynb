{
 "cells": [
  {
   "cell_type": "markdown",
   "metadata": {
    "id": "s3qvLCeXVudU"
   },
   "source": [
    "<table align=\"center\" width=100%>\n",
    "    <tr>\n",
    "        <td width=\"20%\">\n",
    "            <img src=\"in_class.png\">\n",
    "        </td>\n",
    "        <td>\n",
    "            <div align=\"center\">\n",
    "                <font color=\"#21618C\" size=8px>\n",
    "                    <b> Inclass - Lab <br>(Week 4)\n",
    "                    </b>\n",
    "                </font>\n",
    "            </div>\n",
    "        </td>\n",
    "         <td width=\"25%\">\n",
    "            <img src=\"GL-2.png\">\n",
    "        </td>\n",
    "    </tr>\n",
    "</table>"
   ]
  },
  {
   "cell_type": "markdown",
   "metadata": {
    "id": "AQixcnofVudX"
   },
   "source": [
    "### About the data set (Employee data)\n",
    "\n",
    "The dataset contains information about employees. The aim is to find which employees might undergo attrition.<br> Attribute information: \n",
    "\n",
    "**Age:** Age of the employee \n",
    "\n",
    "**BusinessTravel:** How much travel is involved in the job for the employee:No Travel, Travel Frequently, Tavel Rarely\n",
    "\n",
    "**Department:** Department of the employee: Human Resources, Reserach & Development, Sales\n",
    "\n",
    "**Commute:** Number of miles of daily commute for the employee\n",
    "\n",
    "**Education:** Employee education field: Human Resources, Life Sciences, Marketing, Medical Sciences, Technical, Others\n",
    "\n",
    "**EnvironmentSatisfaction:** Satisfaction of employee with office environment\n",
    "\n",
    "**Gender:** Employee gender\n",
    "\n",
    "**JobInvolvement:** Job involvement rating\n",
    "\n",
    "**JobLevel:**  Job level for employee designation\n",
    "\n",
    "**JobSatisfaction:** Employee job satisfaction rating\n",
    "\n",
    "**MonthlyIncome:** Employee monthly salary\n",
    "\n",
    "**OverTime:** Has the employee been open to working overtime: Yes or No\n",
    "\n",
    "**PercentSalaryHike:** Percent increase in salary\n",
    "\n",
    "**PerformanceRating:** Overall employee performance rating\n",
    "\n",
    "**YearsAtCompany:** Number of years the employee has worked with the company\n",
    "\n",
    "**Attrition:** Employee leaving the company: Yes or No"
   ]
  },
  {
   "cell_type": "markdown",
   "metadata": {
    "id": "oi9a0uHYVudY"
   },
   "source": [
    "## Table of Content\n",
    "\n",
    "1. **[ADABoost](#ada)**\n",
    "2. **[Gradient Boosting](#gb)**\n",
    "3. **[Extreme Gradient Boosting (XGBoost)](#xgb)**"
   ]
  },
  {
   "cell_type": "markdown",
   "metadata": {
    "id": "Z5JM4ANnVudZ"
   },
   "source": [
    "**Import the required libraries**"
   ]
  },
  {
   "cell_type": "code",
   "execution_count": 108,
   "metadata": {
    "id": "paHTeVIaVudZ"
   },
   "outputs": [],
   "source": [
    "# import 'Pandas' \n",
    "import pandas as pd \n",
    "\n",
    "# import 'Numpy' \n",
    "import numpy as np\n",
    "\n",
    "# import subpackage of Matplotlib\n",
    "import matplotlib.pyplot as plt\n",
    "from matplotlib.colors import ListedColormap\n",
    "\n",
    "# import 'Seaborn' \n",
    "import seaborn as sns\n",
    "\n",
    "# to suppress warnings \n",
    "from warnings import filterwarnings\n",
    "filterwarnings('ignore')\n",
    "\n",
    "# display all columns of the dataframe\n",
    "pd.options.display.max_columns = None\n",
    "\n",
    "# display all rows of the dataframe\n",
    "pd.options.display.max_rows = None\n",
    " \n",
    "# to display the float values upto 6 decimal places     \n",
    "pd.options.display.float_format = '{:.6f}'.format\n",
    "\n",
    "# import train-test split \n",
    "from sklearn.model_selection import train_test_split\n",
    "\n",
    "# import StandardScaler to perform scaling\n",
    "from sklearn.preprocessing import StandardScaler \n",
    "\n",
    "# import various functions from sklearn \n",
    "from sklearn.neighbors import KNeighborsClassifier\n",
    "from sklearn import metrics\n",
    "from sklearn.metrics import classification_report\n",
    "from sklearn.model_selection import GridSearchCV\n",
    "from sklearn.metrics import accuracy_score\n",
    "from sklearn.metrics import roc_curve\n",
    "from sklearn.metrics import roc_auc_score\n",
    "from sklearn.metrics import confusion_matrix\n",
    "from sklearn.model_selection import GridSearchCV\n",
    "from sklearn.model_selection import cross_val_score\n",
    "from sklearn.naive_bayes import GaussianNB\n",
    "\n",
    "# import the functions for visualizing the decision tree\n",
    "from IPython.display import Image  \n",
    "\n",
    "import random\n",
    "from sklearn.ensemble import AdaBoostClassifier\n",
    "from sklearn.ensemble import GradientBoostingClassifier\n",
    "from sklearn.model_selection import GridSearchCV\n",
    "from xgboost import XGBClassifier\n",
    "from sklearn.tree import DecisionTreeClassifier\n",
    "from sklearn.ensemble import RandomForestClassifier\n",
    "from sklearn.ensemble import StackingClassifier"
   ]
  },
  {
   "cell_type": "markdown",
   "metadata": {
    "id": "jVRdm6yIVuda"
   },
   "source": [
    "#### Load the csv file"
   ]
  },
  {
   "cell_type": "code",
   "execution_count": 30,
   "metadata": {
    "id": "6es73HYLVudb",
    "scrolled": true
   },
   "outputs": [
    {
     "data": {
      "text/html": [
       "<div>\n",
       "<style scoped>\n",
       "    .dataframe tbody tr th:only-of-type {\n",
       "        vertical-align: middle;\n",
       "    }\n",
       "\n",
       "    .dataframe tbody tr th {\n",
       "        vertical-align: top;\n",
       "    }\n",
       "\n",
       "    .dataframe thead th {\n",
       "        text-align: right;\n",
       "    }\n",
       "</style>\n",
       "<table border=\"1\" class=\"dataframe\">\n",
       "  <thead>\n",
       "    <tr style=\"text-align: right;\">\n",
       "      <th></th>\n",
       "      <th>Age</th>\n",
       "      <th>Attrition</th>\n",
       "      <th>BusinessTravel</th>\n",
       "      <th>Department</th>\n",
       "      <th>DistanceFromHome</th>\n",
       "      <th>EducationField</th>\n",
       "      <th>EnvironmentSatisfaction</th>\n",
       "      <th>Gender</th>\n",
       "      <th>JobInvolvement</th>\n",
       "      <th>JobLevel</th>\n",
       "      <th>JobRole</th>\n",
       "      <th>JobSatisfaction</th>\n",
       "      <th>MonthlyIncome</th>\n",
       "      <th>NumCompaniesWorked</th>\n",
       "      <th>OverTime</th>\n",
       "      <th>PercentSalaryHike</th>\n",
       "      <th>PerformanceRating</th>\n",
       "      <th>YearsAtCompany</th>\n",
       "    </tr>\n",
       "  </thead>\n",
       "  <tbody>\n",
       "    <tr>\n",
       "      <th>0</th>\n",
       "      <td>33</td>\n",
       "      <td>Yes</td>\n",
       "      <td>Travel_Frequently</td>\n",
       "      <td>Research &amp; Development</td>\n",
       "      <td>3</td>\n",
       "      <td>Life Sciences</td>\n",
       "      <td>1</td>\n",
       "      <td>Male</td>\n",
       "      <td>3</td>\n",
       "      <td>1</td>\n",
       "      <td>Research Scientist</td>\n",
       "      <td>1</td>\n",
       "      <td>3348</td>\n",
       "      <td>1</td>\n",
       "      <td>Yes</td>\n",
       "      <td>11</td>\n",
       "      <td>3</td>\n",
       "      <td>10</td>\n",
       "    </tr>\n",
       "    <tr>\n",
       "      <th>1</th>\n",
       "      <td>32</td>\n",
       "      <td>Yes</td>\n",
       "      <td>Travel_Rarely</td>\n",
       "      <td>Sales</td>\n",
       "      <td>4</td>\n",
       "      <td>Medical</td>\n",
       "      <td>4</td>\n",
       "      <td>Male</td>\n",
       "      <td>1</td>\n",
       "      <td>3</td>\n",
       "      <td>Sales Executive</td>\n",
       "      <td>4</td>\n",
       "      <td>10400</td>\n",
       "      <td>1</td>\n",
       "      <td>No</td>\n",
       "      <td>11</td>\n",
       "      <td>3</td>\n",
       "      <td>14</td>\n",
       "    </tr>\n",
       "    <tr>\n",
       "      <th>2</th>\n",
       "      <td>40</td>\n",
       "      <td>Yes</td>\n",
       "      <td>Travel_Rarely</td>\n",
       "      <td>Research &amp; Development</td>\n",
       "      <td>9</td>\n",
       "      <td>Life Sciences</td>\n",
       "      <td>4</td>\n",
       "      <td>Male</td>\n",
       "      <td>3</td>\n",
       "      <td>1</td>\n",
       "      <td>Laboratory Technician</td>\n",
       "      <td>1</td>\n",
       "      <td>2018</td>\n",
       "      <td>3</td>\n",
       "      <td>No</td>\n",
       "      <td>14</td>\n",
       "      <td>3</td>\n",
       "      <td>5</td>\n",
       "    </tr>\n",
       "    <tr>\n",
       "      <th>3</th>\n",
       "      <td>42</td>\n",
       "      <td>No</td>\n",
       "      <td>Travel_Rarely</td>\n",
       "      <td>Research &amp; Development</td>\n",
       "      <td>7</td>\n",
       "      <td>Medical</td>\n",
       "      <td>2</td>\n",
       "      <td>Female</td>\n",
       "      <td>4</td>\n",
       "      <td>2</td>\n",
       "      <td>Research Scientist</td>\n",
       "      <td>2</td>\n",
       "      <td>2372</td>\n",
       "      <td>6</td>\n",
       "      <td>Yes</td>\n",
       "      <td>16</td>\n",
       "      <td>3</td>\n",
       "      <td>1</td>\n",
       "    </tr>\n",
       "    <tr>\n",
       "      <th>4</th>\n",
       "      <td>43</td>\n",
       "      <td>No</td>\n",
       "      <td>Travel_Frequently</td>\n",
       "      <td>Research &amp; Development</td>\n",
       "      <td>27</td>\n",
       "      <td>Life Sciences</td>\n",
       "      <td>3</td>\n",
       "      <td>Female</td>\n",
       "      <td>3</td>\n",
       "      <td>3</td>\n",
       "      <td>Manufacturing Director</td>\n",
       "      <td>1</td>\n",
       "      <td>10820</td>\n",
       "      <td>8</td>\n",
       "      <td>No</td>\n",
       "      <td>11</td>\n",
       "      <td>3</td>\n",
       "      <td>8</td>\n",
       "    </tr>\n",
       "  </tbody>\n",
       "</table>\n",
       "</div>"
      ],
      "text/plain": [
       "   Age Attrition     BusinessTravel              Department  DistanceFromHome  \\\n",
       "0   33       Yes  Travel_Frequently  Research & Development                 3   \n",
       "1   32       Yes      Travel_Rarely                   Sales                 4   \n",
       "2   40       Yes      Travel_Rarely  Research & Development                 9   \n",
       "3   42        No      Travel_Rarely  Research & Development                 7   \n",
       "4   43        No  Travel_Frequently  Research & Development                27   \n",
       "\n",
       "  EducationField  EnvironmentSatisfaction  Gender  JobInvolvement  JobLevel  \\\n",
       "0  Life Sciences                        1    Male               3         1   \n",
       "1        Medical                        4    Male               1         3   \n",
       "2  Life Sciences                        4    Male               3         1   \n",
       "3        Medical                        2  Female               4         2   \n",
       "4  Life Sciences                        3  Female               3         3   \n",
       "\n",
       "                  JobRole  JobSatisfaction  MonthlyIncome  NumCompaniesWorked  \\\n",
       "0      Research Scientist                1           3348                   1   \n",
       "1         Sales Executive                4          10400                   1   \n",
       "2   Laboratory Technician                1           2018                   3   \n",
       "3      Research Scientist                2           2372                   6   \n",
       "4  Manufacturing Director                1          10820                   8   \n",
       "\n",
       "  OverTime  PercentSalaryHike  PerformanceRating  YearsAtCompany  \n",
       "0      Yes                 11                  3              10  \n",
       "1       No                 11                  3              14  \n",
       "2       No                 14                  3               5  \n",
       "3      Yes                 16                  3               1  \n",
       "4       No                 11                  3               8  "
      ]
     },
     "execution_count": 30,
     "metadata": {},
     "output_type": "execute_result"
    }
   ],
   "source": [
    "df = pd.read_csv('emp_attrition.csv')\n",
    "\n",
    "# display the first five observations\n",
    "df.head()"
   ]
  },
  {
   "cell_type": "code",
   "execution_count": 31,
   "metadata": {},
   "outputs": [
    {
     "data": {
      "text/plain": [
       "Sales Executive              388\n",
       "Research Scientist           328\n",
       "Laboratory Technician        327\n",
       "Sales Representative         160\n",
       "Manufacturing Director       137\n",
       "Healthcare Representative    122\n",
       "Human Resources               71\n",
       "Research Director             29\n",
       "Manager                       18\n",
       "Name: JobRole, dtype: int64"
      ]
     },
     "execution_count": 31,
     "metadata": {},
     "output_type": "execute_result"
    }
   ],
   "source": [
    "df.JobRole.value_counts()"
   ]
  },
  {
   "cell_type": "code",
   "execution_count": 32,
   "metadata": {},
   "outputs": [
    {
     "data": {
      "text/plain": [
       "Age                         int64\n",
       "Attrition                  object\n",
       "BusinessTravel             object\n",
       "Department                 object\n",
       "DistanceFromHome            int64\n",
       "EducationField             object\n",
       "EnvironmentSatisfaction     int64\n",
       "Gender                     object\n",
       "JobInvolvement              int64\n",
       "JobLevel                    int64\n",
       "JobRole                    object\n",
       "JobSatisfaction             int64\n",
       "MonthlyIncome               int64\n",
       "NumCompaniesWorked          int64\n",
       "OverTime                   object\n",
       "PercentSalaryHike           int64\n",
       "PerformanceRating           int64\n",
       "YearsAtCompany              int64\n",
       "dtype: object"
      ]
     },
     "execution_count": 32,
     "metadata": {},
     "output_type": "execute_result"
    }
   ],
   "source": [
    "df.dtypes"
   ]
  },
  {
   "cell_type": "markdown",
   "metadata": {
    "id": "k1ch0gX6Vudb"
   },
   "source": [
    "**Data Preparation**"
   ]
  },
  {
   "cell_type": "markdown",
   "metadata": {
    "id": "3v_kTirwVudc"
   },
   "source": [
    "**Remove the outlier using IQR method, if present.**"
   ]
  },
  {
   "cell_type": "code",
   "execution_count": 33,
   "metadata": {
    "id": "SXpZiRK1Vudc"
   },
   "outputs": [
    {
     "data": {
      "image/png": "[encoded data removed]",
      "text/plain": [
       "<Figure size 432x288 with 1 Axes>"
      ]
     },
     "metadata": {
      "needs_background": "light"
     },
     "output_type": "display_data"
    },
    {
     "data": {
      "image/png": "[encoded data removed]",
      "text/plain": [
       "<Figure size 432x288 with 1 Axes>"
      ]
     },
     "metadata": {
      "needs_background": "light"
     },
     "output_type": "display_data"
    },
    {
     "data": {
      "image/png": "[encoded data removed]",
      "text/plain": [
       "<Figure size 432x288 with 1 Axes>"
      ]
     },
     "metadata": {
      "needs_background": "light"
     },
     "output_type": "display_data"
    },
    {
     "data": {
      "image/png": "[encoded data removed]",
      "text/plain": [
       "<Figure size 432x288 with 1 Axes>"
      ]
     },
     "metadata": {
      "needs_background": "light"
     },
     "output_type": "display_data"
    },
    {
     "data": {
      "image/png": "[encoded data removed]",
      "text/plain": [
       "<Figure size 432x288 with 1 Axes>"
      ]
     },
     "metadata": {
      "needs_background": "light"
     },
     "output_type": "display_data"
    },
    {
     "data": {
      "image/png": "[encoded data removed]",
      "text/plain": [
       "<Figure size 432x288 with 1 Axes>"
      ]
     },
     "metadata": {
      "needs_background": "light"
     },
     "output_type": "display_data"
    },
    {
     "data": {
      "image/png": "[encoded data removed]",
      "text/plain": [
       "<Figure size 432x288 with 1 Axes>"
      ]
     },
     "metadata": {
      "needs_background": "light"
     },
     "output_type": "display_data"
    },
    {
     "data": {
      "image/png": "[encoded data removed]",
      "text/plain": [
       "<Figure size 432x288 with 1 Axes>"
      ]
     },
     "metadata": {
      "needs_background": "light"
     },
     "output_type": "display_data"
    },
    {
     "data": {
      "image/png": "[encoded data removed]",
      "text/plain": [
       "<Figure size 432x288 with 1 Axes>"
      ]
     },
     "metadata": {
      "needs_background": "light"
     },
     "output_type": "display_data"
    },
    {
     "data": {
      "image/png": "[encoded data removed]",
      "text/plain": [
       "<Figure size 432x288 with 1 Axes>"
      ]
     },
     "metadata": {
      "needs_background": "light"
     },
     "output_type": "display_data"
    },
    {
     "data": {
      "image/png": "[encoded data removed]",
      "text/plain": [
       "<Figure size 432x288 with 1 Axes>"
      ]
     },
     "metadata": {
      "needs_background": "light"
     },
     "output_type": "display_data"
    }
   ],
   "source": [
    "for i in df.select_dtypes(include=np.number):\n",
    "    plt.title(i)\n",
    "    sns.boxplot(df[i])\n",
    "    plt.show()"
   ]
  },
  {
   "cell_type": "code",
   "execution_count": 34,
   "metadata": {},
   "outputs": [],
   "source": [
    "q1=df.quantile(.25)\n",
    "q3=df.quantile(.75)\n",
    "iqr=q3-q1\n",
    "ll=q1-1.5*iqr\n",
    "ul=q3+1.5*iqr\n",
    "df=df[~((df<ll)|(df>ul)).any(axis=1)]"
   ]
  },
  {
   "cell_type": "markdown",
   "metadata": {
    "id": "we5fM7_7Vudd"
   },
   "source": [
    "**Encode the categorical variables.**"
   ]
  },
  {
   "cell_type": "code",
   "execution_count": 35,
   "metadata": {
    "id": "o_y47CAFVudd"
   },
   "outputs": [
    {
     "data": {
      "text/plain": [
       "Index(['Attrition', 'BusinessTravel', 'Department', 'EducationField', 'Gender',\n",
       "       'JobRole', 'OverTime'],\n",
       "      dtype='object')"
      ]
     },
     "execution_count": 35,
     "metadata": {},
     "output_type": "execute_result"
    }
   ],
   "source": [
    "df_cat=df.select_dtypes(include=object)\n",
    "df_cat.columns"
   ]
  },
  {
   "cell_type": "code",
   "execution_count": 36,
   "metadata": {},
   "outputs": [
    {
     "data": {
      "text/html": [
       "<div>\n",
       "<style scoped>\n",
       "    .dataframe tbody tr th:only-of-type {\n",
       "        vertical-align: middle;\n",
       "    }\n",
       "\n",
       "    .dataframe tbody tr th {\n",
       "        vertical-align: top;\n",
       "    }\n",
       "\n",
       "    .dataframe thead th {\n",
       "        text-align: right;\n",
       "    }\n",
       "</style>\n",
       "<table border=\"1\" class=\"dataframe\">\n",
       "  <thead>\n",
       "    <tr style=\"text-align: right;\">\n",
       "      <th></th>\n",
       "      <th>Age</th>\n",
       "      <th>Attrition</th>\n",
       "      <th>BusinessTravel</th>\n",
       "      <th>DistanceFromHome</th>\n",
       "      <th>EducationField</th>\n",
       "      <th>EnvironmentSatisfaction</th>\n",
       "      <th>JobInvolvement</th>\n",
       "      <th>JobLevel</th>\n",
       "      <th>JobRole</th>\n",
       "      <th>JobSatisfaction</th>\n",
       "      <th>MonthlyIncome</th>\n",
       "      <th>NumCompaniesWorked</th>\n",
       "      <th>OverTime</th>\n",
       "      <th>PercentSalaryHike</th>\n",
       "      <th>PerformanceRating</th>\n",
       "      <th>YearsAtCompany</th>\n",
       "      <th>Department Research &amp; Development</th>\n",
       "      <th>Department Sales</th>\n",
       "      <th>Gender Male</th>\n",
       "    </tr>\n",
       "  </thead>\n",
       "  <tbody>\n",
       "    <tr>\n",
       "      <th>0</th>\n",
       "      <td>33</td>\n",
       "      <td>1</td>\n",
       "      <td>2</td>\n",
       "      <td>3</td>\n",
       "      <td>0.386685</td>\n",
       "      <td>1</td>\n",
       "      <td>3</td>\n",
       "      <td>1</td>\n",
       "      <td>0.217888</td>\n",
       "      <td>1</td>\n",
       "      <td>3348</td>\n",
       "      <td>1</td>\n",
       "      <td>1</td>\n",
       "      <td>11</td>\n",
       "      <td>3</td>\n",
       "      <td>10</td>\n",
       "      <td>1</td>\n",
       "      <td>0</td>\n",
       "      <td>1</td>\n",
       "    </tr>\n",
       "    <tr>\n",
       "      <th>1</th>\n",
       "      <td>32</td>\n",
       "      <td>1</td>\n",
       "      <td>1</td>\n",
       "      <td>4</td>\n",
       "      <td>0.295225</td>\n",
       "      <td>4</td>\n",
       "      <td>1</td>\n",
       "      <td>3</td>\n",
       "      <td>0.248823</td>\n",
       "      <td>4</td>\n",
       "      <td>10400</td>\n",
       "      <td>1</td>\n",
       "      <td>0</td>\n",
       "      <td>11</td>\n",
       "      <td>3</td>\n",
       "      <td>14</td>\n",
       "      <td>0</td>\n",
       "      <td>1</td>\n",
       "      <td>1</td>\n",
       "    </tr>\n",
       "    <tr>\n",
       "      <th>2</th>\n",
       "      <td>40</td>\n",
       "      <td>1</td>\n",
       "      <td>1</td>\n",
       "      <td>9</td>\n",
       "      <td>0.386685</td>\n",
       "      <td>4</td>\n",
       "      <td>3</td>\n",
       "      <td>1</td>\n",
       "      <td>0.211836</td>\n",
       "      <td>1</td>\n",
       "      <td>2018</td>\n",
       "      <td>3</td>\n",
       "      <td>0</td>\n",
       "      <td>14</td>\n",
       "      <td>3</td>\n",
       "      <td>5</td>\n",
       "      <td>1</td>\n",
       "      <td>0</td>\n",
       "      <td>1</td>\n",
       "    </tr>\n",
       "    <tr>\n",
       "      <th>3</th>\n",
       "      <td>42</td>\n",
       "      <td>0</td>\n",
       "      <td>1</td>\n",
       "      <td>7</td>\n",
       "      <td>0.295225</td>\n",
       "      <td>2</td>\n",
       "      <td>4</td>\n",
       "      <td>2</td>\n",
       "      <td>0.217888</td>\n",
       "      <td>2</td>\n",
       "      <td>2372</td>\n",
       "      <td>6</td>\n",
       "      <td>1</td>\n",
       "      <td>16</td>\n",
       "      <td>3</td>\n",
       "      <td>1</td>\n",
       "      <td>1</td>\n",
       "      <td>0</td>\n",
       "      <td>0</td>\n",
       "    </tr>\n",
       "    <tr>\n",
       "      <th>4</th>\n",
       "      <td>43</td>\n",
       "      <td>0</td>\n",
       "      <td>2</td>\n",
       "      <td>27</td>\n",
       "      <td>0.386685</td>\n",
       "      <td>3</td>\n",
       "      <td>3</td>\n",
       "      <td>3</td>\n",
       "      <td>0.084734</td>\n",
       "      <td>1</td>\n",
       "      <td>10820</td>\n",
       "      <td>8</td>\n",
       "      <td>0</td>\n",
       "      <td>11</td>\n",
       "      <td>3</td>\n",
       "      <td>8</td>\n",
       "      <td>1</td>\n",
       "      <td>0</td>\n",
       "      <td>0</td>\n",
       "    </tr>\n",
       "  </tbody>\n",
       "</table>\n",
       "</div>"
      ],
      "text/plain": [
       "   Age  Attrition  BusinessTravel  DistanceFromHome  EducationField  \\\n",
       "0   33          1               2                 3        0.386685   \n",
       "1   32          1               1                 4        0.295225   \n",
       "2   40          1               1                 9        0.386685   \n",
       "3   42          0               1                 7        0.295225   \n",
       "4   43          0               2                27        0.386685   \n",
       "\n",
       "   EnvironmentSatisfaction  JobInvolvement  JobLevel  JobRole  \\\n",
       "0                        1               3         1 0.217888   \n",
       "1                        4               1         3 0.248823   \n",
       "2                        4               3         1 0.211836   \n",
       "3                        2               4         2 0.217888   \n",
       "4                        3               3         3 0.084734   \n",
       "\n",
       "   JobSatisfaction  MonthlyIncome  NumCompaniesWorked  OverTime  \\\n",
       "0                1           3348                   1         1   \n",
       "1                4          10400                   1         0   \n",
       "2                1           2018                   3         0   \n",
       "3                2           2372                   6         1   \n",
       "4                1          10820                   8         0   \n",
       "\n",
       "   PercentSalaryHike  PerformanceRating  YearsAtCompany  \\\n",
       "0                 11                  3              10   \n",
       "1                 11                  3              14   \n",
       "2                 14                  3               5   \n",
       "3                 16                  3               1   \n",
       "4                 11                  3               8   \n",
       "\n",
       "   Department Research & Development  Department Sales  Gender Male  \n",
       "0                                  1                 0            1  \n",
       "1                                  0                 1            1  \n",
       "2                                  1                 0            1  \n",
       "3                                  1                 0            0  \n",
       "4                                  1                 0            0  "
      ]
     },
     "execution_count": 36,
     "metadata": {},
     "output_type": "execute_result"
    }
   ],
   "source": [
    "df.Attrition=df.Attrition.map({'Yes':1,'No':0})\n",
    "df.BusinessTravel=df.BusinessTravel.map({'Non-Travel':0,'Travel_Rarely':1,'Travel_Frequently':2})\n",
    "df.EducationField=df.EducationField.map(dict(df.EducationField.value_counts(normalize=True)))#frequency encoding\n",
    "df.JobRole=df.JobRole.map(dict(df.JobRole.value_counts(normalize=True)))\n",
    "df.OverTime=df.OverTime.map({'Yes':1,'No':0})\n",
    "df=pd.get_dummies(df,prefix_sep=' ',drop_first=True)\n",
    "df.head()"
   ]
  },
  {
   "cell_type": "code",
   "execution_count": 37,
   "metadata": {},
   "outputs": [],
   "source": [
    "#df_dummy=pd.get_dummies(data=df_cat,columns=['Attrition','Gender'],drop_first=True)\n"
   ]
  },
  {
   "cell_type": "code",
   "execution_count": 38,
   "metadata": {},
   "outputs": [],
   "source": [
    "#df_dummy['JobRole']=df_dummy['JobRole'].replace(df_dummy.JobRole.value_counts(1))\n",
    "#df_dummy['BusinessTravel']=df_dummy['BusinessTravel'].replace(df_dummy.BusinessTravel.value_counts(1))\n",
    "#df_dummy['Department']=df_dummy['Department'].replace(df_dummy.Department.value_counts(1))\n",
    "#df_dummy['EducationField']=df_dummy['EducationField'].replace(df_dummy.EducationField.value_counts(1))\n",
    "#df_dummy['OverTime']=df_dummy['OverTime'].replace(df_dummy.OverTime.value_counts(1))"
   ]
  },
  {
   "cell_type": "code",
   "execution_count": 39,
   "metadata": {},
   "outputs": [],
   "source": [
    "#df=pd.concat([df,df_dummy],axis=1)\n",
    "#df.head(2)"
   ]
  },
  {
   "cell_type": "markdown",
   "metadata": {
    "id": "ISbUq92kVudd"
   },
   "source": [
    "### Let's begin with some hands-on practice exercises"
   ]
  },
  {
   "cell_type": "markdown",
   "metadata": {
    "collapsed": true,
    "id": "bImv-xEPVude"
   },
   "source": [
    "<table align=\"left\">\n",
    "    <tr>\n",
    "        <td width=\"6%\">\n",
    "            <img src=\"question_icon.png\">\n",
    "        </td>\n",
    "        <td>\n",
    "            <div align=\"left\", style=\"font-size:120%\">\n",
    "                <font color=\"#21618C\">\n",
    "                    <b>1. Convert the Age variable into categorical by dividing it in the ranges; 18-30, 31-40, 41-50, 51-60.</b>\n",
    "                </font>\n",
    "            </div>\n",
    "        </td>\n",
    "    </tr>\n",
    "</table>"
   ]
  },
  {
   "cell_type": "code",
   "execution_count": 42,
   "metadata": {},
   "outputs": [
    {
     "data": {
      "text/html": [
       "<div>\n",
       "<style scoped>\n",
       "    .dataframe tbody tr th:only-of-type {\n",
       "        vertical-align: middle;\n",
       "    }\n",
       "\n",
       "    .dataframe tbody tr th {\n",
       "        vertical-align: top;\n",
       "    }\n",
       "\n",
       "    .dataframe thead th {\n",
       "        text-align: right;\n",
       "    }\n",
       "</style>\n",
       "<table border=\"1\" class=\"dataframe\">\n",
       "  <thead>\n",
       "    <tr style=\"text-align: right;\">\n",
       "      <th></th>\n",
       "      <th>Age</th>\n",
       "      <th>Attrition</th>\n",
       "      <th>BusinessTravel</th>\n",
       "      <th>DistanceFromHome</th>\n",
       "      <th>EducationField</th>\n",
       "      <th>EnvironmentSatisfaction</th>\n",
       "      <th>JobInvolvement</th>\n",
       "      <th>JobLevel</th>\n",
       "      <th>JobRole</th>\n",
       "      <th>JobSatisfaction</th>\n",
       "      <th>MonthlyIncome</th>\n",
       "      <th>NumCompaniesWorked</th>\n",
       "      <th>OverTime</th>\n",
       "      <th>PercentSalaryHike</th>\n",
       "      <th>PerformanceRating</th>\n",
       "      <th>YearsAtCompany</th>\n",
       "      <th>Department Research &amp; Development</th>\n",
       "      <th>Department Sales</th>\n",
       "      <th>Gender Male</th>\n",
       "    </tr>\n",
       "  </thead>\n",
       "  <tbody>\n",
       "    <tr>\n",
       "      <th>0</th>\n",
       "      <td>31-40</td>\n",
       "      <td>1</td>\n",
       "      <td>2</td>\n",
       "      <td>3</td>\n",
       "      <td>0.386685</td>\n",
       "      <td>1</td>\n",
       "      <td>3</td>\n",
       "      <td>1</td>\n",
       "      <td>0.217888</td>\n",
       "      <td>1</td>\n",
       "      <td>3348</td>\n",
       "      <td>1</td>\n",
       "      <td>1</td>\n",
       "      <td>11</td>\n",
       "      <td>3</td>\n",
       "      <td>10</td>\n",
       "      <td>1</td>\n",
       "      <td>0</td>\n",
       "      <td>1</td>\n",
       "    </tr>\n",
       "    <tr>\n",
       "      <th>1</th>\n",
       "      <td>31-40</td>\n",
       "      <td>1</td>\n",
       "      <td>1</td>\n",
       "      <td>4</td>\n",
       "      <td>0.295225</td>\n",
       "      <td>4</td>\n",
       "      <td>1</td>\n",
       "      <td>3</td>\n",
       "      <td>0.248823</td>\n",
       "      <td>4</td>\n",
       "      <td>10400</td>\n",
       "      <td>1</td>\n",
       "      <td>0</td>\n",
       "      <td>11</td>\n",
       "      <td>3</td>\n",
       "      <td>14</td>\n",
       "      <td>0</td>\n",
       "      <td>1</td>\n",
       "      <td>1</td>\n",
       "    </tr>\n",
       "    <tr>\n",
       "      <th>2</th>\n",
       "      <td>31-40</td>\n",
       "      <td>1</td>\n",
       "      <td>1</td>\n",
       "      <td>9</td>\n",
       "      <td>0.386685</td>\n",
       "      <td>4</td>\n",
       "      <td>3</td>\n",
       "      <td>1</td>\n",
       "      <td>0.211836</td>\n",
       "      <td>1</td>\n",
       "      <td>2018</td>\n",
       "      <td>3</td>\n",
       "      <td>0</td>\n",
       "      <td>14</td>\n",
       "      <td>3</td>\n",
       "      <td>5</td>\n",
       "      <td>1</td>\n",
       "      <td>0</td>\n",
       "      <td>1</td>\n",
       "    </tr>\n",
       "    <tr>\n",
       "      <th>3</th>\n",
       "      <td>41-50</td>\n",
       "      <td>0</td>\n",
       "      <td>1</td>\n",
       "      <td>7</td>\n",
       "      <td>0.295225</td>\n",
       "      <td>2</td>\n",
       "      <td>4</td>\n",
       "      <td>2</td>\n",
       "      <td>0.217888</td>\n",
       "      <td>2</td>\n",
       "      <td>2372</td>\n",
       "      <td>6</td>\n",
       "      <td>1</td>\n",
       "      <td>16</td>\n",
       "      <td>3</td>\n",
       "      <td>1</td>\n",
       "      <td>1</td>\n",
       "      <td>0</td>\n",
       "      <td>0</td>\n",
       "    </tr>\n",
       "    <tr>\n",
       "      <th>4</th>\n",
       "      <td>41-50</td>\n",
       "      <td>0</td>\n",
       "      <td>2</td>\n",
       "      <td>27</td>\n",
       "      <td>0.386685</td>\n",
       "      <td>3</td>\n",
       "      <td>3</td>\n",
       "      <td>3</td>\n",
       "      <td>0.084734</td>\n",
       "      <td>1</td>\n",
       "      <td>10820</td>\n",
       "      <td>8</td>\n",
       "      <td>0</td>\n",
       "      <td>11</td>\n",
       "      <td>3</td>\n",
       "      <td>8</td>\n",
       "      <td>1</td>\n",
       "      <td>0</td>\n",
       "      <td>0</td>\n",
       "    </tr>\n",
       "  </tbody>\n",
       "</table>\n",
       "</div>"
      ],
      "text/plain": [
       "     Age  Attrition  BusinessTravel  DistanceFromHome  EducationField  \\\n",
       "0  31-40          1               2                 3        0.386685   \n",
       "1  31-40          1               1                 4        0.295225   \n",
       "2  31-40          1               1                 9        0.386685   \n",
       "3  41-50          0               1                 7        0.295225   \n",
       "4  41-50          0               2                27        0.386685   \n",
       "\n",
       "   EnvironmentSatisfaction  JobInvolvement  JobLevel  JobRole  \\\n",
       "0                        1               3         1 0.217888   \n",
       "1                        4               1         3 0.248823   \n",
       "2                        4               3         1 0.211836   \n",
       "3                        2               4         2 0.217888   \n",
       "4                        3               3         3 0.084734   \n",
       "\n",
       "   JobSatisfaction  MonthlyIncome  NumCompaniesWorked  OverTime  \\\n",
       "0                1           3348                   1         1   \n",
       "1                4          10400                   1         0   \n",
       "2                1           2018                   3         0   \n",
       "3                2           2372                   6         1   \n",
       "4                1          10820                   8         0   \n",
       "\n",
       "   PercentSalaryHike  PerformanceRating  YearsAtCompany  \\\n",
       "0                 11                  3              10   \n",
       "1                 11                  3              14   \n",
       "2                 14                  3               5   \n",
       "3                 16                  3               1   \n",
       "4                 11                  3               8   \n",
       "\n",
       "   Department Research & Development  Department Sales  Gender Male  \n",
       "0                                  1                 0            1  \n",
       "1                                  0                 1            1  \n",
       "2                                  1                 0            1  \n",
       "3                                  1                 0            0  \n",
       "4                                  1                 0            0  "
      ]
     },
     "execution_count": 42,
     "metadata": {},
     "output_type": "execute_result"
    }
   ],
   "source": [
    "df.Age=df.Age.apply(lambda x:'18-30' if x<31 else '31-40' if x<41 else '41-50' if x<51 else '51-60')\n",
    "df.head()"
   ]
  },
  {
   "cell_type": "code",
   "execution_count": null,
   "metadata": {},
   "outputs": [],
   "source": []
  },
  {
   "cell_type": "markdown",
   "metadata": {
    "collapsed": true,
    "id": "egrqR91RVude"
   },
   "source": [
    "<table align=\"left\">\n",
    "    <tr>\n",
    "        <td width=\"6%\">\n",
    "            <img src=\"question_icon.png\">\n",
    "        </td>\n",
    "        <td>\n",
    "            <div align=\"left\", style=\"font-size:120%\">\n",
    "                <font color=\"#21618C\">\n",
    "                    <b>2. Employee from which age category has the highest salary?.</b>\n",
    "                </font>\n",
    "            </div>\n",
    "        </td>\n",
    "    </tr>\n",
    "</table>"
   ]
  },
  {
   "cell_type": "code",
   "execution_count": 43,
   "metadata": {
    "id": "egZ3mYcwVudf"
   },
   "outputs": [
    {
     "data": {
      "text/plain": [
       "Age\n",
       "18-30    11935\n",
       "31-40    12061\n",
       "41-50    11957\n",
       "51-60    10976\n",
       "Name: MonthlyIncome, dtype: int64"
      ]
     },
     "execution_count": 43,
     "metadata": {},
     "output_type": "execute_result"
    }
   ],
   "source": [
    "df.groupby('Age')['MonthlyIncome'].max()"
   ]
  },
  {
   "cell_type": "markdown",
   "metadata": {
    "collapsed": true,
    "id": "CojuLRlXVudf"
   },
   "source": [
    "<table align=\"left\">\n",
    "    <tr>\n",
    "        <td width=\"6%\">\n",
    "            <img src=\"question_icon.png\">\n",
    "        </td>\n",
    "        <td>\n",
    "            <div align=\"left\", style=\"font-size:120%\">\n",
    "                <font color=\"#21618C\">\n",
    "                    <b>3. Dummy encode the categorical variable \"Age\".</b>\n",
    "                </font>\n",
    "            </div>\n",
    "        </td>\n",
    "    </tr>\n",
    "</table>"
   ]
  },
  {
   "cell_type": "code",
   "execution_count": null,
   "metadata": {
    "id": "VvET9_z_Vudf"
   },
   "outputs": [],
   "source": [
    "#df.Age=df.Age.map({'18-30l':0,'31-40':1,'41-50':2,'51-60',3})"
   ]
  },
  {
   "cell_type": "code",
   "execution_count": 44,
   "metadata": {},
   "outputs": [],
   "source": [
    "df=pd.get_dummies(df,drop_first=True)"
   ]
  },
  {
   "cell_type": "code",
   "execution_count": 48,
   "metadata": {},
   "outputs": [
    {
     "data": {
      "text/plain": [
       "Attrition                              int64\n",
       "BusinessTravel                         int64\n",
       "DistanceFromHome                       int64\n",
       "EducationField                       float64\n",
       "EnvironmentSatisfaction                int64\n",
       "JobInvolvement                         int64\n",
       "JobLevel                               int64\n",
       "JobRole                              float64\n",
       "JobSatisfaction                        int64\n",
       "MonthlyIncome                          int64\n",
       "NumCompaniesWorked                     int64\n",
       "OverTime                               int64\n",
       "PercentSalaryHike                      int64\n",
       "PerformanceRating                      int64\n",
       "YearsAtCompany                         int64\n",
       "Department Research & Development      uint8\n",
       "Department Sales                       uint8\n",
       "Gender Male                            uint8\n",
       "Age_31-40                              uint8\n",
       "Age_41-50                              uint8\n",
       "Age_51-60                              uint8\n",
       "dtype: object"
      ]
     },
     "execution_count": 48,
     "metadata": {},
     "output_type": "execute_result"
    }
   ],
   "source": [
    "df.dtypes"
   ]
  },
  {
   "cell_type": "markdown",
   "metadata": {
    "id": "ZHGNmN6IVudf"
   },
   "source": [
    "<a id=\"ada\"> </a>\n",
    "## 1. ADABoost"
   ]
  },
  {
   "cell_type": "markdown",
   "metadata": {
    "id": "-rr537gXVudg"
   },
   "source": [
    "## We shall use the employee dataset"
   ]
  },
  {
   "cell_type": "markdown",
   "metadata": {
    "collapsed": true,
    "id": "o2dqUNCMVudg"
   },
   "source": [
    "<table align=\"left\">\n",
    "    <tr>\n",
    "        <td width=\"6%\">\n",
    "            <img src=\"question_icon.png\">\n",
    "        </td>\n",
    "        <td>\n",
    "            <div align=\"left\", style=\"font-size:120%\">\n",
    "                <font color=\"#21618C\">\n",
    "                    <b>4. Build a adaboost model with 40 number of estimators to predict whether or not an employee will leave the company based on all the dummy encoded categorical features only. Calculate the accuracy for the model.</b>\n",
    "                </font>\n",
    "            </div>\n",
    "        </td>\n",
    "    </tr>\n",
    "</table>"
   ]
  },
  {
   "cell_type": "code",
   "execution_count": 55,
   "metadata": {
    "id": "0X37pa4zVudg"
   },
   "outputs": [
    {
     "data": {
      "text/plain": [
       "0.7315"
      ]
     },
     "execution_count": 55,
     "metadata": {},
     "output_type": "execute_result"
    }
   ],
   "source": [
    "X = df.iloc[:, 10:]\n",
    "y=df.Attrition\n",
    "X_train, X_test, y_train, y_test = train_test_split(X, y, random_state = 10, test_size = 0.2)\n",
    "ada_model = AdaBoostClassifier(n_estimators = 40, random_state = 10)\n",
    "ada_model.fit(X_train, y_train)\n",
    "y_pred = ada_model.predict(X_test)\n",
    "round(accuracy_score(y_test, y_pred), 4)"
   ]
  },
  {
   "cell_type": "markdown",
   "metadata": {
    "collapsed": true,
    "id": "lcVUbN6BVudg"
   },
   "source": [
    "<table align=\"left\">\n",
    "    <tr>\n",
    "        <td width=\"6%\">\n",
    "            <img src=\"question_icon.png\">\n",
    "        </td>\n",
    "        <td>\n",
    "            <div align=\"left\", style=\"font-size:120%\">\n",
    "                <font color=\"#21618C\">\n",
    "                    <b>5. Build a adaboost full model with 40 number of estimators to predict if an employee will leave the company. Generate a classification report.</b>\n",
    "                </font>\n",
    "            </div>\n",
    "        </td>\n",
    "    </tr>\n",
    "</table>"
   ]
  },
  {
   "cell_type": "code",
   "execution_count": 87,
   "metadata": {
    "id": "FvHcRmIvVudg"
   },
   "outputs": [
    {
     "name": "stdout",
     "output_type": "stream",
     "text": [
      "              precision    recall  f1-score   support\n",
      "\n",
      "           0       0.86      0.81      0.84       170\n",
      "           1       0.77      0.83      0.80       128\n",
      "\n",
      "    accuracy                           0.82       298\n",
      "   macro avg       0.82      0.82      0.82       298\n",
      "weighted avg       0.82      0.82      0.82       298\n",
      "\n"
     ]
    }
   ],
   "source": [
    "X=df.drop('Attrition',axis=1)\n",
    "y=df.Attrition\n",
    "X_train, X_test, y_train, y_test = train_test_split(X,y, random_state = 10, test_size = 0.2)\n",
    "\n",
    "ada_model = AdaBoostClassifier(n_estimators = 40, random_state = 10)\n",
    "\n",
    "ada_model.fit(X_train, y_train)\n",
    "\n",
    "y_pred = ada_model.predict(X_test)\n",
    "\n",
    "print(classification_report(y_test, y_pred))"
   ]
  },
  {
   "cell_type": "markdown",
   "metadata": {
    "collapsed": true,
    "id": "03UVGrChVudg"
   },
   "source": [
    "<table align=\"left\">\n",
    "    <tr>\n",
    "        <td width=\"6%\">\n",
    "            <img src=\"question_icon.png\">\n",
    "        </td>\n",
    "        <td>\n",
    "            <div align=\"left\", style=\"font-size:120%\">\n",
    "                <font color=\"#21618C\">\n",
    "                    <b>6.  Find the area under the receiver operating characteristic curve for full model built in question 5. </b>\n",
    "                </font>\n",
    "            </div>\n",
    "        </td>\n",
    "    </tr>\n",
    "</table>"
   ]
  },
  {
   "cell_type": "code",
   "execution_count": 88,
   "metadata": {
    "id": "Idn8pes_Vudh"
   },
   "outputs": [
    {
     "data": {
      "image/png": "[encoded data removed]",
      "text/plain": [
       "<Figure size 432x288 with 1 Axes>"
      ]
     },
     "metadata": {
      "needs_background": "light"
     },
     "output_type": "display_data"
    }
   ],
   "source": [
    "#use predicted probabilities for roc_curve\n",
    "#use predicted values for roc_act_score\n",
    "y_pred_proba=ada_model.predict_proba(X_test)[:,1]\n",
    "y_pred=ada_model.predict(X_test)\n",
    "fpr, tpr, thresholds = roc_curve(y_test, y_pred_proba)\n",
    "plt.plot([0, 1], [0, 1],'r--')\n",
    "plt.plot(fpr, tpr)\n",
    "plt.text(x = 0.04, y = 0.6, s = (round(metrics.roc_auc_score(y_test, y_pred),4)))\n",
    "plt.grid(True)"
   ]
  },
  {
   "cell_type": "markdown",
   "metadata": {
    "collapsed": true,
    "id": "RTHXLKv0Vudh"
   },
   "source": [
    "<table align=\"left\">\n",
    "    <tr>\n",
    "        <td width=\"6%\">\n",
    "            <img src=\"question_icon.png\">\n",
    "        </td>\n",
    "        <td>\n",
    "            <div align=\"left\", style=\"font-size:120%\">\n",
    "                <font color=\"#21618C\">\n",
    "                    <b>7. Plot a confusion matrix for the full model built above.</b>\n",
    "                </font>\n",
    "            </div>\n",
    "        </td>\n",
    "    </tr>\n",
    "</table>"
   ]
  },
  {
   "cell_type": "code",
   "execution_count": 68,
   "metadata": {
    "id": "dl1ymujSVudh"
   },
   "outputs": [
    {
     "data": {
      "image/png": "[encoded data removed]",
      "text/plain": [
       "<Figure size 432x288 with 1 Axes>"
      ]
     },
     "metadata": {
      "needs_background": "light"
     },
     "output_type": "display_data"
    }
   ],
   "source": [
    "cm = confusion_matrix(y_test, y_pred)\n",
    "conf_matrix = pd.DataFrame(data = cm,columns = ['Predicted : No','Predicted : Yes'], \n",
    "                           index = ['Actual :No','Actual  :Yes'])\n",
    "\n",
    "sns.heatmap(conf_matrix, annot = True, fmt = 'd', cbar = False, linewidths = 0.1)\n",
    "plt.show()"
   ]
  },
  {
   "cell_type": "markdown",
   "metadata": {
    "collapsed": true,
    "id": "88YOTCIhVudh"
   },
   "source": [
    "<table align=\"left\">\n",
    "    <tr>\n",
    "        <td width=\"6%\">\n",
    "            <img src=\"question_icon.png\">\n",
    "        </td>\n",
    "        <td>\n",
    "            <div align=\"left\", style=\"font-size:120%\">\n",
    "                <font color=\"#21618C\">\n",
    "                    <b>8. Calculate the specificity, sensitivity, % of misclassified and correctly classified observations. What can you say about the model by looking at the sensitivity and specificity values? Is this a good model?</b>\n",
    "                </font>\n",
    "            </div>\n",
    "        </td>\n",
    "    </tr>\n",
    "</table>"
   ]
  },
  {
   "cell_type": "code",
   "execution_count": 73,
   "metadata": {
    "id": "PqNhtFTrVudi"
   },
   "outputs": [
    {
     "name": "stdout",
     "output_type": "stream",
     "text": [
      "81.88\n",
      "18.12\n",
      "0.8118\n",
      "0.8281\n"
     ]
    }
   ],
   "source": [
    "TN,TP,FP ,FN= cm[0][0],cm[1][1],cm[0][1],cm[1][0]\n",
    "total = TN + TP + FP + FN\n",
    "correct_classified_percentage = ((TN+TP)/total)*100\n",
    "print(round(correct_classified_percentage, 2))\n",
    "misclassified_percentage = ((FP+FN)/total)*100\n",
    "print(round(misclassified_percentage, 2))\n",
    "specificity = TN/(TN+FP)\n",
    "print( round(specificity, 4))\n",
    "sensitivity = TP/(TP+FN)\n",
    "print( round(sensitivity, 4))"
   ]
  },
  {
   "cell_type": "markdown",
   "metadata": {
    "collapsed": true,
    "id": "h7JF8cvgVudi"
   },
   "source": [
    "<table align=\"left\">\n",
    "    <tr>\n",
    "        <td width=\"6%\">\n",
    "            <img src=\"question_icon.png\">\n",
    "        </td>\n",
    "        <td>\n",
    "            <div align=\"left\", style=\"font-size:120%\">\n",
    "                <font color=\"#21618C\">\n",
    "                    <b>9. Find the best value of hyperparameters \"n_estimators\" and \"learning_rate\" for the adaboost full model.</b>\n",
    "                </font>\n",
    "            </div>\n",
    "        </td>\n",
    "    </tr>\n",
    "</table>"
   ]
  },
  {
   "cell_type": "markdown",
   "metadata": {
    "id": "Wxjs4AdZVudi"
   },
   "source": [
    "Given list of values:\n",
    "\n",
    "       n_estimators = [100, 120, 150, 200, 250, 300, 350],\n",
    "       learning_rate = [0.1, 0.01, 0.001, 0.15, 0.015]         "
   ]
  },
  {
   "cell_type": "code",
   "execution_count": 75,
   "metadata": {
    "id": "roRLa5a8Vudi"
   },
   "outputs": [
    {
     "name": "stdout",
     "output_type": "stream",
     "text": [
      "{'learning_rate': 0.15, 'n_estimators': 300} \n",
      "\n"
     ]
    }
   ],
   "source": [
    "paramaters = [{'n_estimators': [100, 120, 150, 200, 250, 300, 350],\n",
    "                     'learning_rate': [0.1, 0.01, 0.001, 0.15, 0.015]}]\n",
    "\n",
    "ada_model = AdaBoostClassifier(random_state = 10)\n",
    "\n",
    "ada_grid = GridSearchCV(estimator = ada_model, \n",
    "                         param_grid =paramaters, \n",
    "                         cv = 5)\n",
    "\n",
    "ada_grid.fit(X_train, y_train)\n",
    "\n",
    "print( ada_grid.best_params_)"
   ]
  },
  {
   "cell_type": "markdown",
   "metadata": {
    "collapsed": true,
    "id": "KuzL_Ht_Vudi"
   },
   "source": [
    "<table align=\"left\">\n",
    "    <tr>\n",
    "        <td width=\"6%\">\n",
    "            <img src=\"question_icon.png\">\n",
    "        </td>\n",
    "        <td>\n",
    "            <div align=\"left\", style=\"font-size:120%\">\n",
    "                <font color=\"#21618C\">\n",
    "                        <b>10. Build a adaboost model using the tuned hyperparameters, perform 10 fold cross validation and get the average ROC-AUC score.</b>\n",
    "                </font>\n",
    "            </div>\n",
    "        </td>\n",
    "    </tr>\n",
    "</table>"
   ]
  },
  {
   "cell_type": "code",
   "execution_count": 77,
   "metadata": {
    "id": "n1KwCT3xVudj"
   },
   "outputs": [
    {
     "data": {
      "text/plain": [
       "0.8364918414918415"
      ]
     },
     "execution_count": 77,
     "metadata": {},
     "output_type": "execute_result"
    }
   ],
   "source": [
    "abc=AdaBoostClassifier(n_estimators=200,learning_rate=0.1,random_state=1)\n",
    "s=cross_val_score(abc,X_train,y_train,scoring='roc_auc',cv=10)\n",
    "s.mean()"
   ]
  },
  {
   "cell_type": "markdown",
   "metadata": {
    "id": "WOgLaiVIVudj"
   },
   "source": [
    "<a id=\"gb\"> </a>\n",
    "## 2. Gradient Boosting"
   ]
  },
  {
   "cell_type": "markdown",
   "metadata": {
    "collapsed": true,
    "id": "5ZtKJVYaVudj"
   },
   "source": [
    "<table align=\"left\">\n",
    "    <tr>\n",
    "        <td width=\"6%\">\n",
    "            <img src=\"question_icon.png\">\n",
    "        </td>\n",
    "        <td>\n",
    "            <div align=\"left\", style=\"font-size:120%\">\n",
    "                <font color=\"#21618C\">\n",
    "                        <b>11. Build the gradient boosting model 100 estimators and maximum depth 3. Also, find the accuracy score.</b>\n",
    "                </font>\n",
    "            </div>\n",
    "        </td>\n",
    "    </tr>\n",
    "</table>"
   ]
  },
  {
   "cell_type": "code",
   "execution_count": 80,
   "metadata": {
    "id": "agugHnfzVudj"
   },
   "outputs": [
    {
     "name": "stdout",
     "output_type": "stream",
     "text": [
      "0.893\n"
     ]
    }
   ],
   "source": [
    "g_model = GradientBoostingClassifier(n_estimators = 100, max_depth = 3, random_state = 10)\n",
    "\n",
    "g_model.fit(X_train, y_train)\n",
    "y_pred_gb = g_model.predict(X_test)\n",
    "\n",
    "print(round(accuracy_score(y_test, y_pred_gb), 3))"
   ]
  },
  {
   "cell_type": "markdown",
   "metadata": {
    "collapsed": true,
    "id": "GepN-th5Vudj"
   },
   "source": [
    "<table align=\"left\">\n",
    "    <tr>\n",
    "        <td width=\"6%\">\n",
    "            <img src=\"question_icon.png\">\n",
    "        </td>\n",
    "        <td>\n",
    "            <div align=\"left\", style=\"font-size:120%\">\n",
    "                <font color=\"#21618C\">\n",
    "                        <b>12. Find the best value of hyperparameters \"n_estimators\", \"learning_rate\" and \"max_depth\" for the gradient boosting full model.</b>\n",
    "                </font>\n",
    "            </div>\n",
    "        </td>\n",
    "    </tr>\n",
    "</table>"
   ]
  },
  {
   "cell_type": "markdown",
   "metadata": {
    "id": "Wkza4F9tVudk"
   },
   "source": [
    "Given list of values:\n",
    "\n",
    "        n_estimators = [100, 120, 150, 200, 250, 300, 350],\n",
    "        learning_rate = [0.1, 0.01, 0.001, 0.15, 0.015], \n",
    "        max_depth = [2, 3, 4, 5, 6]"
   ]
  },
  {
   "cell_type": "code",
   "execution_count": 81,
   "metadata": {
    "id": "nYEsnL0VVudk"
   },
   "outputs": [
    {
     "name": "stdout",
     "output_type": "stream",
     "text": [
      "{'learning_rate': 0.15, 'max_depth': 6, 'n_estimators': 250}\n"
     ]
    }
   ],
   "source": [
    "paramaters = [{'n_estimators': [100, 120, 150, 200, 250, 300, 350],\n",
    "                'learning_rate': [0.1, 0.01, 0.001, 0.15, 0.015], \n",
    "                'max_depth': [2, 3, 4, 5, 6]}]\n",
    " \n",
    "g_model = GradientBoostingClassifier(random_state = 8)\n",
    "gb_grid = GridSearchCV(estimator = g_model, param_grid = paramaters, cv = 5)\n",
    "gb_grid.fit(X_train, y_train)\n",
    "gb_grid.best_params_"
   ]
  },
  {
   "cell_type": "markdown",
   "metadata": {
    "collapsed": true,
    "id": "IZqGKUvFVudk"
   },
   "source": [
    "<table align=\"left\">\n",
    "    <tr>\n",
    "        <td width=\"6%\">\n",
    "            <img src=\"question_icon.png\">\n",
    "        </td>\n",
    "        <td>\n",
    "            <div align=\"left\", style=\"font-size:120%\">\n",
    "                <font color=\"#21618C\">\n",
    "                        <b>13. Build the gradient boosting model and an adaboost model with their best parameters and generate a classification report for both of them. Which model is the best and why?</b>\n",
    "                </font>\n",
    "            </div>\n",
    "        </td>\n",
    "    </tr>\n",
    "</table>"
   ]
  },
  {
   "cell_type": "code",
   "execution_count": 89,
   "metadata": {},
   "outputs": [
    {
     "name": "stdout",
     "output_type": "stream",
     "text": [
      "              precision    recall  f1-score   support\n",
      "\n",
      "           0       0.98      0.92      0.95       170\n",
      "           1       0.91      0.98      0.94       128\n",
      "\n",
      "    accuracy                           0.95       298\n",
      "   macro avg       0.94      0.95      0.95       298\n",
      "weighted avg       0.95      0.95      0.95       298\n",
      "\n"
     ]
    }
   ],
   "source": [
    "gb=GradientBoostingClassifier(n_estimators=250,learning_rate=0.15,max_depth=6)\n",
    "model=gb.fit(X_train,y_train)\n",
    "gb_pred=model.predict(X_test)\n",
    "print(classification_report(y_test, gb_pred))"
   ]
  },
  {
   "cell_type": "markdown",
   "metadata": {
    "collapsed": true,
    "id": "C8yOtPWvVudk"
   },
   "source": [
    "<table align=\"left\">\n",
    "    <tr>\n",
    "        <td width=\"6%\">\n",
    "            <img src=\"question_icon.png\">\n",
    "        </td>\n",
    "        <td>\n",
    "            <div align=\"left\", style=\"font-size:120%\">\n",
    "                <font color=\"#21618C\">\n",
    "                    <b>14. Plot the area under the receiver operating characteristic curve for tuned gradient boosting model built in question 13. Also plot a confusion matrix.</b>\n",
    "                </font>\n",
    "            </div>\n",
    "        </td>\n",
    "    </tr>\n",
    "</table>"
   ]
  },
  {
   "cell_type": "code",
   "execution_count": 85,
   "metadata": {
    "id": "VLhs1i0sVudk",
    "scrolled": true
   },
   "outputs": [
    {
     "data": {
      "image/png": "[encoded data removed]",
      "text/plain": [
       "<Figure size 432x288 with 1 Axes>"
      ]
     },
     "metadata": {
      "needs_background": "light"
     },
     "output_type": "display_data"
    }
   ],
   "source": [
    "y_pred_proba=model.predict_proba(X_test)[:,1]\n",
    "y_pred=model.predict(X_test)\n",
    "fpr, tpr, thresholds = roc_curve(y_test, y_pred_proba)\n",
    "plt.plot([0, 1], [0, 1],'r--')\n",
    "plt.plot(fpr, tpr)\n",
    "plt.text(x = 0.04, y = 0.6, s = (round(metrics.roc_auc_score(y_test, y_pred),4)))\n",
    "plt.grid(True)"
   ]
  },
  {
   "cell_type": "code",
   "execution_count": 91,
   "metadata": {},
   "outputs": [
    {
     "data": {
      "image/png": "[encoded data removed]",
      "text/plain": [
       "<Figure size 432x288 with 1 Axes>"
      ]
     },
     "metadata": {
      "needs_background": "light"
     },
     "output_type": "display_data"
    }
   ],
   "source": [
    "y_pred=model.predict(X_test)\n",
    "cm = confusion_matrix(y_test, y_pred)\n",
    "conf_matrix = pd.DataFrame(data = cm,columns = ['Predicted : No','Predicted : Yes'], \n",
    "                           index = ['Actual :No','Actual  :Yes'])\n",
    "\n",
    "sns.heatmap(conf_matrix, annot = True, fmt = 'd', cbar = False, linewidths = 0.1)\n",
    "plt.show()"
   ]
  },
  {
   "cell_type": "markdown",
   "metadata": {
    "id": "TXioZfzkVudk"
   },
   "source": [
    "<a id=\"xgb\"> </a>\n",
    "## 3. Extreme Gradient Boosting (XGBoost)"
   ]
  },
  {
   "cell_type": "markdown",
   "metadata": {
    "id": "YEXX8O6uVudk"
   },
   "source": [
    "<table align=\"left\">\n",
    "    <tr>\n",
    "        <td width=\"6%\">\n",
    "            <img src=\"question_icon.png\">\n",
    "        </td>\n",
    "        <td>\n",
    "            <div align=\"left\", style=\"font-size:120%\">\n",
    "                <font color=\"#21618C\">\n",
    "                    <b>15. Build the XGBoost model with a learning rate of 0.01 and gamma equal to 2. Calculate the roc_auc score and generate a classification rerport.\n",
    "                    </b>\n",
    "                </font>\n",
    "            </div>\n",
    "        </td>\n",
    "    </tr>\n",
    "</table>"
   ]
  },
  {
   "cell_type": "code",
   "execution_count": 96,
   "metadata": {
    "id": "bf_IdsxOVudl"
   },
   "outputs": [
    {
     "name": "stdout",
     "output_type": "stream",
     "text": [
      "0.8561121323529411\n",
      "              precision    recall  f1-score   support\n",
      "\n",
      "           0       0.90      0.83      0.87       170\n",
      "           1       0.80      0.88      0.84       128\n",
      "\n",
      "    accuracy                           0.85       298\n",
      "   macro avg       0.85      0.86      0.85       298\n",
      "weighted avg       0.86      0.85      0.85       298\n",
      "\n"
     ]
    }
   ],
   "source": [
    "xgb_model = XGBClassifier(learning_rate = 0.01, gamma = 2)\n",
    "xgb_model.fit(X_train, y_train)\n",
    "y_pred_xgb = xgb_model.predict(X_test)\n",
    "score = roc_auc_score(y_test, y_pred_xgb)\n",
    "print(score)\n",
    "print(classification_report(y_test, y_pred_xgb))"
   ]
  },
  {
   "cell_type": "markdown",
   "metadata": {
    "collapsed": true,
    "id": "pS9oxumDVudl"
   },
   "source": [
    "<table align=\"left\">\n",
    "    <tr>\n",
    "        <td width=\"6%\">\n",
    "            <img src=\"question_icon.png\">\n",
    "        </td>\n",
    "        <td>\n",
    "            <div align=\"left\", style=\"font-size:120%\">\n",
    "                <font color=\"#21618C\">\n",
    "                        <b>16. Find the best value of hyperparameters \"n_estimators\", \"learning_rate\" and \"max_depth\" for the extreme gradient boosting full model.</b>\n",
    "                </font>\n",
    "            </div>\n",
    "        </td>\n",
    "    </tr>\n",
    "</table>"
   ]
  },
  {
   "cell_type": "markdown",
   "metadata": {
    "id": "lXjxopYHVudl"
   },
   "source": [
    "Given list of values:\n",
    "\n",
    "        n_estimators = [100, 120, 150],\n",
    "        learning_rate = [0.1, 0.01, 0.001, 0.15, 0.015], \n",
    "        gamma = [2, 3, 4, 5, 6],\n",
    "        max_depth = [2, 3, 4, 5, 6]"
   ]
  },
  {
   "cell_type": "code",
   "execution_count": 103,
   "metadata": {
    "id": "aVg9d2XZVudl"
   },
   "outputs": [
    {
     "data": {
      "text/plain": [
       "{'gamma': 2, 'learning_rate': 0.15, 'max_depth': 6, 'n_estimators': 100}"
      ]
     },
     "execution_count": 103,
     "metadata": {},
     "output_type": "execute_result"
    }
   ],
   "source": [
    "paramaters = [{'n_estimators': [100, 120, 150],\n",
    "                     'learning_rate': [0.1, 0.01, 0.001, 0.15, 0.015], \n",
    "                     'gamma': [2, 3, 4, 5, 6],\n",
    "                     'max_depth': [2, 3, 4, 5, 6]}]\n",
    "xgb_model = XGBClassifier(random_state = 10)\n",
    "xgb_grid = GridSearchCV(estimator = xgb_model, param_grid = paramaters, cv = 5).fit(X_train, y_train)\n",
    "xgb_grid.best_params_\n"
   ]
  },
  {
   "cell_type": "markdown",
   "metadata": {
    "collapsed": true,
    "id": "NfsOITO9Vudl"
   },
   "source": [
    "<table align=\"left\">\n",
    "    <tr>\n",
    "        <td width=\"6%\">\n",
    "            <img src=\"question_icon.png\">\n",
    "        </td>\n",
    "        <td>\n",
    "            <div align=\"left\", style=\"font-size:120%\">\n",
    "                <font color=\"#21618C\">\n",
    "                        <b>17. Plot the connfusion matrix for tuned extreme gradient boosting model built in question 16.</b>\n",
    "                </font>\n",
    "            </div>\n",
    "        </td>\n",
    "    </tr>\n",
    "</table>"
   ]
  },
  {
   "cell_type": "code",
   "execution_count": 104,
   "metadata": {
    "id": "JiVbaVhAVudl"
   },
   "outputs": [
    {
     "data": {
      "image/png": "[encoded data removed]",
      "text/plain": [
       "<Figure size 432x288 with 1 Axes>"
      ]
     },
     "metadata": {
      "needs_background": "light"
     },
     "output_type": "display_data"
    }
   ],
   "source": [
    "pred=xgb_grid.predict(X_test)\n",
    "c= confusion_matrix(y_test, pred)\n",
    "conf_matrix = pd.DataFrame(data = c,columns = ['Predicted : No','Predicted : Yes'], \n",
    "                           index = ['Actual :No','Actual  :Yes'])\n",
    "\n",
    "sns.heatmap(conf_matrix, annot = True, cbar = False, linewidths = 0.1)\n",
    "plt.show()"
   ]
  },
  {
   "cell_type": "markdown",
   "metadata": {
    "collapsed": true,
    "id": "hh6MWYiVVudl"
   },
   "source": [
    "<table align=\"left\">\n",
    "    <tr>\n",
    "        <td width=\"6%\">\n",
    "            <img src=\"question_icon.png\">\n",
    "        </td>\n",
    "        <td>\n",
    "            <div align=\"left\", style=\"font-size:120%\">\n",
    "                <font color=\"#21618C\">\n",
    "                        <b>18. Plot the area under the receiver operating characteristic curve for tuned extreme gradient boosting model built in question 16.</b>\n",
    "                </font>\n",
    "            </div>\n",
    "        </td>\n",
    "    </tr>\n",
    "</table>"
   ]
  },
  {
   "cell_type": "code",
   "execution_count": 106,
   "metadata": {
    "id": "z-fY57F_Vudl"
   },
   "outputs": [
    {
     "data": {
      "image/png": "[encoded data removed]",
      "text/plain": [
       "<Figure size 432x288 with 1 Axes>"
      ]
     },
     "metadata": {
      "needs_background": "light"
     },
     "output_type": "display_data"
    }
   ],
   "source": [
    "y_pred_proba=xgb_grid.predict_proba(X_test)[:,1]\n",
    "y_pred=xgb_grid.predict(X_test)\n",
    "fpr, tpr, thresholds = roc_curve(y_test, y_pred_proba)\n",
    "plt.plot([0, 1], [0, 1],'r--')\n",
    "plt.plot(fpr, tpr)\n",
    "plt.text(x = 0.04, y = 0.6, s = (round(metrics.roc_auc_score(y_test, y_pred),4)))\n",
    "plt.grid(True)"
   ]
  },
  {
   "cell_type": "markdown",
   "metadata": {
    "collapsed": true,
    "id": "Wc50KZ4kVudl"
   },
   "source": [
    "<table align=\"left\">\n",
    "    <tr>\n",
    "        <td width=\"6%\">\n",
    "            <img src=\"question_icon.png\">\n",
    "        </td>\n",
    "        <td>\n",
    "            <div align=\"left\", style=\"font-size:120%\">\n",
    "                <font color=\"#21618C\">\n",
    "                        <b>19. Use the stacking technique with the decision tree and Random Forest model as base learners. Consider the Adaboost model as a final estimator. Also, compute the ROC-AUC score of the model.</b>\n",
    "                </font>\n",
    "            </div>\n",
    "        </td>\n",
    "    </tr>\n",
    "</table>"
   ]
  },
  {
   "cell_type": "code",
   "execution_count": 110,
   "metadata": {
    "id": "uV7jVCa7Vudm",
    "scrolled": true
   },
   "outputs": [
    {
     "data": {
      "text/html": [
       "<style>#sk-container-id-1 {color: black;background-color: white;}#sk-container-id-1 pre{padding: 0;}#sk-container-id-1 div.sk-toggleable {background-color: white;}#sk-container-id-1 label.sk-toggleable__label {cursor: pointer;display: block;width: 100%;margin-bottom: 0;padding: 0.3em;box-sizing: border-box;text-align: center;}#sk-container-id-1 label.sk-toggleable__label-arrow:before {content: \"▸\";float: left;margin-right: 0.25em;color: #696969;}#sk-container-id-1 label.sk-toggleable__label-arrow:hover:before {color: black;}#sk-container-id-1 div.sk-estimator:hover label.sk-toggleable__label-arrow:before {color: black;}#sk-container-id-1 div.sk-toggleable__content {max-height: 0;max-width: 0;overflow: hidden;text-align: left;background-color: #f0f8ff;}#sk-container-id-1 div.sk-toggleable__content pre {margin: 0.2em;color: black;border-radius: 0.25em;background-color: #f0f8ff;}#sk-container-id-1 input.sk-toggleable__control:checked~div.sk-toggleable__content {max-height: 200px;max-width: 100%;overflow: auto;}#sk-container-id-1 input.sk-toggleable__control:checked~label.sk-toggleable__label-arrow:before {content: \"▾\";}#sk-container-id-1 div.sk-estimator input.sk-toggleable__control:checked~label.sk-toggleable__label {background-color: #d4ebff;}#sk-container-id-1 div.sk-label input.sk-toggleable__control:checked~label.sk-toggleable__label {background-color: #d4ebff;}#sk-container-id-1 input.sk-hidden--visually {border: 0;clip: rect(1px 1px 1px 1px);clip: rect(1px, 1px, 1px, 1px);height: 1px;margin: -1px;overflow: hidden;padding: 0;position: absolute;width: 1px;}#sk-container-id-1 div.sk-estimator {font-family: monospace;background-color: #f0f8ff;border: 1px dotted black;border-radius: 0.25em;box-sizing: border-box;margin-bottom: 0.5em;}#sk-container-id-1 div.sk-estimator:hover {background-color: #d4ebff;}#sk-container-id-1 div.sk-parallel-item::after {content: \"\";width: 100%;border-bottom: 1px solid gray;flex-grow: 1;}#sk-container-id-1 div.sk-label:hover label.sk-toggleable__label {background-color: #d4ebff;}#sk-container-id-1 div.sk-serial::before {content: \"\";position: absolute;border-left: 1px solid gray;box-sizing: border-box;top: 0;bottom: 0;left: 50%;z-index: 0;}#sk-container-id-1 div.sk-serial {display: flex;flex-direction: column;align-items: center;background-color: white;padding-right: 0.2em;padding-left: 0.2em;position: relative;}#sk-container-id-1 div.sk-item {position: relative;z-index: 1;}#sk-container-id-1 div.sk-parallel {display: flex;align-items: stretch;justify-content: center;background-color: white;position: relative;}#sk-container-id-1 div.sk-item::before, #sk-container-id-1 div.sk-parallel-item::before {content: \"\";position: absolute;border-left: 1px solid gray;box-sizing: border-box;top: 0;bottom: 0;left: 50%;z-index: -1;}#sk-container-id-1 div.sk-parallel-item {display: flex;flex-direction: column;z-index: 1;position: relative;background-color: white;}#sk-container-id-1 div.sk-parallel-item:first-child::after {align-self: flex-end;width: 50%;}#sk-container-id-1 div.sk-parallel-item:last-child::after {align-self: flex-start;width: 50%;}#sk-container-id-1 div.sk-parallel-item:only-child::after {width: 0;}#sk-container-id-1 div.sk-dashed-wrapped {border: 1px dashed gray;margin: 0 0.4em 0.5em 0.4em;box-sizing: border-box;padding-bottom: 0.4em;background-color: white;}#sk-container-id-1 div.sk-label label {font-family: monospace;font-weight: bold;display: inline-block;line-height: 1.2em;}#sk-container-id-1 div.sk-label-container {text-align: center;}#sk-container-id-1 div.sk-container {/* jupyter's `normalize.less` sets `[hidden] { display: none; }` but bootstrap.min.css set `[hidden] { display: none !important; }` so we also need the `!important` here to be able to override the default hidden behavior on the sphinx rendered scikit-learn.org. See: https://github.com/scikit-learn/scikit-learn/issues/21755 */display: inline-block !important;position: relative;}#sk-container-id-1 div.sk-text-repr-fallback {display: none;}</style><div id=\"sk-container-id-1\" class=\"sk-top-container\"><div class=\"sk-text-repr-fallback\"><pre>StackingClassifier(estimators=[(&#x27;Decision Tree&#x27;, DecisionTreeClassifier()),\n",
       "                               (&#x27;Random Forest&#x27;, RandomForestClassifier())],\n",
       "                   final_estimator=AdaBoostClassifier(random_state=1))</pre><b>In a Jupyter environment, please rerun this cell to show the HTML representation or trust the notebook. <br />On GitHub, the HTML representation is unable to render, please try loading this page with nbviewer.org.</b></div><div class=\"sk-container\" hidden><div class=\"sk-item sk-dashed-wrapped\"><div class=\"sk-label-container\"><div class=\"sk-label sk-toggleable\"><input class=\"sk-toggleable__control sk-hidden--visually\" id=\"sk-estimator-id-1\" type=\"checkbox\" ><label for=\"sk-estimator-id-1\" class=\"sk-toggleable__label sk-toggleable__label-arrow\">StackingClassifier</label><div class=\"sk-toggleable__content\"><pre>StackingClassifier(estimators=[(&#x27;Decision Tree&#x27;, DecisionTreeClassifier()),\n",
       "                               (&#x27;Random Forest&#x27;, RandomForestClassifier())],\n",
       "                   final_estimator=AdaBoostClassifier(random_state=1))</pre></div></div></div><div class=\"sk-serial\"><div class=\"sk-item\"><div class=\"sk-parallel\"><div class=\"sk-parallel-item\"><div class=\"sk-item\"><div class=\"sk-label-container\"><div class=\"sk-label sk-toggleable\"><label>Decision Tree</label></div></div><div class=\"sk-serial\"><div class=\"sk-item\"><div class=\"sk-estimator sk-toggleable\"><input class=\"sk-toggleable__control sk-hidden--visually\" id=\"sk-estimator-id-2\" type=\"checkbox\" ><label for=\"sk-estimator-id-2\" class=\"sk-toggleable__label sk-toggleable__label-arrow\">DecisionTreeClassifier</label><div class=\"sk-toggleable__content\"><pre>DecisionTreeClassifier()</pre></div></div></div></div></div></div><div class=\"sk-parallel-item\"><div class=\"sk-item\"><div class=\"sk-label-container\"><div class=\"sk-label sk-toggleable\"><label>Random Forest</label></div></div><div class=\"sk-serial\"><div class=\"sk-item\"><div class=\"sk-estimator sk-toggleable\"><input class=\"sk-toggleable__control sk-hidden--visually\" id=\"sk-estimator-id-3\" type=\"checkbox\" ><label for=\"sk-estimator-id-3\" class=\"sk-toggleable__label sk-toggleable__label-arrow\">RandomForestClassifier</label><div class=\"sk-toggleable__content\"><pre>RandomForestClassifier()</pre></div></div></div></div></div></div></div></div><div class=\"sk-item\"><div class=\"sk-parallel\"><div class=\"sk-parallel-item\"><div class=\"sk-item\"><div class=\"sk-label-container\"><div class=\"sk-label sk-toggleable\"><label>final_estimator</label></div></div><div class=\"sk-serial\"><div class=\"sk-item\"><div class=\"sk-estimator sk-toggleable\"><input class=\"sk-toggleable__control sk-hidden--visually\" id=\"sk-estimator-id-4\" type=\"checkbox\" ><label for=\"sk-estimator-id-4\" class=\"sk-toggleable__label sk-toggleable__label-arrow\">AdaBoostClassifier</label><div class=\"sk-toggleable__content\"><pre>AdaBoostClassifier(random_state=1)</pre></div></div></div></div></div></div></div></div></div></div></div></div>"
      ],
      "text/plain": [
       "StackingClassifier(estimators=[('Decision Tree', DecisionTreeClassifier()),\n",
       "                               ('Random Forest', RandomForestClassifier())],\n",
       "                   final_estimator=AdaBoostClassifier(random_state=1))"
      ]
     },
     "execution_count": 110,
     "metadata": {},
     "output_type": "execute_result"
    }
   ],
   "source": [
    "bl=[('Decision Tree',DecisionTreeClassifier()),('Random Forest',RandomForestClassifier())]\n",
    "stack_model_abc=StackingClassifier(estimators=bl,final_estimator=AdaBoostClassifier(random_state=1))\n",
    "stack_model_abc.fit(X_train,y_train)"
   ]
  },
  {
   "cell_type": "code",
   "execution_count": 112,
   "metadata": {},
   "outputs": [
    {
     "name": "stdout",
     "output_type": "stream",
     "text": [
      "0.9687040441176471\n",
      "              precision    recall  f1-score   support\n",
      "\n",
      "           0       0.97      0.98      0.97       170\n",
      "           1       0.97      0.96      0.96       128\n",
      "\n",
      "    accuracy                           0.97       298\n",
      "   macro avg       0.97      0.97      0.97       298\n",
      "weighted avg       0.97      0.97      0.97       298\n",
      "\n"
     ]
    }
   ],
   "source": [
    "y_pred_stack = stack_model_abc.predict(X_test)\n",
    "score = roc_auc_score(y_test, y_pred_stack)\n",
    "print(score)\n",
    "print(classification_report(y_test, y_pred_stack))"
   ]
  },
  {
   "cell_type": "markdown",
   "metadata": {
    "collapsed": true,
    "id": "dwemiDK5Vudm"
   },
   "source": [
    "<table align=\"left\">\n",
    "    <tr>\n",
    "        <td width=\"6%\">\n",
    "            <img src=\"question_icon.png\">\n",
    "        </td>\n",
    "        <td>\n",
    "            <div align=\"left\", style=\"font-size:120%\">\n",
    "                <font color=\"#21618C\">\n",
    "                        <b>20. Use the stacking technique with the decision tree and Random Forest model as base learners. Consider the Gradient Boosting model as a final estimator. Also, compute the ROC-AUC score of the model.</b>\n",
    "                </font>\n",
    "            </div>\n",
    "        </td>\n",
    "    </tr>\n",
    "</table>"
   ]
  },
  {
   "cell_type": "code",
   "execution_count": 113,
   "metadata": {
    "id": "S0ic5ciTVudm"
   },
   "outputs": [
    {
     "data": {
      "text/html": [
       "<style>#sk-container-id-3 {color: black;background-color: white;}#sk-container-id-3 pre{padding: 0;}#sk-container-id-3 div.sk-toggleable {background-color: white;}#sk-container-id-3 label.sk-toggleable__label {cursor: pointer;display: block;width: 100%;margin-bottom: 0;padding: 0.3em;box-sizing: border-box;text-align: center;}#sk-container-id-3 label.sk-toggleable__label-arrow:before {content: \"▸\";float: left;margin-right: 0.25em;color: #696969;}#sk-container-id-3 label.sk-toggleable__label-arrow:hover:before {color: black;}#sk-container-id-3 div.sk-estimator:hover label.sk-toggleable__label-arrow:before {color: black;}#sk-container-id-3 div.sk-toggleable__content {max-height: 0;max-width: 0;overflow: hidden;text-align: left;background-color: #f0f8ff;}#sk-container-id-3 div.sk-toggleable__content pre {margin: 0.2em;color: black;border-radius: 0.25em;background-color: #f0f8ff;}#sk-container-id-3 input.sk-toggleable__control:checked~div.sk-toggleable__content {max-height: 200px;max-width: 100%;overflow: auto;}#sk-container-id-3 input.sk-toggleable__control:checked~label.sk-toggleable__label-arrow:before {content: \"▾\";}#sk-container-id-3 div.sk-estimator input.sk-toggleable__control:checked~label.sk-toggleable__label {background-color: #d4ebff;}#sk-container-id-3 div.sk-label input.sk-toggleable__control:checked~label.sk-toggleable__label {background-color: #d4ebff;}#sk-container-id-3 input.sk-hidden--visually {border: 0;clip: rect(1px 1px 1px 1px);clip: rect(1px, 1px, 1px, 1px);height: 1px;margin: -1px;overflow: hidden;padding: 0;position: absolute;width: 1px;}#sk-container-id-3 div.sk-estimator {font-family: monospace;background-color: #f0f8ff;border: 1px dotted black;border-radius: 0.25em;box-sizing: border-box;margin-bottom: 0.5em;}#sk-container-id-3 div.sk-estimator:hover {background-color: #d4ebff;}#sk-container-id-3 div.sk-parallel-item::after {content: \"\";width: 100%;border-bottom: 1px solid gray;flex-grow: 1;}#sk-container-id-3 div.sk-label:hover label.sk-toggleable__label {background-color: #d4ebff;}#sk-container-id-3 div.sk-serial::before {content: \"\";position: absolute;border-left: 1px solid gray;box-sizing: border-box;top: 0;bottom: 0;left: 50%;z-index: 0;}#sk-container-id-3 div.sk-serial {display: flex;flex-direction: column;align-items: center;background-color: white;padding-right: 0.2em;padding-left: 0.2em;position: relative;}#sk-container-id-3 div.sk-item {position: relative;z-index: 1;}#sk-container-id-3 div.sk-parallel {display: flex;align-items: stretch;justify-content: center;background-color: white;position: relative;}#sk-container-id-3 div.sk-item::before, #sk-container-id-3 div.sk-parallel-item::before {content: \"\";position: absolute;border-left: 1px solid gray;box-sizing: border-box;top: 0;bottom: 0;left: 50%;z-index: -1;}#sk-container-id-3 div.sk-parallel-item {display: flex;flex-direction: column;z-index: 1;position: relative;background-color: white;}#sk-container-id-3 div.sk-parallel-item:first-child::after {align-self: flex-end;width: 50%;}#sk-container-id-3 div.sk-parallel-item:last-child::after {align-self: flex-start;width: 50%;}#sk-container-id-3 div.sk-parallel-item:only-child::after {width: 0;}#sk-container-id-3 div.sk-dashed-wrapped {border: 1px dashed gray;margin: 0 0.4em 0.5em 0.4em;box-sizing: border-box;padding-bottom: 0.4em;background-color: white;}#sk-container-id-3 div.sk-label label {font-family: monospace;font-weight: bold;display: inline-block;line-height: 1.2em;}#sk-container-id-3 div.sk-label-container {text-align: center;}#sk-container-id-3 div.sk-container {/* jupyter's `normalize.less` sets `[hidden] { display: none; }` but bootstrap.min.css set `[hidden] { display: none !important; }` so we also need the `!important` here to be able to override the default hidden behavior on the sphinx rendered scikit-learn.org. See: https://github.com/scikit-learn/scikit-learn/issues/21755 */display: inline-block !important;position: relative;}#sk-container-id-3 div.sk-text-repr-fallback {display: none;}</style><div id=\"sk-container-id-3\" class=\"sk-top-container\"><div class=\"sk-text-repr-fallback\"><pre>StackingClassifier(estimators=[(&#x27;Decision Tree&#x27;, DecisionTreeClassifier()),\n",
       "                               (&#x27;Random Forest&#x27;, RandomForestClassifier())],\n",
       "                   final_estimator=GradientBoostingClassifier(random_state=8))</pre><b>In a Jupyter environment, please rerun this cell to show the HTML representation or trust the notebook. <br />On GitHub, the HTML representation is unable to render, please try loading this page with nbviewer.org.</b></div><div class=\"sk-container\" hidden><div class=\"sk-item sk-dashed-wrapped\"><div class=\"sk-label-container\"><div class=\"sk-label sk-toggleable\"><input class=\"sk-toggleable__control sk-hidden--visually\" id=\"sk-estimator-id-9\" type=\"checkbox\" ><label for=\"sk-estimator-id-9\" class=\"sk-toggleable__label sk-toggleable__label-arrow\">StackingClassifier</label><div class=\"sk-toggleable__content\"><pre>StackingClassifier(estimators=[(&#x27;Decision Tree&#x27;, DecisionTreeClassifier()),\n",
       "                               (&#x27;Random Forest&#x27;, RandomForestClassifier())],\n",
       "                   final_estimator=GradientBoostingClassifier(random_state=8))</pre></div></div></div><div class=\"sk-serial\"><div class=\"sk-item\"><div class=\"sk-parallel\"><div class=\"sk-parallel-item\"><div class=\"sk-item\"><div class=\"sk-label-container\"><div class=\"sk-label sk-toggleable\"><label>Decision Tree</label></div></div><div class=\"sk-serial\"><div class=\"sk-item\"><div class=\"sk-estimator sk-toggleable\"><input class=\"sk-toggleable__control sk-hidden--visually\" id=\"sk-estimator-id-10\" type=\"checkbox\" ><label for=\"sk-estimator-id-10\" class=\"sk-toggleable__label sk-toggleable__label-arrow\">DecisionTreeClassifier</label><div class=\"sk-toggleable__content\"><pre>DecisionTreeClassifier()</pre></div></div></div></div></div></div><div class=\"sk-parallel-item\"><div class=\"sk-item\"><div class=\"sk-label-container\"><div class=\"sk-label sk-toggleable\"><label>Random Forest</label></div></div><div class=\"sk-serial\"><div class=\"sk-item\"><div class=\"sk-estimator sk-toggleable\"><input class=\"sk-toggleable__control sk-hidden--visually\" id=\"sk-estimator-id-11\" type=\"checkbox\" ><label for=\"sk-estimator-id-11\" class=\"sk-toggleable__label sk-toggleable__label-arrow\">RandomForestClassifier</label><div class=\"sk-toggleable__content\"><pre>RandomForestClassifier()</pre></div></div></div></div></div></div></div></div><div class=\"sk-item\"><div class=\"sk-parallel\"><div class=\"sk-parallel-item\"><div class=\"sk-item\"><div class=\"sk-label-container\"><div class=\"sk-label sk-toggleable\"><label>final_estimator</label></div></div><div class=\"sk-serial\"><div class=\"sk-item\"><div class=\"sk-estimator sk-toggleable\"><input class=\"sk-toggleable__control sk-hidden--visually\" id=\"sk-estimator-id-12\" type=\"checkbox\" ><label for=\"sk-estimator-id-12\" class=\"sk-toggleable__label sk-toggleable__label-arrow\">GradientBoostingClassifier</label><div class=\"sk-toggleable__content\"><pre>GradientBoostingClassifier(random_state=8)</pre></div></div></div></div></div></div></div></div></div></div></div></div>"
      ],
      "text/plain": [
       "StackingClassifier(estimators=[('Decision Tree', DecisionTreeClassifier()),\n",
       "                               ('Random Forest', RandomForestClassifier())],\n",
       "                   final_estimator=GradientBoostingClassifier(random_state=8))"
      ]
     },
     "execution_count": 113,
     "metadata": {},
     "output_type": "execute_result"
    }
   ],
   "source": [
    "bl=[('Decision Tree',DecisionTreeClassifier()),('Random Forest',RandomForestClassifier())]\n",
    "stack_model_abc=StackingClassifier(estimators=bl,final_estimator=GradientBoostingClassifier(random_state = 8))\n",
    "stack_model_abc.fit(X_train,y_train)"
   ]
  },
  {
   "cell_type": "code",
   "execution_count": 114,
   "metadata": {},
   "outputs": [
    {
     "name": "stdout",
     "output_type": "stream",
     "text": [
      "0.9745863970588236\n",
      "              precision    recall  f1-score   support\n",
      "\n",
      "           0       0.97      0.98      0.97       170\n",
      "           1       0.97      0.96      0.96       128\n",
      "\n",
      "    accuracy                           0.97       298\n",
      "   macro avg       0.97      0.97      0.97       298\n",
      "weighted avg       0.97      0.97      0.97       298\n",
      "\n"
     ]
    }
   ],
   "source": [
    "y_pred_stk = stack_model_abc.predict(X_test)\n",
    "score = roc_auc_score(y_test, y_pred_stk)\n",
    "print(score)\n",
    "print(classification_report(y_test, y_pred_stk))"
   ]
  }
 ],
 "metadata": {
  "colab": {
   "collapsed_sections": [],
   "name": "SLC - In-Class Lab Exercise (Week 3) - Questions [v2.0 - 160920].ipynb",
   "provenance": []
  },
  "kernelspec": {
   "display_name": "Python 3 (ipykernel)",
   "language": "python",
   "name": "python3"
  },
  "language_info": {
   "codemirror_mode": {
    "name": "ipython",
    "version": 3
   },
   "file_extension": ".py",
   "mimetype": "text/x-python",
   "name": "python",
   "nbconvert_exporter": "python",
   "pygments_lexer": "ipython3",
   "version": "3.9.13"
  }
 },
 "nbformat": 4,
 "nbformat_minor": 1
}
