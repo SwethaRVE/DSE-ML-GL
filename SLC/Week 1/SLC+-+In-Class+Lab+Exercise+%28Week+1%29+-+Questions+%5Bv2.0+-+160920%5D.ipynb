{
 "cells": [
  {
   "cell_type": "markdown",
   "metadata": {},
   "source": [
    "<table align=\"center\" width=100%>\n",
    "    <tr>\n",
    "        <td width=\"20%\">\n",
    "            <img src=\"in_class.png\">\n",
    "        </td>\n",
    "        <td>\n",
    "            <div align=\"center\">\n",
    "                <font color=\"#21618C\" size=8px>\n",
    "                    <b> Inclass - Lab <br>(Week 1)\n",
    "                    </b>\n",
    "                </font>\n",
    "            </div>\n",
    "        </td>\n",
    "         <td width=\"25%\">\n",
    "            <img src=\"GL-2.png\">\n",
    "        </td>\n",
    "    </tr>\n",
    "</table>"
   ]
  },
  {
   "cell_type": "markdown",
   "metadata": {},
   "source": [
    "### About the data set (Heart disease data)\n",
    "\n",
    "The dataset contains information about patients. The aim is to find whether or not a patient has cardiovascular disease based on the several factors from the patient profile. <br> Attribute information: \n",
    "\n",
    "**male:** Gender of patient: male(1) or female(0) \n",
    "\n",
    "**age:** Age of patient\n",
    "\n",
    "**education:** Education level of patient: 1 = Some High School; 2 = High School or GED; 3 = Some College or Vocational School; 4 = college\n",
    "\n",
    "**currentSmoker:** Whether the patient is a smoker now: Yes(1) or No(0)\n",
    "\n",
    "**cigsPerDay:** Average number of cigarettes smoked by patient per day\n",
    "\n",
    "**BPMeds:** Whether the patient is on blood pressure medications: Yes(1) or No(0)\n",
    "\n",
    "**prevalentStroke:** If the patient has a history of heart stroke: Yes(1) or No(0)\n",
    "\n",
    "**prevalentHyp:** If the patient has a history of hypertension: Yes(1) or No(0)\n",
    "\n",
    "**diabetes:**  If the patient has a diabetes: Yes(1) or No(0)\n",
    "\n",
    "**totChol:** Average cholesterol levels in mg/dL\n",
    "\n",
    "**sysBP:** Average systolic blood pressure of patient\n",
    "\n",
    "**diaBP:** Average diastolic blood pressure of patient\n",
    "\n",
    "**BMI:** BMI of patient\n",
    "\n",
    "**heartRate:** Avergae heartrate of patient\n",
    "\n",
    "**glucose:** Average blood glucose levels of patient\n",
    "\n",
    "**CVD:** Does the patient have cardiovascular disease: Yes(1) or No(0)"
   ]
  },
  {
   "cell_type": "markdown",
   "metadata": {},
   "source": [
    "## Table of Content\n",
    "\n",
    "1. **[Logistic Regression Model](#logreg)**\n",
    "2. **[Model Evaluation Metrics](#mod_eval)**\n",
    "3. **[Performance Evaluation Metrics](#perf_eval)**\n",
    "4. **[Determining optimal threshold](#opt)**"
   ]
  },
  {
   "cell_type": "markdown",
   "metadata": {},
   "source": [
    "**Import the required libraries**"
   ]
  },
  {
   "cell_type": "code",
   "execution_count": 1,
   "metadata": {},
   "outputs": [],
   "source": [
    "import pandas as pd\n",
    "import seaborn as sns\n",
    "import matplotlib.pyplot as plt\n",
    "from sklearn.linear_model import LogisticRegression\n",
    "from statsmodels.api import add_constant,Logit\n",
    "import numpy as np\n",
    "from sklearn.metrics import confusion_matrix,cohen_kappa_score,accuracy_score,f1_score,roc_curve\n",
    "from sklearn.metrics import roc_auc_score,log_loss,precision_score,recall_score\n",
    "from statsmodels.stats.outliers_influence import variance_inflation_factor\n",
    "from sklearn.model_selection import train_test_split\n",
    "from sklearn.feature_selection import RFE"
   ]
  },
  {
   "cell_type": "markdown",
   "metadata": {},
   "source": [
    "#### Load the csv file"
   ]
  },
  {
   "cell_type": "code",
   "execution_count": 2,
   "metadata": {
    "scrolled": true
   },
   "outputs": [
    {
     "data": {
      "text/html": [
       "<div>\n",
       "<style scoped>\n",
       "    .dataframe tbody tr th:only-of-type {\n",
       "        vertical-align: middle;\n",
       "    }\n",
       "\n",
       "    .dataframe tbody tr th {\n",
       "        vertical-align: top;\n",
       "    }\n",
       "\n",
       "    .dataframe thead th {\n",
       "        text-align: right;\n",
       "    }\n",
       "</style>\n",
       "<table border=\"1\" class=\"dataframe\">\n",
       "  <thead>\n",
       "    <tr style=\"text-align: right;\">\n",
       "      <th></th>\n",
       "      <th>male</th>\n",
       "      <th>age</th>\n",
       "      <th>education</th>\n",
       "      <th>currentSmoker</th>\n",
       "      <th>cigsPerDay</th>\n",
       "      <th>BPMeds</th>\n",
       "      <th>prevalentStroke</th>\n",
       "      <th>prevalentHyp</th>\n",
       "      <th>diabetes</th>\n",
       "      <th>totChol</th>\n",
       "      <th>sysBP</th>\n",
       "      <th>diaBP</th>\n",
       "      <th>BMI</th>\n",
       "      <th>heartRate</th>\n",
       "      <th>glucose</th>\n",
       "      <th>CVD</th>\n",
       "    </tr>\n",
       "  </thead>\n",
       "  <tbody>\n",
       "    <tr>\n",
       "      <th>0</th>\n",
       "      <td>1</td>\n",
       "      <td>39</td>\n",
       "      <td>4.0</td>\n",
       "      <td>0</td>\n",
       "      <td>0.0</td>\n",
       "      <td>0.0</td>\n",
       "      <td>0</td>\n",
       "      <td>0</td>\n",
       "      <td>0</td>\n",
       "      <td>195.0</td>\n",
       "      <td>106.0</td>\n",
       "      <td>70.0</td>\n",
       "      <td>26.97</td>\n",
       "      <td>80.0</td>\n",
       "      <td>77.0</td>\n",
       "      <td>0</td>\n",
       "    </tr>\n",
       "    <tr>\n",
       "      <th>1</th>\n",
       "      <td>0</td>\n",
       "      <td>46</td>\n",
       "      <td>2.0</td>\n",
       "      <td>0</td>\n",
       "      <td>0.0</td>\n",
       "      <td>0.0</td>\n",
       "      <td>0</td>\n",
       "      <td>0</td>\n",
       "      <td>0</td>\n",
       "      <td>250.0</td>\n",
       "      <td>121.0</td>\n",
       "      <td>81.0</td>\n",
       "      <td>28.73</td>\n",
       "      <td>95.0</td>\n",
       "      <td>76.0</td>\n",
       "      <td>0</td>\n",
       "    </tr>\n",
       "    <tr>\n",
       "      <th>2</th>\n",
       "      <td>1</td>\n",
       "      <td>48</td>\n",
       "      <td>1.0</td>\n",
       "      <td>1</td>\n",
       "      <td>20.0</td>\n",
       "      <td>0.0</td>\n",
       "      <td>0</td>\n",
       "      <td>0</td>\n",
       "      <td>0</td>\n",
       "      <td>245.0</td>\n",
       "      <td>127.5</td>\n",
       "      <td>80.0</td>\n",
       "      <td>25.34</td>\n",
       "      <td>75.0</td>\n",
       "      <td>70.0</td>\n",
       "      <td>0</td>\n",
       "    </tr>\n",
       "    <tr>\n",
       "      <th>3</th>\n",
       "      <td>0</td>\n",
       "      <td>61</td>\n",
       "      <td>3.0</td>\n",
       "      <td>1</td>\n",
       "      <td>30.0</td>\n",
       "      <td>0.0</td>\n",
       "      <td>0</td>\n",
       "      <td>1</td>\n",
       "      <td>0</td>\n",
       "      <td>225.0</td>\n",
       "      <td>150.0</td>\n",
       "      <td>95.0</td>\n",
       "      <td>28.58</td>\n",
       "      <td>65.0</td>\n",
       "      <td>103.0</td>\n",
       "      <td>1</td>\n",
       "    </tr>\n",
       "    <tr>\n",
       "      <th>4</th>\n",
       "      <td>0</td>\n",
       "      <td>46</td>\n",
       "      <td>3.0</td>\n",
       "      <td>1</td>\n",
       "      <td>23.0</td>\n",
       "      <td>0.0</td>\n",
       "      <td>0</td>\n",
       "      <td>0</td>\n",
       "      <td>0</td>\n",
       "      <td>285.0</td>\n",
       "      <td>130.0</td>\n",
       "      <td>84.0</td>\n",
       "      <td>23.10</td>\n",
       "      <td>85.0</td>\n",
       "      <td>85.0</td>\n",
       "      <td>0</td>\n",
       "    </tr>\n",
       "  </tbody>\n",
       "</table>\n",
       "</div>"
      ],
      "text/plain": [
       "   male  age  education  currentSmoker  cigsPerDay  BPMeds  prevalentStroke  \\\n",
       "0     1   39        4.0              0         0.0     0.0                0   \n",
       "1     0   46        2.0              0         0.0     0.0                0   \n",
       "2     1   48        1.0              1        20.0     0.0                0   \n",
       "3     0   61        3.0              1        30.0     0.0                0   \n",
       "4     0   46        3.0              1        23.0     0.0                0   \n",
       "\n",
       "   prevalentHyp  diabetes  totChol  sysBP  diaBP    BMI  heartRate  glucose  \\\n",
       "0             0         0    195.0  106.0   70.0  26.97       80.0     77.0   \n",
       "1             0         0    250.0  121.0   81.0  28.73       95.0     76.0   \n",
       "2             0         0    245.0  127.5   80.0  25.34       75.0     70.0   \n",
       "3             1         0    225.0  150.0   95.0  28.58       65.0    103.0   \n",
       "4             0         0    285.0  130.0   84.0  23.10       85.0     85.0   \n",
       "\n",
       "   CVD  \n",
       "0    0  \n",
       "1    0  \n",
       "2    0  \n",
       "3    1  \n",
       "4    0  "
      ]
     },
     "execution_count": 2,
     "metadata": {},
     "output_type": "execute_result"
    }
   ],
   "source": [
    "h=pd.read_csv('Heart_disease.csv')\n",
    "h.head()"
   ]
  },
  {
   "cell_type": "markdown",
   "metadata": {},
   "source": [
    "### Let's begin with some hands-on practice exercises"
   ]
  },
  {
   "cell_type": "markdown",
   "metadata": {},
   "source": [
    "<a id=\"logreg\"> </a>\n",
    "## 1. Logistic regression model"
   ]
  },
  {
   "cell_type": "markdown",
   "metadata": {},
   "source": [
    "## We shall use the heart disease dataset"
   ]
  },
  {
   "cell_type": "markdown",
   "metadata": {
    "collapsed": true
   },
   "source": [
    "<table align=\"left\">\n",
    "    <tr>\n",
    "        <td width=\"6%\">\n",
    "            <img src=\"question_icon.png\">\n",
    "        </td>\n",
    "        <td>\n",
    "            <div align=\"left\", style=\"font-size:120%\">\n",
    "                <font color=\"#21618C\">\n",
    "                    <b>1. Are all the classes of target variable 'CVD' fairly represented by records in the considered dataset ?</b>\n",
    "                </font>\n",
    "            </div>\n",
    "        </td>\n",
    "    </tr>\n",
    "</table>"
   ]
  },
  {
   "cell_type": "code",
   "execution_count": 5,
   "metadata": {},
   "outputs": [
    {
     "data": {
      "image/png": "[encoded data removed]",
      "text/plain": [
       "<Figure size 640x480 with 1 Axes>"
      ]
     },
     "metadata": {},
     "output_type": "display_data"
    }
   ],
   "source": [
    "sns.countplot(x=h.CVD)\n",
    "plt.show()\n",
    "\n",
    "# As we can observe from the count plot, class 1 in 'CVD' is not fairly represented as it has a count\n",
    "# quite less than the count of the class 0 in the variable. Hence, the data is imbalanced."
   ]
  },
  {
   "cell_type": "markdown",
   "metadata": {
    "collapsed": true
   },
   "source": [
    "<table align=\"left\">\n",
    "    <tr>\n",
    "        <td width=\"6%\">\n",
    "            <img src=\"question_icon.png\">\n",
    "        </td>\n",
    "        <td>\n",
    "            <div align=\"left\", style=\"font-size:120%\">\n",
    "                <font color=\"#21618C\">\n",
    "                    <b>2. Predict whether or not a patient will have cardiovascular disease based on the information about blood pressure of the patient. Columns related to blood pressure are diaBP, sysBP and BPMeds.</b>\n",
    "                </font>\n",
    "            </div>\n",
    "        </td>\n",
    "    </tr>\n",
    "</table>"
   ]
  },
  {
   "cell_type": "code",
   "execution_count": 6,
   "metadata": {},
   "outputs": [
    {
     "data": {
      "text/html": [
       "<div>\n",
       "<style scoped>\n",
       "    .dataframe tbody tr th:only-of-type {\n",
       "        vertical-align: middle;\n",
       "    }\n",
       "\n",
       "    .dataframe tbody tr th {\n",
       "        vertical-align: top;\n",
       "    }\n",
       "\n",
       "    .dataframe thead th {\n",
       "        text-align: right;\n",
       "    }\n",
       "</style>\n",
       "<table border=\"1\" class=\"dataframe\">\n",
       "  <thead>\n",
       "    <tr style=\"text-align: right;\">\n",
       "      <th></th>\n",
       "      <th>Number</th>\n",
       "      <th>Percentage</th>\n",
       "    </tr>\n",
       "  </thead>\n",
       "  <tbody>\n",
       "    <tr>\n",
       "      <th>male</th>\n",
       "      <td>0</td>\n",
       "      <td>0.00</td>\n",
       "    </tr>\n",
       "    <tr>\n",
       "      <th>age</th>\n",
       "      <td>0</td>\n",
       "      <td>0.00</td>\n",
       "    </tr>\n",
       "    <tr>\n",
       "      <th>education</th>\n",
       "      <td>105</td>\n",
       "      <td>2.48</td>\n",
       "    </tr>\n",
       "    <tr>\n",
       "      <th>currentSmoker</th>\n",
       "      <td>0</td>\n",
       "      <td>0.00</td>\n",
       "    </tr>\n",
       "    <tr>\n",
       "      <th>cigsPerDay</th>\n",
       "      <td>29</td>\n",
       "      <td>0.68</td>\n",
       "    </tr>\n",
       "    <tr>\n",
       "      <th>BPMeds</th>\n",
       "      <td>53</td>\n",
       "      <td>1.25</td>\n",
       "    </tr>\n",
       "    <tr>\n",
       "      <th>prevalentStroke</th>\n",
       "      <td>0</td>\n",
       "      <td>0.00</td>\n",
       "    </tr>\n",
       "    <tr>\n",
       "      <th>prevalentHyp</th>\n",
       "      <td>0</td>\n",
       "      <td>0.00</td>\n",
       "    </tr>\n",
       "    <tr>\n",
       "      <th>diabetes</th>\n",
       "      <td>0</td>\n",
       "      <td>0.00</td>\n",
       "    </tr>\n",
       "    <tr>\n",
       "      <th>totChol</th>\n",
       "      <td>50</td>\n",
       "      <td>1.18</td>\n",
       "    </tr>\n",
       "    <tr>\n",
       "      <th>sysBP</th>\n",
       "      <td>0</td>\n",
       "      <td>0.00</td>\n",
       "    </tr>\n",
       "    <tr>\n",
       "      <th>diaBP</th>\n",
       "      <td>0</td>\n",
       "      <td>0.00</td>\n",
       "    </tr>\n",
       "    <tr>\n",
       "      <th>BMI</th>\n",
       "      <td>19</td>\n",
       "      <td>0.45</td>\n",
       "    </tr>\n",
       "    <tr>\n",
       "      <th>heartRate</th>\n",
       "      <td>1</td>\n",
       "      <td>0.02</td>\n",
       "    </tr>\n",
       "    <tr>\n",
       "      <th>glucose</th>\n",
       "      <td>388</td>\n",
       "      <td>9.15</td>\n",
       "    </tr>\n",
       "    <tr>\n",
       "      <th>CVD</th>\n",
       "      <td>0</td>\n",
       "      <td>0.00</td>\n",
       "    </tr>\n",
       "  </tbody>\n",
       "</table>\n",
       "</div>"
      ],
      "text/plain": [
       "                 Number  Percentage\n",
       "male                  0        0.00\n",
       "age                   0        0.00\n",
       "education           105        2.48\n",
       "currentSmoker         0        0.00\n",
       "cigsPerDay           29        0.68\n",
       "BPMeds               53        1.25\n",
       "prevalentStroke       0        0.00\n",
       "prevalentHyp          0        0.00\n",
       "diabetes              0        0.00\n",
       "totChol              50        1.18\n",
       "sysBP                 0        0.00\n",
       "diaBP                 0        0.00\n",
       "BMI                  19        0.45\n",
       "heartRate             1        0.02\n",
       "glucose             388        9.15\n",
       "CVD                   0        0.00"
      ]
     },
     "execution_count": 6,
     "metadata": {},
     "output_type": "execute_result"
    }
   ],
   "source": [
    "pd.DataFrame({'Number':h.isna().sum(),'Percentage':round(h.isna().sum()/len(h)*100,2)})"
   ]
  },
  {
   "cell_type": "code",
   "execution_count": 7,
   "metadata": {},
   "outputs": [
    {
     "data": {
      "image/png": "[encoded data removed]",
      "text/plain": [
       "<Figure size 640x480 with 1 Axes>"
      ]
     },
     "metadata": {},
     "output_type": "display_data"
    }
   ],
   "source": [
    "sns.boxplot(x=h.glucose)\n",
    "plt.show()"
   ]
  },
  {
   "cell_type": "code",
   "execution_count": 8,
   "metadata": {},
   "outputs": [
    {
     "data": {
      "text/plain": [
       "male               0\n",
       "age                0\n",
       "education          0\n",
       "currentSmoker      0\n",
       "cigsPerDay         0\n",
       "BPMeds             0\n",
       "prevalentStroke    0\n",
       "prevalentHyp       0\n",
       "diabetes           0\n",
       "totChol            0\n",
       "sysBP              0\n",
       "diaBP              0\n",
       "BMI                0\n",
       "heartRate          0\n",
       "glucose            0\n",
       "CVD                0\n",
       "dtype: int64"
      ]
     },
     "execution_count": 8,
     "metadata": {},
     "output_type": "execute_result"
    }
   ],
   "source": [
    "h.glucose=h.glucose.fillna(h.glucose.median())\n",
    "h=h[h.notna().all(axis=1)]\n",
    "h.isna().sum()"
   ]
  },
  {
   "cell_type": "code",
   "execution_count": 20,
   "metadata": {},
   "outputs": [
    {
     "data": {
      "text/html": [
       "<div>\n",
       "<style scoped>\n",
       "    .dataframe tbody tr th:only-of-type {\n",
       "        vertical-align: middle;\n",
       "    }\n",
       "\n",
       "    .dataframe tbody tr th {\n",
       "        vertical-align: top;\n",
       "    }\n",
       "\n",
       "    .dataframe thead th {\n",
       "        text-align: right;\n",
       "    }\n",
       "</style>\n",
       "<table border=\"1\" class=\"dataframe\">\n",
       "  <thead>\n",
       "    <tr style=\"text-align: right;\">\n",
       "      <th></th>\n",
       "      <th>Predicted CVD</th>\n",
       "    </tr>\n",
       "  </thead>\n",
       "  <tbody>\n",
       "    <tr>\n",
       "      <th>0</th>\n",
       "      <td>0</td>\n",
       "    </tr>\n",
       "    <tr>\n",
       "      <th>1</th>\n",
       "      <td>0</td>\n",
       "    </tr>\n",
       "    <tr>\n",
       "      <th>2</th>\n",
       "      <td>0</td>\n",
       "    </tr>\n",
       "    <tr>\n",
       "      <th>3</th>\n",
       "      <td>0</td>\n",
       "    </tr>\n",
       "    <tr>\n",
       "      <th>4</th>\n",
       "      <td>0</td>\n",
       "    </tr>\n",
       "  </tbody>\n",
       "</table>\n",
       "</div>"
      ],
      "text/plain": [
       "   Predicted CVD\n",
       "0              0\n",
       "1              0\n",
       "2              0\n",
       "3              0\n",
       "4              0"
      ]
     },
     "execution_count": 20,
     "metadata": {},
     "output_type": "execute_result"
    }
   ],
   "source": [
    "x=h[['diaBP','sysBP','BPMeds']]\n",
    "y=h.CVD\n",
    "xtrain,xtest,ytrain,ytest=train_test_split(x,y,test_size=.2,random_state=1)\n",
    "l_bp=LogisticRegression().fit(xtrain,ytrain)\n",
    "pd.DataFrame({'Predicted CVD':l_bp.predict(xtest)}).head()"
   ]
  },
  {
   "cell_type": "markdown",
   "metadata": {
    "collapsed": true
   },
   "source": [
    "<table align=\"left\">\n",
    "    <tr>\n",
    "        <td width=\"6%\">\n",
    "            <img src=\"question_icon.png\">\n",
    "        </td>\n",
    "        <td>\n",
    "            <div align=\"left\", style=\"font-size:120%\">\n",
    "                <font color=\"#21618C\">\n",
    "                    <b>3. Predict whether or not a patient has cardiovascular disease using the categorical variables in the dataset. How does a unit change in each feature influence the odds of a patient having a cardiocascular disease?</b>\n",
    "                </font>\n",
    "            </div>\n",
    "        </td>\n",
    "    </tr>\n",
    "</table>"
   ]
  },
  {
   "cell_type": "code",
   "execution_count": 21,
   "metadata": {},
   "outputs": [
    {
     "name": "stdout",
     "output_type": "stream",
     "text": [
      "Optimization terminated successfully.\n",
      "         Current function value: 0.400574\n",
      "         Iterations 6\n"
     ]
    },
    {
     "data": {
      "text/html": [
       "<table class=\"simpletable\">\n",
       "<caption>Logit Regression Results</caption>\n",
       "<tr>\n",
       "  <th>Dep. Variable:</th>          <td>CVD</td>       <th>  No. Observations:  </th>  <td>  3191</td>  \n",
       "</tr>\n",
       "<tr>\n",
       "  <th>Model:</th>                 <td>Logit</td>      <th>  Df Residuals:      </th>  <td>  3183</td>  \n",
       "</tr>\n",
       "<tr>\n",
       "  <th>Method:</th>                 <td>MLE</td>       <th>  Df Model:          </th>  <td>     7</td>  \n",
       "</tr>\n",
       "<tr>\n",
       "  <th>Date:</th>            <td>Sun, 26 Mar 2023</td> <th>  Pseudo R-squ.:     </th>  <td>0.05157</td> \n",
       "</tr>\n",
       "<tr>\n",
       "  <th>Time:</th>                <td>11:19:03</td>     <th>  Log-Likelihood:    </th> <td> -1278.2</td> \n",
       "</tr>\n",
       "<tr>\n",
       "  <th>converged:</th>             <td>True</td>       <th>  LL-Null:           </th> <td> -1347.7</td> \n",
       "</tr>\n",
       "<tr>\n",
       "  <th>Covariance Type:</th>     <td>nonrobust</td>    <th>  LLR p-value:       </th> <td>8.206e-27</td>\n",
       "</tr>\n",
       "</table>\n",
       "<table class=\"simpletable\">\n",
       "<tr>\n",
       "         <td></td>            <th>coef</th>     <th>std err</th>      <th>z</th>      <th>P>|z|</th>  <th>[0.025</th>    <th>0.975]</th>  \n",
       "</tr>\n",
       "<tr>\n",
       "  <th>const</th>           <td>   -2.2701</td> <td>    0.141</td> <td>  -16.068</td> <td> 0.000</td> <td>   -2.547</td> <td>   -1.993</td>\n",
       "</tr>\n",
       "<tr>\n",
       "  <th>male</th>            <td>    0.5446</td> <td>    0.105</td> <td>    5.183</td> <td> 0.000</td> <td>    0.339</td> <td>    0.751</td>\n",
       "</tr>\n",
       "<tr>\n",
       "  <th>education</th>       <td>   -0.0975</td> <td>    0.051</td> <td>   -1.915</td> <td> 0.055</td> <td>   -0.197</td> <td>    0.002</td>\n",
       "</tr>\n",
       "<tr>\n",
       "  <th>currentSmoker</th>   <td>    0.1751</td> <td>    0.106</td> <td>    1.659</td> <td> 0.097</td> <td>   -0.032</td> <td>    0.382</td>\n",
       "</tr>\n",
       "<tr>\n",
       "  <th>BPMeds</th>          <td>    0.6828</td> <td>    0.230</td> <td>    2.966</td> <td> 0.003</td> <td>    0.232</td> <td>    1.134</td>\n",
       "</tr>\n",
       "<tr>\n",
       "  <th>prevalentStroke</th> <td>    0.6780</td> <td>    0.502</td> <td>    1.350</td> <td> 0.177</td> <td>   -0.307</td> <td>    1.663</td>\n",
       "</tr>\n",
       "<tr>\n",
       "  <th>prevalentHyp</th>    <td>    0.8098</td> <td>    0.108</td> <td>    7.532</td> <td> 0.000</td> <td>    0.599</td> <td>    1.021</td>\n",
       "</tr>\n",
       "<tr>\n",
       "  <th>diabetes</th>        <td>    0.8759</td> <td>    0.252</td> <td>    3.472</td> <td> 0.001</td> <td>    0.381</td> <td>    1.370</td>\n",
       "</tr>\n",
       "</table>"
      ],
      "text/plain": [
       "<class 'statsmodels.iolib.summary.Summary'>\n",
       "\"\"\"\n",
       "                           Logit Regression Results                           \n",
       "==============================================================================\n",
       "Dep. Variable:                    CVD   No. Observations:                 3191\n",
       "Model:                          Logit   Df Residuals:                     3183\n",
       "Method:                           MLE   Df Model:                            7\n",
       "Date:                Sun, 26 Mar 2023   Pseudo R-squ.:                 0.05157\n",
       "Time:                        11:19:03   Log-Likelihood:                -1278.2\n",
       "converged:                       True   LL-Null:                       -1347.7\n",
       "Covariance Type:            nonrobust   LLR p-value:                 8.206e-27\n",
       "===================================================================================\n",
       "                      coef    std err          z      P>|z|      [0.025      0.975]\n",
       "-----------------------------------------------------------------------------------\n",
       "const              -2.2701      0.141    -16.068      0.000      -2.547      -1.993\n",
       "male                0.5446      0.105      5.183      0.000       0.339       0.751\n",
       "education          -0.0975      0.051     -1.915      0.055      -0.197       0.002\n",
       "currentSmoker       0.1751      0.106      1.659      0.097      -0.032       0.382\n",
       "BPMeds              0.6828      0.230      2.966      0.003       0.232       1.134\n",
       "prevalentStroke     0.6780      0.502      1.350      0.177      -0.307       1.663\n",
       "prevalentHyp        0.8098      0.108      7.532      0.000       0.599       1.021\n",
       "diabetes            0.8759      0.252      3.472      0.001       0.381       1.370\n",
       "===================================================================================\n",
       "\"\"\""
      ]
     },
     "execution_count": 21,
     "metadata": {},
     "output_type": "execute_result"
    }
   ],
   "source": [
    "x=add_constant(h[['male','education','currentSmoker','BPMeds','prevalentStroke','prevalentHyp',\n",
    "                  'diabetes']])\n",
    "y=h.CVD\n",
    "xtrain,xtest,ytrain,ytest=train_test_split(x,y,test_size=.2,random_state=1)\n",
    "lc=Logit(ytrain,xtrain).fit()\n",
    "lc.summary()"
   ]
  },
  {
   "cell_type": "code",
   "execution_count": 22,
   "metadata": {},
   "outputs": [
    {
     "data": {
      "text/html": [
       "<div>\n",
       "<style scoped>\n",
       "    .dataframe tbody tr th:only-of-type {\n",
       "        vertical-align: middle;\n",
       "    }\n",
       "\n",
       "    .dataframe tbody tr th {\n",
       "        vertical-align: top;\n",
       "    }\n",
       "\n",
       "    .dataframe thead th {\n",
       "        text-align: right;\n",
       "    }\n",
       "</style>\n",
       "<table border=\"1\" class=\"dataframe\">\n",
       "  <thead>\n",
       "    <tr style=\"text-align: right;\">\n",
       "      <th></th>\n",
       "      <th>Predicted CVD</th>\n",
       "    </tr>\n",
       "  </thead>\n",
       "  <tbody>\n",
       "    <tr>\n",
       "      <th>0</th>\n",
       "      <td>0</td>\n",
       "    </tr>\n",
       "    <tr>\n",
       "      <th>1</th>\n",
       "      <td>0</td>\n",
       "    </tr>\n",
       "    <tr>\n",
       "      <th>2</th>\n",
       "      <td>0</td>\n",
       "    </tr>\n",
       "    <tr>\n",
       "      <th>3</th>\n",
       "      <td>0</td>\n",
       "    </tr>\n",
       "    <tr>\n",
       "      <th>4</th>\n",
       "      <td>0</td>\n",
       "    </tr>\n",
       "  </tbody>\n",
       "</table>\n",
       "</div>"
      ],
      "text/plain": [
       "   Predicted CVD\n",
       "0              0\n",
       "1              0\n",
       "2              0\n",
       "3              0\n",
       "4              0"
      ]
     },
     "execution_count": 22,
     "metadata": {},
     "output_type": "execute_result"
    }
   ],
   "source": [
    "pd.DataFrame({'Predicted CVD':[0 if i<.5 else 1 for i in lc.predict(xtest)]}).head()"
   ]
  },
  {
   "cell_type": "code",
   "execution_count": 23,
   "metadata": {},
   "outputs": [
    {
     "data": {
      "text/html": [
       "<div>\n",
       "<style scoped>\n",
       "    .dataframe tbody tr th:only-of-type {\n",
       "        vertical-align: middle;\n",
       "    }\n",
       "\n",
       "    .dataframe tbody tr th {\n",
       "        vertical-align: top;\n",
       "    }\n",
       "\n",
       "    .dataframe thead th {\n",
       "        text-align: right;\n",
       "    }\n",
       "</style>\n",
       "<table border=\"1\" class=\"dataframe\">\n",
       "  <thead>\n",
       "    <tr style=\"text-align: right;\">\n",
       "      <th></th>\n",
       "      <th>Change in odds</th>\n",
       "    </tr>\n",
       "  </thead>\n",
       "  <tbody>\n",
       "    <tr>\n",
       "      <th>male</th>\n",
       "      <td>1.723899</td>\n",
       "    </tr>\n",
       "    <tr>\n",
       "      <th>education</th>\n",
       "      <td>0.907138</td>\n",
       "    </tr>\n",
       "    <tr>\n",
       "      <th>currentSmoker</th>\n",
       "      <td>1.191338</td>\n",
       "    </tr>\n",
       "    <tr>\n",
       "      <th>BPMeds</th>\n",
       "      <td>1.979372</td>\n",
       "    </tr>\n",
       "    <tr>\n",
       "      <th>prevalentStroke</th>\n",
       "      <td>1.969881</td>\n",
       "    </tr>\n",
       "    <tr>\n",
       "      <th>prevalentHyp</th>\n",
       "      <td>2.247546</td>\n",
       "    </tr>\n",
       "    <tr>\n",
       "      <th>diabetes</th>\n",
       "      <td>2.400993</td>\n",
       "    </tr>\n",
       "  </tbody>\n",
       "</table>\n",
       "</div>"
      ],
      "text/plain": [
       "                 Change in odds\n",
       "male                   1.723899\n",
       "education              0.907138\n",
       "currentSmoker          1.191338\n",
       "BPMeds                 1.979372\n",
       "prevalentStroke        1.969881\n",
       "prevalentHyp           2.247546\n",
       "diabetes               2.400993"
      ]
     },
     "execution_count": 23,
     "metadata": {},
     "output_type": "execute_result"
    }
   ],
   "source": [
    "pd.DataFrame({'Change in odds':np.exp(lc.params[1:])})"
   ]
  },
  {
   "cell_type": "markdown",
   "metadata": {
    "collapsed": true
   },
   "source": [
    "<table align=\"left\">\n",
    "    <tr>\n",
    "        <td width=\"6%\">\n",
    "            <img src=\"question_icon.png\">\n",
    "        </td>\n",
    "        <td>\n",
    "            <div align=\"left\", style=\"font-size:120%\">\n",
    "                <font color=\"#21618C\">\n",
    "                    <b>4. Predit if a patient has cardiovascular disease based on whether or not the patient has history of hypertension. Calculate the odds ratio.</b>\n",
    "                </font>\n",
    "            </div>\n",
    "        </td>\n",
    "    </tr>\n",
    "</table>"
   ]
  },
  {
   "cell_type": "code",
   "execution_count": 24,
   "metadata": {},
   "outputs": [
    {
     "name": "stdout",
     "output_type": "stream",
     "text": [
      "Optimization terminated successfully.\n",
      "         Current function value: 0.409951\n",
      "         Iterations 6\n"
     ]
    },
    {
     "data": {
      "text/html": [
       "<table class=\"simpletable\">\n",
       "<caption>Logit Regression Results</caption>\n",
       "<tr>\n",
       "  <th>Dep. Variable:</th>          <td>CVD</td>       <th>  No. Observations:  </th>  <td>  3191</td>  \n",
       "</tr>\n",
       "<tr>\n",
       "  <th>Model:</th>                 <td>Logit</td>      <th>  Df Residuals:      </th>  <td>  3189</td>  \n",
       "</tr>\n",
       "<tr>\n",
       "  <th>Method:</th>                 <td>MLE</td>       <th>  Df Model:          </th>  <td>     1</td>  \n",
       "</tr>\n",
       "<tr>\n",
       "  <th>Date:</th>            <td>Sun, 26 Mar 2023</td> <th>  Pseudo R-squ.:     </th>  <td>0.02937</td> \n",
       "</tr>\n",
       "<tr>\n",
       "  <th>Time:</th>                <td>11:27:43</td>     <th>  Log-Likelihood:    </th> <td> -1308.2</td> \n",
       "</tr>\n",
       "<tr>\n",
       "  <th>converged:</th>             <td>True</td>       <th>  LL-Null:           </th> <td> -1347.7</td> \n",
       "</tr>\n",
       "<tr>\n",
       "  <th>Covariance Type:</th>     <td>nonrobust</td>    <th>  LLR p-value:       </th> <td>5.717e-19</td>\n",
       "</tr>\n",
       "</table>\n",
       "<table class=\"simpletable\">\n",
       "<tr>\n",
       "        <td></td>          <th>coef</th>     <th>std err</th>      <th>z</th>      <th>P>|z|</th>  <th>[0.025</th>    <th>0.975]</th>  \n",
       "</tr>\n",
       "<tr>\n",
       "  <th>const</th>        <td>   -2.0800</td> <td>    0.068</td> <td>  -30.695</td> <td> 0.000</td> <td>   -2.213</td> <td>   -1.947</td>\n",
       "</tr>\n",
       "<tr>\n",
       "  <th>prevalentHyp</th> <td>    0.9083</td> <td>    0.101</td> <td>    8.987</td> <td> 0.000</td> <td>    0.710</td> <td>    1.106</td>\n",
       "</tr>\n",
       "</table>"
      ],
      "text/plain": [
       "<class 'statsmodels.iolib.summary.Summary'>\n",
       "\"\"\"\n",
       "                           Logit Regression Results                           \n",
       "==============================================================================\n",
       "Dep. Variable:                    CVD   No. Observations:                 3191\n",
       "Model:                          Logit   Df Residuals:                     3189\n",
       "Method:                           MLE   Df Model:                            1\n",
       "Date:                Sun, 26 Mar 2023   Pseudo R-squ.:                 0.02937\n",
       "Time:                        11:27:43   Log-Likelihood:                -1308.2\n",
       "converged:                       True   LL-Null:                       -1347.7\n",
       "Covariance Type:            nonrobust   LLR p-value:                 5.717e-19\n",
       "================================================================================\n",
       "                   coef    std err          z      P>|z|      [0.025      0.975]\n",
       "--------------------------------------------------------------------------------\n",
       "const           -2.0800      0.068    -30.695      0.000      -2.213      -1.947\n",
       "prevalentHyp     0.9083      0.101      8.987      0.000       0.710       1.106\n",
       "================================================================================\n",
       "\"\"\""
      ]
     },
     "execution_count": 24,
     "metadata": {},
     "output_type": "execute_result"
    }
   ],
   "source": [
    "x=add_constant(h['prevalentHyp'])\n",
    "y=h.CVD\n",
    "xtrain,xtest,ytrain,ytest=train_test_split(x,y,test_size=.2,random_state=1)\n",
    "lh=Logit(ytrain,xtrain).fit()\n",
    "lh.summary()"
   ]
  },
  {
   "cell_type": "code",
   "execution_count": 25,
   "metadata": {},
   "outputs": [
    {
     "data": {
      "text/html": [
       "<div>\n",
       "<style scoped>\n",
       "    .dataframe tbody tr th:only-of-type {\n",
       "        vertical-align: middle;\n",
       "    }\n",
       "\n",
       "    .dataframe tbody tr th {\n",
       "        vertical-align: top;\n",
       "    }\n",
       "\n",
       "    .dataframe thead th {\n",
       "        text-align: right;\n",
       "    }\n",
       "</style>\n",
       "<table border=\"1\" class=\"dataframe\">\n",
       "  <thead>\n",
       "    <tr style=\"text-align: right;\">\n",
       "      <th></th>\n",
       "      <th>Predicted CVD</th>\n",
       "    </tr>\n",
       "  </thead>\n",
       "  <tbody>\n",
       "    <tr>\n",
       "      <th>0</th>\n",
       "      <td>0</td>\n",
       "    </tr>\n",
       "    <tr>\n",
       "      <th>1</th>\n",
       "      <td>0</td>\n",
       "    </tr>\n",
       "    <tr>\n",
       "      <th>2</th>\n",
       "      <td>0</td>\n",
       "    </tr>\n",
       "    <tr>\n",
       "      <th>3</th>\n",
       "      <td>0</td>\n",
       "    </tr>\n",
       "    <tr>\n",
       "      <th>4</th>\n",
       "      <td>0</td>\n",
       "    </tr>\n",
       "  </tbody>\n",
       "</table>\n",
       "</div>"
      ],
      "text/plain": [
       "   Predicted CVD\n",
       "0              0\n",
       "1              0\n",
       "2              0\n",
       "3              0\n",
       "4              0"
      ]
     },
     "execution_count": 25,
     "metadata": {},
     "output_type": "execute_result"
    }
   ],
   "source": [
    "pd.DataFrame({'Predicted CVD':[0 if i<.5 else 1 for i in lh.predict(xtest)]}).head()"
   ]
  },
  {
   "cell_type": "code",
   "execution_count": 26,
   "metadata": {},
   "outputs": [
    {
     "name": "stdout",
     "output_type": "stream",
     "text": [
      "Odds ratio = 6.150340773047484\n"
     ]
    }
   ],
   "source": [
    "print('Odds ratio =',np.exp(lh.params)[1]/(1/np.exp(lh.params)[1]))"
   ]
  },
  {
   "cell_type": "markdown",
   "metadata": {},
   "source": [
    "<a id=\"mod_eval\"> </a>\n",
    "## 2. Model Evaluation Metrics"
   ]
  },
  {
   "cell_type": "markdown",
   "metadata": {
    "collapsed": true
   },
   "source": [
    "<table align=\"left\">\n",
    "    <tr>\n",
    "        <td width=\"6%\">\n",
    "            <img src=\"question_icon.png\">\n",
    "        </td>\n",
    "        <td>\n",
    "            <div align=\"left\", style=\"font-size:120%\">\n",
    "                <font color=\"#21618C\">\n",
    "                    <b>5. Build a full model to predict if a patient will have a cardiovascular disease. Find the value of Mcfadden's R<sup>2</sup>.\n",
    "                </font>\n",
    "            </div>\n",
    "        </td>\n",
    "    </tr>\n",
    "</table>"
   ]
  },
  {
   "cell_type": "code",
   "execution_count": 29,
   "metadata": {},
   "outputs": [
    {
     "name": "stdout",
     "output_type": "stream",
     "text": [
      "Optimization terminated successfully.\n",
      "         Current function value: 0.374956\n",
      "         Iterations 7\n"
     ]
    },
    {
     "data": {
      "text/html": [
       "<table class=\"simpletable\">\n",
       "<caption>Logit Regression Results</caption>\n",
       "<tr>\n",
       "  <th>Dep. Variable:</th>          <td>CVD</td>       <th>  No. Observations:  </th>  <td>  3191</td>  \n",
       "</tr>\n",
       "<tr>\n",
       "  <th>Model:</th>                 <td>Logit</td>      <th>  Df Residuals:      </th>  <td>  3175</td>  \n",
       "</tr>\n",
       "<tr>\n",
       "  <th>Method:</th>                 <td>MLE</td>       <th>  Df Model:          </th>  <td>    15</td>  \n",
       "</tr>\n",
       "<tr>\n",
       "  <th>Date:</th>            <td>Sun, 26 Mar 2023</td> <th>  Pseudo R-squ.:     </th>  <td>0.1122</td>  \n",
       "</tr>\n",
       "<tr>\n",
       "  <th>Time:</th>                <td>11:51:04</td>     <th>  Log-Likelihood:    </th> <td> -1196.5</td> \n",
       "</tr>\n",
       "<tr>\n",
       "  <th>converged:</th>             <td>True</td>       <th>  LL-Null:           </th> <td> -1347.7</td> \n",
       "</tr>\n",
       "<tr>\n",
       "  <th>Covariance Type:</th>     <td>nonrobust</td>    <th>  LLR p-value:       </th> <td>1.687e-55</td>\n",
       "</tr>\n",
       "</table>\n",
       "<table class=\"simpletable\">\n",
       "<tr>\n",
       "         <td></td>            <th>coef</th>     <th>std err</th>      <th>z</th>      <th>P>|z|</th>  <th>[0.025</th>    <th>0.975]</th>  \n",
       "</tr>\n",
       "<tr>\n",
       "  <th>const</th>           <td>   -8.2215</td> <td>    0.774</td> <td>  -10.621</td> <td> 0.000</td> <td>   -9.739</td> <td>   -6.704</td>\n",
       "</tr>\n",
       "<tr>\n",
       "  <th>male</th>            <td>    0.5295</td> <td>    0.117</td> <td>    4.520</td> <td> 0.000</td> <td>    0.300</td> <td>    0.759</td>\n",
       "</tr>\n",
       "<tr>\n",
       "  <th>age</th>             <td>    0.0643</td> <td>    0.007</td> <td>    8.885</td> <td> 0.000</td> <td>    0.050</td> <td>    0.079</td>\n",
       "</tr>\n",
       "<tr>\n",
       "  <th>education</th>       <td>   -0.0040</td> <td>    0.052</td> <td>   -0.077</td> <td> 0.939</td> <td>   -0.107</td> <td>    0.099</td>\n",
       "</tr>\n",
       "<tr>\n",
       "  <th>currentSmoker</th>   <td>    0.1109</td> <td>    0.167</td> <td>    0.666</td> <td> 0.506</td> <td>   -0.216</td> <td>    0.438</td>\n",
       "</tr>\n",
       "<tr>\n",
       "  <th>cigsPerDay</th>      <td>    0.0191</td> <td>    0.007</td> <td>    2.854</td> <td> 0.004</td> <td>    0.006</td> <td>    0.032</td>\n",
       "</tr>\n",
       "<tr>\n",
       "  <th>BPMeds</th>          <td>    0.3276</td> <td>    0.244</td> <td>    1.340</td> <td> 0.180</td> <td>   -0.152</td> <td>    0.807</td>\n",
       "</tr>\n",
       "<tr>\n",
       "  <th>prevalentStroke</th> <td>    0.7218</td> <td>    0.524</td> <td>    1.377</td> <td> 0.168</td> <td>   -0.306</td> <td>    1.749</td>\n",
       "</tr>\n",
       "<tr>\n",
       "  <th>prevalentHyp</th>    <td>    0.1181</td> <td>    0.150</td> <td>    0.786</td> <td> 0.432</td> <td>   -0.176</td> <td>    0.413</td>\n",
       "</tr>\n",
       "<tr>\n",
       "  <th>diabetes</th>        <td>    0.0047</td> <td>    0.358</td> <td>    0.013</td> <td> 0.989</td> <td>   -0.697</td> <td>    0.706</td>\n",
       "</tr>\n",
       "<tr>\n",
       "  <th>totChol</th>         <td>    0.0022</td> <td>    0.001</td> <td>    1.781</td> <td> 0.075</td> <td>   -0.000</td> <td>    0.005</td>\n",
       "</tr>\n",
       "<tr>\n",
       "  <th>sysBP</th>           <td>    0.0154</td> <td>    0.004</td> <td>    3.710</td> <td> 0.000</td> <td>    0.007</td> <td>    0.024</td>\n",
       "</tr>\n",
       "<tr>\n",
       "  <th>diaBP</th>           <td>   -0.0018</td> <td>    0.007</td> <td>   -0.259</td> <td> 0.796</td> <td>   -0.016</td> <td>    0.012</td>\n",
       "</tr>\n",
       "<tr>\n",
       "  <th>BMI</th>             <td>   -0.0042</td> <td>    0.014</td> <td>   -0.307</td> <td> 0.759</td> <td>   -0.031</td> <td>    0.023</td>\n",
       "</tr>\n",
       "<tr>\n",
       "  <th>heartRate</th>       <td>   -0.0039</td> <td>    0.005</td> <td>   -0.856</td> <td> 0.392</td> <td>   -0.013</td> <td>    0.005</td>\n",
       "</tr>\n",
       "<tr>\n",
       "  <th>glucose</th>         <td>    0.0067</td> <td>    0.002</td> <td>    2.768</td> <td> 0.006</td> <td>    0.002</td> <td>    0.011</td>\n",
       "</tr>\n",
       "</table>"
      ],
      "text/plain": [
       "<class 'statsmodels.iolib.summary.Summary'>\n",
       "\"\"\"\n",
       "                           Logit Regression Results                           \n",
       "==============================================================================\n",
       "Dep. Variable:                    CVD   No. Observations:                 3191\n",
       "Model:                          Logit   Df Residuals:                     3175\n",
       "Method:                           MLE   Df Model:                           15\n",
       "Date:                Sun, 26 Mar 2023   Pseudo R-squ.:                  0.1122\n",
       "Time:                        11:51:04   Log-Likelihood:                -1196.5\n",
       "converged:                       True   LL-Null:                       -1347.7\n",
       "Covariance Type:            nonrobust   LLR p-value:                 1.687e-55\n",
       "===================================================================================\n",
       "                      coef    std err          z      P>|z|      [0.025      0.975]\n",
       "-----------------------------------------------------------------------------------\n",
       "const              -8.2215      0.774    -10.621      0.000      -9.739      -6.704\n",
       "male                0.5295      0.117      4.520      0.000       0.300       0.759\n",
       "age                 0.0643      0.007      8.885      0.000       0.050       0.079\n",
       "education          -0.0040      0.052     -0.077      0.939      -0.107       0.099\n",
       "currentSmoker       0.1109      0.167      0.666      0.506      -0.216       0.438\n",
       "cigsPerDay          0.0191      0.007      2.854      0.004       0.006       0.032\n",
       "BPMeds              0.3276      0.244      1.340      0.180      -0.152       0.807\n",
       "prevalentStroke     0.7218      0.524      1.377      0.168      -0.306       1.749\n",
       "prevalentHyp        0.1181      0.150      0.786      0.432      -0.176       0.413\n",
       "diabetes            0.0047      0.358      0.013      0.989      -0.697       0.706\n",
       "totChol             0.0022      0.001      1.781      0.075      -0.000       0.005\n",
       "sysBP               0.0154      0.004      3.710      0.000       0.007       0.024\n",
       "diaBP              -0.0018      0.007     -0.259      0.796      -0.016       0.012\n",
       "BMI                -0.0042      0.014     -0.307      0.759      -0.031       0.023\n",
       "heartRate          -0.0039      0.005     -0.856      0.392      -0.013       0.005\n",
       "glucose             0.0067      0.002      2.768      0.006       0.002       0.011\n",
       "===================================================================================\n",
       "\"\"\""
      ]
     },
     "execution_count": 29,
     "metadata": {},
     "output_type": "execute_result"
    }
   ],
   "source": [
    "x=add_constant(h.drop('CVD',axis=1))\n",
    "y=h.CVD\n",
    "xtrain,xtest,ytrain,ytest=train_test_split(x,y,test_size=.2,random_state=1)\n",
    "lf=Logit(ytrain,xtrain).fit()\n",
    "lf.summary()"
   ]
  },
  {
   "cell_type": "code",
   "execution_count": 30,
   "metadata": {},
   "outputs": [
    {
     "name": "stdout",
     "output_type": "stream",
     "text": [
      "McFadden's R2 = 0.1122262467257189\n"
     ]
    }
   ],
   "source": [
    "print(\"McFadden's R2 =\",lf.prsquared)"
   ]
  },
  {
   "cell_type": "markdown",
   "metadata": {
    "collapsed": true
   },
   "source": [
    "<table align=\"left\">\n",
    "    <tr>\n",
    "        <td width=\"6%\">\n",
    "            <img src=\"question_icon.png\">\n",
    "        </td>\n",
    "        <td>\n",
    "            <div align=\"left\", style=\"font-size:120%\">\n",
    "                <font color=\"#21618C\">\n",
    "                    <b>6. Find the significant variables in the full model when all the variables are considered in prediction of whether or not a patient has cardiovascular disease.\n",
    "                    </b>\n",
    "                </font>\n",
    "            </div>\n",
    "        </td>\n",
    "    </tr>\n",
    "</table>"
   ]
  },
  {
   "cell_type": "code",
   "execution_count": 33,
   "metadata": {},
   "outputs": [
    {
     "data": {
      "text/plain": [
       "male          6.192205e-06\n",
       "age           6.376674e-19\n",
       "cigsPerDay    4.318018e-03\n",
       "sysBP         2.073556e-04\n",
       "glucose       5.635781e-03\n",
       "dtype: float64"
      ]
     },
     "execution_count": 33,
     "metadata": {},
     "output_type": "execute_result"
    }
   ],
   "source": [
    "lf.pvalues[lf.pvalues<.05][1:]"
   ]
  },
  {
   "cell_type": "markdown",
   "metadata": {
    "collapsed": true
   },
   "source": [
    "<table align=\"left\">\n",
    "    <tr>\n",
    "        <td width=\"6%\">\n",
    "            <img src=\"question_icon.png\">\n",
    "        </td>\n",
    "        <td>\n",
    "            <div align=\"left\", style=\"font-size:120%\">\n",
    "                <font color=\"#21618C\">\n",
    "                    <b>7. How do the coefficients of each feature form the dataset impact the odds of a patient having a cardiovascular disease?\n",
    "                    </b>\n",
    "                </font>\n",
    "            </div>\n",
    "        </td>\n",
    "    </tr>\n",
    "</table>"
   ]
  },
  {
   "cell_type": "code",
   "execution_count": 35,
   "metadata": {},
   "outputs": [
    {
     "data": {
      "text/plain": [
       "male               1.698069\n",
       "age                1.066456\n",
       "education          0.995961\n",
       "currentSmoker      1.117320\n",
       "cigsPerDay         1.019279\n",
       "BPMeds             1.387665\n",
       "prevalentStroke    2.058085\n",
       "prevalentHyp       1.125361\n",
       "diabetes           1.004725\n",
       "totChol            1.002165\n",
       "sysBP              1.015529\n",
       "diaBP              0.998162\n",
       "BMI                0.995784\n",
       "heartRate          0.996113\n",
       "glucose            1.006731\n",
       "dtype: float64"
      ]
     },
     "execution_count": 35,
     "metadata": {},
     "output_type": "execute_result"
    }
   ],
   "source": [
    "np.exp(lf.params[1:])"
   ]
  },
  {
   "cell_type": "markdown",
   "metadata": {},
   "source": [
    "<a id=\"perf_eval\"> </a>\n",
    "## 3. Performance evaluation metrics"
   ]
  },
  {
   "cell_type": "markdown",
   "metadata": {
    "collapsed": true
   },
   "source": [
    "<table align=\"left\">\n",
    "    <tr>\n",
    "        <td width=\"6%\">\n",
    "            <img src=\"question_icon.png\">\n",
    "        </td>\n",
    "        <td>\n",
    "            <div align=\"left\", style=\"font-size:120%\">\n",
    "                <font color=\"#21618C\">\n",
    "                        <b>8. For the full model, calculate the accuracy manually using the confusion matrix. Consider 0.5 as the probability threshold.</b>\n",
    "                </font>\n",
    "            </div>\n",
    "        </td>\n",
    "    </tr>\n",
    "</table>"
   ]
  },
  {
   "cell_type": "code",
   "execution_count": 40,
   "metadata": {},
   "outputs": [
    {
     "data": {
      "text/plain": [
       "array([[678,   3],\n",
       "       [111,   6]], dtype=int64)"
      ]
     },
     "execution_count": 40,
     "metadata": {},
     "output_type": "execute_result"
    }
   ],
   "source": [
    "x=add_constant(h.drop('CVD',axis=1))\n",
    "y=h.CVD\n",
    "xtrain,xtest,ytrain,ytest=train_test_split(x,y,test_size=.2,random_state=1)\n",
    "p=[0 if i<.5 else 1 for i in lf.predict(xtest)]\n",
    "confusion_matrix(ytest,p)"
   ]
  },
  {
   "cell_type": "code",
   "execution_count": 42,
   "metadata": {},
   "outputs": [
    {
     "name": "stdout",
     "output_type": "stream",
     "text": [
      "Accuracy = 0.8571428571428571\n"
     ]
    }
   ],
   "source": [
    "print('Accuracy =',(678+6)/len(xtest))"
   ]
  },
  {
   "cell_type": "markdown",
   "metadata": {
    "collapsed": true
   },
   "source": [
    "<table align=\"left\">\n",
    "    <tr>\n",
    "        <td width=\"6%\">\n",
    "            <img src=\"question_icon.png\">\n",
    "        </td>\n",
    "        <td>\n",
    "            <div align=\"left\", style=\"font-size:120%\">\n",
    "                <font color=\"#21618C\">\n",
    "                    <b>9.  Calculate value of kappa for the full model built in question 5. Consider threshold value as 0.18</b>\n",
    "                </font>\n",
    "            </div>\n",
    "        </td>\n",
    "    </tr>\n",
    "</table>"
   ]
  },
  {
   "cell_type": "code",
   "execution_count": 43,
   "metadata": {},
   "outputs": [
    {
     "data": {
      "text/plain": [
       "0.2561481441836816"
      ]
     },
     "execution_count": 43,
     "metadata": {},
     "output_type": "execute_result"
    }
   ],
   "source": [
    "x=add_constant(h.drop('CVD',axis=1))\n",
    "y=h.CVD\n",
    "xtrain,xtest,ytrain,ytest=train_test_split(x,y,test_size=.2,random_state=1)\n",
    "p=[0 if i<.18 else 1 for i in lf.predict(xtest)]\n",
    "cohen_kappa_score(ytest,p)"
   ]
  },
  {
   "cell_type": "markdown",
   "metadata": {
    "collapsed": true
   },
   "source": [
    "<table align=\"left\">\n",
    "    <tr>\n",
    "        <td width=\"6%\">\n",
    "            <img src=\"question_icon.png\">\n",
    "        </td>\n",
    "        <td>\n",
    "            <div align=\"left\", style=\"font-size:120%\">\n",
    "                <font color=\"#21618C\">\n",
    "                    <b>10. Identify the features from the dataset that are involved in multicollinearity. After that, split the updated data using train_test_split.</b>\n",
    "                </font>\n",
    "            </div>\n",
    "        </td>\n",
    "    </tr>\n",
    "</table>"
   ]
  },
  {
   "cell_type": "code",
   "execution_count": 49,
   "metadata": {},
   "outputs": [
    {
     "name": "stdout",
     "output_type": "stream",
     "text": [
      "Multicollinear features:\n"
     ]
    },
    {
     "data": {
      "text/plain": [
       "age           40.938998\n",
       "totChol       32.179476\n",
       "sysBP        137.897625\n",
       "diaBP        136.906815\n",
       "BMI           45.135330\n",
       "heartRate     38.244347\n",
       "glucose       20.802548\n",
       "dtype: float64"
      ]
     },
     "execution_count": 49,
     "metadata": {},
     "output_type": "execute_result"
    }
   ],
   "source": [
    "x=h.drop('CVD',axis=1)\n",
    "v=pd.Series(index=x.columns,dtype=float)\n",
    "for i in range(x.shape[1]):\n",
    "    v[i]=variance_inflation_factor(x,i)\n",
    "print('Multicollinear features:')\n",
    "v[v>5]"
   ]
  },
  {
   "cell_type": "code",
   "execution_count": 50,
   "metadata": {},
   "outputs": [
    {
     "name": "stdout",
     "output_type": "stream",
     "text": [
      "(3191, 8) (798, 8) (3191,) (798,)\n"
     ]
    }
   ],
   "source": [
    "x=h.drop(['CVD','age','totChol','sysBP','diaBP','BMI','heartRate','glucose'],axis=1)\n",
    "y=h.CVD\n",
    "xtrain,xtest,ytrain,ytest=train_test_split(x,y,test_size=.2,random_state=1)\n",
    "print(xtrain.shape,xtest.shape,ytrain.shape,ytest.shape)"
   ]
  },
  {
   "cell_type": "markdown",
   "metadata": {
    "collapsed": true
   },
   "source": [
    "<table align=\"left\">\n",
    "    <tr>\n",
    "        <td width=\"6%\">\n",
    "            <img src=\"question_icon.png\">\n",
    "        </td>\n",
    "        <td>\n",
    "            <div align=\"left\", style=\"font-size:120%\">\n",
    "                <font color=\"#21618C\">\n",
    "                    <b>11. Use the data obtained from Q10 and identify 5 features that contribute most in the prediction of target variable.<br></b>\n",
    "                </font>\n",
    "            </div>\n",
    "        </td>\n",
    "    </tr>\n",
    "</table>"
   ]
  },
  {
   "cell_type": "code",
   "execution_count": 56,
   "metadata": {},
   "outputs": [
    {
     "data": {
      "text/plain": [
       "['male', 'BPMeds', 'prevalentStroke', 'prevalentHyp', 'diabetes']"
      ]
     },
     "execution_count": 56,
     "metadata": {},
     "output_type": "execute_result"
    }
   ],
   "source": [
    "list(RFE(LogisticRegression(),n_features_to_select=5).fit(xtrain,ytrain).get_feature_names_out())"
   ]
  },
  {
   "cell_type": "markdown",
   "metadata": {
    "collapsed": true
   },
   "source": [
    "<table align=\"left\">\n",
    "    <tr>\n",
    "        <td width=\"6%\">\n",
    "            <img src=\"question_icon.png\">\n",
    "        </td>\n",
    "        <td>\n",
    "            <div align=\"left\", style=\"font-size:120%\">\n",
    "                <font color=\"#21618C\">\n",
    "                    <b>12. Build a model using the features obtained in question 11. For the model find: \n",
    "                        <ol>                       \n",
    "                         <li>Accuracy</li>\n",
    "                        <li>F<sub>1</sub> score</li>\n",
    "                        </ol>\n",
    "                        </b>\n",
    "                </font>\n",
    "            </div>\n",
    "        </td>\n",
    "    </tr>\n",
    "</table>"
   ]
  },
  {
   "cell_type": "code",
   "execution_count": 69,
   "metadata": {},
   "outputs": [
    {
     "name": "stdout",
     "output_type": "stream",
     "text": [
      "Optimization terminated successfully.\n",
      "         Current function value: 0.401605\n",
      "         Iterations 6\n"
     ]
    },
    {
     "data": {
      "text/html": [
       "<table class=\"simpletable\">\n",
       "<caption>Logit Regression Results</caption>\n",
       "<tr>\n",
       "  <th>Dep. Variable:</th>          <td>CVD</td>       <th>  No. Observations:  </th>  <td>  3191</td>  \n",
       "</tr>\n",
       "<tr>\n",
       "  <th>Model:</th>                 <td>Logit</td>      <th>  Df Residuals:      </th>  <td>  3185</td>  \n",
       "</tr>\n",
       "<tr>\n",
       "  <th>Method:</th>                 <td>MLE</td>       <th>  Df Model:          </th>  <td>     5</td>  \n",
       "</tr>\n",
       "<tr>\n",
       "  <th>Date:</th>            <td>Sun, 26 Mar 2023</td> <th>  Pseudo R-squ.:     </th>  <td>0.04913</td> \n",
       "</tr>\n",
       "<tr>\n",
       "  <th>Time:</th>                <td>13:02:16</td>     <th>  Log-Likelihood:    </th> <td> -1281.5</td> \n",
       "</tr>\n",
       "<tr>\n",
       "  <th>converged:</th>             <td>True</td>       <th>  LL-Null:           </th> <td> -1347.7</td> \n",
       "</tr>\n",
       "<tr>\n",
       "  <th>Covariance Type:</th>     <td>nonrobust</td>    <th>  LLR p-value:       </th> <td>7.268e-27</td>\n",
       "</tr>\n",
       "</table>\n",
       "<table class=\"simpletable\">\n",
       "<tr>\n",
       "         <td></td>            <th>coef</th>     <th>std err</th>      <th>z</th>      <th>P>|z|</th>  <th>[0.025</th>    <th>0.975]</th>  \n",
       "</tr>\n",
       "<tr>\n",
       "  <th>const</th>           <td>   -2.3856</td> <td>    0.088</td> <td>  -27.017</td> <td> 0.000</td> <td>   -2.559</td> <td>   -2.213</td>\n",
       "</tr>\n",
       "<tr>\n",
       "  <th>male</th>            <td>    0.5761</td> <td>    0.102</td> <td>    5.639</td> <td> 0.000</td> <td>    0.376</td> <td>    0.776</td>\n",
       "</tr>\n",
       "<tr>\n",
       "  <th>BPMeds</th>          <td>    0.6681</td> <td>    0.230</td> <td>    2.907</td> <td> 0.004</td> <td>    0.218</td> <td>    1.119</td>\n",
       "</tr>\n",
       "<tr>\n",
       "  <th>prevalentStroke</th> <td>    0.6830</td> <td>    0.502</td> <td>    1.361</td> <td> 0.173</td> <td>   -0.300</td> <td>    1.666</td>\n",
       "</tr>\n",
       "<tr>\n",
       "  <th>prevalentHyp</th>    <td>    0.8114</td> <td>    0.107</td> <td>    7.619</td> <td> 0.000</td> <td>    0.603</td> <td>    1.020</td>\n",
       "</tr>\n",
       "<tr>\n",
       "  <th>diabetes</th>        <td>    0.8698</td> <td>    0.252</td> <td>    3.456</td> <td> 0.001</td> <td>    0.376</td> <td>    1.363</td>\n",
       "</tr>\n",
       "</table>"
      ],
      "text/plain": [
       "<class 'statsmodels.iolib.summary.Summary'>\n",
       "\"\"\"\n",
       "                           Logit Regression Results                           \n",
       "==============================================================================\n",
       "Dep. Variable:                    CVD   No. Observations:                 3191\n",
       "Model:                          Logit   Df Residuals:                     3185\n",
       "Method:                           MLE   Df Model:                            5\n",
       "Date:                Sun, 26 Mar 2023   Pseudo R-squ.:                 0.04913\n",
       "Time:                        13:02:16   Log-Likelihood:                -1281.5\n",
       "converged:                       True   LL-Null:                       -1347.7\n",
       "Covariance Type:            nonrobust   LLR p-value:                 7.268e-27\n",
       "===================================================================================\n",
       "                      coef    std err          z      P>|z|      [0.025      0.975]\n",
       "-----------------------------------------------------------------------------------\n",
       "const              -2.3856      0.088    -27.017      0.000      -2.559      -2.213\n",
       "male                0.5761      0.102      5.639      0.000       0.376       0.776\n",
       "BPMeds              0.6681      0.230      2.907      0.004       0.218       1.119\n",
       "prevalentStroke     0.6830      0.502      1.361      0.173      -0.300       1.666\n",
       "prevalentHyp        0.8114      0.107      7.619      0.000       0.603       1.020\n",
       "diabetes            0.8698      0.252      3.456      0.001       0.376       1.363\n",
       "===================================================================================\n",
       "\"\"\""
      ]
     },
     "execution_count": 69,
     "metadata": {},
     "output_type": "execute_result"
    }
   ],
   "source": [
    "x=add_constant(h[['male','BPMeds','prevalentStroke','prevalentHyp','diabetes']])\n",
    "y=h.CVD\n",
    "xtrain,xtest,ytrain,ytest=train_test_split(x,y,test_size=.2,random_state=1)\n",
    "l5=Logit(ytrain,xtrain).fit()\n",
    "l5.summary()"
   ]
  },
  {
   "cell_type": "code",
   "execution_count": 67,
   "metadata": {},
   "outputs": [
    {
     "name": "stdout",
     "output_type": "stream",
     "text": [
      "Accuracy = 0.8533834586466166 \n",
      "F1 score = 0.0\n"
     ]
    }
   ],
   "source": [
    "p=[0 if i<.5 else 1 for i in l5.predict(xtest)]\n",
    "print('Accuracy =',accuracy_score(ytest,p),'\\nF1 score =',f1_score(ytest,p))"
   ]
  },
  {
   "cell_type": "markdown",
   "metadata": {
    "collapsed": true
   },
   "source": [
    "<table align=\"left\">\n",
    "    <tr>\n",
    "        <td width=\"6%\">\n",
    "            <img src=\"question_icon.png\">\n",
    "        </td>\n",
    "        <td>\n",
    "            <div align=\"left\", style=\"font-size:120%\">\n",
    "                <font color=\"#21618C\">\n",
    "                    <b>13. Compare the full model in question 5 and the model built in question 12 using their ROC curves. </b>\n",
    "                </font>\n",
    "            </div>\n",
    "        </td>\n",
    "    </tr>\n",
    "</table>"
   ]
  },
  {
   "cell_type": "code",
   "execution_count": 71,
   "metadata": {},
   "outputs": [
    {
     "data": {
      "image/png": "[encoded data removed]",
      "text/plain": [
       "<Figure size 640x480 with 1 Axes>"
      ]
     },
     "metadata": {},
     "output_type": "display_data"
    }
   ],
   "source": [
    "xf=add_constant(h.drop('CVD',axis=1))\n",
    "x5=add_constant(h[['male','BPMeds','prevalentStroke','prevalentHyp','diabetes']])\n",
    "y=h.CVD\n",
    "xtrain,xtestf,ytrain,ytestf=train_test_split(xf,y,test_size=.2,random_state=1)\n",
    "xtrain,xtest5,ytrain,ytest5=train_test_split(x5,y,test_size=.2,random_state=1)\n",
    "ff,tf=roc_curve(ytestf,lf.predict(xtestf))[:2]\n",
    "f5,t5=roc_curve(ytest5,l5.predict(xtest5))[:2]\n",
    "plt.xlim(0,1)\n",
    "plt.ylim(0,1)\n",
    "plt.plot(ff,tf,label='Full Model')\n",
    "plt.plot(f5,t5,label='5-feature Model')\n",
    "plt.plot([0,1],'r--')\n",
    "plt.xlabel('False Positive Rate')\n",
    "plt.ylabel('True Positive Rate')\n",
    "plt.legend()\n",
    "plt.show()"
   ]
  },
  {
   "cell_type": "markdown",
   "metadata": {
    "collapsed": true
   },
   "source": [
    "<table align=\"left\">\n",
    "    <tr>\n",
    "        <td width=\"6%\">\n",
    "            <img src=\"question_icon.png\">\n",
    "        </td>\n",
    "        <td>\n",
    "            <div align=\"left\", style=\"font-size:120%\">\n",
    "                <font color=\"#21618C\">\n",
    "                    <b>14. Build a logistic regression model using information about heart rate of the patients. Compute the AUC score.</b>\n",
    "                </font>\n",
    "            </div>\n",
    "        </td>\n",
    "    </tr>\n",
    "</table>"
   ]
  },
  {
   "cell_type": "code",
   "execution_count": 72,
   "metadata": {},
   "outputs": [
    {
     "data": {
      "text/plain": [
       "0.5"
      ]
     },
     "execution_count": 72,
     "metadata": {},
     "output_type": "execute_result"
    }
   ],
   "source": [
    "x=h['heartRate'].values.reshape(-1,1)\n",
    "y=h.CVD\n",
    "xtrain,xtest,ytrain,ytest=train_test_split(x,y,test_size=.2,random_state=1)\n",
    "l_hr=LogisticRegression().fit(xtrain,ytrain)\n",
    "p=l_hr.predict(xtest)\n",
    "roc_auc_score(ytest,p)"
   ]
  },
  {
   "cell_type": "markdown",
   "metadata": {
    "collapsed": true
   },
   "source": [
    "<table align=\"left\">\n",
    "    <tr>\n",
    "        <td width=\"6%\">\n",
    "            <img src=\"question_icon.png\">\n",
    "        </td>\n",
    "        <td>\n",
    "            <div align=\"left\", style=\"font-size:120%\">\n",
    "                <font color=\"#21618C\">\n",
    "                    <b>15. Calculate the cross entropy for the model built in question 14.</b>\n",
    "                </font>\n",
    "            </div>\n",
    "        </td>\n",
    "    </tr>\n",
    "</table>"
   ]
  },
  {
   "cell_type": "code",
   "execution_count": 76,
   "metadata": {},
   "outputs": [
    {
     "data": {
      "text/plain": [
       "4217.11"
      ]
     },
     "execution_count": 76,
     "metadata": {},
     "output_type": "execute_result"
    }
   ],
   "source": [
    "x=h['heartRate'].values.reshape(-1,1)\n",
    "y=h.CVD\n",
    "xtrain,xtest,ytrain,ytest=train_test_split(x,y,test_size=.2,random_state=1)\n",
    "p=l_hr.predict(xtest)\n",
    "round(log_loss(ytest,p,normalize=False),2)"
   ]
  },
  {
   "cell_type": "markdown",
   "metadata": {
    "collapsed": true
   },
   "source": [
    "<table align=\"left\">\n",
    "    <tr>\n",
    "        <td width=\"6%\">\n",
    "            <img src=\"question_icon.png\">\n",
    "        </td>\n",
    "        <td>\n",
    "            <div align=\"left\", style=\"font-size:120%\">\n",
    "                <font color=\"#21618C\">\n",
    "                    <b>16. Compare the model built in question 14 to the full model built in question 5.</b>\n",
    "                </font>\n",
    "            </div>\n",
    "        </td>\n",
    "    </tr>\n",
    "</table>"
   ]
  },
  {
   "cell_type": "code",
   "execution_count": 77,
   "metadata": {},
   "outputs": [
    {
     "name": "stdout",
     "output_type": "stream",
     "text": [
      "Accuracy of heart-rate model = 0.8533834586466166\n",
      "Accuracy of full model = 0.8571428571428571\n"
     ]
    }
   ],
   "source": [
    "x_hr=h['heartRate'].values.reshape(-1,1)\n",
    "xf=add_constant(h.drop('CVD',axis=1))\n",
    "y=h.CVD\n",
    "xtrain,xtest_hr,ytrain,ytest_hr=train_test_split(x_hr,y,test_size=.2,random_state=1)\n",
    "xtrain,xtestf,ytrain,ytestf=train_test_split(xf,y,test_size=.2,random_state=1)\n",
    "p_hr=l_hr.predict(xtest_hr)\n",
    "pf=[0 if i<.5 else 1 for i in lf.predict(xtestf)]\n",
    "print('Accuracy of heart-rate model =',accuracy_score(ytest_hr,p_hr))\n",
    "print('Accuracy of full model =',accuracy_score(ytestf,pf))"
   ]
  },
  {
   "cell_type": "markdown",
   "metadata": {
    "collapsed": true
   },
   "source": [
    "<table align=\"left\">\n",
    "    <tr>\n",
    "        <td width=\"6%\">\n",
    "            <img src=\"question_icon.png\">\n",
    "        </td>\n",
    "        <td>\n",
    "            <div align=\"left\", style=\"font-size:120%\">\n",
    "                <font color=\"#21618C\">\n",
    "                    <b>17. What is the cross entropy for the full model? Use the full model in Q5.</b>\n",
    "                </font>\n",
    "            </div>\n",
    "        </td>\n",
    "    </tr>\n",
    "</table>"
   ]
  },
  {
   "cell_type": "code",
   "execution_count": 82,
   "metadata": {},
   "outputs": [
    {
     "data": {
      "text/plain": [
       "4108.98"
      ]
     },
     "execution_count": 82,
     "metadata": {},
     "output_type": "execute_result"
    }
   ],
   "source": [
    "x=add_constant(h.drop('CVD',axis=1))\n",
    "y=h.CVD\n",
    "xtrain,xtest,ytrain,ytest=train_test_split(x,y,test_size=.2,random_state=1)\n",
    "p=[0 if i<.5 else 1 for i in lf.predict(xtest)]\n",
    "round(log_loss(ytest,p,normalize=False),2)"
   ]
  },
  {
   "cell_type": "markdown",
   "metadata": {
    "collapsed": true
   },
   "source": [
    "<table align=\"left\">\n",
    "    <tr>\n",
    "        <td width=\"6%\">\n",
    "            <img src=\"question_icon.png\">\n",
    "        </td>\n",
    "        <td>\n",
    "            <div align=\"left\", style=\"font-size:120%\">\n",
    "                <font color=\"#21618C\">\n",
    "                    <b>18. Predict whether a patient has cardiovascular disease based on smoking habits of the patient. For the model find the following:<br> <ol type = \"a\">\n",
    "                        <li> Precision </li>\n",
    "                        <li> Recall</li>   \n",
    "                        <li> F<sub>1</sub> score </li>\n",
    "                        </ol>\n",
    "                    </b>\n",
    "                </font>\n",
    "            </div>\n",
    "        </td>\n",
    "    </tr>\n",
    "</table>"
   ]
  },
  {
   "cell_type": "code",
   "execution_count": 83,
   "metadata": {},
   "outputs": [
    {
     "name": "stdout",
     "output_type": "stream",
     "text": [
      "Optimization terminated successfully.\n",
      "         Current function value: 0.420406\n",
      "         Iterations 6\n"
     ]
    },
    {
     "data": {
      "text/html": [
       "<table class=\"simpletable\">\n",
       "<caption>Logit Regression Results</caption>\n",
       "<tr>\n",
       "  <th>Dep. Variable:</th>          <td>CVD</td>       <th>  No. Observations:  </th>  <td>  3191</td> \n",
       "</tr>\n",
       "<tr>\n",
       "  <th>Model:</th>                 <td>Logit</td>      <th>  Df Residuals:      </th>  <td>  3188</td> \n",
       "</tr>\n",
       "<tr>\n",
       "  <th>Method:</th>                 <td>MLE</td>       <th>  Df Model:          </th>  <td>     2</td> \n",
       "</tr>\n",
       "<tr>\n",
       "  <th>Date:</th>            <td>Sun, 26 Mar 2023</td> <th>  Pseudo R-squ.:     </th> <td>0.004616</td>\n",
       "</tr>\n",
       "<tr>\n",
       "  <th>Time:</th>                <td>13:42:00</td>     <th>  Log-Likelihood:    </th> <td> -1341.5</td>\n",
       "</tr>\n",
       "<tr>\n",
       "  <th>converged:</th>             <td>True</td>       <th>  LL-Null:           </th> <td> -1347.7</td>\n",
       "</tr>\n",
       "<tr>\n",
       "  <th>Covariance Type:</th>     <td>nonrobust</td>    <th>  LLR p-value:       </th> <td>0.001987</td>\n",
       "</tr>\n",
       "</table>\n",
       "<table class=\"simpletable\">\n",
       "<tr>\n",
       "        <td></td>           <th>coef</th>     <th>std err</th>      <th>z</th>      <th>P>|z|</th>  <th>[0.025</th>    <th>0.975]</th>  \n",
       "</tr>\n",
       "<tr>\n",
       "  <th>const</th>         <td>   -1.8230</td> <td>    0.072</td> <td>  -25.428</td> <td> 0.000</td> <td>   -1.963</td> <td>   -1.682</td>\n",
       "</tr>\n",
       "<tr>\n",
       "  <th>currentSmoker</th> <td>   -0.1922</td> <td>    0.157</td> <td>   -1.223</td> <td> 0.221</td> <td>   -0.500</td> <td>    0.116</td>\n",
       "</tr>\n",
       "<tr>\n",
       "  <th>cigsPerDay</th>    <td>    0.0191</td> <td>    0.006</td> <td>    3.108</td> <td> 0.002</td> <td>    0.007</td> <td>    0.031</td>\n",
       "</tr>\n",
       "</table>"
      ],
      "text/plain": [
       "<class 'statsmodels.iolib.summary.Summary'>\n",
       "\"\"\"\n",
       "                           Logit Regression Results                           \n",
       "==============================================================================\n",
       "Dep. Variable:                    CVD   No. Observations:                 3191\n",
       "Model:                          Logit   Df Residuals:                     3188\n",
       "Method:                           MLE   Df Model:                            2\n",
       "Date:                Sun, 26 Mar 2023   Pseudo R-squ.:                0.004616\n",
       "Time:                        13:42:00   Log-Likelihood:                -1341.5\n",
       "converged:                       True   LL-Null:                       -1347.7\n",
       "Covariance Type:            nonrobust   LLR p-value:                  0.001987\n",
       "=================================================================================\n",
       "                    coef    std err          z      P>|z|      [0.025      0.975]\n",
       "---------------------------------------------------------------------------------\n",
       "const            -1.8230      0.072    -25.428      0.000      -1.963      -1.682\n",
       "currentSmoker    -0.1922      0.157     -1.223      0.221      -0.500       0.116\n",
       "cigsPerDay        0.0191      0.006      3.108      0.002       0.007       0.031\n",
       "=================================================================================\n",
       "\"\"\""
      ]
     },
     "execution_count": 83,
     "metadata": {},
     "output_type": "execute_result"
    }
   ],
   "source": [
    "x=add_constant(h[['currentSmoker','cigsPerDay']])\n",
    "y=h.CVD\n",
    "xtrain,xtest,ytrain,ytest=train_test_split(x,y,test_size=.2,random_state=1)\n",
    "ls=Logit(ytrain,xtrain).fit()\n",
    "ls.summary()"
   ]
  },
  {
   "cell_type": "code",
   "execution_count": 89,
   "metadata": {},
   "outputs": [
    {
     "name": "stdout",
     "output_type": "stream",
     "text": [
      "Precision = 0.25 \n",
      "Recall = 0.008547008547008548 \n",
      "F1 score = 0.01652892561983471\n"
     ]
    }
   ],
   "source": [
    "p=[0 if i<.25 else 1 for i in ls.predict(xtest)]\n",
    "print('Precision =',precision_score(ytest,p),'\\nRecall =',recall_score(ytest,p),'\\nF1 score =',\n",
    "      f1_score(ytest,p))"
   ]
  },
  {
   "cell_type": "markdown",
   "metadata": {},
   "source": [
    "<a id=\"opt\"> </a>\n",
    "## 4. Determining optimal threshold"
   ]
  },
  {
   "cell_type": "markdown",
   "metadata": {
    "collapsed": true
   },
   "source": [
    "<table align=\"left\">\n",
    "    <tr>\n",
    "        <td width=\"6%\">\n",
    "            <img src=\"question_icon.png\">\n",
    "        </td>\n",
    "        <td>\n",
    "            <div align=\"left\", style=\"font-size:120%\">\n",
    "                <font color=\"#21618C\">\n",
    "                    <b>19. Obtain the optimal value threshold for the full model using the Youden's index.</b>\n",
    "                </font>\n",
    "            </div>\n",
    "        </td>\n",
    "    </tr>\n",
    "</table>"
   ]
  },
  {
   "cell_type": "code",
   "execution_count": 97,
   "metadata": {},
   "outputs": [
    {
     "data": {
      "text/plain": [
       "0.16964451029170274"
      ]
     },
     "execution_count": 97,
     "metadata": {},
     "output_type": "execute_result"
    }
   ],
   "source": [
    "x=add_constant(h.drop('CVD',axis=1))\n",
    "y=h.CVD\n",
    "xtrain,xtest,ytrain,ytest=train_test_split(x,y,test_size=.2,random_state=1)\n",
    "fpr,tpr,th=roc_curve(ytest,lf.predict(xtest))\n",
    "yt=pd.DataFrame({'Threshold':th,'TPR-FPR':tpr-fpr})\n",
    "yt.nlargest(1,'TPR-FPR').Threshold.iloc[0]"
   ]
  },
  {
   "cell_type": "markdown",
   "metadata": {
    "collapsed": true
   },
   "source": [
    "<table align=\"left\">\n",
    "    <tr>\n",
    "        <td width=\"6%\">\n",
    "            <img src=\"question_icon.png\">\n",
    "        </td>\n",
    "        <td>\n",
    "            <div align=\"left\", style=\"font-size:120%\">\n",
    "                <font color=\"#21618C\">\n",
    "                    <b>20. Consider the costs of false negatives and false positives as 3 and 1.3 respectively to obtain the optimal cut-off probability for which the total cost will be minimum.</b>\n",
    "                </font>\n",
    "            </div>\n",
    "        </td>\n",
    "    </tr>\n",
    "</table>"
   ]
  },
  {
   "cell_type": "code",
   "execution_count": 98,
   "metadata": {},
   "outputs": [
    {
     "data": {
      "text/plain": [
       "0.26"
      ]
     },
     "execution_count": 98,
     "metadata": {},
     "output_type": "execute_result"
    }
   ],
   "source": [
    "x=add_constant(h.drop('CVD',axis=1))\n",
    "y=h.CVD\n",
    "xtrain,xtest,ytrain,ytest=train_test_split(x,y,test_size=.2,random_state=1)\n",
    "ct=pd.DataFrame(columns=['Probability','Total Cost'])\n",
    "j=0\n",
    "for i in range(10,100):\n",
    "    c=i/100\n",
    "    cm=confusion_matrix(ytest,[0 if i<c else 1 for i in lf.predict(xtest)])\n",
    "    ct.loc[j]=[c,cm[1,0]*3+cm[0,1]*1.3]\n",
    "    j+=1\n",
    "ct.nsmallest(1,'Total Cost').Probability.iloc[0]"
   ]
  }
 ],
 "metadata": {
  "kernelspec": {
   "display_name": "Python 3 (ipykernel)",
   "language": "python",
   "name": "python3"
  },
  "language_info": {
   "codemirror_mode": {
    "name": "ipython",
    "version": 3
   },
   "file_extension": ".py",
   "mimetype": "text/x-python",
   "name": "python",
   "nbconvert_exporter": "python",
   "pygments_lexer": "ipython3",
   "version": "3.10.9"
  }
 },
 "nbformat": 4,
 "nbformat_minor": 2
}
