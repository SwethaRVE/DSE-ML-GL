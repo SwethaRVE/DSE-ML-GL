{
  "nbformat": 4,
  "nbformat_minor": 0,
  "metadata": {
    "colab": {
      "provenance": []
    },
    "kernelspec": {
      "name": "python3",
      "display_name": "Python 3"
    },
    "language_info": {
      "name": "python"
    }
  },
  "cells": [
    {
      "cell_type": "code",
      "execution_count": 1,
      "metadata": {
        "id": "hzdH9zDOsTq6"
      },
      "outputs": [],
      "source": [
        "import numpy as np\n",
        "import pandas as pd\n",
        "import matplotlib.pyplot as plt\n",
        "import seaborn as sns"
      ]
    },
    {
      "cell_type": "code",
      "source": [
        "plt.rcParams['figure.figsize'] = [15,8]"
      ],
      "metadata": {
        "id": "cANud3qqWl1H"
      },
      "execution_count": 2,
      "outputs": []
    },
    {
      "cell_type": "markdown",
      "source": [
        "**Odds and Odds Ratio**"
      ],
      "metadata": {
        "id": "Q74Al058W3RE"
      }
    },
    {
      "cell_type": "code",
      "source": [
        "# example to display how log odds help to differentiate between the Odds in favour and Odd in against\n",
        "#p=6/10\n",
        "odds_in_favor= 6/4\n",
        "print(\"odds in favour=\",odds_in_favor)\n",
        "\n",
        "print(\"Log of odds\", np.log(odds_in_favor))\n",
        "\n",
        "odds_against= 4/6\n",
        "print(\"odds against =\", odds_against)\n",
        "print(\"Log of odds against\",  np.log(odds_against))\n",
        "\n",
        "# odds are called as likelihoods and log(odds)  log-likelihoods are same in magnitude"
      ],
      "metadata": {
        "colab": {
          "base_uri": "https://localhost:8080/"
        },
        "id": "Ji-g1JtqWlyV",
        "outputId": "eb32b7a8-6150-4e65-8435-d12452aae0e6"
      },
      "execution_count": 3,
      "outputs": [
        {
          "output_type": "stream",
          "name": "stdout",
          "text": [
            "odds in favour= 1.5\n",
            "Log of odds 0.4054651081081644\n",
            "odds against = 0.6666666666666666\n",
            "Log of odds against -0.40546510810816444\n"
          ]
        }
      ]
    },
    {
      "cell_type": "code",
      "source": [],
      "metadata": {
        "id": "PIzt7mTHXvF2"
      },
      "execution_count": 3,
      "outputs": []
    },
    {
      "cell_type": "markdown",
      "source": [
        "**Admission Predict Case Study**"
      ],
      "metadata": {
        "id": "dvbpvs6sdSNv"
      }
    },
    {
      "cell_type": "code",
      "source": [],
      "metadata": {
        "id": "DxUlspsJWldF"
      },
      "execution_count": 3,
      "outputs": []
    },
    {
      "cell_type": "code",
      "source": [
        "import statsmodels.api as sm\n",
        "from matplotlib import pyplot as plt"
      ],
      "metadata": {
        "id": "ZEZQAJpksvRa"
      },
      "execution_count": 4,
      "outputs": []
    },
    {
      "cell_type": "code",
      "source": [
        "df=pd.read_csv(\"Admission_Predict.csv\")\n",
        "df.head()"
      ],
      "metadata": {
        "colab": {
          "base_uri": "https://localhost:8080/",
          "height": 206
        },
        "id": "jSfFRbTUtSib",
        "outputId": "308243db-41fe-44f2-f7a6-a03f382c34f4"
      },
      "execution_count": 5,
      "outputs": [
        {
          "output_type": "execute_result",
          "data": {
            "text/plain": [
              "   Serial No.  GRE Score  TOEFL Score  University Rating  SOP  LOR  CGPA  \\\n",
              "0           1        337          118                  4  4.5  4.5  9.65   \n",
              "1           2        324          107                  4  4.0  4.5  8.87   \n",
              "2           3        316          104                  3  3.0  3.5  8.00   \n",
              "3           4        322          110                  3  3.5  2.5  8.67   \n",
              "4           5        314          103                  2  2.0  3.0  8.21   \n",
              "\n",
              "   Research  Chance of Admit  \n",
              "0         1                1  \n",
              "1         1                1  \n",
              "2         1                0  \n",
              "3         1                1  \n",
              "4         0                0  "
            ],
            "text/html": [
              "\n",
              "  <div id=\"df-270b6b20-26c6-415c-9f77-421b5b4eed21\">\n",
              "    <div class=\"colab-df-container\">\n",
              "      <div>\n",
              "<style scoped>\n",
              "    .dataframe tbody tr th:only-of-type {\n",
              "        vertical-align: middle;\n",
              "    }\n",
              "\n",
              "    .dataframe tbody tr th {\n",
              "        vertical-align: top;\n",
              "    }\n",
              "\n",
              "    .dataframe thead th {\n",
              "        text-align: right;\n",
              "    }\n",
              "</style>\n",
              "<table border=\"1\" class=\"dataframe\">\n",
              "  <thead>\n",
              "    <tr style=\"text-align: right;\">\n",
              "      <th></th>\n",
              "      <th>Serial No.</th>\n",
              "      <th>GRE Score</th>\n",
              "      <th>TOEFL Score</th>\n",
              "      <th>University Rating</th>\n",
              "      <th>SOP</th>\n",
              "      <th>LOR</th>\n",
              "      <th>CGPA</th>\n",
              "      <th>Research</th>\n",
              "      <th>Chance of Admit</th>\n",
              "    </tr>\n",
              "  </thead>\n",
              "  <tbody>\n",
              "    <tr>\n",
              "      <th>0</th>\n",
              "      <td>1</td>\n",
              "      <td>337</td>\n",
              "      <td>118</td>\n",
              "      <td>4</td>\n",
              "      <td>4.5</td>\n",
              "      <td>4.5</td>\n",
              "      <td>9.65</td>\n",
              "      <td>1</td>\n",
              "      <td>1</td>\n",
              "    </tr>\n",
              "    <tr>\n",
              "      <th>1</th>\n",
              "      <td>2</td>\n",
              "      <td>324</td>\n",
              "      <td>107</td>\n",
              "      <td>4</td>\n",
              "      <td>4.0</td>\n",
              "      <td>4.5</td>\n",
              "      <td>8.87</td>\n",
              "      <td>1</td>\n",
              "      <td>1</td>\n",
              "    </tr>\n",
              "    <tr>\n",
              "      <th>2</th>\n",
              "      <td>3</td>\n",
              "      <td>316</td>\n",
              "      <td>104</td>\n",
              "      <td>3</td>\n",
              "      <td>3.0</td>\n",
              "      <td>3.5</td>\n",
              "      <td>8.00</td>\n",
              "      <td>1</td>\n",
              "      <td>0</td>\n",
              "    </tr>\n",
              "    <tr>\n",
              "      <th>3</th>\n",
              "      <td>4</td>\n",
              "      <td>322</td>\n",
              "      <td>110</td>\n",
              "      <td>3</td>\n",
              "      <td>3.5</td>\n",
              "      <td>2.5</td>\n",
              "      <td>8.67</td>\n",
              "      <td>1</td>\n",
              "      <td>1</td>\n",
              "    </tr>\n",
              "    <tr>\n",
              "      <th>4</th>\n",
              "      <td>5</td>\n",
              "      <td>314</td>\n",
              "      <td>103</td>\n",
              "      <td>2</td>\n",
              "      <td>2.0</td>\n",
              "      <td>3.0</td>\n",
              "      <td>8.21</td>\n",
              "      <td>0</td>\n",
              "      <td>0</td>\n",
              "    </tr>\n",
              "  </tbody>\n",
              "</table>\n",
              "</div>\n",
              "      <button class=\"colab-df-convert\" onclick=\"convertToInteractive('df-270b6b20-26c6-415c-9f77-421b5b4eed21')\"\n",
              "              title=\"Convert this dataframe to an interactive table.\"\n",
              "              style=\"display:none;\">\n",
              "        \n",
              "  <svg xmlns=\"http://www.w3.org/2000/svg\" height=\"24px\"viewBox=\"0 0 24 24\"\n",
              "       width=\"24px\">\n",
              "    <path d=\"M0 0h24v24H0V0z\" fill=\"none\"/>\n",
              "    <path d=\"M18.56 5.44l.94 2.06.94-2.06 2.06-.94-2.06-.94-.94-2.06-.94 2.06-2.06.94zm-11 1L8.5 8.5l.94-2.06 2.06-.94-2.06-.94L8.5 2.5l-.94 2.06-2.06.94zm10 10l.94 2.06.94-2.06 2.06-.94-2.06-.94-.94-2.06-.94 2.06-2.06.94z\"/><path d=\"M17.41 7.96l-1.37-1.37c-.4-.4-.92-.59-1.43-.59-.52 0-1.04.2-1.43.59L10.3 9.45l-7.72 7.72c-.78.78-.78 2.05 0 2.83L4 21.41c.39.39.9.59 1.41.59.51 0 1.02-.2 1.41-.59l7.78-7.78 2.81-2.81c.8-.78.8-2.07 0-2.86zM5.41 20L4 18.59l7.72-7.72 1.47 1.35L5.41 20z\"/>\n",
              "  </svg>\n",
              "      </button>\n",
              "      \n",
              "  <style>\n",
              "    .colab-df-container {\n",
              "      display:flex;\n",
              "      flex-wrap:wrap;\n",
              "      gap: 12px;\n",
              "    }\n",
              "\n",
              "    .colab-df-convert {\n",
              "      background-color: #E8F0FE;\n",
              "      border: none;\n",
              "      border-radius: 50%;\n",
              "      cursor: pointer;\n",
              "      display: none;\n",
              "      fill: #1967D2;\n",
              "      height: 32px;\n",
              "      padding: 0 0 0 0;\n",
              "      width: 32px;\n",
              "    }\n",
              "\n",
              "    .colab-df-convert:hover {\n",
              "      background-color: #E2EBFA;\n",
              "      box-shadow: 0px 1px 2px rgba(60, 64, 67, 0.3), 0px 1px 3px 1px rgba(60, 64, 67, 0.15);\n",
              "      fill: #174EA6;\n",
              "    }\n",
              "\n",
              "    [theme=dark] .colab-df-convert {\n",
              "      background-color: #3B4455;\n",
              "      fill: #D2E3FC;\n",
              "    }\n",
              "\n",
              "    [theme=dark] .colab-df-convert:hover {\n",
              "      background-color: #434B5C;\n",
              "      box-shadow: 0px 1px 3px 1px rgba(0, 0, 0, 0.15);\n",
              "      filter: drop-shadow(0px 1px 2px rgba(0, 0, 0, 0.3));\n",
              "      fill: #FFFFFF;\n",
              "    }\n",
              "  </style>\n",
              "\n",
              "      <script>\n",
              "        const buttonEl =\n",
              "          document.querySelector('#df-270b6b20-26c6-415c-9f77-421b5b4eed21 button.colab-df-convert');\n",
              "        buttonEl.style.display =\n",
              "          google.colab.kernel.accessAllowed ? 'block' : 'none';\n",
              "\n",
              "        async function convertToInteractive(key) {\n",
              "          const element = document.querySelector('#df-270b6b20-26c6-415c-9f77-421b5b4eed21');\n",
              "          const dataTable =\n",
              "            await google.colab.kernel.invokeFunction('convertToInteractive',\n",
              "                                                     [key], {});\n",
              "          if (!dataTable) return;\n",
              "\n",
              "          const docLinkHtml = 'Like what you see? Visit the ' +\n",
              "            '<a target=\"_blank\" href=https://colab.research.google.com/notebooks/data_table.ipynb>data table notebook</a>'\n",
              "            + ' to learn more about interactive tables.';\n",
              "          element.innerHTML = '';\n",
              "          dataTable['output_type'] = 'display_data';\n",
              "          await google.colab.output.renderOutput(dataTable, element);\n",
              "          const docLink = document.createElement('div');\n",
              "          docLink.innerHTML = docLinkHtml;\n",
              "          element.appendChild(docLink);\n",
              "        }\n",
              "      </script>\n",
              "    </div>\n",
              "  </div>\n",
              "  "
            ]
          },
          "metadata": {},
          "execution_count": 5
        }
      ]
    },
    {
      "cell_type": "code",
      "source": [
        "df.shape"
      ],
      "metadata": {
        "colab": {
          "base_uri": "https://localhost:8080/"
        },
        "id": "G6b83KxWtmKQ",
        "outputId": "2cd13b32-25ba-4a0b-d1f5-b174df746e8a"
      },
      "execution_count": 6,
      "outputs": [
        {
          "output_type": "execute_result",
          "data": {
            "text/plain": [
              "(400, 9)"
            ]
          },
          "metadata": {},
          "execution_count": 6
        }
      ]
    },
    {
      "cell_type": "code",
      "source": [
        "df.isnull().sum()"
      ],
      "metadata": {
        "colab": {
          "base_uri": "https://localhost:8080/"
        },
        "id": "8BBM2DCttn9I",
        "outputId": "fb86f0fb-e4e6-47e7-a44a-24525eeda806"
      },
      "execution_count": 7,
      "outputs": [
        {
          "output_type": "execute_result",
          "data": {
            "text/plain": [
              "Serial No.           0\n",
              "GRE Score            0\n",
              "TOEFL Score          0\n",
              "University Rating    0\n",
              "SOP                  0\n",
              "LOR                  0\n",
              "CGPA                 0\n",
              "Research             0\n",
              "Chance of Admit      0\n",
              "dtype: int64"
            ]
          },
          "metadata": {},
          "execution_count": 7
        }
      ]
    },
    {
      "cell_type": "code",
      "source": [
        "df.info()"
      ],
      "metadata": {
        "colab": {
          "base_uri": "https://localhost:8080/"
        },
        "id": "WeQ3kH4vuF6o",
        "outputId": "6c6d0f10-b849-4155-e5d3-7314dfaa9b38"
      },
      "execution_count": 8,
      "outputs": [
        {
          "output_type": "stream",
          "name": "stdout",
          "text": [
            "<class 'pandas.core.frame.DataFrame'>\n",
            "RangeIndex: 400 entries, 0 to 399\n",
            "Data columns (total 9 columns):\n",
            " #   Column             Non-Null Count  Dtype  \n",
            "---  ------             --------------  -----  \n",
            " 0   Serial No.         400 non-null    int64  \n",
            " 1   GRE Score          400 non-null    int64  \n",
            " 2   TOEFL Score        400 non-null    int64  \n",
            " 3   University Rating  400 non-null    int64  \n",
            " 4   SOP                400 non-null    float64\n",
            " 5   LOR                400 non-null    float64\n",
            " 6   CGPA               400 non-null    float64\n",
            " 7   Research           400 non-null    int64  \n",
            " 8   Chance of Admit    400 non-null    int64  \n",
            "dtypes: float64(3), int64(6)\n",
            "memory usage: 28.2 KB\n"
          ]
        }
      ]
    },
    {
      "cell_type": "code",
      "source": [
        "df.drop('Serial No.', axis =1, inplace=True)\n",
        "df.head()"
      ],
      "metadata": {
        "colab": {
          "base_uri": "https://localhost:8080/",
          "height": 206
        },
        "id": "Bj1AMAi8uIbg",
        "outputId": "f2402f1f-6448-435e-bb99-ea65df351229"
      },
      "execution_count": 9,
      "outputs": [
        {
          "output_type": "execute_result",
          "data": {
            "text/plain": [
              "   GRE Score  TOEFL Score  University Rating  SOP  LOR  CGPA  Research  \\\n",
              "0        337          118                  4  4.5  4.5  9.65         1   \n",
              "1        324          107                  4  4.0  4.5  8.87         1   \n",
              "2        316          104                  3  3.0  3.5  8.00         1   \n",
              "3        322          110                  3  3.5  2.5  8.67         1   \n",
              "4        314          103                  2  2.0  3.0  8.21         0   \n",
              "\n",
              "   Chance of Admit  \n",
              "0                1  \n",
              "1                1  \n",
              "2                0  \n",
              "3                1  \n",
              "4                0  "
            ],
            "text/html": [
              "\n",
              "  <div id=\"df-ae87db7f-080a-4fc9-a0c0-4e7de0abb5ec\">\n",
              "    <div class=\"colab-df-container\">\n",
              "      <div>\n",
              "<style scoped>\n",
              "    .dataframe tbody tr th:only-of-type {\n",
              "        vertical-align: middle;\n",
              "    }\n",
              "\n",
              "    .dataframe tbody tr th {\n",
              "        vertical-align: top;\n",
              "    }\n",
              "\n",
              "    .dataframe thead th {\n",
              "        text-align: right;\n",
              "    }\n",
              "</style>\n",
              "<table border=\"1\" class=\"dataframe\">\n",
              "  <thead>\n",
              "    <tr style=\"text-align: right;\">\n",
              "      <th></th>\n",
              "      <th>GRE Score</th>\n",
              "      <th>TOEFL Score</th>\n",
              "      <th>University Rating</th>\n",
              "      <th>SOP</th>\n",
              "      <th>LOR</th>\n",
              "      <th>CGPA</th>\n",
              "      <th>Research</th>\n",
              "      <th>Chance of Admit</th>\n",
              "    </tr>\n",
              "  </thead>\n",
              "  <tbody>\n",
              "    <tr>\n",
              "      <th>0</th>\n",
              "      <td>337</td>\n",
              "      <td>118</td>\n",
              "      <td>4</td>\n",
              "      <td>4.5</td>\n",
              "      <td>4.5</td>\n",
              "      <td>9.65</td>\n",
              "      <td>1</td>\n",
              "      <td>1</td>\n",
              "    </tr>\n",
              "    <tr>\n",
              "      <th>1</th>\n",
              "      <td>324</td>\n",
              "      <td>107</td>\n",
              "      <td>4</td>\n",
              "      <td>4.0</td>\n",
              "      <td>4.5</td>\n",
              "      <td>8.87</td>\n",
              "      <td>1</td>\n",
              "      <td>1</td>\n",
              "    </tr>\n",
              "    <tr>\n",
              "      <th>2</th>\n",
              "      <td>316</td>\n",
              "      <td>104</td>\n",
              "      <td>3</td>\n",
              "      <td>3.0</td>\n",
              "      <td>3.5</td>\n",
              "      <td>8.00</td>\n",
              "      <td>1</td>\n",
              "      <td>0</td>\n",
              "    </tr>\n",
              "    <tr>\n",
              "      <th>3</th>\n",
              "      <td>322</td>\n",
              "      <td>110</td>\n",
              "      <td>3</td>\n",
              "      <td>3.5</td>\n",
              "      <td>2.5</td>\n",
              "      <td>8.67</td>\n",
              "      <td>1</td>\n",
              "      <td>1</td>\n",
              "    </tr>\n",
              "    <tr>\n",
              "      <th>4</th>\n",
              "      <td>314</td>\n",
              "      <td>103</td>\n",
              "      <td>2</td>\n",
              "      <td>2.0</td>\n",
              "      <td>3.0</td>\n",
              "      <td>8.21</td>\n",
              "      <td>0</td>\n",
              "      <td>0</td>\n",
              "    </tr>\n",
              "  </tbody>\n",
              "</table>\n",
              "</div>\n",
              "      <button class=\"colab-df-convert\" onclick=\"convertToInteractive('df-ae87db7f-080a-4fc9-a0c0-4e7de0abb5ec')\"\n",
              "              title=\"Convert this dataframe to an interactive table.\"\n",
              "              style=\"display:none;\">\n",
              "        \n",
              "  <svg xmlns=\"http://www.w3.org/2000/svg\" height=\"24px\"viewBox=\"0 0 24 24\"\n",
              "       width=\"24px\">\n",
              "    <path d=\"M0 0h24v24H0V0z\" fill=\"none\"/>\n",
              "    <path d=\"M18.56 5.44l.94 2.06.94-2.06 2.06-.94-2.06-.94-.94-2.06-.94 2.06-2.06.94zm-11 1L8.5 8.5l.94-2.06 2.06-.94-2.06-.94L8.5 2.5l-.94 2.06-2.06.94zm10 10l.94 2.06.94-2.06 2.06-.94-2.06-.94-.94-2.06-.94 2.06-2.06.94z\"/><path d=\"M17.41 7.96l-1.37-1.37c-.4-.4-.92-.59-1.43-.59-.52 0-1.04.2-1.43.59L10.3 9.45l-7.72 7.72c-.78.78-.78 2.05 0 2.83L4 21.41c.39.39.9.59 1.41.59.51 0 1.02-.2 1.41-.59l7.78-7.78 2.81-2.81c.8-.78.8-2.07 0-2.86zM5.41 20L4 18.59l7.72-7.72 1.47 1.35L5.41 20z\"/>\n",
              "  </svg>\n",
              "      </button>\n",
              "      \n",
              "  <style>\n",
              "    .colab-df-container {\n",
              "      display:flex;\n",
              "      flex-wrap:wrap;\n",
              "      gap: 12px;\n",
              "    }\n",
              "\n",
              "    .colab-df-convert {\n",
              "      background-color: #E8F0FE;\n",
              "      border: none;\n",
              "      border-radius: 50%;\n",
              "      cursor: pointer;\n",
              "      display: none;\n",
              "      fill: #1967D2;\n",
              "      height: 32px;\n",
              "      padding: 0 0 0 0;\n",
              "      width: 32px;\n",
              "    }\n",
              "\n",
              "    .colab-df-convert:hover {\n",
              "      background-color: #E2EBFA;\n",
              "      box-shadow: 0px 1px 2px rgba(60, 64, 67, 0.3), 0px 1px 3px 1px rgba(60, 64, 67, 0.15);\n",
              "      fill: #174EA6;\n",
              "    }\n",
              "\n",
              "    [theme=dark] .colab-df-convert {\n",
              "      background-color: #3B4455;\n",
              "      fill: #D2E3FC;\n",
              "    }\n",
              "\n",
              "    [theme=dark] .colab-df-convert:hover {\n",
              "      background-color: #434B5C;\n",
              "      box-shadow: 0px 1px 3px 1px rgba(0, 0, 0, 0.15);\n",
              "      filter: drop-shadow(0px 1px 2px rgba(0, 0, 0, 0.3));\n",
              "      fill: #FFFFFF;\n",
              "    }\n",
              "  </style>\n",
              "\n",
              "      <script>\n",
              "        const buttonEl =\n",
              "          document.querySelector('#df-ae87db7f-080a-4fc9-a0c0-4e7de0abb5ec button.colab-df-convert');\n",
              "        buttonEl.style.display =\n",
              "          google.colab.kernel.accessAllowed ? 'block' : 'none';\n",
              "\n",
              "        async function convertToInteractive(key) {\n",
              "          const element = document.querySelector('#df-ae87db7f-080a-4fc9-a0c0-4e7de0abb5ec');\n",
              "          const dataTable =\n",
              "            await google.colab.kernel.invokeFunction('convertToInteractive',\n",
              "                                                     [key], {});\n",
              "          if (!dataTable) return;\n",
              "\n",
              "          const docLinkHtml = 'Like what you see? Visit the ' +\n",
              "            '<a target=\"_blank\" href=https://colab.research.google.com/notebooks/data_table.ipynb>data table notebook</a>'\n",
              "            + ' to learn more about interactive tables.';\n",
              "          element.innerHTML = '';\n",
              "          dataTable['output_type'] = 'display_data';\n",
              "          await google.colab.output.renderOutput(dataTable, element);\n",
              "          const docLink = document.createElement('div');\n",
              "          docLink.innerHTML = docLinkHtml;\n",
              "          element.appendChild(docLink);\n",
              "        }\n",
              "      </script>\n",
              "    </div>\n",
              "  </div>\n",
              "  "
            ]
          },
          "metadata": {},
          "execution_count": 9
        }
      ]
    },
    {
      "cell_type": "code",
      "source": [
        "df.columns\n"
      ],
      "metadata": {
        "colab": {
          "base_uri": "https://localhost:8080/"
        },
        "id": "UseWrUR8u2IZ",
        "outputId": "1918976a-0df1-4d49-ca6c-13c15a5177d7"
      },
      "execution_count": 10,
      "outputs": [
        {
          "output_type": "execute_result",
          "data": {
            "text/plain": [
              "Index(['GRE Score', 'TOEFL Score', 'University Rating', 'SOP', 'LOR', 'CGPA',\n",
              "       'Research', 'Chance of Admit'],\n",
              "      dtype='object')"
            ]
          },
          "metadata": {},
          "execution_count": 10
        }
      ]
    },
    {
      "cell_type": "code",
      "source": [
        "X= df.drop('Chance of Admit',axis=1)\n",
        "y =df['Chance of Admit']"
      ],
      "metadata": {
        "id": "MptvhHv9udu4"
      },
      "execution_count": 11,
      "outputs": []
    },
    {
      "cell_type": "code",
      "source": [
        "from sklearn.model_selection import train_test_split\n",
        "xtrain,xtest,ytrain,ytest = train_test_split(X,y,\n",
        "                                             test_size=0.20,\n",
        "                                             random_state=10)"
      ],
      "metadata": {
        "id": "L8YPTpe_vC3x"
      },
      "execution_count": 12,
      "outputs": []
    },
    {
      "cell_type": "code",
      "source": [
        "ytrain.value_counts(normalize=True)\n",
        "# This seems to be balanced dataset."
      ],
      "metadata": {
        "colab": {
          "base_uri": "https://localhost:8080/"
        },
        "id": "snAHdJMkDr1n",
        "outputId": "8b24122b-a75d-461f-f84b-afe81e184683"
      },
      "execution_count": 13,
      "outputs": [
        {
          "output_type": "execute_result",
          "data": {
            "text/plain": [
              "0    0.55625\n",
              "1    0.44375\n",
              "Name: Chance of Admit, dtype: float64"
            ]
          },
          "metadata": {},
          "execution_count": 13
        }
      ]
    },
    {
      "cell_type": "code",
      "source": [
        "xtrain.columns"
      ],
      "metadata": {
        "colab": {
          "base_uri": "https://localhost:8080/"
        },
        "id": "yyq8dHxPv7BH",
        "outputId": "a70a6b61-7936-4d88-8a9b-028e1f9964eb"
      },
      "execution_count": 14,
      "outputs": [
        {
          "output_type": "execute_result",
          "data": {
            "text/plain": [
              "Index(['GRE Score', 'TOEFL Score', 'University Rating', 'SOP', 'LOR', 'CGPA',\n",
              "       'Research'],\n",
              "      dtype='object')"
            ]
          },
          "metadata": {},
          "execution_count": 14
        }
      ]
    },
    {
      "cell_type": "code",
      "source": [
        "xtrain_c=sm.add_constant(xtrain)\n",
        "xtest_c=sm.add_constant(xtest)"
      ],
      "metadata": {
        "id": "Uo1EA0qov6-r"
      },
      "execution_count": 15,
      "outputs": []
    },
    {
      "cell_type": "code",
      "source": [
        "xtrain_c.columns"
      ],
      "metadata": {
        "colab": {
          "base_uri": "https://localhost:8080/"
        },
        "id": "nDf8Xf0cv68Y",
        "outputId": "52ae9caa-fa34-46e2-bff5-ba030854685f"
      },
      "execution_count": 16,
      "outputs": [
        {
          "output_type": "execute_result",
          "data": {
            "text/plain": [
              "Index(['const', 'GRE Score', 'TOEFL Score', 'University Rating', 'SOP', 'LOR',\n",
              "       'CGPA', 'Research'],\n",
              "      dtype='object')"
            ]
          },
          "metadata": {},
          "execution_count": 16
        }
      ]
    },
    {
      "cell_type": "code",
      "source": [
        "logreg =sm.Logit(ytrain,xtrain_c).fit()\n",
        "print(logreg.summary())"
      ],
      "metadata": {
        "colab": {
          "base_uri": "https://localhost:8080/"
        },
        "id": "djInC5l2vlyg",
        "outputId": "224388ea-7c8d-4f26-def5-8f6fb55d3e2a"
      },
      "execution_count": 17,
      "outputs": [
        {
          "output_type": "stream",
          "name": "stdout",
          "text": [
            "Optimization terminated successfully.\n",
            "         Current function value: 0.241326\n",
            "         Iterations 8\n",
            "                           Logit Regression Results                           \n",
            "==============================================================================\n",
            "Dep. Variable:        Chance of Admit   No. Observations:                  320\n",
            "Model:                          Logit   Df Residuals:                      312\n",
            "Method:                           MLE   Df Model:                            7\n",
            "Date:                Fri, 24 Mar 2023   Pseudo R-squ.:                  0.6486\n",
            "Time:                        09:42:03   Log-Likelihood:                -77.224\n",
            "converged:                       True   LL-Null:                       -219.78\n",
            "Covariance Type:            nonrobust   LLR p-value:                 9.137e-58\n",
            "=====================================================================================\n",
            "                        coef    std err          z      P>|z|      [0.025      0.975]\n",
            "-------------------------------------------------------------------------------------\n",
            "const               -63.1763     11.315     -5.583      0.000     -85.354     -40.998\n",
            "GRE Score             0.0532      0.039      1.365      0.172      -0.023       0.130\n",
            "TOEFL Score           0.0328      0.067      0.493      0.622      -0.098       0.163\n",
            "University Rating     0.5150      0.336      1.535      0.125      -0.143       1.173\n",
            "SOP                   0.1758      0.372      0.473      0.636      -0.552       0.904\n",
            "LOR                   0.5703      0.343      1.662      0.096      -0.102       1.243\n",
            "CGPA                  4.4114      0.913      4.832      0.000       2.622       6.201\n",
            "Research              0.5819      0.465      1.251      0.211      -0.329       1.493\n",
            "=====================================================================================\n"
          ]
        }
      ]
    },
    {
      "cell_type": "markdown",
      "source": [
        "1. Except for CGPA, all the variables are insignificant.\n",
        "2. The weight for CGPA is the heighest. Max weight is given to CGPA whereas other variables have very less weights."
      ],
      "metadata": {
        "id": "pHJN2JfRxWRq"
      }
    },
    {
      "cell_type": "markdown",
      "source": [
        "**Significance of the variables**"
      ],
      "metadata": {
        "id": "cFDKl9xBlipL"
      }
    },
    {
      "cell_type": "code",
      "source": [
        "# H0 : beta value is significant\n",
        "# Reject H0 if pvalue < 0.05\n",
        "# H0 is betai's is not significant betai = 0\n",
        "# here pval>0.05 so we fail to reject H0 ie the coeffs are not significant\n",
        "\n",
        "# only CGPA is signofocant\n",
        "4.4114/0.913\n",
        "\n",
        "# wherever the pvalue<0.05 those coefficients are significant or those features are significant"
      ],
      "metadata": {
        "colab": {
          "base_uri": "https://localhost:8080/"
        },
        "id": "3DM99Zv2lomk",
        "outputId": "bd976f77-f432-4098-9d94-efe6e1356088"
      },
      "execution_count": 18,
      "outputs": [
        {
          "output_type": "execute_result",
          "data": {
            "text/plain": [
              "4.831763417305586"
            ]
          },
          "metadata": {},
          "execution_count": 18
        }
      ]
    },
    {
      "cell_type": "markdown",
      "source": [
        "**Overall Significance of the Model**"
      ],
      "metadata": {
        "id": "W331jPoilyIS"
      }
    },
    {
      "cell_type": "code",
      "source": [
        "# Look at the llr_pvalue\n",
        "# if this value is less than 0.05 then the overall model is significant\n",
        "\n",
        "\n",
        "# H0: Logistic Model is Insignificant.\n",
        "# Ha :Logistic Model is Significant.\n",
        "\n",
        "logreg.llr_pvalue\n",
        "\n",
        "\n",
        "# slide 91, 92 LRT test"
      ],
      "metadata": {
        "colab": {
          "base_uri": "https://localhost:8080/"
        },
        "id": "VI_O_8l6lpPU",
        "outputId": "d642ecce-0747-4e08-e919-7ea388099053"
      },
      "execution_count": 19,
      "outputs": [
        {
          "output_type": "execute_result",
          "data": {
            "text/plain": [
              "9.136840797093485e-58"
            ]
          },
          "metadata": {},
          "execution_count": 19
        }
      ]
    },
    {
      "cell_type": "markdown",
      "source": [
        "**McFadden R2**"
      ],
      "metadata": {
        "id": "QIER4tZ40sYX"
      }
    },
    {
      "cell_type": "markdown",
      "source": [
        " The `Pseudo R-squ.` above is the value of `McFadden's R-squared`.\n",
        "\n",
        "<p style='text-indent:25em'> <strong> McFadden's R-squared = $ 1 - \\frac{Log-Likelihood}{LL-Null} $</strong> </p>"
      ],
      "metadata": {
        "id": "kUi4jvl7oc-K"
      }
    },
    {
      "cell_type": "code",
      "source": [
        "# Log LIkelihood of Full model / fitted model = -77.224\n",
        "# Log likelihood of Null Model = -219.78\n",
        "\n",
        "1- (-77.224/-219.78)"
      ],
      "metadata": {
        "colab": {
          "base_uri": "https://localhost:8080/"
        },
        "id": "DtZWvE0T0hsv",
        "outputId": "e87e177f-a221-409c-f1f5-ae4ce407f88a"
      },
      "execution_count": 20,
      "outputs": [
        {
          "output_type": "execute_result",
          "data": {
            "text/plain": [
              "0.6486304486304486"
            ]
          },
          "metadata": {},
          "execution_count": 20
        }
      ]
    },
    {
      "cell_type": "markdown",
      "source": [
        "**AIC - Akaike Information Criteria**"
      ],
      "metadata": {
        "id": "ynAGKCeNHm3t"
      }
    },
    {
      "cell_type": "markdown",
      "source": [
        " The AIC is relative measure. To know if \n",
        "\n",
        "<p style='text-indent:25em'> <strong> AIC = $ -2({Log-Likelihood})\n",
        " + 2k$</strong> </p>"
      ],
      "metadata": {
        "id": "X6PIA31dq21M"
      }
    },
    {
      "cell_type": "markdown",
      "source": [
        "**Interpretation of variables**"
      ],
      "metadata": {
        "id": "yk5mViWGsJUw"
      }
    },
    {
      "cell_type": "markdown",
      "source": [
        "Interpretation in terms of Log(odds)"
      ],
      "metadata": {
        "id": "KhHWNYr-sgc1"
      }
    },
    {
      "cell_type": "code",
      "source": [
        "logreg.params\n",
        "\n",
        "# Log(odds)=beta0+beta1 * X1 +beta2 * X2 +beta3 * X3\n",
        "# For every one unit change in X1  there is beta1 units change in Log(odds)"
      ],
      "metadata": {
        "colab": {
          "base_uri": "https://localhost:8080/"
        },
        "id": "MnRml-XmsN2M",
        "outputId": "b98368a5-ec38-4aa4-bae4-900230353891"
      },
      "execution_count": 21,
      "outputs": [
        {
          "output_type": "execute_result",
          "data": {
            "text/plain": [
              "const               -63.176338\n",
              "GRE Score             0.053187\n",
              "TOEFL Score           0.032814\n",
              "University Rating     0.515006\n",
              "SOP                   0.175796\n",
              "LOR                   0.570331\n",
              "CGPA                  4.411370\n",
              "Research              0.581890\n",
              "dtype: float64"
            ]
          },
          "metadata": {},
          "execution_count": 21
        }
      ]
    },
    {
      "cell_type": "markdown",
      "source": [
        "Interpretation in terms of Odds"
      ],
      "metadata": {
        "id": "jE_5lJyisl4n"
      }
    },
    {
      "cell_type": "code",
      "source": [
        "odds= (np.exp(logreg.params)) \n",
        "\n",
        "odds"
      ],
      "metadata": {
        "colab": {
          "base_uri": "https://localhost:8080/"
        },
        "id": "w_eU8n3MsNzF",
        "outputId": "bea79d18-b051-4f5b-8fae-858de7aa9886"
      },
      "execution_count": 22,
      "outputs": [
        {
          "output_type": "execute_result",
          "data": {
            "text/plain": [
              "const                3.654811e-28\n",
              "GRE Score            1.054626e+00\n",
              "TOEFL Score          1.033359e+00\n",
              "University Rating    1.673648e+00\n",
              "SOP                  1.192195e+00\n",
              "LOR                  1.768853e+00\n",
              "CGPA                 8.238225e+01\n",
              "Research             1.789418e+00\n",
              "dtype: float64"
            ]
          },
          "metadata": {},
          "execution_count": 22
        }
      ]
    },
    {
      "cell_type": "code",
      "source": [],
      "metadata": {
        "id": "vGtmAHjxsNv-"
      },
      "execution_count": 22,
      "outputs": []
    },
    {
      "cell_type": "markdown",
      "source": [
        "### Predict and Find the Model Performance Metrics"
      ],
      "metadata": {
        "id": "3at-eHEJxHUm"
      }
    },
    {
      "cell_type": "code",
      "source": [
        "ypred_prob= logreg.predict(xtest_c)"
      ],
      "metadata": {
        "id": "lAcCmUmO07Dn"
      },
      "execution_count": 23,
      "outputs": []
    },
    {
      "cell_type": "code",
      "source": [
        "ypred_prob[0:5] # get the first 5 values of prediction"
      ],
      "metadata": {
        "colab": {
          "base_uri": "https://localhost:8080/"
        },
        "id": "vfMm4vPy1esP",
        "outputId": "f39ac657-58c4-4f11-8646-b5a95a4808c5"
      },
      "execution_count": 24,
      "outputs": [
        {
          "output_type": "execute_result",
          "data": {
            "text/plain": [
              "332    0.050634\n",
              "111    0.800663\n",
              "352    0.016492\n",
              "205    0.000668\n",
              "56     0.001146\n",
              "dtype: float64"
            ]
          },
          "metadata": {},
          "execution_count": 24
        }
      ]
    },
    {
      "cell_type": "code",
      "source": [
        "# using list comprehension\n",
        "ypred=[0 if i <0.5 else 1 for i in ypred_prob]\n",
        "ypred[0:5]"
      ],
      "metadata": {
        "colab": {
          "base_uri": "https://localhost:8080/"
        },
        "id": "CGctN-811r2W",
        "outputId": "7f9bc5ec-91da-41b1-de63-a0311868bd40"
      },
      "execution_count": 25,
      "outputs": [
        {
          "output_type": "execute_result",
          "data": {
            "text/plain": [
              "[0, 1, 0, 0, 0]"
            ]
          },
          "metadata": {},
          "execution_count": 25
        }
      ]
    },
    {
      "cell_type": "code",
      "source": [
        "ytest[0:5] # these are the actuals"
      ],
      "metadata": {
        "colab": {
          "base_uri": "https://localhost:8080/"
        },
        "id": "uETX6w6h29Ao",
        "outputId": "73db2366-138c-46ba-808a-7570176c050f"
      },
      "execution_count": 26,
      "outputs": [
        {
          "output_type": "execute_result",
          "data": {
            "text/plain": [
              "332    1\n",
              "111    0\n",
              "352    0\n",
              "205    0\n",
              "56     0\n",
              "Name: Chance of Admit, dtype: int64"
            ]
          },
          "metadata": {},
          "execution_count": 26
        }
      ]
    },
    {
      "cell_type": "markdown",
      "source": [
        "1. out of the 5 elements listed above, two are incorrect and 3 are right prediction.\n",
        "2. These are called as misclassification.\n",
        "3. If we take only these 5 elements, we can say that the accuracy is  3/5 which is 60%."
      ],
      "metadata": {
        "id": "uXDkzTkM3SzJ"
      }
    },
    {
      "cell_type": "markdown",
      "source": [
        "#### Lets find the model accuracy"
      ],
      "metadata": {
        "id": "I0dWA6vHZWr2"
      }
    },
    {
      "cell_type": "code",
      "source": [
        "from sklearn.metrics import accuracy_score\n",
        "accuracy_score(ytest,ypred)"
      ],
      "metadata": {
        "colab": {
          "base_uri": "https://localhost:8080/"
        },
        "id": "r5arSSKd3yrn",
        "outputId": "4ed830ef-abc4-4467-c3fc-b6bd19e9d3af"
      },
      "execution_count": 27,
      "outputs": [
        {
          "output_type": "execute_result",
          "data": {
            "text/plain": [
              "0.825"
            ]
          },
          "metadata": {},
          "execution_count": 27
        }
      ]
    },
    {
      "cell_type": "markdown",
      "source": [
        "The accuracy of the model is 82.5%"
      ],
      "metadata": {
        "id": "amE5G5J34LnH"
      }
    },
    {
      "cell_type": "code",
      "source": [
        "from sklearn.metrics import confusion_matrix\n",
        "confusion_matrix(ytest,ypred)"
      ],
      "metadata": {
        "colab": {
          "base_uri": "https://localhost:8080/"
        },
        "id": "3zsKyPYpcEUF",
        "outputId": "988eda47-197a-409c-e054-c1cb3675088a"
      },
      "execution_count": 28,
      "outputs": [
        {
          "output_type": "execute_result",
          "data": {
            "text/plain": [
              "array([[33,  9],\n",
              "       [ 5, 33]])"
            ]
          },
          "metadata": {},
          "execution_count": 28
        }
      ]
    },
    {
      "cell_type": "code",
      "source": [
        "cm=confusion_matrix(ytest,ypred)"
      ],
      "metadata": {
        "id": "oSFCSvo0gzNd"
      },
      "execution_count": 29,
      "outputs": []
    },
    {
      "cell_type": "code",
      "source": [
        "(33+33)/ (33+5+9+33)"
      ],
      "metadata": {
        "colab": {
          "base_uri": "https://localhost:8080/"
        },
        "id": "ptHB7UnUcofF",
        "outputId": "cf4bb6bc-89bf-4dba-aafb-fb04bd2fecca"
      },
      "execution_count": 30,
      "outputs": [
        {
          "output_type": "execute_result",
          "data": {
            "text/plain": [
              "0.825"
            ]
          },
          "metadata": {},
          "execution_count": 30
        }
      ]
    },
    {
      "cell_type": "code",
      "source": [
        "import seaborn as sns\n",
        "conf_matrix = pd.DataFrame(data = cm,columns = ['Predicted:0','Predicted:1'], index = ['Actual:0','Actual:1'])\n",
        "sns.heatmap(conf_matrix,annot=True)\n",
        "plt.show()"
      ],
      "metadata": {
        "colab": {
          "base_uri": "https://localhost:8080/",
          "height": 483
        },
        "id": "14OiWguqgoGN",
        "outputId": "2fbfbfc2-32c0-43cb-9bf5-62d57881aa19"
      },
      "execution_count": 31,
      "outputs": [
        {
          "output_type": "display_data",
          "data": {
            "text/plain": [
              "<Figure size 1080x576 with 2 Axes>"
            ],
            "image/png": "[encoded data removed]"
          },
          "metadata": {
            "needs_background": "light"
          }
        }
      ]
    },
    {
      "cell_type": "code",
      "source": [
        "cm"
      ],
      "metadata": {
        "colab": {
          "base_uri": "https://localhost:8080/"
        },
        "id": "UHnloWdRoIss",
        "outputId": "00436cff-1350-4a14-f4a0-b7b973c115a0"
      },
      "execution_count": 32,
      "outputs": [
        {
          "output_type": "execute_result",
          "data": {
            "text/plain": [
              "array([[33,  9],\n",
              "       [ 5, 33]])"
            ]
          },
          "metadata": {},
          "execution_count": 32
        }
      ]
    },
    {
      "cell_type": "code",
      "source": [
        "TN = cm[0,0]\n",
        "FP =cm[0,1]\n",
        "FN = cm[1,0]\n",
        "TP = cm[1,1]"
      ],
      "metadata": {
        "id": "HnZtLYk0oLJc"
      },
      "execution_count": 33,
      "outputs": []
    },
    {
      "cell_type": "code",
      "source": [
        "#sensitivity recall for positive class\n",
        "sensitivity = TP /(FN+TP)\n",
        "sensitivity"
      ],
      "metadata": {
        "colab": {
          "base_uri": "https://localhost:8080/"
        },
        "id": "X4qD2H9_qji0",
        "outputId": "3b7228c8-ba24-4ce1-9723-e478795ad285"
      },
      "execution_count": 34,
      "outputs": [
        {
          "output_type": "execute_result",
          "data": {
            "text/plain": [
              "0.868421052631579"
            ]
          },
          "metadata": {},
          "execution_count": 34
        }
      ]
    },
    {
      "cell_type": "code",
      "source": [
        "#specificity recall for Negative class\n",
        "specificity = TN /(TN+FP)\n",
        "specificity"
      ],
      "metadata": {
        "colab": {
          "base_uri": "https://localhost:8080/"
        },
        "id": "LicECfliq8_E",
        "outputId": "b807ae04-d728-415c-999a-e96bc8af4568"
      },
      "execution_count": 35,
      "outputs": [
        {
          "output_type": "execute_result",
          "data": {
            "text/plain": [
              "0.7857142857142857"
            ]
          },
          "metadata": {},
          "execution_count": 35
        }
      ]
    },
    {
      "cell_type": "code",
      "source": [
        "from sklearn.metrics import recall_score\n",
        "recall_score(ytest,ypred)"
      ],
      "metadata": {
        "colab": {
          "base_uri": "https://localhost:8080/"
        },
        "id": "F2rmhsXwrcZk",
        "outputId": "b4dc2a03-cc64-42d9-9f86-480383d0edfb"
      },
      "execution_count": 36,
      "outputs": [
        {
          "output_type": "execute_result",
          "data": {
            "text/plain": [
              "0.868421052631579"
            ]
          },
          "metadata": {},
          "execution_count": 36
        }
      ]
    },
    {
      "cell_type": "code",
      "source": [
        "from sklearn.metrics import classification_report\n",
        "print(classification_report(ytest,ypred))"
      ],
      "metadata": {
        "colab": {
          "base_uri": "https://localhost:8080/"
        },
        "id": "CoM8FE5GruGT",
        "outputId": "48f78ccb-4edb-40ef-f15c-e728cd56806f"
      },
      "execution_count": 37,
      "outputs": [
        {
          "output_type": "stream",
          "name": "stdout",
          "text": [
            "              precision    recall  f1-score   support\n",
            "\n",
            "           0       0.87      0.79      0.82        42\n",
            "           1       0.79      0.87      0.82        38\n",
            "\n",
            "    accuracy                           0.82        80\n",
            "   macro avg       0.83      0.83      0.82        80\n",
            "weighted avg       0.83      0.82      0.82        80\n",
            "\n"
          ]
        }
      ]
    },
    {
      "cell_type": "markdown",
      "source": [
        "**This is on the higher side. This value should be closed to 0.**"
      ],
      "metadata": {
        "id": "pKNYZffN55Fi"
      }
    },
    {
      "cell_type": "code",
      "source": [
        "ypred_prob"
      ],
      "metadata": {
        "colab": {
          "base_uri": "https://localhost:8080/"
        },
        "id": "K2pNF8X29u6w",
        "outputId": "aaf87861-1533-4647-82f5-6d1c52f82ce6"
      },
      "execution_count": 38,
      "outputs": [
        {
          "output_type": "execute_result",
          "data": {
            "text/plain": [
              "332    0.050634\n",
              "111    0.800663\n",
              "352    0.016492\n",
              "205    0.000668\n",
              "56     0.001146\n",
              "         ...   \n",
              "304    0.037234\n",
              "187    0.997764\n",
              "166    0.118340\n",
              "64     0.549633\n",
              "27     0.000442\n",
              "Length: 80, dtype: float64"
            ]
          },
          "metadata": {},
          "execution_count": 38
        }
      ]
    },
    {
      "cell_type": "markdown",
      "source": [
        "**Print the first 5 rows**"
      ],
      "metadata": {
        "id": "vaK1ohh096hK"
      }
    },
    {
      "cell_type": "code",
      "source": [
        "from sklearn.metrics import roc_curve,roc_auc_score"
      ],
      "metadata": {
        "id": "meqAkfjP9_i_"
      },
      "execution_count": 39,
      "outputs": []
    },
    {
      "cell_type": "markdown",
      "source": [
        "1. In all the above metrics- we were passing ytest and ypred. ypred is the label\n",
        "2. In ROC curve, we are passing ytest and ypred_prob. Here we pass the probabilities.\n",
        "3. We are focusing on positive class and not negative class.\n",
        "4. ROC curve gives us 3 set  values - First is FPR, Second -TPR and third -Threshold."
      ],
      "metadata": {
        "id": "PkCcYdic-180"
      }
    },
    {
      "cell_type": "code",
      "source": [
        "print(roc_curve(ytest,ypred_prob))"
      ],
      "metadata": {
        "colab": {
          "base_uri": "https://localhost:8080/"
        },
        "id": "MRYpih-e-nDX",
        "outputId": "9541fdc6-15da-4056-8add-c000421f4e04"
      },
      "execution_count": 40,
      "outputs": [
        {
          "output_type": "stream",
          "name": "stdout",
          "text": [
            "(array([0.        , 0.        , 0.        , 0.02380952, 0.02380952,\n",
            "       0.04761905, 0.04761905, 0.14285714, 0.14285714, 0.23809524,\n",
            "       0.23809524, 0.30952381, 0.30952381, 0.33333333, 0.33333333,\n",
            "       0.54761905, 0.54761905, 1.        ]), array([0.        , 0.02631579, 0.63157895, 0.63157895, 0.71052632,\n",
            "       0.71052632, 0.76315789, 0.76315789, 0.86842105, 0.86842105,\n",
            "       0.92105263, 0.92105263, 0.94736842, 0.94736842, 0.97368421,\n",
            "       0.97368421, 1.        , 1.        ]), array([1.99954144e+00, 9.99541441e-01, 9.31355628e-01, 9.09319667e-01,\n",
            "       8.60956416e-01, 8.58806131e-01, 8.41911606e-01, 7.97157602e-01,\n",
            "       6.18555435e-01, 4.92806012e-01, 3.80298891e-01, 2.33502048e-01,\n",
            "       2.21233752e-01, 2.20817772e-01, 1.95004427e-01, 6.35077653e-02,\n",
            "       5.06341297e-02, 1.00881402e-04]))\n"
          ]
        }
      ]
    },
    {
      "cell_type": "code",
      "source": [
        "fpr,tpr,threshold =roc_curve(ytest,ypred_prob)"
      ],
      "metadata": {
        "id": "h07hN4qxASD_"
      },
      "execution_count": 41,
      "outputs": []
    },
    {
      "cell_type": "markdown",
      "source": [
        "**Now plot - fpr, tpr**"
      ],
      "metadata": {
        "id": "NfhtK4VhAsZu"
      }
    },
    {
      "cell_type": "code",
      "source": [
        "plt.plot(fpr,tpr)"
      ],
      "metadata": {
        "colab": {
          "base_uri": "https://localhost:8080/",
          "height": 500
        },
        "id": "sgjy-wH6AxnV",
        "outputId": "64654aad-c966-4175-8dbc-b9544bbbea0a"
      },
      "execution_count": 42,
      "outputs": [
        {
          "output_type": "execute_result",
          "data": {
            "text/plain": [
              "[<matplotlib.lines.Line2D at 0x7f9a89c9e190>]"
            ]
          },
          "metadata": {},
          "execution_count": 42
        },
        {
          "output_type": "display_data",
          "data": {
            "text/plain": [
              "<Figure size 1080x576 with 1 Axes>"
            ],
            "image/png": "[encoded data removed]"
          },
          "metadata": {
            "needs_background": "light"
          }
        }
      ]
    },
    {
      "cell_type": "code",
      "source": [
        "plt.plot(fpr,tpr)\n",
        "plt.xlabel('FPR')\n",
        "plt.ylabel('TPR')\n",
        "\n",
        "print(roc_auc_score(ytest,ypred_prob))"
      ],
      "metadata": {
        "colab": {
          "base_uri": "https://localhost:8080/",
          "height": 514
        },
        "id": "JfsOXDM3Bdv_",
        "outputId": "65ebd9ba-a6c6-4787-e66e-aeb31964c879"
      },
      "execution_count": 43,
      "outputs": [
        {
          "output_type": "stream",
          "name": "stdout",
          "text": [
            "0.93671679197995\n"
          ]
        },
        {
          "output_type": "display_data",
          "data": {
            "text/plain": [
              "<Figure size 1080x576 with 1 Axes>"
            ],
            "image/png": "[encoded data removed]"
          },
          "metadata": {
            "needs_background": "light"
          }
        }
      ]
    },
    {
      "cell_type": "markdown",
      "source": [
        "1. Only in AUC, ROC -We use probability and not in all others"
      ],
      "metadata": {
        "id": "vmbhajF3IOsV"
      }
    },
    {
      "cell_type": "markdown",
      "source": [
        "**All at one Summary Table**"
      ],
      "metadata": {
        "id": "d8fm378qCKhY"
      }
    },
    {
      "cell_type": "code",
      "source": [
        "\n",
        "from sklearn.metrics import recall_score,precision_score,f1_score\n",
        "\n"
      ],
      "metadata": {
        "id": "IUdLKNaLwPHg"
      },
      "execution_count": 44,
      "outputs": []
    },
    {
      "cell_type": "code",
      "source": [
        "accuracy_logReg    =accuracy_score(ytest,ypred)\n",
        "f1score_logReg     =f1_score(ytest,ypred)\n",
        "recall_logReg      =recall_score(ytest,ypred)\n",
        "precision_logReg   =precision_score(ytest,ypred)\n",
        "aic_logReg         =logreg.aic\n",
        "auc_logReg         = roc_auc_score(ytest,ypred_prob)\n"
      ],
      "metadata": {
        "id": "CjkBBQ6aCKFw"
      },
      "execution_count": 45,
      "outputs": []
    },
    {
      "cell_type": "code",
      "source": [
        "cols_sum = [\"Model\", \"Accuracy\",\"Recall\",\"Precision\",\"F1 Score\",'AUC','AIC']\n",
        "df_cols_sum = pd.DataFrame(columns = cols_sum)\n",
        "\n",
        "\n",
        "model_sum = pd.Series({\"Model\": \"LogisticReg-Base\",\n",
        "                        \"Accuracy\":accuracy_logReg,\n",
        "                        \"Recall\":recall_logReg,\n",
        "                        \"Precision\":precision_logReg,\n",
        "                        \"F1 Score\":f1score_logReg,\n",
        "                        \"AUC\":auc_logReg,\n",
        "                        \"AIC\":aic_logReg\n",
        "                            })\n",
        "\n",
        "result_sum = df_cols_sum.append(model_sum, ignore_index = True)\n",
        "\n",
        "result_sum"
      ],
      "metadata": {
        "colab": {
          "base_uri": "https://localhost:8080/",
          "height": 135
        },
        "id": "k7XMYEzoCRWG",
        "outputId": "59088a74-aa68-4492-9f99-6060fb966007"
      },
      "execution_count": 46,
      "outputs": [
        {
          "output_type": "stream",
          "name": "stderr",
          "text": [
            "<ipython-input-46-c2bcbf52728d>:14: FutureWarning: The frame.append method is deprecated and will be removed from pandas in a future version. Use pandas.concat instead.\n",
            "  result_sum = df_cols_sum.append(model_sum, ignore_index = True)\n"
          ]
        },
        {
          "output_type": "execute_result",
          "data": {
            "text/plain": [
              "              Model  Accuracy    Recall  Precision  F1 Score       AUC  \\\n",
              "0  LogisticReg-Base     0.825  0.868421   0.785714     0.825  0.936717   \n",
              "\n",
              "          AIC  \n",
              "0  170.448593  "
            ],
            "text/html": [
              "\n",
              "  <div id=\"df-6368c41e-d0d2-4128-9842-e924d3ecc93e\">\n",
              "    <div class=\"colab-df-container\">\n",
              "      <div>\n",
              "<style scoped>\n",
              "    .dataframe tbody tr th:only-of-type {\n",
              "        vertical-align: middle;\n",
              "    }\n",
              "\n",
              "    .dataframe tbody tr th {\n",
              "        vertical-align: top;\n",
              "    }\n",
              "\n",
              "    .dataframe thead th {\n",
              "        text-align: right;\n",
              "    }\n",
              "</style>\n",
              "<table border=\"1\" class=\"dataframe\">\n",
              "  <thead>\n",
              "    <tr style=\"text-align: right;\">\n",
              "      <th></th>\n",
              "      <th>Model</th>\n",
              "      <th>Accuracy</th>\n",
              "      <th>Recall</th>\n",
              "      <th>Precision</th>\n",
              "      <th>F1 Score</th>\n",
              "      <th>AUC</th>\n",
              "      <th>AIC</th>\n",
              "    </tr>\n",
              "  </thead>\n",
              "  <tbody>\n",
              "    <tr>\n",
              "      <th>0</th>\n",
              "      <td>LogisticReg-Base</td>\n",
              "      <td>0.825</td>\n",
              "      <td>0.868421</td>\n",
              "      <td>0.785714</td>\n",
              "      <td>0.825</td>\n",
              "      <td>0.936717</td>\n",
              "      <td>170.448593</td>\n",
              "    </tr>\n",
              "  </tbody>\n",
              "</table>\n",
              "</div>\n",
              "      <button class=\"colab-df-convert\" onclick=\"convertToInteractive('df-6368c41e-d0d2-4128-9842-e924d3ecc93e')\"\n",
              "              title=\"Convert this dataframe to an interactive table.\"\n",
              "              style=\"display:none;\">\n",
              "        \n",
              "  <svg xmlns=\"http://www.w3.org/2000/svg\" height=\"24px\"viewBox=\"0 0 24 24\"\n",
              "       width=\"24px\">\n",
              "    <path d=\"M0 0h24v24H0V0z\" fill=\"none\"/>\n",
              "    <path d=\"M18.56 5.44l.94 2.06.94-2.06 2.06-.94-2.06-.94-.94-2.06-.94 2.06-2.06.94zm-11 1L8.5 8.5l.94-2.06 2.06-.94-2.06-.94L8.5 2.5l-.94 2.06-2.06.94zm10 10l.94 2.06.94-2.06 2.06-.94-2.06-.94-.94-2.06-.94 2.06-2.06.94z\"/><path d=\"M17.41 7.96l-1.37-1.37c-.4-.4-.92-.59-1.43-.59-.52 0-1.04.2-1.43.59L10.3 9.45l-7.72 7.72c-.78.78-.78 2.05 0 2.83L4 21.41c.39.39.9.59 1.41.59.51 0 1.02-.2 1.41-.59l7.78-7.78 2.81-2.81c.8-.78.8-2.07 0-2.86zM5.41 20L4 18.59l7.72-7.72 1.47 1.35L5.41 20z\"/>\n",
              "  </svg>\n",
              "      </button>\n",
              "      \n",
              "  <style>\n",
              "    .colab-df-container {\n",
              "      display:flex;\n",
              "      flex-wrap:wrap;\n",
              "      gap: 12px;\n",
              "    }\n",
              "\n",
              "    .colab-df-convert {\n",
              "      background-color: #E8F0FE;\n",
              "      border: none;\n",
              "      border-radius: 50%;\n",
              "      cursor: pointer;\n",
              "      display: none;\n",
              "      fill: #1967D2;\n",
              "      height: 32px;\n",
              "      padding: 0 0 0 0;\n",
              "      width: 32px;\n",
              "    }\n",
              "\n",
              "    .colab-df-convert:hover {\n",
              "      background-color: #E2EBFA;\n",
              "      box-shadow: 0px 1px 2px rgba(60, 64, 67, 0.3), 0px 1px 3px 1px rgba(60, 64, 67, 0.15);\n",
              "      fill: #174EA6;\n",
              "    }\n",
              "\n",
              "    [theme=dark] .colab-df-convert {\n",
              "      background-color: #3B4455;\n",
              "      fill: #D2E3FC;\n",
              "    }\n",
              "\n",
              "    [theme=dark] .colab-df-convert:hover {\n",
              "      background-color: #434B5C;\n",
              "      box-shadow: 0px 1px 3px 1px rgba(0, 0, 0, 0.15);\n",
              "      filter: drop-shadow(0px 1px 2px rgba(0, 0, 0, 0.3));\n",
              "      fill: #FFFFFF;\n",
              "    }\n",
              "  </style>\n",
              "\n",
              "      <script>\n",
              "        const buttonEl =\n",
              "          document.querySelector('#df-6368c41e-d0d2-4128-9842-e924d3ecc93e button.colab-df-convert');\n",
              "        buttonEl.style.display =\n",
              "          google.colab.kernel.accessAllowed ? 'block' : 'none';\n",
              "\n",
              "        async function convertToInteractive(key) {\n",
              "          const element = document.querySelector('#df-6368c41e-d0d2-4128-9842-e924d3ecc93e');\n",
              "          const dataTable =\n",
              "            await google.colab.kernel.invokeFunction('convertToInteractive',\n",
              "                                                     [key], {});\n",
              "          if (!dataTable) return;\n",
              "\n",
              "          const docLinkHtml = 'Like what you see? Visit the ' +\n",
              "            '<a target=\"_blank\" href=https://colab.research.google.com/notebooks/data_table.ipynb>data table notebook</a>'\n",
              "            + ' to learn more about interactive tables.';\n",
              "          element.innerHTML = '';\n",
              "          dataTable['output_type'] = 'display_data';\n",
              "          await google.colab.output.renderOutput(dataTable, element);\n",
              "          const docLink = document.createElement('div');\n",
              "          docLink.innerHTML = docLinkHtml;\n",
              "          element.appendChild(docLink);\n",
              "        }\n",
              "      </script>\n",
              "    </div>\n",
              "  </div>\n",
              "  "
            ]
          },
          "metadata": {},
          "execution_count": 46
        }
      ]
    },
    {
      "cell_type": "code",
      "source": [
        "logreg.params"
      ],
      "metadata": {
        "colab": {
          "base_uri": "https://localhost:8080/"
        },
        "id": "cq6dg3TX6vI6",
        "outputId": "53770bda-e4c2-4fb6-83bb-0eba929d6af9"
      },
      "execution_count": 47,
      "outputs": [
        {
          "output_type": "execute_result",
          "data": {
            "text/plain": [
              "const               -63.176338\n",
              "GRE Score             0.053187\n",
              "TOEFL Score           0.032814\n",
              "University Rating     0.515006\n",
              "SOP                   0.175796\n",
              "LOR                   0.570331\n",
              "CGPA                  4.411370\n",
              "Research              0.581890\n",
              "dtype: float64"
            ]
          },
          "metadata": {},
          "execution_count": 47
        }
      ]
    },
    {
      "cell_type": "code",
      "source": [
        "# import various functions from sklearn \n",
        "from sklearn import metrics\n",
        "from sklearn.linear_model import LogisticRegression\n",
        "from sklearn.metrics import classification_report\n",
        "from sklearn.metrics import confusion_matrix\n",
        "from sklearn.metrics import roc_curve\n",
        "from sklearn.metrics import accuracy_score"
      ],
      "metadata": {
        "id": "Ntn96SvZ8DXK"
      },
      "execution_count": 48,
      "outputs": []
    },
    {
      "cell_type": "code",
      "source": [
        "# consider a list of values for cut-off\n",
        "\n",
        "cutoff_per = pd.DataFrame(columns=['Probability Cutoff', 'AUC Score', 'Precision Score', 'Recall Score',\n",
        "                                       'Accuracy Score', 'f1-score'])\n",
        "\n",
        "thresh_value = [0.1, 0.2, 0.3, 0.4, 0.5, 0.6, 0.7, 0.8, 0.9]\n",
        "\n",
        "\n",
        "for cutoff in thresh_value:\n",
        "\n",
        "\n",
        "  ypred_prob = logreg.predict(xtest_c)\n",
        "  ypred = [ 0 if x < cutoff else 1 for x in ypred_prob]\n",
        "\n",
        "  global cutoff_per\n",
        "\n",
        "    # append the results to the dataframe 'score_card'\n",
        "    # 'ignore_index = True' do not consider the index labels\n",
        "  cutoff_per = cutoff_per.append({'Probability Cutoff': cutoff,\n",
        "                                    'AUC Score' : metrics.roc_auc_score(ytest, ypred),\n",
        "                                    'Precision Score': metrics.precision_score(ytest, ypred),\n",
        "                                    'Recall Score': metrics.recall_score(ytest, ypred),\n",
        "                                    'Accuracy Score': metrics.accuracy_score(ytest, ypred),\n",
        "                                    'f1-score': metrics.f1_score(ytest, ypred)}, \n",
        "                                    ignore_index = True)\n",
        "\n",
        "    \n",
        " \n",
        "\n"
      ],
      "metadata": {
        "id": "rpsh3Wegypb9",
        "colab": {
          "base_uri": "https://localhost:8080/"
        },
        "outputId": "04a75801-de1d-421a-f0c2-11affe5fb72c"
      },
      "execution_count": 49,
      "outputs": [
        {
          "output_type": "stream",
          "name": "stderr",
          "text": [
            "<ipython-input-49-f927ecd5c775>:19: FutureWarning: The frame.append method is deprecated and will be removed from pandas in a future version. Use pandas.concat instead.\n",
            "  cutoff_per = cutoff_per.append({'Probability Cutoff': cutoff,\n",
            "<ipython-input-49-f927ecd5c775>:19: FutureWarning: The frame.append method is deprecated and will be removed from pandas in a future version. Use pandas.concat instead.\n",
            "  cutoff_per = cutoff_per.append({'Probability Cutoff': cutoff,\n",
            "<ipython-input-49-f927ecd5c775>:19: FutureWarning: The frame.append method is deprecated and will be removed from pandas in a future version. Use pandas.concat instead.\n",
            "  cutoff_per = cutoff_per.append({'Probability Cutoff': cutoff,\n",
            "<ipython-input-49-f927ecd5c775>:19: FutureWarning: The frame.append method is deprecated and will be removed from pandas in a future version. Use pandas.concat instead.\n",
            "  cutoff_per = cutoff_per.append({'Probability Cutoff': cutoff,\n",
            "<ipython-input-49-f927ecd5c775>:19: FutureWarning: The frame.append method is deprecated and will be removed from pandas in a future version. Use pandas.concat instead.\n",
            "  cutoff_per = cutoff_per.append({'Probability Cutoff': cutoff,\n",
            "<ipython-input-49-f927ecd5c775>:19: FutureWarning: The frame.append method is deprecated and will be removed from pandas in a future version. Use pandas.concat instead.\n",
            "  cutoff_per = cutoff_per.append({'Probability Cutoff': cutoff,\n",
            "<ipython-input-49-f927ecd5c775>:19: FutureWarning: The frame.append method is deprecated and will be removed from pandas in a future version. Use pandas.concat instead.\n",
            "  cutoff_per = cutoff_per.append({'Probability Cutoff': cutoff,\n",
            "<ipython-input-49-f927ecd5c775>:19: FutureWarning: The frame.append method is deprecated and will be removed from pandas in a future version. Use pandas.concat instead.\n",
            "  cutoff_per = cutoff_per.append({'Probability Cutoff': cutoff,\n",
            "<ipython-input-49-f927ecd5c775>:19: FutureWarning: The frame.append method is deprecated and will be removed from pandas in a future version. Use pandas.concat instead.\n",
            "  cutoff_per = cutoff_per.append({'Probability Cutoff': cutoff,\n"
          ]
        }
      ]
    },
    {
      "cell_type": "code",
      "source": [
        "cutoff_per"
      ],
      "metadata": {
        "colab": {
          "base_uri": "https://localhost:8080/",
          "height": 332
        },
        "id": "yCL2BOCdypP5",
        "outputId": "f7a642bb-baa8-4af3-d931-36f84001a919"
      },
      "execution_count": 50,
      "outputs": [
        {
          "output_type": "execute_result",
          "data": {
            "text/plain": [
              "   Probability Cutoff  AUC Score  Precision Score  Recall Score  \\\n",
              "0                 0.1   0.760652         0.660714      0.973684   \n",
              "1                 0.2   0.807018         0.720000      0.947368   \n",
              "2                 0.3   0.829574         0.760870      0.921053   \n",
              "3                 0.4   0.828321         0.772727      0.894737   \n",
              "4                 0.5   0.827068         0.785714      0.868421   \n",
              "5                 0.6   0.862782         0.846154      0.868421   \n",
              "6                 0.7   0.823308         0.833333      0.789474   \n",
              "7                 0.8   0.822055         0.852941      0.763158   \n",
              "8                 0.9   0.803885         0.960000      0.631579   \n",
              "\n",
              "   Accuracy Score  f1-score  \n",
              "0          0.7500  0.787234  \n",
              "1          0.8000  0.818182  \n",
              "2          0.8250  0.833333  \n",
              "3          0.8250  0.829268  \n",
              "4          0.8250  0.825000  \n",
              "5          0.8625  0.857143  \n",
              "6          0.8250  0.810811  \n",
              "7          0.8250  0.805556  \n",
              "8          0.8125  0.761905  "
            ],
            "text/html": [
              "\n",
              "  <div id=\"df-64de1404-fa5a-4283-ab62-1493eff9be3d\">\n",
              "    <div class=\"colab-df-container\">\n",
              "      <div>\n",
              "<style scoped>\n",
              "    .dataframe tbody tr th:only-of-type {\n",
              "        vertical-align: middle;\n",
              "    }\n",
              "\n",
              "    .dataframe tbody tr th {\n",
              "        vertical-align: top;\n",
              "    }\n",
              "\n",
              "    .dataframe thead th {\n",
              "        text-align: right;\n",
              "    }\n",
              "</style>\n",
              "<table border=\"1\" class=\"dataframe\">\n",
              "  <thead>\n",
              "    <tr style=\"text-align: right;\">\n",
              "      <th></th>\n",
              "      <th>Probability Cutoff</th>\n",
              "      <th>AUC Score</th>\n",
              "      <th>Precision Score</th>\n",
              "      <th>Recall Score</th>\n",
              "      <th>Accuracy Score</th>\n",
              "      <th>f1-score</th>\n",
              "    </tr>\n",
              "  </thead>\n",
              "  <tbody>\n",
              "    <tr>\n",
              "      <th>0</th>\n",
              "      <td>0.1</td>\n",
              "      <td>0.760652</td>\n",
              "      <td>0.660714</td>\n",
              "      <td>0.973684</td>\n",
              "      <td>0.7500</td>\n",
              "      <td>0.787234</td>\n",
              "    </tr>\n",
              "    <tr>\n",
              "      <th>1</th>\n",
              "      <td>0.2</td>\n",
              "      <td>0.807018</td>\n",
              "      <td>0.720000</td>\n",
              "      <td>0.947368</td>\n",
              "      <td>0.8000</td>\n",
              "      <td>0.818182</td>\n",
              "    </tr>\n",
              "    <tr>\n",
              "      <th>2</th>\n",
              "      <td>0.3</td>\n",
              "      <td>0.829574</td>\n",
              "      <td>0.760870</td>\n",
              "      <td>0.921053</td>\n",
              "      <td>0.8250</td>\n",
              "      <td>0.833333</td>\n",
              "    </tr>\n",
              "    <tr>\n",
              "      <th>3</th>\n",
              "      <td>0.4</td>\n",
              "      <td>0.828321</td>\n",
              "      <td>0.772727</td>\n",
              "      <td>0.894737</td>\n",
              "      <td>0.8250</td>\n",
              "      <td>0.829268</td>\n",
              "    </tr>\n",
              "    <tr>\n",
              "      <th>4</th>\n",
              "      <td>0.5</td>\n",
              "      <td>0.827068</td>\n",
              "      <td>0.785714</td>\n",
              "      <td>0.868421</td>\n",
              "      <td>0.8250</td>\n",
              "      <td>0.825000</td>\n",
              "    </tr>\n",
              "    <tr>\n",
              "      <th>5</th>\n",
              "      <td>0.6</td>\n",
              "      <td>0.862782</td>\n",
              "      <td>0.846154</td>\n",
              "      <td>0.868421</td>\n",
              "      <td>0.8625</td>\n",
              "      <td>0.857143</td>\n",
              "    </tr>\n",
              "    <tr>\n",
              "      <th>6</th>\n",
              "      <td>0.7</td>\n",
              "      <td>0.823308</td>\n",
              "      <td>0.833333</td>\n",
              "      <td>0.789474</td>\n",
              "      <td>0.8250</td>\n",
              "      <td>0.810811</td>\n",
              "    </tr>\n",
              "    <tr>\n",
              "      <th>7</th>\n",
              "      <td>0.8</td>\n",
              "      <td>0.822055</td>\n",
              "      <td>0.852941</td>\n",
              "      <td>0.763158</td>\n",
              "      <td>0.8250</td>\n",
              "      <td>0.805556</td>\n",
              "    </tr>\n",
              "    <tr>\n",
              "      <th>8</th>\n",
              "      <td>0.9</td>\n",
              "      <td>0.803885</td>\n",
              "      <td>0.960000</td>\n",
              "      <td>0.631579</td>\n",
              "      <td>0.8125</td>\n",
              "      <td>0.761905</td>\n",
              "    </tr>\n",
              "  </tbody>\n",
              "</table>\n",
              "</div>\n",
              "      <button class=\"colab-df-convert\" onclick=\"convertToInteractive('df-64de1404-fa5a-4283-ab62-1493eff9be3d')\"\n",
              "              title=\"Convert this dataframe to an interactive table.\"\n",
              "              style=\"display:none;\">\n",
              "        \n",
              "  <svg xmlns=\"http://www.w3.org/2000/svg\" height=\"24px\"viewBox=\"0 0 24 24\"\n",
              "       width=\"24px\">\n",
              "    <path d=\"M0 0h24v24H0V0z\" fill=\"none\"/>\n",
              "    <path d=\"M18.56 5.44l.94 2.06.94-2.06 2.06-.94-2.06-.94-.94-2.06-.94 2.06-2.06.94zm-11 1L8.5 8.5l.94-2.06 2.06-.94-2.06-.94L8.5 2.5l-.94 2.06-2.06.94zm10 10l.94 2.06.94-2.06 2.06-.94-2.06-.94-.94-2.06-.94 2.06-2.06.94z\"/><path d=\"M17.41 7.96l-1.37-1.37c-.4-.4-.92-.59-1.43-.59-.52 0-1.04.2-1.43.59L10.3 9.45l-7.72 7.72c-.78.78-.78 2.05 0 2.83L4 21.41c.39.39.9.59 1.41.59.51 0 1.02-.2 1.41-.59l7.78-7.78 2.81-2.81c.8-.78.8-2.07 0-2.86zM5.41 20L4 18.59l7.72-7.72 1.47 1.35L5.41 20z\"/>\n",
              "  </svg>\n",
              "      </button>\n",
              "      \n",
              "  <style>\n",
              "    .colab-df-container {\n",
              "      display:flex;\n",
              "      flex-wrap:wrap;\n",
              "      gap: 12px;\n",
              "    }\n",
              "\n",
              "    .colab-df-convert {\n",
              "      background-color: #E8F0FE;\n",
              "      border: none;\n",
              "      border-radius: 50%;\n",
              "      cursor: pointer;\n",
              "      display: none;\n",
              "      fill: #1967D2;\n",
              "      height: 32px;\n",
              "      padding: 0 0 0 0;\n",
              "      width: 32px;\n",
              "    }\n",
              "\n",
              "    .colab-df-convert:hover {\n",
              "      background-color: #E2EBFA;\n",
              "      box-shadow: 0px 1px 2px rgba(60, 64, 67, 0.3), 0px 1px 3px 1px rgba(60, 64, 67, 0.15);\n",
              "      fill: #174EA6;\n",
              "    }\n",
              "\n",
              "    [theme=dark] .colab-df-convert {\n",
              "      background-color: #3B4455;\n",
              "      fill: #D2E3FC;\n",
              "    }\n",
              "\n",
              "    [theme=dark] .colab-df-convert:hover {\n",
              "      background-color: #434B5C;\n",
              "      box-shadow: 0px 1px 3px 1px rgba(0, 0, 0, 0.15);\n",
              "      filter: drop-shadow(0px 1px 2px rgba(0, 0, 0, 0.3));\n",
              "      fill: #FFFFFF;\n",
              "    }\n",
              "  </style>\n",
              "\n",
              "      <script>\n",
              "        const buttonEl =\n",
              "          document.querySelector('#df-64de1404-fa5a-4283-ab62-1493eff9be3d button.colab-df-convert');\n",
              "        buttonEl.style.display =\n",
              "          google.colab.kernel.accessAllowed ? 'block' : 'none';\n",
              "\n",
              "        async function convertToInteractive(key) {\n",
              "          const element = document.querySelector('#df-64de1404-fa5a-4283-ab62-1493eff9be3d');\n",
              "          const dataTable =\n",
              "            await google.colab.kernel.invokeFunction('convertToInteractive',\n",
              "                                                     [key], {});\n",
              "          if (!dataTable) return;\n",
              "\n",
              "          const docLinkHtml = 'Like what you see? Visit the ' +\n",
              "            '<a target=\"_blank\" href=https://colab.research.google.com/notebooks/data_table.ipynb>data table notebook</a>'\n",
              "            + ' to learn more about interactive tables.';\n",
              "          element.innerHTML = '';\n",
              "          dataTable['output_type'] = 'display_data';\n",
              "          await google.colab.output.renderOutput(dataTable, element);\n",
              "          const docLink = document.createElement('div');\n",
              "          docLink.innerHTML = docLinkHtml;\n",
              "          element.appendChild(docLink);\n",
              "        }\n",
              "      </script>\n",
              "    </div>\n",
              "  </div>\n",
              "  "
            ]
          },
          "metadata": {},
          "execution_count": 50
        }
      ]
    },
    {
      "cell_type": "markdown",
      "source": [
        "1. Best results are obtained for cutoff value of 0.6\n",
        "2. We can start using cutoff =0.6 instead of cutoff = 0.5"
      ],
      "metadata": {
        "id": "RdFqciT18i1W"
      }
    },
    {
      "cell_type": "markdown",
      "source": [
        "<a id=\"youden\"></a>\n",
        "### Youden's Index"
      ],
      "metadata": {
        "id": "mmR_5hUucDA_"
      }
    },
    {
      "cell_type": "markdown",
      "source": [
        "Youden's Index is the classification cut-off probability for which the (Sensitivity + Specificity - 1) is maximized.<br>\n",
        "\n",
        "<p style='text-indent:12em'> <strong>Youden's Index = max(TPR + TNR - 1) = max(TPR - FPR) </strong> </p>\n",
        "\n",
        "i.e. select the cut-off probability for which the (TPR - FPR) is maximum."
      ],
      "metadata": {
        "id": "tDcxkh6kcLp4"
      }
    },
    {
      "cell_type": "code",
      "source": [
        "youdens_table = pd.DataFrame({'TPR': tpr,\n",
        "                             'FPR': fpr,\n",
        "                             'Threshold': threshold})\n",
        "\n",
        "\n",
        "# calculate the difference between TPR and FPR for each threshold and store the values in a new column 'Difference'\n",
        "youdens_table['Difference'] = youdens_table.TPR - youdens_table.FPR\n",
        "\n",
        "\n",
        "youdens_table = youdens_table.sort_values('Difference', ascending = False).reset_index(drop = True)\n",
        "\n",
        "# print the first five observations\n",
        "youdens_table.head()"
      ],
      "metadata": {
        "colab": {
          "base_uri": "https://localhost:8080/",
          "height": 206
        },
        "id": "F2tiEketypJo",
        "outputId": "12e1f92c-3563-42fc-83cc-5e4609228388"
      },
      "execution_count": 52,
      "outputs": [
        {
          "output_type": "execute_result",
          "data": {
            "text/plain": [
              "        TPR       FPR  Threshold  Difference\n",
              "0  0.868421  0.142857   0.618555    0.725564\n",
              "1  0.763158  0.047619   0.841912    0.715539\n",
              "2  0.710526  0.023810   0.860956    0.686717\n",
              "3  0.921053  0.238095   0.380299    0.682957\n",
              "4  0.710526  0.047619   0.858806    0.662907"
            ],
            "text/html": [
              "\n",
              "  <div id=\"df-c8192659-93d9-45b2-8378-e0379b237a09\">\n",
              "    <div class=\"colab-df-container\">\n",
              "      <div>\n",
              "<style scoped>\n",
              "    .dataframe tbody tr th:only-of-type {\n",
              "        vertical-align: middle;\n",
              "    }\n",
              "\n",
              "    .dataframe tbody tr th {\n",
              "        vertical-align: top;\n",
              "    }\n",
              "\n",
              "    .dataframe thead th {\n",
              "        text-align: right;\n",
              "    }\n",
              "</style>\n",
              "<table border=\"1\" class=\"dataframe\">\n",
              "  <thead>\n",
              "    <tr style=\"text-align: right;\">\n",
              "      <th></th>\n",
              "      <th>TPR</th>\n",
              "      <th>FPR</th>\n",
              "      <th>Threshold</th>\n",
              "      <th>Difference</th>\n",
              "    </tr>\n",
              "  </thead>\n",
              "  <tbody>\n",
              "    <tr>\n",
              "      <th>0</th>\n",
              "      <td>0.868421</td>\n",
              "      <td>0.142857</td>\n",
              "      <td>0.618555</td>\n",
              "      <td>0.725564</td>\n",
              "    </tr>\n",
              "    <tr>\n",
              "      <th>1</th>\n",
              "      <td>0.763158</td>\n",
              "      <td>0.047619</td>\n",
              "      <td>0.841912</td>\n",
              "      <td>0.715539</td>\n",
              "    </tr>\n",
              "    <tr>\n",
              "      <th>2</th>\n",
              "      <td>0.710526</td>\n",
              "      <td>0.023810</td>\n",
              "      <td>0.860956</td>\n",
              "      <td>0.686717</td>\n",
              "    </tr>\n",
              "    <tr>\n",
              "      <th>3</th>\n",
              "      <td>0.921053</td>\n",
              "      <td>0.238095</td>\n",
              "      <td>0.380299</td>\n",
              "      <td>0.682957</td>\n",
              "    </tr>\n",
              "    <tr>\n",
              "      <th>4</th>\n",
              "      <td>0.710526</td>\n",
              "      <td>0.047619</td>\n",
              "      <td>0.858806</td>\n",
              "      <td>0.662907</td>\n",
              "    </tr>\n",
              "  </tbody>\n",
              "</table>\n",
              "</div>\n",
              "      <button class=\"colab-df-convert\" onclick=\"convertToInteractive('df-c8192659-93d9-45b2-8378-e0379b237a09')\"\n",
              "              title=\"Convert this dataframe to an interactive table.\"\n",
              "              style=\"display:none;\">\n",
              "        \n",
              "  <svg xmlns=\"http://www.w3.org/2000/svg\" height=\"24px\"viewBox=\"0 0 24 24\"\n",
              "       width=\"24px\">\n",
              "    <path d=\"M0 0h24v24H0V0z\" fill=\"none\"/>\n",
              "    <path d=\"M18.56 5.44l.94 2.06.94-2.06 2.06-.94-2.06-.94-.94-2.06-.94 2.06-2.06.94zm-11 1L8.5 8.5l.94-2.06 2.06-.94-2.06-.94L8.5 2.5l-.94 2.06-2.06.94zm10 10l.94 2.06.94-2.06 2.06-.94-2.06-.94-.94-2.06-.94 2.06-2.06.94z\"/><path d=\"M17.41 7.96l-1.37-1.37c-.4-.4-.92-.59-1.43-.59-.52 0-1.04.2-1.43.59L10.3 9.45l-7.72 7.72c-.78.78-.78 2.05 0 2.83L4 21.41c.39.39.9.59 1.41.59.51 0 1.02-.2 1.41-.59l7.78-7.78 2.81-2.81c.8-.78.8-2.07 0-2.86zM5.41 20L4 18.59l7.72-7.72 1.47 1.35L5.41 20z\"/>\n",
              "  </svg>\n",
              "      </button>\n",
              "      \n",
              "  <style>\n",
              "    .colab-df-container {\n",
              "      display:flex;\n",
              "      flex-wrap:wrap;\n",
              "      gap: 12px;\n",
              "    }\n",
              "\n",
              "    .colab-df-convert {\n",
              "      background-color: #E8F0FE;\n",
              "      border: none;\n",
              "      border-radius: 50%;\n",
              "      cursor: pointer;\n",
              "      display: none;\n",
              "      fill: #1967D2;\n",
              "      height: 32px;\n",
              "      padding: 0 0 0 0;\n",
              "      width: 32px;\n",
              "    }\n",
              "\n",
              "    .colab-df-convert:hover {\n",
              "      background-color: #E2EBFA;\n",
              "      box-shadow: 0px 1px 2px rgba(60, 64, 67, 0.3), 0px 1px 3px 1px rgba(60, 64, 67, 0.15);\n",
              "      fill: #174EA6;\n",
              "    }\n",
              "\n",
              "    [theme=dark] .colab-df-convert {\n",
              "      background-color: #3B4455;\n",
              "      fill: #D2E3FC;\n",
              "    }\n",
              "\n",
              "    [theme=dark] .colab-df-convert:hover {\n",
              "      background-color: #434B5C;\n",
              "      box-shadow: 0px 1px 3px 1px rgba(0, 0, 0, 0.15);\n",
              "      filter: drop-shadow(0px 1px 2px rgba(0, 0, 0, 0.3));\n",
              "      fill: #FFFFFF;\n",
              "    }\n",
              "  </style>\n",
              "\n",
              "      <script>\n",
              "        const buttonEl =\n",
              "          document.querySelector('#df-c8192659-93d9-45b2-8378-e0379b237a09 button.colab-df-convert');\n",
              "        buttonEl.style.display =\n",
              "          google.colab.kernel.accessAllowed ? 'block' : 'none';\n",
              "\n",
              "        async function convertToInteractive(key) {\n",
              "          const element = document.querySelector('#df-c8192659-93d9-45b2-8378-e0379b237a09');\n",
              "          const dataTable =\n",
              "            await google.colab.kernel.invokeFunction('convertToInteractive',\n",
              "                                                     [key], {});\n",
              "          if (!dataTable) return;\n",
              "\n",
              "          const docLinkHtml = 'Like what you see? Visit the ' +\n",
              "            '<a target=\"_blank\" href=https://colab.research.google.com/notebooks/data_table.ipynb>data table notebook</a>'\n",
              "            + ' to learn more about interactive tables.';\n",
              "          element.innerHTML = '';\n",
              "          dataTable['output_type'] = 'display_data';\n",
              "          await google.colab.output.renderOutput(dataTable, element);\n",
              "          const docLink = document.createElement('div');\n",
              "          docLink.innerHTML = docLinkHtml;\n",
              "          element.appendChild(docLink);\n",
              "        }\n",
              "      </script>\n",
              "    </div>\n",
              "  </div>\n",
              "  "
            ]
          },
          "metadata": {},
          "execution_count": 52
        }
      ]
    },
    {
      "cell_type": "code",
      "source": [
        "# convert probabilities to 0 and 1 using 'if_else'\n",
        "y_pred_youden = [ 0 if x < 0.62 else 1 for x in ypred_prob]"
      ],
      "metadata": {
        "id": "2b7mE_2iypGU"
      },
      "execution_count": 53,
      "outputs": []
    },
    {
      "cell_type": "code",
      "source": [
        "acc_table = classification_report(ytest, y_pred_youden)\n",
        "\n",
        "# print the table\n",
        "print(acc_table)"
      ],
      "metadata": {
        "colab": {
          "base_uri": "https://localhost:8080/"
        },
        "id": "8PlFbARhcgsT",
        "outputId": "55b5302b-4bcf-45cd-ec1d-aff4e1e1c430"
      },
      "execution_count": 54,
      "outputs": [
        {
          "output_type": "stream",
          "name": "stdout",
          "text": [
            "              precision    recall  f1-score   support\n",
            "\n",
            "           0       0.86      0.86      0.86        42\n",
            "           1       0.84      0.84      0.84        38\n",
            "\n",
            "    accuracy                           0.85        80\n",
            "   macro avg       0.85      0.85      0.85        80\n",
            "weighted avg       0.85      0.85      0.85        80\n",
            "\n"
          ]
        }
      ]
    },
    {
      "cell_type": "code",
      "source": [
        "accuracy_log    =accuracy_score(ytest,y_pred_youden)\n",
        "f1score_log     =f1_score(ytest,y_pred_youden)\n",
        "recall_log      =recall_score(ytest,y_pred_youden)\n",
        "precision_log   =precision_score(ytest,y_pred_youden)\n",
        "auc_log         = roc_auc_score(ytest,y_pred_youden)"
      ],
      "metadata": {
        "id": "2pIfHGAvlVUr"
      },
      "execution_count": 55,
      "outputs": []
    },
    {
      "cell_type": "code",
      "source": [
        "cols_per = [\"Model\", \"Accuracy\",\"Recall\",\"Precision\",\"F1 Score\",'AUC']\n",
        "df_cols_per = pd.DataFrame(columns = cols_per)\n",
        "\n",
        "\n",
        "model_per = pd.Series({  \"Model\": \"LogisticReg-Youden\",\n",
        "                        \"Accuracy\":accuracy_log,\n",
        "                        \"Recall\":recall_log,\n",
        "                        \"Precision\":precision_log,\n",
        "                        \"F1 Score\":f1score_log,\n",
        "                        \"AUC\":auc_log\n",
        "                        })\n",
        "\n",
        "result_per = df_cols_per.append(model_per, ignore_index = True)\n",
        "\n",
        "result_per"
      ],
      "metadata": {
        "colab": {
          "base_uri": "https://localhost:8080/",
          "height": 135
        },
        "id": "i0he0ttvcgSo",
        "outputId": "657e4a17-f89a-4103-858a-db4a314d637d"
      },
      "execution_count": 56,
      "outputs": [
        {
          "output_type": "stream",
          "name": "stderr",
          "text": [
            "<ipython-input-56-a4e958b77898>:13: FutureWarning: The frame.append method is deprecated and will be removed from pandas in a future version. Use pandas.concat instead.\n",
            "  result_per = df_cols_per.append(model_per, ignore_index = True)\n"
          ]
        },
        {
          "output_type": "execute_result",
          "data": {
            "text/plain": [
              "                Model  Accuracy    Recall  Precision  F1 Score       AUC\n",
              "0  LogisticReg-Youden      0.85  0.842105   0.842105  0.842105  0.849624"
            ],
            "text/html": [
              "\n",
              "  <div id=\"df-a06f59f7-dc04-4a45-9ad5-ba23e3ccbf44\">\n",
              "    <div class=\"colab-df-container\">\n",
              "      <div>\n",
              "<style scoped>\n",
              "    .dataframe tbody tr th:only-of-type {\n",
              "        vertical-align: middle;\n",
              "    }\n",
              "\n",
              "    .dataframe tbody tr th {\n",
              "        vertical-align: top;\n",
              "    }\n",
              "\n",
              "    .dataframe thead th {\n",
              "        text-align: right;\n",
              "    }\n",
              "</style>\n",
              "<table border=\"1\" class=\"dataframe\">\n",
              "  <thead>\n",
              "    <tr style=\"text-align: right;\">\n",
              "      <th></th>\n",
              "      <th>Model</th>\n",
              "      <th>Accuracy</th>\n",
              "      <th>Recall</th>\n",
              "      <th>Precision</th>\n",
              "      <th>F1 Score</th>\n",
              "      <th>AUC</th>\n",
              "    </tr>\n",
              "  </thead>\n",
              "  <tbody>\n",
              "    <tr>\n",
              "      <th>0</th>\n",
              "      <td>LogisticReg-Youden</td>\n",
              "      <td>0.85</td>\n",
              "      <td>0.842105</td>\n",
              "      <td>0.842105</td>\n",
              "      <td>0.842105</td>\n",
              "      <td>0.849624</td>\n",
              "    </tr>\n",
              "  </tbody>\n",
              "</table>\n",
              "</div>\n",
              "      <button class=\"colab-df-convert\" onclick=\"convertToInteractive('df-a06f59f7-dc04-4a45-9ad5-ba23e3ccbf44')\"\n",
              "              title=\"Convert this dataframe to an interactive table.\"\n",
              "              style=\"display:none;\">\n",
              "        \n",
              "  <svg xmlns=\"http://www.w3.org/2000/svg\" height=\"24px\"viewBox=\"0 0 24 24\"\n",
              "       width=\"24px\">\n",
              "    <path d=\"M0 0h24v24H0V0z\" fill=\"none\"/>\n",
              "    <path d=\"M18.56 5.44l.94 2.06.94-2.06 2.06-.94-2.06-.94-.94-2.06-.94 2.06-2.06.94zm-11 1L8.5 8.5l.94-2.06 2.06-.94-2.06-.94L8.5 2.5l-.94 2.06-2.06.94zm10 10l.94 2.06.94-2.06 2.06-.94-2.06-.94-.94-2.06-.94 2.06-2.06.94z\"/><path d=\"M17.41 7.96l-1.37-1.37c-.4-.4-.92-.59-1.43-.59-.52 0-1.04.2-1.43.59L10.3 9.45l-7.72 7.72c-.78.78-.78 2.05 0 2.83L4 21.41c.39.39.9.59 1.41.59.51 0 1.02-.2 1.41-.59l7.78-7.78 2.81-2.81c.8-.78.8-2.07 0-2.86zM5.41 20L4 18.59l7.72-7.72 1.47 1.35L5.41 20z\"/>\n",
              "  </svg>\n",
              "      </button>\n",
              "      \n",
              "  <style>\n",
              "    .colab-df-container {\n",
              "      display:flex;\n",
              "      flex-wrap:wrap;\n",
              "      gap: 12px;\n",
              "    }\n",
              "\n",
              "    .colab-df-convert {\n",
              "      background-color: #E8F0FE;\n",
              "      border: none;\n",
              "      border-radius: 50%;\n",
              "      cursor: pointer;\n",
              "      display: none;\n",
              "      fill: #1967D2;\n",
              "      height: 32px;\n",
              "      padding: 0 0 0 0;\n",
              "      width: 32px;\n",
              "    }\n",
              "\n",
              "    .colab-df-convert:hover {\n",
              "      background-color: #E2EBFA;\n",
              "      box-shadow: 0px 1px 2px rgba(60, 64, 67, 0.3), 0px 1px 3px 1px rgba(60, 64, 67, 0.15);\n",
              "      fill: #174EA6;\n",
              "    }\n",
              "\n",
              "    [theme=dark] .colab-df-convert {\n",
              "      background-color: #3B4455;\n",
              "      fill: #D2E3FC;\n",
              "    }\n",
              "\n",
              "    [theme=dark] .colab-df-convert:hover {\n",
              "      background-color: #434B5C;\n",
              "      box-shadow: 0px 1px 3px 1px rgba(0, 0, 0, 0.15);\n",
              "      filter: drop-shadow(0px 1px 2px rgba(0, 0, 0, 0.3));\n",
              "      fill: #FFFFFF;\n",
              "    }\n",
              "  </style>\n",
              "\n",
              "      <script>\n",
              "        const buttonEl =\n",
              "          document.querySelector('#df-a06f59f7-dc04-4a45-9ad5-ba23e3ccbf44 button.colab-df-convert');\n",
              "        buttonEl.style.display =\n",
              "          google.colab.kernel.accessAllowed ? 'block' : 'none';\n",
              "\n",
              "        async function convertToInteractive(key) {\n",
              "          const element = document.querySelector('#df-a06f59f7-dc04-4a45-9ad5-ba23e3ccbf44');\n",
              "          const dataTable =\n",
              "            await google.colab.kernel.invokeFunction('convertToInteractive',\n",
              "                                                     [key], {});\n",
              "          if (!dataTable) return;\n",
              "\n",
              "          const docLinkHtml = 'Like what you see? Visit the ' +\n",
              "            '<a target=\"_blank\" href=https://colab.research.google.com/notebooks/data_table.ipynb>data table notebook</a>'\n",
              "            + ' to learn more about interactive tables.';\n",
              "          element.innerHTML = '';\n",
              "          dataTable['output_type'] = 'display_data';\n",
              "          await google.colab.output.renderOutput(dataTable, element);\n",
              "          const docLink = document.createElement('div');\n",
              "          docLink.innerHTML = docLinkHtml;\n",
              "          element.appendChild(docLink);\n",
              "        }\n",
              "      </script>\n",
              "    </div>\n",
              "  </div>\n",
              "  "
            ]
          },
          "metadata": {},
          "execution_count": 56
        }
      ]
    },
    {
      "cell_type": "code",
      "source": [],
      "metadata": {
        "id": "bfkCk71dcf3v"
      },
      "execution_count": 95,
      "outputs": []
    },
    {
      "cell_type": "code",
      "source": [],
      "metadata": {
        "id": "QoUgEtHFypCt"
      },
      "execution_count": 95,
      "outputs": []
    },
    {
      "cell_type": "markdown",
      "source": [
        "**SKLEARN - LOGISTIC REGRESSION**"
      ],
      "metadata": {
        "id": "J8cjzVeigxa3"
      }
    },
    {
      "cell_type": "markdown",
      "source": [
        "There are no parameters in logistic regression"
      ],
      "metadata": {
        "id": "lgBE7j2WhIzn"
      }
    },
    {
      "cell_type": "code",
      "source": [
        "import warnings\n",
        "warnings.filterwarnings('ignore')"
      ],
      "metadata": {
        "id": "B00YEBIuiD7P"
      },
      "execution_count": 57,
      "outputs": []
    },
    {
      "cell_type": "code",
      "source": [
        "from sklearn.linear_model import LogisticRegression"
      ],
      "metadata": {
        "id": "QvTgyup8g18m"
      },
      "execution_count": 58,
      "outputs": []
    },
    {
      "cell_type": "code",
      "source": [
        "from sklearn.model_selection import train_test_split\n",
        "xtrain,xtest,ytrain,ytest = train_test_split(X,y,\n",
        "                                             test_size=0.20,\n",
        "                                             random_state=10)"
      ],
      "metadata": {
        "id": "X0icTMdClfOu"
      },
      "execution_count": 59,
      "outputs": []
    },
    {
      "cell_type": "code",
      "source": [
        "lr=LogisticRegression()\n",
        "lr.fit(xtrain,ytrain)\n",
        "\n",
        "ypred_lr_train = lr.predict(xtrain)\n",
        "ypred_lr= lr.predict(xtest)\n",
        "\n",
        "ypred_lr"
      ],
      "metadata": {
        "colab": {
          "base_uri": "https://localhost:8080/"
        },
        "id": "oPZdNAibhMdn",
        "outputId": "6d0e876b-e37d-4557-c40f-a6c482de5e19"
      },
      "execution_count": 60,
      "outputs": [
        {
          "output_type": "execute_result",
          "data": {
            "text/plain": [
              "array([0, 1, 0, 0, 0, 0, 1, 1, 1, 1, 1, 1, 0, 0, 1, 1, 0, 1, 1, 1, 1, 1,\n",
              "       1, 1, 0, 0, 0, 1, 0, 1, 1, 0, 1, 1, 0, 1, 0, 0, 0, 0, 1, 1, 0, 0,\n",
              "       0, 1, 0, 0, 0, 1, 1, 0, 1, 1, 0, 0, 0, 0, 0, 0, 0, 1, 0, 1, 0, 1,\n",
              "       1, 0, 1, 1, 1, 1, 1, 0, 0, 0, 1, 1, 0, 0])"
            ]
          },
          "metadata": {},
          "execution_count": 60
        }
      ]
    },
    {
      "cell_type": "markdown",
      "source": [
        "**Training Performance**"
      ],
      "metadata": {
        "id": "FOwVCVBdKoyX"
      }
    },
    {
      "cell_type": "code",
      "source": [
        "print(accuracy_score(ytrain,ypred_lr_train))\n",
        "print(confusion_matrix(ytrain,ypred_lr_train))\n",
        "print(classification_report(ytrain,ypred_lr_train))"
      ],
      "metadata": {
        "colab": {
          "base_uri": "https://localhost:8080/"
        },
        "id": "u6xPashTKoWv",
        "outputId": "b1d85c92-402c-47df-9d03-7feade8c404a"
      },
      "execution_count": 61,
      "outputs": [
        {
          "output_type": "stream",
          "name": "stdout",
          "text": [
            "0.8625\n",
            "[[159  19]\n",
            " [ 25 117]]\n",
            "              precision    recall  f1-score   support\n",
            "\n",
            "           0       0.86      0.89      0.88       178\n",
            "           1       0.86      0.82      0.84       142\n",
            "\n",
            "    accuracy                           0.86       320\n",
            "   macro avg       0.86      0.86      0.86       320\n",
            "weighted avg       0.86      0.86      0.86       320\n",
            "\n"
          ]
        }
      ]
    },
    {
      "cell_type": "markdown",
      "source": [
        "**Testing Performance**"
      ],
      "metadata": {
        "id": "XLL2ifNaKlEA"
      }
    },
    {
      "cell_type": "code",
      "source": [
        "print(accuracy_score(ytest,ypred_lr))\n",
        "print(confusion_matrix(ytest,ypred_lr))\n",
        "print(classification_report(ytest,ypred_lr))"
      ],
      "metadata": {
        "colab": {
          "base_uri": "https://localhost:8080/"
        },
        "id": "xuIXUBmZimMu",
        "outputId": "752256cc-15e0-44cb-d64c-143be9c9c3bb"
      },
      "execution_count": 62,
      "outputs": [
        {
          "output_type": "stream",
          "name": "stdout",
          "text": [
            "0.775\n",
            "[[32 10]\n",
            " [ 8 30]]\n",
            "              precision    recall  f1-score   support\n",
            "\n",
            "           0       0.80      0.76      0.78        42\n",
            "           1       0.75      0.79      0.77        38\n",
            "\n",
            "    accuracy                           0.78        80\n",
            "   macro avg       0.78      0.78      0.77        80\n",
            "weighted avg       0.78      0.78      0.78        80\n",
            "\n"
          ]
        }
      ]
    },
    {
      "cell_type": "markdown",
      "source": [
        "**1. There se**ems to be large difference between Train and Test Data"
      ],
      "metadata": {
        "id": "Nf0Q3oIjLOsw"
      }
    },
    {
      "cell_type": "markdown",
      "source": [
        "### Summarize the logistic Regression"
      ],
      "metadata": {
        "id": "svvdzLnqLiI6"
      }
    },
    {
      "cell_type": "code",
      "source": [
        "accuracy_lr    =accuracy_score(ytest,ypred_lr)\n",
        "f1score_lr     =f1_score(ytest,ypred_lr)\n",
        "recall_lr      =recall_score(ytest,ypred_lr)\n",
        "precision_lr   =precision_score(ytest,ypred_lr)\n",
        "auc_lr         = roc_auc_score(ytest,ypred_lr)\n"
      ],
      "metadata": {
        "id": "wl20KqVkLoQH"
      },
      "execution_count": 63,
      "outputs": []
    },
    {
      "cell_type": "code",
      "source": [
        "cols_per = [\"Model\", \"Accuracy\",\"Recall\",\"Precision\",\"F1 Score\",'AUC']\n",
        "# df_cols_per = pd.DataFrame(columns = cols_per)\n",
        "\n",
        "\n",
        "model_per = pd.Series({  \"Model\": \"LogisticReg-Base\",\n",
        "                        \"Accuracy\":accuracy_lr,\n",
        "                        \"Recall\":recall_lr,\n",
        "                        \"Precision\":precision_lr,\n",
        "                        \"F1 Score\":f1score_lr,\n",
        "                        \"AUC\":auc_lr\n",
        "                        })\n",
        "\n",
        "result_per = result_per.append(model_per, ignore_index = True)\n",
        "\n",
        "result_per"
      ],
      "metadata": {
        "colab": {
          "base_uri": "https://localhost:8080/",
          "height": 112
        },
        "id": "0YYPLei9LoLJ",
        "outputId": "b2496cf8-517d-4806-b08d-48628be4314b"
      },
      "execution_count": 64,
      "outputs": [
        {
          "output_type": "execute_result",
          "data": {
            "text/plain": [
              "                Model  Accuracy    Recall  Precision  F1 Score       AUC\n",
              "0  LogisticReg-Youden     0.850  0.842105   0.842105  0.842105  0.849624\n",
              "1    LogisticReg-Base     0.775  0.789474   0.750000  0.769231  0.775689"
            ],
            "text/html": [
              "\n",
              "  <div id=\"df-33c53ad4-7c52-482b-b54e-594100b662e9\">\n",
              "    <div class=\"colab-df-container\">\n",
              "      <div>\n",
              "<style scoped>\n",
              "    .dataframe tbody tr th:only-of-type {\n",
              "        vertical-align: middle;\n",
              "    }\n",
              "\n",
              "    .dataframe tbody tr th {\n",
              "        vertical-align: top;\n",
              "    }\n",
              "\n",
              "    .dataframe thead th {\n",
              "        text-align: right;\n",
              "    }\n",
              "</style>\n",
              "<table border=\"1\" class=\"dataframe\">\n",
              "  <thead>\n",
              "    <tr style=\"text-align: right;\">\n",
              "      <th></th>\n",
              "      <th>Model</th>\n",
              "      <th>Accuracy</th>\n",
              "      <th>Recall</th>\n",
              "      <th>Precision</th>\n",
              "      <th>F1 Score</th>\n",
              "      <th>AUC</th>\n",
              "    </tr>\n",
              "  </thead>\n",
              "  <tbody>\n",
              "    <tr>\n",
              "      <th>0</th>\n",
              "      <td>LogisticReg-Youden</td>\n",
              "      <td>0.850</td>\n",
              "      <td>0.842105</td>\n",
              "      <td>0.842105</td>\n",
              "      <td>0.842105</td>\n",
              "      <td>0.849624</td>\n",
              "    </tr>\n",
              "    <tr>\n",
              "      <th>1</th>\n",
              "      <td>LogisticReg-Base</td>\n",
              "      <td>0.775</td>\n",
              "      <td>0.789474</td>\n",
              "      <td>0.750000</td>\n",
              "      <td>0.769231</td>\n",
              "      <td>0.775689</td>\n",
              "    </tr>\n",
              "  </tbody>\n",
              "</table>\n",
              "</div>\n",
              "      <button class=\"colab-df-convert\" onclick=\"convertToInteractive('df-33c53ad4-7c52-482b-b54e-594100b662e9')\"\n",
              "              title=\"Convert this dataframe to an interactive table.\"\n",
              "              style=\"display:none;\">\n",
              "        \n",
              "  <svg xmlns=\"http://www.w3.org/2000/svg\" height=\"24px\"viewBox=\"0 0 24 24\"\n",
              "       width=\"24px\">\n",
              "    <path d=\"M0 0h24v24H0V0z\" fill=\"none\"/>\n",
              "    <path d=\"M18.56 5.44l.94 2.06.94-2.06 2.06-.94-2.06-.94-.94-2.06-.94 2.06-2.06.94zm-11 1L8.5 8.5l.94-2.06 2.06-.94-2.06-.94L8.5 2.5l-.94 2.06-2.06.94zm10 10l.94 2.06.94-2.06 2.06-.94-2.06-.94-.94-2.06-.94 2.06-2.06.94z\"/><path d=\"M17.41 7.96l-1.37-1.37c-.4-.4-.92-.59-1.43-.59-.52 0-1.04.2-1.43.59L10.3 9.45l-7.72 7.72c-.78.78-.78 2.05 0 2.83L4 21.41c.39.39.9.59 1.41.59.51 0 1.02-.2 1.41-.59l7.78-7.78 2.81-2.81c.8-.78.8-2.07 0-2.86zM5.41 20L4 18.59l7.72-7.72 1.47 1.35L5.41 20z\"/>\n",
              "  </svg>\n",
              "      </button>\n",
              "      \n",
              "  <style>\n",
              "    .colab-df-container {\n",
              "      display:flex;\n",
              "      flex-wrap:wrap;\n",
              "      gap: 12px;\n",
              "    }\n",
              "\n",
              "    .colab-df-convert {\n",
              "      background-color: #E8F0FE;\n",
              "      border: none;\n",
              "      border-radius: 50%;\n",
              "      cursor: pointer;\n",
              "      display: none;\n",
              "      fill: #1967D2;\n",
              "      height: 32px;\n",
              "      padding: 0 0 0 0;\n",
              "      width: 32px;\n",
              "    }\n",
              "\n",
              "    .colab-df-convert:hover {\n",
              "      background-color: #E2EBFA;\n",
              "      box-shadow: 0px 1px 2px rgba(60, 64, 67, 0.3), 0px 1px 3px 1px rgba(60, 64, 67, 0.15);\n",
              "      fill: #174EA6;\n",
              "    }\n",
              "\n",
              "    [theme=dark] .colab-df-convert {\n",
              "      background-color: #3B4455;\n",
              "      fill: #D2E3FC;\n",
              "    }\n",
              "\n",
              "    [theme=dark] .colab-df-convert:hover {\n",
              "      background-color: #434B5C;\n",
              "      box-shadow: 0px 1px 3px 1px rgba(0, 0, 0, 0.15);\n",
              "      filter: drop-shadow(0px 1px 2px rgba(0, 0, 0, 0.3));\n",
              "      fill: #FFFFFF;\n",
              "    }\n",
              "  </style>\n",
              "\n",
              "      <script>\n",
              "        const buttonEl =\n",
              "          document.querySelector('#df-33c53ad4-7c52-482b-b54e-594100b662e9 button.colab-df-convert');\n",
              "        buttonEl.style.display =\n",
              "          google.colab.kernel.accessAllowed ? 'block' : 'none';\n",
              "\n",
              "        async function convertToInteractive(key) {\n",
              "          const element = document.querySelector('#df-33c53ad4-7c52-482b-b54e-594100b662e9');\n",
              "          const dataTable =\n",
              "            await google.colab.kernel.invokeFunction('convertToInteractive',\n",
              "                                                     [key], {});\n",
              "          if (!dataTable) return;\n",
              "\n",
              "          const docLinkHtml = 'Like what you see? Visit the ' +\n",
              "            '<a target=\"_blank\" href=https://colab.research.google.com/notebooks/data_table.ipynb>data table notebook</a>'\n",
              "            + ' to learn more about interactive tables.';\n",
              "          element.innerHTML = '';\n",
              "          dataTable['output_type'] = 'display_data';\n",
              "          await google.colab.output.renderOutput(dataTable, element);\n",
              "          const docLink = document.createElement('div');\n",
              "          docLink.innerHTML = docLinkHtml;\n",
              "          element.appendChild(docLink);\n",
              "        }\n",
              "      </script>\n",
              "    </div>\n",
              "  </div>\n",
              "  "
            ]
          },
          "metadata": {},
          "execution_count": 64
        }
      ]
    },
    {
      "cell_type": "code",
      "source": [],
      "metadata": {
        "id": "3XrHoG4_4XTV"
      },
      "execution_count": 103,
      "outputs": []
    }
  ]
}