{
 "cells": [
  {
   "cell_type": "markdown",
   "metadata": {},
   "source": [
    "<table align=\"center\" width=100%>\n",
    "    <tr>\n",
    "        <td width=\"15%\">\n",
    "            <img src=\"in_class.png\">\n",
    "        </td>\n",
    "        <td>\n",
    "            <div align=\"center\">\n",
    "                <font color=\"#21618C\" size=8px>\n",
    "                    <b> Inclass - Lab <br>(Week 1)\n",
    "                    </b>\n",
    "                </font>\n",
    "            </div>\n",
    "        </td>\n",
    "    </tr>\n",
    "</table>"
   ]
  },
  {
   "cell_type": "markdown",
   "metadata": {},
   "source": [
    "### About the data set (Heart disease data)\n",
    "\n",
    "The dataset contains information about patients. The aim is to find whether or not a patient has cardiovascular disease based on the several factors from the patient profile. <br> Attribute information: \n",
    "\n",
    "**male:** Gender of patient: male(1) or female(0) \n",
    "\n",
    "**age:** Age of patient\n",
    "\n",
    "**education:** Education level of patient: 1 = Some High School; 2 = High School or GED; 3 = Some College or Vocational School; 4 = college\n",
    "\n",
    "**currentSmoker:** Whether the patient is a smoker now: Yes(1) or No(0)\n",
    "\n",
    "**cigsPerDay:** Average number of cigarettes smoked by patient per day\n",
    "\n",
    "**BPMeds:** Whether the patient is on blood pressure medications: Yes(1) or No(0)\n",
    "\n",
    "**prevalentStroke:** If the patient has a history of heart stroke: Yes(1) or No(0)\n",
    "\n",
    "**prevalentHyp:** If the patient has a history of hypertension: Yes(1) or No(0)\n",
    "\n",
    "**diabetes:**  If the patient has a diabetes: Yes(1) or No(0)\n",
    "\n",
    "**totChol:** Average cholesterol levels in mg/dL\n",
    "\n",
    "**sysBP:** Average systolic blood pressure of patient\n",
    "\n",
    "**diaBP:** Average diastolic blood pressure of patient\n",
    "\n",
    "**BMI:** BMI of patient\n",
    "\n",
    "**heartRate:** Avergae heartrate of patient\n",
    "\n",
    "**glucose:** Average blood glucose levels of patient\n",
    "\n",
    "**CVD:** Does the patient have cardiovascular disease: Yes(1) or No(0)"
   ]
  },
  {
   "cell_type": "markdown",
   "metadata": {},
   "source": [
    "## Table of Content\n",
    "\n",
    "1. **[Logistic Regression Model](#logreg)**\n",
    "2. **[Model Evaluation Metrics](#mod_eval)**\n",
    "3. **[Performance Evaluation Metrics](#perf_eval)**\n",
    "4. **[Determining optimal threshold](#opt)**"
   ]
  },
  {
   "cell_type": "markdown",
   "metadata": {},
   "source": [
    "**Import the required libraries**"
   ]
  },
  {
   "cell_type": "code",
   "execution_count": 1,
   "metadata": {},
   "outputs": [],
   "source": [
    "# import 'Pandas' \n",
    "import pandas as pd \n",
    "\n",
    "# import 'Numpy' \n",
    "import numpy as np\n",
    "\n",
    "# import subpackage of Matplotlib\n",
    "import matplotlib.pyplot as plt\n",
    "from matplotlib.colors import ListedColormap\n",
    "\n",
    "# import 'Seaborn' \n",
    "import seaborn as sns\n",
    "\n",
    "# to suppress warnings \n",
    "from warnings import filterwarnings\n",
    "filterwarnings('ignore')\n",
    "\n",
    "# display all columns of the dataframe\n",
    "pd.options.display.max_columns = None\n",
    "\n",
    "# display all rows of the dataframe\n",
    "pd.options.display.max_rows = None\n",
    " \n",
    "# to display the float values upto 6 decimal places     \n",
    "pd.options.display.float_format = '{:.6f}'.format\n",
    "\n",
    "# import train-test split \n",
    "from sklearn.model_selection import train_test_split\n",
    "\n",
    "# import various functions from statsmodels\n",
    "import statsmodels\n",
    "import statsmodels.api as sm\n",
    "from statsmodels.stats.outliers_influence import variance_inflation_factor\n",
    "\n",
    "# import StandardScaler to perform scaling\n",
    "from sklearn.preprocessing import StandardScaler \n",
    "\n",
    "# import various functions from sklearn \n",
    "from sklearn import metrics\n",
    "from sklearn.linear_model import LogisticRegression\n",
    "from sklearn.metrics import classification_report\n",
    "from sklearn.metrics import cohen_kappa_score\n",
    "from sklearn.metrics import confusion_matrix\n",
    "from sklearn.metrics import roc_curve\n",
    "from sklearn.metrics import accuracy_score\n",
    "from sklearn.metrics import f1_score\n",
    "from sklearn.metrics import log_loss\n",
    "\n",
    "# import 'is_string_dtype' to check the string type \n",
    "from pandas.api.types import is_string_dtype\n",
    "\n",
    "# import function to perform feature selection\n",
    "from sklearn.feature_selection import RFE"
   ]
  },
  {
   "cell_type": "code",
   "execution_count": 2,
   "metadata": {},
   "outputs": [],
   "source": [
    "# set the plot size using 'rcParams'\n",
    "# once the plot size is set using 'rcParams', it sets the size of all the forthcoming plots in the file\n",
    "# pass width and height in inches to 'figure.figsize' \n",
    "plt.rcParams['figure.figsize'] = [10,5]"
   ]
  },
  {
   "cell_type": "markdown",
   "metadata": {},
   "source": [
    "#### Load the csv file"
   ]
  },
  {
   "cell_type": "code",
   "execution_count": 3,
   "metadata": {},
   "outputs": [
    {
     "data": {
      "text/html": [
       "<div>\n",
       "<style scoped>\n",
       "    .dataframe tbody tr th:only-of-type {\n",
       "        vertical-align: middle;\n",
       "    }\n",
       "\n",
       "    .dataframe tbody tr th {\n",
       "        vertical-align: top;\n",
       "    }\n",
       "\n",
       "    .dataframe thead th {\n",
       "        text-align: right;\n",
       "    }\n",
       "</style>\n",
       "<table border=\"1\" class=\"dataframe\">\n",
       "  <thead>\n",
       "    <tr style=\"text-align: right;\">\n",
       "      <th></th>\n",
       "      <th>male</th>\n",
       "      <th>age</th>\n",
       "      <th>education</th>\n",
       "      <th>currentSmoker</th>\n",
       "      <th>cigsPerDay</th>\n",
       "      <th>BPMeds</th>\n",
       "      <th>prevalentStroke</th>\n",
       "      <th>prevalentHyp</th>\n",
       "      <th>diabetes</th>\n",
       "      <th>totChol</th>\n",
       "      <th>sysBP</th>\n",
       "      <th>diaBP</th>\n",
       "      <th>BMI</th>\n",
       "      <th>heartRate</th>\n",
       "      <th>glucose</th>\n",
       "      <th>CVD</th>\n",
       "    </tr>\n",
       "  </thead>\n",
       "  <tbody>\n",
       "    <tr>\n",
       "      <th>0</th>\n",
       "      <td>1</td>\n",
       "      <td>39</td>\n",
       "      <td>4.000000</td>\n",
       "      <td>0</td>\n",
       "      <td>0.000000</td>\n",
       "      <td>0.000000</td>\n",
       "      <td>0</td>\n",
       "      <td>0</td>\n",
       "      <td>0</td>\n",
       "      <td>195.000000</td>\n",
       "      <td>106.000000</td>\n",
       "      <td>70.000000</td>\n",
       "      <td>26.970000</td>\n",
       "      <td>80.000000</td>\n",
       "      <td>77.000000</td>\n",
       "      <td>0</td>\n",
       "    </tr>\n",
       "    <tr>\n",
       "      <th>1</th>\n",
       "      <td>0</td>\n",
       "      <td>46</td>\n",
       "      <td>2.000000</td>\n",
       "      <td>0</td>\n",
       "      <td>0.000000</td>\n",
       "      <td>0.000000</td>\n",
       "      <td>0</td>\n",
       "      <td>0</td>\n",
       "      <td>0</td>\n",
       "      <td>250.000000</td>\n",
       "      <td>121.000000</td>\n",
       "      <td>81.000000</td>\n",
       "      <td>28.730000</td>\n",
       "      <td>95.000000</td>\n",
       "      <td>76.000000</td>\n",
       "      <td>0</td>\n",
       "    </tr>\n",
       "    <tr>\n",
       "      <th>2</th>\n",
       "      <td>1</td>\n",
       "      <td>48</td>\n",
       "      <td>1.000000</td>\n",
       "      <td>1</td>\n",
       "      <td>20.000000</td>\n",
       "      <td>0.000000</td>\n",
       "      <td>0</td>\n",
       "      <td>0</td>\n",
       "      <td>0</td>\n",
       "      <td>245.000000</td>\n",
       "      <td>127.500000</td>\n",
       "      <td>80.000000</td>\n",
       "      <td>25.340000</td>\n",
       "      <td>75.000000</td>\n",
       "      <td>70.000000</td>\n",
       "      <td>0</td>\n",
       "    </tr>\n",
       "    <tr>\n",
       "      <th>3</th>\n",
       "      <td>0</td>\n",
       "      <td>61</td>\n",
       "      <td>3.000000</td>\n",
       "      <td>1</td>\n",
       "      <td>30.000000</td>\n",
       "      <td>0.000000</td>\n",
       "      <td>0</td>\n",
       "      <td>1</td>\n",
       "      <td>0</td>\n",
       "      <td>225.000000</td>\n",
       "      <td>150.000000</td>\n",
       "      <td>95.000000</td>\n",
       "      <td>28.580000</td>\n",
       "      <td>65.000000</td>\n",
       "      <td>103.000000</td>\n",
       "      <td>1</td>\n",
       "    </tr>\n",
       "    <tr>\n",
       "      <th>4</th>\n",
       "      <td>0</td>\n",
       "      <td>46</td>\n",
       "      <td>3.000000</td>\n",
       "      <td>1</td>\n",
       "      <td>23.000000</td>\n",
       "      <td>0.000000</td>\n",
       "      <td>0</td>\n",
       "      <td>0</td>\n",
       "      <td>0</td>\n",
       "      <td>285.000000</td>\n",
       "      <td>130.000000</td>\n",
       "      <td>84.000000</td>\n",
       "      <td>23.100000</td>\n",
       "      <td>85.000000</td>\n",
       "      <td>85.000000</td>\n",
       "      <td>0</td>\n",
       "    </tr>\n",
       "  </tbody>\n",
       "</table>\n",
       "</div>"
      ],
      "text/plain": [
       "   male  age  education  currentSmoker  cigsPerDay   BPMeds  prevalentStroke  \\\n",
       "0     1   39   4.000000              0    0.000000 0.000000                0   \n",
       "1     0   46   2.000000              0    0.000000 0.000000                0   \n",
       "2     1   48   1.000000              1   20.000000 0.000000                0   \n",
       "3     0   61   3.000000              1   30.000000 0.000000                0   \n",
       "4     0   46   3.000000              1   23.000000 0.000000                0   \n",
       "\n",
       "   prevalentHyp  diabetes    totChol      sysBP     diaBP       BMI  \\\n",
       "0             0         0 195.000000 106.000000 70.000000 26.970000   \n",
       "1             0         0 250.000000 121.000000 81.000000 28.730000   \n",
       "2             0         0 245.000000 127.500000 80.000000 25.340000   \n",
       "3             1         0 225.000000 150.000000 95.000000 28.580000   \n",
       "4             0         0 285.000000 130.000000 84.000000 23.100000   \n",
       "\n",
       "   heartRate    glucose  CVD  \n",
       "0  80.000000  77.000000    0  \n",
       "1  95.000000  76.000000    0  \n",
       "2  75.000000  70.000000    0  \n",
       "3  65.000000 103.000000    1  \n",
       "4  85.000000  85.000000    0  "
      ]
     },
     "execution_count": 3,
     "metadata": {},
     "output_type": "execute_result"
    }
   ],
   "source": [
    "# load the csv file\n",
    "df_heart = pd.read_csv(\"Heart_disease.csv\")\n",
    "\n",
    "# display the first two observations\n",
    "df_heart.head()"
   ]
  },
  {
   "cell_type": "markdown",
   "metadata": {},
   "source": [
    "**Data Preparation**"
   ]
  },
  {
   "cell_type": "code",
   "execution_count": 4,
   "metadata": {},
   "outputs": [
    {
     "data": {
      "text/plain": [
       "(4240, 16)"
      ]
     },
     "execution_count": 4,
     "metadata": {},
     "output_type": "execute_result"
    }
   ],
   "source": [
    "# check the size of data\n",
    "df_heart.shape"
   ]
  },
  {
   "cell_type": "code",
   "execution_count": 5,
   "metadata": {},
   "outputs": [
    {
     "data": {
      "text/plain": [
       "male                 int64\n",
       "age                  int64\n",
       "education          float64\n",
       "currentSmoker        int64\n",
       "cigsPerDay         float64\n",
       "BPMeds             float64\n",
       "prevalentStroke      int64\n",
       "prevalentHyp         int64\n",
       "diabetes             int64\n",
       "totChol            float64\n",
       "sysBP              float64\n",
       "diaBP              float64\n",
       "BMI                float64\n",
       "heartRate          float64\n",
       "glucose            float64\n",
       "CVD                  int64\n",
       "dtype: object"
      ]
     },
     "execution_count": 5,
     "metadata": {},
     "output_type": "execute_result"
    }
   ],
   "source": [
    "# check data types of variables\n",
    "df_heart.dtypes"
   ]
  },
  {
   "cell_type": "code",
   "execution_count": 6,
   "metadata": {},
   "outputs": [],
   "source": [
    "# convert the columns that are wrongly specified as numeric to object type \n",
    "\n",
    "# convert the column male to object type\n",
    "df_heart['male'] = df_heart['male'].astype(object)\n",
    "\n",
    "# convert the column education to object type\n",
    "df_heart['education'] = df_heart['education'].astype(object)\n",
    "\n",
    "# convert the column currentSmoker to object type\n",
    "df_heart['currentSmoker'] = df_heart['currentSmoker'].astype(object)\n",
    "\n",
    "# convert the column BPMeds to object type\n",
    "df_heart['BPMeds'] = df_heart['BPMeds'].astype(object)\n",
    "\n",
    "# convert the column prevalentStroke to object type\n",
    "df_heart['prevalentStroke'] = df_heart['prevalentStroke'].astype(object)\n",
    "\n",
    "# convert the column prevalentHyp to object type\n",
    "df_heart['prevalentHyp'] = df_heart['prevalentHyp'].astype(object)\n",
    "\n",
    "# convert the column diabetes to object type\n",
    "df_heart['diabetes'] = df_heart['diabetes'].astype(object)"
   ]
  },
  {
   "cell_type": "markdown",
   "metadata": {},
   "source": [
    "**Missing value analysis**"
   ]
  },
  {
   "cell_type": "code",
   "execution_count": 7,
   "metadata": {},
   "outputs": [
    {
     "data": {
      "text/html": [
       "<div>\n",
       "<style scoped>\n",
       "    .dataframe tbody tr th:only-of-type {\n",
       "        vertical-align: middle;\n",
       "    }\n",
       "\n",
       "    .dataframe tbody tr th {\n",
       "        vertical-align: top;\n",
       "    }\n",
       "\n",
       "    .dataframe thead th {\n",
       "        text-align: right;\n",
       "    }\n",
       "</style>\n",
       "<table border=\"1\" class=\"dataframe\">\n",
       "  <thead>\n",
       "    <tr style=\"text-align: right;\">\n",
       "      <th></th>\n",
       "      <th>Total</th>\n",
       "      <th>Percent</th>\n",
       "    </tr>\n",
       "  </thead>\n",
       "  <tbody>\n",
       "    <tr>\n",
       "      <th>glucose</th>\n",
       "      <td>388</td>\n",
       "      <td>0.091509</td>\n",
       "    </tr>\n",
       "    <tr>\n",
       "      <th>education</th>\n",
       "      <td>105</td>\n",
       "      <td>0.024764</td>\n",
       "    </tr>\n",
       "    <tr>\n",
       "      <th>BPMeds</th>\n",
       "      <td>53</td>\n",
       "      <td>0.012500</td>\n",
       "    </tr>\n",
       "    <tr>\n",
       "      <th>totChol</th>\n",
       "      <td>50</td>\n",
       "      <td>0.011792</td>\n",
       "    </tr>\n",
       "    <tr>\n",
       "      <th>cigsPerDay</th>\n",
       "      <td>29</td>\n",
       "      <td>0.006840</td>\n",
       "    </tr>\n",
       "    <tr>\n",
       "      <th>BMI</th>\n",
       "      <td>19</td>\n",
       "      <td>0.004481</td>\n",
       "    </tr>\n",
       "    <tr>\n",
       "      <th>heartRate</th>\n",
       "      <td>1</td>\n",
       "      <td>0.000236</td>\n",
       "    </tr>\n",
       "    <tr>\n",
       "      <th>CVD</th>\n",
       "      <td>0</td>\n",
       "      <td>0.000000</td>\n",
       "    </tr>\n",
       "    <tr>\n",
       "      <th>diaBP</th>\n",
       "      <td>0</td>\n",
       "      <td>0.000000</td>\n",
       "    </tr>\n",
       "    <tr>\n",
       "      <th>sysBP</th>\n",
       "      <td>0</td>\n",
       "      <td>0.000000</td>\n",
       "    </tr>\n",
       "    <tr>\n",
       "      <th>diabetes</th>\n",
       "      <td>0</td>\n",
       "      <td>0.000000</td>\n",
       "    </tr>\n",
       "    <tr>\n",
       "      <th>prevalentHyp</th>\n",
       "      <td>0</td>\n",
       "      <td>0.000000</td>\n",
       "    </tr>\n",
       "    <tr>\n",
       "      <th>prevalentStroke</th>\n",
       "      <td>0</td>\n",
       "      <td>0.000000</td>\n",
       "    </tr>\n",
       "    <tr>\n",
       "      <th>currentSmoker</th>\n",
       "      <td>0</td>\n",
       "      <td>0.000000</td>\n",
       "    </tr>\n",
       "    <tr>\n",
       "      <th>age</th>\n",
       "      <td>0</td>\n",
       "      <td>0.000000</td>\n",
       "    </tr>\n",
       "    <tr>\n",
       "      <th>male</th>\n",
       "      <td>0</td>\n",
       "      <td>0.000000</td>\n",
       "    </tr>\n",
       "  </tbody>\n",
       "</table>\n",
       "</div>"
      ],
      "text/plain": [
       "                 Total  Percent\n",
       "glucose            388 0.091509\n",
       "education          105 0.024764\n",
       "BPMeds              53 0.012500\n",
       "totChol             50 0.011792\n",
       "cigsPerDay          29 0.006840\n",
       "BMI                 19 0.004481\n",
       "heartRate            1 0.000236\n",
       "CVD                  0 0.000000\n",
       "diaBP                0 0.000000\n",
       "sysBP                0 0.000000\n",
       "diabetes             0 0.000000\n",
       "prevalentHyp         0 0.000000\n",
       "prevalentStroke      0 0.000000\n",
       "currentSmoker        0 0.000000\n",
       "age                  0 0.000000\n",
       "male                 0 0.000000"
      ]
     },
     "execution_count": 7,
     "metadata": {},
     "output_type": "execute_result"
    }
   ],
   "source": [
    "# isnull().sum(): calculate the null values in each column for dataset\n",
    "# sort_values(ascending=False): sort the values in descending order of values\n",
    "total = df_heart.isnull().sum().sort_values(ascending=False)\n",
    "\n",
    "# isnull().sum(): calculate the null values in each column for dataset\n",
    "# isnull().count(): calculate the count values in each column for dataset\n",
    "# sort_values(ascending=False): sort the values in descending order of values\n",
    "percent = (df_heart.isnull().sum()/df_heart.isnull().count()).sort_values(ascending=False)\n",
    "\n",
    "# concat(): append dataframes\n",
    "# axis=1: append by column\n",
    "# keys: specify column name\n",
    "missing_data = pd.concat([total, percent], axis=1, keys=['Total', 'Percent'])\n",
    "\n",
    "# display dataframe of missing values\n",
    "missing_data"
   ]
  },
  {
   "cell_type": "markdown",
   "metadata": {},
   "source": [
    "Except glucose we can drop all the records with null values from other columns."
   ]
  },
  {
   "cell_type": "code",
   "execution_count": 8,
   "metadata": {},
   "outputs": [],
   "source": [
    "# dropna(): drop null values \n",
    "# subset: provide selected list of columns\n",
    "df_heart = df_heart.dropna(subset = ['education', 'BPMeds', 'totChol','cigsPerDay','BMI','heartRate'])"
   ]
  },
  {
   "cell_type": "code",
   "execution_count": 9,
   "metadata": {},
   "outputs": [
    {
     "data": {
      "text/plain": [
       "(3989, 16)"
      ]
     },
     "execution_count": 9,
     "metadata": {},
     "output_type": "execute_result"
    }
   ],
   "source": [
    "# check size of data\n",
    "df_heart.shape"
   ]
  },
  {
   "cell_type": "code",
   "execution_count": 10,
   "metadata": {},
   "outputs": [],
   "source": [
    "# fillna(): fill null values  with the median value\n",
    "# value_counts().index[0]: indicates the mode for a categorical variable\n",
    "df_heart['glucose'] = df_heart['glucose'].fillna(df_heart['glucose'].median())"
   ]
  },
  {
   "cell_type": "markdown",
   "metadata": {},
   "source": [
    "### Let's begin with some hands-on practice exercises"
   ]
  },
  {
   "cell_type": "markdown",
   "metadata": {},
   "source": [
    "<a id=\"logreg\"> </a>\n",
    "## 1. Logistic regression model"
   ]
  },
  {
   "cell_type": "markdown",
   "metadata": {},
   "source": [
    "## We shall use the heart disease dataset"
   ]
  },
  {
   "cell_type": "markdown",
   "metadata": {
    "collapsed": true
   },
   "source": [
    "<table align=\"left\">\n",
    "    <tr>\n",
    "        <td width=\"6%\">\n",
    "            <img src=\"question_icon.png\">\n",
    "        </td>\n",
    "        <td>\n",
    "            <div align=\"left\", style=\"font-size:120%\">\n",
    "                <font color=\"#21618C\">\n",
    "                    <b>1. Are all the classes of target variable 'CVD' fairly represented by records in the considered dataset ?</b>\n",
    "                </font>\n",
    "            </div>\n",
    "        </td>\n",
    "    </tr>\n",
    "</table>"
   ]
  },
  {
   "cell_type": "code",
   "execution_count": 11,
   "metadata": {},
   "outputs": [
    {
     "data": {
      "image/png": "[encoded data removed]",
      "text/plain": [
       "<Figure size 720x360 with 1 Axes>"
      ]
     },
     "metadata": {},
     "output_type": "display_data"
    }
   ],
   "source": [
    "# consider only the target variable\n",
    "df_target = df_heart['CVD']\n",
    "\n",
    "# get counts of 0's and 1's in the 'Loan_Status' variable\n",
    "df_target.value_counts()\n",
    "\n",
    "# plot the countplot of the variable 'Loan_Status'\n",
    "sns.countplot(x = df_target)\n",
    "\n",
    "# use below code to print the percentage values in the graph\n",
    "# 'x' and 'y' gives position of the text\n",
    "# 's' is the text to be printed\n",
    "plt.text(x = -0.09, y = df_target.value_counts()[0] - 1500, s = str(round((df_target.value_counts()[0])*100/len(df_target),2)) + '%')\n",
    "plt.text(x = 0.90, y = df_target.value_counts()[1] - 300, s = str(round((df_target.value_counts()[1])*100/len(df_target),2)) + '%')\n",
    "\n",
    "# add plot and axes labels\n",
    "# set text size using 'fontsize'\n",
    "plt.title('Count Plot for Target Variable (CVD)', fontsize = 15)\n",
    "plt.xlabel('Target Variable', fontsize = 15)\n",
    "plt.ylabel('Count', fontsize = 15)\n",
    "\n",
    "# to show the plot\n",
    "plt.show()"
   ]
  },
  {
   "cell_type": "markdown",
   "metadata": {},
   "source": [
    "The percentage of the patients detected with cardiovascular disease is 14.92% and that of patients not having cardiovascular disease is 85.08%. So we can say all the classes are fairly represented."
   ]
  },
  {
   "cell_type": "markdown",
   "metadata": {
    "collapsed": true
   },
   "source": [
    "<table align=\"left\">\n",
    "    <tr>\n",
    "        <td width=\"6%\">\n",
    "            <img src=\"question_icon.png\">\n",
    "        </td>\n",
    "        <td>\n",
    "            <div align=\"left\", style=\"font-size:120%\">\n",
    "                <font color=\"#21618C\">\n",
    "                    <b>2. Predict whether or not a patient will have cardiovascular disease based on the information about blood pressure of the patient. Columns related to blood pressure are diaBP, sysBP and BPMeds.</b>\n",
    "                </font>\n",
    "            </div>\n",
    "        </td>\n",
    "    </tr>\n",
    "</table>"
   ]
  },
  {
   "cell_type": "code",
   "execution_count": 12,
   "metadata": {},
   "outputs": [],
   "source": [
    "# select the numeric independent variables\n",
    "df_num = df_heart.iloc[:,[10,11]]\n",
    "\n",
    "# scale all the numeric independent variables\n",
    "num_scaled=df_num.apply(lambda rec:rec-rec.mean()/rec.std(),axis=0)\n",
    "\n",
    "# create a dataframe of scaled numerical variables\n",
    "# pass the required column names to the parameter 'columns'\n",
    "X = pd.DataFrame(num_scaled, columns = df_num.columns)\n",
    "\n",
    "# add the categorical variable to train set dataframe\n",
    "# convert the categorical variable to dummy variable\n",
    "# get_dummies(): converts the variable to categorical variable\n",
    "# drop_first=True: indicates n-1 dummy enoding; if set to false indicates one-hot encoding\n",
    "X['BPMeds'] = pd.get_dummies(df_heart[\"BPMeds\"], drop_first=True)\n",
    "\n",
    "# set target variable\n",
    "y = df_heart.CVD"
   ]
  },
  {
   "cell_type": "code",
   "execution_count": 13,
   "metadata": {},
   "outputs": [],
   "source": [
    "# add a constant column to the dataframe\n",
    "# while using the 'Logit' method in the Statsmodels library, the method do not consider the intercept by default\n",
    "# we can add the intercept to the set of independent variables using 'add_constant()'\n",
    "X = sm.add_constant(X)\n",
    "\n",
    "# split data into train subset and test subset\n",
    "# set 'random_state' to generate the same dataset each time you run the code \n",
    "# 'test_size' returns the proportion of data to be included in the testing set\n",
    "X_train, X_test, y_train, y_test = train_test_split(X, y, random_state = 1, test_size = 0.2)"
   ]
  },
  {
   "cell_type": "code",
   "execution_count": 14,
   "metadata": {},
   "outputs": [
    {
     "name": "stdout",
     "output_type": "stream",
     "text": [
      "Optimization terminated successfully.\n",
      "         Current function value: 0.400832\n",
      "         Iterations 6\n",
      "                           Logit Regression Results                           \n",
      "==============================================================================\n",
      "Dep. Variable:                    CVD   No. Observations:                 3191\n",
      "Model:                          Logit   Df Residuals:                     3187\n",
      "Method:                           MLE   Df Model:                            3\n",
      "Date:                Wed, 16 Sep 2020   Pseudo R-squ.:                 0.05096\n",
      "Time:                        17:23:36   Log-Likelihood:                -1279.1\n",
      "converged:                       True   LL-Null:                       -1347.7\n",
      "Covariance Type:            nonrobust   LLR p-value:                 1.399e-29\n",
      "==============================================================================\n",
      "                 coef    std err          z      P>|z|      [0.025      0.975]\n",
      "------------------------------------------------------------------------------\n",
      "const         -4.4159      0.328    -13.473      0.000      -5.058      -3.774\n",
      "sysBP          0.0272      0.003      7.913      0.000       0.020       0.034\n",
      "diaBP         -0.0113      0.006     -1.761      0.078      -0.024       0.001\n",
      "BPMeds         0.4089      0.234      1.745      0.081      -0.050       0.868\n",
      "==============================================================================\n"
     ]
    }
   ],
   "source": [
    "# build the model on train data \n",
    "# use fit() to fit the logistic regression model\n",
    "logreg = sm.Logit(y_train, X_train).fit()\n",
    "\n",
    "# print the summary of the model\n",
    "print(logreg.summary())"
   ]
  },
  {
   "cell_type": "markdown",
   "metadata": {},
   "source": [
    "From the output, we see that the systolic BP value significantly affects the occurence of cardiovascular disease."
   ]
  },
  {
   "cell_type": "markdown",
   "metadata": {
    "collapsed": true
   },
   "source": [
    "<table align=\"left\">\n",
    "    <tr>\n",
    "        <td width=\"6%\">\n",
    "            <img src=\"question_icon.png\">\n",
    "        </td>\n",
    "        <td>\n",
    "            <div align=\"left\", style=\"font-size:120%\">\n",
    "                <font color=\"#21618C\">\n",
    "                    <b>3. Predict whether or not a patient has cardiovascular disease using the categorical variables in the dataset. How does a unit change in each feature influence the odds of a patient having a cardiocascular disease?</b>\n",
    "                </font>\n",
    "            </div>\n",
    "        </td>\n",
    "    </tr>\n",
    "</table>"
   ]
  },
  {
   "cell_type": "code",
   "execution_count": 15,
   "metadata": {},
   "outputs": [],
   "source": [
    "# consider all the categorical variables in the data\n",
    "# select_dtypes: selects the variable having specified datatype\n",
    "# include: includes the variables with specified datatype\n",
    "df_cat = df_heart.select_dtypes(include=\"object\")\n",
    "\n",
    "# convert the categorical variable to dummy variable\n",
    "# get_dummies(): converts the variable to categorical variable\n",
    "# drop_first=True: indicates n-1 dummy enoding; if set to false indicates one-hot encoding\n",
    "X = pd.get_dummies(df_cat, drop_first=True)\n",
    "\n",
    "# consider the dependent variable\n",
    "y = df_heart.CVD"
   ]
  },
  {
   "cell_type": "code",
   "execution_count": 16,
   "metadata": {},
   "outputs": [],
   "source": [
    "# add a constant column to the dataframe\n",
    "# while using the 'Logit' method in the Statsmodels library, the method do not consider the intercept by default\n",
    "# we can add the intercept to the set of independent variables using 'add_constant()'\n",
    "X = sm.add_constant(X)\n",
    "\n",
    "# split data into train subset and test subset\n",
    "# set 'random_state' to generate the same dataset each time you run the code \n",
    "# 'test_size' returns the proportion of data to be included in the testing set\n",
    "X_train, X_test, y_train, y_test = train_test_split(X, y, random_state = 1, test_size = 0.2)"
   ]
  },
  {
   "cell_type": "code",
   "execution_count": 17,
   "metadata": {},
   "outputs": [
    {
     "name": "stdout",
     "output_type": "stream",
     "text": [
      "Optimization terminated successfully.\n",
      "         Current function value: 0.398923\n",
      "         Iterations 6\n"
     ]
    },
    {
     "data": {
      "text/html": [
       "<div>\n",
       "<style scoped>\n",
       "    .dataframe tbody tr th:only-of-type {\n",
       "        vertical-align: middle;\n",
       "    }\n",
       "\n",
       "    .dataframe tbody tr th {\n",
       "        vertical-align: top;\n",
       "    }\n",
       "\n",
       "    .dataframe thead th {\n",
       "        text-align: right;\n",
       "    }\n",
       "</style>\n",
       "<table border=\"1\" class=\"dataframe\">\n",
       "  <thead>\n",
       "    <tr style=\"text-align: right;\">\n",
       "      <th></th>\n",
       "      <th>Odds</th>\n",
       "    </tr>\n",
       "  </thead>\n",
       "  <tbody>\n",
       "    <tr>\n",
       "      <th>const</th>\n",
       "      <td>0.103328</td>\n",
       "    </tr>\n",
       "    <tr>\n",
       "      <th>male_1</th>\n",
       "      <td>1.679930</td>\n",
       "    </tr>\n",
       "    <tr>\n",
       "      <th>education_2.0</th>\n",
       "      <td>0.626836</td>\n",
       "    </tr>\n",
       "    <tr>\n",
       "      <th>education_3.0</th>\n",
       "      <td>0.796133</td>\n",
       "    </tr>\n",
       "    <tr>\n",
       "      <th>education_4.0</th>\n",
       "      <td>0.798434</td>\n",
       "    </tr>\n",
       "    <tr>\n",
       "      <th>currentSmoker_1</th>\n",
       "      <td>1.223758</td>\n",
       "    </tr>\n",
       "    <tr>\n",
       "      <th>BPMeds_1.0</th>\n",
       "      <td>1.983432</td>\n",
       "    </tr>\n",
       "    <tr>\n",
       "      <th>prevalentStroke_1</th>\n",
       "      <td>1.995138</td>\n",
       "    </tr>\n",
       "    <tr>\n",
       "      <th>prevalentHyp_1</th>\n",
       "      <td>2.244576</td>\n",
       "    </tr>\n",
       "    <tr>\n",
       "      <th>diabetes_1</th>\n",
       "      <td>2.373889</td>\n",
       "    </tr>\n",
       "  </tbody>\n",
       "</table>\n",
       "</div>"
      ],
      "text/plain": [
       "                      Odds\n",
       "const             0.103328\n",
       "male_1            1.679930\n",
       "education_2.0     0.626836\n",
       "education_3.0     0.796133\n",
       "education_4.0     0.798434\n",
       "currentSmoker_1   1.223758\n",
       "BPMeds_1.0        1.983432\n",
       "prevalentStroke_1 1.995138\n",
       "prevalentHyp_1    2.244576\n",
       "diabetes_1        2.373889"
      ]
     },
     "execution_count": 17,
     "metadata": {},
     "output_type": "execute_result"
    }
   ],
   "source": [
    "# build the model on train data \n",
    "# use fit() to fit the logistic regression model\n",
    "logreg = sm.Logit(y_train, X_train).fit()\n",
    "\n",
    "# take the exponential of the coefficient of a variable to calculate the odds\n",
    "# 'params' returns the coefficients of all the independent variables\n",
    "# pass the required column name to the parameter, 'columns'\n",
    "df_odds = pd.DataFrame(np.exp(logreg.params), columns= ['Odds']) \n",
    "\n",
    "# print the dataframe\n",
    "df_odds"
   ]
  },
  {
   "cell_type": "markdown",
   "metadata": {},
   "source": [
    "From the above table we can see how unit change in a variable respectively increase the odds of a patient having cardiovascular disease. The odds of constant indicate the odds of having a cardiovascular disease when no information about the patient is known. "
   ]
  },
  {
   "cell_type": "markdown",
   "metadata": {
    "collapsed": true
   },
   "source": [
    "<table align=\"left\">\n",
    "    <tr>\n",
    "        <td width=\"6%\">\n",
    "            <img src=\"question_icon.png\">\n",
    "        </td>\n",
    "        <td>\n",
    "            <div align=\"left\", style=\"font-size:120%\">\n",
    "                <font color=\"#21618C\">\n",
    "                    <b>4. Predit if a patient has cardiovascular disease based on whether or not the patient has history of hypertension. Calculate the odds ratio.</b>\n",
    "                </font>\n",
    "            </div>\n",
    "        </td>\n",
    "    </tr>\n",
    "</table>"
   ]
  },
  {
   "cell_type": "code",
   "execution_count": 18,
   "metadata": {},
   "outputs": [],
   "source": [
    "# add the categorical variable to train set dataframe\n",
    "# convert the categorical variable to dummy variable\n",
    "# get_dummies(): converts the variable to categorical variable\n",
    "# drop_first=True: indicates n-1 dummy enoding; if set to false indicates one-hot encoding\n",
    "X= pd.get_dummies(df_heart[\"prevalentHyp\"], drop_first=True)\n",
    "\n",
    "# set target variable\n",
    "y = df_heart.CVD\n",
    "\n",
    "# add a constant column to the dataframe\n",
    "# while using the 'Logit' method in the Statsmodels library, the method do not consider the intercept by default\n",
    "# we can add the intercept to the set of independent variables using 'add_constant()'\n",
    "X = sm.add_constant(X)\n",
    "\n",
    "# split data into train subset and test subset\n",
    "# set 'random_state' to generate the same dataset each time you run the code \n",
    "# 'test_size' returns the proportion of data to be included in the testing set\n",
    "X_train, X_test, y_train, y_test = train_test_split(X, y, random_state = 1, test_size = 0.2)"
   ]
  },
  {
   "cell_type": "code",
   "execution_count": 19,
   "metadata": {},
   "outputs": [
    {
     "name": "stdout",
     "output_type": "stream",
     "text": [
      "Optimization terminated successfully.\n",
      "         Current function value: 0.409951\n",
      "         Iterations 6\n",
      "Odds of having heart disease given he has history of hypertension: 2.479988059053407\n",
      "Odds of having heart disease given he does not have history of hypertension: 0.4032277479520174\n",
      "Odds ratio: 6.1503407730474855\n"
     ]
    }
   ],
   "source": [
    "# build the model on train data \n",
    "# use fit() to fit the logistic regression model\n",
    "logreg = sm.Logit(y_train, X_train).fit()\n",
    "\n",
    "# take the exponential of the coefficient of a variable to calculate the odds\n",
    "# 'params' returns the coefficients of all the independent variables\n",
    "# pass the required column name to the parameter, 'columns'\n",
    "df_odds = pd.DataFrame(np.exp(logreg.params), columns= ['Odds'])\n",
    "\n",
    "odds_hyp=df_odds.iloc[1,0]\n",
    "odds_no_hyp=(1/df_odds.iloc[1,0])\n",
    "\n",
    "# print the dataframe\n",
    "print(\"Odds of having heart disease given he has history of hypertension:\",odds_hyp)\n",
    "print(\"Odds of having heart disease given he does not have history of hypertension:\",odds_no_hyp)\n",
    "print(\"Odds ratio:\",(odds_hyp/odds_no_hyp))"
   ]
  },
  {
   "cell_type": "markdown",
   "metadata": {},
   "source": [
    "From the odds ratio we can infer that a patient having a history of hypertension has approximately 6 times higher odds of having cardiovascular disease compared to a patient who does not have a history of hypertension."
   ]
  },
  {
   "cell_type": "markdown",
   "metadata": {},
   "source": [
    "<a id=\"mod_eval\"> </a>\n",
    "## 2. Model Evaluation Metrics"
   ]
  },
  {
   "cell_type": "markdown",
   "metadata": {
    "collapsed": true
   },
   "source": [
    "<table align=\"left\">\n",
    "    <tr>\n",
    "        <td width=\"6%\">\n",
    "            <img src=\"question_icon.png\">\n",
    "        </td>\n",
    "        <td>\n",
    "            <div align=\"left\", style=\"font-size:120%\">\n",
    "                <font color=\"#21618C\">\n",
    "                    <b>5. Build a full model to predict if a patient will have a cardiovascular disease. Find the value of Mcfadden's R<sup>2</sup>.\n",
    "                </font>\n",
    "            </div>\n",
    "        </td>\n",
    "    </tr>\n",
    "</table>"
   ]
  },
  {
   "cell_type": "code",
   "execution_count": 20,
   "metadata": {},
   "outputs": [],
   "source": [
    "# consider the independent variables\n",
    "# select_dtypes: selects the variable having specified datatype\n",
    "# include: includes the variables with specified datatype\n",
    "# drop(): drops specified column(s)/row(s) from the dataframe\n",
    "# axis: specifies whether to drop labels from index or columns; use 1 for columns and 0 for index\n",
    "df_numeric = df_heart.select_dtypes(include=np.number).drop([\"CVD\"],axis=1)\n",
    "\n",
    "# scale all the numeric independent variables\n",
    "num_scaled=df_numeric.apply(lambda rec:rec-rec.mean()/rec.std(),axis=0)\n",
    "\n",
    "# create a dataframe of scaled numerical variables\n",
    "# pass the required column names to the parameter 'columns'\n",
    "df_num = pd.DataFrame(num_scaled, columns = df_num.columns)\n",
    "\n",
    "# consider all the categorical variables in the data\n",
    "# select_dtypes: selects the variable having specified datatype\n",
    "# include: includes the variables with specified datatype\n",
    "df_categorical = df_heart.select_dtypes(include=\"object\")\n",
    "\n",
    "# convert the categorical variable to dummy variable\n",
    "# get_dummies(): converts the variable to categorical variable\n",
    "# drop_first=True: indicates n-1 dummy enoding; if set to false indicates one-hot encoding\n",
    "df_cat = pd.get_dummies(df_categorical, drop_first=True)\n",
    "\n",
    "# concatenate the scaled numerical and dummy variables\n",
    "# axis: specifies whether to drop labels from index or columns; use 1 for columns and 0 for index\n",
    "X = pd.concat([df_num,df_cat],axis=1)\n",
    "\n",
    "# consider the dependent variable\n",
    "y = df_heart.CVD\n",
    "\n",
    "# add a constant column to the dataframe\n",
    "# while using the 'Logit' method in the Statsmodels library, the method do not consider the intercept by default\n",
    "# we can add the intercept to the set of independent variables using 'add_constant()'\n",
    "X = sm.add_constant(X)\n",
    "\n",
    "# split data into train subset and test subset\n",
    "# set 'random_state' to generate the same dataset each time you run the code \n",
    "# 'test_size' returns the proportion of data to be included in the testing set\n",
    "X_train_full, X_test_full, y_train_full, y_test_full = train_test_split(X, y, random_state = 1, test_size = 0.2)"
   ]
  },
  {
   "cell_type": "code",
   "execution_count": 21,
   "metadata": {},
   "outputs": [
    {
     "name": "stdout",
     "output_type": "stream",
     "text": [
      "Optimization terminated successfully.\n",
      "         Current function value: 0.389908\n",
      "         Iterations 6\n",
      "                           Logit Regression Results                           \n",
      "==============================================================================\n",
      "Dep. Variable:                    CVD   No. Observations:                 3191\n",
      "Model:                          Logit   Df Residuals:                     3179\n",
      "Method:                           MLE   Df Model:                           11\n",
      "Date:                Wed, 16 Sep 2020   Pseudo R-squ.:                 0.07683\n",
      "Time:                        17:23:37   Log-Likelihood:                -1244.2\n",
      "converged:                       True   LL-Null:                       -1347.7\n",
      "Covariance Type:            nonrobust   LLR p-value:                 2.520e-38\n",
      "=====================================================================================\n",
      "                        coef    std err          z      P>|z|      [0.025      0.975]\n",
      "-------------------------------------------------------------------------------------\n",
      "const                -4.4332      0.427    -10.391      0.000      -5.269      -3.597\n",
      "sysBP                 0.0278      0.004      7.079      0.000       0.020       0.035\n",
      "diaBP                -0.0171      0.007     -2.586      0.010      -0.030      -0.004\n",
      "male_1                0.6110      0.109      5.592      0.000       0.397       0.825\n",
      "education_2.0        -0.3922      0.129     -3.052      0.002      -0.644      -0.140\n",
      "education_3.0        -0.1439      0.153     -0.941      0.347      -0.444       0.156\n",
      "education_4.0        -0.0844      0.169     -0.499      0.618      -0.416       0.247\n",
      "currentSmoker_1       0.2575      0.108      2.381      0.017       0.046       0.469\n",
      "BPMeds_1.0            0.3702      0.244      1.518      0.129      -0.108       0.848\n",
      "prevalentStroke_1     0.7929      0.514      1.543      0.123      -0.214       1.800\n",
      "prevalentHyp_1        0.1997      0.148      1.353      0.176      -0.089       0.489\n",
      "diabetes_1            0.6942      0.262      2.650      0.008       0.181       1.208\n",
      "=====================================================================================\n"
     ]
    }
   ],
   "source": [
    "# build the model on train data \n",
    "# use fit() to fit the logistic regression model\n",
    "logreg_full = sm.Logit(y_train_full, X_train_full).fit()\n",
    "\n",
    "# let 'y_pred_prob' be the predicted values of y\n",
    "y_pred_prob_full = logreg_full.predict(X_test_full)\n",
    "\n",
    "# print the summary of the model\n",
    "print(logreg_full.summary())"
   ]
  },
  {
   "cell_type": "markdown",
   "metadata": {},
   "source": [
    "As we can see the value of  pseudo or Mcfadden's R<sup>2</sup> is `0.07683`."
   ]
  },
  {
   "cell_type": "markdown",
   "metadata": {
    "collapsed": true
   },
   "source": [
    "<table align=\"left\">\n",
    "    <tr>\n",
    "        <td width=\"6%\">\n",
    "            <img src=\"question_icon.png\">\n",
    "        </td>\n",
    "        <td>\n",
    "            <div align=\"left\", style=\"font-size:120%\">\n",
    "                <font color=\"#21618C\">\n",
    "                    <b>6. Find the significant variables in the full model when all the variables are considered in prediction of whether or not a patient has cardiovascular disease.\n",
    "                    </b>\n",
    "                </font>\n",
    "            </div>\n",
    "        </td>\n",
    "    </tr>\n",
    "</table>"
   ]
  },
  {
   "cell_type": "code",
   "execution_count": 22,
   "metadata": {},
   "outputs": [
    {
     "name": "stdout",
     "output_type": "stream",
     "text": [
      "                           Logit Regression Results                           \n",
      "==============================================================================\n",
      "Dep. Variable:                    CVD   No. Observations:                 3191\n",
      "Model:                          Logit   Df Residuals:                     3179\n",
      "Method:                           MLE   Df Model:                           11\n",
      "Date:                Wed, 16 Sep 2020   Pseudo R-squ.:                 0.07683\n",
      "Time:                        17:23:37   Log-Likelihood:                -1244.2\n",
      "converged:                       True   LL-Null:                       -1347.7\n",
      "Covariance Type:            nonrobust   LLR p-value:                 2.520e-38\n",
      "=====================================================================================\n",
      "                        coef    std err          z      P>|z|      [0.025      0.975]\n",
      "-------------------------------------------------------------------------------------\n",
      "const                -4.4332      0.427    -10.391      0.000      -5.269      -3.597\n",
      "sysBP                 0.0278      0.004      7.079      0.000       0.020       0.035\n",
      "diaBP                -0.0171      0.007     -2.586      0.010      -0.030      -0.004\n",
      "male_1                0.6110      0.109      5.592      0.000       0.397       0.825\n",
      "education_2.0        -0.3922      0.129     -3.052      0.002      -0.644      -0.140\n",
      "education_3.0        -0.1439      0.153     -0.941      0.347      -0.444       0.156\n",
      "education_4.0        -0.0844      0.169     -0.499      0.618      -0.416       0.247\n",
      "currentSmoker_1       0.2575      0.108      2.381      0.017       0.046       0.469\n",
      "BPMeds_1.0            0.3702      0.244      1.518      0.129      -0.108       0.848\n",
      "prevalentStroke_1     0.7929      0.514      1.543      0.123      -0.214       1.800\n",
      "prevalentHyp_1        0.1997      0.148      1.353      0.176      -0.089       0.489\n",
      "diabetes_1            0.6942      0.262      2.650      0.008       0.181       1.208\n",
      "=====================================================================================\n"
     ]
    }
   ],
   "source": [
    "print(logreg_full.summary())"
   ]
  },
  {
   "cell_type": "markdown",
   "metadata": {},
   "source": [
    "For logistic regression the Wald's test is used to identify the variables that significantly affect the target variable. Hence we can see that the following features are significant:<br>[`sysBP`,`diaBP`,`male_1`,`education_2.0`,`currentSmoker_1`,`diabetes_1`]"
   ]
  },
  {
   "cell_type": "markdown",
   "metadata": {
    "collapsed": true
   },
   "source": [
    "<table align=\"left\">\n",
    "    <tr>\n",
    "        <td width=\"6%\">\n",
    "            <img src=\"question_icon.png\">\n",
    "        </td>\n",
    "        <td>\n",
    "            <div align=\"left\", style=\"font-size:120%\">\n",
    "                <font color=\"#21618C\">\n",
    "                    <b>7. How do the coefficients of each feature form the dataset impact the odds of a patient having a cardiovascular disease?\n",
    "                    </b>\n",
    "                </font>\n",
    "            </div>\n",
    "        </td>\n",
    "    </tr>\n",
    "</table>"
   ]
  },
  {
   "cell_type": "markdown",
   "metadata": {},
   "source": [
    "To interpret the coefficients of each feature we consider the full model built in question 5"
   ]
  },
  {
   "cell_type": "code",
   "execution_count": 23,
   "metadata": {},
   "outputs": [
    {
     "name": "stdout",
     "output_type": "stream",
     "text": [
      "                           Logit Regression Results                           \n",
      "==============================================================================\n",
      "Dep. Variable:                    CVD   No. Observations:                 3191\n",
      "Model:                          Logit   Df Residuals:                     3179\n",
      "Method:                           MLE   Df Model:                           11\n",
      "Date:                Wed, 16 Sep 2020   Pseudo R-squ.:                 0.07683\n",
      "Time:                        17:23:37   Log-Likelihood:                -1244.2\n",
      "converged:                       True   LL-Null:                       -1347.7\n",
      "Covariance Type:            nonrobust   LLR p-value:                 2.520e-38\n",
      "=====================================================================================\n",
      "                        coef    std err          z      P>|z|      [0.025      0.975]\n",
      "-------------------------------------------------------------------------------------\n",
      "const                -4.4332      0.427    -10.391      0.000      -5.269      -3.597\n",
      "sysBP                 0.0278      0.004      7.079      0.000       0.020       0.035\n",
      "diaBP                -0.0171      0.007     -2.586      0.010      -0.030      -0.004\n",
      "male_1                0.6110      0.109      5.592      0.000       0.397       0.825\n",
      "education_2.0        -0.3922      0.129     -3.052      0.002      -0.644      -0.140\n",
      "education_3.0        -0.1439      0.153     -0.941      0.347      -0.444       0.156\n",
      "education_4.0        -0.0844      0.169     -0.499      0.618      -0.416       0.247\n",
      "currentSmoker_1       0.2575      0.108      2.381      0.017       0.046       0.469\n",
      "BPMeds_1.0            0.3702      0.244      1.518      0.129      -0.108       0.848\n",
      "prevalentStroke_1     0.7929      0.514      1.543      0.123      -0.214       1.800\n",
      "prevalentHyp_1        0.1997      0.148      1.353      0.176      -0.089       0.489\n",
      "diabetes_1            0.6942      0.262      2.650      0.008       0.181       1.208\n",
      "=====================================================================================\n"
     ]
    }
   ],
   "source": [
    "# print the summary of the model\n",
    "print(logreg_full.summary())"
   ]
  },
  {
   "cell_type": "markdown",
   "metadata": {},
   "source": [
    "**Interpretation of coefficients:**\n",
    "\n",
    "const: The odds of a patient having cardiovascular disease is 1/e<sup>4.4332</sup>, considering all other variables take zero value. \n",
    "\n",
    "sysBP: 0.0278, it implies that the odds of a patient having cardiovascular disease increases by a factor of e<sup>0.0278</sup> due to one unit increase in the systolic blood pressure, keeping other variables constant\n",
    "\n",
    "diaBP: -0.0171, it implies that the odds of a patient having cardiovascular disease decreases by a factor of e<sup>0.0171</sup> due to one unit increase in the diastolic blood pressure, keeping other variables constant\n",
    "\n",
    "male_1: 0.6110, it implies that the odds of a patient having cardiovascular disease increases by a factor of e<sup>0.6110</sup> if the patient is male compared to if the patient is female, keeping other variables constant\n",
    "\n",
    "education_2.0: -0.3922, it implies that the odds of a patient having cardiovascular disease decreases by a factor of e<sup>0.3922</sup> if the patient has education level of High school or GED, keeping other variables constant\n",
    "\n",
    "education_3.0: -0.1439, it implies that the odds of a patient having cardiovascular disease decreases by a factor of e<sup>0.1439</sup> if the patient has education level of vocational High school, keeping other variables constant\n",
    "\n",
    "education_4.0: -0.0844, it implies that the odds of a patient having cardiovascular disease decreases by a factor of e<sup>0.0844</sup> if the patient has college level education, keeping other variables constant\n",
    " \n",
    "currentSmoker_1:  0.2575, it implies that the odds of a patient having cardiovascular disease increases by a factor of e<sup>0.2575</sup> if the patient is a smoker, keeping other variables constant\n",
    "\n",
    "BPMeds_1.0: 0.3702, it implies that the odds of a patient having cardiovascular disease increases by a factor of e<sup>0.3702</sup> if the patient has been on blood pressure medications, keeping other variables constant\n",
    "\n",
    "prevalentStroke_1: 0.7929, it implies that the odds of a patient having cardiovascular disease increases by a factor of e<sup>0.7929</sup> if the patient has a history of heart stroke, keeping other variables constant\n",
    "\n",
    "prevalentHyp_1: 0.1997, it implies that the odds of a patient having cardiovascular disease decreases by a factor of e<sup>0.1997</sup> if the patient has a history of hypertension, keeping other variables constant\n",
    "\n",
    "diabetes_1: 0.6942, it implies that the odds of a patient having cardiovascular disease decreases by a factor of e<sup>0.6942</sup> if the patient has diabetes, keeping other variables constant"
   ]
  },
  {
   "cell_type": "markdown",
   "metadata": {},
   "source": [
    "<a id=\"perf_eval\"> </a>\n",
    "## 3. Performance evaluation metrics"
   ]
  },
  {
   "cell_type": "markdown",
   "metadata": {
    "collapsed": true
   },
   "source": [
    "<table align=\"left\">\n",
    "    <tr>\n",
    "        <td width=\"6%\">\n",
    "            <img src=\"question_icon.png\">\n",
    "        </td>\n",
    "        <td>\n",
    "            <div align=\"left\", style=\"font-size:120%\">\n",
    "                <font color=\"#21618C\">\n",
    "                        <b>8. For the full model, calculate the accuracy manually using the confusion matrix. Consider 0.5 as the probability threshold.</b>\n",
    "                </font>\n",
    "            </div>\n",
    "        </td>\n",
    "    </tr>\n",
    "</table>"
   ]
  },
  {
   "cell_type": "code",
   "execution_count": 24,
   "metadata": {},
   "outputs": [
    {
     "name": "stdout",
     "output_type": "stream",
     "text": [
      "Accuracy: 0.8508771929824561\n"
     ]
    }
   ],
   "source": [
    "# let 'y_pred_prob' be the predicted values of y\n",
    "y_pred_prob = logreg_full.predict(X_test_full)\n",
    "\n",
    "# convert probabilities to 0 and 1 using 'if_else'\n",
    "y_pred = [ 0 if x < 0.5 else 1 for x in y_pred_prob]\n",
    "\n",
    "# create a confusion matrix\n",
    "# pass the actual and predicted target values to the confusion_matrix()\n",
    "cm = confusion_matrix(y_test_full, y_pred)\n",
    "\n",
    "# True Negatives are denoted by 'TN'\n",
    "# Actual 'O' values which are classified correctly\n",
    "TN = cm[0,0]\n",
    "\n",
    "# True Positives are denoted by 'TP'\n",
    "# Actual '1' values which are classified correctly\n",
    "TP = cm[1,1]\n",
    "\n",
    "# False Positives are denoted by 'FP'\n",
    "# it is the type 1 error\n",
    "# Actual 'O' values which are classified wrongly as '1'\n",
    "FP = cm[0,1]\n",
    "\n",
    "# False Negatives are denoted by 'FN'\n",
    "# it is the type 2 error\n",
    "# Actual '1' values which are classified wrongly as '0'\n",
    "FN = cm[1,0]\n",
    "\n",
    "# calculate the accuracy\n",
    "accuracy = (TN+TP) / (TN+FP+FN+TP)\n",
    "\n",
    "# print the accuracy\n",
    "print(\"Accuracy:\", accuracy)"
   ]
  },
  {
   "cell_type": "markdown",
   "metadata": {
    "collapsed": true
   },
   "source": [
    "<table align=\"left\">\n",
    "    <tr>\n",
    "        <td width=\"6%\">\n",
    "            <img src=\"question_icon.png\">\n",
    "        </td>\n",
    "        <td>\n",
    "            <div align=\"left\", style=\"font-size:120%\">\n",
    "                <font color=\"#21618C\">\n",
    "                    <b>9.  Calculate value of kappa for the full model built in question 5. Consider threshold value as 0.18</b>\n",
    "                </font>\n",
    "            </div>\n",
    "        </td>\n",
    "    </tr>\n",
    "</table>"
   ]
  },
  {
   "cell_type": "code",
   "execution_count": 25,
   "metadata": {},
   "outputs": [
    {
     "name": "stdout",
     "output_type": "stream",
     "text": [
      "kappa value: 0.22275959351699914\n"
     ]
    }
   ],
   "source": [
    "# let 'y_pred_prob' be the predicted values of y\n",
    "y_pred_prob = logreg_full.predict(X_test_full)\n",
    "\n",
    "# convert probabilities to 0 and 1 using 'if_else'\n",
    "y_pred = [ 0 if x < 0.18 else 1 for x in y_pred_prob]\n",
    "\n",
    "# compute the kappa value\n",
    "kappa = cohen_kappa_score(y_test_full, y_pred)\n",
    "\n",
    "# print the kappa value\n",
    "print('kappa value:',kappa)"
   ]
  },
  {
   "cell_type": "markdown",
   "metadata": {},
   "source": [
    "The kappa value at threshold 0.22 indicates that there is fair agreement between the raters (actual and predicted values). "
   ]
  },
  {
   "cell_type": "markdown",
   "metadata": {
    "collapsed": true
   },
   "source": [
    "<table align=\"left\">\n",
    "    <tr>\n",
    "        <td width=\"6%\">\n",
    "            <img src=\"question_icon.png\">\n",
    "        </td>\n",
    "        <td>\n",
    "            <div align=\"left\", style=\"font-size:120%\">\n",
    "                <font color=\"#21618C\">\n",
    "                    <b>10. Identify the features from the dataset that are involved in multicollinearity. After that, split the updated data using train_test_split.</b>\n",
    "                </font>\n",
    "            </div>\n",
    "        </td>\n",
    "    </tr>\n",
    "</table>"
   ]
  },
  {
   "cell_type": "code",
   "execution_count": 26,
   "metadata": {},
   "outputs": [
    {
     "data": {
      "image/png": "[encoded data removed]",
      "text/plain": [
       "<Figure size 1080x576 with 2 Axes>"
      ]
     },
     "metadata": {},
     "output_type": "display_data"
    }
   ],
   "source": [
    "# select_dtypes: selects the variable having specified datatype\n",
    "# include: includes the variables with specified datatype\n",
    "# drop(): drops specified column(s)/row(s) from the dataframe\n",
    "# axis: specifies whether to drop labels from index or columns; use 1 for columns and 0 for index\n",
    "df_num = df_heart.select_dtypes(include=np.number).drop(['CVD'],axis=1)\n",
    "\n",
    "# set dimensions for the plot figure\n",
    "fig_dims = (15,8)\n",
    "fig, ax = plt.subplots(figsize=fig_dims)\n",
    "\n",
    "# plot the heat map\n",
    "# corr: give the correlation matrix\n",
    "# annot: prints the correlation values in the chart\n",
    "# annot_kws: sets the font size of the annotation\n",
    "sns.heatmap(df_num.corr(), annot = True, annot_kws = {\"size\": 15})\n",
    "\n",
    "# rotate the y-axis labels\n",
    "# set text size using 'fontsize'\n",
    "plt.yticks(rotation = 'horizontal', fontsize = 15)\n",
    "plt.xticks(fontsize = 15)\n",
    "\n",
    "# display the plot\n",
    "plt.show()"
   ]
  },
  {
   "cell_type": "markdown",
   "metadata": {},
   "source": [
    "As we can see that the variables 'sysBP'and 'disBP' are highly correlated we can drop one of these variables."
   ]
  },
  {
   "cell_type": "code",
   "execution_count": 27,
   "metadata": {},
   "outputs": [],
   "source": [
    "# drop the diastolic blood pressure variable\n",
    "df_heart = df_heart.drop(['diaBP'], axis=1)"
   ]
  },
  {
   "cell_type": "code",
   "execution_count": 28,
   "metadata": {},
   "outputs": [],
   "source": [
    "# consider the independent variables\n",
    "# select_dtypes: selects the variable having specified datatype\n",
    "# include: includes the variables with specified datatype\n",
    "# drop(): drops specified column(s)/row(s) from the dataframe\n",
    "# axis: specifies whether to drop labels from index or columns; use 1 for columns and 0 for index\n",
    "df_numeric = df_heart.select_dtypes(include=np.number).drop([\"CVD\"],axis=1)\n",
    "\n",
    "# scale all the numeric independent variables\n",
    "num_scaled=df_numeric.apply(lambda rec:rec-rec.mean()/rec.std(),axis=0)\n",
    "\n",
    "# create a dataframe of scaled numerical variables\n",
    "# pass the required column names to the parameter 'columns'\n",
    "df_num = pd.DataFrame(num_scaled, columns = df_numeric.columns)\n",
    "\n",
    "# consider all the categorical variables in the data\n",
    "# select_dtypes: selects the variable having specified datatype\n",
    "# include: includes the variables with specified datatype\n",
    "df_categorical = df_heart.select_dtypes(include=\"object\")\n",
    "\n",
    "# convert the categorical variable to dummy variable\n",
    "# get_dummies(): converts the variable to categorical variable\n",
    "# drop_first=True: indicates n-1 dummy enoding; if set to false indicates one-hot encoding\n",
    "df_cat = pd.get_dummies(df_categorical, drop_first=True)\n",
    "\n",
    "# concatenate the scaled numerical and dummy variables\n",
    "# axis: specifies whether to drop labels from index or columns; use 1 for columns and 0 for index\n",
    "X = pd.concat([df_num,df_cat],axis=1)\n",
    "\n",
    "# consider the dependent variable\n",
    "y = df_heart.CVD\n",
    "\n",
    "# add a constant column to the dataframe\n",
    "# while using the 'Logit' method in the Statsmodels library, the method do not consider the intercept by default\n",
    "# we can add the intercept to the set of independent variables using 'add_constant()'\n",
    "X = sm.add_constant(X)\n",
    "\n",
    "# split data into train subset and test subset\n",
    "# set 'random_state' to generate the same dataset each time you run the code \n",
    "# 'test_size' returns the proportion of data to be included in the testing set\n",
    "X_train_full, X_test_full, y_train_full, y_test_full = train_test_split(X, y, random_state = 1, test_size = 0.2)"
   ]
  },
  {
   "cell_type": "markdown",
   "metadata": {
    "collapsed": true
   },
   "source": [
    "<table align=\"left\">\n",
    "    <tr>\n",
    "        <td width=\"6%\">\n",
    "            <img src=\"question_icon.png\">\n",
    "        </td>\n",
    "        <td>\n",
    "            <div align=\"left\", style=\"font-size:120%\">\n",
    "                <font color=\"#21618C\">\n",
    "                    <b>11. Use the data obtained from Q10 and identify 5 features that contribute most in the prediction of target variable.<br></b>\n",
    "                </font>\n",
    "            </div>\n",
    "        </td>\n",
    "    </tr>\n",
    "</table>"
   ]
  },
  {
   "cell_type": "code",
   "execution_count": 29,
   "metadata": {},
   "outputs": [
    {
     "name": "stdout",
     "output_type": "stream",
     "text": [
      "Index(['male_1', 'BPMeds_1.0', 'prevalentStroke_1', 'prevalentHyp_1',\n",
      "       'diabetes_1'],\n",
      "      dtype='object')\n"
     ]
    }
   ],
   "source": [
    "# initiate logistic regression model \n",
    "logreg = LogisticRegression()\n",
    "\n",
    "# build the RFE model\n",
    "# pass the logistic regression model to 'estimator'\n",
    "# pass number of required features to 'n_features_to_select'\n",
    "# if we do not pass the number of features, RFE considers half of the features\n",
    "rfe_model = RFE(estimator = logreg, n_features_to_select = 5)\n",
    "\n",
    "# fit the RFE model on the train dataset using fit()\n",
    "rfe_model = rfe_model.fit(X_train_full, y_train_full)\n",
    "\n",
    "# create a series containing feature and its corresponding rank obtained from RFE\n",
    "# 'ranking_' returns the rank of each variable after applying RFE\n",
    "# pass the ranks as the 'data' of a series\n",
    "# 'index' assigns feature names as index of a series \n",
    "feat_index = pd.Series(data = rfe_model.ranking_, index = X_train_full.columns)\n",
    "\n",
    "# select the features with rank = 1\n",
    "# 'index' returns the indices of a series (i.e. features with rank=1) \n",
    "signi_feat_rfe = feat_index[feat_index==1].index\n",
    "\n",
    "# print the significant features obtained from RFE\n",
    "print(signi_feat_rfe)"
   ]
  },
  {
   "cell_type": "markdown",
   "metadata": {
    "collapsed": true
   },
   "source": [
    "<table align=\"left\">\n",
    "    <tr>\n",
    "        <td width=\"6%\">\n",
    "            <img src=\"question_icon.png\">\n",
    "        </td>\n",
    "        <td>\n",
    "            <div align=\"left\", style=\"font-size:120%\">\n",
    "                <font color=\"#21618C\">\n",
    "                    <b>12. Build a model using the features obtained in question 11. For the model find: \n",
    "                        <ol>                       \n",
    "                         <li>Accuracy</li>\n",
    "                        <li>F<sub>1</sub> score</li>\n",
    "                        </ol>\n",
    "                        </b>\n",
    "                </font>\n",
    "            </div>\n",
    "        </td>\n",
    "    </tr>\n",
    "</table>"
   ]
  },
  {
   "cell_type": "code",
   "execution_count": 30,
   "metadata": {},
   "outputs": [
    {
     "name": "stdout",
     "output_type": "stream",
     "text": [
      "Optimization terminated successfully.\n",
      "         Current function value: 0.588832\n",
      "         Iterations 5\n",
      "Accuracy: 0.525062656641604\n",
      "F1 score: 0.11241217798594846\n"
     ]
    }
   ],
   "source": [
    "# convert the categorical variable to dummy variable\n",
    "# get_dummies(): converts the variable to categorical variab# build the model on train data (X_train and y_train)\n",
    "# use fit() to fit the logistic regression model\n",
    "# consider the variables obtained from RFE method and the intercept term\n",
    "logreg_rfe = sm.Logit(y_train_full, X_train_full[['male_1', 'BPMeds_1.0', 'prevalentStroke_1', 'prevalentHyp_1','diabetes_1']]).fit()\n",
    "\n",
    "X_test_new=X_test_full[['male_1', 'BPMeds_1.0', 'prevalentStroke_1', 'prevalentHyp_1','diabetes_1']]\n",
    "\n",
    "# let 'y_pred_prob' be the predicted values of y\n",
    "y_pred_prob_rfe = logreg_rfe.predict(X_test_new)\n",
    "\n",
    "# convert probabilities to 0 and 1 using 'if_else'\n",
    "y_pred = [ 0 if x < 0.5 else 1 for x in y_pred_prob_rfe]\n",
    "\n",
    "# pass the actual and predicted target values to the accuracy_score()\n",
    "print(\"Accuracy:\",accuracy_score(y_test_full, y_pred))\n",
    "\n",
    "# pass the actual and predicted target values to the f1_score()\n",
    "print(\"F1 score:\",f1_score(y_test_full, y_pred))\n"
   ]
  },
  {
   "cell_type": "markdown",
   "metadata": {
    "collapsed": true
   },
   "source": [
    "<table align=\"left\">\n",
    "    <tr>\n",
    "        <td width=\"6%\">\n",
    "            <img src=\"question_icon.png\">\n",
    "        </td>\n",
    "        <td>\n",
    "            <div align=\"left\", style=\"font-size:120%\">\n",
    "                <font color=\"#21618C\">\n",
    "                    <b>13. Compare the full model in question 5 and the model built in question 12 using their ROC curves. </b>\n",
    "                </font>\n",
    "            </div>\n",
    "        </td>\n",
    "    </tr>\n",
    "</table>"
   ]
  },
  {
   "cell_type": "code",
   "execution_count": 31,
   "metadata": {},
   "outputs": [
    {
     "data": {
      "image/png": "[encoded data removed]",
      "text/plain": [
       "<Figure size 720x360 with 1 Axes>"
      ]
     },
     "metadata": {},
     "output_type": "display_data"
    }
   ],
   "source": [
    "# the roc_curve() returns the values for false positive rate, true positive rate and threshold\n",
    "# pass the actual target values and predicted probabilities to the function\n",
    "fpr, tpr, thresholds = roc_curve(y_test_full, y_pred_prob_full)\n",
    "\n",
    "# plot the ROC curve\n",
    "plt.plot(fpr, tpr)\n",
    "\n",
    "# set limits for x and y axes\n",
    "plt.xlim([0.0, 1.0])\n",
    "plt.ylim([0.0, 1.0])\n",
    "\n",
    "# plot the straight line showing worst prediction for the model\n",
    "plt.plot([0, 1], [0, 1],'r--')\n",
    "\n",
    "# add plot and axes labels\n",
    "# set text size using 'fontsize'\n",
    "plt.title('ROC curve for Cardiovascular disease Prediction Classifier (Full Model)', fontsize = 15)\n",
    "plt.xlabel('False positive rate (1-Specificity)', fontsize = 15)\n",
    "plt.ylabel('True positive rate (Sensitivity)', fontsize = 15)\n",
    "\n",
    "# add the AUC score to the plot\n",
    "# 'x' and 'y' gives position of the text\n",
    "# 's' is the text \n",
    "# use round() to round-off the AUC score upto 4 digits\n",
    "plt.text(x = 0.02, y = 0.9, s = ('AUC Score for full model:',round(metrics.roc_auc_score(y_test_full, y_pred_prob_full),4)))\n",
    "\n",
    "# the roc_curve() returns the values for false positive rate, true positive rate and threshold\n",
    "# pass the actual target values and predicted probabilities to the function\n",
    "fpr1, tpr1, thresholds1 = roc_curve(y_test_full, y_pred_prob_rfe)\n",
    "\n",
    "# plot the ROC curve\n",
    "plt.plot(fpr1, tpr1)\n",
    "\n",
    "# add the AUC score to the plot\n",
    "# 'x' and 'y' gives position of the text\n",
    "# 's' is the text \n",
    "# use round() to round-off the AUC score upto 4 digits\n",
    "plt.text(x = 0.02, y = 0.8, s = ('AUC Score for RFE model:',round(metrics.roc_auc_score(y_test_full, y_pred_prob_rfe),4)))\n",
    "                               \n",
    "# plot the grid\n",
    "plt.grid(True)"
   ]
  },
  {
   "cell_type": "markdown",
   "metadata": {},
   "source": [
    "From the above figure we can see the area under curve is greater for the full model. Hence we can say that full model is better than the model built using 5 significant features."
   ]
  },
  {
   "cell_type": "markdown",
   "metadata": {
    "collapsed": true
   },
   "source": [
    "<table align=\"left\">\n",
    "    <tr>\n",
    "        <td width=\"6%\">\n",
    "            <img src=\"question_icon.png\">\n",
    "        </td>\n",
    "        <td>\n",
    "            <div align=\"left\", style=\"font-size:120%\">\n",
    "                <font color=\"#21618C\">\n",
    "                    <b>14. Build a logistic regression model using information about heart rate of the patients. Compute the AUC score.</b>\n",
    "                </font>\n",
    "            </div>\n",
    "        </td>\n",
    "    </tr>\n",
    "</table>"
   ]
  },
  {
   "cell_type": "code",
   "execution_count": 32,
   "metadata": {},
   "outputs": [],
   "source": [
    "# select the numeric independent variables\n",
    "df_num = df_heart.iloc[:,[13]]\n",
    "\n",
    "# scale all the numeric independent variables\n",
    "num_scaled=df_num.apply(lambda rec:rec-rec.mean()/rec.std(),axis=0)\n",
    "\n",
    "# create a dataframe of scaled numerical variables\n",
    "# pass the required column names to the parameter 'columns'\n",
    "X = pd.DataFrame(num_scaled, columns = df_num.columns)\n",
    "\n",
    "# set target variable\n",
    "y = df_heart.CVD"
   ]
  },
  {
   "cell_type": "code",
   "execution_count": 33,
   "metadata": {},
   "outputs": [],
   "source": [
    "# add a constant column to the dataframe\n",
    "# while using the 'Logit' method in the Statsmodels library, the method do not consider the intercept by default\n",
    "# we can add the intercept to the set of independent variables using 'add_constant()'\n",
    "X = sm.add_constant(X)\n",
    "\n",
    "# split data into train subset and test subset\n",
    "# set 'random_state' to generate the same dataset each time you run the code \n",
    "# 'test_size' returns the proportion of data to be included in the testing set\n",
    "X_train_rate, X_test_rate, y_train_rate, y_test_rate = train_test_split(X, y, random_state = 1, test_size = 0.2)"
   ]
  },
  {
   "cell_type": "code",
   "execution_count": 34,
   "metadata": {},
   "outputs": [
    {
     "name": "stdout",
     "output_type": "stream",
     "text": [
      "Optimization terminated successfully.\n",
      "         Current function value: 0.417653\n",
      "         Iterations 6\n",
      "AUC Score: 0.5541\n"
     ]
    }
   ],
   "source": [
    "# build the model on train data \n",
    "# use fit() to fit the logistic regression model\n",
    "logreg_heart = sm.Logit(y_train_rate, X_train_rate).fit()\n",
    "\n",
    "# let 'y_pred_prob_rfe' be the predicted values of y\n",
    "y_pred_prob = logreg_heart.predict(X_test_rate)\n",
    "\n",
    "# print AUC score\n",
    "print('AUC Score:',round(metrics.roc_auc_score(y_test_rate, y_pred_prob),4))\n"
   ]
  },
  {
   "cell_type": "markdown",
   "metadata": {
    "collapsed": true
   },
   "source": [
    "<table align=\"left\">\n",
    "    <tr>\n",
    "        <td width=\"6%\">\n",
    "            <img src=\"question_icon.png\">\n",
    "        </td>\n",
    "        <td>\n",
    "            <div align=\"left\", style=\"font-size:120%\">\n",
    "                <font color=\"#21618C\">\n",
    "                    <b>15. Calculate the cross entropy for the model built in question 14.</b>\n",
    "                </font>\n",
    "            </div>\n",
    "        </td>\n",
    "    </tr>\n",
    "</table>"
   ]
  },
  {
   "cell_type": "markdown",
   "metadata": {},
   "source": [
    "Binary cross entropy also called log loss. Lower the value of cross entropy better is the model."
   ]
  },
  {
   "cell_type": "code",
   "execution_count": 35,
   "metadata": {},
   "outputs": [
    {
     "name": "stdout",
     "output_type": "stream",
     "text": [
      "Log loss: 5.020674262919347\n"
     ]
    }
   ],
   "source": [
    "# convert probabilities to 0 and 1 using 'if_else'\n",
    "y_pred = [ 0 if x < 0.5 else 1 for x in y_pred_prob]\n",
    "\n",
    "# pass the actual and predicted values to log_loss()\n",
    "print(\"Log loss:\",log_loss(y_test_rate,y_pred))"
   ]
  },
  {
   "cell_type": "markdown",
   "metadata": {
    "collapsed": true
   },
   "source": [
    "<table align=\"left\">\n",
    "    <tr>\n",
    "        <td width=\"6%\">\n",
    "            <img src=\"question_icon.png\">\n",
    "        </td>\n",
    "        <td>\n",
    "            <div align=\"left\", style=\"font-size:120%\">\n",
    "                <font color=\"#21618C\">\n",
    "                    <b>16. Compare the model built in question 14 to the full model built in question 5.</b>\n",
    "                </font>\n",
    "            </div>\n",
    "        </td>\n",
    "    </tr>\n",
    "</table>"
   ]
  },
  {
   "cell_type": "markdown",
   "metadata": {},
   "source": [
    "Here we will use deviance of the two models for comparing them."
   ]
  },
  {
   "cell_type": "code",
   "execution_count": 36,
   "metadata": {},
   "outputs": [
    {
     "name": "stdout",
     "output_type": "stream",
     "text": [
      "Deviance for model in 14: 2665.4621600921905\n",
      "Deviance for model in Q5(Full model): 2488.3935502006943\n"
     ]
    }
   ],
   "source": [
    "# For model in question 14 deviance is given by\n",
    "deviance_heart=-2*logreg_heart.llf\n",
    "\n",
    "# For model in question 5 deviance is given by\n",
    "deviance_full=-2*logreg_full.llf\n",
    "\n",
    "print(\"Deviance for model in 14:\",deviance_heart)\n",
    "print(\"Deviance for model in Q5(Full model):\",deviance_full)"
   ]
  },
  {
   "cell_type": "markdown",
   "metadata": {},
   "source": [
    "As we can see the full model has a lower deviance and hence is a better model."
   ]
  },
  {
   "cell_type": "markdown",
   "metadata": {
    "collapsed": true
   },
   "source": [
    "<table align=\"left\">\n",
    "    <tr>\n",
    "        <td width=\"6%\">\n",
    "            <img src=\"question_icon.png\">\n",
    "        </td>\n",
    "        <td>\n",
    "            <div align=\"left\", style=\"font-size:120%\">\n",
    "                <font color=\"#21618C\">\n",
    "                    <b>17. What is the cross entropy for the full model? Use the full model in Q5.</b>\n",
    "                </font>\n",
    "            </div>\n",
    "        </td>\n",
    "    </tr>\n",
    "</table>"
   ]
  },
  {
   "cell_type": "code",
   "execution_count": 37,
   "metadata": {
    "scrolled": true
   },
   "outputs": [
    {
     "name": "stdout",
     "output_type": "stream",
     "text": [
      "Log loss: 5.150522292965741\n"
     ]
    }
   ],
   "source": [
    "# use the full model in Q5\n",
    "# convert probabilities to 0 and 1 using 'if_else'\n",
    "y_pred = [ 0 if x < 0.5 else 1 for x in y_pred_prob_full]\n",
    "\n",
    "# pass the actual and predicted values to log_loss()\n",
    "print(\"Log loss:\",log_loss(y_test,y_pred))"
   ]
  },
  {
   "cell_type": "markdown",
   "metadata": {},
   "source": [
    "As we can see the cross entropy has incresed after including more variables in the model compared to the model considered in question 15. So in our problem as more variables are added the predictions move away the actual labels."
   ]
  },
  {
   "cell_type": "markdown",
   "metadata": {
    "collapsed": true
   },
   "source": [
    "<table align=\"left\">\n",
    "    <tr>\n",
    "        <td width=\"6%\">\n",
    "            <img src=\"question_icon.png\">\n",
    "        </td>\n",
    "        <td>\n",
    "            <div align=\"left\", style=\"font-size:120%\">\n",
    "                <font color=\"#21618C\">\n",
    "                    <b>18. Predict whether a patient has cardiovascular disease based on smoking habits of the patient. For the model find the following:<br> <ol type = \"a\">\n",
    "                        <li> Precision </li>\n",
    "                        <li> Recall</li>   \n",
    "                        <li> F<sub>1</sub> score </li>\n",
    "                        </ol>\n",
    "                    </b>\n",
    "                </font>\n",
    "            </div>\n",
    "        </td>\n",
    "    </tr>\n",
    "</table>"
   ]
  },
  {
   "cell_type": "code",
   "execution_count": 38,
   "metadata": {},
   "outputs": [
    {
     "name": "stdout",
     "output_type": "stream",
     "text": [
      "Optimization terminated successfully.\n",
      "         Current function value: 0.420406\n",
      "         Iterations 6\n",
      "              precision    recall  f1-score   support\n",
      "\n",
      "           0       0.85      1.00      0.92       681\n",
      "           1       0.00      0.00      0.00       117\n",
      "\n",
      "    accuracy                           0.85       798\n",
      "   macro avg       0.43      0.50      0.46       798\n",
      "weighted avg       0.73      0.85      0.79       798\n",
      "\n"
     ]
    }
   ],
   "source": [
    "# consider the numeric independent variable\n",
    "df_num = df_heart.cigsPerDay\n",
    "\n",
    "# scale all the numeric independent variables\n",
    "num_scaled=df_numeric.apply(lambda rec:rec-rec.mean()/rec.std(),axis=0)\n",
    "\n",
    "# create a dataframe of scaled numerical variables\n",
    "# pass the required column names to the parameter 'columns'\n",
    "df_num = pd.DataFrame(num_scaled, columns = ['cigsPerDay'] )\n",
    "\n",
    "# convert the categorical variable to dummy variable\n",
    "# get_dummies(): converts the variable to categorical variable\n",
    "# drop_first=True: indicates n-1 dummy enoding; if set to false indicate one-hot encoding\n",
    "df_cat = pd.get_dummies(df_heart.currentSmoker, drop_first=True)\n",
    "\n",
    "# concatenate the scaled numerical and dummy variables\n",
    "# axis: specifies whether to drop labels from index or columns; use 1 for columns and 0 for index\n",
    "X = pd.concat([df_num,df_cat],axis=1)\n",
    "\n",
    "# consider the dependent variable\n",
    "y = df_heart.CVD\n",
    "\n",
    "# add a constant column to the dataframe\n",
    "# while using the 'Logit' method in the Statsmodels library, the method do not consider the intercept by default\n",
    "# we can add the intercept to the set of independent variables using 'add_constant()'\n",
    "X = sm.add_constant(X)\n",
    "\n",
    "# split data into train subset and test subset\n",
    "# set 'random_state' to generate the same dataset each time you run the code \n",
    "# 'test_size' returns the proportion of data to be included in the testing set\n",
    "X_train_smoke, X_test_smoke, y_train_smoke, y_test_smoke = train_test_split(X, y, random_state = 1, test_size = 0.2)\n",
    "\n",
    "# build the model on train data \n",
    "# use fit() to fit the logistic regression model\n",
    "logreg = sm.Logit(y_train_smoke, X_train_smoke).fit()\n",
    "\n",
    "# let 'y_pred_prob' be the predicted values of y\n",
    "y_pred_prob = logreg.predict(X_test_smoke)\n",
    "\n",
    "# convert probabilities to 0 and 1 using 'if_else'\n",
    "y_pred = [ 0 if x < 0.5 else 1 for x in y_pred_prob]\n",
    "\n",
    "# print classification report for the predictions\n",
    "print(classification_report(y_test_smoke, y_pred))"
   ]
  },
  {
   "cell_type": "markdown",
   "metadata": {},
   "source": [
    "<a id=\"opt\"> </a>\n",
    "## 4. Determining optimal threshold"
   ]
  },
  {
   "cell_type": "markdown",
   "metadata": {
    "collapsed": true
   },
   "source": [
    "<table align=\"left\">\n",
    "    <tr>\n",
    "        <td width=\"6%\">\n",
    "            <img src=\"question_icon.png\">\n",
    "        </td>\n",
    "        <td>\n",
    "            <div align=\"left\", style=\"font-size:120%\">\n",
    "                <font color=\"#21618C\">\n",
    "                    <b>19. Obtain the optimal value threshold for the full model using the Youden's index.</b>\n",
    "                </font>\n",
    "            </div>\n",
    "        </td>\n",
    "    </tr>\n",
    "</table>"
   ]
  },
  {
   "cell_type": "code",
   "execution_count": 39,
   "metadata": {},
   "outputs": [
    {
     "name": "stdout",
     "output_type": "stream",
     "text": [
      "Optimization terminated successfully.\n",
      "         Current function value: 0.374550\n",
      "         Iterations 7\n",
      "                           Logit Regression Results                           \n",
      "==============================================================================\n",
      "Dep. Variable:                    CVD   No. Observations:                 3191\n",
      "Model:                          Logit   Df Residuals:                     3174\n",
      "Method:                           MLE   Df Model:                           16\n",
      "Date:                Wed, 16 Sep 2020   Pseudo R-squ.:                  0.1132\n",
      "Time:                        17:23:42   Log-Likelihood:                -1195.2\n",
      "converged:                       True   LL-Null:                       -1347.7\n",
      "Covariance Type:            nonrobust   LLR p-value:                 2.242e-55\n",
      "=====================================================================================\n",
      "                        coef    std err          z      P>|z|      [0.025      0.975]\n",
      "-------------------------------------------------------------------------------------\n",
      "const                -7.7098      0.662    -11.647      0.000      -9.007      -6.412\n",
      "age                   0.0629      0.007      8.760      0.000       0.049       0.077\n",
      "cigsPerDay            0.0191      0.007      2.861      0.004       0.006       0.032\n",
      "totChol               0.0023      0.001      1.868      0.062      -0.000       0.005\n",
      "sysBP                 0.0148      0.003      4.681      0.000       0.009       0.021\n",
      "BMI                  -0.0066      0.014     -0.486      0.627      -0.033       0.020\n",
      "heartRate            -0.0036      0.005     -0.797      0.425      -0.013       0.005\n",
      "glucose               0.0068      0.002      2.788      0.005       0.002       0.012\n",
      "male_1                0.5095      0.117      4.356      0.000       0.280       0.739\n",
      "education_2.0        -0.2042      0.134     -1.524      0.128      -0.467       0.058\n",
      "education_3.0        -0.0407      0.158     -0.258      0.796      -0.350       0.269\n",
      "education_4.0         0.0168      0.174      0.097      0.923      -0.324       0.357\n",
      "currentSmoker_1       0.1183      0.167      0.710      0.478      -0.208       0.445\n",
      "BPMeds_1.0            0.3320      0.245      1.357      0.175      -0.148       0.811\n",
      "prevalentStroke_1     0.7277      0.527      1.380      0.167      -0.305       1.761\n",
      "prevalentHyp_1        0.1172      0.149      0.787      0.431      -0.175       0.409\n",
      "diabetes_1            0.0009      0.359      0.002      0.998      -0.702       0.704\n",
      "=====================================================================================\n"
     ]
    }
   ],
   "source": [
    "# build the model on train data \n",
    "# use fit() to fit the logistic regression model\n",
    "logreg_full = sm.Logit(y_train_full, X_train_full).fit()\n",
    "\n",
    "# let 'y_pred_prob' be the predicted values of y\n",
    "y_pred_prob_full = logreg_full.predict(X_test_full)\n",
    "\n",
    "# print the summary of the model\n",
    "print(logreg_full.summary())"
   ]
  },
  {
   "cell_type": "code",
   "execution_count": 40,
   "metadata": {},
   "outputs": [
    {
     "data": {
      "text/html": [
       "<div>\n",
       "<style scoped>\n",
       "    .dataframe tbody tr th:only-of-type {\n",
       "        vertical-align: middle;\n",
       "    }\n",
       "\n",
       "    .dataframe tbody tr th {\n",
       "        vertical-align: top;\n",
       "    }\n",
       "\n",
       "    .dataframe thead th {\n",
       "        text-align: right;\n",
       "    }\n",
       "</style>\n",
       "<table border=\"1\" class=\"dataframe\">\n",
       "  <thead>\n",
       "    <tr style=\"text-align: right;\">\n",
       "      <th></th>\n",
       "      <th>TPR</th>\n",
       "      <th>FPR</th>\n",
       "      <th>Threshold</th>\n",
       "      <th>Difference</th>\n",
       "    </tr>\n",
       "  </thead>\n",
       "  <tbody>\n",
       "    <tr>\n",
       "      <th>0</th>\n",
       "      <td>0.666667</td>\n",
       "      <td>0.256975</td>\n",
       "      <td>0.170194</td>\n",
       "      <td>0.409692</td>\n",
       "    </tr>\n",
       "    <tr>\n",
       "      <th>1</th>\n",
       "      <td>0.658120</td>\n",
       "      <td>0.249633</td>\n",
       "      <td>0.173637</td>\n",
       "      <td>0.408487</td>\n",
       "    </tr>\n",
       "    <tr>\n",
       "      <th>2</th>\n",
       "      <td>0.683761</td>\n",
       "      <td>0.277533</td>\n",
       "      <td>0.164190</td>\n",
       "      <td>0.406228</td>\n",
       "    </tr>\n",
       "    <tr>\n",
       "      <th>3</th>\n",
       "      <td>0.717949</td>\n",
       "      <td>0.312775</td>\n",
       "      <td>0.152991</td>\n",
       "      <td>0.405173</td>\n",
       "    </tr>\n",
       "    <tr>\n",
       "      <th>4</th>\n",
       "      <td>0.675214</td>\n",
       "      <td>0.270191</td>\n",
       "      <td>0.166715</td>\n",
       "      <td>0.405023</td>\n",
       "    </tr>\n",
       "  </tbody>\n",
       "</table>\n",
       "</div>"
      ],
      "text/plain": [
       "       TPR      FPR  Threshold  Difference\n",
       "0 0.666667 0.256975   0.170194    0.409692\n",
       "1 0.658120 0.249633   0.173637    0.408487\n",
       "2 0.683761 0.277533   0.164190    0.406228\n",
       "3 0.717949 0.312775   0.152991    0.405173\n",
       "4 0.675214 0.270191   0.166715    0.405023"
      ]
     },
     "execution_count": 40,
     "metadata": {},
     "output_type": "execute_result"
    }
   ],
   "source": [
    "# use the full model in Q5\n",
    "# let 'y_pred_prob' be the predicted values of y\n",
    "y_pred_prob = logreg_full.predict(X_test_full)\n",
    "\n",
    "# obtain the values for false positive rate, true positive rate and threshold\n",
    "# pass the actual target values and predicted probabilities to the function\n",
    "fpr, tpr, thresholds = roc_curve(y_test_full, y_pred_prob)\n",
    "\n",
    "# create a dataframe to store the values for false positive rate, true positive rate and threshold\n",
    "youdens_table = pd.DataFrame({'TPR': tpr,\n",
    "                             'FPR': fpr,\n",
    "                             'Threshold': thresholds})\n",
    "\n",
    "# calculate the difference between TPR and FPR for each threshold and store the values in a new column 'Difference'\n",
    "youdens_table['Difference'] = youdens_table.TPR - youdens_table.FPR\n",
    "\n",
    "# sort the dataframe based on the values of difference \n",
    "# 'ascending = False' sorts the data in descending order\n",
    "# 'reset_index' resets the index of the dataframe\n",
    "# 'drop = True' drops the previous index\n",
    "youdens_table = youdens_table.sort_values('Difference', ascending = False).reset_index(drop = True)\n",
    "\n",
    "# print the first five observations\n",
    "youdens_table.head()"
   ]
  },
  {
   "cell_type": "markdown",
   "metadata": {},
   "source": [
    "The above output shows that the maximum difference in TPR and FPR is corresponding to the cut-off value 0.170194. Thus, we can consider this value as the optimal value for cut-off."
   ]
  },
  {
   "cell_type": "markdown",
   "metadata": {
    "collapsed": true
   },
   "source": [
    "<table align=\"left\">\n",
    "    <tr>\n",
    "        <td width=\"6%\">\n",
    "            <img src=\"question_icon.png\">\n",
    "        </td>\n",
    "        <td>\n",
    "            <div align=\"left\", style=\"font-size:120%\">\n",
    "                <font color=\"#21618C\">\n",
    "                    <b>20. Consider the costs of false negatives and false positives as 3 and 1.3 respectively to obtain the optimal cut-off probability for which the total cost will be minimum.</b>\n",
    "                </font>\n",
    "            </div>\n",
    "        </td>\n",
    "    </tr>\n",
    "</table>"
   ]
  },
  {
   "cell_type": "code",
   "execution_count": 41,
   "metadata": {},
   "outputs": [
    {
     "data": {
      "text/html": [
       "<div>\n",
       "<style scoped>\n",
       "    .dataframe tbody tr th:only-of-type {\n",
       "        vertical-align: middle;\n",
       "    }\n",
       "\n",
       "    .dataframe tbody tr th {\n",
       "        vertical-align: top;\n",
       "    }\n",
       "\n",
       "    .dataframe thead th {\n",
       "        text-align: right;\n",
       "    }\n",
       "</style>\n",
       "<table border=\"1\" class=\"dataframe\">\n",
       "  <thead>\n",
       "    <tr style=\"text-align: right;\">\n",
       "      <th></th>\n",
       "      <th>cut-off</th>\n",
       "      <th>total_cost</th>\n",
       "    </tr>\n",
       "  </thead>\n",
       "  <tbody>\n",
       "    <tr>\n",
       "      <th>14</th>\n",
       "      <td>0.240000</td>\n",
       "      <td>311.600000</td>\n",
       "    </tr>\n",
       "    <tr>\n",
       "      <th>13</th>\n",
       "      <td>0.230000</td>\n",
       "      <td>314.700000</td>\n",
       "    </tr>\n",
       "    <tr>\n",
       "      <th>15</th>\n",
       "      <td>0.250000</td>\n",
       "      <td>316.600000</td>\n",
       "    </tr>\n",
       "    <tr>\n",
       "      <th>17</th>\n",
       "      <td>0.270000</td>\n",
       "      <td>317.200000</td>\n",
       "    </tr>\n",
       "    <tr>\n",
       "      <th>16</th>\n",
       "      <td>0.260000</td>\n",
       "      <td>318.600000</td>\n",
       "    </tr>\n",
       "  </tbody>\n",
       "</table>\n",
       "</div>"
      ],
      "text/plain": [
       "    cut-off  total_cost\n",
       "14 0.240000  311.600000\n",
       "13 0.230000  314.700000\n",
       "15 0.250000  316.600000\n",
       "17 0.270000  317.200000\n",
       "16 0.260000  318.600000"
      ]
     },
     "execution_count": 41,
     "metadata": {},
     "output_type": "execute_result"
    }
   ],
   "source": [
    "# define a function to calculate the total_cost for a cut-off value\n",
    "# pass the actual values of y, predicted probabilities of y, cost for FN and FP\n",
    "def calculate_total_cost(actual_value, predicted_value, cost_FN, cost_FP):\n",
    "\n",
    "    # pass the actual and predicted values to calculate the confusion matrix\n",
    "    cm = confusion_matrix(actual_value, predicted_value)           \n",
    "    \n",
    "    # create an array of the confusion matrix\n",
    "    cm_array = np.array(cm)\n",
    "    \n",
    "    # return the total_cost\n",
    "    return cm_array[1,0] * cost_FN + cm_array[0,1] * cost_FP\n",
    "\n",
    "# create an empty dataframe to store the cost for different probability cut-offs\n",
    "df_total_cost = pd.DataFrame(columns = ['cut-off', 'total_cost'])\n",
    "\n",
    "# initialize i to '0' corresponding to the 1st row in the dataframe\n",
    "i = 0\n",
    "\n",
    "# use for loop to calculate 'total_cost' for each cut-off probability value\n",
    "# call the function 'calculate_total_cost' to calculate the cost\n",
    "# pass the actual y-values\n",
    "# calculate the predicted y-values from 'y_pred_prob' for the cut-off probability value\n",
    "# assign the costs 2 and 0.4 to False Negatives and False Positives respectively\n",
    "# add the obtained 'cut_off' and 'total_cost' at the ith index of the dataframe\n",
    "for cut_off in range(10, 50):\n",
    "    total_cost = calculate_total_cost(y_test_full,  y_pred_prob.map(lambda x: 1 if x > (cut_off/100) else 0), 3, 1.3) \n",
    "    df_total_cost.loc[i] = [(cut_off/100), total_cost] \n",
    "    \n",
    "    # increment the value of 'i' for each row index in the dataframe 'df_total_cost'\n",
    "    i += 1\n",
    "    \n",
    "# sort the dataframe based on the 'total_cost' in the ascending order\n",
    "# print the first five rows in the dataframe\n",
    "df_total_cost.sort_values('total_cost', ascending = True).head()"
   ]
  },
  {
   "cell_type": "markdown",
   "metadata": {},
   "source": [
    "From the above output we can see that, for the cut-off probability 0.24 the total cost is minimum."
   ]
  }
 ],
 "metadata": {
  "kernelspec": {
   "display_name": "Python 3",
   "language": "python",
   "name": "python3"
  },
  "language_info": {
   "codemirror_mode": {
    "name": "ipython",
    "version": 3
   },
   "file_extension": ".py",
   "mimetype": "text/x-python",
   "name": "python",
   "nbconvert_exporter": "python",
   "pygments_lexer": "ipython3",
   "version": "3.8.3"
  }
 },
 "nbformat": 4,
 "nbformat_minor": 2
}
