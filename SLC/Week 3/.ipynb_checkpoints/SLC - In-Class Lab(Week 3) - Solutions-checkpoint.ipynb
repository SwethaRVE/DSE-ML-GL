{
 "cells": [
  {
   "cell_type": "markdown",
   "metadata": {
    "id": "uU6wQQfwVc2F"
   },
   "source": [
    "<table align=\"center\" width=100%>\n",
    "    <tr>\n",
    "        <td width=\"20%\">\n",
    "            <img src=\"in_class.png\">\n",
    "        </td>\n",
    "        <td>\n",
    "            <div align=\"center\">\n",
    "                <font color=\"#21618C\" size=8px>\n",
    "                    <b> Inclass - Lab <br>(Week 3)\n",
    "                    </b>\n",
    "                </font>\n",
    "            </div>\n",
    "        </td>\n",
    "         <td width=\"25%\">\n",
    "            <img src=\"GL-2.png\">\n",
    "        </td>\n",
    "    </tr>\n",
    "</table>"
   ]
  },
  {
   "cell_type": "markdown",
   "metadata": {
    "id": "xX68t9PoVc2J"
   },
   "source": [
    "### About the data set (Employee data)\n",
    "\n",
    "The dataset contains information about employees. The aim is to find which employees might undergo attrition.<br> Attribute information: \n",
    "\n",
    "**Age:** Age of the employee \n",
    "\n",
    "**BusinessTravel:** How much travel is involved in the job for the employee:No Travel, Travel Frequently, Tavel Rarely\n",
    "\n",
    "**Department:** Department of the employee: Human Resources, Reserach & Development, Sales\n",
    "\n",
    "**Commute:** Number of miles of daily commute for the employee\n",
    "\n",
    "**Education:** Employee education field: Human Resources, Life Sciences, Marketing, Medical Sciences, Technical, Others\n",
    "\n",
    "**EnvironmentSatisfaction:** Satisfaction of employee with office environment\n",
    "\n",
    "**Gender:** Employee gender\n",
    "\n",
    "**JobInvolvement:** Job involvement rating\n",
    "\n",
    "**JobLevel:**  Job level for employee designation\n",
    "\n",
    "**JobSatisfaction:** Employee job satisfaction rating\n",
    "\n",
    "**MonthlyIncome:** Employee monthly salary\n",
    "\n",
    "**OverTime:** Has the employee been open to working overtime: Yes or No\n",
    "\n",
    "**PercentSalaryHike:** Percent increase in salary\n",
    "\n",
    "**PerformanceRating:** Overall employee performance rating\n",
    "\n",
    "**YearsAtCompany:** Number of years the employee has worked with the company\n",
    "\n",
    "**Attrition:** Employee leaving the company: Yes or No"
   ]
  },
  {
   "cell_type": "markdown",
   "metadata": {
    "id": "6I7NnTNSVc2K"
   },
   "source": [
    "## Table of Content\n",
    "\n",
    "1. **[Decision tree](#dtree)**\n",
    "2. **[Random forest](#rf)**"
   ]
  },
  {
   "cell_type": "markdown",
   "metadata": {
    "id": "7mqqNSNtVc2L"
   },
   "source": [
    "**Import the required libraries**"
   ]
  },
  {
   "cell_type": "code",
   "execution_count": 8,
   "metadata": {
    "id": "OYGRZSDOVc2L"
   },
   "outputs": [],
   "source": [
    "import pandas as pd\n",
    "import seaborn as sns\n",
    "import matplotlib.pyplot as plt\n",
    "import numpy as np\n",
    "from sklearn.model_selection import train_test_split,cross_val_score,GridSearchCV\n",
    "from sklearn.tree import DecisionTreeClassifier,plot_tree\n",
    "from sklearn.metrics import accuracy_score,roc_auc_score,confusion_matrix,classification_report\n",
    "from sklearn.metrics import roc_curve\n",
    "from random import seed,choices\n",
    "from sklearn.ensemble import RandomForestClassifier"
   ]
  },
  {
   "cell_type": "markdown",
   "metadata": {
    "id": "LxEOP_g_Vc2M"
   },
   "source": [
    "#### Load the csv file"
   ]
  },
  {
   "cell_type": "code",
   "execution_count": 9,
   "metadata": {
    "id": "G3FfnhEwVc2M"
   },
   "outputs": [
    {
     "data": {
      "text/html": [
       "<div>\n",
       "<style scoped>\n",
       "    .dataframe tbody tr th:only-of-type {\n",
       "        vertical-align: middle;\n",
       "    }\n",
       "\n",
       "    .dataframe tbody tr th {\n",
       "        vertical-align: top;\n",
       "    }\n",
       "\n",
       "    .dataframe thead th {\n",
       "        text-align: right;\n",
       "    }\n",
       "</style>\n",
       "<table border=\"1\" class=\"dataframe\">\n",
       "  <thead>\n",
       "    <tr style=\"text-align: right;\">\n",
       "      <th></th>\n",
       "      <th>Age</th>\n",
       "      <th>Attrition</th>\n",
       "      <th>BusinessTravel</th>\n",
       "      <th>Department</th>\n",
       "      <th>DistanceFromHome</th>\n",
       "      <th>EducationField</th>\n",
       "      <th>EnvironmentSatisfaction</th>\n",
       "      <th>Gender</th>\n",
       "      <th>JobInvolvement</th>\n",
       "      <th>JobLevel</th>\n",
       "      <th>JobRole</th>\n",
       "      <th>JobSatisfaction</th>\n",
       "      <th>MonthlyIncome</th>\n",
       "      <th>NumCompaniesWorked</th>\n",
       "      <th>OverTime</th>\n",
       "      <th>PercentSalaryHike</th>\n",
       "      <th>PerformanceRating</th>\n",
       "      <th>YearsAtCompany</th>\n",
       "    </tr>\n",
       "  </thead>\n",
       "  <tbody>\n",
       "    <tr>\n",
       "      <th>0</th>\n",
       "      <td>33</td>\n",
       "      <td>Yes</td>\n",
       "      <td>Travel_Frequently</td>\n",
       "      <td>Research &amp; Development</td>\n",
       "      <td>3</td>\n",
       "      <td>Life Sciences</td>\n",
       "      <td>1</td>\n",
       "      <td>Male</td>\n",
       "      <td>3</td>\n",
       "      <td>1</td>\n",
       "      <td>Research Scientist</td>\n",
       "      <td>1</td>\n",
       "      <td>3348</td>\n",
       "      <td>1</td>\n",
       "      <td>Yes</td>\n",
       "      <td>11</td>\n",
       "      <td>3</td>\n",
       "      <td>10</td>\n",
       "    </tr>\n",
       "    <tr>\n",
       "      <th>1</th>\n",
       "      <td>32</td>\n",
       "      <td>Yes</td>\n",
       "      <td>Travel_Rarely</td>\n",
       "      <td>Sales</td>\n",
       "      <td>4</td>\n",
       "      <td>Medical</td>\n",
       "      <td>4</td>\n",
       "      <td>Male</td>\n",
       "      <td>1</td>\n",
       "      <td>3</td>\n",
       "      <td>Sales Executive</td>\n",
       "      <td>4</td>\n",
       "      <td>10400</td>\n",
       "      <td>1</td>\n",
       "      <td>No</td>\n",
       "      <td>11</td>\n",
       "      <td>3</td>\n",
       "      <td>14</td>\n",
       "    </tr>\n",
       "    <tr>\n",
       "      <th>2</th>\n",
       "      <td>40</td>\n",
       "      <td>Yes</td>\n",
       "      <td>Travel_Rarely</td>\n",
       "      <td>Research &amp; Development</td>\n",
       "      <td>9</td>\n",
       "      <td>Life Sciences</td>\n",
       "      <td>4</td>\n",
       "      <td>Male</td>\n",
       "      <td>3</td>\n",
       "      <td>1</td>\n",
       "      <td>Laboratory Technician</td>\n",
       "      <td>1</td>\n",
       "      <td>2018</td>\n",
       "      <td>3</td>\n",
       "      <td>No</td>\n",
       "      <td>14</td>\n",
       "      <td>3</td>\n",
       "      <td>5</td>\n",
       "    </tr>\n",
       "    <tr>\n",
       "      <th>3</th>\n",
       "      <td>42</td>\n",
       "      <td>No</td>\n",
       "      <td>Travel_Rarely</td>\n",
       "      <td>Research &amp; Development</td>\n",
       "      <td>7</td>\n",
       "      <td>Medical</td>\n",
       "      <td>2</td>\n",
       "      <td>Female</td>\n",
       "      <td>4</td>\n",
       "      <td>2</td>\n",
       "      <td>Research Scientist</td>\n",
       "      <td>2</td>\n",
       "      <td>2372</td>\n",
       "      <td>6</td>\n",
       "      <td>Yes</td>\n",
       "      <td>16</td>\n",
       "      <td>3</td>\n",
       "      <td>1</td>\n",
       "    </tr>\n",
       "    <tr>\n",
       "      <th>4</th>\n",
       "      <td>43</td>\n",
       "      <td>No</td>\n",
       "      <td>Travel_Frequently</td>\n",
       "      <td>Research &amp; Development</td>\n",
       "      <td>27</td>\n",
       "      <td>Life Sciences</td>\n",
       "      <td>3</td>\n",
       "      <td>Female</td>\n",
       "      <td>3</td>\n",
       "      <td>3</td>\n",
       "      <td>Manufacturing Director</td>\n",
       "      <td>1</td>\n",
       "      <td>10820</td>\n",
       "      <td>8</td>\n",
       "      <td>No</td>\n",
       "      <td>11</td>\n",
       "      <td>3</td>\n",
       "      <td>8</td>\n",
       "    </tr>\n",
       "  </tbody>\n",
       "</table>\n",
       "</div>"
      ],
      "text/plain": [
       "   Age Attrition     BusinessTravel              Department  DistanceFromHome  \\\n",
       "0   33       Yes  Travel_Frequently  Research & Development                 3   \n",
       "1   32       Yes      Travel_Rarely                   Sales                 4   \n",
       "2   40       Yes      Travel_Rarely  Research & Development                 9   \n",
       "3   42        No      Travel_Rarely  Research & Development                 7   \n",
       "4   43        No  Travel_Frequently  Research & Development                27   \n",
       "\n",
       "  EducationField  EnvironmentSatisfaction  Gender  JobInvolvement  JobLevel  \\\n",
       "0  Life Sciences                        1    Male               3         1   \n",
       "1        Medical                        4    Male               1         3   \n",
       "2  Life Sciences                        4    Male               3         1   \n",
       "3        Medical                        2  Female               4         2   \n",
       "4  Life Sciences                        3  Female               3         3   \n",
       "\n",
       "                  JobRole  JobSatisfaction  MonthlyIncome  NumCompaniesWorked  \\\n",
       "0      Research Scientist                1           3348                   1   \n",
       "1         Sales Executive                4          10400                   1   \n",
       "2   Laboratory Technician                1           2018                   3   \n",
       "3      Research Scientist                2           2372                   6   \n",
       "4  Manufacturing Director                1          10820                   8   \n",
       "\n",
       "  OverTime  PercentSalaryHike  PerformanceRating  YearsAtCompany  \n",
       "0      Yes                 11                  3              10  \n",
       "1       No                 11                  3              14  \n",
       "2       No                 14                  3               5  \n",
       "3      Yes                 16                  3               1  \n",
       "4       No                 11                  3               8  "
      ]
     },
     "execution_count": 9,
     "metadata": {},
     "output_type": "execute_result"
    }
   ],
   "source": [
    "e=pd.read_csv('emp_attrition.csv')\n",
    "e.head()"
   ]
  },
  {
   "cell_type": "markdown",
   "metadata": {
    "id": "LmfoM--hVc2M"
   },
   "source": [
    "### Let's begin with some hands-on practice exercises"
   ]
  },
  {
   "cell_type": "markdown",
   "metadata": {
    "id": "w4kn8mSdVc2M"
   },
   "source": [
    "<a id=\"dtree\"> </a>\n",
    "## 1. Decision tree"
   ]
  },
  {
   "cell_type": "markdown",
   "metadata": {
    "collapsed": true,
    "id": "tCuog9t0Vc2N"
   },
   "source": [
    "<table align=\"left\">\n",
    "    <tr>\n",
    "        <td width=\"6%\">\n",
    "            <img src=\"question_icon.png\">\n",
    "        </td>\n",
    "        <td>\n",
    "            <div align=\"left\", style=\"font-size:120%\">\n",
    "                <font color=\"#21618C\">\n",
    "                    <b>1. Write a code to detect the outliers in the dataset. Remove the outliers using IQR method, if present.</b>\n",
    "                </font>\n",
    "            </div>\n",
    "        </td>\n",
    "    </tr>\n",
    "</table>"
   ]
  },
  {
   "cell_type": "code",
   "execution_count": 10,
   "metadata": {
    "id": "FjWpveHjVc2N"
   },
   "outputs": [
    {
     "data": {
      "image/png": "[encoded data removed]",
      "text/plain": [
       "<Figure size 1200x800 with 11 Axes>"
      ]
     },
     "metadata": {},
     "output_type": "display_data"
    }
   ],
   "source": [
    "n=1\n",
    "plt.figure(figsize=(12,8))\n",
    "for i in e.select_dtypes('number'):\n",
    "    plt.subplot(3,4,n)\n",
    "    sns.boxplot(x=e[i])\n",
    "    n+=1\n",
    "plt.tight_layout()\n",
    "plt.show()"
   ]
  },
  {
   "cell_type": "code",
   "execution_count": 11,
   "metadata": {},
   "outputs": [
    {
     "data": {
      "image/png": "[encoded data removed]",
      "text/plain": [
       "<Figure size 1200x300 with 4 Axes>"
      ]
     },
     "metadata": {},
     "output_type": "display_data"
    }
   ],
   "source": [
    "n=1\n",
    "plt.figure(figsize=(12,3))\n",
    "for i in ['Age','JobLevel','MonthlyIncome','YearsAtCompany']:\n",
    "    q1=e[i].quantile(.25)\n",
    "    q3=e[i].quantile(.75)\n",
    "    iqr=q3-q1\n",
    "    e[i]=np.where(e[i]>q3+1.5*iqr,q3+1.5*iqr,e[i])\n",
    "    plt.subplot(1,4,n)\n",
    "    sns.boxplot(x=e[i])\n",
    "    n+=1\n",
    "plt.tight_layout()\n",
    "plt.show()"
   ]
  },
  {
   "cell_type": "markdown",
   "metadata": {
    "collapsed": true,
    "id": "nctFYrV0Vc2N"
   },
   "source": [
    "<table align=\"left\">\n",
    "    <tr>\n",
    "        <td width=\"6%\">\n",
    "            <img src=\"question_icon.png\">\n",
    "        </td>\n",
    "        <td>\n",
    "            <div align=\"left\", style=\"font-size:120%\">\n",
    "                <font color=\"#21618C\">\n",
    "                    <b>2. Build a model to predict whether or not an employee will leave the company based on employee's environment satisfaction and monthly income. Calculate the accuracy for the model.</b>\n",
    "                </font>\n",
    "            </div>\n",
    "        </td>\n",
    "    </tr>\n",
    "</table>"
   ]
  },
  {
   "cell_type": "code",
   "execution_count": 12,
   "metadata": {},
   "outputs": [
    {
     "data": {
      "text/html": [
       "<div>\n",
       "<style scoped>\n",
       "    .dataframe tbody tr th:only-of-type {\n",
       "        vertical-align: middle;\n",
       "    }\n",
       "\n",
       "    .dataframe tbody tr th {\n",
       "        vertical-align: top;\n",
       "    }\n",
       "\n",
       "    .dataframe thead th {\n",
       "        text-align: right;\n",
       "    }\n",
       "</style>\n",
       "<table border=\"1\" class=\"dataframe\">\n",
       "  <thead>\n",
       "    <tr style=\"text-align: right;\">\n",
       "      <th></th>\n",
       "      <th>Age</th>\n",
       "      <th>Attrition</th>\n",
       "      <th>BusinessTravel</th>\n",
       "      <th>DistanceFromHome</th>\n",
       "      <th>EducationField</th>\n",
       "      <th>EnvironmentSatisfaction</th>\n",
       "      <th>JobInvolvement</th>\n",
       "      <th>JobLevel</th>\n",
       "      <th>JobRole</th>\n",
       "      <th>JobSatisfaction</th>\n",
       "      <th>MonthlyIncome</th>\n",
       "      <th>NumCompaniesWorked</th>\n",
       "      <th>OverTime</th>\n",
       "      <th>PercentSalaryHike</th>\n",
       "      <th>PerformanceRating</th>\n",
       "      <th>YearsAtCompany</th>\n",
       "      <th>Department Research &amp; Development</th>\n",
       "      <th>Department Sales</th>\n",
       "      <th>Gender Male</th>\n",
       "    </tr>\n",
       "  </thead>\n",
       "  <tbody>\n",
       "    <tr>\n",
       "      <th>0</th>\n",
       "      <td>33.0</td>\n",
       "      <td>1</td>\n",
       "      <td>2</td>\n",
       "      <td>3</td>\n",
       "      <td>0.392405</td>\n",
       "      <td>1</td>\n",
       "      <td>3</td>\n",
       "      <td>1.0</td>\n",
       "      <td>0.207595</td>\n",
       "      <td>1</td>\n",
       "      <td>3348.0</td>\n",
       "      <td>1</td>\n",
       "      <td>1</td>\n",
       "      <td>11</td>\n",
       "      <td>3</td>\n",
       "      <td>10.0</td>\n",
       "      <td>1</td>\n",
       "      <td>0</td>\n",
       "      <td>1</td>\n",
       "    </tr>\n",
       "    <tr>\n",
       "      <th>1</th>\n",
       "      <td>32.0</td>\n",
       "      <td>1</td>\n",
       "      <td>1</td>\n",
       "      <td>4</td>\n",
       "      <td>0.294304</td>\n",
       "      <td>4</td>\n",
       "      <td>1</td>\n",
       "      <td>3.0</td>\n",
       "      <td>0.245570</td>\n",
       "      <td>4</td>\n",
       "      <td>10400.0</td>\n",
       "      <td>1</td>\n",
       "      <td>0</td>\n",
       "      <td>11</td>\n",
       "      <td>3</td>\n",
       "      <td>14.0</td>\n",
       "      <td>0</td>\n",
       "      <td>1</td>\n",
       "      <td>1</td>\n",
       "    </tr>\n",
       "    <tr>\n",
       "      <th>2</th>\n",
       "      <td>40.0</td>\n",
       "      <td>1</td>\n",
       "      <td>1</td>\n",
       "      <td>9</td>\n",
       "      <td>0.392405</td>\n",
       "      <td>4</td>\n",
       "      <td>3</td>\n",
       "      <td>1.0</td>\n",
       "      <td>0.206962</td>\n",
       "      <td>1</td>\n",
       "      <td>2018.0</td>\n",
       "      <td>3</td>\n",
       "      <td>0</td>\n",
       "      <td>14</td>\n",
       "      <td>3</td>\n",
       "      <td>5.0</td>\n",
       "      <td>1</td>\n",
       "      <td>0</td>\n",
       "      <td>1</td>\n",
       "    </tr>\n",
       "    <tr>\n",
       "      <th>3</th>\n",
       "      <td>42.0</td>\n",
       "      <td>0</td>\n",
       "      <td>1</td>\n",
       "      <td>7</td>\n",
       "      <td>0.294304</td>\n",
       "      <td>2</td>\n",
       "      <td>4</td>\n",
       "      <td>2.0</td>\n",
       "      <td>0.207595</td>\n",
       "      <td>2</td>\n",
       "      <td>2372.0</td>\n",
       "      <td>6</td>\n",
       "      <td>1</td>\n",
       "      <td>16</td>\n",
       "      <td>3</td>\n",
       "      <td>1.0</td>\n",
       "      <td>1</td>\n",
       "      <td>0</td>\n",
       "      <td>0</td>\n",
       "    </tr>\n",
       "    <tr>\n",
       "      <th>4</th>\n",
       "      <td>43.0</td>\n",
       "      <td>0</td>\n",
       "      <td>2</td>\n",
       "      <td>27</td>\n",
       "      <td>0.392405</td>\n",
       "      <td>3</td>\n",
       "      <td>3</td>\n",
       "      <td>3.0</td>\n",
       "      <td>0.086709</td>\n",
       "      <td>1</td>\n",
       "      <td>10820.0</td>\n",
       "      <td>8</td>\n",
       "      <td>0</td>\n",
       "      <td>11</td>\n",
       "      <td>3</td>\n",
       "      <td>8.0</td>\n",
       "      <td>1</td>\n",
       "      <td>0</td>\n",
       "      <td>0</td>\n",
       "    </tr>\n",
       "  </tbody>\n",
       "</table>\n",
       "</div>"
      ],
      "text/plain": [
       "    Age  Attrition  BusinessTravel  DistanceFromHome  EducationField  \\\n",
       "0  33.0          1               2                 3        0.392405   \n",
       "1  32.0          1               1                 4        0.294304   \n",
       "2  40.0          1               1                 9        0.392405   \n",
       "3  42.0          0               1                 7        0.294304   \n",
       "4  43.0          0               2                27        0.392405   \n",
       "\n",
       "   EnvironmentSatisfaction  JobInvolvement  JobLevel   JobRole  \\\n",
       "0                        1               3       1.0  0.207595   \n",
       "1                        4               1       3.0  0.245570   \n",
       "2                        4               3       1.0  0.206962   \n",
       "3                        2               4       2.0  0.207595   \n",
       "4                        3               3       3.0  0.086709   \n",
       "\n",
       "   JobSatisfaction  MonthlyIncome  NumCompaniesWorked  OverTime  \\\n",
       "0                1         3348.0                   1         1   \n",
       "1                4        10400.0                   1         0   \n",
       "2                1         2018.0                   3         0   \n",
       "3                2         2372.0                   6         1   \n",
       "4                1        10820.0                   8         0   \n",
       "\n",
       "   PercentSalaryHike  PerformanceRating  YearsAtCompany  \\\n",
       "0                 11                  3            10.0   \n",
       "1                 11                  3            14.0   \n",
       "2                 14                  3             5.0   \n",
       "3                 16                  3             1.0   \n",
       "4                 11                  3             8.0   \n",
       "\n",
       "   Department Research & Development  Department Sales  Gender Male  \n",
       "0                                  1                 0            1  \n",
       "1                                  0                 1            1  \n",
       "2                                  1                 0            1  \n",
       "3                                  1                 0            0  \n",
       "4                                  1                 0            0  "
      ]
     },
     "execution_count": 12,
     "metadata": {},
     "output_type": "execute_result"
    }
   ],
   "source": [
    "e.Attrition=e.Attrition.map({'Yes':1,'No':0})\n",
    "e.BusinessTravel=e.BusinessTravel.map({'Non-Travel':0,'Travel_Rarely':1,'Travel_Frequently':2})\n",
    "e.EducationField=e.EducationField.map(dict(e.EducationField.value_counts()/len(e)))\n",
    "e.JobRole=e.JobRole.map(dict(e.JobRole.value_counts()/len(e)))\n",
    "e.OverTime=e.OverTime.map({'Yes':1,'No':0})\n",
    "e=pd.get_dummies(e,prefix_sep=' ',drop_first=True)\n",
    "e.head()"
   ]
  },
  {
   "cell_type": "code",
   "execution_count": 13,
   "metadata": {
    "id": "dVOyzNvjVc2N"
   },
   "outputs": [
    {
     "name": "stdout",
     "output_type": "stream",
     "text": [
      "Accuracy = 0.8755274261603375\n"
     ]
    }
   ],
   "source": [
    "x=e[['EnvironmentSatisfaction','MonthlyIncome']]\n",
    "y=e.Attrition\n",
    "xtrain,xtest,ytrain,ytest=train_test_split(x,y,test_size=.3,random_state=1)\n",
    "d=DecisionTreeClassifier(random_state=1).fit(xtrain,ytrain)\n",
    "p=d.predict(xtest)\n",
    "print('Accuracy =',accuracy_score(ytest,p))"
   ]
  },
  {
   "cell_type": "markdown",
   "metadata": {
    "collapsed": true,
    "id": "w2j495tCVc2O"
   },
   "source": [
    "<table align=\"left\">\n",
    "    <tr>\n",
    "        <td width=\"6%\">\n",
    "            <img src=\"question_icon.png\">\n",
    "        </td>\n",
    "        <td>\n",
    "            <div align=\"left\", style=\"font-size:120%\">\n",
    "                <font color=\"#21618C\">\n",
    "                    <b>3. Build a full model to predict if an employee will leave the company. Find three features that impact the model prediction the most.</b>\n",
    "                </font>\n",
    "            </div>\n",
    "        </td>\n",
    "    </tr>\n",
    "</table>"
   ]
  },
  {
   "cell_type": "code",
   "execution_count": 14,
   "metadata": {
    "id": "F41rMUHKVc2O"
   },
   "outputs": [
    {
     "data": {
      "text/plain": [
       "MonthlyIncome     0.211074\n",
       "Age               0.127276\n",
       "YearsAtCompany    0.101489\n",
       "dtype: float64"
      ]
     },
     "execution_count": 14,
     "metadata": {},
     "output_type": "execute_result"
    }
   ],
   "source": [
    "x=e.drop('Attrition',axis=1)\n",
    "y=e.Attrition\n",
    "xtrain,xtest,ytrain,ytest=train_test_split(x,y,test_size=.3,random_state=1)\n",
    "d3=DecisionTreeClassifier(random_state=1).fit(xtrain,ytrain)\n",
    "pd.Series(d3.feature_importances_,x.columns).nlargest(3)"
   ]
  },
  {
   "cell_type": "markdown",
   "metadata": {
    "collapsed": true,
    "id": "Ud4cXn42Vc2O"
   },
   "source": [
    "<table align=\"left\">\n",
    "    <tr>\n",
    "        <td width=\"6%\">\n",
    "            <img src=\"question_icon.png\">\n",
    "        </td>\n",
    "        <td>\n",
    "            <div align=\"left\", style=\"font-size:120%\">\n",
    "                <font color=\"#21618C\">\n",
    "                    <b>4.  Find the area under the receiver operating characteristic curve for full model built in question 3. </b>\n",
    "                </font>\n",
    "            </div>\n",
    "        </td>\n",
    "    </tr>\n",
    "</table>"
   ]
  },
  {
   "cell_type": "code",
   "execution_count": 15,
   "metadata": {
    "id": "8NoojsOxVc2O"
   },
   "outputs": [
    {
     "data": {
      "text/plain": [
       "0.8925997379149679"
      ]
     },
     "execution_count": 15,
     "metadata": {},
     "output_type": "execute_result"
    }
   ],
   "source": [
    "p=d3.predict(xtest)\n",
    "roc_auc_score(ytest,p)"
   ]
  },
  {
   "cell_type": "markdown",
   "metadata": {
    "collapsed": true,
    "id": "xYibDcxuVc2O"
   },
   "source": [
    "<table align=\"left\">\n",
    "    <tr>\n",
    "        <td width=\"6%\">\n",
    "            <img src=\"question_icon.png\">\n",
    "        </td>\n",
    "        <td>\n",
    "            <div align=\"left\", style=\"font-size:120%\">\n",
    "                <font color=\"#21618C\">\n",
    "                    <b>5. Plot a confusion matrix for the full model built in Q3.</b>\n",
    "                </font>\n",
    "            </div>\n",
    "        </td>\n",
    "    </tr>\n",
    "</table>"
   ]
  },
  {
   "cell_type": "code",
   "execution_count": 16,
   "metadata": {
    "id": "qcXfrpeyVc2O"
   },
   "outputs": [
    {
     "data": {
      "image/png": "[encoded data removed]",
      "text/plain": [
       "<Figure size 640x480 with 1 Axes>"
      ]
     },
     "metadata": {},
     "output_type": "display_data"
    }
   ],
   "source": [
    "p=d3.predict(xtest)\n",
    "c=confusion_matrix(ytest,p)\n",
    "sns.heatmap(c,annot=True,fmt='',cbar=False)\n",
    "plt.xlabel('Predicted')\n",
    "plt.ylabel('Actual')\n",
    "plt.show()"
   ]
  },
  {
   "cell_type": "markdown",
   "metadata": {
    "collapsed": true,
    "id": "85Js3vUjVc2O"
   },
   "source": [
    "<table align=\"left\">\n",
    "    <tr>\n",
    "        <td width=\"6%\">\n",
    "            <img src=\"question_icon.png\">\n",
    "        </td>\n",
    "        <td>\n",
    "            <div align=\"left\", style=\"font-size:120%\">\n",
    "                <font color=\"#21618C\">\n",
    "                    <b>6. Calculate the specificity, sensitivity, % of misclassified and correctly classified observations. What can you say about the model by looking at the sensitivity and specificity values? Is this a good model?</b>\n",
    "                </font>\n",
    "            </div>\n",
    "        </td>\n",
    "    </tr>\n",
    "</table>"
   ]
  },
  {
   "cell_type": "code",
   "execution_count": 17,
   "metadata": {
    "id": "B6EPfxcsVc2P"
   },
   "outputs": [
    {
     "name": "stdout",
     "output_type": "stream",
     "text": [
      "Specificity = 0.82\n",
      "Sensitivity = 0.97\n",
      "Percentage of misclassified observations = 11.81\n",
      "Percentage of correctly classified observations = 88.19\n"
     ]
    }
   ],
   "source": [
    "tn,fp,fn,tp=c[0,0],c[0,1],c[1,0],c[1,1]\n",
    "print('Specificity =',round(tn/(tn+fp),2))\n",
    "print('Sensitivity =',round(tp/(tp+fn),2))\n",
    "print('Percentage of misclassified observations =',round(((fn+fp)/(tn+fp+fn+tp))*100,2))\n",
    "print('Percentage of correctly classified observations =',round(((tn+tp)/(tn+fp+fn+tp))*100,2))\n",
    "\n",
    "# We can observe that the sensitivity of the model is greater than the sepecificity which tells us\n",
    "# that the model has higher accuracy in classifying positive records than in classifying negative\n",
    "# records. \n",
    "        # Looking at the percentage of misclassifications and correct classifications, we can say that\n",
    "# it is a fairly good model."
   ]
  },
  {
   "cell_type": "markdown",
   "metadata": {
    "collapsed": true,
    "id": "KMb0xWZVVc2P"
   },
   "source": [
    "<table align=\"left\">\n",
    "    <tr>\n",
    "        <td width=\"6%\">\n",
    "            <img src=\"question_icon.png\">\n",
    "        </td>\n",
    "        <td>\n",
    "            <div align=\"left\", style=\"font-size:120%\">\n",
    "                <font color=\"#21618C\">\n",
    "                    <b>7. Build and plot a decision tree with maximum 5 terminal nodes.</b>\n",
    "                </font>\n",
    "            </div>\n",
    "        </td>\n",
    "    </tr>\n",
    "</table>"
   ]
  },
  {
   "cell_type": "code",
   "execution_count": 26,
   "metadata": {
    "id": "k6hVs74RVc2P"
   },
   "outputs": [
    {
     "data": {
      "image/png": "[encoded data removed]",
      "text/plain": [
       "<Figure size 700x600 with 1 Axes>"
      ]
     },
     "metadata": {},
     "output_type": "display_data"
    }
   ],
   "source": [
    "x=e.drop('Attrition',axis=1)\n",
    "y=e.Attrition\n",
    "xtrain,xtest,ytrain,ytest=train_test_split(x,y,test_size=.3,random_state=1)\n",
    "d=DecisionTreeClassifier(random_state=1,max_leaf_nodes=5).fit(xtrain,ytrain)\n",
    "plt.figure(figsize=(7,6))\n",
    "plot_tree(d,feature_names=x.columns,class_names=['No','Yes'],filled=True)\n",
    "plt.show()"
   ]
  },
  {
   "cell_type": "markdown",
   "metadata": {
    "collapsed": true,
    "id": "LK3ybAX6Vc2P"
   },
   "source": [
    "<table align=\"left\">\n",
    "    <tr>\n",
    "        <td width=\"6%\">\n",
    "            <img src=\"question_icon.png\">\n",
    "        </td>\n",
    "        <td>\n",
    "            <div align=\"left\", style=\"font-size:120%\">\n",
    "                <font color=\"#21618C\">\n",
    "                    <b>8. Build a Decision Tree model with the predefined parameters and find the average accuracy by performing the 10 fold cross validation.</b>\n",
    "                </font>\n",
    "            </div>\n",
    "        </td>\n",
    "    </tr>\n",
    "</table>"
   ]
  },
  {
   "cell_type": "code",
   "execution_count": 27,
   "metadata": {
    "id": "gNLy00GaVc2P"
   },
   "outputs": [
    {
     "data": {
      "text/plain": [
       "0.8815806715806715"
      ]
     },
     "execution_count": 27,
     "metadata": {},
     "output_type": "execute_result"
    }
   ],
   "source": [
    "x=e.drop('Attrition',axis=1)\n",
    "y=e.Attrition\n",
    "xtrain,xtest,ytrain,ytest=train_test_split(x,y,test_size=.3,random_state=1)\n",
    "d=DecisionTreeClassifier(random_state=1)\n",
    "cross_val_score(d,xtrain,ytrain,scoring='accuracy',cv=10).mean()"
   ]
  },
  {
   "cell_type": "markdown",
   "metadata": {
    "collapsed": true,
    "id": "ZEHc113uVc2P"
   },
   "source": [
    "<table align=\"left\">\n",
    "    <tr>\n",
    "        <td width=\"6%\">\n",
    "            <img src=\"question_icon.png\">\n",
    "        </td>\n",
    "        <td>\n",
    "            <div align=\"left\", style=\"font-size:120%\">\n",
    "                <font color=\"#21618C\">\n",
    "                    <b>9. For a decision tree model, find the best value of hyperparameters \"criterion\", \"max_depth\", and \"min_samples_split\".</b>\n",
    "                </font>\n",
    "            </div>\n",
    "        </td>\n",
    "    </tr>\n",
    "</table>"
   ]
  },
  {
   "cell_type": "markdown",
   "metadata": {
    "id": "PkH6aN_-Vc2P"
   },
   "source": [
    "Consider the values as:\n",
    "        \n",
    "     criterion = ['entropy', 'gini'],\n",
    "     max_depth = range(2, 10),\n",
    "     min_samples_split = range(2,10)"
   ]
  },
  {
   "cell_type": "code",
   "execution_count": 28,
   "metadata": {
    "id": "swnvLGZWVc2P"
   },
   "outputs": [],
   "source": [
    "x=e.drop('Attrition',axis=1)\n",
    "y=e.Attrition\n",
    "xtrain,xtest,ytrain,ytest=train_test_split(x,y,test_size=.3,random_state=1)\n",
    "pg={'criterion':['entropy','gini'],'max_depth':range(2,10),'min_samples_split':range(2,10)}\n",
    "g=GridSearchCV(DecisionTreeClassifier(random_state=1),pg).fit(xtrain,ytrain)"
   ]
  },
  {
   "cell_type": "code",
   "execution_count": 29,
   "metadata": {},
   "outputs": [
    {
     "data": {
      "text/plain": [
       "{'criterion': 'gini', 'max_depth': 9, 'min_samples_split': 2}"
      ]
     },
     "execution_count": 29,
     "metadata": {},
     "output_type": "execute_result"
    }
   ],
   "source": [
    "g.best_params_"
   ]
  },
  {
   "cell_type": "markdown",
   "metadata": {
    "collapsed": true,
    "id": "Rsc2c20OVc2Q"
   },
   "source": [
    "<table align=\"left\">\n",
    "    <tr>\n",
    "        <td width=\"6%\">\n",
    "            <img src=\"question_icon.png\">\n",
    "        </td>\n",
    "        <td>\n",
    "            <div align=\"left\", style=\"font-size:120%\">\n",
    "                <font color=\"#21618C\">\n",
    "                        <b>10. Build a decision tree model using the tuned hyperparameters, perform 10 fold cross validation and get the average ROC-AUC score.</b>\n",
    "                </font>\n",
    "            </div>\n",
    "        </td>\n",
    "    </tr>\n",
    "</table>"
   ]
  },
  {
   "cell_type": "code",
   "execution_count": 30,
   "metadata": {
    "id": "U13H__r0Vc2Q"
   },
   "outputs": [
    {
     "data": {
      "text/plain": [
       "0.889456351065016"
      ]
     },
     "execution_count": 30,
     "metadata": {},
     "output_type": "execute_result"
    }
   ],
   "source": [
    "x=e.drop('Attrition',axis=1)\n",
    "y=e.Attrition\n",
    "xtrain,xtest,ytrain,ytest=train_test_split(x,y,test_size=.3,random_state=1)\n",
    "d=DecisionTreeClassifier(max_depth=9,random_state=1)\n",
    "cross_val_score(d,xtrain,ytrain,scoring='roc_auc',cv=10).mean()"
   ]
  },
  {
   "cell_type": "markdown",
   "metadata": {
    "collapsed": true,
    "id": "39r8hH6HVc2Q"
   },
   "source": [
    "<table align=\"left\">\n",
    "    <tr>\n",
    "        <td width=\"6%\">\n",
    "            <img src=\"question_icon.png\">\n",
    "        </td>\n",
    "        <td>\n",
    "            <div align=\"left\", style=\"font-size:120%\">\n",
    "                <font color=\"#21618C\">\n",
    "                    <b>11. Build 5 decision trees each with 20 random features. Also predict the attrition for test set for each model.</b>\n",
    "                </font>\n",
    "            </div>\n",
    "        </td>\n",
    "    </tr>\n",
    "</table>"
   ]
  },
  {
   "cell_type": "code",
   "execution_count": 31,
   "metadata": {
    "id": "n97e13FhVc2Q"
   },
   "outputs": [],
   "source": [
    "f=e.drop('Attrition',axis=1).columns\n",
    "seed(1)\n",
    "pdict=dict()\n",
    "for i in range(1,6):\n",
    "    x=e[choices(f,k=20)]\n",
    "    y=e.Attrition\n",
    "    xtrain,xtest,ytrain,ytest=train_test_split(x,y,test_size=.3,random_state=1)\n",
    "    d=DecisionTreeClassifier(random_state=1).fit(xtrain,ytrain)\n",
    "    p=d.predict(xtest)\n",
    "    pdict[f'Prediction_{i}']=p"
   ]
  },
  {
   "cell_type": "markdown",
   "metadata": {
    "collapsed": true,
    "id": "yQwdAl_0Vc2Q"
   },
   "source": [
    "<table align=\"left\">\n",
    "    <tr>\n",
    "        <td width=\"6%\">\n",
    "            <img src=\"question_icon.png\">\n",
    "        </td>\n",
    "        <td>\n",
    "            <div align=\"left\", style=\"font-size:120%\">\n",
    "                <font color=\"#21618C\">\n",
    "                    <b>12. Create a new dataframe \"model_predictions_df\" by appending each prediction made in question 8. There will be 5 columns in the dataframe for each prediction using the decision tree models built in above question.</b>\n",
    "                </font>\n",
    "            </div>\n",
    "        </td>\n",
    "    </tr>\n",
    "</table>"
   ]
  },
  {
   "cell_type": "code",
   "execution_count": 32,
   "metadata": {
    "id": "gDgnKWmMVc2S"
   },
   "outputs": [
    {
     "data": {
      "text/html": [
       "<div>\n",
       "<style scoped>\n",
       "    .dataframe tbody tr th:only-of-type {\n",
       "        vertical-align: middle;\n",
       "    }\n",
       "\n",
       "    .dataframe tbody tr th {\n",
       "        vertical-align: top;\n",
       "    }\n",
       "\n",
       "    .dataframe thead th {\n",
       "        text-align: right;\n",
       "    }\n",
       "</style>\n",
       "<table border=\"1\" class=\"dataframe\">\n",
       "  <thead>\n",
       "    <tr style=\"text-align: right;\">\n",
       "      <th></th>\n",
       "      <th>Prediction_1</th>\n",
       "      <th>Prediction_2</th>\n",
       "      <th>Prediction_3</th>\n",
       "      <th>Prediction_4</th>\n",
       "      <th>Prediction_5</th>\n",
       "    </tr>\n",
       "  </thead>\n",
       "  <tbody>\n",
       "    <tr>\n",
       "      <th>0</th>\n",
       "      <td>1</td>\n",
       "      <td>1</td>\n",
       "      <td>1</td>\n",
       "      <td>1</td>\n",
       "      <td>1</td>\n",
       "    </tr>\n",
       "    <tr>\n",
       "      <th>1</th>\n",
       "      <td>1</td>\n",
       "      <td>1</td>\n",
       "      <td>1</td>\n",
       "      <td>1</td>\n",
       "      <td>1</td>\n",
       "    </tr>\n",
       "    <tr>\n",
       "      <th>2</th>\n",
       "      <td>1</td>\n",
       "      <td>1</td>\n",
       "      <td>1</td>\n",
       "      <td>1</td>\n",
       "      <td>1</td>\n",
       "    </tr>\n",
       "    <tr>\n",
       "      <th>3</th>\n",
       "      <td>1</td>\n",
       "      <td>1</td>\n",
       "      <td>1</td>\n",
       "      <td>1</td>\n",
       "      <td>1</td>\n",
       "    </tr>\n",
       "    <tr>\n",
       "      <th>4</th>\n",
       "      <td>0</td>\n",
       "      <td>1</td>\n",
       "      <td>1</td>\n",
       "      <td>0</td>\n",
       "      <td>1</td>\n",
       "    </tr>\n",
       "  </tbody>\n",
       "</table>\n",
       "</div>"
      ],
      "text/plain": [
       "   Prediction_1  Prediction_2  Prediction_3  Prediction_4  Prediction_5\n",
       "0             1             1             1             1             1\n",
       "1             1             1             1             1             1\n",
       "2             1             1             1             1             1\n",
       "3             1             1             1             1             1\n",
       "4             0             1             1             0             1"
      ]
     },
     "execution_count": 32,
     "metadata": {},
     "output_type": "execute_result"
    }
   ],
   "source": [
    "model_predictions_df=pd.DataFrame(pdict)\n",
    "model_predictions_df.head()"
   ]
  },
  {
   "cell_type": "markdown",
   "metadata": {
    "collapsed": true,
    "id": "F08KtUVFVc2S"
   },
   "source": [
    "<table align=\"left\">\n",
    "    <tr>\n",
    "        <td width=\"6%\">\n",
    "            <img src=\"question_icon.png\">\n",
    "        </td>\n",
    "        <td>\n",
    "            <div align=\"left\", style=\"font-size:120%\">\n",
    "                <font color=\"#21618C\">\n",
    "                    <b>13. Create a new column \"Voted_Result\" in the dataframe \"model_predictions_df\" that contains the maximum occuring value (mode) of the 5 columns in the dataframe (row-wise).<br></b>\n",
    "                </font>\n",
    "            </div>\n",
    "        </td>\n",
    "    </tr>\n",
    "</table>"
   ]
  },
  {
   "cell_type": "code",
   "execution_count": 33,
   "metadata": {
    "id": "rAwHIONzVc2S"
   },
   "outputs": [
    {
     "data": {
      "text/html": [
       "<div>\n",
       "<style scoped>\n",
       "    .dataframe tbody tr th:only-of-type {\n",
       "        vertical-align: middle;\n",
       "    }\n",
       "\n",
       "    .dataframe tbody tr th {\n",
       "        vertical-align: top;\n",
       "    }\n",
       "\n",
       "    .dataframe thead th {\n",
       "        text-align: right;\n",
       "    }\n",
       "</style>\n",
       "<table border=\"1\" class=\"dataframe\">\n",
       "  <thead>\n",
       "    <tr style=\"text-align: right;\">\n",
       "      <th></th>\n",
       "      <th>Prediction_1</th>\n",
       "      <th>Prediction_2</th>\n",
       "      <th>Prediction_3</th>\n",
       "      <th>Prediction_4</th>\n",
       "      <th>Prediction_5</th>\n",
       "      <th>Voted_Result</th>\n",
       "    </tr>\n",
       "  </thead>\n",
       "  <tbody>\n",
       "    <tr>\n",
       "      <th>0</th>\n",
       "      <td>1</td>\n",
       "      <td>1</td>\n",
       "      <td>1</td>\n",
       "      <td>1</td>\n",
       "      <td>1</td>\n",
       "      <td>1</td>\n",
       "    </tr>\n",
       "    <tr>\n",
       "      <th>1</th>\n",
       "      <td>1</td>\n",
       "      <td>1</td>\n",
       "      <td>1</td>\n",
       "      <td>1</td>\n",
       "      <td>1</td>\n",
       "      <td>1</td>\n",
       "    </tr>\n",
       "    <tr>\n",
       "      <th>2</th>\n",
       "      <td>1</td>\n",
       "      <td>1</td>\n",
       "      <td>1</td>\n",
       "      <td>1</td>\n",
       "      <td>1</td>\n",
       "      <td>1</td>\n",
       "    </tr>\n",
       "    <tr>\n",
       "      <th>3</th>\n",
       "      <td>1</td>\n",
       "      <td>1</td>\n",
       "      <td>1</td>\n",
       "      <td>1</td>\n",
       "      <td>1</td>\n",
       "      <td>1</td>\n",
       "    </tr>\n",
       "    <tr>\n",
       "      <th>4</th>\n",
       "      <td>0</td>\n",
       "      <td>1</td>\n",
       "      <td>1</td>\n",
       "      <td>0</td>\n",
       "      <td>1</td>\n",
       "      <td>1</td>\n",
       "    </tr>\n",
       "  </tbody>\n",
       "</table>\n",
       "</div>"
      ],
      "text/plain": [
       "   Prediction_1  Prediction_2  Prediction_3  Prediction_4  Prediction_5  \\\n",
       "0             1             1             1             1             1   \n",
       "1             1             1             1             1             1   \n",
       "2             1             1             1             1             1   \n",
       "3             1             1             1             1             1   \n",
       "4             0             1             1             0             1   \n",
       "\n",
       "   Voted_Result  \n",
       "0             1  \n",
       "1             1  \n",
       "2             1  \n",
       "3             1  \n",
       "4             1  "
      ]
     },
     "execution_count": 33,
     "metadata": {},
     "output_type": "execute_result"
    }
   ],
   "source": [
    "model_predictions_df['Voted_Result']=model_predictions_df.mode(1)\n",
    "model_predictions_df.head()"
   ]
  },
  {
   "cell_type": "markdown",
   "metadata": {
    "collapsed": true,
    "id": "QJHC90NrVc2T"
   },
   "source": [
    "<table align=\"left\">\n",
    "    <tr>\n",
    "        <td width=\"6%\">\n",
    "            <img src=\"question_icon.png\">\n",
    "        </td>\n",
    "        <td>\n",
    "            <div align=\"left\", style=\"font-size:120%\">\n",
    "                <font color=\"#21618C\">\n",
    "                    <b>14. Consider the values of \"Voted_Result\" as our new predictions and store its values in a variable \"new_y_pred\" and find the accuracy and the roc-auc score using new_y_pred.</b>\n",
    "                </font>\n",
    "            </div>\n",
    "        </td>\n",
    "    </tr>\n",
    "</table>"
   ]
  },
  {
   "cell_type": "code",
   "execution_count": 34,
   "metadata": {
    "id": "0fT6D_N_Vc2T"
   },
   "outputs": [
    {
     "name": "stdout",
     "output_type": "stream",
     "text": [
      "Accuracy = 0.9029535864978903 \n",
      "AUC = 0.9090710541642399\n"
     ]
    }
   ],
   "source": [
    "new_y_pred=model_predictions_df.Voted_Result\n",
    "print('Accuracy =',accuracy_score(ytest,new_y_pred),'\\nAUC =',roc_auc_score(ytest,new_y_pred))"
   ]
  },
  {
   "cell_type": "markdown",
   "metadata": {
    "id": "iOisk_cuVc2T"
   },
   "source": [
    "<a id=\"rf\"> </a>\n",
    "## 2. Random Forest"
   ]
  },
  {
   "cell_type": "markdown",
   "metadata": {
    "collapsed": true,
    "id": "il6e6x2cVc2T"
   },
   "source": [
    "<table align=\"left\">\n",
    "    <tr>\n",
    "        <td width=\"6%\">\n",
    "            <img src=\"question_icon.png\">\n",
    "        </td>\n",
    "        <td>\n",
    "            <div align=\"left\", style=\"font-size:120%\">\n",
    "                <font color=\"#21618C\">\n",
    "                    <b>15. Build a random forest full model to predict if an employee will leave the company or not and generate a classification report.</b>\n",
    "                </font>\n",
    "            </div>\n",
    "        </td>\n",
    "    </tr>\n",
    "</table>"
   ]
  },
  {
   "cell_type": "code",
   "execution_count": 35,
   "metadata": {
    "id": "Jm0ti1mLVc2T"
   },
   "outputs": [
    {
     "name": "stdout",
     "output_type": "stream",
     "text": [
      "              precision    recall  f1-score   support\n",
      "\n",
      "           0       0.97      0.91      0.94       272\n",
      "           1       0.89      0.96      0.92       202\n",
      "\n",
      "    accuracy                           0.93       474\n",
      "   macro avg       0.93      0.94      0.93       474\n",
      "weighted avg       0.94      0.93      0.93       474\n",
      "\n"
     ]
    }
   ],
   "source": [
    "x=e.drop('Attrition',axis=1)\n",
    "y=e.Attrition\n",
    "xtrain,xtest,ytrain,ytest=train_test_split(x,y,test_size=.3,random_state=1)\n",
    "r=RandomForestClassifier(random_state=1).fit(xtrain,ytrain)\n",
    "p=r.predict(xtest)\n",
    "print(classification_report(ytest,p))"
   ]
  },
  {
   "cell_type": "markdown",
   "metadata": {
    "collapsed": true,
    "id": "ZgN1cN2FVc2T"
   },
   "source": [
    "<table align=\"left\">\n",
    "    <tr>\n",
    "        <td width=\"6%\">\n",
    "            <img src=\"question_icon.png\">\n",
    "        </td>\n",
    "        <td>\n",
    "            <div align=\"left\", style=\"font-size:120%\">\n",
    "                <font color=\"#21618C\">\n",
    "                    <b>16. For a random forest model, find the best value of hyperparameters \"n_estimators\", \"criterion\", \"max_depth\", and \"min_samples_split\".</b>\n",
    "                </font>\n",
    "            </div>\n",
    "        </td>\n",
    "    </tr>\n",
    "</table>"
   ]
  },
  {
   "cell_type": "markdown",
   "metadata": {
    "id": "eSprBHkuVc2T"
   },
   "source": [
    "Given list of values:\n",
    "\n",
    "    criterion = ['entropy', 'gini'],\n",
    "    n_estimators = [90, 100, 150, 200],\n",
    "    max_depth = [10, 15, 20],\n",
    "    min_samples_split = [2, 5, 8]"
   ]
  },
  {
   "cell_type": "code",
   "execution_count": 36,
   "metadata": {
    "id": "5gScHvqsVc2T"
   },
   "outputs": [],
   "source": [
    "x=e.drop('Attrition',axis=1)\n",
    "y=e.Attrition\n",
    "xtrain,xtest,ytrain,ytest=train_test_split(x,y,test_size=.3,random_state=1)\n",
    "pg={'criterion':['entropy','gini'],'n_estimators':[90,100,150,200],'max_depth':[10,15,20],\n",
    "    'min_samples_split':[2,5,8]}\n",
    "g=GridSearchCV(RandomForestClassifier(random_state=1),pg).fit(xtrain,ytrain)"
   ]
  },
  {
   "cell_type": "code",
   "execution_count": 37,
   "metadata": {},
   "outputs": [
    {
     "data": {
      "text/plain": [
       "{'criterion': 'gini',\n",
       " 'max_depth': 15,\n",
       " 'min_samples_split': 2,\n",
       " 'n_estimators': 150}"
      ]
     },
     "execution_count": 37,
     "metadata": {},
     "output_type": "execute_result"
    }
   ],
   "source": [
    "g.best_params_"
   ]
  },
  {
   "cell_type": "markdown",
   "metadata": {
    "collapsed": true,
    "id": "8c2-QMeYVc2T"
   },
   "source": [
    "<table align=\"left\">\n",
    "    <tr>\n",
    "        <td width=\"6%\">\n",
    "            <img src=\"question_icon.png\">\n",
    "        </td>\n",
    "        <td>\n",
    "            <div align=\"left\", style=\"font-size:120%\">\n",
    "                <font color=\"#21618C\">\n",
    "                    <b>17. Build a random forest model using the tuned hyperparameters, perform 10 fold cross validation and get the average ROC-AUC score.</b>\n",
    "                </font>\n",
    "            </div>\n",
    "        </td>\n",
    "    </tr>\n",
    "</table>"
   ]
  },
  {
   "cell_type": "code",
   "execution_count": 38,
   "metadata": {
    "id": "BmECew5PVc2T",
    "scrolled": true
   },
   "outputs": [],
   "source": [
    "x=e.drop('Attrition',axis=1)\n",
    "y=e.Attrition\n",
    "xtrain,xtest,ytrain,ytest=train_test_split(x,y,test_size=.3,random_state=1)\n",
    "r=RandomForestClassifier(150,max_depth=15,random_state=1)\n",
    "s=cross_val_score(r,xtrain,ytrain,scoring='roc_auc',cv=10)"
   ]
  },
  {
   "cell_type": "code",
   "execution_count": 39,
   "metadata": {},
   "outputs": [
    {
     "data": {
      "text/plain": [
       "0.9885362440057991"
      ]
     },
     "execution_count": 39,
     "metadata": {},
     "output_type": "execute_result"
    }
   ],
   "source": [
    "s.mean()"
   ]
  },
  {
   "cell_type": "markdown",
   "metadata": {
    "collapsed": true,
    "id": "muQVzjq9Vc2U"
   },
   "source": [
    "<table align=\"left\">\n",
    "    <tr>\n",
    "        <td width=\"6%\">\n",
    "            <img src=\"question_icon.png\">\n",
    "        </td>\n",
    "        <td>\n",
    "            <div align=\"left\", style=\"font-size:120%\">\n",
    "                <font color=\"#21618C\">\n",
    "                    <b>18. Using the tuned random forest model, find the features that impact the model prediction the most.</b>\n",
    "                </font>\n",
    "            </div>\n",
    "        </td>\n",
    "    </tr>\n",
    "</table>"
   ]
  },
  {
   "cell_type": "code",
   "execution_count": 40,
   "metadata": {
    "id": "ocyd1ZWuVc2U"
   },
   "outputs": [
    {
     "data": {
      "text/plain": [
       "MonthlyIncome              0.152807\n",
       "Age                        0.133512\n",
       "YearsAtCompany             0.098609\n",
       "DistanceFromHome           0.083383\n",
       "PercentSalaryHike          0.062501\n",
       "OverTime                   0.062235\n",
       "NumCompaniesWorked         0.061863\n",
       "EnvironmentSatisfaction    0.051441\n",
       "JobSatisfaction            0.047887\n",
       "JobInvolvement             0.045078\n",
       "dtype: float64"
      ]
     },
     "execution_count": 40,
     "metadata": {},
     "output_type": "execute_result"
    }
   ],
   "source": [
    "x=e.drop('Attrition',axis=1)\n",
    "y=e.Attrition\n",
    "xtrain,xtest,ytrain,ytest=train_test_split(x,y,test_size=.3,random_state=1)\n",
    "r=RandomForestClassifier(150,max_depth=15,random_state=1).fit(xtrain,ytrain)\n",
    "t=pd.Series(r.feature_importances_,x.columns).nlargest(10)\n",
    "t"
   ]
  },
  {
   "cell_type": "markdown",
   "metadata": {
    "collapsed": true,
    "id": "VKJ8UMXMVc2U"
   },
   "source": [
    "<table align=\"left\">\n",
    "    <tr>\n",
    "        <td width=\"6%\">\n",
    "            <img src=\"question_icon.png\">\n",
    "        </td>\n",
    "        <td>\n",
    "            <div align=\"left\", style=\"font-size:120%\">\n",
    "                <font color=\"#21618C\">\n",
    "                    <b>19. Build a random forest model using the top 10 most important features.</b>\n",
    "                </font>\n",
    "            </div>\n",
    "        </td>\n",
    "    </tr>\n",
    "</table>"
   ]
  },
  {
   "cell_type": "code",
   "execution_count": 41,
   "metadata": {
    "id": "by1qaMgGVc2U"
   },
   "outputs": [
    {
     "data": {
      "text/html": [
       "<style>#sk-container-id-1 {color: black;background-color: white;}#sk-container-id-1 pre{padding: 0;}#sk-container-id-1 div.sk-toggleable {background-color: white;}#sk-container-id-1 label.sk-toggleable__label {cursor: pointer;display: block;width: 100%;margin-bottom: 0;padding: 0.3em;box-sizing: border-box;text-align: center;}#sk-container-id-1 label.sk-toggleable__label-arrow:before {content: \"▸\";float: left;margin-right: 0.25em;color: #696969;}#sk-container-id-1 label.sk-toggleable__label-arrow:hover:before {color: black;}#sk-container-id-1 div.sk-estimator:hover label.sk-toggleable__label-arrow:before {color: black;}#sk-container-id-1 div.sk-toggleable__content {max-height: 0;max-width: 0;overflow: hidden;text-align: left;background-color: #f0f8ff;}#sk-container-id-1 div.sk-toggleable__content pre {margin: 0.2em;color: black;border-radius: 0.25em;background-color: #f0f8ff;}#sk-container-id-1 input.sk-toggleable__control:checked~div.sk-toggleable__content {max-height: 200px;max-width: 100%;overflow: auto;}#sk-container-id-1 input.sk-toggleable__control:checked~label.sk-toggleable__label-arrow:before {content: \"▾\";}#sk-container-id-1 div.sk-estimator input.sk-toggleable__control:checked~label.sk-toggleable__label {background-color: #d4ebff;}#sk-container-id-1 div.sk-label input.sk-toggleable__control:checked~label.sk-toggleable__label {background-color: #d4ebff;}#sk-container-id-1 input.sk-hidden--visually {border: 0;clip: rect(1px 1px 1px 1px);clip: rect(1px, 1px, 1px, 1px);height: 1px;margin: -1px;overflow: hidden;padding: 0;position: absolute;width: 1px;}#sk-container-id-1 div.sk-estimator {font-family: monospace;background-color: #f0f8ff;border: 1px dotted black;border-radius: 0.25em;box-sizing: border-box;margin-bottom: 0.5em;}#sk-container-id-1 div.sk-estimator:hover {background-color: #d4ebff;}#sk-container-id-1 div.sk-parallel-item::after {content: \"\";width: 100%;border-bottom: 1px solid gray;flex-grow: 1;}#sk-container-id-1 div.sk-label:hover label.sk-toggleable__label {background-color: #d4ebff;}#sk-container-id-1 div.sk-serial::before {content: \"\";position: absolute;border-left: 1px solid gray;box-sizing: border-box;top: 0;bottom: 0;left: 50%;z-index: 0;}#sk-container-id-1 div.sk-serial {display: flex;flex-direction: column;align-items: center;background-color: white;padding-right: 0.2em;padding-left: 0.2em;position: relative;}#sk-container-id-1 div.sk-item {position: relative;z-index: 1;}#sk-container-id-1 div.sk-parallel {display: flex;align-items: stretch;justify-content: center;background-color: white;position: relative;}#sk-container-id-1 div.sk-item::before, #sk-container-id-1 div.sk-parallel-item::before {content: \"\";position: absolute;border-left: 1px solid gray;box-sizing: border-box;top: 0;bottom: 0;left: 50%;z-index: -1;}#sk-container-id-1 div.sk-parallel-item {display: flex;flex-direction: column;z-index: 1;position: relative;background-color: white;}#sk-container-id-1 div.sk-parallel-item:first-child::after {align-self: flex-end;width: 50%;}#sk-container-id-1 div.sk-parallel-item:last-child::after {align-self: flex-start;width: 50%;}#sk-container-id-1 div.sk-parallel-item:only-child::after {width: 0;}#sk-container-id-1 div.sk-dashed-wrapped {border: 1px dashed gray;margin: 0 0.4em 0.5em 0.4em;box-sizing: border-box;padding-bottom: 0.4em;background-color: white;}#sk-container-id-1 div.sk-label label {font-family: monospace;font-weight: bold;display: inline-block;line-height: 1.2em;}#sk-container-id-1 div.sk-label-container {text-align: center;}#sk-container-id-1 div.sk-container {/* jupyter's `normalize.less` sets `[hidden] { display: none; }` but bootstrap.min.css set `[hidden] { display: none !important; }` so we also need the `!important` here to be able to override the default hidden behavior on the sphinx rendered scikit-learn.org. See: https://github.com/scikit-learn/scikit-learn/issues/21755 */display: inline-block !important;position: relative;}#sk-container-id-1 div.sk-text-repr-fallback {display: none;}</style><div id=\"sk-container-id-1\" class=\"sk-top-container\"><div class=\"sk-text-repr-fallback\"><pre>RandomForestClassifier(random_state=1)</pre><b>In a Jupyter environment, please rerun this cell to show the HTML representation or trust the notebook. <br />On GitHub, the HTML representation is unable to render, please try loading this page with nbviewer.org.</b></div><div class=\"sk-container\" hidden><div class=\"sk-item\"><div class=\"sk-estimator sk-toggleable\"><input class=\"sk-toggleable__control sk-hidden--visually\" id=\"sk-estimator-id-1\" type=\"checkbox\" checked><label for=\"sk-estimator-id-1\" class=\"sk-toggleable__label sk-toggleable__label-arrow\">RandomForestClassifier</label><div class=\"sk-toggleable__content\"><pre>RandomForestClassifier(random_state=1)</pre></div></div></div></div></div>"
      ],
      "text/plain": [
       "RandomForestClassifier(random_state=1)"
      ]
     },
     "execution_count": 41,
     "metadata": {},
     "output_type": "execute_result"
    }
   ],
   "source": [
    "x=e[t.index]\n",
    "y=e.Attrition\n",
    "xtrain,xtest,ytrain,ytest=train_test_split(x,y,test_size=.3,random_state=1)\n",
    "r19=RandomForestClassifier(random_state=1).fit(xtrain,ytrain)\n",
    "r19"
   ]
  },
  {
   "cell_type": "markdown",
   "metadata": {
    "collapsed": true,
    "id": "iYlQiOaLVc2U"
   },
   "source": [
    "<table align=\"left\">\n",
    "    <tr>\n",
    "        <td width=\"6%\">\n",
    "            <img src=\"question_icon.png\">\n",
    "        </td>\n",
    "        <td>\n",
    "            <div align=\"left\", style=\"font-size:120%\">\n",
    "                <font color=\"#21618C\">\n",
    "                    <b>20. Plot a confusion matrix and area under the receiver operating characteristic curve for the model built in question 19. </b>\n",
    "                </font>\n",
    "            </div>\n",
    "        </td>\n",
    "    </tr>\n",
    "</table>"
   ]
  },
  {
   "cell_type": "code",
   "execution_count": 42,
   "metadata": {
    "id": "CLHKFI2qVc2U"
   },
   "outputs": [
    {
     "data": {
      "image/png": "[encoded data removed]",
      "text/plain": [
       "<Figure size 640x480 with 1 Axes>"
      ]
     },
     "metadata": {},
     "output_type": "display_data"
    }
   ],
   "source": [
    "p=r19.predict(xtest)\n",
    "c=confusion_matrix(ytest,p)\n",
    "sns.heatmap(c,annot=True,fmt='',cbar=False)\n",
    "plt.xlabel('Predicted')\n",
    "plt.ylabel('Actual')\n",
    "plt.show()"
   ]
  },
  {
   "cell_type": "code",
   "execution_count": 43,
   "metadata": {},
   "outputs": [
    {
     "data": {
      "image/png": "[encoded data removed]",
      "text/plain": [
       "<Figure size 640x480 with 1 Axes>"
      ]
     },
     "metadata": {},
     "output_type": "display_data"
    }
   ],
   "source": [
    "prob=r19.predict_proba(xtest)[:,1]\n",
    "fpr,tpr=roc_curve(ytest,prob)[:2]\n",
    "plt.plot(fpr,tpr)\n",
    "plt.plot([0,1],'r--')\n",
    "plt.text(.1,.9,f'AUC = {round(roc_auc_score(ytest,p),2)}')\n",
    "plt.xlabel('False Positive Rate')\n",
    "plt.ylabel('True Positive Rate')\n",
    "plt.xlim(0,1)\n",
    "plt.ylim(0,1)\n",
    "plt.show()"
   ]
  }
 ],
 "metadata": {
  "colab": {
   "collapsed_sections": [],
   "name": "SLC - In-Class Lab Exercise (Week 2) - Questions [v2.0 - 160920].ipynb",
   "provenance": []
  },
  "kernelspec": {
   "display_name": "Python 3 (ipykernel)",
   "language": "python",
   "name": "python3"
  },
  "language_info": {
   "codemirror_mode": {
    "name": "ipython",
    "version": 3
   },
   "file_extension": ".py",
   "mimetype": "text/x-python",
   "name": "python",
   "nbconvert_exporter": "python",
   "pygments_lexer": "ipython3",
   "version": "3.9.13"
  }
 },
 "nbformat": 4,
 "nbformat_minor": 1
}
