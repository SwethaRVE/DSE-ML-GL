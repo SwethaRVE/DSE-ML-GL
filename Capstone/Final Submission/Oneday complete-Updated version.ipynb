{
 "cells": [
  {
   "cell_type": "markdown",
   "id": "4f7296ee",
   "metadata": {},
   "source": [
    "# BACKORDER PREDICTION - CAPSTONE PROJECT"
   ]
  },
  {
   "cell_type": "markdown",
   "id": "8c34002d",
   "metadata": {},
   "source": [
    "## Problem Statement\n",
    "\n",
    "The question here is to predict whether a particular product will go on back order or not. Backorder is a scenerio in which when a particular product ordered by the customer is sent to them due to various reasons such as an mismanagement in inventory,  delay in transit,etc."
   ]
  },
  {
   "cell_type": "markdown",
   "id": "6f7a68ea",
   "metadata": {},
   "source": [
    "# About the dataset (BACKORDER PREDICTION DATASET)\n",
    "\n",
    "1.\t**national_inv** : \tCurrent inventory level for the part\n",
    "2.\t**lead_time** :\tTransit time for product (if available)\n",
    "3.\t**in_transit_qty** :\tAmount of product in transit from source\n",
    "4.\t**forecast_3_month** :\tForecast sales for the next 3 months\n",
    "5.\t**forecast_6_month**  :\tForecast sales for the next 6 months\n",
    "6.\t**forecast_9_month** \tForecast sales for the next 9 months\n",
    "7.\t**sales_1_month** :\tSales quantity for the prior 1-month time period\n",
    "8.\t**sales_3_month** :\tSales quantity for the prior 3-month time period\n",
    "9.\t**sales_6_month** :\tSales quantity for the prior 6-month time period\n",
    "10.\t**sales_9_month** :\tSales quantity for the prior 9-month time period\n",
    "11.\t**min_bank** :\tMinimum recommend amount to stock\n",
    "12.\t**potential_issue** :\tSource issue for part identified\n",
    "13.\t**pieces_past_due** :\tParts overdue from source\n",
    "14.\t**perf_6_month_avg** :\tSource performance for prior 6 month period\n",
    "15.\t**perf_12_month_avg** :\tSource performance for prior 12-month period\n",
    "16.\t**local_bo_qty** :\tAmount of stock orders overdue\n",
    "17.\t**deck_risk** :\tPart risk flag\n",
    "18.\t**oe_constraint** :\tPart risk flag\n",
    "19.\t**ppap_risk** :\tPart risk flag\n",
    "20.\t**stop_auto_buy** :\tPart risk flag\n",
    "21.\t**rev_stop** :\tPart risk flag\n"
   ]
  },
  {
   "cell_type": "markdown",
   "id": "1cfa9406",
   "metadata": {},
   "source": [
    "# Table of Content\n",
    "\n",
    " **[Import Libraries](#lib)**\n",
    "\n",
    " **[Loading the Dataset](#prep)**"
   ]
  },
  {
   "cell_type": "markdown",
   "id": "be86c89a",
   "metadata": {},
   "source": [
    "  <a id = \"lib\" ></a>\n",
    "#  Importing Libraries"
   ]
  },
  {
   "cell_type": "code",
   "execution_count": 169,
   "id": "c2606ec9",
   "metadata": {},
   "outputs": [],
   "source": [
    "import pandas as pd \n",
    "import numpy as np\n",
    "import seaborn as sns\n",
    "import matplotlib.pyplot as plt\n",
    "from warnings import filterwarnings\n",
    "filterwarnings(\"ignore\")\n",
    "pd.options.display.max_columns = None\n",
    "pd.options.display.max_rows = None\n",
    "from sklearn.model_selection import train_test_split\n",
    "from sklearn.preprocessing import StandardScaler\n",
    "from imblearn.over_sampling import SMOTE\n",
    "from sklearn.linear_model import LogisticRegression\n",
    "from sklearn.metrics import accuracy_score,classification_report,cohen_kappa_score,confusion_matrix,roc_auc_score,roc_curve,f1_score,precision_score,recall_score\n",
    "from sklearn.tree import DecisionTreeClassifier\n",
    "from sklearn.model_selection import GridSearchCV\n",
    "from sklearn.experimental import enable_halving_search_cv\n",
    "from sklearn.model_selection import HalvingGridSearchCV\n",
    "from sklearn.ensemble import GradientBoostingClassifier,RandomForestClassifier,AdaBoostClassifier\n",
    "from sklearn.feature_selection import RFE\n",
    "from sklearn.naive_bayes import GaussianNB\n",
    "from sklearn.neighbors import KNeighborsClassifier\n",
    "import statsmodels.api as sm\n",
    "from statsmodels.stats.outliers_influence import variance_inflation_factor as vif\n",
    "from warnings import filterwarnings \n",
    "filterwarnings(\"ignore\")\n",
    "from scipy import stats"
   ]
  },
  {
   "cell_type": "markdown",
   "id": "666eee7d",
   "metadata": {},
   "source": [
    "<a id = \"prep\"><a/>\n",
    " # Loading the Dataset"
   ]
  },
  {
   "cell_type": "code",
   "execution_count": 170,
   "id": "19d47456",
   "metadata": {},
   "outputs": [
    {
     "data": {
      "text/html": [
       "<div>\n",
       "<style scoped>\n",
       "    .dataframe tbody tr th:only-of-type {\n",
       "        vertical-align: middle;\n",
       "    }\n",
       "\n",
       "    .dataframe tbody tr th {\n",
       "        vertical-align: top;\n",
       "    }\n",
       "\n",
       "    .dataframe thead th {\n",
       "        text-align: right;\n",
       "    }\n",
       "</style>\n",
       "<table border=\"1\" class=\"dataframe\">\n",
       "  <thead>\n",
       "    <tr style=\"text-align: right;\">\n",
       "      <th></th>\n",
       "      <th>sku</th>\n",
       "      <th>national_inv</th>\n",
       "      <th>lead_time</th>\n",
       "      <th>in_transit_qty</th>\n",
       "      <th>forecast_3_month</th>\n",
       "      <th>forecast_6_month</th>\n",
       "      <th>forecast_9_month</th>\n",
       "      <th>sales_1_month</th>\n",
       "      <th>sales_3_month</th>\n",
       "      <th>sales_6_month</th>\n",
       "      <th>sales_9_month</th>\n",
       "      <th>min_bank</th>\n",
       "      <th>potential_issue</th>\n",
       "      <th>pieces_past_due</th>\n",
       "      <th>perf_6_month_avg</th>\n",
       "      <th>perf_12_month_avg</th>\n",
       "      <th>local_bo_qty</th>\n",
       "      <th>deck_risk</th>\n",
       "      <th>oe_constraint</th>\n",
       "      <th>ppap_risk</th>\n",
       "      <th>stop_auto_buy</th>\n",
       "      <th>rev_stop</th>\n",
       "      <th>went_on_backorder</th>\n",
       "    </tr>\n",
       "  </thead>\n",
       "  <tbody>\n",
       "    <tr>\n",
       "      <th>0</th>\n",
       "      <td>1026827</td>\n",
       "      <td>0.0</td>\n",
       "      <td>NaN</td>\n",
       "      <td>0.0</td>\n",
       "      <td>0.0</td>\n",
       "      <td>0.0</td>\n",
       "      <td>0.0</td>\n",
       "      <td>0.0</td>\n",
       "      <td>0.0</td>\n",
       "      <td>0.0</td>\n",
       "      <td>0.0</td>\n",
       "      <td>0.0</td>\n",
       "      <td>No</td>\n",
       "      <td>0.0</td>\n",
       "      <td>-99.00</td>\n",
       "      <td>-99.00</td>\n",
       "      <td>0.0</td>\n",
       "      <td>No</td>\n",
       "      <td>No</td>\n",
       "      <td>No</td>\n",
       "      <td>Yes</td>\n",
       "      <td>No</td>\n",
       "      <td>No</td>\n",
       "    </tr>\n",
       "    <tr>\n",
       "      <th>1</th>\n",
       "      <td>1043384</td>\n",
       "      <td>2.0</td>\n",
       "      <td>9.0</td>\n",
       "      <td>0.0</td>\n",
       "      <td>0.0</td>\n",
       "      <td>0.0</td>\n",
       "      <td>0.0</td>\n",
       "      <td>0.0</td>\n",
       "      <td>0.0</td>\n",
       "      <td>0.0</td>\n",
       "      <td>0.0</td>\n",
       "      <td>0.0</td>\n",
       "      <td>No</td>\n",
       "      <td>0.0</td>\n",
       "      <td>0.99</td>\n",
       "      <td>0.99</td>\n",
       "      <td>0.0</td>\n",
       "      <td>No</td>\n",
       "      <td>No</td>\n",
       "      <td>No</td>\n",
       "      <td>Yes</td>\n",
       "      <td>No</td>\n",
       "      <td>No</td>\n",
       "    </tr>\n",
       "    <tr>\n",
       "      <th>2</th>\n",
       "      <td>1043696</td>\n",
       "      <td>2.0</td>\n",
       "      <td>NaN</td>\n",
       "      <td>0.0</td>\n",
       "      <td>0.0</td>\n",
       "      <td>0.0</td>\n",
       "      <td>0.0</td>\n",
       "      <td>0.0</td>\n",
       "      <td>0.0</td>\n",
       "      <td>0.0</td>\n",
       "      <td>0.0</td>\n",
       "      <td>0.0</td>\n",
       "      <td>No</td>\n",
       "      <td>0.0</td>\n",
       "      <td>-99.00</td>\n",
       "      <td>-99.00</td>\n",
       "      <td>0.0</td>\n",
       "      <td>Yes</td>\n",
       "      <td>No</td>\n",
       "      <td>No</td>\n",
       "      <td>Yes</td>\n",
       "      <td>No</td>\n",
       "      <td>No</td>\n",
       "    </tr>\n",
       "    <tr>\n",
       "      <th>3</th>\n",
       "      <td>1043852</td>\n",
       "      <td>7.0</td>\n",
       "      <td>8.0</td>\n",
       "      <td>0.0</td>\n",
       "      <td>0.0</td>\n",
       "      <td>0.0</td>\n",
       "      <td>0.0</td>\n",
       "      <td>0.0</td>\n",
       "      <td>0.0</td>\n",
       "      <td>0.0</td>\n",
       "      <td>0.0</td>\n",
       "      <td>1.0</td>\n",
       "      <td>No</td>\n",
       "      <td>0.0</td>\n",
       "      <td>0.10</td>\n",
       "      <td>0.13</td>\n",
       "      <td>0.0</td>\n",
       "      <td>No</td>\n",
       "      <td>No</td>\n",
       "      <td>No</td>\n",
       "      <td>Yes</td>\n",
       "      <td>No</td>\n",
       "      <td>No</td>\n",
       "    </tr>\n",
       "    <tr>\n",
       "      <th>4</th>\n",
       "      <td>1044048</td>\n",
       "      <td>8.0</td>\n",
       "      <td>NaN</td>\n",
       "      <td>0.0</td>\n",
       "      <td>0.0</td>\n",
       "      <td>0.0</td>\n",
       "      <td>0.0</td>\n",
       "      <td>0.0</td>\n",
       "      <td>0.0</td>\n",
       "      <td>0.0</td>\n",
       "      <td>4.0</td>\n",
       "      <td>2.0</td>\n",
       "      <td>No</td>\n",
       "      <td>0.0</td>\n",
       "      <td>-99.00</td>\n",
       "      <td>-99.00</td>\n",
       "      <td>0.0</td>\n",
       "      <td>Yes</td>\n",
       "      <td>No</td>\n",
       "      <td>No</td>\n",
       "      <td>Yes</td>\n",
       "      <td>No</td>\n",
       "      <td>No</td>\n",
       "    </tr>\n",
       "  </tbody>\n",
       "</table>\n",
       "</div>"
      ],
      "text/plain": [
       "       sku  national_inv  lead_time  in_transit_qty  forecast_3_month  \\\n",
       "0  1026827           0.0        NaN             0.0               0.0   \n",
       "1  1043384           2.0        9.0             0.0               0.0   \n",
       "2  1043696           2.0        NaN             0.0               0.0   \n",
       "3  1043852           7.0        8.0             0.0               0.0   \n",
       "4  1044048           8.0        NaN             0.0               0.0   \n",
       "\n",
       "   forecast_6_month  forecast_9_month  sales_1_month  sales_3_month  \\\n",
       "0               0.0               0.0            0.0            0.0   \n",
       "1               0.0               0.0            0.0            0.0   \n",
       "2               0.0               0.0            0.0            0.0   \n",
       "3               0.0               0.0            0.0            0.0   \n",
       "4               0.0               0.0            0.0            0.0   \n",
       "\n",
       "   sales_6_month  sales_9_month  min_bank potential_issue  pieces_past_due  \\\n",
       "0            0.0            0.0       0.0              No              0.0   \n",
       "1            0.0            0.0       0.0              No              0.0   \n",
       "2            0.0            0.0       0.0              No              0.0   \n",
       "3            0.0            0.0       1.0              No              0.0   \n",
       "4            0.0            4.0       2.0              No              0.0   \n",
       "\n",
       "   perf_6_month_avg  perf_12_month_avg  local_bo_qty deck_risk oe_constraint  \\\n",
       "0            -99.00             -99.00           0.0        No            No   \n",
       "1              0.99               0.99           0.0        No            No   \n",
       "2            -99.00             -99.00           0.0       Yes            No   \n",
       "3              0.10               0.13           0.0        No            No   \n",
       "4            -99.00             -99.00           0.0       Yes            No   \n",
       "\n",
       "  ppap_risk stop_auto_buy rev_stop went_on_backorder  \n",
       "0        No           Yes       No                No  \n",
       "1        No           Yes       No                No  \n",
       "2        No           Yes       No                No  \n",
       "3        No           Yes       No                No  \n",
       "4        No           Yes       No                No  "
      ]
     },
     "execution_count": 170,
     "metadata": {},
     "output_type": "execute_result"
    }
   ],
   "source": [
    "#we are loading the dataset which is in CSV format using pd.read_csv\n",
    "df = pd.read_csv(\"Training_Dataset_v2.csv\")\n",
    "df.head()"
   ]
  },
  {
   "cell_type": "markdown",
   "id": "4f155e65",
   "metadata": {},
   "source": [
    "# Exploratory data analysis of the dataset"
   ]
  },
  {
   "cell_type": "markdown",
   "id": "711dedfd",
   "metadata": {},
   "source": [
    "The shape of the dataset"
   ]
  },
  {
   "cell_type": "code",
   "execution_count": 171,
   "id": "8cc87d59",
   "metadata": {},
   "outputs": [
    {
     "name": "stdout",
     "output_type": "stream",
     "text": [
      "The dataset has 1687861 rows and 23 columns\n"
     ]
    }
   ],
   "source": [
    "print(f\"The dataset has {df.shape[0]} rows and {df.shape[1]} columns\")"
   ]
  },
  {
   "cell_type": "markdown",
   "id": "78f7bc1e",
   "metadata": {},
   "source": [
    "The datatypes of the columns present in the dataset"
   ]
  },
  {
   "cell_type": "code",
   "execution_count": 172,
   "id": "ee4d54e0",
   "metadata": {},
   "outputs": [
    {
     "data": {
      "text/plain": [
       "sku                   object\n",
       "national_inv         float64\n",
       "lead_time            float64\n",
       "in_transit_qty       float64\n",
       "forecast_3_month     float64\n",
       "forecast_6_month     float64\n",
       "forecast_9_month     float64\n",
       "sales_1_month        float64\n",
       "sales_3_month        float64\n",
       "sales_6_month        float64\n",
       "sales_9_month        float64\n",
       "min_bank             float64\n",
       "potential_issue       object\n",
       "pieces_past_due      float64\n",
       "perf_6_month_avg     float64\n",
       "perf_12_month_avg    float64\n",
       "local_bo_qty         float64\n",
       "deck_risk             object\n",
       "oe_constraint         object\n",
       "ppap_risk             object\n",
       "stop_auto_buy         object\n",
       "rev_stop              object\n",
       "went_on_backorder     object\n",
       "dtype: object"
      ]
     },
     "execution_count": 172,
     "metadata": {},
     "output_type": "execute_result"
    }
   ],
   "source": [
    "#dtypes show the datatype of each column in the dataset\n",
    "df.dtypes"
   ]
  },
  {
   "cell_type": "markdown",
   "id": "0a4d507d",
   "metadata": {},
   "source": [
    "Checking for Null values"
   ]
  },
  {
   "cell_type": "code",
   "execution_count": 173,
   "id": "88ba2ee4",
   "metadata": {},
   "outputs": [
    {
     "data": {
      "text/plain": [
       "sku                       0\n",
       "national_inv              1\n",
       "lead_time            100894\n",
       "in_transit_qty            1\n",
       "forecast_3_month          1\n",
       "forecast_6_month          1\n",
       "forecast_9_month          1\n",
       "sales_1_month             1\n",
       "sales_3_month             1\n",
       "sales_6_month             1\n",
       "sales_9_month             1\n",
       "min_bank                  1\n",
       "potential_issue           1\n",
       "pieces_past_due           1\n",
       "perf_6_month_avg          1\n",
       "perf_12_month_avg         1\n",
       "local_bo_qty              1\n",
       "deck_risk                 1\n",
       "oe_constraint             1\n",
       "ppap_risk                 1\n",
       "stop_auto_buy             1\n",
       "rev_stop                  1\n",
       "went_on_backorder         1\n",
       "dtype: int64"
      ]
     },
     "execution_count": 173,
     "metadata": {},
     "output_type": "execute_result"
    }
   ],
   "source": [
    "#Isnull.sum() shows the no of nulls present in each column\n",
    "df.isnull().sum()"
   ]
  },
  {
   "cell_type": "markdown",
   "id": "f46cbf90",
   "metadata": {},
   "source": [
    " we see that the last row of the dataset is completely null, hence we are dropping the row"
   ]
  },
  {
   "cell_type": "code",
   "execution_count": 174,
   "id": "d1e3140a",
   "metadata": {},
   "outputs": [],
   "source": [
    "#we are dropping the last row which is colpletely null\n",
    "df.drop(1687860,inplace=True)"
   ]
  },
  {
   "cell_type": "markdown",
   "id": "10f916a2",
   "metadata": {},
   "source": [
    "Checking for null again, after dropping the last row"
   ]
  },
  {
   "cell_type": "code",
   "execution_count": 175,
   "id": "45a6dc70",
   "metadata": {},
   "outputs": [
    {
     "data": {
      "text/plain": [
       "sku                       0\n",
       "national_inv              0\n",
       "lead_time            100893\n",
       "in_transit_qty            0\n",
       "forecast_3_month          0\n",
       "forecast_6_month          0\n",
       "forecast_9_month          0\n",
       "sales_1_month             0\n",
       "sales_3_month             0\n",
       "sales_6_month             0\n",
       "sales_9_month             0\n",
       "min_bank                  0\n",
       "potential_issue           0\n",
       "pieces_past_due           0\n",
       "perf_6_month_avg          0\n",
       "perf_12_month_avg         0\n",
       "local_bo_qty              0\n",
       "deck_risk                 0\n",
       "oe_constraint             0\n",
       "ppap_risk                 0\n",
       "stop_auto_buy             0\n",
       "rev_stop                  0\n",
       "went_on_backorder         0\n",
       "dtype: int64"
      ]
     },
     "execution_count": 175,
     "metadata": {},
     "output_type": "execute_result"
    }
   ],
   "source": [
    "#checking for null again after dropping the last row\n",
    "df.isnull().sum()"
   ]
  },
  {
   "cell_type": "markdown",
   "id": "0f90fb88",
   "metadata": {},
   "source": [
    "Five point summary of the dataset"
   ]
  },
  {
   "cell_type": "code",
   "execution_count": 176,
   "id": "b51e5ecb",
   "metadata": {},
   "outputs": [
    {
     "data": {
      "text/html": [
       "<div>\n",
       "<style scoped>\n",
       "    .dataframe tbody tr th:only-of-type {\n",
       "        vertical-align: middle;\n",
       "    }\n",
       "\n",
       "    .dataframe tbody tr th {\n",
       "        vertical-align: top;\n",
       "    }\n",
       "\n",
       "    .dataframe thead th {\n",
       "        text-align: right;\n",
       "    }\n",
       "</style>\n",
       "<table border=\"1\" class=\"dataframe\">\n",
       "  <thead>\n",
       "    <tr style=\"text-align: right;\">\n",
       "      <th></th>\n",
       "      <th>national_inv</th>\n",
       "      <th>lead_time</th>\n",
       "      <th>in_transit_qty</th>\n",
       "      <th>forecast_3_month</th>\n",
       "      <th>forecast_6_month</th>\n",
       "      <th>forecast_9_month</th>\n",
       "      <th>sales_1_month</th>\n",
       "      <th>sales_3_month</th>\n",
       "      <th>sales_6_month</th>\n",
       "      <th>sales_9_month</th>\n",
       "      <th>min_bank</th>\n",
       "      <th>pieces_past_due</th>\n",
       "      <th>perf_6_month_avg</th>\n",
       "      <th>perf_12_month_avg</th>\n",
       "      <th>local_bo_qty</th>\n",
       "    </tr>\n",
       "  </thead>\n",
       "  <tbody>\n",
       "    <tr>\n",
       "      <th>count</th>\n",
       "      <td>1.687860e+06</td>\n",
       "      <td>1.586967e+06</td>\n",
       "      <td>1.687860e+06</td>\n",
       "      <td>1.687860e+06</td>\n",
       "      <td>1.687860e+06</td>\n",
       "      <td>1.687860e+06</td>\n",
       "      <td>1.687860e+06</td>\n",
       "      <td>1.687860e+06</td>\n",
       "      <td>1.687860e+06</td>\n",
       "      <td>1.687860e+06</td>\n",
       "      <td>1.687860e+06</td>\n",
       "      <td>1.687860e+06</td>\n",
       "      <td>1.687860e+06</td>\n",
       "      <td>1.687860e+06</td>\n",
       "      <td>1.687860e+06</td>\n",
       "    </tr>\n",
       "    <tr>\n",
       "      <th>mean</th>\n",
       "      <td>4.961118e+02</td>\n",
       "      <td>7.872267e+00</td>\n",
       "      <td>4.405202e+01</td>\n",
       "      <td>1.781193e+02</td>\n",
       "      <td>3.449867e+02</td>\n",
       "      <td>5.063644e+02</td>\n",
       "      <td>5.592607e+01</td>\n",
       "      <td>1.750259e+02</td>\n",
       "      <td>3.417288e+02</td>\n",
       "      <td>5.252697e+02</td>\n",
       "      <td>5.277230e+01</td>\n",
       "      <td>2.043724e+00</td>\n",
       "      <td>-6.872059e+00</td>\n",
       "      <td>-6.437947e+00</td>\n",
       "      <td>6.264507e-01</td>\n",
       "    </tr>\n",
       "    <tr>\n",
       "      <th>std</th>\n",
       "      <td>2.961523e+04</td>\n",
       "      <td>7.056024e+00</td>\n",
       "      <td>1.342742e+03</td>\n",
       "      <td>5.026553e+03</td>\n",
       "      <td>9.795152e+03</td>\n",
       "      <td>1.437892e+04</td>\n",
       "      <td>1.928196e+03</td>\n",
       "      <td>5.192378e+03</td>\n",
       "      <td>9.613167e+03</td>\n",
       "      <td>1.483861e+04</td>\n",
       "      <td>1.254983e+03</td>\n",
       "      <td>2.360165e+02</td>\n",
       "      <td>2.655636e+01</td>\n",
       "      <td>2.584333e+01</td>\n",
       "      <td>3.372224e+01</td>\n",
       "    </tr>\n",
       "    <tr>\n",
       "      <th>min</th>\n",
       "      <td>-2.725600e+04</td>\n",
       "      <td>0.000000e+00</td>\n",
       "      <td>0.000000e+00</td>\n",
       "      <td>0.000000e+00</td>\n",
       "      <td>0.000000e+00</td>\n",
       "      <td>0.000000e+00</td>\n",
       "      <td>0.000000e+00</td>\n",
       "      <td>0.000000e+00</td>\n",
       "      <td>0.000000e+00</td>\n",
       "      <td>0.000000e+00</td>\n",
       "      <td>0.000000e+00</td>\n",
       "      <td>0.000000e+00</td>\n",
       "      <td>-9.900000e+01</td>\n",
       "      <td>-9.900000e+01</td>\n",
       "      <td>0.000000e+00</td>\n",
       "    </tr>\n",
       "    <tr>\n",
       "      <th>25%</th>\n",
       "      <td>4.000000e+00</td>\n",
       "      <td>4.000000e+00</td>\n",
       "      <td>0.000000e+00</td>\n",
       "      <td>0.000000e+00</td>\n",
       "      <td>0.000000e+00</td>\n",
       "      <td>0.000000e+00</td>\n",
       "      <td>0.000000e+00</td>\n",
       "      <td>0.000000e+00</td>\n",
       "      <td>0.000000e+00</td>\n",
       "      <td>0.000000e+00</td>\n",
       "      <td>0.000000e+00</td>\n",
       "      <td>0.000000e+00</td>\n",
       "      <td>6.300000e-01</td>\n",
       "      <td>6.600000e-01</td>\n",
       "      <td>0.000000e+00</td>\n",
       "    </tr>\n",
       "    <tr>\n",
       "      <th>50%</th>\n",
       "      <td>1.500000e+01</td>\n",
       "      <td>8.000000e+00</td>\n",
       "      <td>0.000000e+00</td>\n",
       "      <td>0.000000e+00</td>\n",
       "      <td>0.000000e+00</td>\n",
       "      <td>0.000000e+00</td>\n",
       "      <td>0.000000e+00</td>\n",
       "      <td>1.000000e+00</td>\n",
       "      <td>2.000000e+00</td>\n",
       "      <td>4.000000e+00</td>\n",
       "      <td>0.000000e+00</td>\n",
       "      <td>0.000000e+00</td>\n",
       "      <td>8.200000e-01</td>\n",
       "      <td>8.100000e-01</td>\n",
       "      <td>0.000000e+00</td>\n",
       "    </tr>\n",
       "    <tr>\n",
       "      <th>75%</th>\n",
       "      <td>8.000000e+01</td>\n",
       "      <td>9.000000e+00</td>\n",
       "      <td>0.000000e+00</td>\n",
       "      <td>4.000000e+00</td>\n",
       "      <td>1.200000e+01</td>\n",
       "      <td>2.000000e+01</td>\n",
       "      <td>4.000000e+00</td>\n",
       "      <td>1.500000e+01</td>\n",
       "      <td>3.100000e+01</td>\n",
       "      <td>4.700000e+01</td>\n",
       "      <td>3.000000e+00</td>\n",
       "      <td>0.000000e+00</td>\n",
       "      <td>9.700000e-01</td>\n",
       "      <td>9.500000e-01</td>\n",
       "      <td>0.000000e+00</td>\n",
       "    </tr>\n",
       "    <tr>\n",
       "      <th>max</th>\n",
       "      <td>1.233440e+07</td>\n",
       "      <td>5.200000e+01</td>\n",
       "      <td>4.894080e+05</td>\n",
       "      <td>1.427612e+06</td>\n",
       "      <td>2.461360e+06</td>\n",
       "      <td>3.777304e+06</td>\n",
       "      <td>7.417740e+05</td>\n",
       "      <td>1.105478e+06</td>\n",
       "      <td>2.146625e+06</td>\n",
       "      <td>3.205172e+06</td>\n",
       "      <td>3.133190e+05</td>\n",
       "      <td>1.464960e+05</td>\n",
       "      <td>1.000000e+00</td>\n",
       "      <td>1.000000e+00</td>\n",
       "      <td>1.253000e+04</td>\n",
       "    </tr>\n",
       "  </tbody>\n",
       "</table>\n",
       "</div>"
      ],
      "text/plain": [
       "       national_inv     lead_time  in_transit_qty  forecast_3_month  \\\n",
       "count  1.687860e+06  1.586967e+06    1.687860e+06      1.687860e+06   \n",
       "mean   4.961118e+02  7.872267e+00    4.405202e+01      1.781193e+02   \n",
       "std    2.961523e+04  7.056024e+00    1.342742e+03      5.026553e+03   \n",
       "min   -2.725600e+04  0.000000e+00    0.000000e+00      0.000000e+00   \n",
       "25%    4.000000e+00  4.000000e+00    0.000000e+00      0.000000e+00   \n",
       "50%    1.500000e+01  8.000000e+00    0.000000e+00      0.000000e+00   \n",
       "75%    8.000000e+01  9.000000e+00    0.000000e+00      4.000000e+00   \n",
       "max    1.233440e+07  5.200000e+01    4.894080e+05      1.427612e+06   \n",
       "\n",
       "       forecast_6_month  forecast_9_month  sales_1_month  sales_3_month  \\\n",
       "count      1.687860e+06      1.687860e+06   1.687860e+06   1.687860e+06   \n",
       "mean       3.449867e+02      5.063644e+02   5.592607e+01   1.750259e+02   \n",
       "std        9.795152e+03      1.437892e+04   1.928196e+03   5.192378e+03   \n",
       "min        0.000000e+00      0.000000e+00   0.000000e+00   0.000000e+00   \n",
       "25%        0.000000e+00      0.000000e+00   0.000000e+00   0.000000e+00   \n",
       "50%        0.000000e+00      0.000000e+00   0.000000e+00   1.000000e+00   \n",
       "75%        1.200000e+01      2.000000e+01   4.000000e+00   1.500000e+01   \n",
       "max        2.461360e+06      3.777304e+06   7.417740e+05   1.105478e+06   \n",
       "\n",
       "       sales_6_month  sales_9_month      min_bank  pieces_past_due  \\\n",
       "count   1.687860e+06   1.687860e+06  1.687860e+06     1.687860e+06   \n",
       "mean    3.417288e+02   5.252697e+02  5.277230e+01     2.043724e+00   \n",
       "std     9.613167e+03   1.483861e+04  1.254983e+03     2.360165e+02   \n",
       "min     0.000000e+00   0.000000e+00  0.000000e+00     0.000000e+00   \n",
       "25%     0.000000e+00   0.000000e+00  0.000000e+00     0.000000e+00   \n",
       "50%     2.000000e+00   4.000000e+00  0.000000e+00     0.000000e+00   \n",
       "75%     3.100000e+01   4.700000e+01  3.000000e+00     0.000000e+00   \n",
       "max     2.146625e+06   3.205172e+06  3.133190e+05     1.464960e+05   \n",
       "\n",
       "       perf_6_month_avg  perf_12_month_avg  local_bo_qty  \n",
       "count      1.687860e+06       1.687860e+06  1.687860e+06  \n",
       "mean      -6.872059e+00      -6.437947e+00  6.264507e-01  \n",
       "std        2.655636e+01       2.584333e+01  3.372224e+01  \n",
       "min       -9.900000e+01      -9.900000e+01  0.000000e+00  \n",
       "25%        6.300000e-01       6.600000e-01  0.000000e+00  \n",
       "50%        8.200000e-01       8.100000e-01  0.000000e+00  \n",
       "75%        9.700000e-01       9.500000e-01  0.000000e+00  \n",
       "max        1.000000e+00       1.000000e+00  1.253000e+04  "
      ]
     },
     "execution_count": 176,
     "metadata": {},
     "output_type": "execute_result"
    }
   ],
   "source": [
    "#describe gives a five point summary\n",
    "df.describe()"
   ]
  },
  {
   "cell_type": "markdown",
   "id": "25611cdd",
   "metadata": {},
   "source": [
    "Checking the distribution of the target variable labels"
   ]
  },
  {
   "cell_type": "code",
   "execution_count": 177,
   "id": "30f17d3e",
   "metadata": {},
   "outputs": [
    {
     "data": {
      "text/plain": [
       "<AxesSubplot:xlabel='went_on_backorder', ylabel='count'>"
      ]
     },
     "execution_count": 177,
     "metadata": {},
     "output_type": "execute_result"
    },
    {
     "data": {
      "image/png": "[encoded data removed]",
      "text/plain": [
       "<Figure size 432x288 with 1 Axes>"
      ]
     },
     "metadata": {
      "needs_background": "light"
     },
     "output_type": "display_data"
    }
   ],
   "source": [
    "# to check the distribution of the target variable we are using the count plot\n",
    "sns.countplot(df[\"went_on_backorder\"])"
   ]
  },
  {
   "cell_type": "markdown",
   "id": "040d35e9",
   "metadata": {},
   "source": [
    "Checking correlation among numerical variables"
   ]
  },
  {
   "cell_type": "code",
   "execution_count": 178,
   "id": "4c2198ea",
   "metadata": {},
   "outputs": [
    {
     "data": {
      "text/plain": [
       "<AxesSubplot:>"
      ]
     },
     "execution_count": 178,
     "metadata": {},
     "output_type": "execute_result"
    },
    {
     "data": {
      "image/png": "[encoded data removed]",
      "text/plain": [
       "<Figure size 1440x1440 with 2 Axes>"
      ]
     },
     "metadata": {
      "needs_background": "light"
     },
     "output_type": "display_data"
    }
   ],
   "source": [
    "# check for correlation amoong the numeric variables using heatmap\n",
    "plt.figure(figsize=(20,20))\n",
    "sns.heatmap(df.corr(),annot = True)"
   ]
  },
  {
   "cell_type": "code",
   "execution_count": 179,
   "id": "798f86fa",
   "metadata": {},
   "outputs": [],
   "source": [
    "#checking for multicollinearity, having a correlation of 0.6 and above"
   ]
  },
  {
   "cell_type": "code",
   "execution_count": 180,
   "id": "154ebe7a",
   "metadata": {},
   "outputs": [
    {
     "data": {
      "text/plain": [
       "<AxesSubplot:>"
      ]
     },
     "execution_count": 180,
     "metadata": {},
     "output_type": "execute_result"
    },
    {
     "data": {
      "image/png": "[encoded data removed]",
      "text/plain": [
       "<Figure size 1080x1080 with 2 Axes>"
      ]
     },
     "metadata": {
      "needs_background": "light"
     },
     "output_type": "display_data"
    }
   ],
   "source": [
    "plt.figure(figsize=(15,15))\n",
    "sns.heatmap(df.corr()[df.corr()>0.6], annot=True)"
   ]
  },
  {
   "cell_type": "markdown",
   "id": "cf0e5549",
   "metadata": {},
   "source": [
    "# Imputing the Null values"
   ]
  },
  {
   "cell_type": "code",
   "execution_count": 181,
   "id": "9f41b7e5",
   "metadata": {},
   "outputs": [
    {
     "data": {
      "text/plain": [
       "<AxesSubplot:xlabel='lead_time'>"
      ]
     },
     "execution_count": 181,
     "metadata": {},
     "output_type": "execute_result"
    },
    {
     "data": {
      "image/png": "[encoded data removed]",
      "text/plain": [
       "<Figure size 432x288 with 1 Axes>"
      ]
     },
     "metadata": {
      "needs_background": "light"
     },
     "output_type": "display_data"
    }
   ],
   "source": [
    "# we are checking the distribution of the leadtime using violinplot\n",
    "sns.violinplot(df[\"lead_time\"])"
   ]
  },
  {
   "cell_type": "code",
   "execution_count": 182,
   "id": "c45973b8",
   "metadata": {},
   "outputs": [],
   "source": [
    "# we can see that the lead time is left skewed hence we are filling it using median\n",
    "df[\"lead_time\"] = df[\"lead_time\"].fillna(df[\"lead_time\"].median())"
   ]
  },
  {
   "cell_type": "code",
   "execution_count": 183,
   "id": "5dd0aff5",
   "metadata": {},
   "outputs": [
    {
     "data": {
      "text/plain": [
       "sku                  0\n",
       "national_inv         0\n",
       "lead_time            0\n",
       "in_transit_qty       0\n",
       "forecast_3_month     0\n",
       "forecast_6_month     0\n",
       "forecast_9_month     0\n",
       "sales_1_month        0\n",
       "sales_3_month        0\n",
       "sales_6_month        0\n",
       "sales_9_month        0\n",
       "min_bank             0\n",
       "potential_issue      0\n",
       "pieces_past_due      0\n",
       "perf_6_month_avg     0\n",
       "perf_12_month_avg    0\n",
       "local_bo_qty         0\n",
       "deck_risk            0\n",
       "oe_constraint        0\n",
       "ppap_risk            0\n",
       "stop_auto_buy        0\n",
       "rev_stop             0\n",
       "went_on_backorder    0\n",
       "dtype: int64"
      ]
     },
     "execution_count": 183,
     "metadata": {},
     "output_type": "execute_result"
    }
   ],
   "source": [
    "df.isnull().sum()"
   ]
  },
  {
   "cell_type": "markdown",
   "id": "fad54245",
   "metadata": {},
   "source": [
    "# Addressing the Non Standard Null value"
   ]
  },
  {
   "cell_type": "markdown",
   "id": "2ca4176d",
   "metadata": {},
   "source": [
    "we can see that there is -99.00 in the performance 12 month average, which does not make any sense in the performance column"
   ]
  },
  {
   "cell_type": "code",
   "execution_count": 184,
   "id": "2b0c8b82",
   "metadata": {},
   "outputs": [
    {
     "data": {
      "text/plain": [
       " 0.99     132425\n",
       "-99.00    122050\n",
       " 0.78     117662\n",
       " 0.98      92825\n",
       " 0.97      66029\n",
       "Name: perf_12_month_avg, dtype: int64"
      ]
     },
     "execution_count": 184,
     "metadata": {},
     "output_type": "execute_result"
    }
   ],
   "source": [
    "df[\"perf_12_month_avg\"].value_counts().head()"
   ]
  },
  {
   "cell_type": "markdown",
   "id": "2fc2479b",
   "metadata": {},
   "source": [
    "we can see that there is -99.00 in the performance 6 month average, which does not make any sense in the performance column"
   ]
  },
  {
   "cell_type": "code",
   "execution_count": 185,
   "id": "a272dfa1",
   "metadata": {},
   "outputs": [
    {
     "data": {
      "text/plain": [
       " 0.99     143757\n",
       " 1.00     132329\n",
       "-99.00    129478\n",
       " 0.73     106468\n",
       " 0.98      83611\n",
       "Name: perf_6_month_avg, dtype: int64"
      ]
     },
     "execution_count": 185,
     "metadata": {},
     "output_type": "execute_result"
    }
   ],
   "source": [
    "df[\"perf_6_month_avg\"].value_counts().head()"
   ]
  },
  {
   "cell_type": "markdown",
   "id": "961e5921",
   "metadata": {},
   "source": [
    "We are replacing the -99 with null "
   ]
  },
  {
   "cell_type": "code",
   "execution_count": 186,
   "id": "bae659b2",
   "metadata": {},
   "outputs": [],
   "source": [
    "# we can see that there are non standard null value ie -99 in the two performace columns. hence we are replacing them with null\n",
    "df[\"perf_12_month_avg\"].replace({-99.00:np.nan},inplace=True)\n",
    "df[\"perf_6_month_avg\"].replace({-99.00:np.nan},inplace=True)"
   ]
  },
  {
   "cell_type": "code",
   "execution_count": 187,
   "id": "b6394d5b",
   "metadata": {},
   "outputs": [
    {
     "data": {
      "text/plain": [
       "sku                       0\n",
       "national_inv              0\n",
       "lead_time                 0\n",
       "in_transit_qty            0\n",
       "forecast_3_month          0\n",
       "forecast_6_month          0\n",
       "forecast_9_month          0\n",
       "sales_1_month             0\n",
       "sales_3_month             0\n",
       "sales_6_month             0\n",
       "sales_9_month             0\n",
       "min_bank                  0\n",
       "potential_issue           0\n",
       "pieces_past_due           0\n",
       "perf_6_month_avg     129478\n",
       "perf_12_month_avg    122050\n",
       "local_bo_qty              0\n",
       "deck_risk                 0\n",
       "oe_constraint             0\n",
       "ppap_risk                 0\n",
       "stop_auto_buy             0\n",
       "rev_stop                  0\n",
       "went_on_backorder         0\n",
       "dtype: int64"
      ]
     },
     "execution_count": 187,
     "metadata": {},
     "output_type": "execute_result"
    }
   ],
   "source": [
    "df.isnull().sum()"
   ]
  },
  {
   "cell_type": "markdown",
   "id": "5e7632da",
   "metadata": {},
   "source": [
    "Checking the distribution of the performance columns "
   ]
  },
  {
   "cell_type": "code",
   "execution_count": 188,
   "id": "0619504a",
   "metadata": {},
   "outputs": [
    {
     "data": {
      "text/plain": [
       "<AxesSubplot:xlabel='perf_6_month_avg', ylabel='Density'>"
      ]
     },
     "execution_count": 188,
     "metadata": {},
     "output_type": "execute_result"
    },
    {
     "data": {
      "image/png": "[encoded data removed]",
      "text/plain": [
       "<Figure size 432x288 with 2 Axes>"
      ]
     },
     "metadata": {
      "needs_background": "light"
     },
     "output_type": "display_data"
    }
   ],
   "source": [
    "plt.subplot(1,2,1)\n",
    "sns.kdeplot(df[\"perf_12_month_avg\"])\n",
    "plt.subplot(1,2,2)\n",
    "sns.kdeplot(df[\"perf_6_month_avg\"])"
   ]
  },
  {
   "cell_type": "markdown",
   "id": "cf78706c",
   "metadata": {},
   "source": [
    "Since both of the performance are left skewed we are replacing them with median"
   ]
  },
  {
   "cell_type": "code",
   "execution_count": 189,
   "id": "ac49e1ef",
   "metadata": {},
   "outputs": [],
   "source": [
    "\n",
    "df[\"perf_12_month_avg\"]=df[\"perf_12_month_avg\"].fillna(df[\"perf_12_month_avg\"].median())\n",
    "df[\"perf_6_month_avg\"]=df[\"perf_6_month_avg\"].fillna(df[\"perf_6_month_avg\"].median())"
   ]
  },
  {
   "cell_type": "code",
   "execution_count": 190,
   "id": "43a509a6",
   "metadata": {},
   "outputs": [
    {
     "data": {
      "text/plain": [
       "sku                  0\n",
       "national_inv         0\n",
       "lead_time            0\n",
       "in_transit_qty       0\n",
       "forecast_3_month     0\n",
       "forecast_6_month     0\n",
       "forecast_9_month     0\n",
       "sales_1_month        0\n",
       "sales_3_month        0\n",
       "sales_6_month        0\n",
       "sales_9_month        0\n",
       "min_bank             0\n",
       "potential_issue      0\n",
       "pieces_past_due      0\n",
       "perf_6_month_avg     0\n",
       "perf_12_month_avg    0\n",
       "local_bo_qty         0\n",
       "deck_risk            0\n",
       "oe_constraint        0\n",
       "ppap_risk            0\n",
       "stop_auto_buy        0\n",
       "rev_stop             0\n",
       "went_on_backorder    0\n",
       "dtype: int64"
      ]
     },
     "execution_count": 190,
     "metadata": {},
     "output_type": "execute_result"
    }
   ],
   "source": [
    "df.isnull().sum()"
   ]
  },
  {
   "cell_type": "markdown",
   "id": "a9f1b71f",
   "metadata": {},
   "source": [
    "we are dropping the SKU column, which is unique and denotes the product ID. "
   ]
  },
  {
   "cell_type": "code",
   "execution_count": 191,
   "id": "84d1b177",
   "metadata": {},
   "outputs": [],
   "source": [
    "\n",
    "df.drop([\"sku\"],axis =1,inplace = True)"
   ]
  },
  {
   "cell_type": "markdown",
   "id": "d7bc5a24",
   "metadata": {},
   "source": [
    "Checking for skewness in the overall datasets"
   ]
  },
  {
   "cell_type": "code",
   "execution_count": 192,
   "id": "42b9f4d2",
   "metadata": {},
   "outputs": [
    {
     "data": {
      "text/plain": [
       "national_inv         340.285800\n",
       "lead_time              4.695413\n",
       "in_transit_qty       166.183404\n",
       "forecast_3_month     138.968325\n",
       "forecast_6_month     138.961427\n",
       "forecast_9_month     143.298875\n",
       "sales_1_month        196.119990\n",
       "sales_3_month        141.286380\n",
       "sales_6_month        139.176712\n",
       "sales_9_month        135.054191\n",
       "min_bank             131.212649\n",
       "pieces_past_due      412.391900\n",
       "perf_6_month_avg      -1.700319\n",
       "perf_12_month_avg     -1.720717\n",
       "local_bo_qty         165.190548\n",
       "dtype: float64"
      ]
     },
     "execution_count": 192,
     "metadata": {},
     "output_type": "execute_result"
    }
   ],
   "source": [
    "df.skew()"
   ]
  },
  {
   "cell_type": "markdown",
   "id": "8453811b",
   "metadata": {},
   "source": [
    "we can see that the numerical columns are right skewed, in order to not lose any data we are tranforming the data"
   ]
  },
  {
   "cell_type": "markdown",
   "id": "419d64bf",
   "metadata": {},
   "source": [
    "# Transforming the numeric columns"
   ]
  },
  {
   "cell_type": "markdown",
   "id": "ae4f316b",
   "metadata": {},
   "source": [
    "Since we have 0 and also negative values we are using power transformer"
   ]
  },
  {
   "cell_type": "code",
   "execution_count": 193,
   "id": "c656e42a",
   "metadata": {},
   "outputs": [],
   "source": [
    "from sklearn.preprocessing import PowerTransformer\n",
    "pt = PowerTransformer()"
   ]
  },
  {
   "cell_type": "markdown",
   "id": "9107549a",
   "metadata": {},
   "source": [
    "We are using iloc to tranform only the numeric columns"
   ]
  },
  {
   "cell_type": "code",
   "execution_count": 194,
   "id": "5bb02a11",
   "metadata": {},
   "outputs": [],
   "source": [
    "df.iloc[:,:10] = pt.fit_transform(df.iloc[:,:10])\n",
    "df.iloc[:,12:16] = pt.fit_transform(df.iloc[:,12:16])"
   ]
  },
  {
   "cell_type": "markdown",
   "id": "61f1cd33",
   "metadata": {},
   "source": [
    "# Encoding the function"
   ]
  },
  {
   "cell_type": "markdown",
   "id": "d6054b67",
   "metadata": {},
   "source": [
    "As we have only \"Yes\" and \"NO\" in our categorical columns. We are mapping the categorical columns with 1 and 0.(encoding the categorical columns using dummy encoding)"
   ]
  },
  {
   "cell_type": "code",
   "execution_count": 195,
   "id": "a6d703a8",
   "metadata": {},
   "outputs": [],
   "source": [
    "df_num = df.select_dtypes(np.number)\n",
    "df_cat = df.select_dtypes(object)"
   ]
  },
  {
   "cell_type": "code",
   "execution_count": 196,
   "id": "777e4192",
   "metadata": {},
   "outputs": [
    {
     "data": {
      "text/html": [
       "<div>\n",
       "<style scoped>\n",
       "    .dataframe tbody tr th:only-of-type {\n",
       "        vertical-align: middle;\n",
       "    }\n",
       "\n",
       "    .dataframe tbody tr th {\n",
       "        vertical-align: top;\n",
       "    }\n",
       "\n",
       "    .dataframe thead th {\n",
       "        text-align: right;\n",
       "    }\n",
       "</style>\n",
       "<table border=\"1\" class=\"dataframe\">\n",
       "  <thead>\n",
       "    <tr style=\"text-align: right;\">\n",
       "      <th></th>\n",
       "      <th>potential_issue_Yes</th>\n",
       "      <th>deck_risk_Yes</th>\n",
       "      <th>oe_constraint_Yes</th>\n",
       "      <th>ppap_risk_Yes</th>\n",
       "      <th>stop_auto_buy_Yes</th>\n",
       "      <th>rev_stop_Yes</th>\n",
       "      <th>went_on_backorder_Yes</th>\n",
       "    </tr>\n",
       "  </thead>\n",
       "  <tbody>\n",
       "    <tr>\n",
       "      <th>0</th>\n",
       "      <td>0</td>\n",
       "      <td>0</td>\n",
       "      <td>0</td>\n",
       "      <td>0</td>\n",
       "      <td>1</td>\n",
       "      <td>0</td>\n",
       "      <td>0</td>\n",
       "    </tr>\n",
       "    <tr>\n",
       "      <th>1</th>\n",
       "      <td>0</td>\n",
       "      <td>0</td>\n",
       "      <td>0</td>\n",
       "      <td>0</td>\n",
       "      <td>1</td>\n",
       "      <td>0</td>\n",
       "      <td>0</td>\n",
       "    </tr>\n",
       "    <tr>\n",
       "      <th>2</th>\n",
       "      <td>0</td>\n",
       "      <td>1</td>\n",
       "      <td>0</td>\n",
       "      <td>0</td>\n",
       "      <td>1</td>\n",
       "      <td>0</td>\n",
       "      <td>0</td>\n",
       "    </tr>\n",
       "    <tr>\n",
       "      <th>3</th>\n",
       "      <td>0</td>\n",
       "      <td>0</td>\n",
       "      <td>0</td>\n",
       "      <td>0</td>\n",
       "      <td>1</td>\n",
       "      <td>0</td>\n",
       "      <td>0</td>\n",
       "    </tr>\n",
       "    <tr>\n",
       "      <th>4</th>\n",
       "      <td>0</td>\n",
       "      <td>1</td>\n",
       "      <td>0</td>\n",
       "      <td>0</td>\n",
       "      <td>1</td>\n",
       "      <td>0</td>\n",
       "      <td>0</td>\n",
       "    </tr>\n",
       "  </tbody>\n",
       "</table>\n",
       "</div>"
      ],
      "text/plain": [
       "   potential_issue_Yes  deck_risk_Yes  oe_constraint_Yes  ppap_risk_Yes  \\\n",
       "0                    0              0                  0              0   \n",
       "1                    0              0                  0              0   \n",
       "2                    0              1                  0              0   \n",
       "3                    0              0                  0              0   \n",
       "4                    0              1                  0              0   \n",
       "\n",
       "   stop_auto_buy_Yes  rev_stop_Yes  went_on_backorder_Yes  \n",
       "0                  1             0                      0  \n",
       "1                  1             0                      0  \n",
       "2                  1             0                      0  \n",
       "3                  1             0                      0  \n",
       "4                  1             0                      0  "
      ]
     },
     "execution_count": 196,
     "metadata": {},
     "output_type": "execute_result"
    }
   ],
   "source": [
    "df_encoded = pd.get_dummies(data = df_cat,drop_first = True)\n",
    "df_encoded.head()"
   ]
  },
  {
   "cell_type": "code",
   "execution_count": 197,
   "id": "8ff98664",
   "metadata": {},
   "outputs": [],
   "source": [
    "df_full = pd.concat([df_num,df_encoded],axis =1)"
   ]
  },
  {
   "cell_type": "code",
   "execution_count": 198,
   "id": "28499d46",
   "metadata": {},
   "outputs": [
    {
     "data": {
      "text/html": [
       "<div>\n",
       "<style scoped>\n",
       "    .dataframe tbody tr th:only-of-type {\n",
       "        vertical-align: middle;\n",
       "    }\n",
       "\n",
       "    .dataframe tbody tr th {\n",
       "        vertical-align: top;\n",
       "    }\n",
       "\n",
       "    .dataframe thead th {\n",
       "        text-align: right;\n",
       "    }\n",
       "</style>\n",
       "<table border=\"1\" class=\"dataframe\">\n",
       "  <thead>\n",
       "    <tr style=\"text-align: right;\">\n",
       "      <th></th>\n",
       "      <th>national_inv</th>\n",
       "      <th>lead_time</th>\n",
       "      <th>in_transit_qty</th>\n",
       "      <th>forecast_3_month</th>\n",
       "      <th>forecast_6_month</th>\n",
       "      <th>forecast_9_month</th>\n",
       "      <th>sales_1_month</th>\n",
       "      <th>sales_3_month</th>\n",
       "      <th>sales_6_month</th>\n",
       "      <th>sales_9_month</th>\n",
       "      <th>min_bank</th>\n",
       "      <th>pieces_past_due</th>\n",
       "      <th>perf_6_month_avg</th>\n",
       "      <th>perf_12_month_avg</th>\n",
       "      <th>local_bo_qty</th>\n",
       "      <th>potential_issue_Yes</th>\n",
       "      <th>deck_risk_Yes</th>\n",
       "      <th>oe_constraint_Yes</th>\n",
       "      <th>ppap_risk_Yes</th>\n",
       "      <th>stop_auto_buy_Yes</th>\n",
       "      <th>rev_stop_Yes</th>\n",
       "      <th>went_on_backorder_Yes</th>\n",
       "    </tr>\n",
       "  </thead>\n",
       "  <tbody>\n",
       "    <tr>\n",
       "      <th>0</th>\n",
       "      <td>-0.065044</td>\n",
       "      <td>0.308325</td>\n",
       "      <td>-0.500204</td>\n",
       "      <td>-0.640153</td>\n",
       "      <td>-0.716508</td>\n",
       "      <td>-0.757403</td>\n",
       "      <td>-0.805595</td>\n",
       "      <td>-0.95858</td>\n",
       "      <td>-1.049791</td>\n",
       "      <td>-1.102320</td>\n",
       "      <td>0.0</td>\n",
       "      <td>-0.123332</td>\n",
       "      <td>0.070643</td>\n",
       "      <td>-0.005105</td>\n",
       "      <td>-0.11842</td>\n",
       "      <td>0</td>\n",
       "      <td>0</td>\n",
       "      <td>0</td>\n",
       "      <td>0</td>\n",
       "      <td>1</td>\n",
       "      <td>0</td>\n",
       "      <td>0</td>\n",
       "    </tr>\n",
       "    <tr>\n",
       "      <th>1</th>\n",
       "      <td>-0.063067</td>\n",
       "      <td>0.489802</td>\n",
       "      <td>-0.500204</td>\n",
       "      <td>-0.640153</td>\n",
       "      <td>-0.716508</td>\n",
       "      <td>-0.757403</td>\n",
       "      <td>-0.805595</td>\n",
       "      <td>-0.95858</td>\n",
       "      <td>-1.049791</td>\n",
       "      <td>-1.102320</td>\n",
       "      <td>0.0</td>\n",
       "      <td>-0.123332</td>\n",
       "      <td>1.218821</td>\n",
       "      <td>1.337567</td>\n",
       "      <td>-0.11842</td>\n",
       "      <td>0</td>\n",
       "      <td>0</td>\n",
       "      <td>0</td>\n",
       "      <td>0</td>\n",
       "      <td>1</td>\n",
       "      <td>0</td>\n",
       "      <td>0</td>\n",
       "    </tr>\n",
       "    <tr>\n",
       "      <th>2</th>\n",
       "      <td>-0.063067</td>\n",
       "      <td>0.308325</td>\n",
       "      <td>-0.500204</td>\n",
       "      <td>-0.640153</td>\n",
       "      <td>-0.716508</td>\n",
       "      <td>-0.757403</td>\n",
       "      <td>-0.805595</td>\n",
       "      <td>-0.95858</td>\n",
       "      <td>-1.049791</td>\n",
       "      <td>-1.102320</td>\n",
       "      <td>0.0</td>\n",
       "      <td>-0.123332</td>\n",
       "      <td>0.070643</td>\n",
       "      <td>-0.005105</td>\n",
       "      <td>-0.11842</td>\n",
       "      <td>0</td>\n",
       "      <td>1</td>\n",
       "      <td>0</td>\n",
       "      <td>0</td>\n",
       "      <td>1</td>\n",
       "      <td>0</td>\n",
       "      <td>0</td>\n",
       "    </tr>\n",
       "    <tr>\n",
       "      <th>3</th>\n",
       "      <td>-0.059309</td>\n",
       "      <td>0.308325</td>\n",
       "      <td>-0.500204</td>\n",
       "      <td>-0.640153</td>\n",
       "      <td>-0.716508</td>\n",
       "      <td>-0.757403</td>\n",
       "      <td>-0.805595</td>\n",
       "      <td>-0.95858</td>\n",
       "      <td>-1.049791</td>\n",
       "      <td>-1.102320</td>\n",
       "      <td>1.0</td>\n",
       "      <td>-0.123332</td>\n",
       "      <td>-2.010443</td>\n",
       "      <td>-2.012321</td>\n",
       "      <td>-0.11842</td>\n",
       "      <td>0</td>\n",
       "      <td>0</td>\n",
       "      <td>0</td>\n",
       "      <td>0</td>\n",
       "      <td>1</td>\n",
       "      <td>0</td>\n",
       "      <td>0</td>\n",
       "    </tr>\n",
       "    <tr>\n",
       "      <th>4</th>\n",
       "      <td>-0.058648</td>\n",
       "      <td>0.308325</td>\n",
       "      <td>-0.500204</td>\n",
       "      <td>-0.640153</td>\n",
       "      <td>-0.716508</td>\n",
       "      <td>-0.757403</td>\n",
       "      <td>-0.805595</td>\n",
       "      <td>-0.95858</td>\n",
       "      <td>-1.049791</td>\n",
       "      <td>-0.049247</td>\n",
       "      <td>2.0</td>\n",
       "      <td>-0.123332</td>\n",
       "      <td>0.070643</td>\n",
       "      <td>-0.005105</td>\n",
       "      <td>-0.11842</td>\n",
       "      <td>0</td>\n",
       "      <td>1</td>\n",
       "      <td>0</td>\n",
       "      <td>0</td>\n",
       "      <td>1</td>\n",
       "      <td>0</td>\n",
       "      <td>0</td>\n",
       "    </tr>\n",
       "  </tbody>\n",
       "</table>\n",
       "</div>"
      ],
      "text/plain": [
       "   national_inv  lead_time  in_transit_qty  forecast_3_month  \\\n",
       "0     -0.065044   0.308325       -0.500204         -0.640153   \n",
       "1     -0.063067   0.489802       -0.500204         -0.640153   \n",
       "2     -0.063067   0.308325       -0.500204         -0.640153   \n",
       "3     -0.059309   0.308325       -0.500204         -0.640153   \n",
       "4     -0.058648   0.308325       -0.500204         -0.640153   \n",
       "\n",
       "   forecast_6_month  forecast_9_month  sales_1_month  sales_3_month  \\\n",
       "0         -0.716508         -0.757403      -0.805595       -0.95858   \n",
       "1         -0.716508         -0.757403      -0.805595       -0.95858   \n",
       "2         -0.716508         -0.757403      -0.805595       -0.95858   \n",
       "3         -0.716508         -0.757403      -0.805595       -0.95858   \n",
       "4         -0.716508         -0.757403      -0.805595       -0.95858   \n",
       "\n",
       "   sales_6_month  sales_9_month  min_bank  pieces_past_due  perf_6_month_avg  \\\n",
       "0      -1.049791      -1.102320       0.0        -0.123332          0.070643   \n",
       "1      -1.049791      -1.102320       0.0        -0.123332          1.218821   \n",
       "2      -1.049791      -1.102320       0.0        -0.123332          0.070643   \n",
       "3      -1.049791      -1.102320       1.0        -0.123332         -2.010443   \n",
       "4      -1.049791      -0.049247       2.0        -0.123332          0.070643   \n",
       "\n",
       "   perf_12_month_avg  local_bo_qty  potential_issue_Yes  deck_risk_Yes  \\\n",
       "0          -0.005105      -0.11842                    0              0   \n",
       "1           1.337567      -0.11842                    0              0   \n",
       "2          -0.005105      -0.11842                    0              1   \n",
       "3          -2.012321      -0.11842                    0              0   \n",
       "4          -0.005105      -0.11842                    0              1   \n",
       "\n",
       "   oe_constraint_Yes  ppap_risk_Yes  stop_auto_buy_Yes  rev_stop_Yes  \\\n",
       "0                  0              0                  1             0   \n",
       "1                  0              0                  1             0   \n",
       "2                  0              0                  1             0   \n",
       "3                  0              0                  1             0   \n",
       "4                  0              0                  1             0   \n",
       "\n",
       "   went_on_backorder_Yes  \n",
       "0                      0  \n",
       "1                      0  \n",
       "2                      0  \n",
       "3                      0  \n",
       "4                      0  "
      ]
     },
     "execution_count": 198,
     "metadata": {},
     "output_type": "execute_result"
    }
   ],
   "source": [
    "df_full.head()"
   ]
  },
  {
   "cell_type": "markdown",
   "id": "8fcfb496",
   "metadata": {},
   "source": [
    "# Train Test Split"
   ]
  },
  {
   "cell_type": "code",
   "execution_count": 199,
   "id": "315805b9",
   "metadata": {},
   "outputs": [],
   "source": [
    "# we are splitting the data into test and train , where we will use the train data to train the model and test to test the model\n",
    "from sklearn.model_selection import train_test_split\n",
    "X = df_full.drop([\"went_on_backorder_Yes\"],axis =1)\n",
    "y = df_full[\"went_on_backorder_Yes\"]"
   ]
  },
  {
   "cell_type": "code",
   "execution_count": 200,
   "id": "a64a413b",
   "metadata": {},
   "outputs": [
    {
     "name": "stdout",
     "output_type": "stream",
     "text": [
      "(1181502, 21)\n",
      "(506358, 21)\n",
      "(1181502,)\n",
      "(506358,)\n"
     ]
    }
   ],
   "source": [
    "# WE ARE CHECKING THE SHAPE OF THE TRAIN AND TEST DATASETS.INORDER TO MAKE SURE THAT TRAIN TEST SPLIT IS RIGHTLY DONE\n",
    "xtrain,xtest,ytrain,ytest = train_test_split(X,y,test_size=0.3,random_state=96)\n",
    "print(xtrain.shape)\n",
    "print(xtest.shape)\n",
    "print(ytrain.shape)\n",
    "print(ytest.shape)"
   ]
  },
  {
   "cell_type": "code",
   "execution_count": 201,
   "id": "6e105a16",
   "metadata": {},
   "outputs": [
    {
     "data": {
      "text/plain": [
       "Ttest_indResult(statistic=array([ 1.06049934,  0.01932973,  1.6593452 ,  1.39769436,  1.17186593,\n",
       "        1.58943361,  2.40249542,  1.94121216,  1.92799063,  2.0175531 ,\n",
       "       -0.83797298,  0.70098771,  0.91835325,  0.88351616,  1.25993847,\n",
       "        0.80450034, -0.00439329,  0.76683396, -0.45257836, -0.24102309,\n",
       "       -0.46015098]), pvalue=array([0.28891764, 0.98457807, 0.09704644, 0.16220505, 0.24125105,\n",
       "       0.11196272, 0.01628375, 0.05223272, 0.05385646, 0.04363798,\n",
       "       0.402046  , 0.48331078, 0.35843409, 0.37695758, 0.20769173,\n",
       "       0.42110819, 0.99649467, 0.44318035, 0.65085245, 0.80953725,\n",
       "       0.64540791]))"
      ]
     },
     "execution_count": 201,
     "metadata": {},
     "output_type": "execute_result"
    }
   ],
   "source": [
    "# we are checking whether the two population means are equal usinig the independent t test\n",
    "stats.ttest_ind(xtrain,xtest)"
   ]
  },
  {
   "cell_type": "code",
   "execution_count": 202,
   "id": "01dc722f",
   "metadata": {},
   "outputs": [],
   "source": [
    "xtest_copy = xtest.copy()"
   ]
  },
  {
   "cell_type": "markdown",
   "id": "cfad1ad5",
   "metadata": {},
   "source": [
    "# Scaling the independent numeric columns"
   ]
  },
  {
   "cell_type": "code",
   "execution_count": 203,
   "id": "18129be0",
   "metadata": {},
   "outputs": [],
   "source": [
    "# we are scaling the dataset to make the mean 0 and standard deviation 1.It will be usefull for us in distance based algorithms\n",
    "from sklearn.preprocessing import StandardScaler\n",
    "ss = StandardScaler()\n",
    "xtrain_ss = xtrain.copy()\n",
    "xtest_ss = xtest.copy()"
   ]
  },
  {
   "cell_type": "markdown",
   "id": "382551ba",
   "metadata": {},
   "source": [
    "As used in transformation, we are using iloc to scale only the numeric columns"
   ]
  },
  {
   "cell_type": "code",
   "execution_count": 204,
   "id": "3e842643",
   "metadata": {},
   "outputs": [],
   "source": [
    "# since we have numerical columns only upto 15th column we are using standard scaler only upto it\n",
    "xtrain_ss.iloc[:,:15] = ss.fit_transform(xtrain_ss.iloc[:,:15])\n"
   ]
  },
  {
   "cell_type": "code",
   "execution_count": 205,
   "id": "b1703534",
   "metadata": {},
   "outputs": [
    {
     "data": {
      "text/html": [
       "<div>\n",
       "<style scoped>\n",
       "    .dataframe tbody tr th:only-of-type {\n",
       "        vertical-align: middle;\n",
       "    }\n",
       "\n",
       "    .dataframe tbody tr th {\n",
       "        vertical-align: top;\n",
       "    }\n",
       "\n",
       "    .dataframe thead th {\n",
       "        text-align: right;\n",
       "    }\n",
       "</style>\n",
       "<table border=\"1\" class=\"dataframe\">\n",
       "  <thead>\n",
       "    <tr style=\"text-align: right;\">\n",
       "      <th></th>\n",
       "      <th>national_inv</th>\n",
       "      <th>lead_time</th>\n",
       "      <th>in_transit_qty</th>\n",
       "      <th>forecast_3_month</th>\n",
       "      <th>forecast_6_month</th>\n",
       "      <th>forecast_9_month</th>\n",
       "      <th>sales_1_month</th>\n",
       "      <th>sales_3_month</th>\n",
       "      <th>sales_6_month</th>\n",
       "      <th>sales_9_month</th>\n",
       "      <th>min_bank</th>\n",
       "      <th>pieces_past_due</th>\n",
       "      <th>perf_6_month_avg</th>\n",
       "      <th>perf_12_month_avg</th>\n",
       "      <th>local_bo_qty</th>\n",
       "      <th>potential_issue_Yes</th>\n",
       "      <th>deck_risk_Yes</th>\n",
       "      <th>oe_constraint_Yes</th>\n",
       "      <th>ppap_risk_Yes</th>\n",
       "      <th>stop_auto_buy_Yes</th>\n",
       "      <th>rev_stop_Yes</th>\n",
       "    </tr>\n",
       "  </thead>\n",
       "  <tbody>\n",
       "    <tr>\n",
       "      <th>913582</th>\n",
       "      <td>-0.031994</td>\n",
       "      <td>3.523803</td>\n",
       "      <td>-0.500662</td>\n",
       "      <td>-0.640596</td>\n",
       "      <td>-0.716804</td>\n",
       "      <td>-0.757905</td>\n",
       "      <td>-0.806504</td>\n",
       "      <td>-0.278068</td>\n",
       "      <td>-0.492161</td>\n",
       "      <td>-0.050254</td>\n",
       "      <td>-0.036458</td>\n",
       "      <td>-0.123511</td>\n",
       "      <td>-0.478156</td>\n",
       "      <td>-0.323596</td>\n",
       "      <td>-0.118741</td>\n",
       "      <td>0</td>\n",
       "      <td>1</td>\n",
       "      <td>0</td>\n",
       "      <td>0</td>\n",
       "      <td>0</td>\n",
       "      <td>0</td>\n",
       "    </tr>\n",
       "    <tr>\n",
       "      <th>718498</th>\n",
       "      <td>-0.023202</td>\n",
       "      <td>-1.515064</td>\n",
       "      <td>2.047734</td>\n",
       "      <td>1.690827</td>\n",
       "      <td>1.599085</td>\n",
       "      <td>1.542340</td>\n",
       "      <td>1.566165</td>\n",
       "      <td>1.397553</td>\n",
       "      <td>1.381861</td>\n",
       "      <td>1.330304</td>\n",
       "      <td>-0.023812</td>\n",
       "      <td>-0.123511</td>\n",
       "      <td>0.677181</td>\n",
       "      <td>1.042966</td>\n",
       "      <td>-0.118741</td>\n",
       "      <td>0</td>\n",
       "      <td>0</td>\n",
       "      <td>0</td>\n",
       "      <td>0</td>\n",
       "      <td>1</td>\n",
       "      <td>0</td>\n",
       "    </tr>\n",
       "    <tr>\n",
       "      <th>131098</th>\n",
       "      <td>0.060935</td>\n",
       "      <td>0.308231</td>\n",
       "      <td>2.162200</td>\n",
       "      <td>1.837724</td>\n",
       "      <td>1.739868</td>\n",
       "      <td>1.702493</td>\n",
       "      <td>1.786624</td>\n",
       "      <td>1.726928</td>\n",
       "      <td>1.695786</td>\n",
       "      <td>1.699436</td>\n",
       "      <td>0.171791</td>\n",
       "      <td>-0.123511</td>\n",
       "      <td>1.218494</td>\n",
       "      <td>1.138679</td>\n",
       "      <td>-0.118741</td>\n",
       "      <td>0</td>\n",
       "      <td>0</td>\n",
       "      <td>0</td>\n",
       "      <td>0</td>\n",
       "      <td>1</td>\n",
       "      <td>0</td>\n",
       "    </tr>\n",
       "    <tr>\n",
       "      <th>1144795</th>\n",
       "      <td>-0.020068</td>\n",
       "      <td>0.308231</td>\n",
       "      <td>-0.500662</td>\n",
       "      <td>1.666073</td>\n",
       "      <td>1.587543</td>\n",
       "      <td>1.523137</td>\n",
       "      <td>1.376748</td>\n",
       "      <td>1.301812</td>\n",
       "      <td>1.342159</td>\n",
       "      <td>1.330304</td>\n",
       "      <td>-0.016224</td>\n",
       "      <td>-0.123511</td>\n",
       "      <td>1.029205</td>\n",
       "      <td>1.138679</td>\n",
       "      <td>-0.118741</td>\n",
       "      <td>0</td>\n",
       "      <td>0</td>\n",
       "      <td>0</td>\n",
       "      <td>0</td>\n",
       "      <td>1</td>\n",
       "      <td>0</td>\n",
       "    </tr>\n",
       "    <tr>\n",
       "      <th>19216</th>\n",
       "      <td>-0.025696</td>\n",
       "      <td>-1.515064</td>\n",
       "      <td>-0.500662</td>\n",
       "      <td>1.690827</td>\n",
       "      <td>1.587543</td>\n",
       "      <td>1.539764</td>\n",
       "      <td>1.472366</td>\n",
       "      <td>1.384306</td>\n",
       "      <td>1.367333</td>\n",
       "      <td>1.340782</td>\n",
       "      <td>-0.006949</td>\n",
       "      <td>-0.123511</td>\n",
       "      <td>1.218494</td>\n",
       "      <td>1.337259</td>\n",
       "      <td>-0.118741</td>\n",
       "      <td>0</td>\n",
       "      <td>0</td>\n",
       "      <td>0</td>\n",
       "      <td>0</td>\n",
       "      <td>1</td>\n",
       "      <td>0</td>\n",
       "    </tr>\n",
       "  </tbody>\n",
       "</table>\n",
       "</div>"
      ],
      "text/plain": [
       "         national_inv  lead_time  in_transit_qty  forecast_3_month  \\\n",
       "913582      -0.031994   3.523803       -0.500662         -0.640596   \n",
       "718498      -0.023202  -1.515064        2.047734          1.690827   \n",
       "131098       0.060935   0.308231        2.162200          1.837724   \n",
       "1144795     -0.020068   0.308231       -0.500662          1.666073   \n",
       "19216       -0.025696  -1.515064       -0.500662          1.690827   \n",
       "\n",
       "         forecast_6_month  forecast_9_month  sales_1_month  sales_3_month  \\\n",
       "913582          -0.716804         -0.757905      -0.806504      -0.278068   \n",
       "718498           1.599085          1.542340       1.566165       1.397553   \n",
       "131098           1.739868          1.702493       1.786624       1.726928   \n",
       "1144795          1.587543          1.523137       1.376748       1.301812   \n",
       "19216            1.587543          1.539764       1.472366       1.384306   \n",
       "\n",
       "         sales_6_month  sales_9_month  min_bank  pieces_past_due  \\\n",
       "913582       -0.492161      -0.050254 -0.036458        -0.123511   \n",
       "718498        1.381861       1.330304 -0.023812        -0.123511   \n",
       "131098        1.695786       1.699436  0.171791        -0.123511   \n",
       "1144795       1.342159       1.330304 -0.016224        -0.123511   \n",
       "19216         1.367333       1.340782 -0.006949        -0.123511   \n",
       "\n",
       "         perf_6_month_avg  perf_12_month_avg  local_bo_qty  \\\n",
       "913582          -0.478156          -0.323596     -0.118741   \n",
       "718498           0.677181           1.042966     -0.118741   \n",
       "131098           1.218494           1.138679     -0.118741   \n",
       "1144795          1.029205           1.138679     -0.118741   \n",
       "19216            1.218494           1.337259     -0.118741   \n",
       "\n",
       "         potential_issue_Yes  deck_risk_Yes  oe_constraint_Yes  ppap_risk_Yes  \\\n",
       "913582                     0              1                  0              0   \n",
       "718498                     0              0                  0              0   \n",
       "131098                     0              0                  0              0   \n",
       "1144795                    0              0                  0              0   \n",
       "19216                      0              0                  0              0   \n",
       "\n",
       "         stop_auto_buy_Yes  rev_stop_Yes  \n",
       "913582                   0             0  \n",
       "718498                   1             0  \n",
       "131098                   1             0  \n",
       "1144795                  1             0  \n",
       "19216                    1             0  "
      ]
     },
     "execution_count": 205,
     "metadata": {},
     "output_type": "execute_result"
    }
   ],
   "source": [
    "# checking whether the data is scaled\n",
    "xtrain_ss.head()"
   ]
  },
  {
   "cell_type": "markdown",
   "id": "f66369be",
   "metadata": {},
   "source": [
    "Since we need a scaled x test to feed to the model and get insights we are scaling the x test as well"
   ]
  },
  {
   "cell_type": "code",
   "execution_count": 206,
   "id": "97a3f19e",
   "metadata": {},
   "outputs": [
    {
     "data": {
      "text/html": [
       "<div>\n",
       "<style scoped>\n",
       "    .dataframe tbody tr th:only-of-type {\n",
       "        vertical-align: middle;\n",
       "    }\n",
       "\n",
       "    .dataframe tbody tr th {\n",
       "        vertical-align: top;\n",
       "    }\n",
       "\n",
       "    .dataframe thead th {\n",
       "        text-align: right;\n",
       "    }\n",
       "</style>\n",
       "<table border=\"1\" class=\"dataframe\">\n",
       "  <thead>\n",
       "    <tr style=\"text-align: right;\">\n",
       "      <th></th>\n",
       "      <th>national_inv</th>\n",
       "      <th>lead_time</th>\n",
       "      <th>in_transit_qty</th>\n",
       "      <th>forecast_3_month</th>\n",
       "      <th>forecast_6_month</th>\n",
       "      <th>forecast_9_month</th>\n",
       "      <th>sales_1_month</th>\n",
       "      <th>sales_3_month</th>\n",
       "      <th>sales_6_month</th>\n",
       "      <th>sales_9_month</th>\n",
       "      <th>min_bank</th>\n",
       "      <th>pieces_past_due</th>\n",
       "      <th>perf_6_month_avg</th>\n",
       "      <th>perf_12_month_avg</th>\n",
       "      <th>local_bo_qty</th>\n",
       "      <th>potential_issue_Yes</th>\n",
       "      <th>deck_risk_Yes</th>\n",
       "      <th>oe_constraint_Yes</th>\n",
       "      <th>ppap_risk_Yes</th>\n",
       "      <th>stop_auto_buy_Yes</th>\n",
       "      <th>rev_stop_Yes</th>\n",
       "    </tr>\n",
       "  </thead>\n",
       "  <tbody>\n",
       "    <tr>\n",
       "      <th>851321</th>\n",
       "      <td>-0.051300</td>\n",
       "      <td>0.308545</td>\n",
       "      <td>-0.499134</td>\n",
       "      <td>-0.639122</td>\n",
       "      <td>1.087960</td>\n",
       "      <td>1.135059</td>\n",
       "      <td>1.053247</td>\n",
       "      <td>0.961352</td>\n",
       "      <td>0.827504</td>\n",
       "      <td>1.038485</td>\n",
       "      <td>-0.037079</td>\n",
       "      <td>-0.122913</td>\n",
       "      <td>1.317662</td>\n",
       "      <td>0.436910</td>\n",
       "      <td>-0.117667</td>\n",
       "      <td>0</td>\n",
       "      <td>0</td>\n",
       "      <td>0</td>\n",
       "      <td>1</td>\n",
       "      <td>1</td>\n",
       "      <td>0</td>\n",
       "    </tr>\n",
       "    <tr>\n",
       "      <th>1097401</th>\n",
       "      <td>-0.042207</td>\n",
       "      <td>0.308545</td>\n",
       "      <td>1.176641</td>\n",
       "      <td>1.589103</td>\n",
       "      <td>1.514578</td>\n",
       "      <td>1.484403</td>\n",
       "      <td>1.246585</td>\n",
       "      <td>1.121619</td>\n",
       "      <td>1.106499</td>\n",
       "      <td>1.143361</td>\n",
       "      <td>-0.037792</td>\n",
       "      <td>-0.122913</td>\n",
       "      <td>1.317662</td>\n",
       "      <td>1.441214</td>\n",
       "      <td>-0.117667</td>\n",
       "      <td>0</td>\n",
       "      <td>0</td>\n",
       "      <td>0</td>\n",
       "      <td>0</td>\n",
       "      <td>1</td>\n",
       "      <td>0</td>\n",
       "    </tr>\n",
       "    <tr>\n",
       "      <th>1057956</th>\n",
       "      <td>-0.057925</td>\n",
       "      <td>0.308545</td>\n",
       "      <td>-0.499134</td>\n",
       "      <td>-0.639122</td>\n",
       "      <td>-0.715817</td>\n",
       "      <td>-0.756234</td>\n",
       "      <td>-0.803477</td>\n",
       "      <td>-0.957076</td>\n",
       "      <td>-1.048119</td>\n",
       "      <td>-1.100466</td>\n",
       "      <td>-0.037792</td>\n",
       "      <td>-0.122913</td>\n",
       "      <td>0.071704</td>\n",
       "      <td>-0.004065</td>\n",
       "      <td>-0.117667</td>\n",
       "      <td>0</td>\n",
       "      <td>1</td>\n",
       "      <td>0</td>\n",
       "      <td>1</td>\n",
       "      <td>0</td>\n",
       "      <td>0</td>\n",
       "    </tr>\n",
       "    <tr>\n",
       "      <th>25479</th>\n",
       "      <td>-0.062154</td>\n",
       "      <td>-0.683196</td>\n",
       "      <td>-0.499134</td>\n",
       "      <td>1.309186</td>\n",
       "      <td>1.008216</td>\n",
       "      <td>0.831430</td>\n",
       "      <td>-0.803477</td>\n",
       "      <td>-0.957076</td>\n",
       "      <td>-1.048119</td>\n",
       "      <td>-1.100466</td>\n",
       "      <td>-0.038505</td>\n",
       "      <td>-0.122913</td>\n",
       "      <td>-1.919959</td>\n",
       "      <td>-2.023563</td>\n",
       "      <td>-0.117667</td>\n",
       "      <td>0</td>\n",
       "      <td>1</td>\n",
       "      <td>0</td>\n",
       "      <td>1</td>\n",
       "      <td>1</td>\n",
       "      <td>0</td>\n",
       "    </tr>\n",
       "    <tr>\n",
       "      <th>180284</th>\n",
       "      <td>-0.062154</td>\n",
       "      <td>0.308545</td>\n",
       "      <td>-0.499134</td>\n",
       "      <td>-0.639122</td>\n",
       "      <td>-0.715817</td>\n",
       "      <td>-0.756234</td>\n",
       "      <td>-0.803477</td>\n",
       "      <td>-0.957076</td>\n",
       "      <td>-1.048119</td>\n",
       "      <td>-1.100466</td>\n",
       "      <td>-0.038505</td>\n",
       "      <td>-0.122913</td>\n",
       "      <td>0.071704</td>\n",
       "      <td>-0.004065</td>\n",
       "      <td>-0.117667</td>\n",
       "      <td>0</td>\n",
       "      <td>0</td>\n",
       "      <td>0</td>\n",
       "      <td>0</td>\n",
       "      <td>1</td>\n",
       "      <td>0</td>\n",
       "    </tr>\n",
       "  </tbody>\n",
       "</table>\n",
       "</div>"
      ],
      "text/plain": [
       "         national_inv  lead_time  in_transit_qty  forecast_3_month  \\\n",
       "851321      -0.051300   0.308545       -0.499134         -0.639122   \n",
       "1097401     -0.042207   0.308545        1.176641          1.589103   \n",
       "1057956     -0.057925   0.308545       -0.499134         -0.639122   \n",
       "25479       -0.062154  -0.683196       -0.499134          1.309186   \n",
       "180284      -0.062154   0.308545       -0.499134         -0.639122   \n",
       "\n",
       "         forecast_6_month  forecast_9_month  sales_1_month  sales_3_month  \\\n",
       "851321           1.087960          1.135059       1.053247       0.961352   \n",
       "1097401          1.514578          1.484403       1.246585       1.121619   \n",
       "1057956         -0.715817         -0.756234      -0.803477      -0.957076   \n",
       "25479            1.008216          0.831430      -0.803477      -0.957076   \n",
       "180284          -0.715817         -0.756234      -0.803477      -0.957076   \n",
       "\n",
       "         sales_6_month  sales_9_month  min_bank  pieces_past_due  \\\n",
       "851321        0.827504       1.038485 -0.037079        -0.122913   \n",
       "1097401       1.106499       1.143361 -0.037792        -0.122913   \n",
       "1057956      -1.048119      -1.100466 -0.037792        -0.122913   \n",
       "25479        -1.048119      -1.100466 -0.038505        -0.122913   \n",
       "180284       -1.048119      -1.100466 -0.038505        -0.122913   \n",
       "\n",
       "         perf_6_month_avg  perf_12_month_avg  local_bo_qty  \\\n",
       "851321           1.317662           0.436910     -0.117667   \n",
       "1097401          1.317662           1.441214     -0.117667   \n",
       "1057956          0.071704          -0.004065     -0.117667   \n",
       "25479           -1.919959          -2.023563     -0.117667   \n",
       "180284           0.071704          -0.004065     -0.117667   \n",
       "\n",
       "         potential_issue_Yes  deck_risk_Yes  oe_constraint_Yes  ppap_risk_Yes  \\\n",
       "851321                     0              0                  0              1   \n",
       "1097401                    0              0                  0              0   \n",
       "1057956                    0              1                  0              1   \n",
       "25479                      0              1                  0              1   \n",
       "180284                     0              0                  0              0   \n",
       "\n",
       "         stop_auto_buy_Yes  rev_stop_Yes  \n",
       "851321                   1             0  \n",
       "1097401                  1             0  \n",
       "1057956                  0             0  \n",
       "25479                    1             0  \n",
       "180284                   1             0  "
      ]
     },
     "execution_count": 206,
     "metadata": {},
     "output_type": "execute_result"
    }
   ],
   "source": [
    "xtest_ss.iloc[:,:15] = ss.fit_transform(xtest_ss.iloc[:,:15])\n",
    "xtest_ss.head()"
   ]
  },
  {
   "cell_type": "markdown",
   "id": "2d95f4bf",
   "metadata": {},
   "source": [
    "# SMOTE"
   ]
  },
  {
   "cell_type": "code",
   "execution_count": 207,
   "id": "52c0d6c5",
   "metadata": {},
   "outputs": [],
   "source": [
    "from imblearn.over_sampling import SMOTE"
   ]
  },
  {
   "cell_type": "markdown",
   "id": "e2dc4ff7",
   "metadata": {},
   "source": [
    "Since we have a imbalanced target vairable we are smoting the dataset. In order to make the class labels equal in number. \n",
    "Smoting create synthetic data for the minority class"
   ]
  },
  {
   "cell_type": "code",
   "execution_count": 208,
   "id": "b6bb1ba9",
   "metadata": {},
   "outputs": [],
   "source": [
    "# we are assigning smote function to a variable smo and giving it a random state as 78\n",
    "smo = SMOTE(random_state=78)"
   ]
  },
  {
   "cell_type": "code",
   "execution_count": 209,
   "id": "100cbd3b",
   "metadata": {},
   "outputs": [],
   "source": [
    "# we are now feeding the xtrain and ytrain to the smote, it will now create synthetic data and make the two classes equal\n",
    "xtrain_sm,ytrain_sm = smo.fit_resample(xtrain_ss,ytrain)"
   ]
  },
  {
   "cell_type": "code",
   "execution_count": 210,
   "id": "375a9b59",
   "metadata": {},
   "outputs": [
    {
     "data": {
      "text/plain": [
       "<AxesSubplot:xlabel='went_on_backorder_Yes', ylabel='count'>"
      ]
     },
     "execution_count": 210,
     "metadata": {},
     "output_type": "execute_result"
    },
    {
     "data": {
      "image/png": "[encoded data removed]",
      "text/plain": [
       "<Figure size 432x288 with 1 Axes>"
      ]
     },
     "metadata": {
      "needs_background": "light"
     },
     "output_type": "display_data"
    }
   ],
   "source": [
    "# we are checking the smoted target varaible distribution\n",
    "sns.countplot(ytrain_sm)"
   ]
  },
  {
   "cell_type": "code",
   "execution_count": 211,
   "id": "82991058",
   "metadata": {},
   "outputs": [],
   "source": [
    "xtrain_sm_copy = xtrain_sm.copy()"
   ]
  },
  {
   "cell_type": "code",
   "execution_count": 212,
   "id": "3f0d6607",
   "metadata": {},
   "outputs": [
    {
     "data": {
      "text/html": [
       "<div>\n",
       "<style scoped>\n",
       "    .dataframe tbody tr th:only-of-type {\n",
       "        vertical-align: middle;\n",
       "    }\n",
       "\n",
       "    .dataframe tbody tr th {\n",
       "        vertical-align: top;\n",
       "    }\n",
       "\n",
       "    .dataframe thead th {\n",
       "        text-align: right;\n",
       "    }\n",
       "</style>\n",
       "<table border=\"1\" class=\"dataframe\">\n",
       "  <thead>\n",
       "    <tr style=\"text-align: right;\">\n",
       "      <th></th>\n",
       "      <th>national_inv</th>\n",
       "      <th>lead_time</th>\n",
       "      <th>in_transit_qty</th>\n",
       "      <th>forecast_3_month</th>\n",
       "      <th>forecast_6_month</th>\n",
       "      <th>forecast_9_month</th>\n",
       "      <th>sales_1_month</th>\n",
       "      <th>sales_3_month</th>\n",
       "      <th>sales_6_month</th>\n",
       "      <th>sales_9_month</th>\n",
       "      <th>min_bank</th>\n",
       "      <th>pieces_past_due</th>\n",
       "      <th>perf_6_month_avg</th>\n",
       "      <th>perf_12_month_avg</th>\n",
       "      <th>local_bo_qty</th>\n",
       "      <th>potential_issue_Yes</th>\n",
       "      <th>deck_risk_Yes</th>\n",
       "      <th>oe_constraint_Yes</th>\n",
       "      <th>ppap_risk_Yes</th>\n",
       "      <th>stop_auto_buy_Yes</th>\n",
       "      <th>rev_stop_Yes</th>\n",
       "    </tr>\n",
       "  </thead>\n",
       "  <tbody>\n",
       "    <tr>\n",
       "      <th>0</th>\n",
       "      <td>0.009569</td>\n",
       "      <td>3.655638</td>\n",
       "      <td>-0.440066</td>\n",
       "      <td>-1.125848</td>\n",
       "      <td>-1.217901</td>\n",
       "      <td>-1.260191</td>\n",
       "      <td>-1.067195</td>\n",
       "      <td>-0.551558</td>\n",
       "      <td>-0.764274</td>\n",
       "      <td>-0.276963</td>\n",
       "      <td>-0.032908</td>\n",
       "      <td>-0.242447</td>\n",
       "      <td>-0.322321</td>\n",
       "      <td>-0.177134</td>\n",
       "      <td>-0.274384</td>\n",
       "      <td>0</td>\n",
       "      <td>1</td>\n",
       "      <td>0</td>\n",
       "      <td>0</td>\n",
       "      <td>0</td>\n",
       "      <td>0</td>\n",
       "    </tr>\n",
       "    <tr>\n",
       "      <th>1</th>\n",
       "      <td>0.021024</td>\n",
       "      <td>-1.363834</td>\n",
       "      <td>2.383030</td>\n",
       "      <td>1.050456</td>\n",
       "      <td>1.074698</td>\n",
       "      <td>1.075457</td>\n",
       "      <td>1.326857</td>\n",
       "      <td>1.207089</td>\n",
       "      <td>1.238656</td>\n",
       "      <td>1.206668</td>\n",
       "      <td>-0.015157</td>\n",
       "      <td>-0.242447</td>\n",
       "      <td>0.770348</td>\n",
       "      <td>1.109066</td>\n",
       "      <td>-0.274384</td>\n",
       "      <td>0</td>\n",
       "      <td>0</td>\n",
       "      <td>0</td>\n",
       "      <td>0</td>\n",
       "      <td>1</td>\n",
       "      <td>0</td>\n",
       "    </tr>\n",
       "    <tr>\n",
       "      <th>2</th>\n",
       "      <td>0.130646</td>\n",
       "      <td>0.452443</td>\n",
       "      <td>2.509834</td>\n",
       "      <td>1.187580</td>\n",
       "      <td>1.214065</td>\n",
       "      <td>1.238075</td>\n",
       "      <td>1.549304</td>\n",
       "      <td>1.552784</td>\n",
       "      <td>1.574175</td>\n",
       "      <td>1.603360</td>\n",
       "      <td>0.259399</td>\n",
       "      <td>-0.242447</td>\n",
       "      <td>1.282299</td>\n",
       "      <td>1.199150</td>\n",
       "      <td>-0.274384</td>\n",
       "      <td>0</td>\n",
       "      <td>0</td>\n",
       "      <td>0</td>\n",
       "      <td>0</td>\n",
       "      <td>1</td>\n",
       "      <td>0</td>\n",
       "    </tr>\n",
       "    <tr>\n",
       "      <th>3</th>\n",
       "      <td>0.025107</td>\n",
       "      <td>0.452443</td>\n",
       "      <td>-0.440066</td>\n",
       "      <td>1.027349</td>\n",
       "      <td>1.063272</td>\n",
       "      <td>1.055959</td>\n",
       "      <td>1.135734</td>\n",
       "      <td>1.106604</td>\n",
       "      <td>1.196223</td>\n",
       "      <td>1.206668</td>\n",
       "      <td>-0.004506</td>\n",
       "      <td>-0.242447</td>\n",
       "      <td>1.103277</td>\n",
       "      <td>1.199150</td>\n",
       "      <td>-0.274384</td>\n",
       "      <td>0</td>\n",
       "      <td>0</td>\n",
       "      <td>0</td>\n",
       "      <td>0</td>\n",
       "      <td>1</td>\n",
       "      <td>0</td>\n",
       "    </tr>\n",
       "    <tr>\n",
       "      <th>4</th>\n",
       "      <td>0.017775</td>\n",
       "      <td>-1.363834</td>\n",
       "      <td>-0.440066</td>\n",
       "      <td>1.050456</td>\n",
       "      <td>1.063272</td>\n",
       "      <td>1.072841</td>\n",
       "      <td>1.232214</td>\n",
       "      <td>1.193186</td>\n",
       "      <td>1.223129</td>\n",
       "      <td>1.217929</td>\n",
       "      <td>0.008512</td>\n",
       "      <td>-0.242447</td>\n",
       "      <td>1.282299</td>\n",
       "      <td>1.386052</td>\n",
       "      <td>-0.274384</td>\n",
       "      <td>0</td>\n",
       "      <td>0</td>\n",
       "      <td>0</td>\n",
       "      <td>0</td>\n",
       "      <td>1</td>\n",
       "      <td>0</td>\n",
       "    </tr>\n",
       "  </tbody>\n",
       "</table>\n",
       "</div>"
      ],
      "text/plain": [
       "   national_inv  lead_time  in_transit_qty  forecast_3_month  \\\n",
       "0      0.009569   3.655638       -0.440066         -1.125848   \n",
       "1      0.021024  -1.363834        2.383030          1.050456   \n",
       "2      0.130646   0.452443        2.509834          1.187580   \n",
       "3      0.025107   0.452443       -0.440066          1.027349   \n",
       "4      0.017775  -1.363834       -0.440066          1.050456   \n",
       "\n",
       "   forecast_6_month  forecast_9_month  sales_1_month  sales_3_month  \\\n",
       "0         -1.217901         -1.260191      -1.067195      -0.551558   \n",
       "1          1.074698          1.075457       1.326857       1.207089   \n",
       "2          1.214065          1.238075       1.549304       1.552784   \n",
       "3          1.063272          1.055959       1.135734       1.106604   \n",
       "4          1.063272          1.072841       1.232214       1.193186   \n",
       "\n",
       "   sales_6_month  sales_9_month  min_bank  pieces_past_due  perf_6_month_avg  \\\n",
       "0      -0.764274      -0.276963 -0.032908        -0.242447         -0.322321   \n",
       "1       1.238656       1.206668 -0.015157        -0.242447          0.770348   \n",
       "2       1.574175       1.603360  0.259399        -0.242447          1.282299   \n",
       "3       1.196223       1.206668 -0.004506        -0.242447          1.103277   \n",
       "4       1.223129       1.217929  0.008512        -0.242447          1.282299   \n",
       "\n",
       "   perf_12_month_avg  local_bo_qty  potential_issue_Yes  deck_risk_Yes  \\\n",
       "0          -0.177134     -0.274384                    0              1   \n",
       "1           1.109066     -0.274384                    0              0   \n",
       "2           1.199150     -0.274384                    0              0   \n",
       "3           1.199150     -0.274384                    0              0   \n",
       "4           1.386052     -0.274384                    0              0   \n",
       "\n",
       "   oe_constraint_Yes  ppap_risk_Yes  stop_auto_buy_Yes  rev_stop_Yes  \n",
       "0                  0              0                  0             0  \n",
       "1                  0              0                  1             0  \n",
       "2                  0              0                  1             0  \n",
       "3                  0              0                  1             0  \n",
       "4                  0              0                  1             0  "
      ]
     },
     "execution_count": 212,
     "metadata": {},
     "output_type": "execute_result"
    }
   ],
   "source": [
    "xtrain_sm.iloc[:,:15] = ss.fit_transform(xtrain_sm.iloc[:,:15])\n",
    "xtrain_sm.head()"
   ]
  },
  {
   "cell_type": "markdown",
   "id": "12bc51a4",
   "metadata": {},
   "source": [
    "# Model building"
   ]
  },
  {
   "cell_type": "markdown",
   "id": "9a5e9459",
   "metadata": {},
   "source": [
    "Building a logistic regression model using both normal and smoted dataset"
   ]
  },
  {
   "cell_type": "markdown",
   "id": "143f68ed",
   "metadata": {},
   "source": [
    "# Logistic Regression"
   ]
  },
  {
   "cell_type": "code",
   "execution_count": 213,
   "id": "16ad5cfb",
   "metadata": {},
   "outputs": [],
   "source": [
    "from sklearn.linear_model import LogisticRegression"
   ]
  },
  {
   "cell_type": "code",
   "execution_count": 214,
   "id": "9dc3d0a1",
   "metadata": {},
   "outputs": [],
   "source": [
    "import statsmodels.api as sm"
   ]
  },
  {
   "cell_type": "markdown",
   "id": "0917b2b2",
   "metadata": {},
   "source": [
    "model using normal dataset"
   ]
  },
  {
   "cell_type": "code",
   "execution_count": 215,
   "id": "d8aa0488",
   "metadata": {},
   "outputs": [
    {
     "name": "stdout",
     "output_type": "stream",
     "text": [
      "Warning: Maximum number of iterations has been exceeded.\n",
      "         Current function value: inf\n",
      "         Iterations: 35\n",
      "                             Logit Regression Results                            \n",
      "=================================================================================\n",
      "Dep. Variable:     went_on_backorder_Yes   No. Observations:              1181502\n",
      "Model:                             Logit   Df Residuals:                  1181480\n",
      "Method:                              MLE   Df Model:                           21\n",
      "Date:                   Fri, 29 Jul 2022   Pseudo R-squ.:                     inf\n",
      "Time:                           20:42:32   Log-Likelihood:                   -inf\n",
      "converged:                         False   LL-Null:                        0.0000\n",
      "Covariance Type:               nonrobust   LLR p-value:                     1.000\n",
      "=======================================================================================\n",
      "                          coef    std err          z      P>|z|      [0.025      0.975]\n",
      "---------------------------------------------------------------------------------------\n",
      "const                  -5.7430      0.064    -90.176      0.000      -5.868      -5.618\n",
      "national_inv           -0.0077      0.004     -1.880      0.060      -0.016       0.000\n",
      "lead_time              -0.1677      0.012    -14.146      0.000      -0.191      -0.144\n",
      "in_transit_qty         -0.9017      0.016    -57.614      0.000      -0.932      -0.871\n",
      "forecast_3_month        0.8181      0.037     22.331      0.000       0.746       0.890\n",
      "forecast_6_month        0.4658      0.094      4.981      0.000       0.283       0.649\n",
      "forecast_9_month       -0.0564      0.086     -0.652      0.514      -0.226       0.113\n",
      "sales_1_month           0.1615      0.031      5.190      0.000       0.100       0.222\n",
      "sales_3_month           0.5853      0.080      7.307      0.000       0.428       0.742\n",
      "sales_6_month           0.2150      0.147      1.458      0.145      -0.074       0.504\n",
      "sales_9_month          -0.8371      0.124     -6.775      0.000      -1.079      -0.595\n",
      "min_bank               -1.9891      0.193    -10.283      0.000      -2.368      -1.610\n",
      "pieces_past_due         0.0992      0.005     19.111      0.000       0.089       0.109\n",
      "perf_6_month_avg       -0.0967      0.029     -3.301      0.001      -0.154      -0.039\n",
      "perf_12_month_avg      -0.1088      0.029     -3.730      0.000      -0.166      -0.052\n",
      "local_bo_qty            0.1939      0.005     41.625      0.000       0.185       0.203\n",
      "potential_issue_Yes     0.4896      0.191      2.565      0.010       0.115       0.864\n",
      "deck_risk_Yes          -0.4339      0.034    -12.588      0.000      -0.502      -0.366\n",
      "oe_constraint_Yes      -0.1598      0.536     -0.298      0.765      -1.210       0.890\n",
      "ppap_risk_Yes           0.2094      0.032      6.530      0.000       0.147       0.272\n",
      "stop_auto_buy_Yes      -0.1582      0.061     -2.584      0.010      -0.278      -0.038\n",
      "rev_stop_Yes          -15.1306   1160.517     -0.013      0.990   -2289.703    2259.442\n",
      "=======================================================================================\n"
     ]
    }
   ],
   "source": [
    "# build the model on train data (X_train and y_train)\n",
    "# use fit() to fit the logistic regression model\n",
    "X_c = sm.add_constant(xtrain_ss)\n",
    "logreg = sm.Logit(ytrain, X_c).fit()\n",
    "\n",
    "# print the summary of the model\n",
    "print(logreg.summary())"
   ]
  },
  {
   "cell_type": "markdown",
   "id": "5e0207d7",
   "metadata": {},
   "source": [
    "Model using Smoted dataset"
   ]
  },
  {
   "cell_type": "code",
   "execution_count": 216,
   "id": "cc0c6525",
   "metadata": {},
   "outputs": [
    {
     "name": "stdout",
     "output_type": "stream",
     "text": [
      "Warning: Maximum number of iterations has been exceeded.\n",
      "         Current function value: inf\n",
      "         Iterations: 35\n",
      "                             Logit Regression Results                            \n",
      "=================================================================================\n",
      "Dep. Variable:     went_on_backorder_Yes   No. Observations:              2347100\n",
      "Model:                             Logit   Df Residuals:                  2347078\n",
      "Method:                              MLE   Df Model:                           21\n",
      "Date:                   Fri, 29 Jul 2022   Pseudo R-squ.:                     inf\n",
      "Time:                           20:43:22   Log-Likelihood:                   -inf\n",
      "converged:                         False   LL-Null:                        0.0000\n",
      "Covariance Type:               nonrobust   LLR p-value:                     1.000\n",
      "=======================================================================================\n",
      "                          coef    std err          z      P>|z|      [0.025      0.975]\n",
      "---------------------------------------------------------------------------------------\n",
      "const                   0.8852      0.010     88.479      0.000       0.866       0.905\n",
      "national_inv          -11.7897      0.056   -211.792      0.000     -11.899     -11.681\n",
      "lead_time              -0.3275      0.002   -169.957      0.000      -0.331      -0.324\n",
      "in_transit_qty         -0.8215      0.002   -372.177      0.000      -0.826      -0.817\n",
      "forecast_3_month        0.8194      0.004    183.816      0.000       0.811       0.828\n",
      "forecast_6_month        0.4403      0.010     46.217      0.000       0.422       0.459\n",
      "forecast_9_month        0.0433      0.009      4.988      0.000       0.026       0.060\n",
      "sales_1_month           0.2233      0.005     48.917      0.000       0.214       0.232\n",
      "sales_3_month           0.3871      0.009     41.493      0.000       0.369       0.405\n",
      "sales_6_month           0.4782      0.016     29.378      0.000       0.446       0.510\n",
      "sales_9_month          -0.6858      0.014    -50.296      0.000      -0.712      -0.659\n",
      "min_bank               -0.0028      0.012     -0.240      0.810      -0.026       0.020\n",
      "pieces_past_due         0.2058      0.002     88.535      0.000       0.201       0.210\n",
      "perf_6_month_avg       -0.0755      0.005    -14.072      0.000      -0.086      -0.065\n",
      "perf_12_month_avg      -0.1003      0.005    -18.719      0.000      -0.111      -0.090\n",
      "local_bo_qty            0.3342      0.003    119.738      0.000       0.329       0.340\n",
      "potential_issue_Yes    -1.6828      0.069    -24.336      0.000      -1.818      -1.547\n",
      "deck_risk_Yes          -0.5465      0.005   -107.232      0.000      -0.556      -0.537\n",
      "oe_constraint_Yes      -1.5931      0.150    -10.653      0.000      -1.886      -1.300\n",
      "ppap_risk_Yes           0.0074      0.005      1.396      0.163      -0.003       0.018\n",
      "stop_auto_buy_Yes      -0.9140      0.010    -92.014      0.000      -0.933      -0.895\n",
      "rev_stop_Yes          -25.0582      1e+04     -0.003      0.998   -1.97e+04    1.96e+04\n",
      "=======================================================================================\n"
     ]
    }
   ],
   "source": [
    "# build the model on train data (X_train and y_train)\n",
    "# use fit() to fit the logistic regression model\n",
    "X_sm = sm.add_constant(xtrain_sm)\n",
    "logreg_sm = sm.Logit(ytrain_sm, X_sm).fit()\n",
    "\n",
    "# print the summary of the model\n",
    "print(logreg_sm.summary())"
   ]
  },
  {
   "cell_type": "code",
   "execution_count": 217,
   "id": "fa6be951",
   "metadata": {},
   "outputs": [],
   "source": [
    "# we are adding the constant to x test to predict the target variable\n",
    "xt_c = sm.add_constant(xtest_ss)"
   ]
  },
  {
   "cell_type": "code",
   "execution_count": 218,
   "id": "88e44d5a",
   "metadata": {},
   "outputs": [],
   "source": [
    "# we are predicting the y for both the models, the one with smote and also the normal one\n",
    "ypred1 = logreg.predict(xt_c)\n",
    "ypred_sm1 = logreg_sm.predict(xt_c)"
   ]
  },
  {
   "cell_type": "code",
   "execution_count": 219,
   "id": "bc16986b",
   "metadata": {},
   "outputs": [],
   "source": [
    "# Logitic regression in statsmodels library gives probolity as prediction we have to use a thresold value to find the classes.\n",
    "#here we are using the default value ie 0.5\n",
    "ypred1 = [1 if i >0.5 else 0 for i in ypred1]\n",
    "ypred_sm1 = [1 if i >0.5 else 0 for i in ypred_sm1]"
   ]
  },
  {
   "cell_type": "code",
   "execution_count": 220,
   "id": "d362aa2b",
   "metadata": {},
   "outputs": [
    {
     "name": "stdout",
     "output_type": "stream",
     "text": [
      "              precision    recall  f1-score   support\n",
      "\n",
      "           0       1.00      0.99      1.00    506345\n",
      "           1       0.00      0.54      0.00        13\n",
      "\n",
      "    accuracy                           0.99    506358\n",
      "   macro avg       0.50      0.77      0.50    506358\n",
      "weighted avg       1.00      0.99      1.00    506358\n",
      "\n"
     ]
    }
   ],
   "source": [
    "# we are printing the classification report for the y predicted from the normal model and y test \n",
    "print(classification_report(ypred1,ytest))"
   ]
  },
  {
   "cell_type": "code",
   "execution_count": 221,
   "id": "76e955f1",
   "metadata": {},
   "outputs": [
    {
     "name": "stdout",
     "output_type": "stream",
     "text": [
      "              precision    recall  f1-score   support\n",
      "\n",
      "           0       0.57      1.00      0.72    285238\n",
      "           1       0.96      0.01      0.03    221120\n",
      "\n",
      "    accuracy                           0.57    506358\n",
      "   macro avg       0.76      0.51      0.38    506358\n",
      "weighted avg       0.74      0.57      0.42    506358\n",
      "\n"
     ]
    }
   ],
   "source": [
    "# we are printing the classification report for the y predicted from the smoted model and y test \n",
    "print(classification_report(ypred_sm1,ytest))"
   ]
  },
  {
   "cell_type": "code",
   "execution_count": 222,
   "id": "24e318c0",
   "metadata": {},
   "outputs": [
    {
     "data": {
      "text/plain": [
       "array([[503011,   3334],\n",
       "       [     6,      7]], dtype=int64)"
      ]
     },
     "execution_count": 222,
     "metadata": {},
     "output_type": "execute_result"
    }
   ],
   "source": [
    "# we are printing the confusion matrix for the y predicted from the normal model and y test \n",
    "confusion_matrix(ypred1,ytest)"
   ]
  },
  {
   "cell_type": "code",
   "execution_count": 223,
   "id": "51c99d2d",
   "metadata": {},
   "outputs": [
    {
     "data": {
      "text/plain": [
       "array([[285089,    149],\n",
       "       [217928,   3192]], dtype=int64)"
      ]
     },
     "execution_count": 223,
     "metadata": {},
     "output_type": "execute_result"
    }
   ],
   "source": [
    "# we are printing the confusion matrix for the y predicted from the smoted model and y test \n",
    "confusion_matrix(ypred_sm1,ytest)"
   ]
  },
  {
   "cell_type": "code",
   "execution_count": 224,
   "id": "ee1f09d6",
   "metadata": {},
   "outputs": [
    {
     "data": {
      "image/png": "[encoded data removed]",
      "text/plain": [
       "<Figure size 432x288 with 1 Axes>"
      ]
     },
     "metadata": {
      "needs_background": "light"
     },
     "output_type": "display_data"
    }
   ],
   "source": [
    "# here we are plottinig the false positivity rate and true positivity rate for the normal model\n",
    "fpr_lr,tpr_lr,throshold_lr = roc_curve(ypred1,ytest)\n",
    "plt.plot(fpr_lr,tpr_lr)\n",
    "plt.plot([0,1],[0,1],\"r--\")\n",
    "plt.text(x = 0.1,y = 0.8,s = (\"Roc Score\",round(roc_auc_score(ypred1,ytest),2)))\n",
    "plt.grid()"
   ]
  },
  {
   "cell_type": "code",
   "execution_count": 225,
   "id": "254e4d61",
   "metadata": {},
   "outputs": [
    {
     "data": {
      "image/png": "[encoded data removed]",
      "text/plain": [
       "<Figure size 432x288 with 1 Axes>"
      ]
     },
     "metadata": {
      "needs_background": "light"
     },
     "output_type": "display_data"
    }
   ],
   "source": [
    "# here we are plottinig the false positivity rate and true positivity rate for the smoted model\n",
    "fpr_lr,tpr_lr,throshold_lr = roc_curve(ypred_sm1,ytest)\n",
    "plt.plot(fpr_lr,tpr_lr)\n",
    "plt.plot([0,1],[0,1],\"r--\")\n",
    "plt.text(x = 0.1,y = 0.8,s = (\"Roc Score\",round(roc_auc_score(ypred_sm1,ytest),2)))\n",
    "plt.grid()"
   ]
  },
  {
   "cell_type": "code",
   "execution_count": 226,
   "id": "bedf8add",
   "metadata": {},
   "outputs": [],
   "source": [
    "# Here we are defining a function which helps us to compare the metrics of the various models that we are going to build\n",
    "# we are creating a dataframe named df_scores and assigining the metrics as columns in the dataframe\n",
    "df_scores = pd.DataFrame(columns=['Model Name', 'AUC Score', 'Precision Score', 'Recall Score',\n",
    "                                       'Accuracy Score', 'Kappa Score', 'f1-score'])\n",
    "#we are giving two inputs to the function ie the model variable name and the model name that should be displayed\n",
    "# we are also giving an if condition that works only for Logistic regression models , where they tend to give only probability values\n",
    "# we are using the default threshold and predicting the classes in that case\n",
    "def update_score_card(model,modelname):\n",
    "    if  \"Log\" in modelname :\n",
    "        x_c = sm.add_constant(xtest_ss)\n",
    "        y_pred = model.predict(x_c)\n",
    "        y_pred = [1 if i >0.5 else 0 for i in y_pred]\n",
    "    else:\n",
    "        y_pred = model.predict(xtest)\n",
    "    global df_scores\n",
    "    df_scores = df_scores.append({'Model Name': modelname,\n",
    "                                    'AUC Score' : roc_auc_score(y_pred,ytest),\n",
    "                                    'Precision Score': precision_score(y_pred,ytest),\n",
    "                                    'Recall Score': recall_score(y_pred,ytest),\n",
    "                                    'Accuracy Score': accuracy_score(y_pred,ytest),\n",
    "                                    'Kappa Score':cohen_kappa_score(y_pred,ytest),\n",
    "                                    'f1-score': f1_score(y_pred,ytest),\n",
    "                                    'False Negatives': (confusion_matrix(y_pred,ytest)[1,0])}, \n",
    "                                    ignore_index = True)"
   ]
  },
  {
   "cell_type": "code",
   "execution_count": 227,
   "id": "ce7d3b2e",
   "metadata": {},
   "outputs": [],
   "source": [
    "# we are using the function built above for the models that we built.\n",
    "update_score_card(logreg,\"Logistic regression\")\n",
    "update_score_card(logreg_sm,\"Logistic Regression Smoted\")"
   ]
  },
  {
   "cell_type": "code",
   "execution_count": 228,
   "id": "d9c05b3d",
   "metadata": {},
   "outputs": [
    {
     "data": {
      "text/html": [
       "<div>\n",
       "<style scoped>\n",
       "    .dataframe tbody tr th:only-of-type {\n",
       "        vertical-align: middle;\n",
       "    }\n",
       "\n",
       "    .dataframe tbody tr th {\n",
       "        vertical-align: top;\n",
       "    }\n",
       "\n",
       "    .dataframe thead th {\n",
       "        text-align: right;\n",
       "    }\n",
       "</style>\n",
       "<table border=\"1\" class=\"dataframe\">\n",
       "  <thead>\n",
       "    <tr style=\"text-align: right;\">\n",
       "      <th></th>\n",
       "      <th>Model Name</th>\n",
       "      <th>AUC Score</th>\n",
       "      <th>Precision Score</th>\n",
       "      <th>Recall Score</th>\n",
       "      <th>Accuracy Score</th>\n",
       "      <th>Kappa Score</th>\n",
       "      <th>f1-score</th>\n",
       "      <th>False Negatives</th>\n",
       "    </tr>\n",
       "  </thead>\n",
       "  <tbody>\n",
       "    <tr>\n",
       "      <th>0</th>\n",
       "      <td>Logistic regression</td>\n",
       "      <td>0.765939</td>\n",
       "      <td>0.002095</td>\n",
       "      <td>0.538462</td>\n",
       "      <td>0.993404</td>\n",
       "      <td>0.004123</td>\n",
       "      <td>0.004174</td>\n",
       "      <td>6.0</td>\n",
       "    </tr>\n",
       "    <tr>\n",
       "      <th>1</th>\n",
       "      <td>Logistic Regression Smoted</td>\n",
       "      <td>0.506957</td>\n",
       "      <td>0.955403</td>\n",
       "      <td>0.014436</td>\n",
       "      <td>0.569322</td>\n",
       "      <td>0.015645</td>\n",
       "      <td>0.028441</td>\n",
       "      <td>217928.0</td>\n",
       "    </tr>\n",
       "  </tbody>\n",
       "</table>\n",
       "</div>"
      ],
      "text/plain": [
       "                   Model Name AUC Score Precision Score Recall Score  \\\n",
       "0         Logistic regression  0.765939        0.002095     0.538462   \n",
       "1  Logistic Regression Smoted  0.506957        0.955403     0.014436   \n",
       "\n",
       "  Accuracy Score Kappa Score  f1-score  False Negatives  \n",
       "0       0.993404    0.004123  0.004174              6.0  \n",
       "1       0.569322    0.015645  0.028441         217928.0  "
      ]
     },
     "execution_count": 228,
     "metadata": {},
     "output_type": "execute_result"
    }
   ],
   "source": [
    "# we are displying the updated scores\n",
    "df_scores"
   ]
  },
  {
   "cell_type": "code",
   "execution_count": null,
   "id": "5508be02",
   "metadata": {},
   "outputs": [],
   "source": []
  },
  {
   "cell_type": "markdown",
   "id": "0fd98754",
   "metadata": {},
   "source": [
    "# Checking for multicollinearity using VIF and Treating it "
   ]
  },
  {
   "cell_type": "code",
   "execution_count": 229,
   "id": "6e25a7d6",
   "metadata": {},
   "outputs": [],
   "source": [
    "# Since there are multiple columns having high correlation among themselved it leads to multicollinearity. \n",
    "#Hence we are dealing the multicollinearity by finding them using VIF\n",
    "# and dropping the columns"
   ]
  },
  {
   "cell_type": "code",
   "execution_count": 230,
   "id": "431ba303",
   "metadata": {},
   "outputs": [
    {
     "data": {
      "text/html": [
       "<div>\n",
       "<style scoped>\n",
       "    .dataframe tbody tr th:only-of-type {\n",
       "        vertical-align: middle;\n",
       "    }\n",
       "\n",
       "    .dataframe tbody tr th {\n",
       "        vertical-align: top;\n",
       "    }\n",
       "\n",
       "    .dataframe thead th {\n",
       "        text-align: right;\n",
       "    }\n",
       "</style>\n",
       "<table border=\"1\" class=\"dataframe\">\n",
       "  <thead>\n",
       "    <tr style=\"text-align: right;\">\n",
       "      <th></th>\n",
       "      <th>Vif_values</th>\n",
       "    </tr>\n",
       "  </thead>\n",
       "  <tbody>\n",
       "    <tr>\n",
       "      <th>sales_6_month</th>\n",
       "      <td>54.034334</td>\n",
       "    </tr>\n",
       "    <tr>\n",
       "      <th>sales_9_month</th>\n",
       "      <td>36.753215</td>\n",
       "    </tr>\n",
       "    <tr>\n",
       "      <th>sales_3_month</th>\n",
       "      <td>24.103316</td>\n",
       "    </tr>\n",
       "    <tr>\n",
       "      <th>forecast_6_month</th>\n",
       "      <td>18.577707</td>\n",
       "    </tr>\n",
       "    <tr>\n",
       "      <th>forecast_9_month</th>\n",
       "      <td>14.126444</td>\n",
       "    </tr>\n",
       "    <tr>\n",
       "      <th>sales_1_month</th>\n",
       "      <td>7.713665</td>\n",
       "    </tr>\n",
       "    <tr>\n",
       "      <th>perf_12_month_avg</th>\n",
       "      <td>6.671859</td>\n",
       "    </tr>\n",
       "    <tr>\n",
       "      <th>perf_6_month_avg</th>\n",
       "      <td>6.657613</td>\n",
       "    </tr>\n",
       "    <tr>\n",
       "      <th>forecast_3_month</th>\n",
       "      <td>5.994523</td>\n",
       "    </tr>\n",
       "    <tr>\n",
       "      <th>in_transit_qty</th>\n",
       "      <td>1.780708</td>\n",
       "    </tr>\n",
       "    <tr>\n",
       "      <th>stop_auto_buy_Yes</th>\n",
       "      <td>1.388933</td>\n",
       "    </tr>\n",
       "    <tr>\n",
       "      <th>deck_risk_Yes</th>\n",
       "      <td>1.361657</td>\n",
       "    </tr>\n",
       "    <tr>\n",
       "      <th>min_bank</th>\n",
       "      <td>1.218912</td>\n",
       "    </tr>\n",
       "    <tr>\n",
       "      <th>national_inv</th>\n",
       "      <td>1.216355</td>\n",
       "    </tr>\n",
       "    <tr>\n",
       "      <th>ppap_risk_Yes</th>\n",
       "      <td>1.138784</td>\n",
       "    </tr>\n",
       "    <tr>\n",
       "      <th>pieces_past_due</th>\n",
       "      <td>1.053127</td>\n",
       "    </tr>\n",
       "    <tr>\n",
       "      <th>local_bo_qty</th>\n",
       "      <td>1.049711</td>\n",
       "    </tr>\n",
       "    <tr>\n",
       "      <th>lead_time</th>\n",
       "      <td>1.023246</td>\n",
       "    </tr>\n",
       "    <tr>\n",
       "      <th>potential_issue_Yes</th>\n",
       "      <td>1.003916</td>\n",
       "    </tr>\n",
       "    <tr>\n",
       "      <th>oe_constraint_Yes</th>\n",
       "      <td>1.001573</td>\n",
       "    </tr>\n",
       "    <tr>\n",
       "      <th>rev_stop_Yes</th>\n",
       "      <td>1.001252</td>\n",
       "    </tr>\n",
       "  </tbody>\n",
       "</table>\n",
       "</div>"
      ],
      "text/plain": [
       "                     Vif_values\n",
       "sales_6_month         54.034334\n",
       "sales_9_month         36.753215\n",
       "sales_3_month         24.103316\n",
       "forecast_6_month      18.577707\n",
       "forecast_9_month      14.126444\n",
       "sales_1_month          7.713665\n",
       "perf_12_month_avg      6.671859\n",
       "perf_6_month_avg       6.657613\n",
       "forecast_3_month       5.994523\n",
       "in_transit_qty         1.780708\n",
       "stop_auto_buy_Yes      1.388933\n",
       "deck_risk_Yes          1.361657\n",
       "min_bank               1.218912\n",
       "national_inv           1.216355\n",
       "ppap_risk_Yes          1.138784\n",
       "pieces_past_due        1.053127\n",
       "local_bo_qty           1.049711\n",
       "lead_time              1.023246\n",
       "potential_issue_Yes    1.003916\n",
       "oe_constraint_Yes      1.001573\n",
       "rev_stop_Yes           1.001252"
      ]
     },
     "execution_count": 230,
     "metadata": {},
     "output_type": "execute_result"
    }
   ],
   "source": [
    "# we are creating a list of vif values for each columns in the train dataset\n",
    "# then we are creating a dataframe and using the values and index as the respective column names\n",
    "# we are also sorting them descendingly using sort_values function\n",
    "vif_values = [vif(xtrain_ss.values,i)for i in range(len(xtrain_ss.columns))]\n",
    "df_vif = pd.DataFrame(data = vif_values, columns = [\"Vif_values\"],index = xtrain_ss.columns).sort_values(by = \"Vif_values\",ascending = False)\n",
    "df_vif"
   ]
  },
  {
   "cell_type": "code",
   "execution_count": 231,
   "id": "6e2f9b43",
   "metadata": {},
   "outputs": [],
   "source": [
    "# we are dropping the first columns that has the most multicollinearity\n",
    "xtrain_ss.drop([\"sales_6_month\"],axis =1,inplace = True)"
   ]
  },
  {
   "cell_type": "code",
   "execution_count": 232,
   "id": "43bed3c4",
   "metadata": {},
   "outputs": [
    {
     "data": {
      "text/html": [
       "<div>\n",
       "<style scoped>\n",
       "    .dataframe tbody tr th:only-of-type {\n",
       "        vertical-align: middle;\n",
       "    }\n",
       "\n",
       "    .dataframe tbody tr th {\n",
       "        vertical-align: top;\n",
       "    }\n",
       "\n",
       "    .dataframe thead th {\n",
       "        text-align: right;\n",
       "    }\n",
       "</style>\n",
       "<table border=\"1\" class=\"dataframe\">\n",
       "  <thead>\n",
       "    <tr style=\"text-align: right;\">\n",
       "      <th></th>\n",
       "      <th>Vif_values</th>\n",
       "    </tr>\n",
       "  </thead>\n",
       "  <tbody>\n",
       "    <tr>\n",
       "      <th>sales_3_month</th>\n",
       "      <td>18.612399</td>\n",
       "    </tr>\n",
       "    <tr>\n",
       "      <th>forecast_6_month</th>\n",
       "      <td>18.576075</td>\n",
       "    </tr>\n",
       "    <tr>\n",
       "      <th>forecast_9_month</th>\n",
       "      <td>14.113641</td>\n",
       "    </tr>\n",
       "    <tr>\n",
       "      <th>sales_9_month</th>\n",
       "      <td>11.796563</td>\n",
       "    </tr>\n",
       "    <tr>\n",
       "      <th>sales_1_month</th>\n",
       "      <td>7.712982</td>\n",
       "    </tr>\n",
       "    <tr>\n",
       "      <th>perf_12_month_avg</th>\n",
       "      <td>6.671683</td>\n",
       "    </tr>\n",
       "    <tr>\n",
       "      <th>perf_6_month_avg</th>\n",
       "      <td>6.657375</td>\n",
       "    </tr>\n",
       "    <tr>\n",
       "      <th>forecast_3_month</th>\n",
       "      <td>5.993713</td>\n",
       "    </tr>\n",
       "    <tr>\n",
       "      <th>in_transit_qty</th>\n",
       "      <td>1.780555</td>\n",
       "    </tr>\n",
       "    <tr>\n",
       "      <th>stop_auto_buy_Yes</th>\n",
       "      <td>1.388881</td>\n",
       "    </tr>\n",
       "    <tr>\n",
       "      <th>deck_risk_Yes</th>\n",
       "      <td>1.361452</td>\n",
       "    </tr>\n",
       "    <tr>\n",
       "      <th>min_bank</th>\n",
       "      <td>1.218897</td>\n",
       "    </tr>\n",
       "    <tr>\n",
       "      <th>national_inv</th>\n",
       "      <td>1.216353</td>\n",
       "    </tr>\n",
       "    <tr>\n",
       "      <th>ppap_risk_Yes</th>\n",
       "      <td>1.138783</td>\n",
       "    </tr>\n",
       "    <tr>\n",
       "      <th>pieces_past_due</th>\n",
       "      <td>1.053111</td>\n",
       "    </tr>\n",
       "    <tr>\n",
       "      <th>local_bo_qty</th>\n",
       "      <td>1.049709</td>\n",
       "    </tr>\n",
       "    <tr>\n",
       "      <th>lead_time</th>\n",
       "      <td>1.023073</td>\n",
       "    </tr>\n",
       "    <tr>\n",
       "      <th>potential_issue_Yes</th>\n",
       "      <td>1.003916</td>\n",
       "    </tr>\n",
       "    <tr>\n",
       "      <th>oe_constraint_Yes</th>\n",
       "      <td>1.001570</td>\n",
       "    </tr>\n",
       "    <tr>\n",
       "      <th>rev_stop_Yes</th>\n",
       "      <td>1.001191</td>\n",
       "    </tr>\n",
       "  </tbody>\n",
       "</table>\n",
       "</div>"
      ],
      "text/plain": [
       "                     Vif_values\n",
       "sales_3_month         18.612399\n",
       "forecast_6_month      18.576075\n",
       "forecast_9_month      14.113641\n",
       "sales_9_month         11.796563\n",
       "sales_1_month          7.712982\n",
       "perf_12_month_avg      6.671683\n",
       "perf_6_month_avg       6.657375\n",
       "forecast_3_month       5.993713\n",
       "in_transit_qty         1.780555\n",
       "stop_auto_buy_Yes      1.388881\n",
       "deck_risk_Yes          1.361452\n",
       "min_bank               1.218897\n",
       "national_inv           1.216353\n",
       "ppap_risk_Yes          1.138783\n",
       "pieces_past_due        1.053111\n",
       "local_bo_qty           1.049709\n",
       "lead_time              1.023073\n",
       "potential_issue_Yes    1.003916\n",
       "oe_constraint_Yes      1.001570\n",
       "rev_stop_Yes           1.001191"
      ]
     },
     "execution_count": 232,
     "metadata": {},
     "output_type": "execute_result"
    }
   ],
   "source": [
    "#we are repeating the same process here again until we reach the vif values less than 5\n",
    "vif_values = [vif(xtrain_ss.values,i)for i in range(len(xtrain_ss.columns))]\n",
    "df_vif = pd.DataFrame(data = vif_values, columns = [\"Vif_values\"],index = xtrain_ss.columns).sort_values(by = \"Vif_values\",ascending = False)\n",
    "df_vif"
   ]
  },
  {
   "cell_type": "code",
   "execution_count": 233,
   "id": "dbac2d43",
   "metadata": {},
   "outputs": [],
   "source": [
    "xtrain_ss.drop([\"sales_3_month\"],axis =1,inplace = True)"
   ]
  },
  {
   "cell_type": "code",
   "execution_count": 234,
   "id": "5252e51c",
   "metadata": {},
   "outputs": [
    {
     "data": {
      "text/html": [
       "<div>\n",
       "<style scoped>\n",
       "    .dataframe tbody tr th:only-of-type {\n",
       "        vertical-align: middle;\n",
       "    }\n",
       "\n",
       "    .dataframe tbody tr th {\n",
       "        vertical-align: top;\n",
       "    }\n",
       "\n",
       "    .dataframe thead th {\n",
       "        text-align: right;\n",
       "    }\n",
       "</style>\n",
       "<table border=\"1\" class=\"dataframe\">\n",
       "  <thead>\n",
       "    <tr style=\"text-align: right;\">\n",
       "      <th></th>\n",
       "      <th>Vif_values</th>\n",
       "    </tr>\n",
       "  </thead>\n",
       "  <tbody>\n",
       "    <tr>\n",
       "      <th>forecast_6_month</th>\n",
       "      <td>18.575040</td>\n",
       "    </tr>\n",
       "    <tr>\n",
       "      <th>forecast_9_month</th>\n",
       "      <td>14.089561</td>\n",
       "    </tr>\n",
       "    <tr>\n",
       "      <th>perf_12_month_avg</th>\n",
       "      <td>6.671683</td>\n",
       "    </tr>\n",
       "    <tr>\n",
       "      <th>perf_6_month_avg</th>\n",
       "      <td>6.657374</td>\n",
       "    </tr>\n",
       "    <tr>\n",
       "      <th>forecast_3_month</th>\n",
       "      <td>5.993582</td>\n",
       "    </tr>\n",
       "    <tr>\n",
       "      <th>sales_1_month</th>\n",
       "      <td>5.255571</td>\n",
       "    </tr>\n",
       "    <tr>\n",
       "      <th>sales_9_month</th>\n",
       "      <td>4.965814</td>\n",
       "    </tr>\n",
       "    <tr>\n",
       "      <th>in_transit_qty</th>\n",
       "      <td>1.780081</td>\n",
       "    </tr>\n",
       "    <tr>\n",
       "      <th>stop_auto_buy_Yes</th>\n",
       "      <td>1.388819</td>\n",
       "    </tr>\n",
       "    <tr>\n",
       "      <th>deck_risk_Yes</th>\n",
       "      <td>1.361212</td>\n",
       "    </tr>\n",
       "    <tr>\n",
       "      <th>min_bank</th>\n",
       "      <td>1.218742</td>\n",
       "    </tr>\n",
       "    <tr>\n",
       "      <th>national_inv</th>\n",
       "      <td>1.216294</td>\n",
       "    </tr>\n",
       "    <tr>\n",
       "      <th>ppap_risk_Yes</th>\n",
       "      <td>1.138779</td>\n",
       "    </tr>\n",
       "    <tr>\n",
       "      <th>pieces_past_due</th>\n",
       "      <td>1.053108</td>\n",
       "    </tr>\n",
       "    <tr>\n",
       "      <th>local_bo_qty</th>\n",
       "      <td>1.049655</td>\n",
       "    </tr>\n",
       "    <tr>\n",
       "      <th>lead_time</th>\n",
       "      <td>1.023070</td>\n",
       "    </tr>\n",
       "    <tr>\n",
       "      <th>potential_issue_Yes</th>\n",
       "      <td>1.003913</td>\n",
       "    </tr>\n",
       "    <tr>\n",
       "      <th>oe_constraint_Yes</th>\n",
       "      <td>1.001558</td>\n",
       "    </tr>\n",
       "    <tr>\n",
       "      <th>rev_stop_Yes</th>\n",
       "      <td>1.001190</td>\n",
       "    </tr>\n",
       "  </tbody>\n",
       "</table>\n",
       "</div>"
      ],
      "text/plain": [
       "                     Vif_values\n",
       "forecast_6_month      18.575040\n",
       "forecast_9_month      14.089561\n",
       "perf_12_month_avg      6.671683\n",
       "perf_6_month_avg       6.657374\n",
       "forecast_3_month       5.993582\n",
       "sales_1_month          5.255571\n",
       "sales_9_month          4.965814\n",
       "in_transit_qty         1.780081\n",
       "stop_auto_buy_Yes      1.388819\n",
       "deck_risk_Yes          1.361212\n",
       "min_bank               1.218742\n",
       "national_inv           1.216294\n",
       "ppap_risk_Yes          1.138779\n",
       "pieces_past_due        1.053108\n",
       "local_bo_qty           1.049655\n",
       "lead_time              1.023070\n",
       "potential_issue_Yes    1.003913\n",
       "oe_constraint_Yes      1.001558\n",
       "rev_stop_Yes           1.001190"
      ]
     },
     "execution_count": 234,
     "metadata": {},
     "output_type": "execute_result"
    }
   ],
   "source": [
    "vif_values = [vif(xtrain_ss.values,i)for i in range(len(xtrain_ss.columns))]\n",
    "df_vif = pd.DataFrame(data = vif_values, columns = [\"Vif_values\"],index = xtrain_ss.columns).sort_values(by = \"Vif_values\",ascending = False)\n",
    "df_vif"
   ]
  },
  {
   "cell_type": "code",
   "execution_count": 235,
   "id": "3821662f",
   "metadata": {},
   "outputs": [],
   "source": [
    "xtrain_ss.drop([\"forecast_6_month\"],axis =1,inplace = True)"
   ]
  },
  {
   "cell_type": "code",
   "execution_count": 236,
   "id": "890c214c",
   "metadata": {},
   "outputs": [
    {
     "data": {
      "text/html": [
       "<div>\n",
       "<style scoped>\n",
       "    .dataframe tbody tr th:only-of-type {\n",
       "        vertical-align: middle;\n",
       "    }\n",
       "\n",
       "    .dataframe tbody tr th {\n",
       "        vertical-align: top;\n",
       "    }\n",
       "\n",
       "    .dataframe thead th {\n",
       "        text-align: right;\n",
       "    }\n",
       "</style>\n",
       "<table border=\"1\" class=\"dataframe\">\n",
       "  <thead>\n",
       "    <tr style=\"text-align: right;\">\n",
       "      <th></th>\n",
       "      <th>Vif_values</th>\n",
       "    </tr>\n",
       "  </thead>\n",
       "  <tbody>\n",
       "    <tr>\n",
       "      <th>perf_12_month_avg</th>\n",
       "      <td>6.671682</td>\n",
       "    </tr>\n",
       "    <tr>\n",
       "      <th>perf_6_month_avg</th>\n",
       "      <td>6.657369</td>\n",
       "    </tr>\n",
       "    <tr>\n",
       "      <th>sales_1_month</th>\n",
       "      <td>5.253158</td>\n",
       "    </tr>\n",
       "    <tr>\n",
       "      <th>forecast_9_month</th>\n",
       "      <td>5.080654</td>\n",
       "    </tr>\n",
       "    <tr>\n",
       "      <th>sales_9_month</th>\n",
       "      <td>4.960441</td>\n",
       "    </tr>\n",
       "    <tr>\n",
       "      <th>forecast_3_month</th>\n",
       "      <td>4.273923</td>\n",
       "    </tr>\n",
       "    <tr>\n",
       "      <th>in_transit_qty</th>\n",
       "      <td>1.779225</td>\n",
       "    </tr>\n",
       "    <tr>\n",
       "      <th>stop_auto_buy_Yes</th>\n",
       "      <td>1.388650</td>\n",
       "    </tr>\n",
       "    <tr>\n",
       "      <th>deck_risk_Yes</th>\n",
       "      <td>1.360584</td>\n",
       "    </tr>\n",
       "    <tr>\n",
       "      <th>min_bank</th>\n",
       "      <td>1.218741</td>\n",
       "    </tr>\n",
       "    <tr>\n",
       "      <th>national_inv</th>\n",
       "      <td>1.216293</td>\n",
       "    </tr>\n",
       "    <tr>\n",
       "      <th>ppap_risk_Yes</th>\n",
       "      <td>1.138778</td>\n",
       "    </tr>\n",
       "    <tr>\n",
       "      <th>pieces_past_due</th>\n",
       "      <td>1.053108</td>\n",
       "    </tr>\n",
       "    <tr>\n",
       "      <th>local_bo_qty</th>\n",
       "      <td>1.049655</td>\n",
       "    </tr>\n",
       "    <tr>\n",
       "      <th>lead_time</th>\n",
       "      <td>1.022912</td>\n",
       "    </tr>\n",
       "    <tr>\n",
       "      <th>potential_issue_Yes</th>\n",
       "      <td>1.003913</td>\n",
       "    </tr>\n",
       "    <tr>\n",
       "      <th>oe_constraint_Yes</th>\n",
       "      <td>1.001554</td>\n",
       "    </tr>\n",
       "    <tr>\n",
       "      <th>rev_stop_Yes</th>\n",
       "      <td>1.001189</td>\n",
       "    </tr>\n",
       "  </tbody>\n",
       "</table>\n",
       "</div>"
      ],
      "text/plain": [
       "                     Vif_values\n",
       "perf_12_month_avg      6.671682\n",
       "perf_6_month_avg       6.657369\n",
       "sales_1_month          5.253158\n",
       "forecast_9_month       5.080654\n",
       "sales_9_month          4.960441\n",
       "forecast_3_month       4.273923\n",
       "in_transit_qty         1.779225\n",
       "stop_auto_buy_Yes      1.388650\n",
       "deck_risk_Yes          1.360584\n",
       "min_bank               1.218741\n",
       "national_inv           1.216293\n",
       "ppap_risk_Yes          1.138778\n",
       "pieces_past_due        1.053108\n",
       "local_bo_qty           1.049655\n",
       "lead_time              1.022912\n",
       "potential_issue_Yes    1.003913\n",
       "oe_constraint_Yes      1.001554\n",
       "rev_stop_Yes           1.001189"
      ]
     },
     "execution_count": 236,
     "metadata": {},
     "output_type": "execute_result"
    }
   ],
   "source": [
    "vif_values = [vif(xtrain_ss.values,i)for i in range(len(xtrain_ss.columns))]\n",
    "df_vif = pd.DataFrame(data = vif_values, columns = [\"Vif_values\"],index = xtrain_ss.columns).sort_values(by = \"Vif_values\",ascending = False)\n",
    "df_vif"
   ]
  },
  {
   "cell_type": "code",
   "execution_count": 237,
   "id": "ec5ba054",
   "metadata": {},
   "outputs": [],
   "source": [
    "xtrain_ss.drop([\"perf_12_month_avg\"],axis =1,inplace = True)"
   ]
  },
  {
   "cell_type": "code",
   "execution_count": 238,
   "id": "87dd2bf9",
   "metadata": {},
   "outputs": [
    {
     "data": {
      "text/html": [
       "<div>\n",
       "<style scoped>\n",
       "    .dataframe tbody tr th:only-of-type {\n",
       "        vertical-align: middle;\n",
       "    }\n",
       "\n",
       "    .dataframe tbody tr th {\n",
       "        vertical-align: top;\n",
       "    }\n",
       "\n",
       "    .dataframe thead th {\n",
       "        text-align: right;\n",
       "    }\n",
       "</style>\n",
       "<table border=\"1\" class=\"dataframe\">\n",
       "  <thead>\n",
       "    <tr style=\"text-align: right;\">\n",
       "      <th></th>\n",
       "      <th>Vif_values</th>\n",
       "    </tr>\n",
       "  </thead>\n",
       "  <tbody>\n",
       "    <tr>\n",
       "      <th>sales_1_month</th>\n",
       "      <td>5.253103</td>\n",
       "    </tr>\n",
       "    <tr>\n",
       "      <th>forecast_9_month</th>\n",
       "      <td>5.080051</td>\n",
       "    </tr>\n",
       "    <tr>\n",
       "      <th>sales_9_month</th>\n",
       "      <td>4.960098</td>\n",
       "    </tr>\n",
       "    <tr>\n",
       "      <th>forecast_3_month</th>\n",
       "      <td>4.273754</td>\n",
       "    </tr>\n",
       "    <tr>\n",
       "      <th>in_transit_qty</th>\n",
       "      <td>1.779184</td>\n",
       "    </tr>\n",
       "    <tr>\n",
       "      <th>stop_auto_buy_Yes</th>\n",
       "      <td>1.384619</td>\n",
       "    </tr>\n",
       "    <tr>\n",
       "      <th>deck_risk_Yes</th>\n",
       "      <td>1.354095</td>\n",
       "    </tr>\n",
       "    <tr>\n",
       "      <th>min_bank</th>\n",
       "      <td>1.218664</td>\n",
       "    </tr>\n",
       "    <tr>\n",
       "      <th>national_inv</th>\n",
       "      <td>1.216292</td>\n",
       "    </tr>\n",
       "    <tr>\n",
       "      <th>ppap_risk_Yes</th>\n",
       "      <td>1.135837</td>\n",
       "    </tr>\n",
       "    <tr>\n",
       "      <th>perf_6_month_avg</th>\n",
       "      <td>1.062249</td>\n",
       "    </tr>\n",
       "    <tr>\n",
       "      <th>pieces_past_due</th>\n",
       "      <td>1.052996</td>\n",
       "    </tr>\n",
       "    <tr>\n",
       "      <th>local_bo_qty</th>\n",
       "      <td>1.049577</td>\n",
       "    </tr>\n",
       "    <tr>\n",
       "      <th>lead_time</th>\n",
       "      <td>1.022722</td>\n",
       "    </tr>\n",
       "    <tr>\n",
       "      <th>potential_issue_Yes</th>\n",
       "      <td>1.003912</td>\n",
       "    </tr>\n",
       "    <tr>\n",
       "      <th>oe_constraint_Yes</th>\n",
       "      <td>1.001554</td>\n",
       "    </tr>\n",
       "    <tr>\n",
       "      <th>rev_stop_Yes</th>\n",
       "      <td>1.001043</td>\n",
       "    </tr>\n",
       "  </tbody>\n",
       "</table>\n",
       "</div>"
      ],
      "text/plain": [
       "                     Vif_values\n",
       "sales_1_month          5.253103\n",
       "forecast_9_month       5.080051\n",
       "sales_9_month          4.960098\n",
       "forecast_3_month       4.273754\n",
       "in_transit_qty         1.779184\n",
       "stop_auto_buy_Yes      1.384619\n",
       "deck_risk_Yes          1.354095\n",
       "min_bank               1.218664\n",
       "national_inv           1.216292\n",
       "ppap_risk_Yes          1.135837\n",
       "perf_6_month_avg       1.062249\n",
       "pieces_past_due        1.052996\n",
       "local_bo_qty           1.049577\n",
       "lead_time              1.022722\n",
       "potential_issue_Yes    1.003912\n",
       "oe_constraint_Yes      1.001554\n",
       "rev_stop_Yes           1.001043"
      ]
     },
     "execution_count": 238,
     "metadata": {},
     "output_type": "execute_result"
    }
   ],
   "source": [
    "vif_values = [vif(xtrain_ss.values,i)for i in range(len(xtrain_ss.columns))]\n",
    "df_vif = pd.DataFrame(data = vif_values, columns = [\"Vif_values\"],index = xtrain_ss.columns).sort_values(by = \"Vif_values\",ascending = False)\n",
    "df_vif"
   ]
  },
  {
   "cell_type": "code",
   "execution_count": 239,
   "id": "a4d27992",
   "metadata": {},
   "outputs": [],
   "source": [
    "xtrain_ss.drop([\"sales_1_month\"],axis =1,inplace = True)"
   ]
  },
  {
   "cell_type": "code",
   "execution_count": 240,
   "id": "12c1765f",
   "metadata": {},
   "outputs": [
    {
     "data": {
      "text/html": [
       "<div>\n",
       "<style scoped>\n",
       "    .dataframe tbody tr th:only-of-type {\n",
       "        vertical-align: middle;\n",
       "    }\n",
       "\n",
       "    .dataframe tbody tr th {\n",
       "        vertical-align: top;\n",
       "    }\n",
       "\n",
       "    .dataframe thead th {\n",
       "        text-align: right;\n",
       "    }\n",
       "</style>\n",
       "<table border=\"1\" class=\"dataframe\">\n",
       "  <thead>\n",
       "    <tr style=\"text-align: right;\">\n",
       "      <th></th>\n",
       "      <th>Vif_values</th>\n",
       "    </tr>\n",
       "  </thead>\n",
       "  <tbody>\n",
       "    <tr>\n",
       "      <th>forecast_9_month</th>\n",
       "      <td>5.066939</td>\n",
       "    </tr>\n",
       "    <tr>\n",
       "      <th>forecast_3_month</th>\n",
       "      <td>4.254054</td>\n",
       "    </tr>\n",
       "    <tr>\n",
       "      <th>sales_9_month</th>\n",
       "      <td>1.994059</td>\n",
       "    </tr>\n",
       "    <tr>\n",
       "      <th>in_transit_qty</th>\n",
       "      <td>1.705496</td>\n",
       "    </tr>\n",
       "    <tr>\n",
       "      <th>stop_auto_buy_Yes</th>\n",
       "      <td>1.384617</td>\n",
       "    </tr>\n",
       "    <tr>\n",
       "      <th>deck_risk_Yes</th>\n",
       "      <td>1.353991</td>\n",
       "    </tr>\n",
       "    <tr>\n",
       "      <th>min_bank</th>\n",
       "      <td>1.218603</td>\n",
       "    </tr>\n",
       "    <tr>\n",
       "      <th>national_inv</th>\n",
       "      <td>1.216095</td>\n",
       "    </tr>\n",
       "    <tr>\n",
       "      <th>ppap_risk_Yes</th>\n",
       "      <td>1.135768</td>\n",
       "    </tr>\n",
       "    <tr>\n",
       "      <th>perf_6_month_avg</th>\n",
       "      <td>1.062092</td>\n",
       "    </tr>\n",
       "    <tr>\n",
       "      <th>pieces_past_due</th>\n",
       "      <td>1.052935</td>\n",
       "    </tr>\n",
       "    <tr>\n",
       "      <th>local_bo_qty</th>\n",
       "      <td>1.049017</td>\n",
       "    </tr>\n",
       "    <tr>\n",
       "      <th>lead_time</th>\n",
       "      <td>1.022701</td>\n",
       "    </tr>\n",
       "    <tr>\n",
       "      <th>potential_issue_Yes</th>\n",
       "      <td>1.003912</td>\n",
       "    </tr>\n",
       "    <tr>\n",
       "      <th>oe_constraint_Yes</th>\n",
       "      <td>1.001552</td>\n",
       "    </tr>\n",
       "    <tr>\n",
       "      <th>rev_stop_Yes</th>\n",
       "      <td>1.000910</td>\n",
       "    </tr>\n",
       "  </tbody>\n",
       "</table>\n",
       "</div>"
      ],
      "text/plain": [
       "                     Vif_values\n",
       "forecast_9_month       5.066939\n",
       "forecast_3_month       4.254054\n",
       "sales_9_month          1.994059\n",
       "in_transit_qty         1.705496\n",
       "stop_auto_buy_Yes      1.384617\n",
       "deck_risk_Yes          1.353991\n",
       "min_bank               1.218603\n",
       "national_inv           1.216095\n",
       "ppap_risk_Yes          1.135768\n",
       "perf_6_month_avg       1.062092\n",
       "pieces_past_due        1.052935\n",
       "local_bo_qty           1.049017\n",
       "lead_time              1.022701\n",
       "potential_issue_Yes    1.003912\n",
       "oe_constraint_Yes      1.001552\n",
       "rev_stop_Yes           1.000910"
      ]
     },
     "execution_count": 240,
     "metadata": {},
     "output_type": "execute_result"
    }
   ],
   "source": [
    "vif_values = [vif(xtrain_ss.values,i)for i in range(len(xtrain_ss.columns))]\n",
    "df_vif = pd.DataFrame(data = vif_values, columns = [\"Vif_values\"],index = xtrain_ss.columns).sort_values(by = \"Vif_values\",ascending = False)\n",
    "df_vif"
   ]
  },
  {
   "cell_type": "code",
   "execution_count": 241,
   "id": "df1dd2fd",
   "metadata": {},
   "outputs": [],
   "source": [
    "xtrain_ss.drop([\"forecast_9_month\"],axis =1,inplace = True)"
   ]
  },
  {
   "cell_type": "code",
   "execution_count": 242,
   "id": "c51326c3",
   "metadata": {},
   "outputs": [
    {
     "data": {
      "text/html": [
       "<div>\n",
       "<style scoped>\n",
       "    .dataframe tbody tr th:only-of-type {\n",
       "        vertical-align: middle;\n",
       "    }\n",
       "\n",
       "    .dataframe tbody tr th {\n",
       "        vertical-align: top;\n",
       "    }\n",
       "\n",
       "    .dataframe thead th {\n",
       "        text-align: right;\n",
       "    }\n",
       "</style>\n",
       "<table border=\"1\" class=\"dataframe\">\n",
       "  <thead>\n",
       "    <tr style=\"text-align: right;\">\n",
       "      <th></th>\n",
       "      <th>Vif_values</th>\n",
       "    </tr>\n",
       "  </thead>\n",
       "  <tbody>\n",
       "    <tr>\n",
       "      <th>sales_9_month</th>\n",
       "      <td>1.777994</td>\n",
       "    </tr>\n",
       "    <tr>\n",
       "      <th>in_transit_qty</th>\n",
       "      <td>1.688567</td>\n",
       "    </tr>\n",
       "    <tr>\n",
       "      <th>forecast_3_month</th>\n",
       "      <td>1.624458</td>\n",
       "    </tr>\n",
       "    <tr>\n",
       "      <th>stop_auto_buy_Yes</th>\n",
       "      <td>1.380248</td>\n",
       "    </tr>\n",
       "    <tr>\n",
       "      <th>deck_risk_Yes</th>\n",
       "      <td>1.341889</td>\n",
       "    </tr>\n",
       "    <tr>\n",
       "      <th>min_bank</th>\n",
       "      <td>1.218601</td>\n",
       "    </tr>\n",
       "    <tr>\n",
       "      <th>national_inv</th>\n",
       "      <td>1.215316</td>\n",
       "    </tr>\n",
       "    <tr>\n",
       "      <th>ppap_risk_Yes</th>\n",
       "      <td>1.135498</td>\n",
       "    </tr>\n",
       "    <tr>\n",
       "      <th>perf_6_month_avg</th>\n",
       "      <td>1.061306</td>\n",
       "    </tr>\n",
       "    <tr>\n",
       "      <th>pieces_past_due</th>\n",
       "      <td>1.052935</td>\n",
       "    </tr>\n",
       "    <tr>\n",
       "      <th>local_bo_qty</th>\n",
       "      <td>1.048771</td>\n",
       "    </tr>\n",
       "    <tr>\n",
       "      <th>lead_time</th>\n",
       "      <td>1.017949</td>\n",
       "    </tr>\n",
       "    <tr>\n",
       "      <th>potential_issue_Yes</th>\n",
       "      <td>1.003885</td>\n",
       "    </tr>\n",
       "    <tr>\n",
       "      <th>oe_constraint_Yes</th>\n",
       "      <td>1.001543</td>\n",
       "    </tr>\n",
       "    <tr>\n",
       "      <th>rev_stop_Yes</th>\n",
       "      <td>1.000831</td>\n",
       "    </tr>\n",
       "  </tbody>\n",
       "</table>\n",
       "</div>"
      ],
      "text/plain": [
       "                     Vif_values\n",
       "sales_9_month          1.777994\n",
       "in_transit_qty         1.688567\n",
       "forecast_3_month       1.624458\n",
       "stop_auto_buy_Yes      1.380248\n",
       "deck_risk_Yes          1.341889\n",
       "min_bank               1.218601\n",
       "national_inv           1.215316\n",
       "ppap_risk_Yes          1.135498\n",
       "perf_6_month_avg       1.061306\n",
       "pieces_past_due        1.052935\n",
       "local_bo_qty           1.048771\n",
       "lead_time              1.017949\n",
       "potential_issue_Yes    1.003885\n",
       "oe_constraint_Yes      1.001543\n",
       "rev_stop_Yes           1.000831"
      ]
     },
     "execution_count": 242,
     "metadata": {},
     "output_type": "execute_result"
    }
   ],
   "source": [
    "vif_values = [vif(xtrain_ss.values,i)for i in range(len(xtrain_ss.columns))]\n",
    "df_vif = pd.DataFrame(data = vif_values, columns = [\"Vif_values\"],index = xtrain_ss.columns).sort_values(by = \"Vif_values\",ascending = False)\n",
    "df_vif"
   ]
  },
  {
   "cell_type": "code",
   "execution_count": 243,
   "id": "dc0723b8",
   "metadata": {},
   "outputs": [],
   "source": [
    "# Finally we can see that the vif values are below 5 hence we are stopping the vif process here."
   ]
  },
  {
   "cell_type": "markdown",
   "id": "98c6c19f",
   "metadata": {},
   "source": [
    "# VIF treated Logistic regression model"
   ]
  },
  {
   "cell_type": "code",
   "execution_count": 244,
   "id": "25aa36fd",
   "metadata": {},
   "outputs": [
    {
     "name": "stdout",
     "output_type": "stream",
     "text": [
      "Warning: Maximum number of iterations has been exceeded.\n",
      "         Current function value: inf\n",
      "         Iterations: 35\n",
      "                             Logit Regression Results                            \n",
      "=================================================================================\n",
      "Dep. Variable:     went_on_backorder_Yes   No. Observations:              1181502\n",
      "Model:                             Logit   Df Residuals:                  1181486\n",
      "Method:                              MLE   Df Model:                           15\n",
      "Date:                   Fri, 29 Jul 2022   Pseudo R-squ.:                     inf\n",
      "Time:                           20:47:54   Log-Likelihood:                   -inf\n",
      "converged:                         False   LL-Null:                        0.0000\n",
      "Covariance Type:               nonrobust   LLR p-value:                     1.000\n",
      "=======================================================================================\n",
      "                          coef    std err          z      P>|z|      [0.025      0.975]\n",
      "---------------------------------------------------------------------------------------\n",
      "const                  -5.7633      0.063    -90.991      0.000      -5.887      -5.639\n",
      "national_inv           -0.0076      0.004     -1.865      0.062      -0.016       0.000\n",
      "lead_time              -0.1917      0.012    -16.377      0.000      -0.215      -0.169\n",
      "in_transit_qty         -0.8849      0.016    -56.544      0.000      -0.916      -0.854\n",
      "forecast_3_month        1.2149      0.015     81.730      0.000       1.186       1.244\n",
      "sales_9_month           0.1096      0.016      6.800      0.000       0.078       0.141\n",
      "min_bank               -1.9860      0.189    -10.499      0.000      -2.357      -1.615\n",
      "pieces_past_due         0.1003      0.005     19.381      0.000       0.090       0.110\n",
      "perf_6_month_avg       -0.1858      0.011    -16.857      0.000      -0.207      -0.164\n",
      "local_bo_qty            0.1972      0.005     42.603      0.000       0.188       0.206\n",
      "potential_issue_Yes     0.5194      0.190      2.732      0.006       0.147       0.892\n",
      "deck_risk_Yes          -0.4122      0.034    -12.007      0.000      -0.479      -0.345\n",
      "oe_constraint_Yes      -0.2845      0.530     -0.537      0.591      -1.324       0.755\n",
      "ppap_risk_Yes           0.2174      0.032      6.801      0.000       0.155       0.280\n",
      "stop_auto_buy_Yes      -0.1178      0.061     -1.940      0.052      -0.237       0.001\n",
      "rev_stop_Yes            1.3227      0.369      3.582      0.000       0.599       2.046\n",
      "=======================================================================================\n"
     ]
    }
   ],
   "source": [
    "#As it is a model using the statsmodels we are adding the constant from our end\n",
    "X_c1 = sm.add_constant(xtrain_ss)\n",
    "logreg_treated = sm.Logit(ytrain, X_c1).fit()\n",
    "\n",
    "# print the summary of the model\n",
    "print(logreg_treated.summary())"
   ]
  },
  {
   "cell_type": "code",
   "execution_count": 245,
   "id": "992f333a",
   "metadata": {},
   "outputs": [],
   "source": [
    "a = list(xtrain_ss.columns)\n",
    "xtrain_sm = xtrain_sm[a]\n"
   ]
  },
  {
   "cell_type": "markdown",
   "id": "2c86eaf4",
   "metadata": {},
   "source": [
    "# VIF treated and Smoted Logitic regression model"
   ]
  },
  {
   "cell_type": "code",
   "execution_count": 246,
   "id": "1069a0dc",
   "metadata": {},
   "outputs": [
    {
     "name": "stdout",
     "output_type": "stream",
     "text": [
      "Optimization terminated successfully.\n",
      "         Current function value: inf\n",
      "         Iterations 16\n",
      "                             Logit Regression Results                            \n",
      "=================================================================================\n",
      "Dep. Variable:     went_on_backorder_Yes   No. Observations:              2347100\n",
      "Model:                             Logit   Df Residuals:                  2347084\n",
      "Method:                              MLE   Df Model:                           15\n",
      "Date:                   Fri, 29 Jul 2022   Pseudo R-squ.:                     inf\n",
      "Time:                           20:48:27   Log-Likelihood:                   -inf\n",
      "converged:                          True   LL-Null:                        0.0000\n",
      "Covariance Type:               nonrobust   LLR p-value:                     1.000\n",
      "=======================================================================================\n",
      "                          coef    std err          z      P>|z|      [0.025      0.975]\n",
      "---------------------------------------------------------------------------------------\n",
      "const                   0.7859      0.010     79.349      0.000       0.767       0.805\n",
      "national_inv          -11.8775      0.055   -214.167      0.000     -11.986     -11.769\n",
      "lead_time              -0.3598      0.002   -189.510      0.000      -0.364      -0.356\n",
      "in_transit_qty         -0.7933      0.002   -362.716      0.000      -0.798      -0.789\n",
      "forecast_3_month        1.2735      0.002    580.817      0.000       1.269       1.278\n",
      "sales_9_month           0.3938      0.002    158.155      0.000       0.389       0.399\n",
      "min_bank                0.0157      0.013      1.211      0.226      -0.010       0.041\n",
      "pieces_past_due         0.2011      0.002     86.666      0.000       0.197       0.206\n",
      "perf_6_month_avg       -0.1518      0.002    -82.155      0.000      -0.155      -0.148\n",
      "local_bo_qty            0.3383      0.003    121.065      0.000       0.333       0.344\n",
      "potential_issue_Yes    -1.6740      0.069    -24.305      0.000      -1.809      -1.539\n",
      "deck_risk_Yes          -0.5025      0.005   -101.212      0.000      -0.512      -0.493\n",
      "oe_constraint_Yes      -1.5601      0.147    -10.615      0.000      -1.848      -1.272\n",
      "ppap_risk_Yes           0.0032      0.005      0.609      0.543      -0.007       0.014\n",
      "stop_auto_buy_Yes      -0.8150      0.010    -82.978      0.000      -0.834      -0.796\n",
      "rev_stop_Yes          -35.0512    1.5e+06  -2.33e-05      1.000   -2.95e+06    2.95e+06\n",
      "=======================================================================================\n"
     ]
    }
   ],
   "source": [
    "X_sm = sm.add_constant(xtrain_sm)\n",
    "logreg_sm_treated = sm.Logit(ytrain_sm, X_sm).fit()\n",
    "\n",
    "# print the summary of the model\n",
    "print(logreg_sm_treated.summary())"
   ]
  },
  {
   "cell_type": "code",
   "execution_count": 247,
   "id": "6740d77b",
   "metadata": {},
   "outputs": [],
   "source": [
    "xtest_ss = xtest_ss[a]\n",
    "xtest_c = sm.add_constant(xtest_ss)"
   ]
  },
  {
   "cell_type": "markdown",
   "id": "e30b8610",
   "metadata": {},
   "source": [
    "predicting the y pred usinig both the logistic regression models"
   ]
  },
  {
   "cell_type": "code",
   "execution_count": 248,
   "id": "41c972dc",
   "metadata": {},
   "outputs": [],
   "source": [
    "ypred = logreg_treated.predict(xtest_c)\n",
    "ypred_sm = logreg_sm_treated.predict(xtest_c)"
   ]
  },
  {
   "cell_type": "code",
   "execution_count": 249,
   "id": "9723234d",
   "metadata": {},
   "outputs": [],
   "source": [
    "ypred = [1 if i >0.5 else 0 for i in ypred]\n",
    "ypred_sm = [1 if i >0.5 else 0 for i in ypred_sm]"
   ]
  },
  {
   "cell_type": "markdown",
   "id": "9616a394",
   "metadata": {},
   "source": [
    "Classification report for the normal Logistic regression model"
   ]
  },
  {
   "cell_type": "code",
   "execution_count": 250,
   "id": "7ac03e54",
   "metadata": {},
   "outputs": [
    {
     "name": "stdout",
     "output_type": "stream",
     "text": [
      "              precision    recall  f1-score   support\n",
      "\n",
      "           0       1.00      0.99      1.00    506350\n",
      "           1       0.00      0.50      0.00         8\n",
      "\n",
      "    accuracy                           0.99    506358\n",
      "   macro avg       0.50      0.75      0.50    506358\n",
      "weighted avg       1.00      0.99      1.00    506358\n",
      "\n"
     ]
    }
   ],
   "source": [
    "print(classification_report(ypred,ytest))"
   ]
  },
  {
   "cell_type": "markdown",
   "id": "ad8c3d7d",
   "metadata": {},
   "source": [
    "Classification report for the Smoted logistic regresssion model"
   ]
  },
  {
   "cell_type": "code",
   "execution_count": 251,
   "id": "36573efb",
   "metadata": {},
   "outputs": [
    {
     "name": "stdout",
     "output_type": "stream",
     "text": [
      "              precision    recall  f1-score   support\n",
      "\n",
      "           0       0.56      1.00      0.71    280013\n",
      "           1       0.96      0.01      0.03    226345\n",
      "\n",
      "    accuracy                           0.56    506358\n",
      "   macro avg       0.76      0.51      0.37    506358\n",
      "weighted avg       0.74      0.56      0.41    506358\n",
      "\n"
     ]
    }
   ],
   "source": [
    "print(classification_report(ypred_sm,ytest))"
   ]
  },
  {
   "cell_type": "code",
   "execution_count": 252,
   "id": "09feedc3",
   "metadata": {},
   "outputs": [
    {
     "data": {
      "text/plain": [
       "array([[503013,   3337],\n",
       "       [     4,      4]], dtype=int64)"
      ]
     },
     "execution_count": 252,
     "metadata": {},
     "output_type": "execute_result"
    }
   ],
   "source": [
    "confusion_matrix(ypred,ytest)"
   ]
  },
  {
   "cell_type": "code",
   "execution_count": 253,
   "id": "90b8490e",
   "metadata": {},
   "outputs": [
    {
     "data": {
      "text/plain": [
       "array([[279866,    147],\n",
       "       [223151,   3194]], dtype=int64)"
      ]
     },
     "execution_count": 253,
     "metadata": {},
     "output_type": "execute_result"
    }
   ],
   "source": [
    "confusion_matrix(ypred_sm,ytest)"
   ]
  },
  {
   "cell_type": "code",
   "execution_count": 254,
   "id": "dc007713",
   "metadata": {},
   "outputs": [
    {
     "data": {
      "image/png": "[encoded data removed]",
      "text/plain": [
       "<Figure size 432x288 with 1 Axes>"
      ]
     },
     "metadata": {
      "needs_background": "light"
     },
     "output_type": "display_data"
    }
   ],
   "source": [
    "fpr_lr,tpr_lr,throshold_lr = roc_curve(ypred,ytest)\n",
    "plt.plot(fpr_lr,tpr_lr)\n",
    "plt.plot([0,1],[0,1],\"r--\")\n",
    "plt.text(x = 0.1,y = 0.8,s = (\"Roc Score\",round(roc_auc_score(ypred,ytest),2)))\n",
    "plt.grid()"
   ]
  },
  {
   "cell_type": "code",
   "execution_count": 255,
   "id": "8ff81f20",
   "metadata": {},
   "outputs": [
    {
     "data": {
      "image/png": "[encoded data removed]",
      "text/plain": [
       "<Figure size 432x288 with 1 Axes>"
      ]
     },
     "metadata": {
      "needs_background": "light"
     },
     "output_type": "display_data"
    }
   ],
   "source": [
    "fpr_lr_sm,tpr_lr_sm,throshold_lr_sm = roc_curve(ypred_sm,ytest)\n",
    "plt.plot(fpr_lr_sm,tpr_lr_sm)\n",
    "plt.plot([0,1],[0,1],\"r--\")\n",
    "plt.text(x = 0.1,y = 0.8,s = (\"Roc Score\",round(roc_auc_score(ypred_sm,ytest),2)))\n",
    "plt.grid()"
   ]
  },
  {
   "cell_type": "code",
   "execution_count": 256,
   "id": "7d4450bc",
   "metadata": {},
   "outputs": [],
   "source": [
    "update_score_card(logreg_treated,\"Logistic regression vif treated\")\n",
    "update_score_card(logreg_sm_treated,\"Logistic Regression Smoted vif treated\")"
   ]
  },
  {
   "cell_type": "code",
   "execution_count": 257,
   "id": "458696ea",
   "metadata": {},
   "outputs": [
    {
     "data": {
      "text/html": [
       "<div>\n",
       "<style scoped>\n",
       "    .dataframe tbody tr th:only-of-type {\n",
       "        vertical-align: middle;\n",
       "    }\n",
       "\n",
       "    .dataframe tbody tr th {\n",
       "        vertical-align: top;\n",
       "    }\n",
       "\n",
       "    .dataframe thead th {\n",
       "        text-align: right;\n",
       "    }\n",
       "</style>\n",
       "<table border=\"1\" class=\"dataframe\">\n",
       "  <thead>\n",
       "    <tr style=\"text-align: right;\">\n",
       "      <th></th>\n",
       "      <th>Model Name</th>\n",
       "      <th>AUC Score</th>\n",
       "      <th>Precision Score</th>\n",
       "      <th>Recall Score</th>\n",
       "      <th>Accuracy Score</th>\n",
       "      <th>Kappa Score</th>\n",
       "      <th>f1-score</th>\n",
       "      <th>False Negatives</th>\n",
       "    </tr>\n",
       "  </thead>\n",
       "  <tbody>\n",
       "    <tr>\n",
       "      <th>0</th>\n",
       "      <td>Logistic regression</td>\n",
       "      <td>0.765939</td>\n",
       "      <td>0.002095</td>\n",
       "      <td>0.538462</td>\n",
       "      <td>0.993404</td>\n",
       "      <td>0.004123</td>\n",
       "      <td>0.004174</td>\n",
       "      <td>6.0</td>\n",
       "    </tr>\n",
       "    <tr>\n",
       "      <th>1</th>\n",
       "      <td>Logistic Regression Smoted</td>\n",
       "      <td>0.506957</td>\n",
       "      <td>0.955403</td>\n",
       "      <td>0.014436</td>\n",
       "      <td>0.569322</td>\n",
       "      <td>0.015645</td>\n",
       "      <td>0.028441</td>\n",
       "      <td>217928.0</td>\n",
       "    </tr>\n",
       "    <tr>\n",
       "      <th>2</th>\n",
       "      <td>Logistic regression vif treated</td>\n",
       "      <td>0.746705</td>\n",
       "      <td>0.001197</td>\n",
       "      <td>0.5</td>\n",
       "      <td>0.993402</td>\n",
       "      <td>0.002357</td>\n",
       "      <td>0.002389</td>\n",
       "      <td>4.0</td>\n",
       "    </tr>\n",
       "    <tr>\n",
       "      <th>3</th>\n",
       "      <td>Logistic Regression Smoted vif treated</td>\n",
       "      <td>0.506793</td>\n",
       "      <td>0.956001</td>\n",
       "      <td>0.014111</td>\n",
       "      <td>0.559012</td>\n",
       "      <td>0.015003</td>\n",
       "      <td>0.027812</td>\n",
       "      <td>223151.0</td>\n",
       "    </tr>\n",
       "  </tbody>\n",
       "</table>\n",
       "</div>"
      ],
      "text/plain": [
       "                               Model Name AUC Score Precision Score  \\\n",
       "0                     Logistic regression  0.765939        0.002095   \n",
       "1              Logistic Regression Smoted  0.506957        0.955403   \n",
       "2         Logistic regression vif treated  0.746705        0.001197   \n",
       "3  Logistic Regression Smoted vif treated  0.506793        0.956001   \n",
       "\n",
       "  Recall Score Accuracy Score Kappa Score  f1-score  False Negatives  \n",
       "0     0.538462       0.993404    0.004123  0.004174              6.0  \n",
       "1     0.014436       0.569322    0.015645  0.028441         217928.0  \n",
       "2          0.5       0.993402    0.002357  0.002389              4.0  \n",
       "3     0.014111       0.559012    0.015003  0.027812         223151.0  "
      ]
     },
     "execution_count": 257,
     "metadata": {},
     "output_type": "execute_result"
    }
   ],
   "source": [
    "df_scores"
   ]
  },
  {
   "cell_type": "code",
   "execution_count": 258,
   "id": "775bd564",
   "metadata": {},
   "outputs": [],
   "source": [
    "xtest = xtest_copy\n",
    "xtrain_sm = xtrain_sm_copy\n",
    "\n"
   ]
  },
  {
   "cell_type": "code",
   "execution_count": 259,
   "id": "a899238e",
   "metadata": {},
   "outputs": [
    {
     "data": {
      "text/plain": [
       "(1181502, 21)"
      ]
     },
     "execution_count": 259,
     "metadata": {},
     "output_type": "execute_result"
    }
   ],
   "source": [
    "xtrain.shape"
   ]
  },
  {
   "cell_type": "markdown",
   "id": "ebc09b3e",
   "metadata": {},
   "source": [
    "# Decision Tree classifier"
   ]
  },
  {
   "cell_type": "code",
   "execution_count": 260,
   "id": "14ed10d7",
   "metadata": {},
   "outputs": [],
   "source": [
    "from sklearn.tree import DecisionTreeClassifier\n"
   ]
  },
  {
   "cell_type": "code",
   "execution_count": 261,
   "id": "226e23cc",
   "metadata": {},
   "outputs": [
    {
     "data": {
      "text/html": [
       "<style>#sk-container-id-7 {color: black;background-color: white;}#sk-container-id-7 pre{padding: 0;}#sk-container-id-7 div.sk-toggleable {background-color: white;}#sk-container-id-7 label.sk-toggleable__label {cursor: pointer;display: block;width: 100%;margin-bottom: 0;padding: 0.3em;box-sizing: border-box;text-align: center;}#sk-container-id-7 label.sk-toggleable__label-arrow:before {content: \"▸\";float: left;margin-right: 0.25em;color: #696969;}#sk-container-id-7 label.sk-toggleable__label-arrow:hover:before {color: black;}#sk-container-id-7 div.sk-estimator:hover label.sk-toggleable__label-arrow:before {color: black;}#sk-container-id-7 div.sk-toggleable__content {max-height: 0;max-width: 0;overflow: hidden;text-align: left;background-color: #f0f8ff;}#sk-container-id-7 div.sk-toggleable__content pre {margin: 0.2em;color: black;border-radius: 0.25em;background-color: #f0f8ff;}#sk-container-id-7 input.sk-toggleable__control:checked~div.sk-toggleable__content {max-height: 200px;max-width: 100%;overflow: auto;}#sk-container-id-7 input.sk-toggleable__control:checked~label.sk-toggleable__label-arrow:before {content: \"▾\";}#sk-container-id-7 div.sk-estimator input.sk-toggleable__control:checked~label.sk-toggleable__label {background-color: #d4ebff;}#sk-container-id-7 div.sk-label input.sk-toggleable__control:checked~label.sk-toggleable__label {background-color: #d4ebff;}#sk-container-id-7 input.sk-hidden--visually {border: 0;clip: rect(1px 1px 1px 1px);clip: rect(1px, 1px, 1px, 1px);height: 1px;margin: -1px;overflow: hidden;padding: 0;position: absolute;width: 1px;}#sk-container-id-7 div.sk-estimator {font-family: monospace;background-color: #f0f8ff;border: 1px dotted black;border-radius: 0.25em;box-sizing: border-box;margin-bottom: 0.5em;}#sk-container-id-7 div.sk-estimator:hover {background-color: #d4ebff;}#sk-container-id-7 div.sk-parallel-item::after {content: \"\";width: 100%;border-bottom: 1px solid gray;flex-grow: 1;}#sk-container-id-7 div.sk-label:hover label.sk-toggleable__label {background-color: #d4ebff;}#sk-container-id-7 div.sk-serial::before {content: \"\";position: absolute;border-left: 1px solid gray;box-sizing: border-box;top: 0;bottom: 0;left: 50%;z-index: 0;}#sk-container-id-7 div.sk-serial {display: flex;flex-direction: column;align-items: center;background-color: white;padding-right: 0.2em;padding-left: 0.2em;position: relative;}#sk-container-id-7 div.sk-item {position: relative;z-index: 1;}#sk-container-id-7 div.sk-parallel {display: flex;align-items: stretch;justify-content: center;background-color: white;position: relative;}#sk-container-id-7 div.sk-item::before, #sk-container-id-7 div.sk-parallel-item::before {content: \"\";position: absolute;border-left: 1px solid gray;box-sizing: border-box;top: 0;bottom: 0;left: 50%;z-index: -1;}#sk-container-id-7 div.sk-parallel-item {display: flex;flex-direction: column;z-index: 1;position: relative;background-color: white;}#sk-container-id-7 div.sk-parallel-item:first-child::after {align-self: flex-end;width: 50%;}#sk-container-id-7 div.sk-parallel-item:last-child::after {align-self: flex-start;width: 50%;}#sk-container-id-7 div.sk-parallel-item:only-child::after {width: 0;}#sk-container-id-7 div.sk-dashed-wrapped {border: 1px dashed gray;margin: 0 0.4em 0.5em 0.4em;box-sizing: border-box;padding-bottom: 0.4em;background-color: white;}#sk-container-id-7 div.sk-label label {font-family: monospace;font-weight: bold;display: inline-block;line-height: 1.2em;}#sk-container-id-7 div.sk-label-container {text-align: center;}#sk-container-id-7 div.sk-container {/* jupyter's `normalize.less` sets `[hidden] { display: none; }` but bootstrap.min.css set `[hidden] { display: none !important; }` so we also need the `!important` here to be able to override the default hidden behavior on the sphinx rendered scikit-learn.org. See: https://github.com/scikit-learn/scikit-learn/issues/21755 */display: inline-block !important;position: relative;}#sk-container-id-7 div.sk-text-repr-fallback {display: none;}</style><div id=\"sk-container-id-7\" class=\"sk-top-container\"><div class=\"sk-text-repr-fallback\"><pre>DecisionTreeClassifier(random_state=10)</pre><b>In a Jupyter environment, please rerun this cell to show the HTML representation or trust the notebook. <br />On GitHub, the HTML representation is unable to render, please try loading this page with nbviewer.org.</b></div><div class=\"sk-container\" hidden><div class=\"sk-item\"><div class=\"sk-estimator sk-toggleable\"><input class=\"sk-toggleable__control sk-hidden--visually\" id=\"sk-estimator-id-7\" type=\"checkbox\" checked><label for=\"sk-estimator-id-7\" class=\"sk-toggleable__label sk-toggleable__label-arrow\">DecisionTreeClassifier</label><div class=\"sk-toggleable__content\"><pre>DecisionTreeClassifier(random_state=10)</pre></div></div></div></div></div>"
      ],
      "text/plain": [
       "DecisionTreeClassifier(random_state=10)"
      ]
     },
     "execution_count": 261,
     "metadata": {},
     "output_type": "execute_result"
    }
   ],
   "source": [
    "# we are assigining the decision tree model to variables called dtc and dtc_smote\n",
    "dtc = DecisionTreeClassifier(random_state=10)\n",
    "dtc.fit(xtrain,ytrain)\n",
    "dtc_smote = DecisionTreeClassifier(random_state=10)\n",
    "dtc_smote.fit(xtrain_sm,ytrain_sm)"
   ]
  },
  {
   "cell_type": "code",
   "execution_count": 262,
   "id": "d7b0b11a",
   "metadata": {},
   "outputs": [],
   "source": [
    "# predicting the target variable using the models built\n",
    "ypred_dtc = dtc.predict(xtest)\n",
    "ypred_dtc_sm = dtc_smote.predict(xtest)"
   ]
  },
  {
   "cell_type": "code",
   "execution_count": 263,
   "id": "6730807a",
   "metadata": {},
   "outputs": [
    {
     "name": "stdout",
     "output_type": "stream",
     "text": [
      "              precision    recall  f1-score   support\n",
      "\n",
      "           0       1.00      1.00      1.00    502776\n",
      "           1       0.40      0.37      0.39      3582\n",
      "\n",
      "    accuracy                           0.99    506358\n",
      "   macro avg       0.70      0.68      0.69    506358\n",
      "weighted avg       0.99      0.99      0.99    506358\n",
      "\n"
     ]
    }
   ],
   "source": [
    "print(classification_report(ypred_dtc,ytest))"
   ]
  },
  {
   "cell_type": "code",
   "execution_count": 264,
   "id": "fa672fe2",
   "metadata": {},
   "outputs": [
    {
     "name": "stdout",
     "output_type": "stream",
     "text": [
      "              precision    recall  f1-score   support\n",
      "\n",
      "           0       0.39      1.00      0.56    195275\n",
      "           1       0.88      0.01      0.02    311083\n",
      "\n",
      "    accuracy                           0.39    506358\n",
      "   macro avg       0.63      0.50      0.29    506358\n",
      "weighted avg       0.69      0.39      0.23    506358\n",
      "\n"
     ]
    }
   ],
   "source": [
    "print(classification_report(ypred_dtc_sm,ytest))"
   ]
  },
  {
   "cell_type": "code",
   "execution_count": 265,
   "id": "1881be03",
   "metadata": {},
   "outputs": [
    {
     "data": {
      "text/plain": [
       "array([[500770,   2006],\n",
       "       [  2247,   1335]], dtype=int64)"
      ]
     },
     "execution_count": 265,
     "metadata": {},
     "output_type": "execute_result"
    }
   ],
   "source": [
    "confusion_matrix(ypred_dtc,ytest)"
   ]
  },
  {
   "cell_type": "code",
   "execution_count": 266,
   "id": "470c6bef",
   "metadata": {},
   "outputs": [
    {
     "data": {
      "text/plain": [
       "array([[194874,    401],\n",
       "       [308143,   2940]], dtype=int64)"
      ]
     },
     "execution_count": 266,
     "metadata": {},
     "output_type": "execute_result"
    }
   ],
   "source": [
    "confusion_matrix(ypred_dtc_sm,ytest)"
   ]
  },
  {
   "cell_type": "code",
   "execution_count": 267,
   "id": "b9989906",
   "metadata": {},
   "outputs": [
    {
     "data": {
      "image/png": "[encoded data removed]",
      "text/plain": [
       "<Figure size 432x288 with 1 Axes>"
      ]
     },
     "metadata": {
      "needs_background": "light"
     },
     "output_type": "display_data"
    }
   ],
   "source": [
    "fpr_dtc,tpr_dtc,throshold_dtc = roc_curve(ypred_dtc,ytest)\n",
    "plt.plot(fpr_dtc,tpr_dtc)\n",
    "plt.plot([0,1],[0,1],\"r--\")\n",
    "plt.text(x = 0.1,y = 0.8,s = (\"Roc Score\",round(roc_auc_score(ypred_dtc,ytest),2)))\n",
    "plt.grid()"
   ]
  },
  {
   "cell_type": "code",
   "execution_count": 268,
   "id": "064e2ddb",
   "metadata": {},
   "outputs": [
    {
     "data": {
      "image/png": "[encoded data removed]",
      "text/plain": [
       "<Figure size 432x288 with 1 Axes>"
      ]
     },
     "metadata": {
      "needs_background": "light"
     },
     "output_type": "display_data"
    }
   ],
   "source": [
    "fpr_dtc,tpr_dtc,throshold_dtc = roc_curve(ypred_dtc_sm,ytest)\n",
    "plt.plot(fpr_dtc,tpr_dtc)\n",
    "plt.plot([0,1],[0,1],\"r--\")\n",
    "plt.text(x = 0.1,y = 0.8,s = (\"Roc Score\",round(roc_auc_score(ypred_dtc_sm,ytest),2)))\n",
    "plt.grid()"
   ]
  },
  {
   "cell_type": "code",
   "execution_count": 269,
   "id": "29b17921",
   "metadata": {},
   "outputs": [],
   "source": [
    "update_score_card(dtc,\"Decision tree\")\n",
    "update_score_card(dtc_smote,\"Decision tree smoted\")"
   ]
  },
  {
   "cell_type": "code",
   "execution_count": 270,
   "id": "65d9939c",
   "metadata": {},
   "outputs": [
    {
     "data": {
      "text/html": [
       "<div>\n",
       "<style scoped>\n",
       "    .dataframe tbody tr th:only-of-type {\n",
       "        vertical-align: middle;\n",
       "    }\n",
       "\n",
       "    .dataframe tbody tr th {\n",
       "        vertical-align: top;\n",
       "    }\n",
       "\n",
       "    .dataframe thead th {\n",
       "        text-align: right;\n",
       "    }\n",
       "</style>\n",
       "<table border=\"1\" class=\"dataframe\">\n",
       "  <thead>\n",
       "    <tr style=\"text-align: right;\">\n",
       "      <th></th>\n",
       "      <th>Model Name</th>\n",
       "      <th>AUC Score</th>\n",
       "      <th>Precision Score</th>\n",
       "      <th>Recall Score</th>\n",
       "      <th>Accuracy Score</th>\n",
       "      <th>Kappa Score</th>\n",
       "      <th>f1-score</th>\n",
       "      <th>False Negatives</th>\n",
       "    </tr>\n",
       "  </thead>\n",
       "  <tbody>\n",
       "    <tr>\n",
       "      <th>0</th>\n",
       "      <td>Logistic regression</td>\n",
       "      <td>0.765939</td>\n",
       "      <td>0.002095</td>\n",
       "      <td>0.538462</td>\n",
       "      <td>0.993404</td>\n",
       "      <td>0.004123</td>\n",
       "      <td>0.004174</td>\n",
       "      <td>6.0</td>\n",
       "    </tr>\n",
       "    <tr>\n",
       "      <th>1</th>\n",
       "      <td>Logistic Regression Smoted</td>\n",
       "      <td>0.506957</td>\n",
       "      <td>0.955403</td>\n",
       "      <td>0.014436</td>\n",
       "      <td>0.569322</td>\n",
       "      <td>0.015645</td>\n",
       "      <td>0.028441</td>\n",
       "      <td>217928.0</td>\n",
       "    </tr>\n",
       "    <tr>\n",
       "      <th>2</th>\n",
       "      <td>Logistic regression vif treated</td>\n",
       "      <td>0.746705</td>\n",
       "      <td>0.001197</td>\n",
       "      <td>0.5</td>\n",
       "      <td>0.993402</td>\n",
       "      <td>0.002357</td>\n",
       "      <td>0.002389</td>\n",
       "      <td>4.0</td>\n",
       "    </tr>\n",
       "    <tr>\n",
       "      <th>3</th>\n",
       "      <td>Logistic Regression Smoted vif treated</td>\n",
       "      <td>0.506793</td>\n",
       "      <td>0.956001</td>\n",
       "      <td>0.014111</td>\n",
       "      <td>0.559012</td>\n",
       "      <td>0.015003</td>\n",
       "      <td>0.027812</td>\n",
       "      <td>223151.0</td>\n",
       "    </tr>\n",
       "    <tr>\n",
       "      <th>4</th>\n",
       "      <td>Decision tree</td>\n",
       "      <td>0.684353</td>\n",
       "      <td>0.399581</td>\n",
       "      <td>0.372697</td>\n",
       "      <td>0.991601</td>\n",
       "      <td>0.381448</td>\n",
       "      <td>0.385671</td>\n",
       "      <td>2247.0</td>\n",
       "    </tr>\n",
       "    <tr>\n",
       "      <th>5</th>\n",
       "      <td>Decision tree smoted</td>\n",
       "      <td>0.503699</td>\n",
       "      <td>0.879976</td>\n",
       "      <td>0.009451</td>\n",
       "      <td>0.39066</td>\n",
       "      <td>0.00572</td>\n",
       "      <td>0.018701</td>\n",
       "      <td>308143.0</td>\n",
       "    </tr>\n",
       "  </tbody>\n",
       "</table>\n",
       "</div>"
      ],
      "text/plain": [
       "                               Model Name AUC Score Precision Score  \\\n",
       "0                     Logistic regression  0.765939        0.002095   \n",
       "1              Logistic Regression Smoted  0.506957        0.955403   \n",
       "2         Logistic regression vif treated  0.746705        0.001197   \n",
       "3  Logistic Regression Smoted vif treated  0.506793        0.956001   \n",
       "4                           Decision tree  0.684353        0.399581   \n",
       "5                    Decision tree smoted  0.503699        0.879976   \n",
       "\n",
       "  Recall Score Accuracy Score Kappa Score  f1-score  False Negatives  \n",
       "0     0.538462       0.993404    0.004123  0.004174              6.0  \n",
       "1     0.014436       0.569322    0.015645  0.028441         217928.0  \n",
       "2          0.5       0.993402    0.002357  0.002389              4.0  \n",
       "3     0.014111       0.559012    0.015003  0.027812         223151.0  \n",
       "4     0.372697       0.991601    0.381448  0.385671           2247.0  \n",
       "5     0.009451        0.39066     0.00572  0.018701         308143.0  "
      ]
     },
     "execution_count": 270,
     "metadata": {},
     "output_type": "execute_result"
    }
   ],
   "source": [
    "df_scores"
   ]
  },
  {
   "cell_type": "markdown",
   "id": "421cfac2",
   "metadata": {},
   "source": [
    "# Random Forest"
   ]
  },
  {
   "cell_type": "markdown",
   "id": "74f89dcc",
   "metadata": {},
   "source": [
    "Building models on random forest "
   ]
  },
  {
   "cell_type": "code",
   "execution_count": 271,
   "id": "7bad6a52",
   "metadata": {},
   "outputs": [],
   "source": [
    "from sklearn.tree import DecisionTreeClassifier\n",
    "from sklearn.ensemble import GradientBoostingClassifier,RandomForestClassifier"
   ]
  },
  {
   "cell_type": "code",
   "execution_count": 272,
   "id": "ace1c378",
   "metadata": {},
   "outputs": [
    {
     "data": {
      "text/html": [
       "<style>#sk-container-id-8 {color: black;background-color: white;}#sk-container-id-8 pre{padding: 0;}#sk-container-id-8 div.sk-toggleable {background-color: white;}#sk-container-id-8 label.sk-toggleable__label {cursor: pointer;display: block;width: 100%;margin-bottom: 0;padding: 0.3em;box-sizing: border-box;text-align: center;}#sk-container-id-8 label.sk-toggleable__label-arrow:before {content: \"▸\";float: left;margin-right: 0.25em;color: #696969;}#sk-container-id-8 label.sk-toggleable__label-arrow:hover:before {color: black;}#sk-container-id-8 div.sk-estimator:hover label.sk-toggleable__label-arrow:before {color: black;}#sk-container-id-8 div.sk-toggleable__content {max-height: 0;max-width: 0;overflow: hidden;text-align: left;background-color: #f0f8ff;}#sk-container-id-8 div.sk-toggleable__content pre {margin: 0.2em;color: black;border-radius: 0.25em;background-color: #f0f8ff;}#sk-container-id-8 input.sk-toggleable__control:checked~div.sk-toggleable__content {max-height: 200px;max-width: 100%;overflow: auto;}#sk-container-id-8 input.sk-toggleable__control:checked~label.sk-toggleable__label-arrow:before {content: \"▾\";}#sk-container-id-8 div.sk-estimator input.sk-toggleable__control:checked~label.sk-toggleable__label {background-color: #d4ebff;}#sk-container-id-8 div.sk-label input.sk-toggleable__control:checked~label.sk-toggleable__label {background-color: #d4ebff;}#sk-container-id-8 input.sk-hidden--visually {border: 0;clip: rect(1px 1px 1px 1px);clip: rect(1px, 1px, 1px, 1px);height: 1px;margin: -1px;overflow: hidden;padding: 0;position: absolute;width: 1px;}#sk-container-id-8 div.sk-estimator {font-family: monospace;background-color: #f0f8ff;border: 1px dotted black;border-radius: 0.25em;box-sizing: border-box;margin-bottom: 0.5em;}#sk-container-id-8 div.sk-estimator:hover {background-color: #d4ebff;}#sk-container-id-8 div.sk-parallel-item::after {content: \"\";width: 100%;border-bottom: 1px solid gray;flex-grow: 1;}#sk-container-id-8 div.sk-label:hover label.sk-toggleable__label {background-color: #d4ebff;}#sk-container-id-8 div.sk-serial::before {content: \"\";position: absolute;border-left: 1px solid gray;box-sizing: border-box;top: 0;bottom: 0;left: 50%;z-index: 0;}#sk-container-id-8 div.sk-serial {display: flex;flex-direction: column;align-items: center;background-color: white;padding-right: 0.2em;padding-left: 0.2em;position: relative;}#sk-container-id-8 div.sk-item {position: relative;z-index: 1;}#sk-container-id-8 div.sk-parallel {display: flex;align-items: stretch;justify-content: center;background-color: white;position: relative;}#sk-container-id-8 div.sk-item::before, #sk-container-id-8 div.sk-parallel-item::before {content: \"\";position: absolute;border-left: 1px solid gray;box-sizing: border-box;top: 0;bottom: 0;left: 50%;z-index: -1;}#sk-container-id-8 div.sk-parallel-item {display: flex;flex-direction: column;z-index: 1;position: relative;background-color: white;}#sk-container-id-8 div.sk-parallel-item:first-child::after {align-self: flex-end;width: 50%;}#sk-container-id-8 div.sk-parallel-item:last-child::after {align-self: flex-start;width: 50%;}#sk-container-id-8 div.sk-parallel-item:only-child::after {width: 0;}#sk-container-id-8 div.sk-dashed-wrapped {border: 1px dashed gray;margin: 0 0.4em 0.5em 0.4em;box-sizing: border-box;padding-bottom: 0.4em;background-color: white;}#sk-container-id-8 div.sk-label label {font-family: monospace;font-weight: bold;display: inline-block;line-height: 1.2em;}#sk-container-id-8 div.sk-label-container {text-align: center;}#sk-container-id-8 div.sk-container {/* jupyter's `normalize.less` sets `[hidden] { display: none; }` but bootstrap.min.css set `[hidden] { display: none !important; }` so we also need the `!important` here to be able to override the default hidden behavior on the sphinx rendered scikit-learn.org. See: https://github.com/scikit-learn/scikit-learn/issues/21755 */display: inline-block !important;position: relative;}#sk-container-id-8 div.sk-text-repr-fallback {display: none;}</style><div id=\"sk-container-id-8\" class=\"sk-top-container\"><div class=\"sk-text-repr-fallback\"><pre>RandomForestClassifier(max_depth=8, max_features=None, n_jobs=-1)</pre><b>In a Jupyter environment, please rerun this cell to show the HTML representation or trust the notebook. <br />On GitHub, the HTML representation is unable to render, please try loading this page with nbviewer.org.</b></div><div class=\"sk-container\" hidden><div class=\"sk-item\"><div class=\"sk-estimator sk-toggleable\"><input class=\"sk-toggleable__control sk-hidden--visually\" id=\"sk-estimator-id-8\" type=\"checkbox\" checked><label for=\"sk-estimator-id-8\" class=\"sk-toggleable__label sk-toggleable__label-arrow\">RandomForestClassifier</label><div class=\"sk-toggleable__content\"><pre>RandomForestClassifier(max_depth=8, max_features=None, n_jobs=-1)</pre></div></div></div></div></div>"
      ],
      "text/plain": [
       "RandomForestClassifier(max_depth=8, max_features=None, n_jobs=-1)"
      ]
     },
     "execution_count": 272,
     "metadata": {},
     "output_type": "execute_result"
    }
   ],
   "source": [
    "# building two models one with the original dataset and the other using the smoted data\n",
    "ranfor_smote = RandomForestClassifier(n_estimators=100,class_weight=\"balanced\",n_jobs =-1,max_depth = 8,max_features = None)\n",
    "ranfor_smote.fit(xtrain_sm,ytrain_sm)\n",
    "ranfor = RandomForestClassifier(n_estimators=100,n_jobs =-1,max_depth = 8,max_features = None)\n",
    "ranfor.fit(xtrain,ytrain)"
   ]
  },
  {
   "cell_type": "code",
   "execution_count": 273,
   "id": "a3926edc",
   "metadata": {},
   "outputs": [],
   "source": [
    "#predicting the target variable using the models built\n",
    "y_pred_rf_sm = ranfor_smote.predict(xtest)\n",
    "y_pred_rf = ranfor.predict(xtest)"
   ]
  },
  {
   "cell_type": "markdown",
   "id": "9c15c8de",
   "metadata": {},
   "source": [
    "Classification report for the smoted Random forest model"
   ]
  },
  {
   "cell_type": "code",
   "execution_count": 274,
   "id": "8ea0eeee",
   "metadata": {},
   "outputs": [
    {
     "name": "stdout",
     "output_type": "stream",
     "text": [
      "              precision    recall  f1-score   support\n",
      "\n",
      "           0       0.60      1.00      0.75    302251\n",
      "           1       0.91      0.01      0.03    204107\n",
      "\n",
      "    accuracy                           0.60    506358\n",
      "   macro avg       0.76      0.51      0.39    506358\n",
      "weighted avg       0.73      0.60      0.46    506358\n",
      "\n"
     ]
    }
   ],
   "source": [
    "print(classification_report(y_pred_rf_sm,ytest))"
   ]
  },
  {
   "cell_type": "code",
   "execution_count": 275,
   "id": "354d969d",
   "metadata": {},
   "outputs": [
    {
     "data": {
      "text/plain": [
       "array([[301955,    296],\n",
       "       [201062,   3045]], dtype=int64)"
      ]
     },
     "execution_count": 275,
     "metadata": {},
     "output_type": "execute_result"
    }
   ],
   "source": [
    "confusion_matrix(y_pred_rf_sm,ytest)"
   ]
  },
  {
   "cell_type": "markdown",
   "id": "e9e76fe4",
   "metadata": {},
   "source": [
    "Classification report for the normal Random forest model"
   ]
  },
  {
   "cell_type": "code",
   "execution_count": 276,
   "id": "e091acfe",
   "metadata": {},
   "outputs": [
    {
     "name": "stdout",
     "output_type": "stream",
     "text": [
      "              precision    recall  f1-score   support\n",
      "\n",
      "           0       1.00      0.99      1.00    506335\n",
      "           1       0.00      0.52      0.01        23\n",
      "\n",
      "    accuracy                           0.99    506358\n",
      "   macro avg       0.50      0.76      0.50    506358\n",
      "weighted avg       1.00      0.99      1.00    506358\n",
      "\n"
     ]
    }
   ],
   "source": [
    "print(classification_report(y_pred_rf,ytest))"
   ]
  },
  {
   "cell_type": "code",
   "execution_count": 277,
   "id": "a6474702",
   "metadata": {},
   "outputs": [
    {
     "data": {
      "text/plain": [
       "array([[503006,   3329],\n",
       "       [    11,     12]], dtype=int64)"
      ]
     },
     "execution_count": 277,
     "metadata": {},
     "output_type": "execute_result"
    }
   ],
   "source": [
    "confusion_matrix(y_pred_rf,ytest)\n"
   ]
  },
  {
   "cell_type": "code",
   "execution_count": 278,
   "id": "b8598316",
   "metadata": {},
   "outputs": [
    {
     "data": {
      "image/png": "[encoded data removed]",
      "text/plain": [
       "<Figure size 432x288 with 1 Axes>"
      ]
     },
     "metadata": {
      "needs_background": "light"
     },
     "output_type": "display_data"
    }
   ],
   "source": [
    "fpr_lr,tpr_lr,throshold_lr = roc_curve(y_pred_rf_sm,ytest)\n",
    "plt.plot(fpr_lr,tpr_lr)\n",
    "plt.plot([0,1],[0,1],\"r--\")\n",
    "plt.text(x = 0.1,y = 0.8,s = (\"Roc Score\",round(roc_auc_score(y_pred_rf_sm,ytest),2)))\n",
    "plt.grid()"
   ]
  },
  {
   "cell_type": "code",
   "execution_count": 279,
   "id": "0bc83da7",
   "metadata": {},
   "outputs": [
    {
     "data": {
      "image/png": "[encoded data removed]",
      "text/plain": [
       "<Figure size 432x288 with 1 Axes>"
      ]
     },
     "metadata": {
      "needs_background": "light"
     },
     "output_type": "display_data"
    }
   ],
   "source": [
    "fpr_lr,tpr_lr,throshold_lr = roc_curve(y_pred_rf,ytest)\n",
    "plt.plot(fpr_lr,tpr_lr)\n",
    "plt.plot([0,1],[0,1],\"r--\")\n",
    "plt.text(x = 0.1,y = 0.8,s = (\"Roc Score\",round(roc_auc_score(y_pred_rf,ytest),2)))\n",
    "plt.grid()"
   ]
  },
  {
   "cell_type": "code",
   "execution_count": 280,
   "id": "9856b262",
   "metadata": {},
   "outputs": [],
   "source": [
    "update_score_card(ranfor,\"Random Forest\")\n",
    "update_score_card(ranfor_smote,\"Random Forest Smoted\")"
   ]
  },
  {
   "cell_type": "code",
   "execution_count": 281,
   "id": "fb9b2eb3",
   "metadata": {},
   "outputs": [
    {
     "data": {
      "text/html": [
       "<div>\n",
       "<style scoped>\n",
       "    .dataframe tbody tr th:only-of-type {\n",
       "        vertical-align: middle;\n",
       "    }\n",
       "\n",
       "    .dataframe tbody tr th {\n",
       "        vertical-align: top;\n",
       "    }\n",
       "\n",
       "    .dataframe thead th {\n",
       "        text-align: right;\n",
       "    }\n",
       "</style>\n",
       "<table border=\"1\" class=\"dataframe\">\n",
       "  <thead>\n",
       "    <tr style=\"text-align: right;\">\n",
       "      <th></th>\n",
       "      <th>Model Name</th>\n",
       "      <th>AUC Score</th>\n",
       "      <th>Precision Score</th>\n",
       "      <th>Recall Score</th>\n",
       "      <th>Accuracy Score</th>\n",
       "      <th>Kappa Score</th>\n",
       "      <th>f1-score</th>\n",
       "      <th>False Negatives</th>\n",
       "    </tr>\n",
       "  </thead>\n",
       "  <tbody>\n",
       "    <tr>\n",
       "      <th>0</th>\n",
       "      <td>Logistic regression</td>\n",
       "      <td>0.765939</td>\n",
       "      <td>0.002095</td>\n",
       "      <td>0.538462</td>\n",
       "      <td>0.993404</td>\n",
       "      <td>0.004123</td>\n",
       "      <td>0.004174</td>\n",
       "      <td>6.0</td>\n",
       "    </tr>\n",
       "    <tr>\n",
       "      <th>1</th>\n",
       "      <td>Logistic Regression Smoted</td>\n",
       "      <td>0.506957</td>\n",
       "      <td>0.955403</td>\n",
       "      <td>0.014436</td>\n",
       "      <td>0.569322</td>\n",
       "      <td>0.015645</td>\n",
       "      <td>0.028441</td>\n",
       "      <td>217928.0</td>\n",
       "    </tr>\n",
       "    <tr>\n",
       "      <th>2</th>\n",
       "      <td>Logistic regression vif treated</td>\n",
       "      <td>0.746705</td>\n",
       "      <td>0.001197</td>\n",
       "      <td>0.5</td>\n",
       "      <td>0.993402</td>\n",
       "      <td>0.002357</td>\n",
       "      <td>0.002389</td>\n",
       "      <td>4.0</td>\n",
       "    </tr>\n",
       "    <tr>\n",
       "      <th>3</th>\n",
       "      <td>Logistic Regression Smoted vif treated</td>\n",
       "      <td>0.506793</td>\n",
       "      <td>0.956001</td>\n",
       "      <td>0.014111</td>\n",
       "      <td>0.559012</td>\n",
       "      <td>0.015003</td>\n",
       "      <td>0.027812</td>\n",
       "      <td>223151.0</td>\n",
       "    </tr>\n",
       "    <tr>\n",
       "      <th>4</th>\n",
       "      <td>Decision tree</td>\n",
       "      <td>0.684353</td>\n",
       "      <td>0.399581</td>\n",
       "      <td>0.372697</td>\n",
       "      <td>0.991601</td>\n",
       "      <td>0.381448</td>\n",
       "      <td>0.385671</td>\n",
       "      <td>2247.0</td>\n",
       "    </tr>\n",
       "    <tr>\n",
       "      <th>5</th>\n",
       "      <td>Decision tree smoted</td>\n",
       "      <td>0.503699</td>\n",
       "      <td>0.879976</td>\n",
       "      <td>0.009451</td>\n",
       "      <td>0.39066</td>\n",
       "      <td>0.00572</td>\n",
       "      <td>0.018701</td>\n",
       "      <td>308143.0</td>\n",
       "    </tr>\n",
       "    <tr>\n",
       "      <th>6</th>\n",
       "      <td>Random Forest</td>\n",
       "      <td>0.757582</td>\n",
       "      <td>0.003592</td>\n",
       "      <td>0.521739</td>\n",
       "      <td>0.993404</td>\n",
       "      <td>0.007045</td>\n",
       "      <td>0.007134</td>\n",
       "      <td>11.0</td>\n",
       "    </tr>\n",
       "    <tr>\n",
       "      <th>7</th>\n",
       "      <td>Random Forest Smoted</td>\n",
       "      <td>0.50697</td>\n",
       "      <td>0.911404</td>\n",
       "      <td>0.014919</td>\n",
       "      <td>0.602341</td>\n",
       "      <td>0.016588</td>\n",
       "      <td>0.029357</td>\n",
       "      <td>201062.0</td>\n",
       "    </tr>\n",
       "  </tbody>\n",
       "</table>\n",
       "</div>"
      ],
      "text/plain": [
       "                               Model Name AUC Score Precision Score  \\\n",
       "0                     Logistic regression  0.765939        0.002095   \n",
       "1              Logistic Regression Smoted  0.506957        0.955403   \n",
       "2         Logistic regression vif treated  0.746705        0.001197   \n",
       "3  Logistic Regression Smoted vif treated  0.506793        0.956001   \n",
       "4                           Decision tree  0.684353        0.399581   \n",
       "5                    Decision tree smoted  0.503699        0.879976   \n",
       "6                           Random Forest  0.757582        0.003592   \n",
       "7                    Random Forest Smoted   0.50697        0.911404   \n",
       "\n",
       "  Recall Score Accuracy Score Kappa Score  f1-score  False Negatives  \n",
       "0     0.538462       0.993404    0.004123  0.004174              6.0  \n",
       "1     0.014436       0.569322    0.015645  0.028441         217928.0  \n",
       "2          0.5       0.993402    0.002357  0.002389              4.0  \n",
       "3     0.014111       0.559012    0.015003  0.027812         223151.0  \n",
       "4     0.372697       0.991601    0.381448  0.385671           2247.0  \n",
       "5     0.009451        0.39066     0.00572  0.018701         308143.0  \n",
       "6     0.521739       0.993404    0.007045  0.007134             11.0  \n",
       "7     0.014919       0.602341    0.016588  0.029357         201062.0  "
      ]
     },
     "execution_count": 281,
     "metadata": {},
     "output_type": "execute_result"
    }
   ],
   "source": [
    "df_scores"
   ]
  },
  {
   "cell_type": "code",
   "execution_count": null,
   "id": "cdb576bc",
   "metadata": {},
   "outputs": [],
   "source": []
  },
  {
   "cell_type": "markdown",
   "id": "7c7521df",
   "metadata": {},
   "source": [
    "# Naive Bayes model"
   ]
  },
  {
   "cell_type": "code",
   "execution_count": 282,
   "id": "388ed15e",
   "metadata": {},
   "outputs": [],
   "source": [
    "from sklearn.naive_bayes import GaussianNB"
   ]
  },
  {
   "cell_type": "code",
   "execution_count": 283,
   "id": "6ab0e8f9",
   "metadata": {},
   "outputs": [
    {
     "data": {
      "text/html": [
       "<style>#sk-container-id-9 {color: black;background-color: white;}#sk-container-id-9 pre{padding: 0;}#sk-container-id-9 div.sk-toggleable {background-color: white;}#sk-container-id-9 label.sk-toggleable__label {cursor: pointer;display: block;width: 100%;margin-bottom: 0;padding: 0.3em;box-sizing: border-box;text-align: center;}#sk-container-id-9 label.sk-toggleable__label-arrow:before {content: \"▸\";float: left;margin-right: 0.25em;color: #696969;}#sk-container-id-9 label.sk-toggleable__label-arrow:hover:before {color: black;}#sk-container-id-9 div.sk-estimator:hover label.sk-toggleable__label-arrow:before {color: black;}#sk-container-id-9 div.sk-toggleable__content {max-height: 0;max-width: 0;overflow: hidden;text-align: left;background-color: #f0f8ff;}#sk-container-id-9 div.sk-toggleable__content pre {margin: 0.2em;color: black;border-radius: 0.25em;background-color: #f0f8ff;}#sk-container-id-9 input.sk-toggleable__control:checked~div.sk-toggleable__content {max-height: 200px;max-width: 100%;overflow: auto;}#sk-container-id-9 input.sk-toggleable__control:checked~label.sk-toggleable__label-arrow:before {content: \"▾\";}#sk-container-id-9 div.sk-estimator input.sk-toggleable__control:checked~label.sk-toggleable__label {background-color: #d4ebff;}#sk-container-id-9 div.sk-label input.sk-toggleable__control:checked~label.sk-toggleable__label {background-color: #d4ebff;}#sk-container-id-9 input.sk-hidden--visually {border: 0;clip: rect(1px 1px 1px 1px);clip: rect(1px, 1px, 1px, 1px);height: 1px;margin: -1px;overflow: hidden;padding: 0;position: absolute;width: 1px;}#sk-container-id-9 div.sk-estimator {font-family: monospace;background-color: #f0f8ff;border: 1px dotted black;border-radius: 0.25em;box-sizing: border-box;margin-bottom: 0.5em;}#sk-container-id-9 div.sk-estimator:hover {background-color: #d4ebff;}#sk-container-id-9 div.sk-parallel-item::after {content: \"\";width: 100%;border-bottom: 1px solid gray;flex-grow: 1;}#sk-container-id-9 div.sk-label:hover label.sk-toggleable__label {background-color: #d4ebff;}#sk-container-id-9 div.sk-serial::before {content: \"\";position: absolute;border-left: 1px solid gray;box-sizing: border-box;top: 0;bottom: 0;left: 50%;z-index: 0;}#sk-container-id-9 div.sk-serial {display: flex;flex-direction: column;align-items: center;background-color: white;padding-right: 0.2em;padding-left: 0.2em;position: relative;}#sk-container-id-9 div.sk-item {position: relative;z-index: 1;}#sk-container-id-9 div.sk-parallel {display: flex;align-items: stretch;justify-content: center;background-color: white;position: relative;}#sk-container-id-9 div.sk-item::before, #sk-container-id-9 div.sk-parallel-item::before {content: \"\";position: absolute;border-left: 1px solid gray;box-sizing: border-box;top: 0;bottom: 0;left: 50%;z-index: -1;}#sk-container-id-9 div.sk-parallel-item {display: flex;flex-direction: column;z-index: 1;position: relative;background-color: white;}#sk-container-id-9 div.sk-parallel-item:first-child::after {align-self: flex-end;width: 50%;}#sk-container-id-9 div.sk-parallel-item:last-child::after {align-self: flex-start;width: 50%;}#sk-container-id-9 div.sk-parallel-item:only-child::after {width: 0;}#sk-container-id-9 div.sk-dashed-wrapped {border: 1px dashed gray;margin: 0 0.4em 0.5em 0.4em;box-sizing: border-box;padding-bottom: 0.4em;background-color: white;}#sk-container-id-9 div.sk-label label {font-family: monospace;font-weight: bold;display: inline-block;line-height: 1.2em;}#sk-container-id-9 div.sk-label-container {text-align: center;}#sk-container-id-9 div.sk-container {/* jupyter's `normalize.less` sets `[hidden] { display: none; }` but bootstrap.min.css set `[hidden] { display: none !important; }` so we also need the `!important` here to be able to override the default hidden behavior on the sphinx rendered scikit-learn.org. See: https://github.com/scikit-learn/scikit-learn/issues/21755 */display: inline-block !important;position: relative;}#sk-container-id-9 div.sk-text-repr-fallback {display: none;}</style><div id=\"sk-container-id-9\" class=\"sk-top-container\"><div class=\"sk-text-repr-fallback\"><pre>GaussianNB()</pre><b>In a Jupyter environment, please rerun this cell to show the HTML representation or trust the notebook. <br />On GitHub, the HTML representation is unable to render, please try loading this page with nbviewer.org.</b></div><div class=\"sk-container\" hidden><div class=\"sk-item\"><div class=\"sk-estimator sk-toggleable\"><input class=\"sk-toggleable__control sk-hidden--visually\" id=\"sk-estimator-id-9\" type=\"checkbox\" checked><label for=\"sk-estimator-id-9\" class=\"sk-toggleable__label sk-toggleable__label-arrow\">GaussianNB</label><div class=\"sk-toggleable__content\"><pre>GaussianNB()</pre></div></div></div></div></div>"
      ],
      "text/plain": [
       "GaussianNB()"
      ]
     },
     "execution_count": 283,
     "metadata": {},
     "output_type": "execute_result"
    }
   ],
   "source": [
    "# creating two models one using the original data and the other using the smoted dataset\n",
    "gnb = GaussianNB()\n",
    "gnb.fit(xtrain, ytrain)\n",
    "\n",
    "gnb_SMOTE = GaussianNB()\n",
    "gnb_SMOTE.fit(xtrain_sm, ytrain_sm)"
   ]
  },
  {
   "cell_type": "code",
   "execution_count": 284,
   "id": "9b1d2c4d",
   "metadata": {},
   "outputs": [],
   "source": [
    "#predicting the target variable usinig the models built\n",
    "y_pred_gnb_sm = gnb_SMOTE.predict(xtest)\n",
    "y_pred_gnb = gnb.predict(xtest)"
   ]
  },
  {
   "cell_type": "code",
   "execution_count": 285,
   "id": "d67aa605",
   "metadata": {},
   "outputs": [
    {
     "name": "stdout",
     "output_type": "stream",
     "text": [
      "              precision    recall  f1-score   support\n",
      "\n",
      "           0       0.82      1.00      0.90    414385\n",
      "           1       0.48      0.02      0.03     91973\n",
      "\n",
      "    accuracy                           0.82    506358\n",
      "   macro avg       0.65      0.51      0.47    506358\n",
      "weighted avg       0.76      0.82      0.74    506358\n",
      "\n"
     ]
    }
   ],
   "source": [
    "print(classification_report(y_pred_gnb_sm,ytest))"
   ]
  },
  {
   "cell_type": "code",
   "execution_count": 286,
   "id": "9b9b2a53",
   "metadata": {},
   "outputs": [
    {
     "name": "stdout",
     "output_type": "stream",
     "text": [
      "              precision    recall  f1-score   support\n",
      "\n",
      "           0       0.91      1.00      0.95    458286\n",
      "           1       0.45      0.03      0.06     48072\n",
      "\n",
      "    accuracy                           0.90    506358\n",
      "   macro avg       0.68      0.51      0.50    506358\n",
      "weighted avg       0.86      0.90      0.87    506358\n",
      "\n"
     ]
    }
   ],
   "source": [
    "print(classification_report(y_pred_gnb,ytest))"
   ]
  },
  {
   "cell_type": "code",
   "execution_count": 287,
   "id": "ea1c0a18",
   "metadata": {},
   "outputs": [
    {
     "data": {
      "text/plain": [
       "array([[412648,   1737],\n",
       "       [ 90369,   1604]], dtype=int64)"
      ]
     },
     "execution_count": 287,
     "metadata": {},
     "output_type": "execute_result"
    }
   ],
   "source": [
    "confusion_matrix(y_pred_gnb_sm,ytest)"
   ]
  },
  {
   "cell_type": "code",
   "execution_count": 288,
   "id": "e1733c38",
   "metadata": {},
   "outputs": [
    {
     "data": {
      "text/plain": [
       "array([[456463,   1823],\n",
       "       [ 46554,   1518]], dtype=int64)"
      ]
     },
     "execution_count": 288,
     "metadata": {},
     "output_type": "execute_result"
    }
   ],
   "source": [
    "confusion_matrix(y_pred_gnb,ytest)"
   ]
  },
  {
   "cell_type": "code",
   "execution_count": 289,
   "id": "822e37f7",
   "metadata": {},
   "outputs": [
    {
     "data": {
      "image/png": "[encoded data removed]",
      "text/plain": [
       "<Figure size 432x288 with 1 Axes>"
      ]
     },
     "metadata": {
      "needs_background": "light"
     },
     "output_type": "display_data"
    }
   ],
   "source": [
    "fpr_lr,tpr_lr,throshold_lr = roc_curve(y_pred_gnb_sm,ytest)\n",
    "plt.plot(fpr_lr,tpr_lr)\n",
    "plt.plot([0,1],[0,1],\"r--\")\n",
    "plt.text(x = 0.1,y = 0.8,s = (\"Roc Score\",round(roc_auc_score(y_pred_gnb_sm,ytest),2)))\n",
    "plt.grid()"
   ]
  },
  {
   "cell_type": "code",
   "execution_count": 290,
   "id": "eaa6e815",
   "metadata": {},
   "outputs": [
    {
     "data": {
      "image/png": "[encoded data removed]",
      "text/plain": [
       "<Figure size 432x288 with 1 Axes>"
      ]
     },
     "metadata": {
      "needs_background": "light"
     },
     "output_type": "display_data"
    }
   ],
   "source": [
    "fpr_lr,tpr_lr,throshold_lr = roc_curve(y_pred_gnb,ytest)\n",
    "plt.plot(fpr_lr,tpr_lr)\n",
    "plt.plot([0,1],[0,1],\"r--\")\n",
    "plt.text(x = 0.1,y = 0.8,s = (\"Roc Score\",round(roc_auc_score(y_pred_gnb,ytest),2)))\n",
    "plt.grid()"
   ]
  },
  {
   "cell_type": "code",
   "execution_count": 291,
   "id": "4f694311",
   "metadata": {},
   "outputs": [],
   "source": [
    "update_score_card(gnb,\"Gaussian Naive bayes\")\n",
    "update_score_card(gnb_SMOTE,\"Gaussian Naive bayes smoted\")"
   ]
  },
  {
   "cell_type": "code",
   "execution_count": 292,
   "id": "e831f549",
   "metadata": {},
   "outputs": [
    {
     "data": {
      "text/html": [
       "<div>\n",
       "<style scoped>\n",
       "    .dataframe tbody tr th:only-of-type {\n",
       "        vertical-align: middle;\n",
       "    }\n",
       "\n",
       "    .dataframe tbody tr th {\n",
       "        vertical-align: top;\n",
       "    }\n",
       "\n",
       "    .dataframe thead th {\n",
       "        text-align: right;\n",
       "    }\n",
       "</style>\n",
       "<table border=\"1\" class=\"dataframe\">\n",
       "  <thead>\n",
       "    <tr style=\"text-align: right;\">\n",
       "      <th></th>\n",
       "      <th>Model Name</th>\n",
       "      <th>AUC Score</th>\n",
       "      <th>Precision Score</th>\n",
       "      <th>Recall Score</th>\n",
       "      <th>Accuracy Score</th>\n",
       "      <th>Kappa Score</th>\n",
       "      <th>f1-score</th>\n",
       "      <th>False Negatives</th>\n",
       "    </tr>\n",
       "  </thead>\n",
       "  <tbody>\n",
       "    <tr>\n",
       "      <th>0</th>\n",
       "      <td>Logistic regression</td>\n",
       "      <td>0.765939</td>\n",
       "      <td>0.002095</td>\n",
       "      <td>0.538462</td>\n",
       "      <td>0.993404</td>\n",
       "      <td>0.004123</td>\n",
       "      <td>0.004174</td>\n",
       "      <td>6.0</td>\n",
       "    </tr>\n",
       "    <tr>\n",
       "      <th>1</th>\n",
       "      <td>Logistic Regression Smoted</td>\n",
       "      <td>0.506957</td>\n",
       "      <td>0.955403</td>\n",
       "      <td>0.014436</td>\n",
       "      <td>0.569322</td>\n",
       "      <td>0.015645</td>\n",
       "      <td>0.028441</td>\n",
       "      <td>217928.0</td>\n",
       "    </tr>\n",
       "    <tr>\n",
       "      <th>2</th>\n",
       "      <td>Logistic regression vif treated</td>\n",
       "      <td>0.746705</td>\n",
       "      <td>0.001197</td>\n",
       "      <td>0.5</td>\n",
       "      <td>0.993402</td>\n",
       "      <td>0.002357</td>\n",
       "      <td>0.002389</td>\n",
       "      <td>4.0</td>\n",
       "    </tr>\n",
       "    <tr>\n",
       "      <th>3</th>\n",
       "      <td>Logistic Regression Smoted vif treated</td>\n",
       "      <td>0.506793</td>\n",
       "      <td>0.956001</td>\n",
       "      <td>0.014111</td>\n",
       "      <td>0.559012</td>\n",
       "      <td>0.015003</td>\n",
       "      <td>0.027812</td>\n",
       "      <td>223151.0</td>\n",
       "    </tr>\n",
       "    <tr>\n",
       "      <th>4</th>\n",
       "      <td>Decision tree</td>\n",
       "      <td>0.684353</td>\n",
       "      <td>0.399581</td>\n",
       "      <td>0.372697</td>\n",
       "      <td>0.991601</td>\n",
       "      <td>0.381448</td>\n",
       "      <td>0.385671</td>\n",
       "      <td>2247.0</td>\n",
       "    </tr>\n",
       "    <tr>\n",
       "      <th>5</th>\n",
       "      <td>Decision tree smoted</td>\n",
       "      <td>0.503699</td>\n",
       "      <td>0.879976</td>\n",
       "      <td>0.009451</td>\n",
       "      <td>0.39066</td>\n",
       "      <td>0.00572</td>\n",
       "      <td>0.018701</td>\n",
       "      <td>308143.0</td>\n",
       "    </tr>\n",
       "    <tr>\n",
       "      <th>6</th>\n",
       "      <td>Random Forest</td>\n",
       "      <td>0.757582</td>\n",
       "      <td>0.003592</td>\n",
       "      <td>0.521739</td>\n",
       "      <td>0.993404</td>\n",
       "      <td>0.007045</td>\n",
       "      <td>0.007134</td>\n",
       "      <td>11.0</td>\n",
       "    </tr>\n",
       "    <tr>\n",
       "      <th>7</th>\n",
       "      <td>Random Forest Smoted</td>\n",
       "      <td>0.50697</td>\n",
       "      <td>0.911404</td>\n",
       "      <td>0.014919</td>\n",
       "      <td>0.602341</td>\n",
       "      <td>0.016588</td>\n",
       "      <td>0.029357</td>\n",
       "      <td>201062.0</td>\n",
       "    </tr>\n",
       "    <tr>\n",
       "      <th>8</th>\n",
       "      <td>Gaussian Naive bayes</td>\n",
       "      <td>0.5138</td>\n",
       "      <td>0.454355</td>\n",
       "      <td>0.031578</td>\n",
       "      <td>0.904461</td>\n",
       "      <td>0.047296</td>\n",
       "      <td>0.059051</td>\n",
       "      <td>46554.0</td>\n",
       "    </tr>\n",
       "    <tr>\n",
       "      <th>9</th>\n",
       "      <td>Gaussian Naive bayes smoted</td>\n",
       "      <td>0.506624</td>\n",
       "      <td>0.480096</td>\n",
       "      <td>0.01744</td>\n",
       "      <td>0.818101</td>\n",
       "      <td>0.021193</td>\n",
       "      <td>0.033657</td>\n",
       "      <td>90369.0</td>\n",
       "    </tr>\n",
       "  </tbody>\n",
       "</table>\n",
       "</div>"
      ],
      "text/plain": [
       "                               Model Name AUC Score Precision Score  \\\n",
       "0                     Logistic regression  0.765939        0.002095   \n",
       "1              Logistic Regression Smoted  0.506957        0.955403   \n",
       "2         Logistic regression vif treated  0.746705        0.001197   \n",
       "3  Logistic Regression Smoted vif treated  0.506793        0.956001   \n",
       "4                           Decision tree  0.684353        0.399581   \n",
       "5                    Decision tree smoted  0.503699        0.879976   \n",
       "6                           Random Forest  0.757582        0.003592   \n",
       "7                    Random Forest Smoted   0.50697        0.911404   \n",
       "8                    Gaussian Naive bayes    0.5138        0.454355   \n",
       "9             Gaussian Naive bayes smoted  0.506624        0.480096   \n",
       "\n",
       "  Recall Score Accuracy Score Kappa Score  f1-score  False Negatives  \n",
       "0     0.538462       0.993404    0.004123  0.004174              6.0  \n",
       "1     0.014436       0.569322    0.015645  0.028441         217928.0  \n",
       "2          0.5       0.993402    0.002357  0.002389              4.0  \n",
       "3     0.014111       0.559012    0.015003  0.027812         223151.0  \n",
       "4     0.372697       0.991601    0.381448  0.385671           2247.0  \n",
       "5     0.009451        0.39066     0.00572  0.018701         308143.0  \n",
       "6     0.521739       0.993404    0.007045  0.007134             11.0  \n",
       "7     0.014919       0.602341    0.016588  0.029357         201062.0  \n",
       "8     0.031578       0.904461    0.047296  0.059051          46554.0  \n",
       "9      0.01744       0.818101    0.021193  0.033657          90369.0  "
      ]
     },
     "execution_count": 292,
     "metadata": {},
     "output_type": "execute_result"
    }
   ],
   "source": [
    "df_scores"
   ]
  },
  {
   "cell_type": "code",
   "execution_count": null,
   "id": "3d5c9604",
   "metadata": {},
   "outputs": [],
   "source": []
  },
  {
   "cell_type": "markdown",
   "id": "43fcf7d6",
   "metadata": {},
   "source": [
    "# XGBoost Classifier"
   ]
  },
  {
   "cell_type": "code",
   "execution_count": 293,
   "id": "46b2c871",
   "metadata": {},
   "outputs": [],
   "source": [
    "from xgboost import XGBClassifier"
   ]
  },
  {
   "cell_type": "code",
   "execution_count": 294,
   "id": "27aad027",
   "metadata": {},
   "outputs": [
    {
     "data": {
      "text/html": [
       "<style>#sk-container-id-10 {color: black;background-color: white;}#sk-container-id-10 pre{padding: 0;}#sk-container-id-10 div.sk-toggleable {background-color: white;}#sk-container-id-10 label.sk-toggleable__label {cursor: pointer;display: block;width: 100%;margin-bottom: 0;padding: 0.3em;box-sizing: border-box;text-align: center;}#sk-container-id-10 label.sk-toggleable__label-arrow:before {content: \"▸\";float: left;margin-right: 0.25em;color: #696969;}#sk-container-id-10 label.sk-toggleable__label-arrow:hover:before {color: black;}#sk-container-id-10 div.sk-estimator:hover label.sk-toggleable__label-arrow:before {color: black;}#sk-container-id-10 div.sk-toggleable__content {max-height: 0;max-width: 0;overflow: hidden;text-align: left;background-color: #f0f8ff;}#sk-container-id-10 div.sk-toggleable__content pre {margin: 0.2em;color: black;border-radius: 0.25em;background-color: #f0f8ff;}#sk-container-id-10 input.sk-toggleable__control:checked~div.sk-toggleable__content {max-height: 200px;max-width: 100%;overflow: auto;}#sk-container-id-10 input.sk-toggleable__control:checked~label.sk-toggleable__label-arrow:before {content: \"▾\";}#sk-container-id-10 div.sk-estimator input.sk-toggleable__control:checked~label.sk-toggleable__label {background-color: #d4ebff;}#sk-container-id-10 div.sk-label input.sk-toggleable__control:checked~label.sk-toggleable__label {background-color: #d4ebff;}#sk-container-id-10 input.sk-hidden--visually {border: 0;clip: rect(1px 1px 1px 1px);clip: rect(1px, 1px, 1px, 1px);height: 1px;margin: -1px;overflow: hidden;padding: 0;position: absolute;width: 1px;}#sk-container-id-10 div.sk-estimator {font-family: monospace;background-color: #f0f8ff;border: 1px dotted black;border-radius: 0.25em;box-sizing: border-box;margin-bottom: 0.5em;}#sk-container-id-10 div.sk-estimator:hover {background-color: #d4ebff;}#sk-container-id-10 div.sk-parallel-item::after {content: \"\";width: 100%;border-bottom: 1px solid gray;flex-grow: 1;}#sk-container-id-10 div.sk-label:hover label.sk-toggleable__label {background-color: #d4ebff;}#sk-container-id-10 div.sk-serial::before {content: \"\";position: absolute;border-left: 1px solid gray;box-sizing: border-box;top: 0;bottom: 0;left: 50%;z-index: 0;}#sk-container-id-10 div.sk-serial {display: flex;flex-direction: column;align-items: center;background-color: white;padding-right: 0.2em;padding-left: 0.2em;position: relative;}#sk-container-id-10 div.sk-item {position: relative;z-index: 1;}#sk-container-id-10 div.sk-parallel {display: flex;align-items: stretch;justify-content: center;background-color: white;position: relative;}#sk-container-id-10 div.sk-item::before, #sk-container-id-10 div.sk-parallel-item::before {content: \"\";position: absolute;border-left: 1px solid gray;box-sizing: border-box;top: 0;bottom: 0;left: 50%;z-index: -1;}#sk-container-id-10 div.sk-parallel-item {display: flex;flex-direction: column;z-index: 1;position: relative;background-color: white;}#sk-container-id-10 div.sk-parallel-item:first-child::after {align-self: flex-end;width: 50%;}#sk-container-id-10 div.sk-parallel-item:last-child::after {align-self: flex-start;width: 50%;}#sk-container-id-10 div.sk-parallel-item:only-child::after {width: 0;}#sk-container-id-10 div.sk-dashed-wrapped {border: 1px dashed gray;margin: 0 0.4em 0.5em 0.4em;box-sizing: border-box;padding-bottom: 0.4em;background-color: white;}#sk-container-id-10 div.sk-label label {font-family: monospace;font-weight: bold;display: inline-block;line-height: 1.2em;}#sk-container-id-10 div.sk-label-container {text-align: center;}#sk-container-id-10 div.sk-container {/* jupyter's `normalize.less` sets `[hidden] { display: none; }` but bootstrap.min.css set `[hidden] { display: none !important; }` so we also need the `!important` here to be able to override the default hidden behavior on the sphinx rendered scikit-learn.org. See: https://github.com/scikit-learn/scikit-learn/issues/21755 */display: inline-block !important;position: relative;}#sk-container-id-10 div.sk-text-repr-fallback {display: none;}</style><div id=\"sk-container-id-10\" class=\"sk-top-container\"><div class=\"sk-text-repr-fallback\"><pre>XGBClassifier(base_score=0.5, booster=&#x27;gbtree&#x27;, callbacks=None,\n",
       "              colsample_bylevel=1, colsample_bynode=1, colsample_bytree=1,\n",
       "              early_stopping_rounds=None, enable_categorical=False,\n",
       "              eval_metric=None, gamma=0, gpu_id=-1, grow_policy=&#x27;depthwise&#x27;,\n",
       "              importance_type=None, interaction_constraints=&#x27;&#x27;,\n",
       "              learning_rate=0.300000012, max_bin=256, max_cat_to_onehot=4,\n",
       "              max_delta_step=0, max_depth=6, max_leaves=0, min_child_weight=1,\n",
       "              missing=nan, monotone_constraints=&#x27;()&#x27;, n_estimators=100,\n",
       "              n_jobs=0, num_parallel_tree=1, predictor=&#x27;auto&#x27;, random_state=0,\n",
       "              reg_alpha=0, reg_lambda=1, ...)</pre><b>In a Jupyter environment, please rerun this cell to show the HTML representation or trust the notebook. <br />On GitHub, the HTML representation is unable to render, please try loading this page with nbviewer.org.</b></div><div class=\"sk-container\" hidden><div class=\"sk-item\"><div class=\"sk-estimator sk-toggleable\"><input class=\"sk-toggleable__control sk-hidden--visually\" id=\"sk-estimator-id-10\" type=\"checkbox\" checked><label for=\"sk-estimator-id-10\" class=\"sk-toggleable__label sk-toggleable__label-arrow\">XGBClassifier</label><div class=\"sk-toggleable__content\"><pre>XGBClassifier(base_score=0.5, booster=&#x27;gbtree&#x27;, callbacks=None,\n",
       "              colsample_bylevel=1, colsample_bynode=1, colsample_bytree=1,\n",
       "              early_stopping_rounds=None, enable_categorical=False,\n",
       "              eval_metric=None, gamma=0, gpu_id=-1, grow_policy=&#x27;depthwise&#x27;,\n",
       "              importance_type=None, interaction_constraints=&#x27;&#x27;,\n",
       "              learning_rate=0.300000012, max_bin=256, max_cat_to_onehot=4,\n",
       "              max_delta_step=0, max_depth=6, max_leaves=0, min_child_weight=1,\n",
       "              missing=nan, monotone_constraints=&#x27;()&#x27;, n_estimators=100,\n",
       "              n_jobs=0, num_parallel_tree=1, predictor=&#x27;auto&#x27;, random_state=0,\n",
       "              reg_alpha=0, reg_lambda=1, ...)</pre></div></div></div></div></div>"
      ],
      "text/plain": [
       "XGBClassifier(base_score=0.5, booster='gbtree', callbacks=None,\n",
       "              colsample_bylevel=1, colsample_bynode=1, colsample_bytree=1,\n",
       "              early_stopping_rounds=None, enable_categorical=False,\n",
       "              eval_metric=None, gamma=0, gpu_id=-1, grow_policy='depthwise',\n",
       "              importance_type=None, interaction_constraints='',\n",
       "              learning_rate=0.300000012, max_bin=256, max_cat_to_onehot=4,\n",
       "              max_delta_step=0, max_depth=6, max_leaves=0, min_child_weight=1,\n",
       "              missing=nan, monotone_constraints='()', n_estimators=100,\n",
       "              n_jobs=0, num_parallel_tree=1, predictor='auto', random_state=0,\n",
       "              reg_alpha=0, reg_lambda=1, ...)"
      ]
     },
     "execution_count": 294,
     "metadata": {},
     "output_type": "execute_result"
    }
   ],
   "source": [
    "# creating two models one using the original data and the other using the smoted dataset\n",
    "xgboost = XGBClassifier()\n",
    "xgboost.fit(xtrain,ytrain)\n",
    "xgboost_sm = XGBClassifier()\n",
    "xgboost_sm.fit(xtrain_sm,ytrain_sm)"
   ]
  },
  {
   "cell_type": "code",
   "execution_count": 295,
   "id": "aff51d53",
   "metadata": {},
   "outputs": [],
   "source": [
    "# predicting the target variables using the models built\n",
    "y_pred_xgb_sm = xgboost_sm.predict(xtest)\n",
    "y_pred_xgb = xgboost.predict(xtest)"
   ]
  },
  {
   "cell_type": "code",
   "execution_count": 296,
   "id": "5bdc4265",
   "metadata": {},
   "outputs": [
    {
     "name": "stdout",
     "output_type": "stream",
     "text": [
      "              precision    recall  f1-score   support\n",
      "\n",
      "           0       0.11      1.00      0.20     54861\n",
      "           1       0.99      0.01      0.01    451497\n",
      "\n",
      "    accuracy                           0.11    506358\n",
      "   macro avg       0.55      0.50      0.11    506358\n",
      "weighted avg       0.90      0.11      0.03    506358\n",
      "\n"
     ]
    }
   ],
   "source": [
    "print(classification_report(y_pred_xgb_sm,ytest))"
   ]
  },
  {
   "cell_type": "code",
   "execution_count": 297,
   "id": "418a95e6",
   "metadata": {},
   "outputs": [
    {
     "name": "stdout",
     "output_type": "stream",
     "text": [
      "              precision    recall  f1-score   support\n",
      "\n",
      "           0       1.00      0.99      1.00    505951\n",
      "           1       0.08      0.65      0.14       407\n",
      "\n",
      "    accuracy                           0.99    506358\n",
      "   macro avg       0.54      0.82      0.57    506358\n",
      "weighted avg       1.00      0.99      1.00    506358\n",
      "\n"
     ]
    }
   ],
   "source": [
    "print(classification_report(y_pred_xgb,ytest))"
   ]
  },
  {
   "cell_type": "code",
   "execution_count": 298,
   "id": "489b46c0",
   "metadata": {},
   "outputs": [
    {
     "data": {
      "text/plain": [
       "array([[ 54830,     31],\n",
       "       [448187,   3310]], dtype=int64)"
      ]
     },
     "execution_count": 298,
     "metadata": {},
     "output_type": "execute_result"
    }
   ],
   "source": [
    "confusion_matrix(y_pred_xgb_sm,ytest)"
   ]
  },
  {
   "cell_type": "code",
   "execution_count": 299,
   "id": "9a501c62",
   "metadata": {},
   "outputs": [
    {
     "data": {
      "text/plain": [
       "array([[502875,   3076],\n",
       "       [   142,    265]], dtype=int64)"
      ]
     },
     "execution_count": 299,
     "metadata": {},
     "output_type": "execute_result"
    }
   ],
   "source": [
    "confusion_matrix(y_pred_xgb,ytest)"
   ]
  },
  {
   "cell_type": "code",
   "execution_count": 300,
   "id": "041bcc80",
   "metadata": {},
   "outputs": [
    {
     "data": {
      "image/png": "[encoded data removed]",
      "text/plain": [
       "<Figure size 432x288 with 1 Axes>"
      ]
     },
     "metadata": {
      "needs_background": "light"
     },
     "output_type": "display_data"
    }
   ],
   "source": [
    "fpr_lr,tpr_lr,throshold_lr = roc_curve(y_pred_xgb_sm,ytest)\n",
    "plt.plot(fpr_lr,tpr_lr)\n",
    "plt.plot([0,1],[0,1],\"r--\")\n",
    "plt.text(x = 0.1,y = 0.8,s = (\"Roc Score\",round(roc_auc_score(y_pred_xgb_sm,ytest),2)))\n",
    "plt.grid()"
   ]
  },
  {
   "cell_type": "code",
   "execution_count": 301,
   "id": "7290f8e9",
   "metadata": {},
   "outputs": [
    {
     "data": {
      "image/png": "[encoded data removed]",
      "text/plain": [
       "<Figure size 432x288 with 1 Axes>"
      ]
     },
     "metadata": {
      "needs_background": "light"
     },
     "output_type": "display_data"
    }
   ],
   "source": [
    "fpr_lr,tpr_lr,throshold_lr = roc_curve(y_pred_xgb,ytest)\n",
    "plt.plot(fpr_lr,tpr_lr)\n",
    "plt.plot([0,1],[0,1],\"r--\")\n",
    "plt.text(x = 0.1,y = 0.8,s = (\"Roc Score\",round(roc_auc_score(y_pred_xgb,ytest),2)))\n",
    "plt.grid()"
   ]
  },
  {
   "cell_type": "code",
   "execution_count": 302,
   "id": "50383fbb",
   "metadata": {},
   "outputs": [],
   "source": [
    "update_score_card(xgboost,\"XGBOOST\")\n",
    "update_score_card(xgboost_sm,\"XGBOOST Smoted\")"
   ]
  },
  {
   "cell_type": "code",
   "execution_count": 303,
   "id": "13fa7062",
   "metadata": {},
   "outputs": [
    {
     "data": {
      "text/html": [
       "<div>\n",
       "<style scoped>\n",
       "    .dataframe tbody tr th:only-of-type {\n",
       "        vertical-align: middle;\n",
       "    }\n",
       "\n",
       "    .dataframe tbody tr th {\n",
       "        vertical-align: top;\n",
       "    }\n",
       "\n",
       "    .dataframe thead th {\n",
       "        text-align: right;\n",
       "    }\n",
       "</style>\n",
       "<table border=\"1\" class=\"dataframe\">\n",
       "  <thead>\n",
       "    <tr style=\"text-align: right;\">\n",
       "      <th></th>\n",
       "      <th>Model Name</th>\n",
       "      <th>AUC Score</th>\n",
       "      <th>Precision Score</th>\n",
       "      <th>Recall Score</th>\n",
       "      <th>Accuracy Score</th>\n",
       "      <th>Kappa Score</th>\n",
       "      <th>f1-score</th>\n",
       "      <th>False Negatives</th>\n",
       "    </tr>\n",
       "  </thead>\n",
       "  <tbody>\n",
       "    <tr>\n",
       "      <th>0</th>\n",
       "      <td>Logistic regression</td>\n",
       "      <td>0.765939</td>\n",
       "      <td>0.002095</td>\n",
       "      <td>0.538462</td>\n",
       "      <td>0.993404</td>\n",
       "      <td>0.004123</td>\n",
       "      <td>0.004174</td>\n",
       "      <td>6.0</td>\n",
       "    </tr>\n",
       "    <tr>\n",
       "      <th>1</th>\n",
       "      <td>Logistic Regression Smoted</td>\n",
       "      <td>0.506957</td>\n",
       "      <td>0.955403</td>\n",
       "      <td>0.014436</td>\n",
       "      <td>0.569322</td>\n",
       "      <td>0.015645</td>\n",
       "      <td>0.028441</td>\n",
       "      <td>217928.0</td>\n",
       "    </tr>\n",
       "    <tr>\n",
       "      <th>2</th>\n",
       "      <td>Logistic regression vif treated</td>\n",
       "      <td>0.746705</td>\n",
       "      <td>0.001197</td>\n",
       "      <td>0.5</td>\n",
       "      <td>0.993402</td>\n",
       "      <td>0.002357</td>\n",
       "      <td>0.002389</td>\n",
       "      <td>4.0</td>\n",
       "    </tr>\n",
       "    <tr>\n",
       "      <th>3</th>\n",
       "      <td>Logistic Regression Smoted vif treated</td>\n",
       "      <td>0.506793</td>\n",
       "      <td>0.956001</td>\n",
       "      <td>0.014111</td>\n",
       "      <td>0.559012</td>\n",
       "      <td>0.015003</td>\n",
       "      <td>0.027812</td>\n",
       "      <td>223151.0</td>\n",
       "    </tr>\n",
       "    <tr>\n",
       "      <th>4</th>\n",
       "      <td>Decision tree</td>\n",
       "      <td>0.684353</td>\n",
       "      <td>0.399581</td>\n",
       "      <td>0.372697</td>\n",
       "      <td>0.991601</td>\n",
       "      <td>0.381448</td>\n",
       "      <td>0.385671</td>\n",
       "      <td>2247.0</td>\n",
       "    </tr>\n",
       "    <tr>\n",
       "      <th>5</th>\n",
       "      <td>Decision tree smoted</td>\n",
       "      <td>0.503699</td>\n",
       "      <td>0.879976</td>\n",
       "      <td>0.009451</td>\n",
       "      <td>0.39066</td>\n",
       "      <td>0.00572</td>\n",
       "      <td>0.018701</td>\n",
       "      <td>308143.0</td>\n",
       "    </tr>\n",
       "    <tr>\n",
       "      <th>6</th>\n",
       "      <td>Random Forest</td>\n",
       "      <td>0.757582</td>\n",
       "      <td>0.003592</td>\n",
       "      <td>0.521739</td>\n",
       "      <td>0.993404</td>\n",
       "      <td>0.007045</td>\n",
       "      <td>0.007134</td>\n",
       "      <td>11.0</td>\n",
       "    </tr>\n",
       "    <tr>\n",
       "      <th>7</th>\n",
       "      <td>Random Forest Smoted</td>\n",
       "      <td>0.50697</td>\n",
       "      <td>0.911404</td>\n",
       "      <td>0.014919</td>\n",
       "      <td>0.602341</td>\n",
       "      <td>0.016588</td>\n",
       "      <td>0.029357</td>\n",
       "      <td>201062.0</td>\n",
       "    </tr>\n",
       "    <tr>\n",
       "      <th>8</th>\n",
       "      <td>Gaussian Naive bayes</td>\n",
       "      <td>0.5138</td>\n",
       "      <td>0.454355</td>\n",
       "      <td>0.031578</td>\n",
       "      <td>0.904461</td>\n",
       "      <td>0.047296</td>\n",
       "      <td>0.059051</td>\n",
       "      <td>46554.0</td>\n",
       "    </tr>\n",
       "    <tr>\n",
       "      <th>9</th>\n",
       "      <td>Gaussian Naive bayes smoted</td>\n",
       "      <td>0.506624</td>\n",
       "      <td>0.480096</td>\n",
       "      <td>0.01744</td>\n",
       "      <td>0.818101</td>\n",
       "      <td>0.021193</td>\n",
       "      <td>0.033657</td>\n",
       "      <td>90369.0</td>\n",
       "    </tr>\n",
       "    <tr>\n",
       "      <th>10</th>\n",
       "      <td>XGBOOST</td>\n",
       "      <td>0.822513</td>\n",
       "      <td>0.079318</td>\n",
       "      <td>0.651106</td>\n",
       "      <td>0.993645</td>\n",
       "      <td>0.140177</td>\n",
       "      <td>0.141409</td>\n",
       "      <td>142.0</td>\n",
       "    </tr>\n",
       "    <tr>\n",
       "      <th>11</th>\n",
       "      <td>XGBOOST Smoted</td>\n",
       "      <td>0.503383</td>\n",
       "      <td>0.990721</td>\n",
       "      <td>0.007331</td>\n",
       "      <td>0.11482</td>\n",
       "      <td>0.001475</td>\n",
       "      <td>0.014555</td>\n",
       "      <td>448187.0</td>\n",
       "    </tr>\n",
       "  </tbody>\n",
       "</table>\n",
       "</div>"
      ],
      "text/plain": [
       "                                Model Name AUC Score Precision Score  \\\n",
       "0                      Logistic regression  0.765939        0.002095   \n",
       "1               Logistic Regression Smoted  0.506957        0.955403   \n",
       "2          Logistic regression vif treated  0.746705        0.001197   \n",
       "3   Logistic Regression Smoted vif treated  0.506793        0.956001   \n",
       "4                            Decision tree  0.684353        0.399581   \n",
       "5                     Decision tree smoted  0.503699        0.879976   \n",
       "6                            Random Forest  0.757582        0.003592   \n",
       "7                     Random Forest Smoted   0.50697        0.911404   \n",
       "8                     Gaussian Naive bayes    0.5138        0.454355   \n",
       "9              Gaussian Naive bayes smoted  0.506624        0.480096   \n",
       "10                                 XGBOOST  0.822513        0.079318   \n",
       "11                          XGBOOST Smoted  0.503383        0.990721   \n",
       "\n",
       "   Recall Score Accuracy Score Kappa Score  f1-score  False Negatives  \n",
       "0      0.538462       0.993404    0.004123  0.004174              6.0  \n",
       "1      0.014436       0.569322    0.015645  0.028441         217928.0  \n",
       "2           0.5       0.993402    0.002357  0.002389              4.0  \n",
       "3      0.014111       0.559012    0.015003  0.027812         223151.0  \n",
       "4      0.372697       0.991601    0.381448  0.385671           2247.0  \n",
       "5      0.009451        0.39066     0.00572  0.018701         308143.0  \n",
       "6      0.521739       0.993404    0.007045  0.007134             11.0  \n",
       "7      0.014919       0.602341    0.016588  0.029357         201062.0  \n",
       "8      0.031578       0.904461    0.047296  0.059051          46554.0  \n",
       "9       0.01744       0.818101    0.021193  0.033657          90369.0  \n",
       "10     0.651106       0.993645    0.140177  0.141409            142.0  \n",
       "11     0.007331        0.11482    0.001475  0.014555         448187.0  "
      ]
     },
     "execution_count": 303,
     "metadata": {},
     "output_type": "execute_result"
    }
   ],
   "source": [
    "df_scores"
   ]
  },
  {
   "cell_type": "markdown",
   "id": "9fb414ba",
   "metadata": {},
   "source": [
    "# Ada Boost"
   ]
  },
  {
   "cell_type": "code",
   "execution_count": 304,
   "id": "8c35f628",
   "metadata": {},
   "outputs": [
    {
     "data": {
      "text/html": [
       "<style>#sk-container-id-11 {color: black;background-color: white;}#sk-container-id-11 pre{padding: 0;}#sk-container-id-11 div.sk-toggleable {background-color: white;}#sk-container-id-11 label.sk-toggleable__label {cursor: pointer;display: block;width: 100%;margin-bottom: 0;padding: 0.3em;box-sizing: border-box;text-align: center;}#sk-container-id-11 label.sk-toggleable__label-arrow:before {content: \"▸\";float: left;margin-right: 0.25em;color: #696969;}#sk-container-id-11 label.sk-toggleable__label-arrow:hover:before {color: black;}#sk-container-id-11 div.sk-estimator:hover label.sk-toggleable__label-arrow:before {color: black;}#sk-container-id-11 div.sk-toggleable__content {max-height: 0;max-width: 0;overflow: hidden;text-align: left;background-color: #f0f8ff;}#sk-container-id-11 div.sk-toggleable__content pre {margin: 0.2em;color: black;border-radius: 0.25em;background-color: #f0f8ff;}#sk-container-id-11 input.sk-toggleable__control:checked~div.sk-toggleable__content {max-height: 200px;max-width: 100%;overflow: auto;}#sk-container-id-11 input.sk-toggleable__control:checked~label.sk-toggleable__label-arrow:before {content: \"▾\";}#sk-container-id-11 div.sk-estimator input.sk-toggleable__control:checked~label.sk-toggleable__label {background-color: #d4ebff;}#sk-container-id-11 div.sk-label input.sk-toggleable__control:checked~label.sk-toggleable__label {background-color: #d4ebff;}#sk-container-id-11 input.sk-hidden--visually {border: 0;clip: rect(1px 1px 1px 1px);clip: rect(1px, 1px, 1px, 1px);height: 1px;margin: -1px;overflow: hidden;padding: 0;position: absolute;width: 1px;}#sk-container-id-11 div.sk-estimator {font-family: monospace;background-color: #f0f8ff;border: 1px dotted black;border-radius: 0.25em;box-sizing: border-box;margin-bottom: 0.5em;}#sk-container-id-11 div.sk-estimator:hover {background-color: #d4ebff;}#sk-container-id-11 div.sk-parallel-item::after {content: \"\";width: 100%;border-bottom: 1px solid gray;flex-grow: 1;}#sk-container-id-11 div.sk-label:hover label.sk-toggleable__label {background-color: #d4ebff;}#sk-container-id-11 div.sk-serial::before {content: \"\";position: absolute;border-left: 1px solid gray;box-sizing: border-box;top: 0;bottom: 0;left: 50%;z-index: 0;}#sk-container-id-11 div.sk-serial {display: flex;flex-direction: column;align-items: center;background-color: white;padding-right: 0.2em;padding-left: 0.2em;position: relative;}#sk-container-id-11 div.sk-item {position: relative;z-index: 1;}#sk-container-id-11 div.sk-parallel {display: flex;align-items: stretch;justify-content: center;background-color: white;position: relative;}#sk-container-id-11 div.sk-item::before, #sk-container-id-11 div.sk-parallel-item::before {content: \"\";position: absolute;border-left: 1px solid gray;box-sizing: border-box;top: 0;bottom: 0;left: 50%;z-index: -1;}#sk-container-id-11 div.sk-parallel-item {display: flex;flex-direction: column;z-index: 1;position: relative;background-color: white;}#sk-container-id-11 div.sk-parallel-item:first-child::after {align-self: flex-end;width: 50%;}#sk-container-id-11 div.sk-parallel-item:last-child::after {align-self: flex-start;width: 50%;}#sk-container-id-11 div.sk-parallel-item:only-child::after {width: 0;}#sk-container-id-11 div.sk-dashed-wrapped {border: 1px dashed gray;margin: 0 0.4em 0.5em 0.4em;box-sizing: border-box;padding-bottom: 0.4em;background-color: white;}#sk-container-id-11 div.sk-label label {font-family: monospace;font-weight: bold;display: inline-block;line-height: 1.2em;}#sk-container-id-11 div.sk-label-container {text-align: center;}#sk-container-id-11 div.sk-container {/* jupyter's `normalize.less` sets `[hidden] { display: none; }` but bootstrap.min.css set `[hidden] { display: none !important; }` so we also need the `!important` here to be able to override the default hidden behavior on the sphinx rendered scikit-learn.org. See: https://github.com/scikit-learn/scikit-learn/issues/21755 */display: inline-block !important;position: relative;}#sk-container-id-11 div.sk-text-repr-fallback {display: none;}</style><div id=\"sk-container-id-11\" class=\"sk-top-container\"><div class=\"sk-text-repr-fallback\"><pre>AdaBoostClassifier(random_state=10)</pre><b>In a Jupyter environment, please rerun this cell to show the HTML representation or trust the notebook. <br />On GitHub, the HTML representation is unable to render, please try loading this page with nbviewer.org.</b></div><div class=\"sk-container\" hidden><div class=\"sk-item\"><div class=\"sk-estimator sk-toggleable\"><input class=\"sk-toggleable__control sk-hidden--visually\" id=\"sk-estimator-id-11\" type=\"checkbox\" checked><label for=\"sk-estimator-id-11\" class=\"sk-toggleable__label sk-toggleable__label-arrow\">AdaBoostClassifier</label><div class=\"sk-toggleable__content\"><pre>AdaBoostClassifier(random_state=10)</pre></div></div></div></div></div>"
      ],
      "text/plain": [
       "AdaBoostClassifier(random_state=10)"
      ]
     },
     "execution_count": 304,
     "metadata": {},
     "output_type": "execute_result"
    }
   ],
   "source": [
    "# creating two models one using the original data and the other using the smoted dataset\n",
    "ada_model = AdaBoostClassifier( random_state = 10)\n",
    "ada_model.fit(xtrain, ytrain)\n",
    "ada_model_sm = AdaBoostClassifier( random_state = 10)\n",
    "ada_model_sm.fit(xtrain_sm, ytrain_sm)"
   ]
  },
  {
   "cell_type": "code",
   "execution_count": 305,
   "id": "0baa9d98",
   "metadata": {},
   "outputs": [],
   "source": [
    "#predicting the target variable using the models built\n",
    "y_pred_ada_sm = ada_model_sm.predict(xtest)\n",
    "y_pred_ada = ada_model.predict(xtest)"
   ]
  },
  {
   "cell_type": "code",
   "execution_count": 306,
   "id": "62d3be11",
   "metadata": {},
   "outputs": [
    {
     "name": "stdout",
     "output_type": "stream",
     "text": [
      "              precision    recall  f1-score   support\n",
      "\n",
      "           0       0.38      1.00      0.55    193134\n",
      "           1       0.98      0.01      0.02    313224\n",
      "\n",
      "    accuracy                           0.39    506358\n",
      "   macro avg       0.68      0.50      0.29    506358\n",
      "weighted avg       0.75      0.39      0.22    506358\n",
      "\n"
     ]
    }
   ],
   "source": [
    "print(classification_report(y_pred_ada_sm,ytest))"
   ]
  },
  {
   "cell_type": "code",
   "execution_count": 307,
   "id": "2fa5b0e2",
   "metadata": {},
   "outputs": [
    {
     "name": "stdout",
     "output_type": "stream",
     "text": [
      "              precision    recall  f1-score   support\n",
      "\n",
      "           0       1.00      0.99      1.00    505922\n",
      "           1       0.04      0.28      0.06       436\n",
      "\n",
      "    accuracy                           0.99    506358\n",
      "   macro avg       0.52      0.64      0.53    506358\n",
      "weighted avg       1.00      0.99      1.00    506358\n",
      "\n"
     ]
    }
   ],
   "source": [
    "print(classification_report(y_pred_ada,ytest))"
   ]
  },
  {
   "cell_type": "code",
   "execution_count": 308,
   "id": "a4341dbf",
   "metadata": {},
   "outputs": [
    {
     "data": {
      "text/plain": [
       "array([[193052,     82],\n",
       "       [309965,   3259]], dtype=int64)"
      ]
     },
     "execution_count": 308,
     "metadata": {},
     "output_type": "execute_result"
    }
   ],
   "source": [
    "confusion_matrix(y_pred_ada_sm,ytest)"
   ]
  },
  {
   "cell_type": "code",
   "execution_count": 309,
   "id": "5ff5c059",
   "metadata": {},
   "outputs": [
    {
     "data": {
      "text/plain": [
       "array([[502703,   3219],\n",
       "       [   314,    122]], dtype=int64)"
      ]
     },
     "execution_count": 309,
     "metadata": {},
     "output_type": "execute_result"
    }
   ],
   "source": [
    "confusion_matrix(y_pred_ada,ytest)"
   ]
  },
  {
   "cell_type": "code",
   "execution_count": 310,
   "id": "ba02038a",
   "metadata": {},
   "outputs": [
    {
     "data": {
      "image/png": "[encoded data removed]",
      "text/plain": [
       "<Figure size 432x288 with 1 Axes>"
      ]
     },
     "metadata": {
      "needs_background": "light"
     },
     "output_type": "display_data"
    }
   ],
   "source": [
    "fpr_lr,tpr_lr,throshold_lr = roc_curve(y_pred_ada_sm,ytest)\n",
    "plt.plot(fpr_lr,tpr_lr)\n",
    "plt.plot([0,1],[0,1],\"r--\")\n",
    "plt.text(x = 0.1,y = 0.8,s = (\"Roc Score\",round(roc_auc_score(y_pred_ada_sm,ytest),2)))\n",
    "plt.grid()"
   ]
  },
  {
   "cell_type": "code",
   "execution_count": 311,
   "id": "0fe000d7",
   "metadata": {},
   "outputs": [
    {
     "data": {
      "image/png": "[encoded data removed]",
      "text/plain": [
       "<Figure size 432x288 with 1 Axes>"
      ]
     },
     "metadata": {
      "needs_background": "light"
     },
     "output_type": "display_data"
    }
   ],
   "source": [
    "fpr_lr,tpr_lr,throshold_lr = roc_curve(y_pred_ada,ytest)\n",
    "plt.plot(fpr_lr,tpr_lr)\n",
    "plt.plot([0,1],[0,1],\"r--\")\n",
    "plt.text(x = 0.1,y = 0.8,s = (\"Roc Score\",round(roc_auc_score(y_pred_ada,ytest),2)))\n",
    "plt.grid()"
   ]
  },
  {
   "cell_type": "code",
   "execution_count": 312,
   "id": "8af3869e",
   "metadata": {},
   "outputs": [],
   "source": [
    "update_score_card(ada_model,\"Ada Boost\")\n",
    "update_score_card(ada_model_sm,\"Ada Boost Smoted\")"
   ]
  },
  {
   "cell_type": "code",
   "execution_count": 313,
   "id": "281d5a14",
   "metadata": {},
   "outputs": [
    {
     "data": {
      "text/html": [
       "<div>\n",
       "<style scoped>\n",
       "    .dataframe tbody tr th:only-of-type {\n",
       "        vertical-align: middle;\n",
       "    }\n",
       "\n",
       "    .dataframe tbody tr th {\n",
       "        vertical-align: top;\n",
       "    }\n",
       "\n",
       "    .dataframe thead th {\n",
       "        text-align: right;\n",
       "    }\n",
       "</style>\n",
       "<table border=\"1\" class=\"dataframe\">\n",
       "  <thead>\n",
       "    <tr style=\"text-align: right;\">\n",
       "      <th></th>\n",
       "      <th>Model Name</th>\n",
       "      <th>AUC Score</th>\n",
       "      <th>Precision Score</th>\n",
       "      <th>Recall Score</th>\n",
       "      <th>Accuracy Score</th>\n",
       "      <th>Kappa Score</th>\n",
       "      <th>f1-score</th>\n",
       "      <th>False Negatives</th>\n",
       "    </tr>\n",
       "  </thead>\n",
       "  <tbody>\n",
       "    <tr>\n",
       "      <th>0</th>\n",
       "      <td>Logistic regression</td>\n",
       "      <td>0.765939</td>\n",
       "      <td>0.002095</td>\n",
       "      <td>0.538462</td>\n",
       "      <td>0.993404</td>\n",
       "      <td>0.004123</td>\n",
       "      <td>0.004174</td>\n",
       "      <td>6.0</td>\n",
       "    </tr>\n",
       "    <tr>\n",
       "      <th>1</th>\n",
       "      <td>Logistic Regression Smoted</td>\n",
       "      <td>0.506957</td>\n",
       "      <td>0.955403</td>\n",
       "      <td>0.014436</td>\n",
       "      <td>0.569322</td>\n",
       "      <td>0.015645</td>\n",
       "      <td>0.028441</td>\n",
       "      <td>217928.0</td>\n",
       "    </tr>\n",
       "    <tr>\n",
       "      <th>2</th>\n",
       "      <td>Logistic regression vif treated</td>\n",
       "      <td>0.746705</td>\n",
       "      <td>0.001197</td>\n",
       "      <td>0.5</td>\n",
       "      <td>0.993402</td>\n",
       "      <td>0.002357</td>\n",
       "      <td>0.002389</td>\n",
       "      <td>4.0</td>\n",
       "    </tr>\n",
       "    <tr>\n",
       "      <th>3</th>\n",
       "      <td>Logistic Regression Smoted vif treated</td>\n",
       "      <td>0.506793</td>\n",
       "      <td>0.956001</td>\n",
       "      <td>0.014111</td>\n",
       "      <td>0.559012</td>\n",
       "      <td>0.015003</td>\n",
       "      <td>0.027812</td>\n",
       "      <td>223151.0</td>\n",
       "    </tr>\n",
       "    <tr>\n",
       "      <th>4</th>\n",
       "      <td>Decision tree</td>\n",
       "      <td>0.684353</td>\n",
       "      <td>0.399581</td>\n",
       "      <td>0.372697</td>\n",
       "      <td>0.991601</td>\n",
       "      <td>0.381448</td>\n",
       "      <td>0.385671</td>\n",
       "      <td>2247.0</td>\n",
       "    </tr>\n",
       "    <tr>\n",
       "      <th>5</th>\n",
       "      <td>Decision tree smoted</td>\n",
       "      <td>0.503699</td>\n",
       "      <td>0.879976</td>\n",
       "      <td>0.009451</td>\n",
       "      <td>0.39066</td>\n",
       "      <td>0.00572</td>\n",
       "      <td>0.018701</td>\n",
       "      <td>308143.0</td>\n",
       "    </tr>\n",
       "    <tr>\n",
       "      <th>6</th>\n",
       "      <td>Random Forest</td>\n",
       "      <td>0.757582</td>\n",
       "      <td>0.003592</td>\n",
       "      <td>0.521739</td>\n",
       "      <td>0.993404</td>\n",
       "      <td>0.007045</td>\n",
       "      <td>0.007134</td>\n",
       "      <td>11.0</td>\n",
       "    </tr>\n",
       "    <tr>\n",
       "      <th>7</th>\n",
       "      <td>Random Forest Smoted</td>\n",
       "      <td>0.50697</td>\n",
       "      <td>0.911404</td>\n",
       "      <td>0.014919</td>\n",
       "      <td>0.602341</td>\n",
       "      <td>0.016588</td>\n",
       "      <td>0.029357</td>\n",
       "      <td>201062.0</td>\n",
       "    </tr>\n",
       "    <tr>\n",
       "      <th>8</th>\n",
       "      <td>Gaussian Naive bayes</td>\n",
       "      <td>0.5138</td>\n",
       "      <td>0.454355</td>\n",
       "      <td>0.031578</td>\n",
       "      <td>0.904461</td>\n",
       "      <td>0.047296</td>\n",
       "      <td>0.059051</td>\n",
       "      <td>46554.0</td>\n",
       "    </tr>\n",
       "    <tr>\n",
       "      <th>9</th>\n",
       "      <td>Gaussian Naive bayes smoted</td>\n",
       "      <td>0.506624</td>\n",
       "      <td>0.480096</td>\n",
       "      <td>0.01744</td>\n",
       "      <td>0.818101</td>\n",
       "      <td>0.021193</td>\n",
       "      <td>0.033657</td>\n",
       "      <td>90369.0</td>\n",
       "    </tr>\n",
       "    <tr>\n",
       "      <th>10</th>\n",
       "      <td>XGBOOST</td>\n",
       "      <td>0.822513</td>\n",
       "      <td>0.079318</td>\n",
       "      <td>0.651106</td>\n",
       "      <td>0.993645</td>\n",
       "      <td>0.140177</td>\n",
       "      <td>0.141409</td>\n",
       "      <td>142.0</td>\n",
       "    </tr>\n",
       "    <tr>\n",
       "      <th>11</th>\n",
       "      <td>XGBOOST Smoted</td>\n",
       "      <td>0.503383</td>\n",
       "      <td>0.990721</td>\n",
       "      <td>0.007331</td>\n",
       "      <td>0.11482</td>\n",
       "      <td>0.001475</td>\n",
       "      <td>0.014555</td>\n",
       "      <td>448187.0</td>\n",
       "    </tr>\n",
       "    <tr>\n",
       "      <th>12</th>\n",
       "      <td>Ada Boost</td>\n",
       "      <td>0.636727</td>\n",
       "      <td>0.036516</td>\n",
       "      <td>0.279817</td>\n",
       "      <td>0.993023</td>\n",
       "      <td>0.063174</td>\n",
       "      <td>0.064602</td>\n",
       "      <td>314.0</td>\n",
       "    </tr>\n",
       "    <tr>\n",
       "      <th>13</th>\n",
       "      <td>Ada Boost Smoted</td>\n",
       "      <td>0.50499</td>\n",
       "      <td>0.975456</td>\n",
       "      <td>0.010405</td>\n",
       "      <td>0.387692</td>\n",
       "      <td>0.007632</td>\n",
       "      <td>0.02059</td>\n",
       "      <td>309965.0</td>\n",
       "    </tr>\n",
       "  </tbody>\n",
       "</table>\n",
       "</div>"
      ],
      "text/plain": [
       "                                Model Name AUC Score Precision Score  \\\n",
       "0                      Logistic regression  0.765939        0.002095   \n",
       "1               Logistic Regression Smoted  0.506957        0.955403   \n",
       "2          Logistic regression vif treated  0.746705        0.001197   \n",
       "3   Logistic Regression Smoted vif treated  0.506793        0.956001   \n",
       "4                            Decision tree  0.684353        0.399581   \n",
       "5                     Decision tree smoted  0.503699        0.879976   \n",
       "6                            Random Forest  0.757582        0.003592   \n",
       "7                     Random Forest Smoted   0.50697        0.911404   \n",
       "8                     Gaussian Naive bayes    0.5138        0.454355   \n",
       "9              Gaussian Naive bayes smoted  0.506624        0.480096   \n",
       "10                                 XGBOOST  0.822513        0.079318   \n",
       "11                          XGBOOST Smoted  0.503383        0.990721   \n",
       "12                               Ada Boost  0.636727        0.036516   \n",
       "13                        Ada Boost Smoted   0.50499        0.975456   \n",
       "\n",
       "   Recall Score Accuracy Score Kappa Score  f1-score  False Negatives  \n",
       "0      0.538462       0.993404    0.004123  0.004174              6.0  \n",
       "1      0.014436       0.569322    0.015645  0.028441         217928.0  \n",
       "2           0.5       0.993402    0.002357  0.002389              4.0  \n",
       "3      0.014111       0.559012    0.015003  0.027812         223151.0  \n",
       "4      0.372697       0.991601    0.381448  0.385671           2247.0  \n",
       "5      0.009451        0.39066     0.00572  0.018701         308143.0  \n",
       "6      0.521739       0.993404    0.007045  0.007134             11.0  \n",
       "7      0.014919       0.602341    0.016588  0.029357         201062.0  \n",
       "8      0.031578       0.904461    0.047296  0.059051          46554.0  \n",
       "9       0.01744       0.818101    0.021193  0.033657          90369.0  \n",
       "10     0.651106       0.993645    0.140177  0.141409            142.0  \n",
       "11     0.007331        0.11482    0.001475  0.014555         448187.0  \n",
       "12     0.279817       0.993023    0.063174  0.064602            314.0  \n",
       "13     0.010405       0.387692    0.007632   0.02059         309965.0  "
      ]
     },
     "execution_count": 313,
     "metadata": {},
     "output_type": "execute_result"
    }
   ],
   "source": [
    "df_scores"
   ]
  },
  {
   "cell_type": "markdown",
   "id": "bde9a533",
   "metadata": {},
   "source": [
    "# Gradient Boosting"
   ]
  },
  {
   "cell_type": "code",
   "execution_count": 314,
   "id": "dc679e67",
   "metadata": {},
   "outputs": [
    {
     "data": {
      "text/html": [
       "<style>#sk-container-id-12 {color: black;background-color: white;}#sk-container-id-12 pre{padding: 0;}#sk-container-id-12 div.sk-toggleable {background-color: white;}#sk-container-id-12 label.sk-toggleable__label {cursor: pointer;display: block;width: 100%;margin-bottom: 0;padding: 0.3em;box-sizing: border-box;text-align: center;}#sk-container-id-12 label.sk-toggleable__label-arrow:before {content: \"▸\";float: left;margin-right: 0.25em;color: #696969;}#sk-container-id-12 label.sk-toggleable__label-arrow:hover:before {color: black;}#sk-container-id-12 div.sk-estimator:hover label.sk-toggleable__label-arrow:before {color: black;}#sk-container-id-12 div.sk-toggleable__content {max-height: 0;max-width: 0;overflow: hidden;text-align: left;background-color: #f0f8ff;}#sk-container-id-12 div.sk-toggleable__content pre {margin: 0.2em;color: black;border-radius: 0.25em;background-color: #f0f8ff;}#sk-container-id-12 input.sk-toggleable__control:checked~div.sk-toggleable__content {max-height: 200px;max-width: 100%;overflow: auto;}#sk-container-id-12 input.sk-toggleable__control:checked~label.sk-toggleable__label-arrow:before {content: \"▾\";}#sk-container-id-12 div.sk-estimator input.sk-toggleable__control:checked~label.sk-toggleable__label {background-color: #d4ebff;}#sk-container-id-12 div.sk-label input.sk-toggleable__control:checked~label.sk-toggleable__label {background-color: #d4ebff;}#sk-container-id-12 input.sk-hidden--visually {border: 0;clip: rect(1px 1px 1px 1px);clip: rect(1px, 1px, 1px, 1px);height: 1px;margin: -1px;overflow: hidden;padding: 0;position: absolute;width: 1px;}#sk-container-id-12 div.sk-estimator {font-family: monospace;background-color: #f0f8ff;border: 1px dotted black;border-radius: 0.25em;box-sizing: border-box;margin-bottom: 0.5em;}#sk-container-id-12 div.sk-estimator:hover {background-color: #d4ebff;}#sk-container-id-12 div.sk-parallel-item::after {content: \"\";width: 100%;border-bottom: 1px solid gray;flex-grow: 1;}#sk-container-id-12 div.sk-label:hover label.sk-toggleable__label {background-color: #d4ebff;}#sk-container-id-12 div.sk-serial::before {content: \"\";position: absolute;border-left: 1px solid gray;box-sizing: border-box;top: 0;bottom: 0;left: 50%;z-index: 0;}#sk-container-id-12 div.sk-serial {display: flex;flex-direction: column;align-items: center;background-color: white;padding-right: 0.2em;padding-left: 0.2em;position: relative;}#sk-container-id-12 div.sk-item {position: relative;z-index: 1;}#sk-container-id-12 div.sk-parallel {display: flex;align-items: stretch;justify-content: center;background-color: white;position: relative;}#sk-container-id-12 div.sk-item::before, #sk-container-id-12 div.sk-parallel-item::before {content: \"\";position: absolute;border-left: 1px solid gray;box-sizing: border-box;top: 0;bottom: 0;left: 50%;z-index: -1;}#sk-container-id-12 div.sk-parallel-item {display: flex;flex-direction: column;z-index: 1;position: relative;background-color: white;}#sk-container-id-12 div.sk-parallel-item:first-child::after {align-self: flex-end;width: 50%;}#sk-container-id-12 div.sk-parallel-item:last-child::after {align-self: flex-start;width: 50%;}#sk-container-id-12 div.sk-parallel-item:only-child::after {width: 0;}#sk-container-id-12 div.sk-dashed-wrapped {border: 1px dashed gray;margin: 0 0.4em 0.5em 0.4em;box-sizing: border-box;padding-bottom: 0.4em;background-color: white;}#sk-container-id-12 div.sk-label label {font-family: monospace;font-weight: bold;display: inline-block;line-height: 1.2em;}#sk-container-id-12 div.sk-label-container {text-align: center;}#sk-container-id-12 div.sk-container {/* jupyter's `normalize.less` sets `[hidden] { display: none; }` but bootstrap.min.css set `[hidden] { display: none !important; }` so we also need the `!important` here to be able to override the default hidden behavior on the sphinx rendered scikit-learn.org. See: https://github.com/scikit-learn/scikit-learn/issues/21755 */display: inline-block !important;position: relative;}#sk-container-id-12 div.sk-text-repr-fallback {display: none;}</style><div id=\"sk-container-id-12\" class=\"sk-top-container\"><div class=\"sk-text-repr-fallback\"><pre>GradientBoostingClassifier(random_state=10)</pre><b>In a Jupyter environment, please rerun this cell to show the HTML representation or trust the notebook. <br />On GitHub, the HTML representation is unable to render, please try loading this page with nbviewer.org.</b></div><div class=\"sk-container\" hidden><div class=\"sk-item\"><div class=\"sk-estimator sk-toggleable\"><input class=\"sk-toggleable__control sk-hidden--visually\" id=\"sk-estimator-id-12\" type=\"checkbox\" checked><label for=\"sk-estimator-id-12\" class=\"sk-toggleable__label sk-toggleable__label-arrow\">GradientBoostingClassifier</label><div class=\"sk-toggleable__content\"><pre>GradientBoostingClassifier(random_state=10)</pre></div></div></div></div></div>"
      ],
      "text/plain": [
       "GradientBoostingClassifier(random_state=10)"
      ]
     },
     "execution_count": 314,
     "metadata": {},
     "output_type": "execute_result"
    }
   ],
   "source": [
    "# creating two models one using the original data and the other using the smoted dataset\n",
    "grad_model = GradientBoostingClassifier( random_state = 10)\n",
    "grad_model.fit(xtrain, ytrain)\n",
    "grad_model_sm = GradientBoostingClassifier( random_state = 10)\n",
    "grad_model_sm.fit(xtrain_sm, ytrain_sm)"
   ]
  },
  {
   "cell_type": "code",
   "execution_count": 315,
   "id": "fca181aa",
   "metadata": {},
   "outputs": [],
   "source": [
    "#preidcting the target variable using the models built\n",
    "y_pred_grad_sm = grad_model_sm.predict(xtest)\n",
    "y_pred_grad = grad_model.predict(xtest)"
   ]
  },
  {
   "cell_type": "code",
   "execution_count": 316,
   "id": "ecdee6ad",
   "metadata": {},
   "outputs": [
    {
     "name": "stdout",
     "output_type": "stream",
     "text": [
      "              precision    recall  f1-score   support\n",
      "\n",
      "           0       0.52      1.00      0.68    260016\n",
      "           1       0.96      0.01      0.03    246342\n",
      "\n",
      "    accuracy                           0.52    506358\n",
      "   macro avg       0.74      0.51      0.35    506358\n",
      "weighted avg       0.73      0.52      0.36    506358\n",
      "\n"
     ]
    }
   ],
   "source": [
    "print(classification_report(y_pred_grad_sm,ytest))"
   ]
  },
  {
   "cell_type": "code",
   "execution_count": 317,
   "id": "a18aed58",
   "metadata": {},
   "outputs": [
    {
     "name": "stdout",
     "output_type": "stream",
     "text": [
      "              precision    recall  f1-score   support\n",
      "\n",
      "           0       1.00      0.99      1.00    506014\n",
      "           1       0.04      0.38      0.07       344\n",
      "\n",
      "    accuracy                           0.99    506358\n",
      "   macro avg       0.52      0.69      0.53    506358\n",
      "weighted avg       1.00      0.99      1.00    506358\n",
      "\n"
     ]
    }
   ],
   "source": [
    "print(classification_report(y_pred_grad,ytest))"
   ]
  },
  {
   "cell_type": "code",
   "execution_count": 318,
   "id": "ff53c876",
   "metadata": {},
   "outputs": [
    {
     "data": {
      "text/plain": [
       "array([[259876,    140],\n",
       "       [243141,   3201]], dtype=int64)"
      ]
     },
     "execution_count": 318,
     "metadata": {},
     "output_type": "execute_result"
    }
   ],
   "source": [
    "confusion_matrix(y_pred_grad_sm,ytest)"
   ]
  },
  {
   "cell_type": "code",
   "execution_count": 319,
   "id": "9bfdbf32",
   "metadata": {},
   "outputs": [
    {
     "data": {
      "text/plain": [
       "array([[502804,   3210],\n",
       "       [   213,    131]], dtype=int64)"
      ]
     },
     "execution_count": 319,
     "metadata": {},
     "output_type": "execute_result"
    }
   ],
   "source": [
    "confusion_matrix(y_pred_grad,ytest)"
   ]
  },
  {
   "cell_type": "code",
   "execution_count": 320,
   "id": "9f228115",
   "metadata": {},
   "outputs": [
    {
     "data": {
      "image/png": "[encoded data removed]",
      "text/plain": [
       "<Figure size 432x288 with 1 Axes>"
      ]
     },
     "metadata": {
      "needs_background": "light"
     },
     "output_type": "display_data"
    }
   ],
   "source": [
    "fpr_lr,tpr_lr,throshold_lr = roc_curve(y_pred_grad_sm,ytest)\n",
    "plt.plot(fpr_lr,tpr_lr)\n",
    "plt.plot([0,1],[0,1],\"r--\")\n",
    "plt.text(x = 0.1,y = 0.8,s = (\"Roc Score\",round(roc_auc_score(y_pred_grad_sm,ytest),2)))\n",
    "plt.grid()"
   ]
  },
  {
   "cell_type": "code",
   "execution_count": 321,
   "id": "69e71a2c",
   "metadata": {},
   "outputs": [
    {
     "data": {
      "image/png": "[encoded data removed]",
      "text/plain": [
       "<Figure size 432x288 with 1 Axes>"
      ]
     },
     "metadata": {
      "needs_background": "light"
     },
     "output_type": "display_data"
    }
   ],
   "source": [
    "fpr_lr,tpr_lr,throshold_lr = roc_curve(y_pred_grad,ytest)\n",
    "plt.plot(fpr_lr,tpr_lr)\n",
    "plt.plot([0,1],[0,1],\"r--\")\n",
    "plt.text(x = 0.1,y = 0.8,s = (\"Roc Score\",round(roc_auc_score(y_pred_grad,ytest),2)))\n",
    "plt.grid()"
   ]
  },
  {
   "cell_type": "code",
   "execution_count": 322,
   "id": "381cb2bc",
   "metadata": {},
   "outputs": [],
   "source": [
    "update_score_card(grad_model,\"Gradient Boost\")\n",
    "update_score_card(grad_model_sm,\"Gradient Boost Smoted\")"
   ]
  },
  {
   "cell_type": "code",
   "execution_count": 323,
   "id": "ee1d6e69",
   "metadata": {},
   "outputs": [
    {
     "data": {
      "text/html": [
       "<div>\n",
       "<style scoped>\n",
       "    .dataframe tbody tr th:only-of-type {\n",
       "        vertical-align: middle;\n",
       "    }\n",
       "\n",
       "    .dataframe tbody tr th {\n",
       "        vertical-align: top;\n",
       "    }\n",
       "\n",
       "    .dataframe thead th {\n",
       "        text-align: right;\n",
       "    }\n",
       "</style>\n",
       "<table border=\"1\" class=\"dataframe\">\n",
       "  <thead>\n",
       "    <tr style=\"text-align: right;\">\n",
       "      <th></th>\n",
       "      <th>Model Name</th>\n",
       "      <th>AUC Score</th>\n",
       "      <th>Precision Score</th>\n",
       "      <th>Recall Score</th>\n",
       "      <th>Accuracy Score</th>\n",
       "      <th>Kappa Score</th>\n",
       "      <th>f1-score</th>\n",
       "      <th>False Negatives</th>\n",
       "    </tr>\n",
       "  </thead>\n",
       "  <tbody>\n",
       "    <tr>\n",
       "      <th>0</th>\n",
       "      <td>Logistic regression</td>\n",
       "      <td>0.765939</td>\n",
       "      <td>0.002095</td>\n",
       "      <td>0.538462</td>\n",
       "      <td>0.993404</td>\n",
       "      <td>0.004123</td>\n",
       "      <td>0.004174</td>\n",
       "      <td>6.0</td>\n",
       "    </tr>\n",
       "    <tr>\n",
       "      <th>1</th>\n",
       "      <td>Logistic Regression Smoted</td>\n",
       "      <td>0.506957</td>\n",
       "      <td>0.955403</td>\n",
       "      <td>0.014436</td>\n",
       "      <td>0.569322</td>\n",
       "      <td>0.015645</td>\n",
       "      <td>0.028441</td>\n",
       "      <td>217928.0</td>\n",
       "    </tr>\n",
       "    <tr>\n",
       "      <th>2</th>\n",
       "      <td>Logistic regression vif treated</td>\n",
       "      <td>0.746705</td>\n",
       "      <td>0.001197</td>\n",
       "      <td>0.5</td>\n",
       "      <td>0.993402</td>\n",
       "      <td>0.002357</td>\n",
       "      <td>0.002389</td>\n",
       "      <td>4.0</td>\n",
       "    </tr>\n",
       "    <tr>\n",
       "      <th>3</th>\n",
       "      <td>Logistic Regression Smoted vif treated</td>\n",
       "      <td>0.506793</td>\n",
       "      <td>0.956001</td>\n",
       "      <td>0.014111</td>\n",
       "      <td>0.559012</td>\n",
       "      <td>0.015003</td>\n",
       "      <td>0.027812</td>\n",
       "      <td>223151.0</td>\n",
       "    </tr>\n",
       "    <tr>\n",
       "      <th>4</th>\n",
       "      <td>Decision tree</td>\n",
       "      <td>0.684353</td>\n",
       "      <td>0.399581</td>\n",
       "      <td>0.372697</td>\n",
       "      <td>0.991601</td>\n",
       "      <td>0.381448</td>\n",
       "      <td>0.385671</td>\n",
       "      <td>2247.0</td>\n",
       "    </tr>\n",
       "    <tr>\n",
       "      <th>5</th>\n",
       "      <td>Decision tree smoted</td>\n",
       "      <td>0.503699</td>\n",
       "      <td>0.879976</td>\n",
       "      <td>0.009451</td>\n",
       "      <td>0.39066</td>\n",
       "      <td>0.00572</td>\n",
       "      <td>0.018701</td>\n",
       "      <td>308143.0</td>\n",
       "    </tr>\n",
       "    <tr>\n",
       "      <th>6</th>\n",
       "      <td>Random Forest</td>\n",
       "      <td>0.757582</td>\n",
       "      <td>0.003592</td>\n",
       "      <td>0.521739</td>\n",
       "      <td>0.993404</td>\n",
       "      <td>0.007045</td>\n",
       "      <td>0.007134</td>\n",
       "      <td>11.0</td>\n",
       "    </tr>\n",
       "    <tr>\n",
       "      <th>7</th>\n",
       "      <td>Random Forest Smoted</td>\n",
       "      <td>0.50697</td>\n",
       "      <td>0.911404</td>\n",
       "      <td>0.014919</td>\n",
       "      <td>0.602341</td>\n",
       "      <td>0.016588</td>\n",
       "      <td>0.029357</td>\n",
       "      <td>201062.0</td>\n",
       "    </tr>\n",
       "    <tr>\n",
       "      <th>8</th>\n",
       "      <td>Gaussian Naive bayes</td>\n",
       "      <td>0.5138</td>\n",
       "      <td>0.454355</td>\n",
       "      <td>0.031578</td>\n",
       "      <td>0.904461</td>\n",
       "      <td>0.047296</td>\n",
       "      <td>0.059051</td>\n",
       "      <td>46554.0</td>\n",
       "    </tr>\n",
       "    <tr>\n",
       "      <th>9</th>\n",
       "      <td>Gaussian Naive bayes smoted</td>\n",
       "      <td>0.506624</td>\n",
       "      <td>0.480096</td>\n",
       "      <td>0.01744</td>\n",
       "      <td>0.818101</td>\n",
       "      <td>0.021193</td>\n",
       "      <td>0.033657</td>\n",
       "      <td>90369.0</td>\n",
       "    </tr>\n",
       "    <tr>\n",
       "      <th>10</th>\n",
       "      <td>XGBOOST</td>\n",
       "      <td>0.822513</td>\n",
       "      <td>0.079318</td>\n",
       "      <td>0.651106</td>\n",
       "      <td>0.993645</td>\n",
       "      <td>0.140177</td>\n",
       "      <td>0.141409</td>\n",
       "      <td>142.0</td>\n",
       "    </tr>\n",
       "    <tr>\n",
       "      <th>11</th>\n",
       "      <td>XGBOOST Smoted</td>\n",
       "      <td>0.503383</td>\n",
       "      <td>0.990721</td>\n",
       "      <td>0.007331</td>\n",
       "      <td>0.11482</td>\n",
       "      <td>0.001475</td>\n",
       "      <td>0.014555</td>\n",
       "      <td>448187.0</td>\n",
       "    </tr>\n",
       "    <tr>\n",
       "      <th>12</th>\n",
       "      <td>Ada Boost</td>\n",
       "      <td>0.636727</td>\n",
       "      <td>0.036516</td>\n",
       "      <td>0.279817</td>\n",
       "      <td>0.993023</td>\n",
       "      <td>0.063174</td>\n",
       "      <td>0.064602</td>\n",
       "      <td>314.0</td>\n",
       "    </tr>\n",
       "    <tr>\n",
       "      <th>13</th>\n",
       "      <td>Ada Boost Smoted</td>\n",
       "      <td>0.50499</td>\n",
       "      <td>0.975456</td>\n",
       "      <td>0.010405</td>\n",
       "      <td>0.387692</td>\n",
       "      <td>0.007632</td>\n",
       "      <td>0.02059</td>\n",
       "      <td>309965.0</td>\n",
       "    </tr>\n",
       "    <tr>\n",
       "      <th>14</th>\n",
       "      <td>Gradient Boost</td>\n",
       "      <td>0.687235</td>\n",
       "      <td>0.03921</td>\n",
       "      <td>0.380814</td>\n",
       "      <td>0.99324</td>\n",
       "      <td>0.069953</td>\n",
       "      <td>0.071099</td>\n",
       "      <td>213.0</td>\n",
       "    </tr>\n",
       "    <tr>\n",
       "      <th>15</th>\n",
       "      <td>Gradient Boost Smoted</td>\n",
       "      <td>0.506228</td>\n",
       "      <td>0.958096</td>\n",
       "      <td>0.012994</td>\n",
       "      <td>0.519547</td>\n",
       "      <td>0.012787</td>\n",
       "      <td>0.025641</td>\n",
       "      <td>243141.0</td>\n",
       "    </tr>\n",
       "  </tbody>\n",
       "</table>\n",
       "</div>"
      ],
      "text/plain": [
       "                                Model Name AUC Score Precision Score  \\\n",
       "0                      Logistic regression  0.765939        0.002095   \n",
       "1               Logistic Regression Smoted  0.506957        0.955403   \n",
       "2          Logistic regression vif treated  0.746705        0.001197   \n",
       "3   Logistic Regression Smoted vif treated  0.506793        0.956001   \n",
       "4                            Decision tree  0.684353        0.399581   \n",
       "5                     Decision tree smoted  0.503699        0.879976   \n",
       "6                            Random Forest  0.757582        0.003592   \n",
       "7                     Random Forest Smoted   0.50697        0.911404   \n",
       "8                     Gaussian Naive bayes    0.5138        0.454355   \n",
       "9              Gaussian Naive bayes smoted  0.506624        0.480096   \n",
       "10                                 XGBOOST  0.822513        0.079318   \n",
       "11                          XGBOOST Smoted  0.503383        0.990721   \n",
       "12                               Ada Boost  0.636727        0.036516   \n",
       "13                        Ada Boost Smoted   0.50499        0.975456   \n",
       "14                          Gradient Boost  0.687235         0.03921   \n",
       "15                   Gradient Boost Smoted  0.506228        0.958096   \n",
       "\n",
       "   Recall Score Accuracy Score Kappa Score  f1-score  False Negatives  \n",
       "0      0.538462       0.993404    0.004123  0.004174              6.0  \n",
       "1      0.014436       0.569322    0.015645  0.028441         217928.0  \n",
       "2           0.5       0.993402    0.002357  0.002389              4.0  \n",
       "3      0.014111       0.559012    0.015003  0.027812         223151.0  \n",
       "4      0.372697       0.991601    0.381448  0.385671           2247.0  \n",
       "5      0.009451        0.39066     0.00572  0.018701         308143.0  \n",
       "6      0.521739       0.993404    0.007045  0.007134             11.0  \n",
       "7      0.014919       0.602341    0.016588  0.029357         201062.0  \n",
       "8      0.031578       0.904461    0.047296  0.059051          46554.0  \n",
       "9       0.01744       0.818101    0.021193  0.033657          90369.0  \n",
       "10     0.651106       0.993645    0.140177  0.141409            142.0  \n",
       "11     0.007331        0.11482    0.001475  0.014555         448187.0  \n",
       "12     0.279817       0.993023    0.063174  0.064602            314.0  \n",
       "13     0.010405       0.387692    0.007632   0.02059         309965.0  \n",
       "14     0.380814        0.99324    0.069953  0.071099            213.0  \n",
       "15     0.012994       0.519547    0.012787  0.025641         243141.0  "
      ]
     },
     "execution_count": 323,
     "metadata": {},
     "output_type": "execute_result"
    }
   ],
   "source": [
    "df_scores"
   ]
  },
  {
   "cell_type": "code",
   "execution_count": 326,
   "id": "0e2d7d14",
   "metadata": {},
   "outputs": [
    {
     "data": {
      "text/html": [
       "<div>\n",
       "<style scoped>\n",
       "    .dataframe tbody tr th:only-of-type {\n",
       "        vertical-align: middle;\n",
       "    }\n",
       "\n",
       "    .dataframe tbody tr th {\n",
       "        vertical-align: top;\n",
       "    }\n",
       "\n",
       "    .dataframe thead th {\n",
       "        text-align: right;\n",
       "    }\n",
       "</style>\n",
       "<table border=\"1\" class=\"dataframe\">\n",
       "  <thead>\n",
       "    <tr style=\"text-align: right;\">\n",
       "      <th></th>\n",
       "      <th>Model Name</th>\n",
       "      <th>AUC Score</th>\n",
       "      <th>Precision Score</th>\n",
       "      <th>Recall Score</th>\n",
       "      <th>Accuracy Score</th>\n",
       "      <th>Kappa Score</th>\n",
       "      <th>f1-score</th>\n",
       "      <th>False Negatives</th>\n",
       "    </tr>\n",
       "  </thead>\n",
       "  <tbody>\n",
       "    <tr>\n",
       "      <th>10</th>\n",
       "      <td>XGBOOST</td>\n",
       "      <td>0.822513</td>\n",
       "      <td>0.079318</td>\n",
       "      <td>0.651106</td>\n",
       "      <td>0.993645</td>\n",
       "      <td>0.140177</td>\n",
       "      <td>0.141409</td>\n",
       "      <td>142.0</td>\n",
       "    </tr>\n",
       "    <tr>\n",
       "      <th>0</th>\n",
       "      <td>Logistic regression</td>\n",
       "      <td>0.765939</td>\n",
       "      <td>0.002095</td>\n",
       "      <td>0.538462</td>\n",
       "      <td>0.993404</td>\n",
       "      <td>0.004123</td>\n",
       "      <td>0.004174</td>\n",
       "      <td>6.0</td>\n",
       "    </tr>\n",
       "    <tr>\n",
       "      <th>6</th>\n",
       "      <td>Random Forest</td>\n",
       "      <td>0.757582</td>\n",
       "      <td>0.003592</td>\n",
       "      <td>0.521739</td>\n",
       "      <td>0.993404</td>\n",
       "      <td>0.007045</td>\n",
       "      <td>0.007134</td>\n",
       "      <td>11.0</td>\n",
       "    </tr>\n",
       "    <tr>\n",
       "      <th>2</th>\n",
       "      <td>Logistic regression vif treated</td>\n",
       "      <td>0.746705</td>\n",
       "      <td>0.001197</td>\n",
       "      <td>0.5</td>\n",
       "      <td>0.993402</td>\n",
       "      <td>0.002357</td>\n",
       "      <td>0.002389</td>\n",
       "      <td>4.0</td>\n",
       "    </tr>\n",
       "    <tr>\n",
       "      <th>14</th>\n",
       "      <td>Gradient Boost</td>\n",
       "      <td>0.687235</td>\n",
       "      <td>0.03921</td>\n",
       "      <td>0.380814</td>\n",
       "      <td>0.99324</td>\n",
       "      <td>0.069953</td>\n",
       "      <td>0.071099</td>\n",
       "      <td>213.0</td>\n",
       "    </tr>\n",
       "    <tr>\n",
       "      <th>4</th>\n",
       "      <td>Decision tree</td>\n",
       "      <td>0.684353</td>\n",
       "      <td>0.399581</td>\n",
       "      <td>0.372697</td>\n",
       "      <td>0.991601</td>\n",
       "      <td>0.381448</td>\n",
       "      <td>0.385671</td>\n",
       "      <td>2247.0</td>\n",
       "    </tr>\n",
       "    <tr>\n",
       "      <th>12</th>\n",
       "      <td>Ada Boost</td>\n",
       "      <td>0.636727</td>\n",
       "      <td>0.036516</td>\n",
       "      <td>0.279817</td>\n",
       "      <td>0.993023</td>\n",
       "      <td>0.063174</td>\n",
       "      <td>0.064602</td>\n",
       "      <td>314.0</td>\n",
       "    </tr>\n",
       "    <tr>\n",
       "      <th>8</th>\n",
       "      <td>Gaussian Naive bayes</td>\n",
       "      <td>0.5138</td>\n",
       "      <td>0.454355</td>\n",
       "      <td>0.031578</td>\n",
       "      <td>0.904461</td>\n",
       "      <td>0.047296</td>\n",
       "      <td>0.059051</td>\n",
       "      <td>46554.0</td>\n",
       "    </tr>\n",
       "    <tr>\n",
       "      <th>9</th>\n",
       "      <td>Gaussian Naive bayes smoted</td>\n",
       "      <td>0.506624</td>\n",
       "      <td>0.480096</td>\n",
       "      <td>0.01744</td>\n",
       "      <td>0.818101</td>\n",
       "      <td>0.021193</td>\n",
       "      <td>0.033657</td>\n",
       "      <td>90369.0</td>\n",
       "    </tr>\n",
       "    <tr>\n",
       "      <th>7</th>\n",
       "      <td>Random Forest Smoted</td>\n",
       "      <td>0.50697</td>\n",
       "      <td>0.911404</td>\n",
       "      <td>0.014919</td>\n",
       "      <td>0.602341</td>\n",
       "      <td>0.016588</td>\n",
       "      <td>0.029357</td>\n",
       "      <td>201062.0</td>\n",
       "    </tr>\n",
       "    <tr>\n",
       "      <th>1</th>\n",
       "      <td>Logistic Regression Smoted</td>\n",
       "      <td>0.506957</td>\n",
       "      <td>0.955403</td>\n",
       "      <td>0.014436</td>\n",
       "      <td>0.569322</td>\n",
       "      <td>0.015645</td>\n",
       "      <td>0.028441</td>\n",
       "      <td>217928.0</td>\n",
       "    </tr>\n",
       "    <tr>\n",
       "      <th>3</th>\n",
       "      <td>Logistic Regression Smoted vif treated</td>\n",
       "      <td>0.506793</td>\n",
       "      <td>0.956001</td>\n",
       "      <td>0.014111</td>\n",
       "      <td>0.559012</td>\n",
       "      <td>0.015003</td>\n",
       "      <td>0.027812</td>\n",
       "      <td>223151.0</td>\n",
       "    </tr>\n",
       "    <tr>\n",
       "      <th>15</th>\n",
       "      <td>Gradient Boost Smoted</td>\n",
       "      <td>0.506228</td>\n",
       "      <td>0.958096</td>\n",
       "      <td>0.012994</td>\n",
       "      <td>0.519547</td>\n",
       "      <td>0.012787</td>\n",
       "      <td>0.025641</td>\n",
       "      <td>243141.0</td>\n",
       "    </tr>\n",
       "    <tr>\n",
       "      <th>13</th>\n",
       "      <td>Ada Boost Smoted</td>\n",
       "      <td>0.50499</td>\n",
       "      <td>0.975456</td>\n",
       "      <td>0.010405</td>\n",
       "      <td>0.387692</td>\n",
       "      <td>0.007632</td>\n",
       "      <td>0.02059</td>\n",
       "      <td>309965.0</td>\n",
       "    </tr>\n",
       "    <tr>\n",
       "      <th>5</th>\n",
       "      <td>Decision tree smoted</td>\n",
       "      <td>0.503699</td>\n",
       "      <td>0.879976</td>\n",
       "      <td>0.009451</td>\n",
       "      <td>0.39066</td>\n",
       "      <td>0.00572</td>\n",
       "      <td>0.018701</td>\n",
       "      <td>308143.0</td>\n",
       "    </tr>\n",
       "    <tr>\n",
       "      <th>11</th>\n",
       "      <td>XGBOOST Smoted</td>\n",
       "      <td>0.503383</td>\n",
       "      <td>0.990721</td>\n",
       "      <td>0.007331</td>\n",
       "      <td>0.11482</td>\n",
       "      <td>0.001475</td>\n",
       "      <td>0.014555</td>\n",
       "      <td>448187.0</td>\n",
       "    </tr>\n",
       "  </tbody>\n",
       "</table>\n",
       "</div>"
      ],
      "text/plain": [
       "                                Model Name AUC Score Precision Score  \\\n",
       "10                                 XGBOOST  0.822513        0.079318   \n",
       "0                      Logistic regression  0.765939        0.002095   \n",
       "6                            Random Forest  0.757582        0.003592   \n",
       "2          Logistic regression vif treated  0.746705        0.001197   \n",
       "14                          Gradient Boost  0.687235         0.03921   \n",
       "4                            Decision tree  0.684353        0.399581   \n",
       "12                               Ada Boost  0.636727        0.036516   \n",
       "8                     Gaussian Naive bayes    0.5138        0.454355   \n",
       "9              Gaussian Naive bayes smoted  0.506624        0.480096   \n",
       "7                     Random Forest Smoted   0.50697        0.911404   \n",
       "1               Logistic Regression Smoted  0.506957        0.955403   \n",
       "3   Logistic Regression Smoted vif treated  0.506793        0.956001   \n",
       "15                   Gradient Boost Smoted  0.506228        0.958096   \n",
       "13                        Ada Boost Smoted   0.50499        0.975456   \n",
       "5                     Decision tree smoted  0.503699        0.879976   \n",
       "11                          XGBOOST Smoted  0.503383        0.990721   \n",
       "\n",
       "   Recall Score Accuracy Score Kappa Score  f1-score  False Negatives  \n",
       "10     0.651106       0.993645    0.140177  0.141409            142.0  \n",
       "0      0.538462       0.993404    0.004123  0.004174              6.0  \n",
       "6      0.521739       0.993404    0.007045  0.007134             11.0  \n",
       "2           0.5       0.993402    0.002357  0.002389              4.0  \n",
       "14     0.380814        0.99324    0.069953  0.071099            213.0  \n",
       "4      0.372697       0.991601    0.381448  0.385671           2247.0  \n",
       "12     0.279817       0.993023    0.063174  0.064602            314.0  \n",
       "8      0.031578       0.904461    0.047296  0.059051          46554.0  \n",
       "9       0.01744       0.818101    0.021193  0.033657          90369.0  \n",
       "7      0.014919       0.602341    0.016588  0.029357         201062.0  \n",
       "1      0.014436       0.569322    0.015645  0.028441         217928.0  \n",
       "3      0.014111       0.559012    0.015003  0.027812         223151.0  \n",
       "15     0.012994       0.519547    0.012787  0.025641         243141.0  \n",
       "13     0.010405       0.387692    0.007632   0.02059         309965.0  \n",
       "5      0.009451        0.39066     0.00572  0.018701         308143.0  \n",
       "11     0.007331        0.11482    0.001475  0.014555         448187.0  "
      ]
     },
     "execution_count": 326,
     "metadata": {},
     "output_type": "execute_result"
    }
   ],
   "source": [
    "df_scores.sort_values(by = \"Recall Score\",ascending = False)\n",
    "\n",
    "\n"
   ]
  },
  {
   "cell_type": "code",
   "execution_count": null,
   "id": "3412cd61",
   "metadata": {},
   "outputs": [],
   "source": []
  }
 ],
 "metadata": {
  "kernelspec": {
   "display_name": "Python 3 (ipykernel)",
   "language": "python",
   "name": "python3"
  },
  "language_info": {
   "codemirror_mode": {
    "name": "ipython",
    "version": 3
   },
   "file_extension": ".py",
   "mimetype": "text/x-python",
   "name": "python",
   "nbconvert_exporter": "python",
   "pygments_lexer": "ipython3",
   "version": "3.9.12"
  }
 },
 "nbformat": 4,
 "nbformat_minor": 5
}
