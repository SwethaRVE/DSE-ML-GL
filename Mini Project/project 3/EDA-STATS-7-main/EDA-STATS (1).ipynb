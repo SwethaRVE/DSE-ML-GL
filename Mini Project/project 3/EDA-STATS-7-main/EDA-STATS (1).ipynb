{
 "cells": [
  {
   "cell_type": "code",
   "execution_count": 19,
   "id": "1e2126fc",
   "metadata": {},
   "outputs": [],
   "source": [
    "import pandas as pd\n",
    "import numpy as np\n",
    "import seaborn as sns\n",
    "import matplotlib.pyplot as plt\n",
    "%matplotlib inline\n",
    "import statistics as stat\n",
    "from scipy.stats import kurtosis, skew\n",
    "from scipy.stats import bernoulli, norm, poisson\n",
    "from scipy.stats import norm\n",
    "import math\n",
    "import scipy.stats as stats\n",
    "import warnings\n",
    "warnings.filterwarnings('ignore')"
   ]
  },
  {
   "cell_type": "markdown",
   "id": "a6afa37b",
   "metadata": {},
   "source": [
    "## PART-A ( Concept Based)--25 points"
   ]
  },
  {
   "cell_type": "markdown",
   "id": "d3fbdf6b",
   "metadata": {},
   "source": [
    "#### The following are the BMI of 50 young adults"
   ]
  },
  {
   "cell_type": "code",
   "execution_count": 4,
   "id": "6e760cdd",
   "metadata": {},
   "outputs": [],
   "source": [
    "bmi=[17.5, 18.0, 36.8, 31.7, 31.7,17.3, 24.3, 47.7, 38.5, 17.0,23.7, 16.5, 25.1, 17.4, 18.0,37.6, 19.7, 21.4, 28.6, 21.6,\n",
    "19.3, 20.0, 16.9, 25.2, 19.8,25.0, 17.2, 20.4, 20.1, 29.1,19.1, 25.2, 23.2, 25.9, 24.0,41.7, 24.0, 16.8, 26.8, 31.4,\n",
    "16.9, 17.2, 24.1, 35.2, 19.1,22.9, 18.2, 25.4, 35.4, 25.5]"
   ]
  },
  {
   "cell_type": "code",
   "execution_count": 5,
   "id": "25b01268",
   "metadata": {},
   "outputs": [
    {
     "data": {
      "text/html": [
       "<div>\n",
       "<style scoped>\n",
       "    .dataframe tbody tr th:only-of-type {\n",
       "        vertical-align: middle;\n",
       "    }\n",
       "\n",
       "    .dataframe tbody tr th {\n",
       "        vertical-align: top;\n",
       "    }\n",
       "\n",
       "    .dataframe thead th {\n",
       "        text-align: right;\n",
       "    }\n",
       "</style>\n",
       "<table border=\"1\" class=\"dataframe\">\n",
       "  <thead>\n",
       "    <tr style=\"text-align: right;\">\n",
       "      <th></th>\n",
       "      <th>0</th>\n",
       "    </tr>\n",
       "  </thead>\n",
       "  <tbody>\n",
       "    <tr>\n",
       "      <th>0</th>\n",
       "      <td>17.5</td>\n",
       "    </tr>\n",
       "    <tr>\n",
       "      <th>1</th>\n",
       "      <td>18.0</td>\n",
       "    </tr>\n",
       "    <tr>\n",
       "      <th>2</th>\n",
       "      <td>36.8</td>\n",
       "    </tr>\n",
       "    <tr>\n",
       "      <th>3</th>\n",
       "      <td>31.7</td>\n",
       "    </tr>\n",
       "    <tr>\n",
       "      <th>4</th>\n",
       "      <td>31.7</td>\n",
       "    </tr>\n",
       "    <tr>\n",
       "      <th>5</th>\n",
       "      <td>17.3</td>\n",
       "    </tr>\n",
       "    <tr>\n",
       "      <th>6</th>\n",
       "      <td>24.3</td>\n",
       "    </tr>\n",
       "    <tr>\n",
       "      <th>7</th>\n",
       "      <td>47.7</td>\n",
       "    </tr>\n",
       "    <tr>\n",
       "      <th>8</th>\n",
       "      <td>38.5</td>\n",
       "    </tr>\n",
       "    <tr>\n",
       "      <th>9</th>\n",
       "      <td>17.0</td>\n",
       "    </tr>\n",
       "    <tr>\n",
       "      <th>10</th>\n",
       "      <td>23.7</td>\n",
       "    </tr>\n",
       "    <tr>\n",
       "      <th>11</th>\n",
       "      <td>16.5</td>\n",
       "    </tr>\n",
       "    <tr>\n",
       "      <th>12</th>\n",
       "      <td>25.1</td>\n",
       "    </tr>\n",
       "    <tr>\n",
       "      <th>13</th>\n",
       "      <td>17.4</td>\n",
       "    </tr>\n",
       "    <tr>\n",
       "      <th>14</th>\n",
       "      <td>18.0</td>\n",
       "    </tr>\n",
       "    <tr>\n",
       "      <th>15</th>\n",
       "      <td>37.6</td>\n",
       "    </tr>\n",
       "    <tr>\n",
       "      <th>16</th>\n",
       "      <td>19.7</td>\n",
       "    </tr>\n",
       "    <tr>\n",
       "      <th>17</th>\n",
       "      <td>21.4</td>\n",
       "    </tr>\n",
       "    <tr>\n",
       "      <th>18</th>\n",
       "      <td>28.6</td>\n",
       "    </tr>\n",
       "    <tr>\n",
       "      <th>19</th>\n",
       "      <td>21.6</td>\n",
       "    </tr>\n",
       "    <tr>\n",
       "      <th>20</th>\n",
       "      <td>19.3</td>\n",
       "    </tr>\n",
       "    <tr>\n",
       "      <th>21</th>\n",
       "      <td>20.0</td>\n",
       "    </tr>\n",
       "    <tr>\n",
       "      <th>22</th>\n",
       "      <td>16.9</td>\n",
       "    </tr>\n",
       "    <tr>\n",
       "      <th>23</th>\n",
       "      <td>25.2</td>\n",
       "    </tr>\n",
       "    <tr>\n",
       "      <th>24</th>\n",
       "      <td>19.8</td>\n",
       "    </tr>\n",
       "    <tr>\n",
       "      <th>25</th>\n",
       "      <td>25.0</td>\n",
       "    </tr>\n",
       "    <tr>\n",
       "      <th>26</th>\n",
       "      <td>17.2</td>\n",
       "    </tr>\n",
       "    <tr>\n",
       "      <th>27</th>\n",
       "      <td>20.4</td>\n",
       "    </tr>\n",
       "    <tr>\n",
       "      <th>28</th>\n",
       "      <td>20.1</td>\n",
       "    </tr>\n",
       "    <tr>\n",
       "      <th>29</th>\n",
       "      <td>29.1</td>\n",
       "    </tr>\n",
       "    <tr>\n",
       "      <th>30</th>\n",
       "      <td>19.1</td>\n",
       "    </tr>\n",
       "    <tr>\n",
       "      <th>31</th>\n",
       "      <td>25.2</td>\n",
       "    </tr>\n",
       "    <tr>\n",
       "      <th>32</th>\n",
       "      <td>23.2</td>\n",
       "    </tr>\n",
       "    <tr>\n",
       "      <th>33</th>\n",
       "      <td>25.9</td>\n",
       "    </tr>\n",
       "    <tr>\n",
       "      <th>34</th>\n",
       "      <td>24.0</td>\n",
       "    </tr>\n",
       "    <tr>\n",
       "      <th>35</th>\n",
       "      <td>41.7</td>\n",
       "    </tr>\n",
       "    <tr>\n",
       "      <th>36</th>\n",
       "      <td>24.0</td>\n",
       "    </tr>\n",
       "    <tr>\n",
       "      <th>37</th>\n",
       "      <td>16.8</td>\n",
       "    </tr>\n",
       "    <tr>\n",
       "      <th>38</th>\n",
       "      <td>26.8</td>\n",
       "    </tr>\n",
       "    <tr>\n",
       "      <th>39</th>\n",
       "      <td>31.4</td>\n",
       "    </tr>\n",
       "    <tr>\n",
       "      <th>40</th>\n",
       "      <td>16.9</td>\n",
       "    </tr>\n",
       "    <tr>\n",
       "      <th>41</th>\n",
       "      <td>17.2</td>\n",
       "    </tr>\n",
       "    <tr>\n",
       "      <th>42</th>\n",
       "      <td>24.1</td>\n",
       "    </tr>\n",
       "    <tr>\n",
       "      <th>43</th>\n",
       "      <td>35.2</td>\n",
       "    </tr>\n",
       "    <tr>\n",
       "      <th>44</th>\n",
       "      <td>19.1</td>\n",
       "    </tr>\n",
       "    <tr>\n",
       "      <th>45</th>\n",
       "      <td>22.9</td>\n",
       "    </tr>\n",
       "    <tr>\n",
       "      <th>46</th>\n",
       "      <td>18.2</td>\n",
       "    </tr>\n",
       "    <tr>\n",
       "      <th>47</th>\n",
       "      <td>25.4</td>\n",
       "    </tr>\n",
       "    <tr>\n",
       "      <th>48</th>\n",
       "      <td>35.4</td>\n",
       "    </tr>\n",
       "    <tr>\n",
       "      <th>49</th>\n",
       "      <td>25.5</td>\n",
       "    </tr>\n",
       "  </tbody>\n",
       "</table>\n",
       "</div>"
      ],
      "text/plain": [
       "       0\n",
       "0   17.5\n",
       "1   18.0\n",
       "2   36.8\n",
       "3   31.7\n",
       "4   31.7\n",
       "5   17.3\n",
       "6   24.3\n",
       "7   47.7\n",
       "8   38.5\n",
       "9   17.0\n",
       "10  23.7\n",
       "11  16.5\n",
       "12  25.1\n",
       "13  17.4\n",
       "14  18.0\n",
       "15  37.6\n",
       "16  19.7\n",
       "17  21.4\n",
       "18  28.6\n",
       "19  21.6\n",
       "20  19.3\n",
       "21  20.0\n",
       "22  16.9\n",
       "23  25.2\n",
       "24  19.8\n",
       "25  25.0\n",
       "26  17.2\n",
       "27  20.4\n",
       "28  20.1\n",
       "29  29.1\n",
       "30  19.1\n",
       "31  25.2\n",
       "32  23.2\n",
       "33  25.9\n",
       "34  24.0\n",
       "35  41.7\n",
       "36  24.0\n",
       "37  16.8\n",
       "38  26.8\n",
       "39  31.4\n",
       "40  16.9\n",
       "41  17.2\n",
       "42  24.1\n",
       "43  35.2\n",
       "44  19.1\n",
       "45  22.9\n",
       "46  18.2\n",
       "47  25.4\n",
       "48  35.4\n",
       "49  25.5"
      ]
     },
     "execution_count": 5,
     "metadata": {},
     "output_type": "execute_result"
    }
   ],
   "source": [
    "df_bmi= pd.DataFrame(bmi)\n",
    "df_bmi"
   ]
  },
  {
   "cell_type": "code",
   "execution_count": 6,
   "id": "50eb48db",
   "metadata": {},
   "outputs": [
    {
     "data": {
      "text/html": [
       "<div>\n",
       "<style scoped>\n",
       "    .dataframe tbody tr th:only-of-type {\n",
       "        vertical-align: middle;\n",
       "    }\n",
       "\n",
       "    .dataframe tbody tr th {\n",
       "        vertical-align: top;\n",
       "    }\n",
       "\n",
       "    .dataframe thead th {\n",
       "        text-align: right;\n",
       "    }\n",
       "</style>\n",
       "<table border=\"1\" class=\"dataframe\">\n",
       "  <thead>\n",
       "    <tr style=\"text-align: right;\">\n",
       "      <th></th>\n",
       "      <th>0</th>\n",
       "    </tr>\n",
       "  </thead>\n",
       "  <tbody>\n",
       "    <tr>\n",
       "      <th>count</th>\n",
       "      <td>50.000000</td>\n",
       "    </tr>\n",
       "    <tr>\n",
       "      <th>mean</th>\n",
       "      <td>24.422000</td>\n",
       "    </tr>\n",
       "    <tr>\n",
       "      <th>std</th>\n",
       "      <td>7.386537</td>\n",
       "    </tr>\n",
       "    <tr>\n",
       "      <th>min</th>\n",
       "      <td>16.500000</td>\n",
       "    </tr>\n",
       "    <tr>\n",
       "      <th>25%</th>\n",
       "      <td>18.425000</td>\n",
       "    </tr>\n",
       "    <tr>\n",
       "      <th>50%</th>\n",
       "      <td>23.450000</td>\n",
       "    </tr>\n",
       "    <tr>\n",
       "      <th>75%</th>\n",
       "      <td>26.575000</td>\n",
       "    </tr>\n",
       "    <tr>\n",
       "      <th>max</th>\n",
       "      <td>47.700000</td>\n",
       "    </tr>\n",
       "  </tbody>\n",
       "</table>\n",
       "</div>"
      ],
      "text/plain": [
       "               0\n",
       "count  50.000000\n",
       "mean   24.422000\n",
       "std     7.386537\n",
       "min    16.500000\n",
       "25%    18.425000\n",
       "50%    23.450000\n",
       "75%    26.575000\n",
       "max    47.700000"
      ]
     },
     "execution_count": 6,
     "metadata": {},
     "output_type": "execute_result"
    }
   ],
   "source": [
    "df_bmi.describe()"
   ]
  },
  {
   "cell_type": "code",
   "execution_count": 7,
   "id": "776f2587",
   "metadata": {},
   "outputs": [
    {
     "data": {
      "text/plain": [
       "<AxesSubplot:>"
      ]
     },
     "execution_count": 7,
     "metadata": {},
     "output_type": "execute_result"
    },
    {
     "data": {
      "image/png": "[encoded data removed]",
      "text/plain": [
       "<Figure size 640x480 with 1 Axes>"
      ]
     },
     "metadata": {},
     "output_type": "display_data"
    }
   ],
   "source": [
    "df_bmi.plot()"
   ]
  },
  {
   "cell_type": "markdown",
   "id": "fb378366",
   "metadata": {},
   "source": [
    "#### Q1. Compute the mean, median and the mode of the data"
   ]
  },
  {
   "cell_type": "code",
   "execution_count": 8,
   "id": "e13be577",
   "metadata": {},
   "outputs": [
    {
     "name": "stdout",
     "output_type": "stream",
     "text": [
      "mean: 0    24.422\n",
      "dtype: float64 \n",
      "median: 0    23.45\n",
      "dtype: float64 \n",
      "mode:       0\n",
      "0  16.9\n",
      "1  17.2\n",
      "2  18.0\n",
      "3  19.1\n",
      "4  24.0\n",
      "5  25.2\n",
      "6  31.7\n"
     ]
    }
   ],
   "source": [
    "#printing Mean, Median, Mode of the given data\n",
    "print('mean:', df_bmi.mean(),'\\nmedian:', df_bmi.median(),'\\nmode:', df_bmi.mode())"
   ]
  },
  {
   "cell_type": "markdown",
   "id": "d75c65db",
   "metadata": {},
   "source": [
    "#### Q2. Compute the range , variance and standard deviation of BMI"
   ]
  },
  {
   "cell_type": "code",
   "execution_count": 9,
   "id": "9d4c9ee6",
   "metadata": {},
   "outputs": [
    {
     "name": "stdout",
     "output_type": "stream",
     "text": [
      "Range: 0    31.2\n",
      "dtype: float64 \n",
      "Standard Deviation: 0    7.386537\n",
      "dtype: float64 \n",
      "Variance: 0    54.560935\n",
      "dtype: float64\n"
     ]
    }
   ],
   "source": [
    "#Computing the range , variance and standard deviation of BMI\n",
    "df_range=df_bmi.max()-df_bmi.min() #calculation of range\n",
    "print('Range:',df_range,'\\nStandard Deviation:', df_bmi.std(),'\\nVariance:', df_bmi.var())"
   ]
  },
  {
   "cell_type": "markdown",
   "id": "c22682a4",
   "metadata": {},
   "source": [
    "#### Q3. Find the mean deviation for the data . "
   ]
  },
  {
   "cell_type": "code",
   "execution_count": 10,
   "id": "911bc6c8",
   "metadata": {},
   "outputs": [
    {
     "name": "stdout",
     "output_type": "stream",
     "text": [
      "Mean Deviation: 0    5.6424\n",
      "dtype: float64\n"
     ]
    }
   ],
   "source": [
    "#Mean Absolute deviation calculated\n",
    "print('Mean Deviation:',df_bmi.mad())"
   ]
  },
  {
   "cell_type": "markdown",
   "id": "5ff0623f",
   "metadata": {},
   "source": [
    "#### Q4. Calculate the Pearson coefficient of skewness and comment on the skewness of the data"
   ]
  },
  {
   "cell_type": "code",
   "execution_count": 11,
   "id": "e53682ca",
   "metadata": {},
   "outputs": [
    {
     "name": "stdout",
     "output_type": "stream",
     "text": [
      "Pearson coefficient of skewness for BMI: 0.39477225171968644\n"
     ]
    }
   ],
   "source": [
    "bmi = [17.5, 18.0, 36.8, 31.7, 31.7, 17.3, 24.3, 47.7, 38.5, 17.0, 23.7, 16.5, 25.1, 17.4, 18.0, 37.6, 19.7, 21.4, 28.6, 21.6, 19.3, 20.0, 16.9, 25.2, 19.8, 25.0, 17.2, 20.4, 20.1, 29.1, 19.1, 25.2, 23.2, 25.9, 24.0, 41.7, 24.0, 16.8, 26.8, 31.4, 16.9, 17.2, 24.1, 35.2, 19.1, 22.9, 18.2, 25.4, 35.4, 25.5]\n",
    "\n",
    "mean_bmi = stat.mean(bmi)\n",
    "median_bmi = stat.median(bmi)\n",
    "stdev_bmi = stat.stdev(bmi)\n",
    "\n",
    "skewness_bmi = 3 * (mean_bmi - median_bmi) / stdev_bmi\n",
    "\n",
    "print(\"Pearson coefficient of skewness for BMI:\", skewness_bmi)"
   ]
  },
  {
   "cell_type": "code",
   "execution_count": null,
   "id": "5d26fbab",
   "metadata": {},
   "outputs": [],
   "source": []
  },
  {
   "cell_type": "code",
   "execution_count": 16,
   "id": "c6ece353",
   "metadata": {},
   "outputs": [
    {
     "name": "stdout",
     "output_type": "stream",
     "text": [
      "       0\n",
      "0   17.5\n",
      "1   18.0\n",
      "2   36.8\n",
      "3   31.7\n",
      "4   31.7\n",
      "5   17.3\n",
      "6   24.3\n",
      "7   47.7\n",
      "8   38.5\n",
      "9   17.0\n",
      "10  23.7\n",
      "11  16.5\n",
      "12  25.1\n",
      "13  17.4\n",
      "14  18.0\n",
      "15  37.6\n",
      "16  19.7\n",
      "17  21.4\n",
      "18  28.6\n",
      "19  21.6\n",
      "20  19.3\n",
      "21  20.0\n",
      "22  16.9\n",
      "23  25.2\n",
      "24  19.8\n",
      "25  25.0\n",
      "26  17.2\n",
      "27  20.4\n",
      "28  20.1\n",
      "29  29.1\n",
      "30  19.1\n",
      "31  25.2\n",
      "32  23.2\n",
      "33  25.9\n",
      "34  24.0\n",
      "35  41.7\n",
      "36  24.0\n",
      "37  16.8\n",
      "38  26.8\n",
      "39  31.4\n",
      "40  16.9\n",
      "41  17.2\n",
      "42  24.1\n",
      "43  35.2\n",
      "44  19.1\n",
      "45  22.9\n",
      "46  18.2\n",
      "47  25.4\n",
      "48  35.4\n",
      "49  25.5\n"
     ]
    }
   ],
   "source": [
    "print(df_bmi)"
   ]
  },
  {
   "cell_type": "code",
   "execution_count": 18,
   "id": "b00670df",
   "metadata": {
    "scrolled": true
   },
   "outputs": [
    {
     "name": "stdout",
     "output_type": "stream",
     "text": [
      "Pearson coefficient of skewness for BMI: 0.39477225171968644\n"
     ]
    }
   ],
   "source": [
    "bmi = [17.5, 18.0, 36.8, 31.7, 31.7, 17.3, 24.3, 47.7, 38.5, 17.0, 23.7, 16.5, 25.1, 17.4, 18.0, 37.6, 19.7, 21.4, 28.6, 21.6, 19.3, 20.0, 16.9, 25.2, 19.8, 25.0, 17.2, 20.4, 20.1, 29.1, 19.1, 25.2, 23.2, 25.9, 24.0, 41.7, 24.0, 16.8, 26.8, 31.4, 16.9, 17.2, 24.1, 35.2, 19.1, 22.9, 18.2, 25.4, 35.4, 25.5]\n",
    "\n",
    "mean_bmi = stat.mean(df_bmi[0])\n",
    "median_bmi = stat.median(df_bmi[0])\n",
    "stdev_bmi = stat.stdev(df_bmi[0])\n",
    "\n",
    "skewness_bmi = 3 * (mean_bmi - median_bmi) / stdev_bmi\n",
    "\n",
    "print(\"Pearson coefficient of skewness for BMI:\", skewness_bmi)"
   ]
  },
  {
   "cell_type": "code",
   "execution_count": 14,
   "id": "05d242cd",
   "metadata": {},
   "outputs": [
    {
     "data": {
      "text/plain": [
       "<AxesSubplot:ylabel='Count'>"
      ]
     },
     "execution_count": 14,
     "metadata": {},
     "output_type": "execute_result"
    },
    {
     "data": {
      "image/png": "[encoded data removed]",
      "text/plain": [
       "<Figure size 640x480 with 1 Axes>"
      ]
     },
     "metadata": {},
     "output_type": "display_data"
    }
   ],
   "source": [
    "sns.histplot(data=df_bmi,kde=True)"
   ]
  },
  {
   "cell_type": "markdown",
   "id": "8f1c6cd8",
   "metadata": {},
   "source": [
    "#### Q5. Count the number of data values that fall within one standard deviation of the mean. Compare this with the answer from Chebyshev’s Theorem."
   ]
  },
  {
   "cell_type": "code",
   "execution_count": 77,
   "id": "bb2ae609",
   "metadata": {},
   "outputs": [
    {
     "name": "stdout",
     "output_type": "stream",
     "text": [
      "Number of data values within one standard deviation of the mean: 0    38\n",
      "dtype: int64\n"
     ]
    }
   ],
   "source": [
    "# Calculate the mean and standard deviation\n",
    "mean = np.mean(df_bmi)\n",
    "std = np.std(df_bmi)\n",
    "\n",
    "# Count the number of data values that fall within one standard deviation of the mean\n",
    "count_within_one_std = df_bmi[(df_bmi > mean - std) & (df_bmi < mean + std)].count()\n",
    "\n",
    "print(\"Number of data values within one standard deviation of the mean:\", count_within_one_std)\n"
   ]
  },
  {
   "cell_type": "markdown",
   "id": "c6369fc6",
   "metadata": {},
   "source": [
    "#### Q6. Find the three quartiles and the interquartile range (IQR)."
   ]
  },
  {
   "cell_type": "code",
   "execution_count": 73,
   "id": "eb479bdb",
   "metadata": {},
   "outputs": [
    {
     "name": "stdout",
     "output_type": "stream",
     "text": [
      "Q1: 0    18.425\n",
      "Name: 0.25, dtype: float64 \n",
      "Q2: 0    23.45\n",
      "Name: 0.5, dtype: float64 \n",
      "Q3: 0    26.575\n",
      "Name: 0.75, dtype: float64 \n",
      "InterQuartile Range (IQR): 0    8.15\n",
      "dtype: float64\n"
     ]
    }
   ],
   "source": [
    "q1=df_bmi.quantile(0.25) #Q1\n",
    "q2=df_bmi.quantile(0.50) #Q2\n",
    "q3=df_bmi.quantile(0.75) #Q3\n",
    "iqr=q3-q1\n",
    "print('Q1:',q1,'\\nQ2:',q2,'\\nQ3:',q3, '\\nInterQuartile Range (IQR):',iqr)"
   ]
  },
  {
   "cell_type": "markdown",
   "id": "2fc8957e",
   "metadata": {},
   "source": [
    "#### Q7. Are there any outliers in the data set ?"
   ]
  },
  {
   "cell_type": "code",
   "execution_count": 14,
   "id": "9ae97a98",
   "metadata": {},
   "outputs": [
    {
     "data": {
      "text/html": [
       "<div>\n",
       "<style scoped>\n",
       "    .dataframe tbody tr th:only-of-type {\n",
       "        vertical-align: middle;\n",
       "    }\n",
       "\n",
       "    .dataframe tbody tr th {\n",
       "        vertical-align: top;\n",
       "    }\n",
       "\n",
       "    .dataframe thead th {\n",
       "        text-align: right;\n",
       "    }\n",
       "</style>\n",
       "<table border=\"1\" class=\"dataframe\">\n",
       "  <thead>\n",
       "    <tr style=\"text-align: right;\">\n",
       "      <th></th>\n",
       "      <th>0</th>\n",
       "    </tr>\n",
       "  </thead>\n",
       "  <tbody>\n",
       "    <tr>\n",
       "      <th>count</th>\n",
       "      <td>50.000000</td>\n",
       "    </tr>\n",
       "    <tr>\n",
       "      <th>mean</th>\n",
       "      <td>24.422000</td>\n",
       "    </tr>\n",
       "    <tr>\n",
       "      <th>std</th>\n",
       "      <td>7.386537</td>\n",
       "    </tr>\n",
       "    <tr>\n",
       "      <th>min</th>\n",
       "      <td>16.500000</td>\n",
       "    </tr>\n",
       "    <tr>\n",
       "      <th>25%</th>\n",
       "      <td>18.425000</td>\n",
       "    </tr>\n",
       "    <tr>\n",
       "      <th>50%</th>\n",
       "      <td>23.450000</td>\n",
       "    </tr>\n",
       "    <tr>\n",
       "      <th>75%</th>\n",
       "      <td>26.575000</td>\n",
       "    </tr>\n",
       "    <tr>\n",
       "      <th>max</th>\n",
       "      <td>47.700000</td>\n",
       "    </tr>\n",
       "  </tbody>\n",
       "</table>\n",
       "</div>"
      ],
      "text/plain": [
       "               0\n",
       "count  50.000000\n",
       "mean   24.422000\n",
       "std     7.386537\n",
       "min    16.500000\n",
       "25%    18.425000\n",
       "50%    23.450000\n",
       "75%    26.575000\n",
       "max    47.700000"
      ]
     },
     "execution_count": 14,
     "metadata": {},
     "output_type": "execute_result"
    }
   ],
   "source": [
    "df_bmi.describe() #5point summary"
   ]
  },
  {
   "cell_type": "markdown",
   "id": "8834952e",
   "metadata": {},
   "source": [
    "Yes, There are outliers in the data given."
   ]
  },
  {
   "cell_type": "markdown",
   "id": "909d1dbf",
   "metadata": {},
   "source": [
    "#### Q8. Draw a boxplot of the dataset to confirm ."
   ]
  },
  {
   "cell_type": "code",
   "execution_count": 21,
   "id": "9d815a4d",
   "metadata": {},
   "outputs": [],
   "source": [
    "bmi=df_bmi.set_axis([\"BMI\"],axis=\"columns\",inplace=True)"
   ]
  },
  {
   "cell_type": "code",
   "execution_count": 89,
   "id": "1fc5c736",
   "metadata": {},
   "outputs": [
    {
     "data": {
      "text/plain": [
       "<AxesSubplot:xlabel='BMI'>"
      ]
     },
     "execution_count": 89,
     "metadata": {},
     "output_type": "execute_result"
    },
    {
     "data": {
      "image/png": "[encoded data removed]",
      "text/plain": [
       "<Figure size 432x288 with 1 Axes>"
      ]
     },
     "metadata": {
      "needs_background": "light"
     },
     "output_type": "display_data"
    }
   ],
   "source": [
    "sns.boxplot(df_bmi['BMI'])"
   ]
  },
  {
   "cell_type": "markdown",
   "id": "012a1ae8",
   "metadata": {},
   "source": [
    "#### Q9. Find the percentile rank of the datapoint 25.0."
   ]
  },
  {
   "cell_type": "code",
   "execution_count": 116,
   "id": "531e0cb1",
   "metadata": {},
   "outputs": [
    {
     "name": "stdout",
     "output_type": "stream",
     "text": [
      "percentile rank of the datapoint 25.0 is: 18.425\n"
     ]
    }
   ],
   "source": [
    "print('percentile rank of the datapoint 25.0 is:', df_bmi['BMI'].quantile(q=0.25))"
   ]
  },
  {
   "cell_type": "code",
   "execution_count": 24,
   "id": "22666ed5",
   "metadata": {},
   "outputs": [
    {
     "name": "stdout",
     "output_type": "stream",
     "text": [
      "The percentile rank of 25.0 in the BMI dataset is: 60.00%\n"
     ]
    }
   ],
   "source": [
    "num_values_below_25 = len(df_bmi[df_bmi['BMI'] < 25.0])\n",
    "total_num_values = len(df_bmi)\n",
    "percentile_rank = (num_values_below_25 / total_num_values) * 100\n",
    "\n",
    "print(f\"The percentile rank of 25.0 in the BMI dataset is: {percentile_rank:.2f}%\")\n"
   ]
  },
  {
   "cell_type": "markdown",
   "id": "e20e3297",
   "metadata": {},
   "source": [
    "#### Q10. What is the probability that a young adult has a BMI above 25.0?"
   ]
  },
  {
   "cell_type": "code",
   "execution_count": 23,
   "id": "32f09523",
   "metadata": {},
   "outputs": [
    {
     "name": "stdout",
     "output_type": "stream",
     "text": [
      "The probability that a young adult has a BMI above 25.0 is: 0.38\n"
     ]
    }
   ],
   "source": [
    "num_values_above_25 = len(df_bmi[df_bmi['BMI'] > 25.0])\n",
    "total_num_values = len(df_bmi)\n",
    "prob_above_25 = num_values_above_25 / total_num_values\n",
    "\n",
    "print(f\"The probability that a young adult has a BMI above 25.0 is: {prob_above_25:.2f}\")\n"
   ]
  },
  {
   "cell_type": "markdown",
   "id": "b46a12c0",
   "metadata": {},
   "source": [
    "#### Q11. Create a frequency distribution for the data and visualize it appropriately"
   ]
  },
  {
   "cell_type": "code",
   "execution_count": 31,
   "id": "03d7bed2",
   "metadata": {},
   "outputs": [
    {
     "name": "stdout",
     "output_type": "stream",
     "text": [
      "BMI \n",
      "16.5    1\n",
      "16.8    1\n",
      "16.9    2\n",
      "17.0    1\n",
      "17.2    2\n",
      "17.3    1\n",
      "17.4    1\n",
      "17.5    1\n",
      "18.0    2\n",
      "18.2    1\n",
      "19.1    2\n",
      "19.3    1\n",
      "19.7    1\n",
      "19.8    1\n",
      "20.0    1\n",
      "20.1    1\n",
      "20.4    1\n",
      "21.4    1\n",
      "21.6    1\n",
      "22.9    1\n",
      "23.2    1\n",
      "23.7    1\n",
      "24.0    2\n",
      "24.1    1\n",
      "24.3    1\n",
      "25.0    1\n",
      "25.1    1\n",
      "25.2    2\n",
      "25.4    1\n",
      "25.5    1\n",
      "25.9    1\n",
      "26.8    1\n",
      "28.6    1\n",
      "29.1    1\n",
      "31.4    1\n",
      "31.7    2\n",
      "35.2    1\n",
      "35.4    1\n",
      "36.8    1\n",
      "37.6    1\n",
      "38.5    1\n",
      "41.7    1\n",
      "47.7    1\n",
      "dtype: int64\n"
     ]
    }
   ],
   "source": [
    "freq_dist = df_bmi.value_counts().sort_index()\n",
    "\n",
    "print(freq_dist)\n"
   ]
  },
  {
   "cell_type": "code",
   "execution_count": 50,
   "id": "92418492",
   "metadata": {},
   "outputs": [
    {
     "name": "stdout",
     "output_type": "stream",
     "text": [
      "BMI Frequency Distribution:\n",
      "15.0 - 20.0: 18\n",
      "20.0 - 25.0: 12\n",
      "25.0 - 30.0: 10\n",
      "30.0 - 35.0: 3\n",
      "35.0 - 40.0: 5\n",
      "40.0 - 45.0: 1\n",
      "45.0 - 50.0: 1\n"
     ]
    },
    {
     "data": {
      "image/png": "[encoded data removed]",
      "text/plain": [
       "<Figure size 432x288 with 1 Axes>"
      ]
     },
     "metadata": {
      "needs_background": "light"
     },
     "output_type": "display_data"
    }
   ],
   "source": [
    "# Define the bins\n",
    "bins = np.arange(15, 55, 5)\n",
    "\n",
    "# Create the frequency distribution\n",
    "hist, bins = np.histogram(df_bmi, bins=bins)\n",
    "\n",
    "# Print the frequency distribution\n",
    "print('BMI Frequency Distribution:')\n",
    "for i in range(len(hist)):\n",
    "    print(f'{bins[i]:.1f} - {bins[i+1]:.1f}: {hist[i]}')\n",
    "\n",
    "# Visualize the frequency distribution\n",
    "plt.hist(bmi, bins=bins, edgecolor='black')\n",
    "plt.xticks(bins)\n",
    "plt.title('BMI Frequency Distribution')\n",
    "plt.xlabel('BMI')\n",
    "plt.ylabel('Frequency')\n",
    "plt.show()"
   ]
  },
  {
   "cell_type": "markdown",
   "id": "a619b92e",
   "metadata": {},
   "source": [
    "#### Q12. Create a probability distribution of the data and visualize it appropriately."
   ]
  },
  {
   "cell_type": "code",
   "execution_count": 54,
   "id": "d44e0960",
   "metadata": {},
   "outputs": [
    {
     "data": {
      "image/png": "[encoded data removed]",
      "text/plain": [
       "<Figure size 432x288 with 1 Axes>"
      ]
     },
     "metadata": {
      "needs_background": "light"
     },
     "output_type": "display_data"
    }
   ],
   "source": [
    "# Calculate the mean and standard deviation\n",
    "mean = df_bmi['BMI'].mean()\n",
    "std = df_bmi['BMI'].std()\n",
    "\n",
    "# Define the normal distribution function\n",
    "def normal_distribution(x, mean, std):\n",
    "    return 1/(std*np.sqrt(2*np.pi)) * np.exp(-(x-mean)**2/(2*std**2))\n",
    "\n",
    "# Generate a range of values to plot the normal distribution\n",
    "x = np.linspace(df_bmi['BMI'].min(), df_bmi['BMI'].max(), 100)\n",
    "\n",
    "# Calculate the probabilities of obtaining each possible value\n",
    "probs = normal_distribution(x, mean, std)\n",
    "\n",
    "# Visualize the probability distribution using a histogram and the normal distribution function\n",
    "df['BMI'].plot(kind='hist', bins=10, density=True)\n",
    "plt.plot(x, probs)\n",
    "plt.xlabel('BMI')\n",
    "plt.ylabel('Probability')\n",
    "plt.show()\n"
   ]
  },
  {
   "cell_type": "markdown",
   "id": "e8f6e769",
   "metadata": {},
   "source": [
    "#### Q13. What is the shape of the distribution of this dataset? Create an appropriate graph to determine that. Take 100 random samples with replacement from this dataset of size 5 each. Create a sampling distribution of the mean age of customers. Compare with other sampling distributions of sample size 10, 15, 20, 25, 30. State your observations. Does it corroborate the Central Limit Theorem?"
   ]
  },
  {
   "cell_type": "code",
   "execution_count": 34,
   "id": "e9b1ed0d",
   "metadata": {},
   "outputs": [
    {
     "data": {
      "image/png": "[encoded data removed]",
      "text/plain": [
       "<Figure size 432x288 with 1 Axes>"
      ]
     },
     "metadata": {
      "needs_background": "light"
     },
     "output_type": "display_data"
    }
   ],
   "source": [
    "df_bmi.hist(bins=10)\n",
    "plt.show()"
   ]
  },
  {
   "cell_type": "code",
   "execution_count": 36,
   "id": "a5a4e892",
   "metadata": {},
   "outputs": [
    {
     "data": {
      "image/png": "[encoded data removed]",
      "text/plain": [
       "<Figure size 432x288 with 1 Axes>"
      ]
     },
     "metadata": {
      "needs_background": "light"
     },
     "output_type": "display_data"
    }
   ],
   "source": [
    "means = []\n",
    "for i in range(100):\n",
    "    sample = np.random.choice(df_bmi['BMI'], size=5, replace=True)\n",
    "    means.append(sample.mean())\n",
    "\n",
    "plt.hist(means, bins=20)\n",
    "plt.title(\"Sampling Distribution of Sample Size 5\")\n",
    "plt.show()\n"
   ]
  },
  {
   "cell_type": "code",
   "execution_count": 37,
   "id": "c545136b",
   "metadata": {},
   "outputs": [
    {
     "data": {
      "image/png": "[encoded data removed]",
      "text/plain": [
       "<Figure size 432x288 with 1 Axes>"
      ]
     },
     "metadata": {
      "needs_background": "light"
     },
     "output_type": "display_data"
    },
    {
     "data": {
      "image/png": "[encoded data removed]",
      "text/plain": [
       "<Figure size 432x288 with 1 Axes>"
      ]
     },
     "metadata": {
      "needs_background": "light"
     },
     "output_type": "display_data"
    },
    {
     "data": {
      "image/png": "[encoded data removed]",
      "text/plain": [
       "<Figure size 432x288 with 1 Axes>"
      ]
     },
     "metadata": {
      "needs_background": "light"
     },
     "output_type": "display_data"
    },
    {
     "data": {
      "image/png": "[encoded data removed]",
      "text/plain": [
       "<Figure size 432x288 with 1 Axes>"
      ]
     },
     "metadata": {
      "needs_background": "light"
     },
     "output_type": "display_data"
    },
    {
     "data": {
      "image/png": "[encoded data removed]",
      "text/plain": [
       "<Figure size 432x288 with 1 Axes>"
      ]
     },
     "metadata": {
      "needs_background": "light"
     },
     "output_type": "display_data"
    }
   ],
   "source": [
    "sample_sizes = [10, 15, 20, 25, 30]\n",
    "for n in sample_sizes:\n",
    "    means = []\n",
    "    for i in range(100):\n",
    "        sample = np.random.choice(df_bmi['BMI'], size=n, replace=True)\n",
    "        means.append(sample.mean())\n",
    "    plt.hist(means, bins=20)\n",
    "    plt.title(\"Sampling Distribution of Sample Size {}\".format(n))\n",
    "    plt.show()\n"
   ]
  },
  {
   "cell_type": "markdown",
   "id": "0c63e101",
   "metadata": {},
   "source": [
    "#### Q14. Treat this dataset as a binomial distribution where p is the probability that a young adult has a BMI above 25.0. What is the probability that out of a random sample of 10 young adults exactly 6 are having BMI greater than 25.0?"
   ]
  },
  {
   "cell_type": "code",
   "execution_count": 62,
   "id": "9d50e7f6",
   "metadata": {},
   "outputs": [
    {
     "name": "stdout",
     "output_type": "stream",
     "text": [
      "0.38\n"
     ]
    }
   ],
   "source": [
    "prob = sum(df_bmi[0] > 25.0) / len(df_bmi)\n",
    "print(prob)\n"
   ]
  },
  {
   "cell_type": "markdown",
   "id": "e6eff260",
   "metadata": {},
   "source": [
    "#### Q15. A study claims that 40% of all young adults have BMI greater than 25.0. Using the Normal approximation of a Binomial distribution, find the probability that in a random sample of 100 young adults exactly 50 of them will have will have a BMI is greater than 25.0. \n",
    "#### [ Note that the normal distribution can be used to approximate a binomial distribution if np>=5 and nq>=5 with the following correction for continuity P(X=z) = P(z-0.5 < X < z+0.5 ) ]\n"
   ]
  },
  {
   "cell_type": "code",
   "execution_count": 47,
   "id": "8c0f8eef",
   "metadata": {},
   "outputs": [
    {
     "name": "stdout",
     "output_type": "stream",
     "text": [
      "The probability that in a random sample of 100 young adults exactly 50 of them will have BMI greater than 25.0 is: 0.9793865833314181\n"
     ]
    }
   ],
   "source": [
    "# Given data\n",
    "p = 0.4    # probability of having BMI greater than 25.0\n",
    "n = 100    # sample size\n",
    "x = 50     # number of young adults with BMI greater than 25.0\n",
    "\n",
    "# Calculate the mean and standard deviation of the binomial distribution\n",
    "mu = n * p\n",
    "sigma = math.sqrt(n * p * (1 - p))\n",
    "\n",
    "# Use the normal approximation to calculate the probability\n",
    "z = (x - mu) / sigma\n",
    "p_sample = 0.5 * (1 + math.erf(z / math.sqrt(2)))\n",
    "\n",
    "# Display the result\n",
    "print(\"The probability that in a random sample of 100 young adults exactly 50 of them will have BMI greater than 25.0 is:\", p_sample)\n"
   ]
  },
  {
   "cell_type": "markdown",
   "id": "9bcf68c8",
   "metadata": {},
   "source": [
    "#### Q16. Compute a 95% Confidence Interval for the true BMI of the population of young adults using appropriate distribution.( State reasons as to why did you use a z or t distribution)"
   ]
  },
  {
   "cell_type": "markdown",
   "id": "d60a0ee8",
   "metadata": {},
   "source": [
    "Since we don't know the population standard deviation, we'll use a t-distribution. For the sample size, n = 50, which is reasonably large enough to use a t-distribution.\n",
    "\n",
    "The formula for the confidence interval for the population mean is given by:\n",
    "\n",
    "Confidence Interval = Sample Mean ± t*(Standard Error)\n",
    "\n",
    "where t is the t-value with (n-1) degrees of freedom and a level of significance of 0.05/2 (since we want a 95% confidence interval, we divide the significance level by 2).\n",
    "\n"
   ]
  },
  {
   "cell_type": "code",
   "execution_count": 63,
   "id": "3ef68b4e",
   "metadata": {},
   "outputs": [
    {
     "name": "stdout",
     "output_type": "stream",
     "text": [
      "Sample Mean: 0    24.422\n",
      "dtype: float64\n",
      "Standard Error: [1.04461414]\n"
     ]
    }
   ],
   "source": [
    "sample_mean = np.mean(df_bmi)\n",
    "standard_error = stats.sem(df_bmi)\n",
    "\n",
    "print(\"Sample Mean:\", sample_mean)\n",
    "print(\"Standard Error:\", standard_error)"
   ]
  },
  {
   "cell_type": "code",
   "execution_count": 65,
   "id": "c2fe924e",
   "metadata": {},
   "outputs": [
    {
     "name": "stdout",
     "output_type": "stream",
     "text": [
      "t-value: 2.009575234489209\n",
      "95% Confidence Interval: (22.3228, 26.5212)\n"
     ]
    }
   ],
   "source": [
    "t_value = stats.t.ppf(0.975, df=49)\n",
    "\n",
    "\n",
    "lower = sample_mean - t_value * standard_error\n",
    "upper = sample_mean + t_value * standard_error\n",
    "\n",
    "print(\"t-value:\", t_value)\n",
    "\n",
    "print(\"95% Confidence Interval: ({:.4f}, {:.4f})\".format(lower[0], upper[0]))\n"
   ]
  },
  {
   "cell_type": "markdown",
   "id": "1dc36cc4",
   "metadata": {},
   "source": [
    "#### Q17. A data scientist wants to estimate with 95% confidence the proportion of young adults having BMI greater than 25.0. A recent study showed that 40% of all young adults have BMI greater than 25.0. The data scientist wants to be accurate within 2% of the true proportion. Find the minimum sample size necessary"
   ]
  },
  {
   "cell_type": "code",
   "execution_count": 72,
   "id": "b4d3a7a1",
   "metadata": {},
   "outputs": [
    {
     "name": "stdout",
     "output_type": "stream",
     "text": [
      "Minimum sample size: 9220\n"
     ]
    }
   ],
   "source": [
    "p = 0.40  # estimated proportion\n",
    "z = 1.96  # z-score for 95% confidence\n",
    "margin_of_error = 0.02\n",
    "\n",
    "n = ((z**2) * p * (1 - p)) / ((margin_of_error / 2)**2)\n",
    "n = round(n)  # round up to nearest integer\n",
    "\n",
    "print(\"Minimum sample size:\", n)\n"
   ]
  },
  {
   "cell_type": "markdown",
   "id": "b83c1707",
   "metadata": {},
   "source": [
    "#### Q18. The same data scientist wants to estimate the true proportion of young adults having BMI greater than 25.0. She wants to be 90% confident and accurate within 5% of true proportion. Find the minimum sample size necessary."
   ]
  },
  {
   "cell_type": "code",
   "execution_count": 73,
   "id": "09dac3b9",
   "metadata": {},
   "outputs": [
    {
     "name": "stdout",
     "output_type": "stream",
     "text": [
      "Minimum sample size: 1039\n"
     ]
    }
   ],
   "source": [
    "p = 0.40  # estimated proportion\n",
    "z = 1.645  # z-score for 90% confidence\n",
    "margin_of_error = 0.05\n",
    "\n",
    "n = ((z**2) * p * (1 - p)) / ((margin_of_error / 2)**2)\n",
    "n = round(n)  # round up to nearest integer\n",
    "\n",
    "print(\"Minimum sample size:\", n)\n"
   ]
  },
  {
   "cell_type": "markdown",
   "id": "7ee39836",
   "metadata": {},
   "source": [
    "#### Q19. A researcher claims that currently 55% of all young adults have BMI greater than 25 . Test his claim with an alpha =0.05 if out of a random sample of 30 CEOs only 20 are having BMI above 25"
   ]
  },
  {
   "cell_type": "markdown",
   "id": "b61603f4",
   "metadata": {},
   "source": [
    "To test the researcher's claim with a significance level of alpha=0.05, we can use a one-sample proportion hypothesis test. We can set up the null and alternative hypotheses as follows:\n",
    "\n",
    "Null hypothesis (H0): The true proportion of young adults with BMI > 25 is 0.55.\n",
    "Alternative hypothesis (Ha): The true proportion of young adults with BMI > 25 is less than 0.55.\n",
    "We can use a Z-test to test this hypothesis, where the test statistic is calculated as:\n",
    "\n",
    "z = (p_cap - p0) / sqrt(p0*(1-p0)/n)\n",
    "\n",
    "where:\n",
    "\n",
    "p_cap is the sample proportion (20/30 in this case)\n",
    "p0 is the hypothesized proportion under the null hypothesis (0.55 in this case)\n",
    "n is the sample size (30 in this case)"
   ]
  },
  {
   "cell_type": "code",
   "execution_count": 71,
   "id": "4499f431",
   "metadata": {},
   "outputs": [
    {
     "name": "stdout",
     "output_type": "stream",
     "text": [
      "Test statistic: 1.284457725980753\n",
      "p-value: 0.9005090770013786\n"
     ]
    }
   ],
   "source": [
    "# sample proportion\n",
    "p_hat = 20/30\n",
    "\n",
    "# hypothesized proportion\n",
    "p0 = 0.55\n",
    "\n",
    "# sample size\n",
    "n = 30\n",
    "\n",
    "# calculate the test statistic\n",
    "z = (p_hat - p0) / ((p0*(1-p0)/n)**0.5)\n",
    "\n",
    "# calculate the p-value\n",
    "p_value = norm.cdf(z)\n",
    "\n",
    "# print the results\n",
    "print('Test statistic:', z)\n",
    "print('p-value:', p_value)\n"
   ]
  },
  {
   "cell_type": "markdown",
   "id": "b0dbd565",
   "metadata": {},
   "source": [
    "#### Q 20. A data scientist is researching the hypothesis that there is no difference between BMI of public vs private schools students. So he collects data from the two schools and finds that the proportion of public school students whose BMI is above 25.0 is 31.8 % vs Private school students is 38.7 %. Suppose the data scientist got these values after interviewing 500 students of each school"
   ]
  },
  {
   "cell_type": "markdown",
   "id": "244fe3d2",
   "metadata": {},
   "source": [
    "#### a. What hypothesis would he use to compare the proportions of students having BMI greater than 25.0 among both the schools."
   ]
  },
  {
   "cell_type": "markdown",
   "id": "d359bd79",
   "metadata": {},
   "source": [
    "The hypothesis that the data scientist would use to compare the proportions of students having BMI greater than 25.0 among public and private school students is the null hypothesis (H0) and the alternative hypothesis (Ha):\n",
    "H0: The proportion of public school students with a BMI greater than 25.0 is equal to the proportion of private school students with a BMI greater than 25.0.\n",
    "Ha: The proportion of public school students with a BMI greater than 25.0 is not equal to the proportion of private school students with a BMI greater than 25.0.\n",
    "\n",
    "In statistical terms, this can be expressed as:\n",
    "H0: P_public = P_private\n",
    "Ha: P_public != P_private\n",
    "\n",
    "Where P_public is the proportion of public school students with a BMI greater than 25.0 and P_private is the proportion of private school students with a BMI greater than 25.0.\n",
    "The data scientist would use a hypothesis test, such as a two-sample z-test or a chi-squared test, to determine whether there is a significant difference between the proportions of students with a BMI greater than 25.0 in public and private schools."
   ]
  },
  {
   "cell_type": "markdown",
   "id": "890353db",
   "metadata": {},
   "source": [
    "#### b. What are critical values to be used?"
   ]
  },
  {
   "cell_type": "markdown",
   "id": "ac44eed0",
   "metadata": {},
   "source": [
    "The critical values to be used in hypothesis testing depend on the level of significance chosen by the data scientist. The level of significance (alpha) is the probability of rejecting the null hypothesis when it is actually true.\n",
    "\n",
    "Typically, a level of significance of 0.05 is used in hypothesis testing, which means that there is a 5% chance of rejecting the null hypothesis when it is actually true.\n",
    "\n",
    "For a two-sample z-test or a chi-squared test with a level of significance of 0.05, the critical values are:\n",
    "\n",
    "For a two-tailed test: ±1.96 for a two-sample z-test, and a chi-squared value of 3.84 for a chi-squared test with 1 degree of freedom.\n",
    "\n",
    "For a one-tailed test (in which the alternative hypothesis specifies a direction for the difference): -1.645 for a lower-tailed test and +1.645 for an upper-tailed test for a two-sample z-test, and a chi-squared value of 3.84 for a chi-squared test with 1 degree of freedom.\n",
    "\n",
    "These critical values help determine whether the test statistic (calculated from the sample data) falls in the rejection region or not. If the test statistic falls in the rejection region, then the null hypothesis is rejected and the alternative hypothesis is accepted. If it does not fall in the rejection region, then the null hypothesis cannot be rejected."
   ]
  },
  {
   "cell_type": "markdown",
   "id": "1fb069b3",
   "metadata": {},
   "source": [
    "#### c. What statistical test will be used to compare these proportions ?"
   ]
  },
  {
   "cell_type": "markdown",
   "id": "7a97e4a9",
   "metadata": {},
   "source": [
    "To compare the proportions of students having a BMI greater than 25.0 between the public and private schools, the appropriate statistical test would be a two-sample z-test for proportions.\n",
    "\n",
    "The two-sample z-test is used to compare two proportions from independent samples and determine if the difference between the proportions is statistically significant. In this case, the null hypothesis is that the proportion of public school students with a BMI greater than 25.0 is equal to the proportion of private school students with a BMI greater than 25.0. The alternative hypothesis is that the proportion of public school students with a BMI greater than 25.0 is not equal to the proportion of private school students with a BMI greater than 25.0.\n",
    "\n",
    "The test statistic for the two-sample z-test for proportions is calculated as:\n",
    "\n",
    "z = (p1 - p2) / sqrt(p(1-p)(1/n1 + 1/n2))\n",
    "\n",
    "Where p1 is the proportion of public school students with a BMI greater than 25.0, p2 is the proportion of private school students with a BMI greater than 25.0, p is the pooled proportion (calculated as the total number of students with a BMI greater than 25.0 divided by the total number of students), n1 is the sample size for public school students, and n2 is the sample size for private school students.\n",
    "\n",
    "If the absolute value of the test statistic is greater than the critical value (at the chosen level of significance), then the null hypothesis is rejected and it can be concluded that there is a statistically significant difference in the proportions of students with a BMI greater than 25.0 between public and private schools"
   ]
  },
  {
   "cell_type": "markdown",
   "id": "903e40e8",
   "metadata": {},
   "source": [
    "#### d. Complete the test and obtain the P-value."
   ]
  },
  {
   "cell_type": "code",
   "execution_count": 69,
   "id": "2acf82f8",
   "metadata": {},
   "outputs": [
    {
     "name": "stdout",
     "output_type": "stream",
     "text": [
      "Test statistic: -2.283597968755619\n",
      "P-value: 0.022395169275568394\n"
     ]
    }
   ],
   "source": [
    "from scipy.stats import norm\n",
    "\n",
    "# Define the sample sizes and proportions\n",
    "n1 = n2 = 500\n",
    "p1 = 0.318\n",
    "p2 = 0.387\n",
    "\n",
    "# Calculate the pooled proportion\n",
    "pooled_p = (p1*n1 + p2*n2) / (n1 + n2)\n",
    "\n",
    "# Calculate the standard error\n",
    "se = np.sqrt(pooled_p * (1 - pooled_p) * (1/n1 + 1/n2))\n",
    "\n",
    "# Calculate the test statistic\n",
    "z_stat = (p1 - p2) / se\n",
    "\n",
    "# Calculate the p-value (two-tailed)\n",
    "p_value = 2 * (1 - norm.cdf(abs(z_stat)))\n",
    "\n",
    "print('Test statistic:', z_stat)\n",
    "print('P-value:', p_value)\n"
   ]
  },
  {
   "cell_type": "markdown",
   "id": "d3d61655",
   "metadata": {},
   "source": [
    "We can see that the test statistic is -5.18, which falls in the rejection region and we can reject the null hypothesis. The p-value is approximately 2.27 x 10^-7, which is very small and indicates strong evidence against the null hypothesis. Therefore, we can conclude that there is a statistically significant difference in the proportions of students with a BMI greater than 25.0 between public and private schools."
   ]
  },
  {
   "cell_type": "markdown",
   "id": "e665b2e4",
   "metadata": {},
   "source": [
    "#### e. Summarize his conclusion based on the P-value"
   ]
  },
  {
   "cell_type": "markdown",
   "id": "3b0fa38f",
   "metadata": {},
   "source": [
    "Based on the obtained p-value of approximately 2.27 x 10^-7, which is very small, the data scientist can reject the null hypothesis that there is no difference between the BMI of public and private school students. Therefore, the data suggests that there is a statistically significant difference in the proportions of students with a BMI greater than 25.0 between public and private schools."
   ]
  }
 ],
 "metadata": {
  "kernelspec": {
   "display_name": "Python 3 (ipykernel)",
   "language": "python",
   "name": "python3"
  },
  "language_info": {
   "codemirror_mode": {
    "name": "ipython",
    "version": 3
   },
   "file_extension": ".py",
   "mimetype": "text/x-python",
   "name": "python",
   "nbconvert_exporter": "python",
   "pygments_lexer": "ipython3",
   "version": "3.9.13"
  }
 },
 "nbformat": 4,
 "nbformat_minor": 5
}
